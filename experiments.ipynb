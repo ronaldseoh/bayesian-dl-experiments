{
 "cells": [
  {
   "cell_type": "code",
   "execution_count": 1,
   "metadata": {
    "colab": {
     "base_uri": "https://localhost:8080/",
     "height": 156
    },
    "colab_type": "code",
    "executionInfo": {
     "elapsed": 23968,
     "status": "ok",
     "timestamp": 1572888905019,
     "user": {
      "displayName": "Ronald Seoh",
      "photoUrl": "",
      "userId": "10284188050297676522"
     },
     "user_tz": 300
    },
    "id": "i3PGAUFJVFHI",
    "outputId": "52d5f23c-29be-47db-a142-d9a9e056f1b1"
   },
   "outputs": [],
   "source": [
    "# Google Colab-only setup. No need to run this cell in other environments.\n",
    "use_colab = False\n",
    "\n",
    "if use_colab:\n",
    "    # Mount my Google Drive root folder\n",
    "    from google.colab import drive\n",
    "    drive.mount('/content/drive')\n",
    "\n",
    "    # cd to bayesian-dl-experiments directory\n",
    "    %cd 'drive/My Drive/Colab Notebooks/bayesian-dl-experiments'\n",
    "    !ls"
   ]
  },
  {
   "cell_type": "markdown",
   "metadata": {
    "colab_type": "text",
    "id": "Bka_bK83VFHh"
   },
   "source": [
    "## Experiment Setup"
   ]
  },
  {
   "cell_type": "code",
   "execution_count": 2,
   "metadata": {
    "colab": {},
    "colab_type": "code",
    "id": "pHbfpytEVFHu"
   },
   "outputs": [],
   "source": [
    "import torch\n",
    "import numpy as np\n",
    "\n",
    "# IPython reloading magic\n",
    "%load_ext autoreload\n",
    "%autoreload 2\n",
    "\n",
    "# Random seeds\n",
    "# Based on https://pytorch.org/docs/stable/notes/randomness.html\n",
    "torch.manual_seed(682)\n",
    "np.random.seed(682)\n",
    "\n",
    "# torch.device / CUDA Setup\n",
    "use_cuda = True\n",
    "\n",
    "if use_cuda and torch.cuda.is_available():\n",
    "    torch_device = torch.device('cuda')\n",
    "    torch.backends.cudnn.deterministic = True\n",
    "    torch.backends.cudnn.benchmark = False\n",
    "else:\n",
    "    torch_device = torch.device('cpu')\n",
    "\n",
    "# Dataset to use\n",
    "dataset_name = 'yacht'\n",
    "\n",
    "# Training set size\n",
    "dataset_train_size = 0.8\n",
    "\n",
    "# L2 regularization strength\n",
    "reg_strength = 0.01\n",
    "\n",
    "# Epochs\n",
    "n_epochs = 10\n",
    "\n",
    "# Data batch sizes\n",
    "n_training_batch = 10\n",
    "n_test_batch = 10\n",
    "\n",
    "# Number of test predictions (for each data point)\n",
    "n_predictions = 10000"
   ]
  },
  {
   "cell_type": "markdown",
   "metadata": {
    "colab_type": "text",
    "id": "sZwe_f-yVFIf"
   },
   "source": [
    "## Prepare data"
   ]
  },
  {
   "cell_type": "markdown",
   "metadata": {
    "colab_type": "text",
    "id": "eEfdrHcOVFIj"
   },
   "source": [
    "### Get the data as a torch Dataset object"
   ]
  },
  {
   "cell_type": "code",
   "execution_count": 3,
   "metadata": {
    "colab": {
     "base_uri": "https://localhost:8080/",
     "height": 51
    },
    "colab_type": "code",
    "executionInfo": {
     "elapsed": 29318,
     "status": "ok",
     "timestamp": 1572888910387,
     "user": {
      "displayName": "Ronald Seoh",
      "photoUrl": "",
      "userId": "10284188050297676522"
     },
     "user_tz": 300
    },
    "id": "5u5qU-9JVFIr",
    "outputId": "53f78ffd-3926-4103-d351-872d40b045d3"
   },
   "outputs": [
    {
     "name": "stdout",
     "output_type": "stream",
     "text": [
      "Using downloaded and verified file: ./datasets_files/yacht/yacht_hydrodynamics.data\n",
      "dataset size = torch.Size([308, 7])\n"
     ]
    }
   ],
   "source": [
    "from ronald_bdl import datasets\n",
    "\n",
    "if dataset_name == 'MNIST':\n",
    "    dataset = datasets.MNIST(root_dir='./datasets_files', transform=None, download=True)\n",
    "else:\n",
    "    dataset = datasets.UCIDatasets(dataset_name, root_dir='./datasets_files', transform=None, download=True)\n",
    "\n",
    "# Print the size of the dataset\n",
    "print(\"dataset size = \" + str(dataset.data.shape))"
   ]
  },
  {
   "cell_type": "markdown",
   "metadata": {
    "colab_type": "text",
    "id": "gp8XFM6CVFJL"
   },
   "source": [
    "### Split into training/test set using torch's DataLoader"
   ]
  },
  {
   "cell_type": "code",
   "execution_count": 4,
   "metadata": {
    "colab": {},
    "colab_type": "code",
    "id": "htdrv66ZVFJO"
   },
   "outputs": [],
   "source": [
    "from torch.utils.data import random_split, DataLoader\n",
    "\n",
    "train_size = int(dataset_train_size * len(dataset))\n",
    "test_size = len(dataset) - train_size\n",
    "\n",
    "train, test = random_split(dataset, lengths=[train_size, test_size])\n",
    "\n",
    "train_loader = DataLoader(train, batch_size=n_training_batch)\n",
    "test_loader = DataLoader(test, batch_size=n_test_batch)"
   ]
  },
  {
   "cell_type": "markdown",
   "metadata": {
    "colab_type": "text",
    "id": "LaasFWpqVFJ1"
   },
   "source": [
    "## Define network"
   ]
  },
  {
   "cell_type": "code",
   "execution_count": 5,
   "metadata": {
    "colab": {
     "base_uri": "https://localhost:8080/",
     "height": 153
    },
    "colab_type": "code",
    "executionInfo": {
     "elapsed": 36104,
     "status": "ok",
     "timestamp": 1572888917189,
     "user": {
      "displayName": "Ronald Seoh",
      "photoUrl": "",
      "userId": "10284188050297676522"
     },
     "user_tz": 300
    },
    "id": "gAqkGtg7VFJ9",
    "outputId": "21d0a1ad-457c-485d-c11b-d95dac89a385"
   },
   "outputs": [
    {
     "name": "stdout",
     "output_type": "stream",
     "text": [
      "FCNetMCDropout(\n",
      "  (input): Linear(in_features=6, out_features=100, bias=True)\n",
      "  (hidden_layers): ModuleList(\n",
      "    (0): Linear(in_features=100, out_features=100, bias=True)\n",
      "    (1): Linear(in_features=100, out_features=100, bias=True)\n",
      "  )\n",
      "  (output): Linear(in_features=100, out_features=1, bias=True)\n",
      ")\n"
     ]
    }
   ],
   "source": [
    "from ronald_bdl import models\n",
    "\n",
    "network = models.FCNetMCDropout(\n",
    "    input_dim=len(dataset.features), \n",
    "    output_dim=len(dataset.targets),\n",
    "    hidden_dim=100,\n",
    "    n_hidden=2,\n",
    "    dropout_rate=0.01,\n",
    ")\n",
    "\n",
    "# Send the whole model to the selected torch.device\n",
    "network.to(torch_device)\n",
    "\n",
    "# Print the network structure\n",
    "print(network)"
   ]
  },
  {
   "cell_type": "markdown",
   "metadata": {
    "colab_type": "text",
    "id": "1PpzPMI8VFKE"
   },
   "source": [
    "## Train the network"
   ]
  },
  {
   "cell_type": "markdown",
   "metadata": {
    "colab_type": "text",
    "id": "DuTnXABzVFKI"
   },
   "source": [
    "### Setup optimizer"
   ]
  },
  {
   "cell_type": "code",
   "execution_count": 6,
   "metadata": {
    "colab": {},
    "colab_type": "code",
    "id": "p19qFgSAVFKS"
   },
   "outputs": [],
   "source": [
    "from torch import nn, optim\n",
    "\n",
    "# Mean Squared Error for loss function to minimize\n",
    "objective = nn.MSELoss()\n",
    "\n",
    "# Adam optimizer\n",
    "# https://pytorch.org/docs/stable/optim.html?highlight=adam#torch.optim.Adam\n",
    "# NOTE: Need to set L2 regularization from here\n",
    "optimizer = optim.Adam(\n",
    "    network.parameters(),\n",
    "    lr=0.01, \n",
    "    weight_decay=reg_strength # L2 regularization\n",
    ")"
   ]
  },
  {
   "cell_type": "markdown",
   "metadata": {
    "colab_type": "text",
    "id": "Jc7Td1h1VFKb"
   },
   "source": [
    "### Run the optimizer"
   ]
  },
  {
   "cell_type": "code",
   "execution_count": 7,
   "metadata": {
    "colab": {
     "base_uri": "https://localhost:8080/",
     "height": 187
    },
    "colab_type": "code",
    "executionInfo": {
     "elapsed": 38058,
     "status": "ok",
     "timestamp": 1572888919158,
     "user": {
      "displayName": "Ronald Seoh",
      "photoUrl": "",
      "userId": "10284188050297676522"
     },
     "user_tz": 300
    },
    "id": "m4kavCiTVFKf",
    "outputId": "f0642c31-f41f-4cc3-cf7f-22a496b86861",
    "scrolled": true
   },
   "outputs": [
    {
     "name": "stdout",
     "output_type": "stream",
     "text": [
      "Running epoch 0\n",
      "Running epoch 1\n",
      "Running epoch 2\n",
      "Running epoch 3\n",
      "Running epoch 4\n",
      "Running epoch 5\n",
      "Running epoch 6\n",
      "Running epoch 7\n",
      "Running epoch 8\n",
      "Running epoch 9\n"
     ]
    }
   ],
   "source": [
    "# Partially adapted from https://pytorch.org/tutorials/beginner/blitz/cifar10_tutorial.html\n",
    "for epoch in range(n_epochs): # loop over the dataset multiple times\n",
    "\n",
    "    print(\"Running epoch \" + str(epoch))\n",
    "\n",
    "    for i, data in enumerate(train_loader):\n",
    "        # get the inputs; data is a list of [inputs, labels]\n",
    "        inputs, targets = data\n",
    "\n",
    "        # Store the batch to torch_device's memory\n",
    "        inputs = inputs.to(torch_device)\n",
    "        targets = targets.to(torch_device)\n",
    "\n",
    "        # zero the parameter gradients\n",
    "        optimizer.zero_grad()\n",
    "\n",
    "        # forward + backward + optimize\n",
    "        outputs = network(inputs)\n",
    "\n",
    "        loss = objective(outputs, targets)\n",
    "        loss.backward()\n",
    "\n",
    "        optimizer.step()"
   ]
  },
  {
   "cell_type": "markdown",
   "metadata": {
    "colab_type": "text",
    "id": "WH5LNjV4VFKo"
   },
   "source": [
    "## Make predictions"
   ]
  },
  {
   "cell_type": "code",
   "execution_count": 8,
   "metadata": {
    "colab": {
     "base_uri": "https://localhost:8080/",
     "height": 1000
    },
    "colab_type": "code",
    "executionInfo": {
     "elapsed": 331714,
     "status": "ok",
     "timestamp": 1572889212824,
     "user": {
      "displayName": "Ronald Seoh",
      "photoUrl": "",
      "userId": "10284188050297676522"
     },
     "user_tz": 300
    },
    "id": "-6oPJUIKVFKq",
    "outputId": "205c7ef7-27ce-4ac8-a33f-26ab7c06807c",
    "scrolled": false
   },
   "outputs": [
    {
     "name": "stdout",
     "output_type": "stream",
     "text": [
      "Test 0\n",
      "Mean = tensor([[ 6.2689],\n",
      "        [ 3.2416],\n",
      "        [ 2.2282],\n",
      "        [10.2802],\n",
      "        [ 1.9485],\n",
      "        [ 0.6049],\n",
      "        [ 8.8386],\n",
      "        [17.6784],\n",
      "        [ 3.8787],\n",
      "        [14.1831]])\n",
      "Variance = tensor([[0.5864],\n",
      "        [0.3153],\n",
      "        [0.1435],\n",
      "        [0.9196],\n",
      "        [0.0756],\n",
      "        [0.0020],\n",
      "        [0.6851],\n",
      "        [1.4885],\n",
      "        [0.3241],\n",
      "        [1.0319]])\n",
      "rmse = tensor(11.0499)\n",
      "test_ll = tensor(-3.8261)\n",
      "\n",
      "Test 1\n",
      "Mean = tensor([[ 1.0782],\n",
      "        [11.1617],\n",
      "        [ 1.4636],\n",
      "        [ 1.6507],\n",
      "        [ 0.6837],\n",
      "        [ 0.5707],\n",
      "        [15.4054],\n",
      "        [10.1735],\n",
      "        [ 2.3291],\n",
      "        [10.9230]])\n",
      "Variance = tensor([[1.6047e-02],\n",
      "        [9.6459e-01],\n",
      "        [4.8819e-02],\n",
      "        [6.2518e-02],\n",
      "        [3.8455e-03],\n",
      "        [1.0750e-04],\n",
      "        [1.0293e+00],\n",
      "        [1.0077e+00],\n",
      "        [2.2047e-01],\n",
      "        [1.2141e+00]])\n",
      "rmse = tensor(3.7845)\n",
      "test_ll = tensor(-3.2946)\n",
      "\n",
      "Test 2\n",
      "Mean = tensor([[ 3.2637],\n",
      "        [ 7.0125],\n",
      "        [20.6801],\n",
      "        [29.2695],\n",
      "        [ 1.0607],\n",
      "        [ 2.1255],\n",
      "        [ 0.5711],\n",
      "        [ 0.7370],\n",
      "        [13.0434],\n",
      "        [ 0.7992]])\n",
      "Variance = tensor([[3.5840e-01],\n",
      "        [5.1551e-01],\n",
      "        [1.6864e+00],\n",
      "        [2.1619e+00],\n",
      "        [1.7932e-02],\n",
      "        [1.0080e-01],\n",
      "        [1.3399e-04],\n",
      "        [5.7267e-03],\n",
      "        [1.0717e+00],\n",
      "        [4.6413e-03]])\n",
      "rmse = tensor(7.8037)\n",
      "test_ll = tensor(-3.5231)\n",
      "\n",
      "Test 3\n",
      "Mean = tensor([[24.4644],\n",
      "        [13.0386],\n",
      "        [ 0.5692],\n",
      "        [10.8903],\n",
      "        [ 1.1788],\n",
      "        [23.3619],\n",
      "        [ 2.2183],\n",
      "        [ 1.1484],\n",
      "        [ 0.6308],\n",
      "        [12.0170]])\n",
      "Variance = tensor([[2.0210e+00],\n",
      "        [1.1256e+00],\n",
      "        [1.1418e-04],\n",
      "        [9.2233e-01],\n",
      "        [2.6453e-02],\n",
      "        [2.3658e+00],\n",
      "        [9.9483e-02],\n",
      "        [1.8323e-02],\n",
      "        [2.2604e-03],\n",
      "        [1.1501e+00]])\n",
      "rmse = tensor(2.4511)\n",
      "test_ll = tensor(-3.2550)\n",
      "\n",
      "Test 4\n",
      "Mean = tensor([[ 8.1530],\n",
      "        [ 1.2211],\n",
      "        [ 4.1804],\n",
      "        [ 6.7943],\n",
      "        [ 1.6114],\n",
      "        [20.0302],\n",
      "        [ 1.7717],\n",
      "        [ 0.6062],\n",
      "        [ 0.9601],\n",
      "        [22.6792]])\n",
      "Variance = tensor([[9.7549e-01],\n",
      "        [4.8494e-02],\n",
      "        [5.9532e-01],\n",
      "        [6.9841e-01],\n",
      "        [5.8967e-02],\n",
      "        [1.7587e+00],\n",
      "        [6.5907e-02],\n",
      "        [1.5662e-03],\n",
      "        [1.5727e-02],\n",
      "        [2.3813e+00]])\n",
      "rmse = tensor(4.6932)\n",
      "test_ll = tensor(-3.3330)\n",
      "\n",
      "Test 5\n",
      "Mean = tensor([[ 4.8464],\n",
      "        [18.6515],\n",
      "        [ 0.5685],\n",
      "        [18.8707],\n",
      "        [ 0.5748],\n",
      "        [32.1671],\n",
      "        [24.6728],\n",
      "        [ 3.3360],\n",
      "        [ 1.0616],\n",
      "        [ 5.2826]])\n",
      "Variance = tensor([[5.5310e-01],\n",
      "        [1.3795e+00],\n",
      "        [1.0937e-04],\n",
      "        [1.5798e+00],\n",
      "        [2.6153e-04],\n",
      "        [3.3114e+00],\n",
      "        [2.1774e+00],\n",
      "        [2.5976e-01],\n",
      "        [1.2049e-02],\n",
      "        [7.6698e-01]])\n",
      "rmse = tensor(15.2436)\n",
      "test_ll = tensor(-4.3642)\n",
      "\n",
      "Test 6\n",
      "Mean = tensor([[ 0.6929],\n",
      "        [20.5458]])\n",
      "Variance = tensor([[0.0025],\n",
      "        [1.8612]])\n",
      "rmse = tensor(0.3866)\n",
      "test_ll = tensor(-3.2267)\n",
      "\n"
     ]
    }
   ],
   "source": [
    "for i, data in enumerate(test_loader):\n",
    "    # Get the test data\n",
    "    inputs, targets = data\n",
    "\n",
    "    # Store the batch to torch_device's memory\n",
    "    inputs = inputs.to(torch_device)\n",
    "    targets = targets.to(torch_device)\n",
    "    \n",
    "    predictions, mean, var, metrics = network.mc_predict(inputs, n_predictions,\n",
    "                                                         y_test=targets, reg_strength=reg_strength)\n",
    "\n",
    "    print(\"Test \" + str(i))\n",
    "    print(\"Mean = \" + str(mean))\n",
    "    print(\"Variance = \" + str(var))\n",
    "    \n",
    "    # Print additional metrics\n",
    "    if len(metrics) > 0:\n",
    "        for key, value in metrics.items():\n",
    "            print(str(key) + \" = \" + str(value))\n",
    "    print()"
   ]
  },
  {
   "cell_type": "code",
   "execution_count": null,
   "metadata": {
    "colab": {},
    "colab_type": "code",
    "id": "PB4HFH9MVFK3"
   },
   "outputs": [],
   "source": []
  }
 ],
 "metadata": {
  "accelerator": "GPU",
  "colab": {
   "collapsed_sections": [],
   "name": "experiments.ipynb",
   "provenance": []
  },
  "kernelspec": {
   "display_name": "Python 3",
   "language": "python",
   "name": "python3"
  },
  "language_info": {
   "codemirror_mode": {
    "name": "ipython",
    "version": 3
   },
   "file_extension": ".py",
   "mimetype": "text/x-python",
   "name": "python",
   "nbconvert_exporter": "python",
   "pygments_lexer": "ipython3",
   "version": "3.6.8"
  }
 },
 "nbformat": 4,
 "nbformat_minor": 1
}
