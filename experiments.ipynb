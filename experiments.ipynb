{
 "cells": [
  {
   "cell_type": "code",
   "execution_count": 1,
   "metadata": {
    "colab": {
     "base_uri": "https://localhost:8080/",
     "height": 69
    },
    "colab_type": "code",
    "executionInfo": {
     "elapsed": 2375,
     "status": "ok",
     "timestamp": 1572820613919,
     "user": {
      "displayName": "Ronald Seoh",
      "photoUrl": "",
      "userId": "10284188050297676522"
     },
     "user_tz": 300
    },
    "id": "i3PGAUFJVFHI",
    "outputId": "d4cc613d-28c1-4cb6-d5e2-d805224bfe20"
   },
   "outputs": [
    {
     "name": "stdout",
     "output_type": "stream",
     "text": [
      "Drive already mounted at /content/drive; to attempt to forcibly remount, call drive.mount(\"/content/drive\", force_remount=True).\n",
      "/content/drive/My Drive/Colab Notebooks/bayesian-dl-experiments\n",
      "datasets_files\texperiments.ipynb  LICENSE  README.md  ronald_bdl\n"
     ]
    }
   ],
   "source": [
    "# Google Colab-only setup. No need to run this cell in other environments.\n",
    " \n",
    "# Mount my Google Drive root folder\n",
    "from google.colab import drive\n",
    "drive.mount('/content/drive')\n",
    "\n",
    "# cd to bayesian-dl-experiments directory\n",
    "%cd 'drive/My Drive/Colab Notebooks/bayesian-dl-experiments'\n",
    "!ls"
   ]
  },
  {
   "cell_type": "markdown",
   "metadata": {
    "colab_type": "text",
    "id": "Bka_bK83VFHh"
   },
   "source": [
    "## Experiment Setup"
   ]
  },
  {
   "cell_type": "code",
   "execution_count": 0,
   "metadata": {
    "colab": {},
    "colab_type": "code",
    "id": "pHbfpytEVFHu"
   },
   "outputs": [],
   "source": [
    "import torch\n",
    "import numpy as np\n",
    "\n",
    "# Random seeds\n",
    "# Based on https://pytorch.org/docs/stable/notes/randomness.html\n",
    "torch.manual_seed(682)\n",
    "np.random.seed(682)\n",
    "\n",
    "# torch.device / CUDA Setup\n",
    "use_cuda = True\n",
    "\n",
    "if use_cuda and torch.cuda.is_available():\n",
    "    torch_device = torch.device('cuda')\n",
    "    torch.backends.cudnn.deterministic = True\n",
    "    torch.backends.cudnn.benchmark = False\n",
    "else:\n",
    "    torch_device = torch.device('cpu')\n",
    "\n",
    "# Dataset to use\n",
    "dataset_name = 'yacht'\n",
    "\n",
    "# Training set size\n",
    "dataset_train_size = 0.8\n",
    "\n",
    "# Epochs\n",
    "n_epochs = 10"
   ]
  },
  {
   "cell_type": "markdown",
   "metadata": {
    "colab_type": "text",
    "id": "sZwe_f-yVFIf"
   },
   "source": [
    "## Prepare data"
   ]
  },
  {
   "cell_type": "markdown",
   "metadata": {
    "colab_type": "text",
    "id": "eEfdrHcOVFIj"
   },
   "source": [
    "### Get the data as a torch Dataset object"
   ]
  },
  {
   "cell_type": "code",
   "execution_count": 3,
   "metadata": {
    "colab": {
     "base_uri": "https://localhost:8080/",
     "height": 52
    },
    "colab_type": "code",
    "executionInfo": {
     "elapsed": 2844,
     "status": "ok",
     "timestamp": 1572820614432,
     "user": {
      "displayName": "Ronald Seoh",
      "photoUrl": "",
      "userId": "10284188050297676522"
     },
     "user_tz": 300
    },
    "id": "5u5qU-9JVFIr",
    "outputId": "151297d1-6314-4198-b9b0-fd11cd54c275"
   },
   "outputs": [
    {
     "name": "stdout",
     "output_type": "stream",
     "text": [
      "Using downloaded and verified file: ./datasets_files/yacht/yacht_hydrodynamics.data\n",
      "dataset sizetorch.Size([308, 7])\n"
     ]
    }
   ],
   "source": [
    "from ronald_bdl import datasets\n",
    "\n",
    "if dataset_name == 'MNIST':\n",
    "    dataset = datasets.MNIST(root_dir='./datasets_files', transform=None, download=True)\n",
    "else:\n",
    "    dataset = datasets.UCIDatasets(dataset_name, root_dir='./datasets_files', transform=None, download=True)\n",
    "\n",
    "# Print the size of the dataset\n",
    "print(\"dataset size\" + str(dataset.data.shape))"
   ]
  },
  {
   "cell_type": "markdown",
   "metadata": {
    "colab_type": "text",
    "id": "gp8XFM6CVFJL"
   },
   "source": [
    "### Split into training/test set using torch's DataLoader"
   ]
  },
  {
   "cell_type": "code",
   "execution_count": 0,
   "metadata": {
    "colab": {},
    "colab_type": "code",
    "id": "htdrv66ZVFJO"
   },
   "outputs": [],
   "source": [
    "from torch.utils.data import random_split, DataLoader\n",
    "\n",
    "train_size = int(dataset_train_size * len(dataset))\n",
    "test_size = len(dataset) - train_size\n",
    "\n",
    "train, test = random_split(dataset, lengths=[train_size, test_size])\n",
    "\n",
    "train_loader = DataLoader(train)\n",
    "test_loader = DataLoader(test)"
   ]
  },
  {
   "cell_type": "markdown",
   "metadata": {
    "colab_type": "text",
    "id": "LaasFWpqVFJ1"
   },
   "source": [
    "## Define network"
   ]
  },
  {
   "cell_type": "code",
   "execution_count": 5,
   "metadata": {
    "colab": {
     "base_uri": "https://localhost:8080/",
     "height": 156
    },
    "colab_type": "code",
    "executionInfo": {
     "elapsed": 5281,
     "status": "ok",
     "timestamp": 1572820616903,
     "user": {
      "displayName": "Ronald Seoh",
      "photoUrl": "",
      "userId": "10284188050297676522"
     },
     "user_tz": 300
    },
    "id": "gAqkGtg7VFJ9",
    "outputId": "bb6517d4-4b63-4976-cda6-21f712f6e2f6"
   },
   "outputs": [
    {
     "name": "stdout",
     "output_type": "stream",
     "text": [
      "FCNetMCDropout(\n",
      "  (input): Linear(in_features=6, out_features=100, bias=True)\n",
      "  (hidden_layers): ModuleList(\n",
      "    (0): Linear(in_features=100, out_features=100, bias=True)\n",
      "    (1): Linear(in_features=100, out_features=100, bias=True)\n",
      "  )\n",
      "  (output): Linear(in_features=100, out_features=1, bias=True)\n",
      ")\n"
     ]
    }
   ],
   "source": [
    "from ronald_bdl import models\n",
    "\n",
    "network = models.FCNetMCDropout(\n",
    "    input_dim=len(dataset.features), \n",
    "    output_dim=len(dataset.targets),\n",
    "    hidden_dim=100,\n",
    "    n_hidden=2,\n",
    "    n_predictions=10000,\n",
    "    dropout_rate=0.01,\n",
    ")\n",
    "\n",
    "# Send the whole model to the selected torch.device\n",
    "network.to(torch_device)\n",
    "\n",
    "# Print the network structure\n",
    "print(network)"
   ]
  },
  {
   "cell_type": "markdown",
   "metadata": {
    "colab_type": "text",
    "id": "1PpzPMI8VFKE"
   },
   "source": [
    "## Train the network"
   ]
  },
  {
   "cell_type": "markdown",
   "metadata": {
    "colab_type": "text",
    "id": "DuTnXABzVFKI"
   },
   "source": [
    "### Setup optimizer"
   ]
  },
  {
   "cell_type": "code",
   "execution_count": 0,
   "metadata": {
    "colab": {},
    "colab_type": "code",
    "id": "p19qFgSAVFKS"
   },
   "outputs": [],
   "source": [
    "from torch import nn, optim\n",
    "\n",
    "objective = nn.MSELoss()\n",
    "optimizer = optim.Adam(network.parameters(), lr=0.01)"
   ]
  },
  {
   "cell_type": "markdown",
   "metadata": {
    "colab_type": "text",
    "id": "Jc7Td1h1VFKb"
   },
   "source": [
    "### Run the optimizer"
   ]
  },
  {
   "cell_type": "code",
   "execution_count": 7,
   "metadata": {
    "colab": {
     "base_uri": "https://localhost:8080/",
     "height": 191
    },
    "colab_type": "code",
    "executionInfo": {
     "elapsed": 12924,
     "status": "ok",
     "timestamp": 1572820624581,
     "user": {
      "displayName": "Ronald Seoh",
      "photoUrl": "",
      "userId": "10284188050297676522"
     },
     "user_tz": 300
    },
    "id": "m4kavCiTVFKf",
    "outputId": "3f8e742a-1d66-4b99-eea3-ae6324cea3a7",
    "scrolled": true
   },
   "outputs": [
    {
     "name": "stdout",
     "output_type": "stream",
     "text": [
      "Running epoch 0\n",
      "Running epoch 1\n",
      "Running epoch 2\n",
      "Running epoch 3\n",
      "Running epoch 4\n",
      "Running epoch 5\n",
      "Running epoch 6\n",
      "Running epoch 7\n",
      "Running epoch 8\n",
      "Running epoch 9\n"
     ]
    }
   ],
   "source": [
    "# Partially adapted from https://pytorch.org/tutorials/beginner/blitz/cifar10_tutorial.html\n",
    "for epoch in range(n_epochs): # loop over the dataset multiple times\n",
    "\n",
    "    print(\"Running epoch \" + str(epoch))\n",
    "\n",
    "    for i, data in enumerate(train_loader):\n",
    "        # get the inputs; data is a list of [inputs, labels]\n",
    "        inputs, targets = data\n",
    "\n",
    "        # Store the batch to torch_device's memory\n",
    "        inputs = inputs.to(torch_device)\n",
    "        targets = targets.to(torch_device)\n",
    "\n",
    "        # zero the parameter gradients\n",
    "        optimizer.zero_grad()\n",
    "\n",
    "        # forward + backward + optimize\n",
    "        outputs = network(inputs)\n",
    "\n",
    "        loss = objective(outputs, targets)\n",
    "        loss.backward()\n",
    "\n",
    "        optimizer.step()"
   ]
  },
  {
   "cell_type": "markdown",
   "metadata": {
    "colab_type": "text",
    "id": "WH5LNjV4VFKo"
   },
   "source": [
    "## Make predictions"
   ]
  },
  {
   "cell_type": "code",
   "execution_count": 10,
   "metadata": {
    "colab": {
     "base_uri": "https://localhost:8080/",
     "height": 1000
    },
    "colab_type": "code",
    "executionInfo": {
     "elapsed": 293103,
     "status": "ok",
     "timestamp": 1572821049548,
     "user": {
      "displayName": "Ronald Seoh",
      "photoUrl": "",
      "userId": "10284188050297676522"
     },
     "user_tz": 300
    },
    "id": "-6oPJUIKVFKq",
    "outputId": "29cfd241-3025-453f-b2ee-5ce00b8cc528"
   },
   "outputs": [
    {
     "name": "stdout",
     "output_type": "stream",
     "text": [
      "Test 0\n",
      "Non-MC prediction = tensor([[2.4817]], device='cuda:0', grad_fn=<AddmmBackward>)\n",
      "Mean = tensor([2.4468], device='cuda:0', grad_fn=<MeanBackward1>)\n",
      "Variance = tensor([0.1143], device='cuda:0', grad_fn=<VarBackward1>)\n",
      "\n",
      "Test 1\n",
      "Non-MC prediction = tensor([[0.9553]], device='cuda:0', grad_fn=<AddmmBackward>)\n",
      "Mean = tensor([0.9313], device='cuda:0', grad_fn=<MeanBackward1>)\n",
      "Variance = tensor([0.0109], device='cuda:0', grad_fn=<VarBackward1>)\n",
      "\n",
      "Test 2\n",
      "Non-MC prediction = tensor([[0.9219]], device='cuda:0', grad_fn=<AddmmBackward>)\n",
      "Mean = tensor([0.9316], device='cuda:0', grad_fn=<MeanBackward1>)\n",
      "Variance = tensor([0.0090], device='cuda:0', grad_fn=<VarBackward1>)\n",
      "\n",
      "Test 3\n",
      "Non-MC prediction = tensor([[4.7786]], device='cuda:0', grad_fn=<AddmmBackward>)\n",
      "Mean = tensor([4.6664], device='cuda:0', grad_fn=<MeanBackward1>)\n",
      "Variance = tensor([0.2599], device='cuda:0', grad_fn=<VarBackward1>)\n",
      "\n",
      "Test 4\n",
      "Non-MC prediction = tensor([[0.9221]], device='cuda:0', grad_fn=<AddmmBackward>)\n",
      "Mean = tensor([0.9292], device='cuda:0', grad_fn=<MeanBackward1>)\n",
      "Variance = tensor([0.0053], device='cuda:0', grad_fn=<VarBackward1>)\n",
      "\n",
      "Test 5\n",
      "Non-MC prediction = tensor([[0.9221]], device='cuda:0', grad_fn=<AddmmBackward>)\n",
      "Mean = tensor([0.9289], device='cuda:0', grad_fn=<MeanBackward1>)\n",
      "Variance = tensor([0.0051], device='cuda:0', grad_fn=<VarBackward1>)\n",
      "\n",
      "Test 6\n",
      "Non-MC prediction = tensor([[4.2707]], device='cuda:0', grad_fn=<AddmmBackward>)\n",
      "Mean = tensor([4.1740], device='cuda:0', grad_fn=<MeanBackward1>)\n",
      "Variance = tensor([0.2628], device='cuda:0', grad_fn=<VarBackward1>)\n",
      "\n",
      "Test 7\n",
      "Non-MC prediction = tensor([[18.6668]], device='cuda:0', grad_fn=<AddmmBackward>)\n",
      "Mean = tensor([18.0807], device='cuda:0', grad_fn=<MeanBackward1>)\n",
      "Variance = tensor([3.1693], device='cuda:0', grad_fn=<VarBackward1>)\n",
      "\n",
      "Test 8\n",
      "Non-MC prediction = tensor([[1.1350]], device='cuda:0', grad_fn=<AddmmBackward>)\n",
      "Mean = tensor([1.1447], device='cuda:0', grad_fn=<MeanBackward1>)\n",
      "Variance = tensor([0.0385], device='cuda:0', grad_fn=<VarBackward1>)\n",
      "\n",
      "Test 9\n",
      "Non-MC prediction = tensor([[10.1546]], device='cuda:0', grad_fn=<AddmmBackward>)\n",
      "Mean = tensor([9.8596], device='cuda:0', grad_fn=<MeanBackward1>)\n",
      "Variance = tensor([1.0302], device='cuda:0', grad_fn=<VarBackward1>)\n",
      "\n",
      "Test 10\n",
      "Non-MC prediction = tensor([[0.9229]], device='cuda:0', grad_fn=<AddmmBackward>)\n",
      "Mean = tensor([0.9302], device='cuda:0', grad_fn=<MeanBackward1>)\n",
      "Variance = tensor([0.0059], device='cuda:0', grad_fn=<VarBackward1>)\n",
      "\n",
      "Test 11\n",
      "Non-MC prediction = tensor([[6.0873]], device='cuda:0', grad_fn=<AddmmBackward>)\n",
      "Mean = tensor([5.9114], device='cuda:0', grad_fn=<MeanBackward1>)\n",
      "Variance = tensor([0.5142], device='cuda:0', grad_fn=<VarBackward1>)\n",
      "\n",
      "Test 12\n",
      "Non-MC prediction = tensor([[0.9221]], device='cuda:0', grad_fn=<AddmmBackward>)\n",
      "Mean = tensor([0.9295], device='cuda:0', grad_fn=<MeanBackward1>)\n",
      "Variance = tensor([0.0055], device='cuda:0', grad_fn=<VarBackward1>)\n",
      "\n",
      "Test 13\n",
      "Non-MC prediction = tensor([[0.9221]], device='cuda:0', grad_fn=<AddmmBackward>)\n",
      "Mean = tensor([0.9298], device='cuda:0', grad_fn=<MeanBackward1>)\n",
      "Variance = tensor([0.0056], device='cuda:0', grad_fn=<VarBackward1>)\n",
      "\n",
      "Test 14\n",
      "Non-MC prediction = tensor([[0.9217]], device='cuda:0', grad_fn=<AddmmBackward>)\n",
      "Mean = tensor([0.9297], device='cuda:0', grad_fn=<MeanBackward1>)\n",
      "Variance = tensor([0.0058], device='cuda:0', grad_fn=<VarBackward1>)\n",
      "\n",
      "Test 15\n",
      "Non-MC prediction = tensor([[0.9221]], device='cuda:0', grad_fn=<AddmmBackward>)\n",
      "Mean = tensor([0.9283], device='cuda:0', grad_fn=<MeanBackward1>)\n",
      "Variance = tensor([0.0046], device='cuda:0', grad_fn=<VarBackward1>)\n",
      "\n",
      "Test 16\n",
      "Non-MC prediction = tensor([[10.7690]], device='cuda:0', grad_fn=<AddmmBackward>)\n",
      "Mean = tensor([10.4444], device='cuda:0', grad_fn=<MeanBackward1>)\n",
      "Variance = tensor([1.3346], device='cuda:0', grad_fn=<VarBackward1>)\n",
      "\n",
      "Test 17\n",
      "Non-MC prediction = tensor([[4.5346]], device='cuda:0', grad_fn=<AddmmBackward>)\n",
      "Mean = tensor([4.4365], device='cuda:0', grad_fn=<MeanBackward1>)\n",
      "Variance = tensor([0.2310], device='cuda:0', grad_fn=<VarBackward1>)\n",
      "\n",
      "Test 18\n",
      "Non-MC prediction = tensor([[0.9216]], device='cuda:0', grad_fn=<AddmmBackward>)\n",
      "Mean = tensor([0.9353], device='cuda:0', grad_fn=<MeanBackward1>)\n",
      "Variance = tensor([0.0148], device='cuda:0', grad_fn=<VarBackward1>)\n",
      "\n",
      "Test 19\n",
      "Non-MC prediction = tensor([[5.7942]], device='cuda:0', grad_fn=<AddmmBackward>)\n",
      "Mean = tensor([5.7329], device='cuda:0', grad_fn=<MeanBackward1>)\n",
      "Variance = tensor([0.5219], device='cuda:0', grad_fn=<VarBackward1>)\n",
      "\n",
      "Test 20\n",
      "Non-MC prediction = tensor([[0.9551]], device='cuda:0', grad_fn=<AddmmBackward>)\n",
      "Mean = tensor([0.9715], device='cuda:0', grad_fn=<MeanBackward1>)\n",
      "Variance = tensor([0.0275], device='cuda:0', grad_fn=<VarBackward1>)\n",
      "\n",
      "Test 21\n",
      "Non-MC prediction = tensor([[2.5430]], device='cuda:0', grad_fn=<AddmmBackward>)\n",
      "Mean = tensor([2.7268], device='cuda:0', grad_fn=<MeanBackward1>)\n",
      "Variance = tensor([0.1310], device='cuda:0', grad_fn=<VarBackward1>)\n",
      "\n",
      "Test 22\n",
      "Non-MC prediction = tensor([[15.1008]], device='cuda:0', grad_fn=<AddmmBackward>)\n",
      "Mean = tensor([14.6488], device='cuda:0', grad_fn=<MeanBackward1>)\n",
      "Variance = tensor([2.0267], device='cuda:0', grad_fn=<VarBackward1>)\n",
      "\n",
      "Test 23\n",
      "Non-MC prediction = tensor([[31.5788]], device='cuda:0', grad_fn=<AddmmBackward>)\n",
      "Mean = tensor([30.6520], device='cuda:0', grad_fn=<MeanBackward1>)\n",
      "Variance = tensor([6.5120], device='cuda:0', grad_fn=<VarBackward1>)\n",
      "\n",
      "Test 24\n",
      "Non-MC prediction = tensor([[0.9228]], device='cuda:0', grad_fn=<AddmmBackward>)\n",
      "Mean = tensor([0.9295], device='cuda:0', grad_fn=<MeanBackward1>)\n",
      "Variance = tensor([0.0057], device='cuda:0', grad_fn=<VarBackward1>)\n",
      "\n",
      "Test 25\n",
      "Non-MC prediction = tensor([[0.9221]], device='cuda:0', grad_fn=<AddmmBackward>)\n",
      "Mean = tensor([0.9298], device='cuda:0', grad_fn=<MeanBackward1>)\n",
      "Variance = tensor([0.0063], device='cuda:0', grad_fn=<VarBackward1>)\n",
      "\n",
      "Test 26\n",
      "Non-MC prediction = tensor([[0.9221]], device='cuda:0', grad_fn=<AddmmBackward>)\n",
      "Mean = tensor([0.9297], device='cuda:0', grad_fn=<MeanBackward1>)\n",
      "Variance = tensor([0.0057], device='cuda:0', grad_fn=<VarBackward1>)\n",
      "\n",
      "Test 27\n",
      "Non-MC prediction = tensor([[0.9221]], device='cuda:0', grad_fn=<AddmmBackward>)\n",
      "Mean = tensor([0.9293], device='cuda:0', grad_fn=<MeanBackward1>)\n",
      "Variance = tensor([0.0055], device='cuda:0', grad_fn=<VarBackward1>)\n",
      "\n",
      "Test 28\n",
      "Non-MC prediction = tensor([[8.0638]], device='cuda:0', grad_fn=<AddmmBackward>)\n",
      "Mean = tensor([7.8315], device='cuda:0', grad_fn=<MeanBackward1>)\n",
      "Variance = tensor([0.8332], device='cuda:0', grad_fn=<VarBackward1>)\n",
      "\n",
      "Test 29\n",
      "Non-MC prediction = tensor([[0.9221]], device='cuda:0', grad_fn=<AddmmBackward>)\n",
      "Mean = tensor([0.9295], device='cuda:0', grad_fn=<MeanBackward1>)\n",
      "Variance = tensor([0.0056], device='cuda:0', grad_fn=<VarBackward1>)\n",
      "\n",
      "Test 30\n",
      "Non-MC prediction = tensor([[24.9297]], device='cuda:0', grad_fn=<AddmmBackward>)\n",
      "Mean = tensor([24.1708], device='cuda:0', grad_fn=<MeanBackward1>)\n",
      "Variance = tensor([4.7131], device='cuda:0', grad_fn=<VarBackward1>)\n",
      "\n",
      "Test 31\n",
      "Non-MC prediction = tensor([[10.2670]], device='cuda:0', grad_fn=<AddmmBackward>)\n",
      "Mean = tensor([7.5823], device='cuda:0', grad_fn=<MeanBackward1>)\n",
      "Variance = tensor([0.6805], device='cuda:0', grad_fn=<VarBackward1>)\n",
      "\n",
      "Test 32\n",
      "Non-MC prediction = tensor([[0.9221]], device='cuda:0', grad_fn=<AddmmBackward>)\n",
      "Mean = tensor([0.9294], device='cuda:0', grad_fn=<MeanBackward1>)\n",
      "Variance = tensor([0.0054], device='cuda:0', grad_fn=<VarBackward1>)\n",
      "\n",
      "Test 33\n",
      "Non-MC prediction = tensor([[4.5723]], device='cuda:0', grad_fn=<AddmmBackward>)\n",
      "Mean = tensor([4.4655], device='cuda:0', grad_fn=<MeanBackward1>)\n",
      "Variance = tensor([0.2986], device='cuda:0', grad_fn=<VarBackward1>)\n",
      "\n",
      "Test 34\n",
      "Non-MC prediction = tensor([[0.9221]], device='cuda:0', grad_fn=<AddmmBackward>)\n",
      "Mean = tensor([0.9295], device='cuda:0', grad_fn=<MeanBackward1>)\n",
      "Variance = tensor([0.0055], device='cuda:0', grad_fn=<VarBackward1>)\n",
      "\n",
      "Test 35\n",
      "Non-MC prediction = tensor([[22.2664]], device='cuda:0', grad_fn=<AddmmBackward>)\n",
      "Mean = tensor([21.5826], device='cuda:0', grad_fn=<MeanBackward1>)\n",
      "Variance = tensor([3.7195], device='cuda:0', grad_fn=<VarBackward1>)\n",
      "\n",
      "Test 36\n",
      "Non-MC prediction = tensor([[0.9221]], device='cuda:0', grad_fn=<AddmmBackward>)\n",
      "Mean = tensor([0.9285], device='cuda:0', grad_fn=<MeanBackward1>)\n",
      "Variance = tensor([0.0047], device='cuda:0', grad_fn=<VarBackward1>)\n",
      "\n",
      "Test 37\n",
      "Non-MC prediction = tensor([[0.9221]], device='cuda:0', grad_fn=<AddmmBackward>)\n",
      "Mean = tensor([0.9290], device='cuda:0', grad_fn=<MeanBackward1>)\n",
      "Variance = tensor([0.0050], device='cuda:0', grad_fn=<VarBackward1>)\n",
      "\n",
      "Test 38\n",
      "Non-MC prediction = tensor([[0.9221]], device='cuda:0', grad_fn=<AddmmBackward>)\n",
      "Mean = tensor([0.9295], device='cuda:0', grad_fn=<MeanBackward1>)\n",
      "Variance = tensor([0.0053], device='cuda:0', grad_fn=<VarBackward1>)\n",
      "\n",
      "Test 39\n",
      "Non-MC prediction = tensor([[7.2337]], device='cuda:0', grad_fn=<AddmmBackward>)\n",
      "Mean = tensor([7.0222], device='cuda:0', grad_fn=<MeanBackward1>)\n",
      "Variance = tensor([0.6690], device='cuda:0', grad_fn=<VarBackward1>)\n",
      "\n",
      "Test 40\n",
      "Non-MC prediction = tensor([[3.5545]], device='cuda:0', grad_fn=<AddmmBackward>)\n",
      "Mean = tensor([3.4799], device='cuda:0', grad_fn=<MeanBackward1>)\n",
      "Variance = tensor([0.2421], device='cuda:0', grad_fn=<VarBackward1>)\n",
      "\n",
      "Test 41\n",
      "Non-MC prediction = tensor([[0.9221]], device='cuda:0', grad_fn=<AddmmBackward>)\n",
      "Mean = tensor([0.9293], device='cuda:0', grad_fn=<MeanBackward1>)\n",
      "Variance = tensor([0.0054], device='cuda:0', grad_fn=<VarBackward1>)\n",
      "\n",
      "Test 42\n",
      "Non-MC prediction = tensor([[0.9391]], device='cuda:0', grad_fn=<AddmmBackward>)\n",
      "Mean = tensor([1.3020], device='cuda:0', grad_fn=<MeanBackward1>)\n",
      "Variance = tensor([0.0532], device='cuda:0', grad_fn=<VarBackward1>)\n",
      "\n",
      "Test 43\n",
      "Non-MC prediction = tensor([[1.7382]], device='cuda:0', grad_fn=<AddmmBackward>)\n",
      "Mean = tensor([2.1728], device='cuda:0', grad_fn=<MeanBackward1>)\n",
      "Variance = tensor([0.1039], device='cuda:0', grad_fn=<VarBackward1>)\n",
      "\n",
      "Test 44\n",
      "Non-MC prediction = tensor([[0.9221]], device='cuda:0', grad_fn=<AddmmBackward>)\n",
      "Mean = tensor([0.9287], device='cuda:0', grad_fn=<MeanBackward1>)\n",
      "Variance = tensor([0.0050], device='cuda:0', grad_fn=<VarBackward1>)\n",
      "\n",
      "Test 45\n",
      "Non-MC prediction = tensor([[19.5783]], device='cuda:0', grad_fn=<AddmmBackward>)\n",
      "Mean = tensor([18.9934], device='cuda:0', grad_fn=<MeanBackward1>)\n",
      "Variance = tensor([2.6904], device='cuda:0', grad_fn=<VarBackward1>)\n",
      "\n",
      "Test 46\n",
      "Non-MC prediction = tensor([[0.9219]], device='cuda:0', grad_fn=<AddmmBackward>)\n",
      "Mean = tensor([0.9306], device='cuda:0', grad_fn=<MeanBackward1>)\n",
      "Variance = tensor([0.0079], device='cuda:0', grad_fn=<VarBackward1>)\n",
      "\n",
      "Test 47\n",
      "Non-MC prediction = tensor([[1.6605]], device='cuda:0', grad_fn=<AddmmBackward>)\n",
      "Mean = tensor([0.9305], device='cuda:0', grad_fn=<MeanBackward1>)\n",
      "Variance = tensor([0.0062], device='cuda:0', grad_fn=<VarBackward1>)\n",
      "\n",
      "Test 48\n",
      "Non-MC prediction = tensor([[1.6605]], device='cuda:0', grad_fn=<AddmmBackward>)\n",
      "Mean = tensor([0.9293], device='cuda:0', grad_fn=<MeanBackward1>)\n",
      "Variance = tensor([0.0053], device='cuda:0', grad_fn=<VarBackward1>)\n",
      "\n",
      "Test 49\n",
      "Non-MC prediction = tensor([[20.2886]], device='cuda:0', grad_fn=<AddmmBackward>)\n",
      "Mean = tensor([19.6594], device='cuda:0', grad_fn=<MeanBackward1>)\n",
      "Variance = tensor([3.3932], device='cuda:0', grad_fn=<VarBackward1>)\n",
      "\n",
      "Test 50\n",
      "Non-MC prediction = tensor([[1.9889]], device='cuda:0', grad_fn=<AddmmBackward>)\n",
      "Mean = tensor([1.6437], device='cuda:0', grad_fn=<MeanBackward1>)\n",
      "Variance = tensor([0.0572], device='cuda:0', grad_fn=<VarBackward1>)\n",
      "\n",
      "Test 51\n",
      "Non-MC prediction = tensor([[17.3544]], device='cuda:0', grad_fn=<AddmmBackward>)\n",
      "Mean = tensor([16.8280], device='cuda:0', grad_fn=<MeanBackward1>)\n",
      "Variance = tensor([2.4232], device='cuda:0', grad_fn=<VarBackward1>)\n",
      "\n",
      "Test 52\n",
      "Non-MC prediction = tensor([[0.9230]], device='cuda:0', grad_fn=<AddmmBackward>)\n",
      "Mean = tensor([0.9298], device='cuda:0', grad_fn=<MeanBackward1>)\n",
      "Variance = tensor([0.0057], device='cuda:0', grad_fn=<VarBackward1>)\n",
      "\n",
      "Test 53\n",
      "Non-MC prediction = tensor([[20.6492]], device='cuda:0', grad_fn=<AddmmBackward>)\n",
      "Mean = tensor([20.0358], device='cuda:0', grad_fn=<MeanBackward1>)\n",
      "Variance = tensor([3.4251], device='cuda:0', grad_fn=<VarBackward1>)\n",
      "\n",
      "Test 54\n",
      "Non-MC prediction = tensor([[0.9221]], device='cuda:0', grad_fn=<AddmmBackward>)\n",
      "Mean = tensor([0.9296], device='cuda:0', grad_fn=<MeanBackward1>)\n",
      "Variance = tensor([0.0056], device='cuda:0', grad_fn=<VarBackward1>)\n",
      "\n",
      "Test 55\n",
      "Non-MC prediction = tensor([[35.8703]], device='cuda:0', grad_fn=<AddmmBackward>)\n",
      "Mean = tensor([34.7735], device='cuda:0', grad_fn=<MeanBackward1>)\n",
      "Variance = tensor([8.5877], device='cuda:0', grad_fn=<VarBackward1>)\n",
      "\n",
      "Test 56\n",
      "Non-MC prediction = tensor([[26.3802]], device='cuda:0', grad_fn=<AddmmBackward>)\n",
      "Mean = tensor([25.5789], device='cuda:0', grad_fn=<MeanBackward1>)\n",
      "Variance = tensor([5.0342], device='cuda:0', grad_fn=<VarBackward1>)\n",
      "\n",
      "Test 57\n",
      "Non-MC prediction = tensor([[0.9198]], device='cuda:0', grad_fn=<AddmmBackward>)\n",
      "Mean = tensor([0.9332], device='cuda:0', grad_fn=<MeanBackward1>)\n",
      "Variance = tensor([0.0134], device='cuda:0', grad_fn=<VarBackward1>)\n",
      "\n",
      "Test 58\n",
      "Non-MC prediction = tensor([[0.9221]], device='cuda:0', grad_fn=<AddmmBackward>)\n",
      "Mean = tensor([0.9287], device='cuda:0', grad_fn=<MeanBackward1>)\n",
      "Variance = tensor([0.0049], device='cuda:0', grad_fn=<VarBackward1>)\n",
      "\n",
      "Test 59\n",
      "Non-MC prediction = tensor([[1.7001]], device='cuda:0', grad_fn=<AddmmBackward>)\n",
      "Mean = tensor([1.6945], device='cuda:0', grad_fn=<MeanBackward1>)\n",
      "Variance = tensor([0.0889], device='cuda:0', grad_fn=<VarBackward1>)\n",
      "\n",
      "Test 60\n",
      "Non-MC prediction = tensor([[0.9221]], device='cuda:0', grad_fn=<AddmmBackward>)\n",
      "Mean = tensor([0.9287], device='cuda:0', grad_fn=<MeanBackward1>)\n",
      "Variance = tensor([0.0049], device='cuda:0', grad_fn=<VarBackward1>)\n",
      "\n",
      "Test 61\n",
      "Non-MC prediction = tensor([[19.6168]], device='cuda:0', grad_fn=<AddmmBackward>)\n",
      "Mean = tensor([19.0212], device='cuda:0', grad_fn=<MeanBackward1>)\n",
      "Variance = tensor([2.9816], device='cuda:0', grad_fn=<VarBackward1>)\n",
      "\n"
     ]
    }
   ],
   "source": [
    "for i, data in enumerate(test_loader):\n",
    "    # Get the test data\n",
    "    inputs, targets = data\n",
    "\n",
    "    # Store the batch to torch_device's memory\n",
    "    inputs = inputs.to(torch_device)\n",
    "    targets = targets.to(torch_device)\n",
    "    \n",
    "    predictions, mean, var = network.mc_predict(inputs)\n",
    "\n",
    "    print(\"Test \" + str(i))\n",
    "    print(\"Non-MC prediction = \" + str(network(inputs)))\n",
    "    print(\"Mean = \" + str(mean))\n",
    "    print(\"Variance = \" + str(var))\n",
    "    print()"
   ]
  },
  {
   "cell_type": "code",
   "execution_count": 0,
   "metadata": {
    "colab": {},
    "colab_type": "code",
    "id": "PB4HFH9MVFK3"
   },
   "outputs": [],
   "source": []
  }
 ],
 "metadata": {
  "accelerator": "GPU",
  "colab": {
   "collapsed_sections": [],
   "name": "experiments.ipynb",
   "provenance": []
  },
  "kernelspec": {
   "display_name": "Python 3",
   "language": "python",
   "name": "python3"
  },
  "language_info": {
   "codemirror_mode": {
    "name": "ipython",
    "version": 3
   },
   "file_extension": ".py",
   "mimetype": "text/x-python",
   "name": "python",
   "nbconvert_exporter": "python",
   "pygments_lexer": "ipython3",
   "version": "3.6.8"
  }
 },
 "nbformat": 4,
 "nbformat_minor": 1
}
