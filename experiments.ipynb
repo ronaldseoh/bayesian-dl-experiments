{
 "cells": [
  {
   "cell_type": "markdown",
   "metadata": {},
   "source": [
    "## Experiment Setup"
   ]
  },
  {
   "cell_type": "code",
   "execution_count": 1,
   "metadata": {},
   "outputs": [],
   "source": [
    "import torch\n",
    "import numpy as np\n",
    "\n",
    "# Random seeds\n",
    "# Based on https://pytorch.org/docs/stable/notes/randomness.html\n",
    "torch.manual_seed(682)\n",
    "np.random.seed(682)\n",
    "\n",
    "# CUDA Setup\n",
    "if torch.cuda.is_available():\n",
    "    use_gpu = True\n",
    "    torch.backends.cudnn.deterministic = True\n",
    "    torch.backends.cudnn.benchmark = False\n",
    "\n",
    "# Dataset to use\n",
    "dataset_name = 'yacht'\n",
    "\n",
    "# Training set size\n",
    "dataset_train_size = 0.8\n",
    "\n",
    "# Epochs\n",
    "n_epochs = 100"
   ]
  },
  {
   "cell_type": "markdown",
   "metadata": {},
   "source": [
    "## Prepare data"
   ]
  },
  {
   "cell_type": "markdown",
   "metadata": {},
   "source": [
    "### Get the data as a torch Dataset object"
   ]
  },
  {
   "cell_type": "code",
   "execution_count": 2,
   "metadata": {},
   "outputs": [
    {
     "name": "stdout",
     "output_type": "stream",
     "text": [
      "Using downloaded and verified file: ./datasets_files/yacht/yacht_hydrodynamics.data\n"
     ]
    }
   ],
   "source": [
    "from ronald_bdl import datasets\n",
    "\n",
    "if dataset_name == 'MNIST':\n",
    "    dataset = datasets.MNIST(root_dir='./datasets_files', transform=None, download=True)\n",
    "else:\n",
    "    dataset = datasets.UCIDatasets(dataset_name, root_dir='./datasets_files', transform=None, download=True)"
   ]
  },
  {
   "cell_type": "markdown",
   "metadata": {},
   "source": [
    "### Split into training/test set using torch's DataLoader"
   ]
  },
  {
   "cell_type": "code",
   "execution_count": 3,
   "metadata": {},
   "outputs": [],
   "source": [
    "from torch.utils.data import random_split, DataLoader\n",
    "\n",
    "train_size = int(dataset_train_size * len(dataset))\n",
    "test_size = len(dataset) - train_size\n",
    "\n",
    "train, test = random_split(dataset, lengths=[train_size, test_size])\n",
    "\n",
    "train_loader = DataLoader(train)\n",
    "test_loader = DataLoader(test)"
   ]
  },
  {
   "cell_type": "markdown",
   "metadata": {},
   "source": [
    "## Define network"
   ]
  },
  {
   "cell_type": "code",
   "execution_count": 4,
   "metadata": {},
   "outputs": [
    {
     "name": "stdout",
     "output_type": "stream",
     "text": [
      "FCNetMCDropout(\n",
      "  (input): Linear(in_features=6, out_features=50, bias=True)\n",
      "  (hidden_layers): ModuleList(\n",
      "    (0): Linear(in_features=50, out_features=50, bias=True)\n",
      "  )\n",
      "  (output): Linear(in_features=50, out_features=1, bias=True)\n",
      ")\n"
     ]
    }
   ],
   "source": [
    "from ronald_bdl import models\n",
    "\n",
    "network = models.FCNetMCDropout(\n",
    "    input_dim=len(dataset.features), \n",
    "    output_dim=len(dataset.targets),\n",
    "    hidden_dim=50,\n",
    "    n_hidden=1,\n",
    "    n_predictions=10000,\n",
    "    dropout_rate=0.01,\n",
    ")\n",
    "\n",
    "# Print the network structure\n",
    "print(network)"
   ]
  },
  {
   "cell_type": "markdown",
   "metadata": {},
   "source": [
    "## Train the network"
   ]
  },
  {
   "cell_type": "markdown",
   "metadata": {},
   "source": [
    "### Setup optimizer"
   ]
  },
  {
   "cell_type": "code",
   "execution_count": 5,
   "metadata": {},
   "outputs": [],
   "source": [
    "from torch import nn, optim\n",
    "\n",
    "objective = nn.MSELoss()\n",
    "optimizer = optim.Adam(network.parameters(), lr=0.01)"
   ]
  },
  {
   "cell_type": "markdown",
   "metadata": {},
   "source": [
    "### Run the optimizer"
   ]
  },
  {
   "cell_type": "code",
   "execution_count": 6,
   "metadata": {
    "scrolled": true
   },
   "outputs": [],
   "source": [
    "# Partially adapted from https://pytorch.org/tutorials/beginner/blitz/cifar10_tutorial.html\n",
    "for epoch in range(n_epochs): # loop over the dataset multiple times\n",
    "    for i, data in enumerate(train_loader):\n",
    "        # get the inputs; data is a list of [inputs, labels]\n",
    "        inputs, targets = data\n",
    "\n",
    "        # zero the parameter gradients\n",
    "        optimizer.zero_grad()\n",
    "\n",
    "        # forward + backward + optimize\n",
    "        outputs = network(inputs)\n",
    "\n",
    "        loss = objective(outputs, targets)\n",
    "        loss.backward()\n",
    "\n",
    "        optimizer.step()"
   ]
  },
  {
   "cell_type": "markdown",
   "metadata": {},
   "source": [
    "## Make predictions"
   ]
  },
  {
   "cell_type": "code",
   "execution_count": 8,
   "metadata": {},
   "outputs": [
    {
     "name": "stdout",
     "output_type": "stream",
     "text": [
      "Test 0\n",
      "Original prediction = tensor([[6.7675]], grad_fn=<AddmmBackward>)\n",
      "Mean = tensor([6.6605], grad_fn=<MeanBackward1>)\n",
      "Variance = tensor([0.3123], grad_fn=<VarBackward1>)\n",
      "Test 1\n",
      "Original prediction = tensor([[1.4650]], grad_fn=<AddmmBackward>)\n",
      "Mean = tensor([1.4596], grad_fn=<MeanBackward1>)\n",
      "Variance = tensor([0.0006], grad_fn=<VarBackward1>)\n",
      "Test 2\n",
      "Original prediction = tensor([[2.6716]], grad_fn=<AddmmBackward>)\n",
      "Mean = tensor([2.6434], grad_fn=<MeanBackward1>)\n",
      "Variance = tensor([0.0227], grad_fn=<VarBackward1>)\n",
      "Test 3\n",
      "Original prediction = tensor([[18.5262]], grad_fn=<AddmmBackward>)\n",
      "Mean = tensor([18.1966], grad_fn=<MeanBackward1>)\n",
      "Variance = tensor([2.1241], grad_fn=<VarBackward1>)\n",
      "Test 4\n",
      "Original prediction = tensor([[1.3071]], grad_fn=<AddmmBackward>)\n",
      "Mean = tensor([1.3045], grad_fn=<MeanBackward1>)\n",
      "Variance = tensor([0.0001], grad_fn=<VarBackward1>)\n",
      "Test 5\n",
      "Original prediction = tensor([[1.3071]], grad_fn=<AddmmBackward>)\n",
      "Mean = tensor([1.3047], grad_fn=<MeanBackward1>)\n",
      "Variance = tensor([0.0001], grad_fn=<VarBackward1>)\n",
      "Test 6\n",
      "Original prediction = tensor([[6.7572]], grad_fn=<AddmmBackward>)\n",
      "Mean = tensor([8.1718], grad_fn=<MeanBackward1>)\n",
      "Variance = tensor([0.6091], grad_fn=<VarBackward1>)\n",
      "Test 7\n",
      "Original prediction = tensor([[39.1251]], grad_fn=<AddmmBackward>)\n",
      "Mean = tensor([40.5395], grad_fn=<MeanBackward1>)\n",
      "Variance = tensor([13.6739], grad_fn=<VarBackward1>)\n",
      "Test 8\n",
      "Original prediction = tensor([[4.2175]], grad_fn=<AddmmBackward>)\n",
      "Mean = tensor([4.1537], grad_fn=<MeanBackward1>)\n",
      "Variance = tensor([0.1119], grad_fn=<VarBackward1>)\n",
      "Test 9\n",
      "Original prediction = tensor([[17.7114]], grad_fn=<AddmmBackward>)\n",
      "Mean = tensor([17.3701], grad_fn=<MeanBackward1>)\n",
      "Variance = tensor([2.0290], grad_fn=<VarBackward1>)\n",
      "Test 10\n",
      "Original prediction = tensor([[1.3071]], grad_fn=<AddmmBackward>)\n",
      "Mean = tensor([1.3047], grad_fn=<MeanBackward1>)\n",
      "Variance = tensor([0.0001], grad_fn=<VarBackward1>)\n",
      "Test 11\n",
      "Original prediction = tensor([[13.9908]], grad_fn=<AddmmBackward>)\n",
      "Mean = tensor([13.7381], grad_fn=<MeanBackward1>)\n",
      "Variance = tensor([1.2648], grad_fn=<VarBackward1>)\n",
      "Test 12\n",
      "Original prediction = tensor([[1.3071]], grad_fn=<AddmmBackward>)\n",
      "Mean = tensor([1.3047], grad_fn=<MeanBackward1>)\n",
      "Variance = tensor([0.0001], grad_fn=<VarBackward1>)\n",
      "Test 13\n",
      "Original prediction = tensor([[1.6914]], grad_fn=<AddmmBackward>)\n",
      "Mean = tensor([1.6815], grad_fn=<MeanBackward1>)\n",
      "Variance = tensor([0.0022], grad_fn=<VarBackward1>)\n",
      "Test 14\n",
      "Original prediction = tensor([[1.3071]], grad_fn=<AddmmBackward>)\n",
      "Mean = tensor([1.3047], grad_fn=<MeanBackward1>)\n",
      "Variance = tensor([0.0001], grad_fn=<VarBackward1>)\n",
      "Test 15\n",
      "Original prediction = tensor([[1.3071]], grad_fn=<AddmmBackward>)\n",
      "Mean = tensor([1.3044], grad_fn=<MeanBackward1>)\n",
      "Variance = tensor([0.0001], grad_fn=<VarBackward1>)\n",
      "Test 16\n",
      "Original prediction = tensor([[15.6235]], grad_fn=<AddmmBackward>)\n",
      "Mean = tensor([15.3390], grad_fn=<MeanBackward1>)\n",
      "Variance = tensor([1.5921], grad_fn=<VarBackward1>)\n",
      "Test 17\n",
      "Original prediction = tensor([[20.0926]], grad_fn=<AddmmBackward>)\n",
      "Mean = tensor([19.6862], grad_fn=<MeanBackward1>)\n",
      "Variance = tensor([2.9444], grad_fn=<VarBackward1>)\n",
      "Test 18\n",
      "Original prediction = tensor([[1.3071]], grad_fn=<AddmmBackward>)\n",
      "Mean = tensor([1.3045], grad_fn=<MeanBackward1>)\n",
      "Variance = tensor([0.0001], grad_fn=<VarBackward1>)\n",
      "Test 19\n",
      "Original prediction = tensor([[3.7214]], grad_fn=<AddmmBackward>)\n",
      "Mean = tensor([4.4514], grad_fn=<MeanBackward1>)\n",
      "Variance = tensor([0.1253], grad_fn=<VarBackward1>)\n",
      "Test 20\n",
      "Original prediction = tensor([[1.3071]], grad_fn=<AddmmBackward>)\n",
      "Mean = tensor([1.3044], grad_fn=<MeanBackward1>)\n",
      "Variance = tensor([0.0001], grad_fn=<VarBackward1>)\n",
      "Test 21\n",
      "Original prediction = tensor([[6.4715]], grad_fn=<AddmmBackward>)\n",
      "Mean = tensor([6.3652], grad_fn=<MeanBackward1>)\n",
      "Variance = tensor([0.3055], grad_fn=<VarBackward1>)\n",
      "Test 22\n",
      "Original prediction = tensor([[35.9268]], grad_fn=<AddmmBackward>)\n",
      "Mean = tensor([35.1610], grad_fn=<MeanBackward1>)\n",
      "Variance = tensor([9.4839], grad_fn=<VarBackward1>)\n",
      "Test 23\n",
      "Original prediction = tensor([[49.7059]], grad_fn=<AddmmBackward>)\n",
      "Mean = tensor([48.6475], grad_fn=<MeanBackward1>)\n",
      "Variance = tensor([18.4633], grad_fn=<VarBackward1>)\n",
      "Test 24\n",
      "Original prediction = tensor([[1.3071]], grad_fn=<AddmmBackward>)\n",
      "Mean = tensor([1.3045], grad_fn=<MeanBackward1>)\n",
      "Variance = tensor([0.0001], grad_fn=<VarBackward1>)\n",
      "Test 25\n",
      "Original prediction = tensor([[2.1624]], grad_fn=<AddmmBackward>)\n",
      "Mean = tensor([2.1427], grad_fn=<MeanBackward1>)\n",
      "Variance = tensor([0.0095], grad_fn=<VarBackward1>)\n",
      "Test 26\n",
      "Original prediction = tensor([[1.3071]], grad_fn=<AddmmBackward>)\n",
      "Mean = tensor([1.3047], grad_fn=<MeanBackward1>)\n",
      "Variance = tensor([0.0001], grad_fn=<VarBackward1>)\n",
      "Test 27\n",
      "Original prediction = tensor([[1.3071]], grad_fn=<AddmmBackward>)\n",
      "Mean = tensor([1.3046], grad_fn=<MeanBackward1>)\n",
      "Variance = tensor([0.0001], grad_fn=<VarBackward1>)\n",
      "Test 28\n",
      "Original prediction = tensor([[16.5381]], grad_fn=<AddmmBackward>)\n",
      "Mean = tensor([16.2205], grad_fn=<MeanBackward1>)\n",
      "Variance = tensor([1.8306], grad_fn=<VarBackward1>)\n",
      "Test 29\n",
      "Original prediction = tensor([[1.3071]], grad_fn=<AddmmBackward>)\n",
      "Mean = tensor([1.3045], grad_fn=<MeanBackward1>)\n",
      "Variance = tensor([0.0001], grad_fn=<VarBackward1>)\n",
      "Test 30\n",
      "Original prediction = tensor([[29.9345]], grad_fn=<AddmmBackward>)\n",
      "Mean = tensor([29.3659], grad_fn=<MeanBackward1>)\n",
      "Variance = tensor([5.7415], grad_fn=<VarBackward1>)\n",
      "Test 31\n",
      "Original prediction = tensor([[13.2603]], grad_fn=<AddmmBackward>)\n",
      "Mean = tensor([13.0324], grad_fn=<MeanBackward1>)\n",
      "Variance = tensor([1.0394], grad_fn=<VarBackward1>)\n",
      "Test 32\n",
      "Original prediction = tensor([[1.3071]], grad_fn=<AddmmBackward>)\n",
      "Mean = tensor([1.3046], grad_fn=<MeanBackward1>)\n",
      "Variance = tensor([0.0001], grad_fn=<VarBackward1>)\n",
      "Test 33\n",
      "Original prediction = tensor([[6.4413]], grad_fn=<AddmmBackward>)\n",
      "Mean = tensor([6.3333], grad_fn=<MeanBackward1>)\n",
      "Variance = tensor([0.3365], grad_fn=<VarBackward1>)\n",
      "Test 34\n",
      "Original prediction = tensor([[1.3071]], grad_fn=<AddmmBackward>)\n",
      "Mean = tensor([1.3046], grad_fn=<MeanBackward1>)\n",
      "Variance = tensor([0.0001], grad_fn=<VarBackward1>)\n",
      "Test 35\n",
      "Original prediction = tensor([[26.1670]], grad_fn=<AddmmBackward>)\n",
      "Mean = tensor([25.6308], grad_fn=<MeanBackward1>)\n",
      "Variance = tensor([4.7043], grad_fn=<VarBackward1>)\n",
      "Test 36\n",
      "Original prediction = tensor([[4.6899]], grad_fn=<AddmmBackward>)\n",
      "Mean = tensor([4.6250], grad_fn=<MeanBackward1>)\n",
      "Variance = tensor([0.1240], grad_fn=<VarBackward1>)\n",
      "Test 37\n",
      "Original prediction = tensor([[1.3071]], grad_fn=<AddmmBackward>)\n",
      "Mean = tensor([1.3046], grad_fn=<MeanBackward1>)\n",
      "Variance = tensor([0.0001], grad_fn=<VarBackward1>)\n",
      "Test 38\n",
      "Original prediction = tensor([[1.3071]], grad_fn=<AddmmBackward>)\n",
      "Mean = tensor([1.3044], grad_fn=<MeanBackward1>)\n",
      "Variance = tensor([0.0001], grad_fn=<VarBackward1>)\n",
      "Test 39\n",
      "Original prediction = tensor([[16.6107]], grad_fn=<AddmmBackward>)\n",
      "Mean = tensor([16.2892], grad_fn=<MeanBackward1>)\n",
      "Variance = tensor([1.8344], grad_fn=<VarBackward1>)\n",
      "Test 40\n",
      "Original prediction = tensor([[3.1106]], grad_fn=<AddmmBackward>)\n",
      "Mean = tensor([3.0721], grad_fn=<MeanBackward1>)\n",
      "Variance = tensor([0.0380], grad_fn=<VarBackward1>)\n",
      "Test 41\n",
      "Original prediction = tensor([[1.3071]], grad_fn=<AddmmBackward>)\n",
      "Mean = tensor([1.3043], grad_fn=<MeanBackward1>)\n",
      "Variance = tensor([0.0002], grad_fn=<VarBackward1>)\n",
      "Test 42\n",
      "Original prediction = tensor([[1.3071]], grad_fn=<AddmmBackward>)\n",
      "Mean = tensor([1.3047], grad_fn=<MeanBackward1>)\n",
      "Variance = tensor([0.0001], grad_fn=<VarBackward1>)\n",
      "Test 43\n",
      "Original prediction = tensor([[8.7198]], grad_fn=<AddmmBackward>)\n",
      "Mean = tensor([8.5634], grad_fn=<MeanBackward1>)\n",
      "Variance = tensor([0.6657], grad_fn=<VarBackward1>)\n",
      "Test 44\n",
      "Original prediction = tensor([[3.3027]], grad_fn=<AddmmBackward>)\n",
      "Mean = tensor([3.2605], grad_fn=<MeanBackward1>)\n",
      "Variance = tensor([0.0492], grad_fn=<VarBackward1>)\n",
      "Test 45\n",
      "Original prediction = tensor([[34.6030]], grad_fn=<AddmmBackward>)\n",
      "Mean = tensor([33.8442], grad_fn=<MeanBackward1>)\n",
      "Variance = tensor([9.4163], grad_fn=<VarBackward1>)\n",
      "Test 46\n",
      "Original prediction = tensor([[2.2699]], grad_fn=<AddmmBackward>)\n",
      "Mean = tensor([2.2484], grad_fn=<MeanBackward1>)\n",
      "Variance = tensor([0.0116], grad_fn=<VarBackward1>)\n"
     ]
    },
    {
     "name": "stdout",
     "output_type": "stream",
     "text": [
      "Test 47\n",
      "Original prediction = tensor([[1.3071]], grad_fn=<AddmmBackward>)\n",
      "Mean = tensor([1.3047], grad_fn=<MeanBackward1>)\n",
      "Variance = tensor([0.0001], grad_fn=<VarBackward1>)\n",
      "Test 48\n",
      "Original prediction = tensor([[1.3071]], grad_fn=<AddmmBackward>)\n",
      "Mean = tensor([1.3045], grad_fn=<MeanBackward1>)\n",
      "Variance = tensor([0.0001], grad_fn=<VarBackward1>)\n",
      "Test 49\n",
      "Original prediction = tensor([[21.7182]], grad_fn=<AddmmBackward>)\n",
      "Mean = tensor([21.3168], grad_fn=<MeanBackward1>)\n",
      "Variance = tensor([2.7489], grad_fn=<VarBackward1>)\n",
      "Test 50\n",
      "Original prediction = tensor([[6.2145]], grad_fn=<AddmmBackward>)\n",
      "Mean = tensor([6.1119], grad_fn=<MeanBackward1>)\n",
      "Variance = tensor([0.2785], grad_fn=<VarBackward1>)\n",
      "Test 51\n",
      "Original prediction = tensor([[28.2015]], grad_fn=<AddmmBackward>)\n",
      "Mean = tensor([27.6055], grad_fn=<MeanBackward1>)\n",
      "Variance = tensor([5.6438], grad_fn=<VarBackward1>)\n",
      "Test 52\n",
      "Original prediction = tensor([[1.3071]], grad_fn=<AddmmBackward>)\n",
      "Mean = tensor([1.3045], grad_fn=<MeanBackward1>)\n",
      "Variance = tensor([0.0001], grad_fn=<VarBackward1>)\n",
      "Test 53\n",
      "Original prediction = tensor([[45.9356]], grad_fn=<AddmmBackward>)\n",
      "Mean = tensor([45.0163], grad_fn=<MeanBackward1>)\n",
      "Variance = tensor([14.7282], grad_fn=<VarBackward1>)\n",
      "Test 54\n",
      "Original prediction = tensor([[1.3071]], grad_fn=<AddmmBackward>)\n",
      "Mean = tensor([1.3047], grad_fn=<MeanBackward1>)\n",
      "Variance = tensor([0.0001], grad_fn=<VarBackward1>)\n",
      "Test 55\n",
      "Original prediction = tensor([[51.3537]], grad_fn=<AddmmBackward>)\n",
      "Mean = tensor([50.2976], grad_fn=<MeanBackward1>)\n",
      "Variance = tensor([18.7321], grad_fn=<VarBackward1>)\n",
      "Test 56\n",
      "Original prediction = tensor([[47.1963]], grad_fn=<AddmmBackward>)\n",
      "Mean = tensor([46.2263], grad_fn=<MeanBackward1>)\n",
      "Variance = tensor([15.4888], grad_fn=<VarBackward1>)\n",
      "Test 57\n",
      "Original prediction = tensor([[7.0235]], grad_fn=<AddmmBackward>)\n",
      "Mean = tensor([6.9009], grad_fn=<MeanBackward1>)\n",
      "Variance = tensor([0.4132], grad_fn=<VarBackward1>)\n",
      "Test 58\n",
      "Original prediction = tensor([[1.3071]], grad_fn=<AddmmBackward>)\n",
      "Mean = tensor([1.3045], grad_fn=<MeanBackward1>)\n",
      "Variance = tensor([0.0001], grad_fn=<VarBackward1>)\n",
      "Test 59\n",
      "Original prediction = tensor([[1.3071]], grad_fn=<AddmmBackward>)\n",
      "Mean = tensor([1.3045], grad_fn=<MeanBackward1>)\n",
      "Variance = tensor([0.0001], grad_fn=<VarBackward1>)\n",
      "Test 60\n",
      "Original prediction = tensor([[1.3071]], grad_fn=<AddmmBackward>)\n",
      "Mean = tensor([1.3045], grad_fn=<MeanBackward1>)\n",
      "Variance = tensor([0.0001], grad_fn=<VarBackward1>)\n",
      "Test 61\n",
      "Original prediction = tensor([[22.6270]], grad_fn=<AddmmBackward>)\n",
      "Mean = tensor([22.1517], grad_fn=<MeanBackward1>)\n",
      "Variance = tensor([3.3952], grad_fn=<VarBackward1>)\n"
     ]
    }
   ],
   "source": [
    "for i, data in enumerate(test_loader):\n",
    "    inputs, targets = data\n",
    "    \n",
    "    predictions, mean, var = network.mc_predict(inputs)\n",
    "\n",
    "    print(\"Test \" + str(i))\n",
    "    print(\"Original prediction = \" + str(network(inputs)))\n",
    "    print(\"Mean = \" + str(mean))\n",
    "    print(\"Variance = \" + str(var))"
   ]
  },
  {
   "cell_type": "code",
   "execution_count": null,
   "metadata": {},
   "outputs": [],
   "source": []
  }
 ],
 "metadata": {
  "kernelspec": {
   "display_name": "Python 3",
   "language": "python",
   "name": "python3"
  },
  "language_info": {
   "codemirror_mode": {
    "name": "ipython",
    "version": 3
   },
   "file_extension": ".py",
   "mimetype": "text/x-python",
   "name": "python",
   "nbconvert_exporter": "python",
   "pygments_lexer": "ipython3",
   "version": "3.6.8"
  }
 },
 "nbformat": 4,
 "nbformat_minor": 2
}
