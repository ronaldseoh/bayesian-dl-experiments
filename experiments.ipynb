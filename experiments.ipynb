{
 "cells": [
  {
   "cell_type": "code",
   "execution_count": 1,
   "metadata": {
    "colab": {
     "base_uri": "https://localhost:8080/",
     "height": 156
    },
    "colab_type": "code",
    "executionInfo": {
     "elapsed": 23968,
     "status": "ok",
     "timestamp": 1572888905019,
     "user": {
      "displayName": "Ronald Seoh",
      "photoUrl": "",
      "userId": "10284188050297676522"
     },
     "user_tz": 300
    },
    "id": "i3PGAUFJVFHI",
    "outputId": "52d5f23c-29be-47db-a142-d9a9e056f1b1"
   },
   "outputs": [
    {
     "name": "stdout",
     "output_type": "stream",
     "text": [
      "Go to this URL in a browser: https://accounts.google.com/o/oauth2/auth?client_id=947318989803-6bn6qk8qdgf4n4g3pfee6491hc0brc4i.apps.googleusercontent.com&redirect_uri=urn%3Aietf%3Awg%3Aoauth%3A2.0%3Aoob&scope=email%20https%3A%2F%2Fwww.googleapis.com%2Fauth%2Fdocs.test%20https%3A%2F%2Fwww.googleapis.com%2Fauth%2Fdrive%20https%3A%2F%2Fwww.googleapis.com%2Fauth%2Fdrive.photos.readonly%20https%3A%2F%2Fwww.googleapis.com%2Fauth%2Fpeopleapi.readonly&response_type=code\n",
      "\n",
      "Enter your authorization code:\n",
      "··········\n",
      "Mounted at /content/drive\n",
      "/content/drive/My Drive/Colab Notebooks/bayesian-dl-experiments\n",
      "datasets_files\texperiments.ipynb  LICENSE  README.md  ronald_bdl\n"
     ]
    }
   ],
   "source": [
    "# Google Colab-only setup. No need to run this cell in other environments.\n",
    " \n",
    "# Mount my Google Drive root folder\n",
    "from google.colab import drive\n",
    "drive.mount('/content/drive')\n",
    "\n",
    "# cd to bayesian-dl-experiments directory\n",
    "%cd 'drive/My Drive/Colab Notebooks/bayesian-dl-experiments'\n",
    "!ls"
   ]
  },
  {
   "cell_type": "markdown",
   "metadata": {
    "colab_type": "text",
    "id": "Bka_bK83VFHh"
   },
   "source": [
    "## Experiment Setup"
   ]
  },
  {
   "cell_type": "code",
   "execution_count": 0,
   "metadata": {
    "colab": {},
    "colab_type": "code",
    "id": "pHbfpytEVFHu"
   },
   "outputs": [],
   "source": [
    "import torch\n",
    "import numpy as np\n",
    "\n",
    "# IPython reloading magic\n",
    "%load_ext autoreload\n",
    "%autoreload 2\n",
    "\n",
    "# Random seeds\n",
    "# Based on https://pytorch.org/docs/stable/notes/randomness.html\n",
    "torch.manual_seed(682)\n",
    "np.random.seed(682)\n",
    "\n",
    "# torch.device / CUDA Setup\n",
    "use_cuda = True\n",
    "\n",
    "if use_cuda and torch.cuda.is_available():\n",
    "    torch_device = torch.device('cuda')\n",
    "    torch.backends.cudnn.deterministic = True\n",
    "    torch.backends.cudnn.benchmark = False\n",
    "else:\n",
    "    torch_device = torch.device('cpu')\n",
    "\n",
    "# Dataset to use\n",
    "dataset_name = 'yacht'\n",
    "\n",
    "# Training set size\n",
    "dataset_train_size = 0.8\n",
    "\n",
    "# Epochs\n",
    "n_epochs = 10"
   ]
  },
  {
   "cell_type": "markdown",
   "metadata": {
    "colab_type": "text",
    "id": "sZwe_f-yVFIf"
   },
   "source": [
    "## Prepare data"
   ]
  },
  {
   "cell_type": "markdown",
   "metadata": {
    "colab_type": "text",
    "id": "eEfdrHcOVFIj"
   },
   "source": [
    "### Get the data as a torch Dataset object"
   ]
  },
  {
   "cell_type": "code",
   "execution_count": 3,
   "metadata": {
    "colab": {
     "base_uri": "https://localhost:8080/",
     "height": 51
    },
    "colab_type": "code",
    "executionInfo": {
     "elapsed": 29318,
     "status": "ok",
     "timestamp": 1572888910387,
     "user": {
      "displayName": "Ronald Seoh",
      "photoUrl": "",
      "userId": "10284188050297676522"
     },
     "user_tz": 300
    },
    "id": "5u5qU-9JVFIr",
    "outputId": "53f78ffd-3926-4103-d351-872d40b045d3"
   },
   "outputs": [
    {
     "name": "stdout",
     "output_type": "stream",
     "text": [
      "Using downloaded and verified file: ./datasets_files/yacht/yacht_hydrodynamics.data\n",
      "dataset sizetorch.Size([308, 7])\n"
     ]
    }
   ],
   "source": [
    "from ronald_bdl import datasets\n",
    "\n",
    "if dataset_name == 'MNIST':\n",
    "    dataset = datasets.MNIST(root_dir='./datasets_files', transform=None, download=True)\n",
    "else:\n",
    "    dataset = datasets.UCIDatasets(dataset_name, root_dir='./datasets_files', transform=None, download=True)\n",
    "\n",
    "# Print the size of the dataset\n",
    "print(\"dataset size = \" + str(dataset.data.shape))"
   ]
  },
  {
   "cell_type": "markdown",
   "metadata": {
    "colab_type": "text",
    "id": "gp8XFM6CVFJL"
   },
   "source": [
    "### Split into training/test set using torch's DataLoader"
   ]
  },
  {
   "cell_type": "code",
   "execution_count": 0,
   "metadata": {
    "colab": {},
    "colab_type": "code",
    "id": "htdrv66ZVFJO"
   },
   "outputs": [],
   "source": [
    "from torch.utils.data import random_split, DataLoader\n",
    "\n",
    "train_size = int(dataset_train_size * len(dataset))\n",
    "test_size = len(dataset) - train_size\n",
    "\n",
    "train, test = random_split(dataset, lengths=[train_size, test_size])\n",
    "\n",
    "train_loader = DataLoader(train, batch_size=10)\n",
    "test_loader = DataLoader(test, batch_size=1)"
   ]
  },
  {
   "cell_type": "markdown",
   "metadata": {
    "colab_type": "text",
    "id": "LaasFWpqVFJ1"
   },
   "source": [
    "## Define network"
   ]
  },
  {
   "cell_type": "code",
   "execution_count": 5,
   "metadata": {
    "colab": {
     "base_uri": "https://localhost:8080/",
     "height": 153
    },
    "colab_type": "code",
    "executionInfo": {
     "elapsed": 36104,
     "status": "ok",
     "timestamp": 1572888917189,
     "user": {
      "displayName": "Ronald Seoh",
      "photoUrl": "",
      "userId": "10284188050297676522"
     },
     "user_tz": 300
    },
    "id": "gAqkGtg7VFJ9",
    "outputId": "21d0a1ad-457c-485d-c11b-d95dac89a385"
   },
   "outputs": [
    {
     "name": "stdout",
     "output_type": "stream",
     "text": [
      "FCNetMCDropout(\n",
      "  (input): Linear(in_features=6, out_features=100, bias=True)\n",
      "  (hidden_layers): ModuleList(\n",
      "    (0): Linear(in_features=100, out_features=100, bias=True)\n",
      "    (1): Linear(in_features=100, out_features=100, bias=True)\n",
      "  )\n",
      "  (output): Linear(in_features=100, out_features=1, bias=True)\n",
      ")\n"
     ]
    }
   ],
   "source": [
    "from ronald_bdl import models\n",
    "\n",
    "network = models.FCNetMCDropout(\n",
    "    input_dim=len(dataset.features), \n",
    "    output_dim=len(dataset.targets),\n",
    "    hidden_dim=100,\n",
    "    n_hidden=2,\n",
    "    n_predictions=10000,\n",
    "    dropout_rate=0.01,\n",
    ")\n",
    "\n",
    "# Send the whole model to the selected torch.device\n",
    "network.to(torch_device)\n",
    "\n",
    "# Print the network structure\n",
    "print(network)"
   ]
  },
  {
   "cell_type": "markdown",
   "metadata": {
    "colab_type": "text",
    "id": "1PpzPMI8VFKE"
   },
   "source": [
    "## Train the network"
   ]
  },
  {
   "cell_type": "markdown",
   "metadata": {
    "colab_type": "text",
    "id": "DuTnXABzVFKI"
   },
   "source": [
    "### Setup optimizer"
   ]
  },
  {
   "cell_type": "code",
   "execution_count": 0,
   "metadata": {
    "colab": {},
    "colab_type": "code",
    "id": "p19qFgSAVFKS"
   },
   "outputs": [],
   "source": [
    "from torch import nn, optim\n",
    "\n",
    "objective = nn.MSELoss()\n",
    "optimizer = optim.Adam(network.parameters(), lr=0.01)"
   ]
  },
  {
   "cell_type": "markdown",
   "metadata": {
    "colab_type": "text",
    "id": "Jc7Td1h1VFKb"
   },
   "source": [
    "### Run the optimizer"
   ]
  },
  {
   "cell_type": "code",
   "execution_count": 7,
   "metadata": {
    "colab": {
     "base_uri": "https://localhost:8080/",
     "height": 187
    },
    "colab_type": "code",
    "executionInfo": {
     "elapsed": 38058,
     "status": "ok",
     "timestamp": 1572888919158,
     "user": {
      "displayName": "Ronald Seoh",
      "photoUrl": "",
      "userId": "10284188050297676522"
     },
     "user_tz": 300
    },
    "id": "m4kavCiTVFKf",
    "outputId": "f0642c31-f41f-4cc3-cf7f-22a496b86861",
    "scrolled": true
   },
   "outputs": [
    {
     "name": "stdout",
     "output_type": "stream",
     "text": [
      "Running epoch 0\n",
      "Running epoch 1\n",
      "Running epoch 2\n",
      "Running epoch 3\n",
      "Running epoch 4\n",
      "Running epoch 5\n",
      "Running epoch 6\n",
      "Running epoch 7\n",
      "Running epoch 8\n",
      "Running epoch 9\n"
     ]
    }
   ],
   "source": [
    "# Partially adapted from https://pytorch.org/tutorials/beginner/blitz/cifar10_tutorial.html\n",
    "for epoch in range(n_epochs): # loop over the dataset multiple times\n",
    "\n",
    "    print(\"Running epoch \" + str(epoch))\n",
    "\n",
    "    for i, data in enumerate(train_loader):\n",
    "        # get the inputs; data is a list of [inputs, labels]\n",
    "        inputs, targets = data\n",
    "\n",
    "        # Store the batch to torch_device's memory\n",
    "        inputs = inputs.to(torch_device)\n",
    "        targets = targets.to(torch_device)\n",
    "\n",
    "        # zero the parameter gradients\n",
    "        optimizer.zero_grad()\n",
    "\n",
    "        # forward + backward + optimize\n",
    "        outputs = network(inputs)\n",
    "\n",
    "        loss = objective(outputs, targets)\n",
    "        loss.backward()\n",
    "\n",
    "        optimizer.step()"
   ]
  },
  {
   "cell_type": "markdown",
   "metadata": {
    "colab_type": "text",
    "id": "WH5LNjV4VFKo"
   },
   "source": [
    "## Make predictions"
   ]
  },
  {
   "cell_type": "code",
   "execution_count": 8,
   "metadata": {
    "colab": {
     "base_uri": "https://localhost:8080/",
     "height": 1000
    },
    "colab_type": "code",
    "executionInfo": {
     "elapsed": 331714,
     "status": "ok",
     "timestamp": 1572889212824,
     "user": {
      "displayName": "Ronald Seoh",
      "photoUrl": "",
      "userId": "10284188050297676522"
     },
     "user_tz": 300
    },
    "id": "-6oPJUIKVFKq",
    "outputId": "205c7ef7-27ce-4ac8-a33f-26ab7c06807c"
   },
   "outputs": [
    {
     "name": "stdout",
     "output_type": "stream",
     "text": [
      "Test 0\n",
      "Mean = tensor([5.8063], device='cuda:0', grad_fn=<MeanBackward1>)\n",
      "Variance = tensor([0.4840], device='cuda:0', grad_fn=<VarBackward1>)\n",
      "\n",
      "Test 1\n",
      "Mean = tensor([2.8014], device='cuda:0', grad_fn=<MeanBackward1>)\n",
      "Variance = tensor([0.2735], device='cuda:0', grad_fn=<VarBackward1>)\n",
      "\n",
      "Test 2\n",
      "Mean = tensor([0.9864], device='cuda:0', grad_fn=<MeanBackward1>)\n",
      "Variance = tensor([0.2005], device='cuda:0', grad_fn=<VarBackward1>)\n",
      "\n",
      "Test 3\n",
      "Mean = tensor([13.1073], device='cuda:0', grad_fn=<MeanBackward1>)\n",
      "Variance = tensor([0.8315], device='cuda:0', grad_fn=<VarBackward1>)\n",
      "\n",
      "Test 4\n",
      "Mean = tensor([2.1171], device='cuda:0', grad_fn=<MeanBackward1>)\n",
      "Variance = tensor([0.3777], device='cuda:0', grad_fn=<VarBackward1>)\n",
      "\n",
      "Test 5\n",
      "Mean = tensor([0.5097], device='cuda:0', grad_fn=<MeanBackward1>)\n",
      "Variance = tensor([0.0019], device='cuda:0', grad_fn=<VarBackward1>)\n",
      "\n",
      "Test 6\n",
      "Mean = tensor([8.9506], device='cuda:0', grad_fn=<MeanBackward1>)\n",
      "Variance = tensor([0.6228], device='cuda:0', grad_fn=<VarBackward1>)\n",
      "\n",
      "Test 7\n",
      "Mean = tensor([20.4601], device='cuda:0', grad_fn=<MeanBackward1>)\n",
      "Variance = tensor([1.1942], device='cuda:0', grad_fn=<VarBackward1>)\n",
      "\n",
      "Test 8\n",
      "Mean = tensor([4.4594], device='cuda:0', grad_fn=<MeanBackward1>)\n",
      "Variance = tensor([0.3773], device='cuda:0', grad_fn=<VarBackward1>)\n",
      "\n",
      "Test 9\n",
      "Mean = tensor([13.4727], device='cuda:0', grad_fn=<MeanBackward1>)\n",
      "Variance = tensor([0.8009], device='cuda:0', grad_fn=<VarBackward1>)\n",
      "\n",
      "Test 10\n",
      "Mean = tensor([1.2290], device='cuda:0', grad_fn=<MeanBackward1>)\n",
      "Variance = tensor([0.0470], device='cuda:0', grad_fn=<VarBackward1>)\n",
      "\n",
      "Test 11\n",
      "Mean = tensor([10.4360], device='cuda:0', grad_fn=<MeanBackward1>)\n",
      "Variance = tensor([0.7311], device='cuda:0', grad_fn=<VarBackward1>)\n",
      "\n",
      "Test 12\n",
      "Mean = tensor([0.7898], device='cuda:0', grad_fn=<MeanBackward1>)\n",
      "Variance = tensor([0.0563], device='cuda:0', grad_fn=<VarBackward1>)\n",
      "\n",
      "Test 13\n",
      "Mean = tensor([0.6755], device='cuda:0', grad_fn=<MeanBackward1>)\n",
      "Variance = tensor([0.0737], device='cuda:0', grad_fn=<VarBackward1>)\n",
      "\n",
      "Test 14\n",
      "Mean = tensor([0.4192], device='cuda:0', grad_fn=<MeanBackward1>)\n",
      "Variance = tensor([0.0012], device='cuda:0', grad_fn=<VarBackward1>)\n",
      "\n",
      "Test 15\n",
      "Mean = tensor([0.4277], device='cuda:0', grad_fn=<MeanBackward1>)\n",
      "Variance = tensor([0.0011], device='cuda:0', grad_fn=<VarBackward1>)\n",
      "\n",
      "Test 16\n",
      "Mean = tensor([15.8440], device='cuda:0', grad_fn=<MeanBackward1>)\n",
      "Variance = tensor([0.8908], device='cuda:0', grad_fn=<VarBackward1>)\n",
      "\n",
      "Test 17\n",
      "Mean = tensor([11.3954], device='cuda:0', grad_fn=<MeanBackward1>)\n",
      "Variance = tensor([0.8193], device='cuda:0', grad_fn=<VarBackward1>)\n",
      "\n",
      "Test 18\n",
      "Mean = tensor([0.4086], device='cuda:0', grad_fn=<MeanBackward1>)\n",
      "Variance = tensor([0.2065], device='cuda:0', grad_fn=<VarBackward1>)\n",
      "\n",
      "Test 19\n",
      "Mean = tensor([8.8858], device='cuda:0', grad_fn=<MeanBackward1>)\n",
      "Variance = tensor([1.2112], device='cuda:0', grad_fn=<VarBackward1>)\n",
      "\n",
      "Test 20\n",
      "Mean = tensor([0.8514], device='cuda:0', grad_fn=<MeanBackward1>)\n",
      "Variance = tensor([0.4616], device='cuda:0', grad_fn=<VarBackward1>)\n",
      "\n",
      "Test 21\n",
      "Mean = tensor([8.1694], device='cuda:0', grad_fn=<MeanBackward1>)\n",
      "Variance = tensor([0.4660], device='cuda:0', grad_fn=<VarBackward1>)\n",
      "\n",
      "Test 22\n",
      "Mean = tensor([21.9833], device='cuda:0', grad_fn=<MeanBackward1>)\n",
      "Variance = tensor([1.6134], device='cuda:0', grad_fn=<VarBackward1>)\n",
      "\n",
      "Test 23\n",
      "Mean = tensor([27.7274], device='cuda:0', grad_fn=<MeanBackward1>)\n",
      "Variance = tensor([1.8474], device='cuda:0', grad_fn=<VarBackward1>)\n",
      "\n",
      "Test 24\n",
      "Mean = tensor([0.5059], device='cuda:0', grad_fn=<MeanBackward1>)\n",
      "Variance = tensor([0.0088], device='cuda:0', grad_fn=<VarBackward1>)\n",
      "\n",
      "Test 25\n",
      "Mean = tensor([1.9535], device='cuda:0', grad_fn=<MeanBackward1>)\n",
      "Variance = tensor([0.2336], device='cuda:0', grad_fn=<VarBackward1>)\n",
      "\n",
      "Test 26\n",
      "Mean = tensor([0.4481], device='cuda:0', grad_fn=<MeanBackward1>)\n",
      "Variance = tensor([0.0010], device='cuda:0', grad_fn=<VarBackward1>)\n",
      "\n",
      "Test 27\n",
      "Mean = tensor([0.5038], device='cuda:0', grad_fn=<MeanBackward1>)\n",
      "Variance = tensor([0.0067], device='cuda:0', grad_fn=<VarBackward1>)\n",
      "\n",
      "Test 28\n",
      "Mean = tensor([13.0785], device='cuda:0', grad_fn=<MeanBackward1>)\n",
      "Variance = tensor([0.8130], device='cuda:0', grad_fn=<VarBackward1>)\n",
      "\n",
      "Test 29\n",
      "Mean = tensor([0.8765], device='cuda:0', grad_fn=<MeanBackward1>)\n",
      "Variance = tensor([0.0151], device='cuda:0', grad_fn=<VarBackward1>)\n",
      "\n",
      "Test 30\n",
      "Mean = tensor([21.7024], device='cuda:0', grad_fn=<MeanBackward1>)\n",
      "Variance = tensor([1.4323], device='cuda:0', grad_fn=<VarBackward1>)\n",
      "\n",
      "Test 31\n",
      "Mean = tensor([12.4402], device='cuda:0', grad_fn=<MeanBackward1>)\n",
      "Variance = tensor([0.7895], device='cuda:0', grad_fn=<VarBackward1>)\n",
      "\n",
      "Test 32\n",
      "Mean = tensor([0.4360], device='cuda:0', grad_fn=<MeanBackward1>)\n",
      "Variance = tensor([0.0010], device='cuda:0', grad_fn=<VarBackward1>)\n",
      "\n",
      "Test 33\n",
      "Mean = tensor([9.7018], device='cuda:0', grad_fn=<MeanBackward1>)\n",
      "Variance = tensor([0.6531], device='cuda:0', grad_fn=<VarBackward1>)\n",
      "\n",
      "Test 34\n",
      "Mean = tensor([1.6015], device='cuda:0', grad_fn=<MeanBackward1>)\n",
      "Variance = tensor([0.0908], device='cuda:0', grad_fn=<VarBackward1>)\n",
      "\n",
      "Test 35\n",
      "Mean = tensor([20.1274], device='cuda:0', grad_fn=<MeanBackward1>)\n",
      "Variance = tensor([1.9463], device='cuda:0', grad_fn=<VarBackward1>)\n",
      "\n",
      "Test 36\n",
      "Mean = tensor([2.9539], device='cuda:0', grad_fn=<MeanBackward1>)\n",
      "Variance = tensor([0.1974], device='cuda:0', grad_fn=<VarBackward1>)\n",
      "\n",
      "Test 37\n",
      "Mean = tensor([0.5282], device='cuda:0', grad_fn=<MeanBackward1>)\n",
      "Variance = tensor([0.0182], device='cuda:0', grad_fn=<VarBackward1>)\n",
      "\n",
      "Test 38\n",
      "Mean = tensor([0.4464], device='cuda:0', grad_fn=<MeanBackward1>)\n",
      "Variance = tensor([0.0010], device='cuda:0', grad_fn=<VarBackward1>)\n",
      "\n",
      "Test 39\n",
      "Mean = tensor([10.9428], device='cuda:0', grad_fn=<MeanBackward1>)\n",
      "Variance = tensor([0.7919], device='cuda:0', grad_fn=<VarBackward1>)\n",
      "\n",
      "Test 40\n",
      "Mean = tensor([5.7478], device='cuda:0', grad_fn=<MeanBackward1>)\n",
      "Variance = tensor([1.0107], device='cuda:0', grad_fn=<VarBackward1>)\n",
      "\n",
      "Test 41\n",
      "Mean = tensor([0.3513], device='cuda:0', grad_fn=<MeanBackward1>)\n",
      "Variance = tensor([0.0546], device='cuda:0', grad_fn=<VarBackward1>)\n",
      "\n",
      "Test 42\n",
      "Mean = tensor([1.7126], device='cuda:0', grad_fn=<MeanBackward1>)\n",
      "Variance = tensor([0.6452], device='cuda:0', grad_fn=<VarBackward1>)\n",
      "\n",
      "Test 43\n",
      "Mean = tensor([7.6905], device='cuda:0', grad_fn=<MeanBackward1>)\n",
      "Variance = tensor([0.7763], device='cuda:0', grad_fn=<VarBackward1>)\n",
      "\n",
      "Test 44\n",
      "Mean = tensor([2.3700], device='cuda:0', grad_fn=<MeanBackward1>)\n",
      "Variance = tensor([0.1537], device='cuda:0', grad_fn=<VarBackward1>)\n",
      "\n",
      "Test 45\n",
      "Mean = tensor([18.1152], device='cuda:0', grad_fn=<MeanBackward1>)\n",
      "Variance = tensor([1.1716], device='cuda:0', grad_fn=<VarBackward1>)\n",
      "\n",
      "Test 46\n",
      "Mean = tensor([0.7867], device='cuda:0', grad_fn=<MeanBackward1>)\n",
      "Variance = tensor([0.1268], device='cuda:0', grad_fn=<VarBackward1>)\n",
      "\n",
      "Test 47\n",
      "Mean = tensor([0.5836], device='cuda:0', grad_fn=<MeanBackward1>)\n",
      "Variance = tensor([0.0050], device='cuda:0', grad_fn=<VarBackward1>)\n",
      "\n",
      "Test 48\n",
      "Mean = tensor([0.5720], device='cuda:0', grad_fn=<MeanBackward1>)\n",
      "Variance = tensor([0.0256], device='cuda:0', grad_fn=<VarBackward1>)\n",
      "\n",
      "Test 49\n",
      "Mean = tensor([19.6522], device='cuda:0', grad_fn=<MeanBackward1>)\n",
      "Variance = tensor([2.0029], device='cuda:0', grad_fn=<VarBackward1>)\n",
      "\n",
      "Test 50\n",
      "Mean = tensor([3.7136], device='cuda:0', grad_fn=<MeanBackward1>)\n",
      "Variance = tensor([0.3698], device='cuda:0', grad_fn=<VarBackward1>)\n",
      "\n",
      "Test 51\n",
      "Mean = tensor([17.3536], device='cuda:0', grad_fn=<MeanBackward1>)\n",
      "Variance = tensor([1.0180], device='cuda:0', grad_fn=<VarBackward1>)\n",
      "\n",
      "Test 52\n",
      "Mean = tensor([0.4207], device='cuda:0', grad_fn=<MeanBackward1>)\n",
      "Variance = tensor([0.0011], device='cuda:0', grad_fn=<VarBackward1>)\n",
      "\n",
      "Test 53\n",
      "Mean = tensor([21.1363], device='cuda:0', grad_fn=<MeanBackward1>)\n",
      "Variance = tensor([1.3841], device='cuda:0', grad_fn=<VarBackward1>)\n",
      "\n",
      "Test 54\n",
      "Mean = tensor([0.6702], device='cuda:0', grad_fn=<MeanBackward1>)\n",
      "Variance = tensor([0.0003], device='cuda:0', grad_fn=<VarBackward1>)\n",
      "\n",
      "Test 55\n",
      "Mean = tensor([28.0299], device='cuda:0', grad_fn=<MeanBackward1>)\n",
      "Variance = tensor([2.7043], device='cuda:0', grad_fn=<VarBackward1>)\n",
      "\n",
      "Test 56\n",
      "Mean = tensor([22.1853], device='cuda:0', grad_fn=<MeanBackward1>)\n",
      "Variance = tensor([1.4852], device='cuda:0', grad_fn=<VarBackward1>)\n",
      "\n",
      "Test 57\n",
      "Mean = tensor([4.5493], device='cuda:0', grad_fn=<MeanBackward1>)\n",
      "Variance = tensor([0.3261], device='cuda:0', grad_fn=<VarBackward1>)\n",
      "\n",
      "Test 58\n",
      "Mean = tensor([0.6880], device='cuda:0', grad_fn=<MeanBackward1>)\n",
      "Variance = tensor([0.0929], device='cuda:0', grad_fn=<VarBackward1>)\n",
      "\n",
      "Test 59\n",
      "Mean = tensor([2.0229], device='cuda:0', grad_fn=<MeanBackward1>)\n",
      "Variance = tensor([0.9040], device='cuda:0', grad_fn=<VarBackward1>)\n",
      "\n",
      "Test 60\n",
      "Mean = tensor([0.5739], device='cuda:0', grad_fn=<MeanBackward1>)\n",
      "Variance = tensor([0.0067], device='cuda:0', grad_fn=<VarBackward1>)\n",
      "\n",
      "Test 61\n",
      "Mean = tensor([17.9372], device='cuda:0', grad_fn=<MeanBackward1>)\n",
      "Variance = tensor([1.3682], device='cuda:0', grad_fn=<VarBackward1>)\n",
      "\n"
     ]
    }
   ],
   "source": [
    "for i, data in enumerate(test_loader):\n",
    "    # Get the test data\n",
    "    inputs, targets = data\n",
    "\n",
    "    # Store the batch to torch_device's memory\n",
    "    inputs = inputs.to(torch_device)\n",
    "    targets = targets.to(torch_device)\n",
    "    \n",
    "    predictions, mean, var = network.mc_predict(inputs)\n",
    "\n",
    "    print(\"Test \" + str(i))\n",
    "    print(\"Mean = \" + str(mean))\n",
    "    print(\"Variance = \" + str(var))\n",
    "    print()"
   ]
  },
  {
   "cell_type": "code",
   "execution_count": 0,
   "metadata": {
    "colab": {},
    "colab_type": "code",
    "id": "PB4HFH9MVFK3"
   },
   "outputs": [],
   "source": []
  }
 ],
 "metadata": {
  "accelerator": "GPU",
  "colab": {
   "collapsed_sections": [],
   "name": "experiments.ipynb",
   "provenance": []
  },
  "kernelspec": {
   "display_name": "Python 3",
   "language": "python",
   "name": "python3"
  },
  "language_info": {
   "codemirror_mode": {
    "name": "ipython",
    "version": 3
   },
   "file_extension": ".py",
   "mimetype": "text/x-python",
   "name": "python",
   "nbconvert_exporter": "python",
   "pygments_lexer": "ipython3",
   "version": "3.6.8"
  }
 },
 "nbformat": 4,
 "nbformat_minor": 1
}
