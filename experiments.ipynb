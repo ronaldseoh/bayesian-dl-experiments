{
 "cells": [
  {
   "cell_type": "code",
   "execution_count": 1,
   "metadata": {
    "colab": {
     "base_uri": "https://localhost:8080/",
     "height": 156
    },
    "colab_type": "code",
    "executionInfo": {
     "elapsed": 23968,
     "status": "ok",
     "timestamp": 1572888905019,
     "user": {
      "displayName": "Ronald Seoh",
      "photoUrl": "",
      "userId": "10284188050297676522"
     },
     "user_tz": 300
    },
    "id": "i3PGAUFJVFHI",
    "outputId": "52d5f23c-29be-47db-a142-d9a9e056f1b1"
   },
   "outputs": [
    {
     "name": "stdout",
     "output_type": "stream",
     "text": [
      "Go to this URL in a browser: https://accounts.google.com/o/oauth2/auth?client_id=947318989803-6bn6qk8qdgf4n4g3pfee6491hc0brc4i.apps.googleusercontent.com&redirect_uri=urn%3Aietf%3Awg%3Aoauth%3A2.0%3Aoob&scope=email%20https%3A%2F%2Fwww.googleapis.com%2Fauth%2Fdocs.test%20https%3A%2F%2Fwww.googleapis.com%2Fauth%2Fdrive%20https%3A%2F%2Fwww.googleapis.com%2Fauth%2Fdrive.photos.readonly%20https%3A%2F%2Fwww.googleapis.com%2Fauth%2Fpeopleapi.readonly&response_type=code\n",
      "\n",
      "Enter your authorization code:\n",
      "··········\n",
      "Mounted at /content/drive\n",
      "/content/drive/My Drive/Colab Notebooks/bayesian-dl-experiments\n",
      "datasets_files\texperiments.ipynb  LICENSE  README.md  ronald_bdl\n"
     ]
    }
   ],
   "source": [
    "# Google Colab-only setup. No need to run this cell in other environments.\n",
    " \n",
    "# Mount my Google Drive root folder\n",
    "from google.colab import drive\n",
    "drive.mount('/content/drive')\n",
    "\n",
    "# cd to bayesian-dl-experiments directory\n",
    "%cd 'drive/My Drive/Colab Notebooks/bayesian-dl-experiments'\n",
    "!ls"
   ]
  },
  {
   "cell_type": "markdown",
   "metadata": {
    "colab_type": "text",
    "id": "Bka_bK83VFHh"
   },
   "source": [
    "## Experiment Setup"
   ]
  },
  {
   "cell_type": "code",
   "execution_count": 1,
   "metadata": {
    "colab": {},
    "colab_type": "code",
    "id": "pHbfpytEVFHu"
   },
   "outputs": [],
   "source": [
    "import torch\n",
    "import numpy as np\n",
    "\n",
    "# IPython reloading magic\n",
    "%load_ext autoreload\n",
    "%autoreload 2\n",
    "\n",
    "# Random seeds\n",
    "# Based on https://pytorch.org/docs/stable/notes/randomness.html\n",
    "torch.manual_seed(682)\n",
    "np.random.seed(682)\n",
    "\n",
    "# torch.device / CUDA Setup\n",
    "use_cuda = True\n",
    "\n",
    "if use_cuda and torch.cuda.is_available():\n",
    "    torch_device = torch.device('cuda')\n",
    "    torch.backends.cudnn.deterministic = True\n",
    "    torch.backends.cudnn.benchmark = False\n",
    "else:\n",
    "    torch_device = torch.device('cpu')\n",
    "\n",
    "# Dataset to use\n",
    "dataset_name = 'yacht'\n",
    "\n",
    "# Training set size\n",
    "dataset_train_size = 0.8\n",
    "\n",
    "# L2 regularization strength\n",
    "reg_strength = 0.01\n",
    "\n",
    "# Epochs\n",
    "n_epochs = 10"
   ]
  },
  {
   "cell_type": "markdown",
   "metadata": {
    "colab_type": "text",
    "id": "sZwe_f-yVFIf"
   },
   "source": [
    "## Prepare data"
   ]
  },
  {
   "cell_type": "markdown",
   "metadata": {
    "colab_type": "text",
    "id": "eEfdrHcOVFIj"
   },
   "source": [
    "### Get the data as a torch Dataset object"
   ]
  },
  {
   "cell_type": "code",
   "execution_count": 2,
   "metadata": {
    "colab": {
     "base_uri": "https://localhost:8080/",
     "height": 51
    },
    "colab_type": "code",
    "executionInfo": {
     "elapsed": 29318,
     "status": "ok",
     "timestamp": 1572888910387,
     "user": {
      "displayName": "Ronald Seoh",
      "photoUrl": "",
      "userId": "10284188050297676522"
     },
     "user_tz": 300
    },
    "id": "5u5qU-9JVFIr",
    "outputId": "53f78ffd-3926-4103-d351-872d40b045d3"
   },
   "outputs": [
    {
     "name": "stdout",
     "output_type": "stream",
     "text": [
      "Using downloaded and verified file: ./datasets_files/yacht/yacht_hydrodynamics.data\n",
      "dataset size = torch.Size([308, 7])\n"
     ]
    }
   ],
   "source": [
    "from ronald_bdl import datasets\n",
    "\n",
    "if dataset_name == 'MNIST':\n",
    "    dataset = datasets.MNIST(root_dir='./datasets_files', transform=None, download=True)\n",
    "else:\n",
    "    dataset = datasets.UCIDatasets(dataset_name, root_dir='./datasets_files', transform=None, download=True)\n",
    "\n",
    "# Print the size of the dataset\n",
    "print(\"dataset size = \" + str(dataset.data.shape))"
   ]
  },
  {
   "cell_type": "markdown",
   "metadata": {
    "colab_type": "text",
    "id": "gp8XFM6CVFJL"
   },
   "source": [
    "### Split into training/test set using torch's DataLoader"
   ]
  },
  {
   "cell_type": "code",
   "execution_count": 3,
   "metadata": {
    "colab": {},
    "colab_type": "code",
    "id": "htdrv66ZVFJO"
   },
   "outputs": [],
   "source": [
    "from torch.utils.data import random_split, DataLoader\n",
    "\n",
    "train_size = int(dataset_train_size * len(dataset))\n",
    "test_size = len(dataset) - train_size\n",
    "\n",
    "train, test = random_split(dataset, lengths=[train_size, test_size])\n",
    "\n",
    "train_loader = DataLoader(train, batch_size=10)\n",
    "test_loader = DataLoader(test, batch_size=1)"
   ]
  },
  {
   "cell_type": "markdown",
   "metadata": {
    "colab_type": "text",
    "id": "LaasFWpqVFJ1"
   },
   "source": [
    "## Define network"
   ]
  },
  {
   "cell_type": "code",
   "execution_count": 4,
   "metadata": {
    "colab": {
     "base_uri": "https://localhost:8080/",
     "height": 153
    },
    "colab_type": "code",
    "executionInfo": {
     "elapsed": 36104,
     "status": "ok",
     "timestamp": 1572888917189,
     "user": {
      "displayName": "Ronald Seoh",
      "photoUrl": "",
      "userId": "10284188050297676522"
     },
     "user_tz": 300
    },
    "id": "gAqkGtg7VFJ9",
    "outputId": "21d0a1ad-457c-485d-c11b-d95dac89a385"
   },
   "outputs": [
    {
     "name": "stdout",
     "output_type": "stream",
     "text": [
      "FCNetMCDropout(\n",
      "  (input): Linear(in_features=6, out_features=100, bias=True)\n",
      "  (hidden_layers): ModuleList(\n",
      "    (0): Linear(in_features=100, out_features=100, bias=True)\n",
      "    (1): Linear(in_features=100, out_features=100, bias=True)\n",
      "  )\n",
      "  (output): Linear(in_features=100, out_features=1, bias=True)\n",
      ")\n"
     ]
    }
   ],
   "source": [
    "from ronald_bdl import models\n",
    "\n",
    "network = models.FCNetMCDropout(\n",
    "    input_dim=len(dataset.features), \n",
    "    output_dim=len(dataset.targets),\n",
    "    hidden_dim=100,\n",
    "    n_hidden=2,\n",
    "    n_predictions=10000,\n",
    "    dropout_rate=0.01,\n",
    ")\n",
    "\n",
    "# Send the whole model to the selected torch.device\n",
    "network.to(torch_device)\n",
    "\n",
    "# Print the network structure\n",
    "print(network)"
   ]
  },
  {
   "cell_type": "markdown",
   "metadata": {
    "colab_type": "text",
    "id": "1PpzPMI8VFKE"
   },
   "source": [
    "## Train the network"
   ]
  },
  {
   "cell_type": "markdown",
   "metadata": {
    "colab_type": "text",
    "id": "DuTnXABzVFKI"
   },
   "source": [
    "### Setup optimizer"
   ]
  },
  {
   "cell_type": "code",
   "execution_count": 5,
   "metadata": {
    "colab": {},
    "colab_type": "code",
    "id": "p19qFgSAVFKS"
   },
   "outputs": [],
   "source": [
    "from torch import nn, optim\n",
    "\n",
    "# Mean Squared Error for loss function to minimize\n",
    "objective = nn.MSELoss()\n",
    "\n",
    "# Adam optimizer\n",
    "# https://pytorch.org/docs/stable/optim.html?highlight=adam#torch.optim.Adam\n",
    "# NOTE: Need to set L2 regularization from here\n",
    "optimizer = optim.Adam(\n",
    "    network.parameters(),\n",
    "    lr=0.01, \n",
    "    weight_decay=reg_strength # L2 regularization\n",
    ")"
   ]
  },
  {
   "cell_type": "markdown",
   "metadata": {
    "colab_type": "text",
    "id": "Jc7Td1h1VFKb"
   },
   "source": [
    "### Run the optimizer"
   ]
  },
  {
   "cell_type": "code",
   "execution_count": 6,
   "metadata": {
    "colab": {
     "base_uri": "https://localhost:8080/",
     "height": 187
    },
    "colab_type": "code",
    "executionInfo": {
     "elapsed": 38058,
     "status": "ok",
     "timestamp": 1572888919158,
     "user": {
      "displayName": "Ronald Seoh",
      "photoUrl": "",
      "userId": "10284188050297676522"
     },
     "user_tz": 300
    },
    "id": "m4kavCiTVFKf",
    "outputId": "f0642c31-f41f-4cc3-cf7f-22a496b86861",
    "scrolled": true
   },
   "outputs": [
    {
     "name": "stdout",
     "output_type": "stream",
     "text": [
      "Running epoch 0\n",
      "Running epoch 1\n",
      "Running epoch 2\n",
      "Running epoch 3\n",
      "Running epoch 4\n",
      "Running epoch 5\n",
      "Running epoch 6\n",
      "Running epoch 7\n",
      "Running epoch 8\n",
      "Running epoch 9\n"
     ]
    }
   ],
   "source": [
    "# Partially adapted from https://pytorch.org/tutorials/beginner/blitz/cifar10_tutorial.html\n",
    "for epoch in range(n_epochs): # loop over the dataset multiple times\n",
    "\n",
    "    print(\"Running epoch \" + str(epoch))\n",
    "\n",
    "    for i, data in enumerate(train_loader):\n",
    "        # get the inputs; data is a list of [inputs, labels]\n",
    "        inputs, targets = data\n",
    "\n",
    "        # Store the batch to torch_device's memory\n",
    "        inputs = inputs.to(torch_device)\n",
    "        targets = targets.to(torch_device)\n",
    "\n",
    "        # zero the parameter gradients\n",
    "        optimizer.zero_grad()\n",
    "\n",
    "        # forward + backward + optimize\n",
    "        outputs = network(inputs)\n",
    "\n",
    "        loss = objective(outputs, targets)\n",
    "        loss.backward()\n",
    "\n",
    "        optimizer.step()"
   ]
  },
  {
   "cell_type": "markdown",
   "metadata": {
    "colab_type": "text",
    "id": "WH5LNjV4VFKo"
   },
   "source": [
    "## Make predictions"
   ]
  },
  {
   "cell_type": "code",
   "execution_count": 7,
   "metadata": {
    "colab": {
     "base_uri": "https://localhost:8080/",
     "height": 1000
    },
    "colab_type": "code",
    "executionInfo": {
     "elapsed": 331714,
     "status": "ok",
     "timestamp": 1572889212824,
     "user": {
      "displayName": "Ronald Seoh",
      "photoUrl": "",
      "userId": "10284188050297676522"
     },
     "user_tz": 300
    },
    "id": "-6oPJUIKVFKq",
    "outputId": "205c7ef7-27ce-4ac8-a33f-26ab7c06807c"
   },
   "outputs": [
    {
     "name": "stdout",
     "output_type": "stream",
     "text": [
      "Test 0\n",
      "Mean = tensor([6.2692])\n",
      "Variance = tensor([0.5864])\n",
      "rmse = tensor(1.8592)\n",
      "test_ll = tensor(-3.2415)\n",
      "\n",
      "Test 1\n",
      "Mean = tensor([3.2319])\n",
      "Variance = tensor([0.3019])\n",
      "rmse = tensor(0.7719)\n",
      "test_ll = tensor(-3.2260)\n",
      "\n",
      "Test 2\n",
      "Mean = tensor([2.2242])\n",
      "Variance = tensor([0.1343])\n",
      "rmse = tensor(2.2358)\n",
      "test_ll = tensor(-3.2472)\n",
      "\n",
      "Test 3\n",
      "Mean = tensor([10.2875])\n",
      "Variance = tensor([0.9448])\n",
      "rmse = tensor(10.1225)\n",
      "test_ll = tensor(-3.7339)\n",
      "\n",
      "Test 4\n",
      "Mean = tensor([1.9496])\n",
      "Variance = tensor([0.0818])\n",
      "rmse = tensor(0.0404)\n",
      "test_ll = tensor(-3.2219)\n",
      "\n",
      "Test 5\n",
      "Mean = tensor([0.6048])\n",
      "Variance = tensor([0.0019])\n",
      "rmse = tensor(0.0952)\n",
      "test_ll = tensor(-3.2216)\n",
      "\n",
      "Test 6\n",
      "Mean = tensor([8.8177])\n",
      "Variance = tensor([0.6953])\n",
      "rmse = tensor(1.6577)\n",
      "test_ll = tensor(-3.2385)\n",
      "\n",
      "Test 7\n",
      "Mean = tensor([17.6887])\n",
      "Variance = tensor([1.4394])\n",
      "rmse = tensor(33.2513)\n",
      "test_ll = tensor(-8.6767)\n",
      "\n",
      "Test 8\n",
      "Mean = tensor([3.8750])\n",
      "Variance = tensor([0.3177])\n",
      "rmse = tensor(0.1150)\n",
      "test_ll = tensor(-3.2232)\n",
      "\n",
      "Test 9\n",
      "Mean = tensor([14.1824])\n",
      "Variance = tensor([1.0491])\n",
      "rmse = tensor(0.4124)\n",
      "test_ll = tensor(-3.2275)\n",
      "\n",
      "Test 10\n",
      "Mean = tensor([1.0811])\n",
      "Variance = tensor([0.0188])\n",
      "rmse = tensor(0.7489)\n",
      "test_ll = tensor(-3.2244)\n",
      "\n",
      "Test 11\n",
      "Mean = tensor([11.1846])\n",
      "Variance = tensor([0.9888])\n",
      "rmse = tensor(1.6754)\n",
      "test_ll = tensor(-3.2403)\n",
      "\n",
      "Test 12\n",
      "Mean = tensor([1.4612])\n",
      "Variance = tensor([0.0495])\n",
      "rmse = tensor(0.4512)\n",
      "test_ll = tensor(-3.2228)\n",
      "\n",
      "Test 13\n",
      "Mean = tensor([1.6491])\n",
      "Variance = tensor([0.0565])\n",
      "rmse = tensor(0.9609)\n",
      "test_ll = tensor(-3.2264)\n",
      "\n",
      "Test 14\n",
      "Mean = tensor([0.6815])\n",
      "Variance = tensor([0.0034])\n",
      "rmse = tensor(0.0685)\n",
      "test_ll = tensor(-3.2216)\n",
      "\n",
      "Test 15\n",
      "Mean = tensor([0.5708])\n",
      "Variance = tensor([0.0001])\n",
      "rmse = tensor(0.4608)\n",
      "test_ll = tensor(-3.2226)\n",
      "\n",
      "Test 16\n",
      "Mean = tensor([15.4006])\n",
      "Variance = tensor([1.0062])\n",
      "rmse = tensor(2.5406)\n",
      "test_ll = tensor(-3.2584)\n",
      "\n",
      "Test 17\n",
      "Mean = tensor([10.1682])\n",
      "Variance = tensor([1.0286])\n",
      "rmse = tensor(10.7418)\n",
      "test_ll = tensor(-3.7978)\n",
      "\n",
      "Test 18\n",
      "Mean = tensor([2.3293])\n",
      "Variance = tensor([0.2313])\n",
      "rmse = tensor(1.5393)\n",
      "test_ll = tensor(-3.2344)\n",
      "\n",
      "Test 19\n",
      "Mean = tensor([10.9288])\n",
      "Variance = tensor([1.2247])\n",
      "rmse = tensor(3.7888)\n",
      "test_ll = tensor(-3.2979)\n",
      "\n",
      "Test 20\n",
      "Mean = tensor([3.2728])\n",
      "Variance = tensor([0.4199])\n",
      "rmse = tensor(1.9728)\n",
      "test_ll = tensor(-3.2428)\n",
      "\n",
      "Test 21\n",
      "Mean = tensor([7.0210])\n",
      "Variance = tensor([0.5425])\n",
      "rmse = tensor(1.8310)\n",
      "test_ll = tensor(-3.2408)\n",
      "\n",
      "Test 22\n",
      "Mean = tensor([20.7008])\n",
      "Variance = tensor([1.6733])\n",
      "rmse = tensor(12.4392)\n",
      "test_ll = tensor(-3.9909)\n",
      "\n",
      "Test 23\n",
      "Mean = tensor([29.2706])\n",
      "Variance = tensor([2.2140])\n",
      "rmse = tensor(21.0894)\n",
      "test_ll = tensor(-5.4097)\n",
      "\n",
      "Test 24\n",
      "Mean = tensor([1.0585])\n",
      "Variance = tensor([0.0148])\n",
      "rmse = tensor(0.9215)\n",
      "test_ll = tensor(-3.2258)\n",
      "\n",
      "Test 25\n",
      "Mean = tensor([2.1297])\n",
      "Variance = tensor([0.0995])\n",
      "rmse = tensor(0.7003)\n",
      "test_ll = tensor(-3.2245)\n",
      "\n",
      "Test 26\n",
      "Mean = tensor([0.5711])\n",
      "Variance = tensor([0.0002])\n",
      "rmse = tensor(0.2511)\n",
      "test_ll = tensor(-3.2218)\n",
      "\n",
      "Test 27\n",
      "Mean = tensor([0.7365])\n",
      "Variance = tensor([0.0056])\n",
      "rmse = tensor(0.3865)\n",
      "test_ll = tensor(-3.2223)\n",
      "\n",
      "Test 28\n",
      "Mean = tensor([13.0445])\n",
      "Variance = tensor([0.9633])\n",
      "rmse = tensor(0.2845)\n",
      "test_ll = tensor(-3.2266)\n",
      "\n",
      "Test 29\n",
      "Mean = tensor([0.8005])\n",
      "Variance = tensor([0.0046])\n",
      "rmse = tensor(0.3295)\n",
      "test_ll = tensor(-3.2221)\n",
      "\n",
      "Test 30\n",
      "Mean = tensor([24.4747])\n",
      "Variance = tensor([1.9945])\n",
      "rmse = tensor(0.7053)\n",
      "test_ll = tensor(-3.2335)\n",
      "\n",
      "Test 31\n",
      "Mean = tensor([13.0752])\n",
      "Variance = tensor([1.0151])\n",
      "rmse = tensor(0.9252)\n",
      "test_ll = tensor(-3.2307)\n",
      "\n",
      "Test 32\n",
      "Mean = tensor([0.5695])\n",
      "Variance = tensor([0.0001])\n",
      "rmse = tensor(0.2995)\n",
      "test_ll = tensor(-3.2220)\n",
      "\n",
      "Test 33\n",
      "Mean = tensor([10.9031])\n",
      "Variance = tensor([0.8978])\n",
      "rmse = tensor(7.0331)\n",
      "test_ll = tensor(-3.4710)\n",
      "\n",
      "Test 34\n",
      "Mean = tensor([1.1782])\n",
      "Variance = tensor([0.0240])\n",
      "rmse = tensor(0.6718)\n",
      "test_ll = tensor(-3.2239)\n",
      "\n",
      "Test 35\n",
      "Mean = tensor([23.3722])\n",
      "Variance = tensor([2.3035])\n",
      "rmse = tensor(0.7577)\n",
      "test_ll = tensor(-3.2352)\n",
      "\n",
      "Test 36\n",
      "Mean = tensor([2.2215])\n",
      "Variance = tensor([0.1143])\n",
      "rmse = tensor(1.8985)\n",
      "test_ll = tensor(-3.2401)\n",
      "\n",
      "Test 37\n",
      "Mean = tensor([1.1544])\n",
      "Variance = tensor([0.0270])\n",
      "rmse = tensor(0.4956)\n",
      "test_ll = tensor(-3.2229)\n",
      "\n",
      "Test 38\n",
      "Mean = tensor([0.6313])\n",
      "Variance = tensor([0.0023])\n",
      "rmse = tensor(0.3387)\n",
      "test_ll = tensor(-3.2221)\n",
      "\n",
      "Test 39\n",
      "Mean = tensor([12.0487])\n",
      "Variance = tensor([1.0934])\n",
      "rmse = tensor(2.0613)\n",
      "test_ll = tensor(-3.2479)\n",
      "\n",
      "Test 40\n",
      "Mean = tensor([8.1625])\n",
      "Variance = tensor([0.9812])\n",
      "rmse = tensor(4.0225)\n",
      "test_ll = tensor(-3.3059)\n",
      "\n",
      "Test 41\n",
      "Mean = tensor([1.2180])\n",
      "Variance = tensor([0.0429])\n",
      "rmse = tensor(1.1880)\n",
      "test_ll = tensor(-3.2288)\n",
      "\n",
      "Test 42\n",
      "Mean = tensor([4.1808])\n",
      "Variance = tensor([0.5833])\n",
      "rmse = tensor(2.0208)\n",
      "test_ll = tensor(-3.2444)\n",
      "\n",
      "Test 43\n",
      "Mean = tensor([6.7749])\n",
      "Variance = tensor([0.6447])\n",
      "rmse = tensor(1.5051)\n",
      "test_ll = tensor(-3.2360)\n",
      "\n",
      "Test 44\n",
      "Mean = tensor([1.6136])\n",
      "Variance = tensor([0.0618])\n",
      "rmse = tensor(1.0064)\n",
      "test_ll = tensor(-3.2269)\n",
      "\n",
      "Test 45\n",
      "Mean = tensor([20.0412])\n",
      "Variance = tensor([1.7006])\n",
      "rmse = tensor(13.9288)\n",
      "test_ll = tensor(-4.1842)\n",
      "\n",
      "Test 46\n",
      "Mean = tensor([1.7690])\n",
      "Variance = tensor([0.0687])\n",
      "rmse = tensor(0.7210)\n",
      "test_ll = tensor(-3.2245)\n",
      "\n",
      "Test 47\n",
      "Mean = tensor([0.6067])\n",
      "Variance = tensor([0.0017])\n",
      "rmse = tensor(0.5167)\n",
      "test_ll = tensor(-3.2229)\n",
      "\n",
      "Test 48\n",
      "Mean = tensor([0.9582])\n",
      "Variance = tensor([0.0159])\n",
      "rmse = tensor(0.3282)\n",
      "test_ll = tensor(-3.2221)\n",
      "\n",
      "Test 49\n",
      "Mean = tensor([22.6913])\n",
      "Variance = tensor([2.1355])\n",
      "rmse = tensor(0.4587)\n",
      "test_ll = tensor(-3.2326)\n",
      "\n",
      "Test 50\n",
      "Mean = tensor([4.8531])\n",
      "Variance = tensor([0.5428])\n",
      "rmse = tensor(0.4331)\n",
      "test_ll = tensor(-3.2251)\n",
      "\n",
      "Test 51\n",
      "Mean = tensor([18.6258])\n",
      "Variance = tensor([1.3598])\n",
      "rmse = tensor(5.3342)\n",
      "test_ll = tensor(-3.3685)\n",
      "\n",
      "Test 52\n",
      "Mean = tensor([0.5686])\n",
      "Variance = tensor([0.0001])\n",
      "rmse = tensor(0.3686)\n",
      "test_ll = tensor(-3.2222)\n",
      "\n",
      "Test 53\n",
      "Mean = tensor([18.8826])\n",
      "Variance = tensor([1.5987])\n",
      "rmse = tensor(32.8874)\n",
      "test_ll = tensor(-8.5519)\n",
      "\n",
      "Test 54\n",
      "Mean = tensor([0.5750])\n",
      "Variance = tensor([0.0003])\n",
      "rmse = tensor(0.4950)\n",
      "test_ll = tensor(-3.2228)\n",
      "\n",
      "Test 55\n",
      "Mean = tensor([32.1993])\n",
      "Variance = tensor([3.3152])\n",
      "rmse = tensor(23.2407)\n",
      "test_ll = tensor(-5.8530)\n",
      "\n",
      "Test 56\n",
      "Mean = tensor([24.6627])\n",
      "Variance = tensor([2.2102])\n",
      "rmse = tensor(25.6973)\n",
      "test_ll = tensor(-6.4638)\n",
      "\n",
      "Test 57\n",
      "Mean = tensor([3.3334])\n",
      "Variance = tensor([0.2503])\n",
      "rmse = tensor(2.0766)\n",
      "test_ll = tensor(-3.2443)\n",
      "\n",
      "Test 58\n",
      "Mean = tensor([1.0591])\n",
      "Variance = tensor([0.0117])\n",
      "rmse = tensor(0.1991)\n",
      "test_ll = tensor(-3.2218)\n",
      "\n",
      "Test 59\n",
      "Mean = tensor([5.2841])\n",
      "Variance = tensor([0.7492])\n",
      "rmse = tensor(2.6041)\n",
      "test_ll = tensor(-3.2584)\n",
      "\n",
      "Test 60\n",
      "Mean = tensor([0.6931])\n",
      "Variance = tensor([0.0026])\n",
      "rmse = tensor(0.0531)\n",
      "test_ll = tensor(-3.2216)\n",
      "\n",
      "Test 61\n",
      "Mean = tensor([20.5561])\n",
      "Variance = tensor([1.9962])\n",
      "rmse = tensor(0.5339)\n",
      "test_ll = tensor(-3.2324)\n",
      "\n"
     ]
    }
   ],
   "source": [
    "for i, data in enumerate(test_loader):\n",
    "    # Get the test data\n",
    "    inputs, targets = data\n",
    "\n",
    "    # Store the batch to torch_device's memory\n",
    "    inputs = inputs.to(torch_device)\n",
    "    targets = targets.to(torch_device)\n",
    "    \n",
    "    predictions, mean, var, metrics = network.mc_predict(inputs, \n",
    "                                                         y_test=targets, reg_strength=reg_strength)\n",
    "\n",
    "    print(\"Test \" + str(i))\n",
    "    print(\"Mean = \" + str(mean))\n",
    "    print(\"Variance = \" + str(var))\n",
    "    \n",
    "    # Print additional metrics\n",
    "    if len(metrics) > 0:\n",
    "        for key, value in metrics.items():\n",
    "            print(str(key) + \" = \" + str(value))\n",
    "    print()"
   ]
  },
  {
   "cell_type": "code",
   "execution_count": null,
   "metadata": {
    "colab": {},
    "colab_type": "code",
    "id": "PB4HFH9MVFK3"
   },
   "outputs": [],
   "source": []
  }
 ],
 "metadata": {
  "accelerator": "GPU",
  "colab": {
   "collapsed_sections": [],
   "name": "experiments.ipynb",
   "provenance": []
  },
  "kernelspec": {
   "display_name": "Python 3",
   "language": "python",
   "name": "python3"
  },
  "language_info": {
   "codemirror_mode": {
    "name": "ipython",
    "version": 3
   },
   "file_extension": ".py",
   "mimetype": "text/x-python",
   "name": "python",
   "nbconvert_exporter": "python",
   "pygments_lexer": "ipython3",
   "version": "3.6.8"
  }
 },
 "nbformat": 4,
 "nbformat_minor": 1
}
