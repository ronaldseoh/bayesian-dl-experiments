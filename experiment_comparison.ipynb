{
 "cells": [
  {
   "cell_type": "code",
   "execution_count": 8,
   "metadata": {
    "colab": {
     "base_uri": "https://localhost:8080/",
     "height": 69
    },
    "colab_type": "code",
    "executionInfo": {
     "elapsed": 3253,
     "status": "ok",
     "timestamp": 1572955504395,
     "user": {
      "displayName": "Ronald Seoh",
      "photoUrl": "",
      "userId": "10284188050297676522"
     },
     "user_tz": 300
    },
    "id": "i3PGAUFJVFHI",
    "outputId": "3ab4ad66-21f6-42a5-8d70-5a0346d222d1"
   },
   "outputs": [],
   "source": [
    "# Google Colab-only setup. No need to run this cell in other environments.\n",
    "use_colab = False\n",
    "\n",
    "if use_colab:\n",
    "    # Mount my Google Drive root folder\n",
    "    from google.colab import drive\n",
    "    drive.mount('/content/drive')\n",
    "\n",
    "    # cd to bayesian-dl-experiments directory\n",
    "    %cd 'drive/My Drive/Colab Notebooks/bayesian-dl-experiments'\n",
    "    !ls"
   ]
  },
  {
   "cell_type": "markdown",
   "metadata": {
    "colab_type": "text",
    "id": "Bka_bK83VFHh"
   },
   "source": [
    "## Experiment Setup"
   ]
  },
  {
   "cell_type": "markdown",
   "metadata": {
    "colab_type": "text",
    "id": "8D5NSPs_cJZe"
   },
   "source": [
    "### Random seed / PyTorch / CUDA related"
   ]
  },
  {
   "cell_type": "code",
   "execution_count": 9,
   "metadata": {
    "colab": {},
    "colab_type": "code",
    "id": "pHbfpytEVFHu"
   },
   "outputs": [
    {
     "name": "stdout",
     "output_type": "stream",
     "text": [
      "The autoreload extension is already loaded. To reload it, use:\n",
      "  %reload_ext autoreload\n"
     ]
    }
   ],
   "source": [
    "import torch\n",
    "import numpy as np\n",
    "\n",
    "# IPython reloading magic\n",
    "%load_ext autoreload\n",
    "%autoreload 2\n",
    "\n",
    "# Random seeds\n",
    "# Based on https://pytorch.org/docs/stable/notes/randomness.html\n",
    "torch.manual_seed(682)\n",
    "np.random.seed(682)\n",
    "\n",
    "# torch.device / CUDA Setup\n",
    "use_cuda = True\n",
    "\n",
    "if use_cuda and torch.cuda.is_available():\n",
    "    torch_device = torch.device('cuda')\n",
    "    torch.backends.cudnn.deterministic = True\n",
    "    # Note: https://discuss.pytorch.org/t/what-does-torch-backends-cudnn-benchmark-do/5936\n",
    "    torch.backends.cudnn.benchmark = False\n",
    "    use_pin_memory=True # Faster Host to GPU copies with page-locked memory\n",
    "else:\n",
    "    torch_device = torch.device('cpu')\n",
    "    use_pin_memory=False"
   ]
  },
  {
   "cell_type": "markdown",
   "metadata": {
    "colab_type": "text",
    "id": "XIFRoH3AcJZn"
   },
   "source": [
    "### Variable settings"
   ]
  },
  {
   "cell_type": "code",
   "execution_count": 10,
   "metadata": {
    "colab": {},
    "colab_type": "code",
    "id": "g_pzGq1_cJZp"
   },
   "outputs": [],
   "source": [
    "# Random seed for toy dataset\n",
    "dataset_toy_random_seed = 691 #@param {type:\"integer\"}\n",
    "\n",
    "# Toy dataset generation based on\n",
    "# Hernandez-Lobato & Adams, 2015\n",
    "# Toy dataset size\n",
    "dataset_toy_size = 20\n",
    "\n",
    "# Toy dataset x distribution (uniform) parameters\n",
    "dataset_toy_x_low = -4\n",
    "dataset_toy_x_high = 4\n",
    "\n",
    "# Toy dataset y distribution (normal with noise)\n",
    "dataset_toy_y_mean = 0\n",
    "dataset_toy_y_std = 9\n",
    "\n",
    "# Training set size\n",
    "dataset_train_size = 0.8 #@param {type:\"slider\", min:0.1, max:0.9, step:0.05}\n",
    "\n",
    "# L2 regularization strength\n",
    "reg_strength = 0.01 #@param {type:\"slider\", min:0, max:1.0, step:0.05}\n",
    "\n",
    "# Epochs\n",
    "n_epochs = 40 #@param {type:\"integer\"}\n",
    "\n",
    "# Number of different data splits to try\n",
    "n_splits = 20 #@param {type:\"integer\"}\n",
    "\n",
    "# Data batch sizes\n",
    "n_training_batch = 128 #@param {type:\"integer\"}\n",
    "\n",
    "# Number of test predictions (for each data point)\n",
    "n_predictions = 10000 #@param {type:\"integer\"}"
   ]
  },
  {
   "cell_type": "markdown",
   "metadata": {
    "colab_type": "text",
    "id": "sZwe_f-yVFIf"
   },
   "source": [
    "## Prepare data"
   ]
  },
  {
   "cell_type": "markdown",
   "metadata": {
    "colab_type": "text",
    "id": "eEfdrHcOVFIj"
   },
   "source": [
    "### Get the data as a torch Dataset object"
   ]
  },
  {
   "cell_type": "code",
   "execution_count": 11,
   "metadata": {
    "colab": {
     "base_uri": "https://localhost:8080/",
     "height": 86
    },
    "colab_type": "code",
    "executionInfo": {
     "elapsed": 4151,
     "status": "ok",
     "timestamp": 1572955505337,
     "user": {
      "displayName": "Ronald Seoh",
      "photoUrl": "",
      "userId": "10284188050297676522"
     },
     "user_tz": 300
    },
    "id": "5u5qU-9JVFIr",
    "outputId": "3d1637a9-39e3-473a-e4be-b40211d444cc"
   },
   "outputs": [
    {
     "name": "stdout",
     "output_type": "stream",
     "text": [
      "dataset size = (20, 1)\n",
      "training set size = 16\n",
      "testing set size = 4\n"
     ]
    }
   ],
   "source": [
    "from torch.utils.data import random_split, DataLoader\n",
    "from ronald_bdl import datasets\n",
    "\n",
    "dataset = datasets.ToyDatasets(\n",
    "    random_seed=dataset_toy_random_seed,\n",
    "    n_samples=dataset_toy_size,\n",
    "    x_low=dataset_toy_x_low,\n",
    "    x_high=dataset_toy_x_high,\n",
    "    y_mean=dataset_toy_y_mean,\n",
    "    y_std=dataset_toy_y_std,\n",
    ")\n",
    "\n",
    "# Set the training/test set sizes\n",
    "train_size = int(dataset_train_size * len(dataset))\n",
    "test_size = len(dataset) - train_size\n",
    "    \n",
    "# Print the size of the dataset\n",
    "print(\"dataset size = \" + str((len(dataset), dataset.n_features)))\n",
    "print(\"training set size = \" + str(train_size))\n",
    "print(\"testing set size = \" + str(test_size))"
   ]
  },
  {
   "cell_type": "markdown",
   "metadata": {
    "colab_type": "text",
    "id": "LaasFWpqVFJ1"
   },
   "source": [
    "## Define network"
   ]
  },
  {
   "cell_type": "code",
   "execution_count": 12,
   "metadata": {
    "colab": {
     "base_uri": "https://localhost:8080/",
     "height": 156
    },
    "colab_type": "code",
    "executionInfo": {
     "elapsed": 6671,
     "status": "ok",
     "timestamp": 1572955507874,
     "user": {
      "displayName": "Ronald Seoh",
      "photoUrl": "",
      "userId": "10284188050297676522"
     },
     "user_tz": 300
    },
    "id": "gAqkGtg7VFJ9",
    "outputId": "0db0dd2f-92f2-4502-c035-917ba1eab35d"
   },
   "outputs": [
    {
     "name": "stdout",
     "output_type": "stream",
     "text": [
      "FCNetMCDropout(\n",
      "  (input): Linear(in_features=1, out_features=10, bias=True)\n",
      "  (hidden_layers): ModuleList(\n",
      "    (0): Linear(in_features=10, out_features=10, bias=True)\n",
      "    (1): Linear(in_features=10, out_features=10, bias=True)\n",
      "  )\n",
      "  (output): Linear(in_features=10, out_features=1, bias=True)\n",
      ")\n"
     ]
    }
   ],
   "source": [
    "from ronald_bdl import models\n",
    "\n",
    "network = models.FCNetMCDropout(\n",
    "    input_dim=dataset.n_features, \n",
    "    output_dim=dataset.n_targets,\n",
    "    hidden_dim=10,\n",
    "    n_hidden=2,\n",
    "    dropout_rate=0.01,\n",
    "    dropout_type='bernoulli',\n",
    ")\n",
    "\n",
    "# Send the whole model to the selected torch.device\n",
    "network.to(torch_device)\n",
    "\n",
    "# Print the network structure\n",
    "print(network)"
   ]
  },
  {
   "cell_type": "markdown",
   "metadata": {
    "colab_type": "text",
    "id": "1PpzPMI8VFKE"
   },
   "source": [
    "## Train the network"
   ]
  },
  {
   "cell_type": "markdown",
   "metadata": {
    "colab_type": "text",
    "id": "DuTnXABzVFKI"
   },
   "source": [
    "### Setup"
   ]
  },
  {
   "cell_type": "code",
   "execution_count": 13,
   "metadata": {
    "colab": {},
    "colab_type": "code",
    "id": "p19qFgSAVFKS"
   },
   "outputs": [],
   "source": [
    "from torch import nn, optim\n",
    "\n",
    "# Model to train mode\n",
    "network.train()\n",
    "\n",
    "# Mean Squared Error for loss function to minimize\n",
    "objective = nn.MSELoss()\n",
    "\n",
    "rmse_non_mc, rmse_mc, test_lls_mc = [], [], []"
   ]
  },
  {
   "cell_type": "markdown",
   "metadata": {
    "colab_type": "text",
    "id": "Jc7Td1h1VFKb"
   },
   "source": [
    "### Train/test the model"
   ]
  },
  {
   "cell_type": "code",
   "execution_count": 14,
   "metadata": {
    "colab": {
     "base_uri": "https://localhost:8080/",
     "height": 1000
    },
    "colab_type": "code",
    "executionInfo": {
     "elapsed": 1731463,
     "status": "ok",
     "timestamp": 1572957232698,
     "user": {
      "displayName": "Ronald Seoh",
      "photoUrl": "",
      "userId": "10284188050297676522"
     },
     "user_tz": 300
    },
    "id": "m4kavCiTVFKf",
    "outputId": "62aa76cb-701a-4cdc-d1e3-877ae60252cf",
    "scrolled": true
   },
   "outputs": [
    {
     "name": "stdout",
     "output_type": "stream",
     "text": [
      "Starting split 0\n",
      "Split 0, final loss = 426.6251220703125\n",
      "\n",
      "Running split 0 test:\n",
      "Mean = tensor([[ 46.8032],\n",
      "        [-47.8605],\n",
      "        [ 44.2966],\n",
      "        [ 77.9814]])\n",
      "Variance = tensor([[35.0966],\n",
      "        [24.0766],\n",
      "        [29.7639],\n",
      "        [81.0907]])\n",
      "rmse_mc = tensor(27.7855)\n",
      "rmse_non_mc = tensor(29.2251)\n",
      "test_ll_mc = tensor(-5.8942)\n",
      "Split 0 training time = 0.1351301670074463 seconds\n",
      "Split 0 testing time = 3.19096302986145 seconds\n",
      "\n",
      "Starting split 1\n",
      "Split 1, final loss = 434.9186096191406\n",
      "\n",
      "Running split 1 test:\n",
      "Mean = tensor([[  8.0899],\n",
      "        [-20.2180],\n",
      "        [ -6.6725],\n",
      "        [-45.8983]])\n",
      "Variance = tensor([[ 1.3109],\n",
      "        [ 4.6614],\n",
      "        [ 0.4448],\n",
      "        [26.5166]])\n",
      "rmse_mc = tensor(15.4256)\n",
      "rmse_non_mc = tensor(15.1841)\n",
      "test_ll_mc = tensor(-4.3671)\n",
      "Split 1 training time = 0.11078310012817383 seconds\n",
      "Split 1 testing time = 3.0960781574249268 seconds\n",
      "\n",
      "Starting split 2\n",
      "Split 2, final loss = 390.1393127441406\n",
      "\n",
      "Running split 2 test:\n",
      "Mean = tensor([[ 25.7173],\n",
      "        [  3.0715],\n",
      "        [-44.6710],\n",
      "        [-46.3313]])\n",
      "Variance = tensor([[ 9.8319],\n",
      "        [ 0.3752],\n",
      "        [24.1240],\n",
      "        [24.6771]])\n",
      "rmse_mc = tensor(15.2457)\n",
      "rmse_non_mc = tensor(15.0963)\n",
      "test_ll_mc = tensor(-4.3830)\n",
      "Split 2 training time = 0.11229515075683594 seconds\n",
      "Split 2 testing time = 3.279231071472168 seconds\n",
      "\n",
      "Starting split 3\n",
      "Split 3, final loss = 210.49261474609375\n",
      "\n",
      "Running split 3 test:\n",
      "Mean = tensor([[-25.5313],\n",
      "        [-50.1733],\n",
      "        [ -1.8694],\n",
      "        [ 15.7031]])\n",
      "Variance = tensor([[8.4814e+00],\n",
      "        [2.9579e+01],\n",
      "        [1.1397e-02],\n",
      "        [5.7037e+00]])\n",
      "rmse_mc = tensor(19.4892)\n",
      "rmse_non_mc = tensor(19.5250)\n",
      "test_ll_mc = tensor(-5.0782)\n",
      "Split 3 training time = 0.13530302047729492 seconds\n",
      "Split 3 testing time = 3.4511611461639404 seconds\n",
      "\n",
      "Starting split 4\n",
      "Split 4, final loss = 127.09051513671875\n",
      "\n",
      "Running split 4 test:\n",
      "Mean = tensor([[  0.7288],\n",
      "        [-56.1372],\n",
      "        [-21.1426],\n",
      "        [  3.4140]])\n",
      "Variance = tensor([[ 0.0973],\n",
      "        [42.7628],\n",
      "        [ 9.3356],\n",
      "        [ 1.3774]])\n",
      "rmse_mc = tensor(11.8656)\n",
      "rmse_non_mc = tensor(15.1879)\n",
      "test_ll_mc = tensor(-3.9455)\n",
      "Split 4 training time = 0.11611080169677734 seconds\n",
      "Split 4 testing time = 3.3046720027923584 seconds\n",
      "\n",
      "Starting split 5\n",
      "Split 5, final loss = 116.33186340332031\n",
      "\n",
      "Running split 5 test:\n",
      "Mean = tensor([[-56.2426],\n",
      "        [-10.8938],\n",
      "        [-46.1670],\n",
      "        [ 84.2288]])\n",
      "Variance = tensor([[46.1979],\n",
      "        [ 6.0480],\n",
      "        [35.4692],\n",
      "        [91.4150]])\n",
      "rmse_mc = tensor(11.1850)\n",
      "rmse_non_mc = tensor(11.1876)\n",
      "test_ll_mc = tensor(-3.9691)\n",
      "Split 5 training time = 0.12523221969604492 seconds\n",
      "Split 5 testing time = 3.1846680641174316 seconds\n",
      "\n",
      "Starting split 6\n",
      "Split 6, final loss = 45.77843475341797\n",
      "\n",
      "Running split 6 test:\n",
      "Mean = tensor([[  3.7095],\n",
      "        [-11.1163],\n",
      "        [ 41.0863],\n",
      "        [ -0.9634]])\n",
      "Variance = tensor([[ 1.9830],\n",
      "        [ 3.7371],\n",
      "        [31.3166],\n",
      "        [ 0.0886]])\n",
      "rmse_mc = tensor(15.0454)\n",
      "rmse_non_mc = tensor(15.3257)\n",
      "test_ll_mc = tensor(-4.3878)\n",
      "Split 6 training time = 0.13134098052978516 seconds\n",
      "Split 6 testing time = 3.203160047531128 seconds\n",
      "\n",
      "Starting split 7\n",
      "Split 7, final loss = 48.18537521362305\n",
      "\n",
      "Running split 7 test:\n",
      "Mean = tensor([[  9.7029],\n",
      "        [ 76.7648],\n",
      "        [ -1.6716],\n",
      "        [-26.5232]])\n",
      "Variance = tensor([[5.5361e+00],\n",
      "        [8.6737e+01],\n",
      "        [8.4775e-02],\n",
      "        [1.3612e+01]])\n",
      "rmse_mc = tensor(14.3734)\n",
      "rmse_non_mc = tensor(14.7185)\n",
      "test_ll_mc = tensor(-4.3269)\n",
      "Split 7 training time = 0.11487698554992676 seconds\n",
      "Split 7 testing time = 3.6802849769592285 seconds\n",
      "\n",
      "Starting split 8\n",
      "Split 8, final loss = 88.59857177734375\n",
      "\n",
      "Running split 8 test:\n",
      "Mean = tensor([[-10.4223],\n",
      "        [ 16.3772],\n",
      "        [  3.8908],\n",
      "        [ 62.4711]])\n",
      "Variance = tensor([[ 4.7333],\n",
      "        [ 9.1623],\n",
      "        [ 1.8002],\n",
      "        [57.3234]])\n",
      "rmse_mc = tensor(6.5692)\n",
      "rmse_non_mc = tensor(6.7311)\n",
      "test_ll_mc = tensor(-3.4650)\n",
      "Split 8 training time = 0.13411808013916016 seconds\n",
      "Split 8 testing time = 3.881878614425659 seconds\n",
      "\n",
      "Starting split 9\n",
      "Split 9, final loss = 64.28022766113281\n",
      "\n",
      "Running split 9 test:\n",
      "Mean = tensor([[ 5.8830e+00],\n",
      "        [ 9.4686e+01],\n",
      "        [-5.6878e+01],\n",
      "        [ 6.3190e-02]])\n",
      "Variance = tensor([[  2.5427],\n",
      "        [109.1119],\n",
      "        [ 43.8574],\n",
      "        [  0.8166]])\n",
      "rmse_mc = tensor(17.8854)\n",
      "rmse_non_mc = tensor(17.3316)\n",
      "test_ll_mc = tensor(-4.6726)\n",
      "Split 9 training time = 0.22269392013549805 seconds\n",
      "Split 9 testing time = 3.135061025619507 seconds\n",
      "\n",
      "Starting split 10\n",
      "Split 10, final loss = 47.59652328491211\n",
      "\n",
      "Running split 10 test:\n",
      "Mean = tensor([[ 59.4807],\n",
      "        [ -5.9167],\n",
      "        [-52.1082],\n",
      "        [ 94.0127]])\n",
      "Variance = tensor([[ 43.2023],\n",
      "        [  3.7418],\n",
      "        [ 38.3748],\n",
      "        [104.5215]])\n",
      "rmse_mc = tensor(14.4878)\n",
      "rmse_non_mc = tensor(13.4975)\n",
      "test_ll_mc = tensor(-4.1549)\n",
      "Split 10 training time = 0.11776185035705566 seconds\n",
      "Split 10 testing time = 3.470946788787842 seconds\n",
      "\n",
      "Starting split 11\n",
      "Split 11, final loss = 175.1679229736328\n",
      "\n",
      "Running split 11 test:\n",
      "Mean = tensor([[  8.4033],\n",
      "        [ 15.2499],\n",
      "        [-55.3279],\n",
      "        [  4.4555]])\n",
      "Variance = tensor([[ 5.2882],\n",
      "        [ 7.8723],\n",
      "        [42.0243],\n",
      "        [ 0.8702]])\n",
      "rmse_mc = tensor(11.6306)\n",
      "rmse_non_mc = tensor(12.4771)\n",
      "test_ll_mc = tensor(-3.9230)\n",
      "Split 11 training time = 0.13016510009765625 seconds\n",
      "Split 11 testing time = 3.2821590900421143 seconds\n",
      "\n",
      "Starting split 12\n",
      "Split 12, final loss = 65.58509826660156\n",
      "\n",
      "Running split 12 test:\n",
      "Mean = tensor([[ 12.9657],\n",
      "        [ 11.7806],\n",
      "        [-56.2227],\n",
      "        [-12.9771]])\n",
      "Variance = tensor([[ 9.8157],\n",
      "        [ 8.0454],\n",
      "        [41.2649],\n",
      "        [ 5.4809]])\n",
      "rmse_mc = tensor(13.0714)\n",
      "rmse_non_mc = tensor(11.4128)\n",
      "test_ll_mc = tensor(-4.0925)\n",
      "Split 12 training time = 0.11489319801330566 seconds\n",
      "Split 12 testing time = 3.0576231479644775 seconds\n",
      "\n",
      "Starting split 13\n",
      "Split 13, final loss = 62.001434326171875\n",
      "\n",
      "Running split 13 test:\n",
      "Mean = tensor([[-13.5944],\n",
      "        [-25.7062],\n",
      "        [  5.1033],\n",
      "        [ 11.6677]])\n",
      "Variance = tensor([[ 4.6886],\n",
      "        [12.7960],\n",
      "        [ 6.0433],\n",
      "        [ 8.1934]])\n",
      "rmse_mc = tensor(6.1565)\n",
      "rmse_non_mc = tensor(6.3924)\n",
      "test_ll_mc = tensor(-3.4340)\n",
      "Split 13 training time = 0.1486191749572754 seconds\n",
      "Split 13 testing time = 3.167591094970703 seconds\n",
      "\n",
      "Starting split 14\n",
      "Split 14, final loss = 36.84852600097656\n",
      "\n",
      "Running split 14 test:\n",
      "Mean = tensor([[-4.2274e+01],\n",
      "        [-5.9934e+01],\n",
      "        [ 3.1880e+00],\n",
      "        [ 1.7407e-02]])\n",
      "Variance = tensor([[21.9644],\n",
      "        [42.5107],\n",
      "        [ 0.8434],\n",
      "        [ 1.0793]])\n",
      "rmse_mc = tensor(18.6356)\n",
      "rmse_non_mc = tensor(17.2500)\n",
      "test_ll_mc = tensor(-4.7926)\n",
      "Split 14 training time = 0.11986684799194336 seconds\n",
      "Split 14 testing time = 3.307874917984009 seconds\n",
      "\n",
      "Starting split 15\n",
      "Split 15, final loss = 18.554719924926758\n",
      "\n",
      "Running split 15 test:\n",
      "Mean = tensor([[-11.5154],\n",
      "        [  0.9793],\n",
      "        [  2.4484],\n",
      "        [-55.1029]])\n",
      "Variance = tensor([[ 5.3578],\n",
      "        [ 0.6137],\n",
      "        [ 4.6771],\n",
      "        [39.0276]])\n",
      "rmse_mc = tensor(11.4414)\n",
      "rmse_non_mc = tensor(13.3393)\n",
      "test_ll_mc = tensor(-3.8889)\n",
      "Split 15 training time = 0.17288589477539062 seconds\n",
      "Split 15 testing time = 3.76239275932312 seconds\n",
      "\n",
      "Starting split 16\n",
      "Split 16, final loss = 66.43738555908203\n",
      "\n",
      "Running split 16 test:\n",
      "Mean = tensor([[30.9946],\n",
      "        [-0.2944],\n",
      "        [77.9797],\n",
      "        [ 4.4966]])\n",
      "Variance = tensor([[22.6626],\n",
      "        [11.1613],\n",
      "        [84.6589],\n",
      "        [ 6.8676]])\n",
      "rmse_mc = tensor(10.3428)\n",
      "rmse_non_mc = tensor(10.9185)\n",
      "test_ll_mc = tensor(-3.8516)\n",
      "Split 16 training time = 0.13142895698547363 seconds\n",
      "Split 16 testing time = 5.479250907897949 seconds\n",
      "\n",
      "Starting split 17\n",
      "Split 17, final loss = 159.94729614257812\n",
      "\n",
      "Running split 17 test:\n",
      "Mean = tensor([[  8.3656],\n",
      "        [ -2.9589],\n",
      "        [-10.5226],\n",
      "        [-12.3506]])\n",
      "Variance = tensor([[ 7.2951],\n",
      "        [10.2199],\n",
      "        [ 3.4456],\n",
      "        [ 4.8138]])\n",
      "rmse_mc = tensor(3.3382)\n",
      "rmse_non_mc = tensor(4.7598)\n",
      "test_ll_mc = tensor(-3.2916)\n",
      "Split 17 training time = 0.150435209274292 seconds\n",
      "Split 17 testing time = 8.145618200302124 seconds\n",
      "\n",
      "Starting split 18\n",
      "Split 18, final loss = 23.893199920654297\n",
      "\n",
      "Running split 18 test:\n",
      "Mean = tensor([[  0.8541],\n",
      "        [-54.3667],\n",
      "        [-58.6755],\n",
      "        [-29.2793]])\n",
      "Variance = tensor([[ 0.6005],\n",
      "        [35.6005],\n",
      "        [38.0813],\n",
      "        [14.3236]])\n",
      "rmse_mc = tensor(9.5783)\n",
      "rmse_non_mc = tensor(10.2780)\n",
      "test_ll_mc = tensor(-3.7110)\n",
      "Split 18 training time = 0.1993699073791504 seconds\n",
      "Split 18 testing time = 7.411025047302246 seconds\n",
      "\n",
      "Starting split 19\n"
     ]
    },
    {
     "name": "stdout",
     "output_type": "stream",
     "text": [
      "Split 19, final loss = 28.668350219726562\n",
      "\n",
      "Running split 19 test:\n",
      "Mean = tensor([[-58.0089],\n",
      "        [-53.5405],\n",
      "        [ 79.9479],\n",
      "        [ -2.2045]])\n",
      "Variance = tensor([[40.2543],\n",
      "        [36.2552],\n",
      "        [88.8483],\n",
      "        [ 9.0220]])\n",
      "rmse_mc = tensor(9.2454)\n",
      "rmse_non_mc = tensor(8.8417)\n",
      "test_ll_mc = tensor(-3.7476)\n",
      "Split 19 training time = 0.24254202842712402 seconds\n",
      "Split 19 testing time = 4.334819793701172 seconds\n",
      "\n"
     ]
    }
   ],
   "source": [
    "import time\n",
    "\n",
    "for s in range(n_splits):\n",
    "\n",
    "    # Prepare new train-test split\n",
    "    train, test = random_split(dataset, lengths=[train_size, test_size])\n",
    "    train_loader = DataLoader(train, batch_size=n_training_batch, pin_memory=use_pin_memory)\n",
    "    if use_pin_memory: test.dataset.data.pin_memory()\n",
    "    \n",
    "    # Adam optimizer\n",
    "    # https://pytorch.org/docs/stable/optim.html?highlight=adam#torch.optim.Adam\n",
    "    # NOTE: Need to set L2 regularization from here\n",
    "    optimizer = optim.Adam(\n",
    "        network.parameters(),\n",
    "        lr=0.01,\n",
    "        weight_decay=reg_strength, # L2 regularization\n",
    "    )\n",
    "    \n",
    "    \"\"\"\n",
    "    Training\n",
    "    \"\"\"\n",
    "\n",
    "    print(\"Starting split \" + str(s))\n",
    "\n",
    "    # Record training start time (for this split)\n",
    "    tic = time.time()\n",
    "\n",
    "    for epoch in range(n_epochs): # loop over the dataset multiple times\n",
    "\n",
    "        for i, data in enumerate(train_loader):\n",
    "            # get the inputs; data is a list of [inputs, labels]\n",
    "            inputs, targets = data\n",
    "\n",
    "            # Store the batch to torch_device's memory\n",
    "            inputs = inputs.to(torch_device)\n",
    "            targets = targets.to(torch_device)\n",
    "\n",
    "            # zero the parameter gradients\n",
    "            optimizer.zero_grad()\n",
    "\n",
    "            # forward + backward + optimize\n",
    "            outputs = network(inputs)\n",
    "\n",
    "            loss = objective(outputs, targets)\n",
    "            loss.backward()\n",
    "\n",
    "            optimizer.step()\n",
    "            \n",
    "    # Record training end time\n",
    "    toc = time.time()\n",
    "\n",
    "    # Report the final loss\n",
    "    print(\"Split \" + str(s) + \", final loss = \" + str(loss.item()))            \n",
    "\n",
    "    \"\"\"\n",
    "    Testing\n",
    "    \"\"\"\n",
    "    # Model to eval mode\n",
    "    network.eval()\n",
    "\n",
    "    # Get the test data\n",
    "    inputs, targets = test.dataset[test.indices]\n",
    "\n",
    "    # Store the batch to torch_device's memory\n",
    "    inputs = inputs.to(torch_device)\n",
    "    targets = targets.to(torch_device)\n",
    "\n",
    "    # Record testing start time (for this split)\n",
    "    tic_testing = time.time()    \n",
    "    \n",
    "    predictions, mean, var, metrics = network.mc_predict(inputs, n_predictions,\n",
    "                                                         y_test=targets, reg_strength=reg_strength)\n",
    "\n",
    "    # Record testing end time\n",
    "    toc_testing = time.time()    \n",
    "    \n",
    "    \"\"\"\n",
    "    Print results\n",
    "    \"\"\"\n",
    "    print()\n",
    "    print(\"Running split \" + str(s) + \" test:\")\n",
    "    print(\"Mean = \" + str(mean))\n",
    "    print(\"Variance = \" + str(var))\n",
    "\n",
    "    # Print and store additional metrics\n",
    "    if len(metrics) > 0:\n",
    "        for key, value in metrics.items():\n",
    "            print(str(key) + \" = \" + str(value))\n",
    "\n",
    "            if key == 'rmse_mc': rmse_mc.append(value.item())\n",
    "            elif key == 'rmse_non_mc': rmse_non_mc.append(value.item())\n",
    "            elif key == 'test_ll_mc': test_lls_mc.append(value.item())\n",
    "\n",
    "    # Report the total training time\n",
    "    print(\"Split \" + str(s) + \" training time = \" + str(toc - tic) + \" seconds\")\n",
    "    \n",
    "    # Report the total testing time\n",
    "    print(\"Split \" + str(s) + \" testing time = \" + str(toc_testing - tic_testing) + \" seconds\")\n",
    "    print()"
   ]
  },
  {
   "cell_type": "markdown",
   "metadata": {
    "colab_type": "text",
    "id": "kfU8866qC-Vp"
   },
   "source": [
    "### Print statistics"
   ]
  },
  {
   "cell_type": "code",
   "execution_count": 15,
   "metadata": {
    "colab": {
     "base_uri": "https://localhost:8080/",
     "height": 121
    },
    "colab_type": "code",
    "executionInfo": {
     "elapsed": 1731455,
     "status": "ok",
     "timestamp": 1572957232708,
     "user": {
      "displayName": "Ronald Seoh",
      "photoUrl": "",
      "userId": "10284188050297676522"
     },
     "user_tz": 300
    },
    "id": "PB4HFH9MVFK3",
    "outputId": "02ce8ce7-5724-494f-83ef-efb580a8f846"
   },
   "outputs": [
    {
     "name": "stdout",
     "output_type": "stream",
     "text": [
      "non-MC RMSE 13.434009 +- 5.232280 (stddev) +- 1.169973 (std error), median 13.418416 25p 10.758394 75p 15.222351 \n",
      "\n",
      "MC RMSE 13.139898 +- 5.284241 (stddev) +- 1.181592 (std error), median 12.468509 25p 10.151658 75p 15.290652 \n",
      "\n",
      "MC Test Log-likelihood -4.168856 +- 0.597161 (stddev) +- 0.133529 (std error), median -4.030795 25p -4.384177 75p -3.825583 \n",
      "\n"
     ]
    }
   ],
   "source": [
    "# Copied from DropoutUncertaintyExps repo\n",
    "print('non-MC RMSE %f +- %f (stddev) +- %f (std error), median %f 25p %f 75p %f \\n' % (\n",
    "        np.mean(rmse_non_mc), np.std(rmse_non_mc), np.std(rmse_non_mc)/np.sqrt(n_splits),\n",
    "        np.percentile(rmse_non_mc, 50), np.percentile(rmse_non_mc, 25), np.percentile(rmse_non_mc, 75)))\n",
    "\n",
    "print('MC RMSE %f +- %f (stddev) +- %f (std error), median %f 25p %f 75p %f \\n' % (\n",
    "        np.mean(rmse_mc), np.std(rmse_mc), np.std(rmse_mc)/np.sqrt(n_splits),\n",
    "        np.percentile(rmse_mc, 50), np.percentile(rmse_mc, 25), np.percentile(rmse_mc, 75)))\n",
    "\n",
    "print('MC Test Log-likelihood %f +- %f (stddev) +- %f (std error), median %f 25p %f 75p %f \\n' % (\n",
    "        np.mean(test_lls_mc), np.std(test_lls_mc), np.std(test_lls_mc)/np.sqrt(n_splits), \n",
    "        np.percentile(test_lls_mc, 50), np.percentile(test_lls_mc, 25), np.percentile(test_lls_mc, 75)))"
   ]
  },
  {
   "cell_type": "code",
   "execution_count": null,
   "metadata": {
    "colab": {},
    "colab_type": "code",
    "id": "9sSWyEXgC-Vr"
   },
   "outputs": [],
   "source": []
  }
 ],
 "metadata": {
  "accelerator": "GPU",
  "colab": {
   "collapsed_sections": [],
   "name": "experiments.ipynb",
   "provenance": []
  },
  "kernelspec": {
   "display_name": "Python 3",
   "language": "python",
   "name": "python3"
  },
  "language_info": {
   "codemirror_mode": {
    "name": "ipython",
    "version": 3
   },
   "file_extension": ".py",
   "mimetype": "text/x-python",
   "name": "python",
   "nbconvert_exporter": "python",
   "pygments_lexer": "ipython3",
   "version": "3.6.8"
  }
 },
 "nbformat": 4,
 "nbformat_minor": 1
}
