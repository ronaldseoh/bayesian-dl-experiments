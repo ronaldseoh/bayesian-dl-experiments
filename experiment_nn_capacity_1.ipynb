{
 "cells": [
  {
   "cell_type": "markdown",
   "metadata": {
    "colab_type": "text",
    "id": "Bka_bK83VFHh"
   },
   "source": [
    "## Experiment Setup"
   ]
  },
  {
   "cell_type": "markdown",
   "metadata": {
    "colab_type": "text",
    "id": "8D5NSPs_cJZe"
   },
   "source": [
    "### Random seed / PyTorch / CUDA related"
   ]
  },
  {
   "cell_type": "code",
   "execution_count": null,
   "metadata": {
    "colab": {
     "base_uri": "https://localhost:8080/",
     "height": 102
    },
    "colab_type": "code",
    "executionInfo": {
     "elapsed": 3479,
     "status": "ok",
     "timestamp": 1573171727464,
     "user": {
      "displayName": "Ronald Seoh",
      "photoUrl": "",
      "userId": "10284188050297676522"
     },
     "user_tz": 300
    },
    "id": "pHbfpytEVFHu",
    "outputId": "61d6e5a4-ad4d-45bd-8470-ccceca7fc328"
   },
   "outputs": [],
   "source": [
    "import time\n",
    "import datetime\n",
    "import importlib\n",
    "import os\n",
    "from itertools import product\n",
    "\n",
    "# Use Google Colab\n",
    "use_colab = True\n",
    "\n",
    "# Is this running on Colab?\n",
    "colab_available = importlib.util.find_spec(\"google.colab\") is not None\n",
    "\n",
    "if use_colab and colab_available:\n",
    "    # Mount my Google Drive root folder\n",
    "    from google.colab import drive\n",
    "    drive.mount('/content/drive')\n",
    "    \n",
    "    # Pyro\n",
    "    !pip install pyro-ppl\n",
    "\n",
    "    # cd to bayesian-dl-experiments directory\n",
    "    %cd 'drive/My Drive/Colab Notebooks/bayesian-dl-experiments'\n",
    "    !ls\n",
    "\n",
    "# IPython reloading magic\n",
    "%load_ext autoreload\n",
    "%autoreload 2\n",
    "\n",
    "# Random seeds\n",
    "# Based on https://pytorch.org/docs/stable/notes/randomness.html\n",
    "random_seed = 682"
   ]
  },
  {
   "cell_type": "code",
   "execution_count": null,
   "metadata": {},
   "outputs": [],
   "source": [
    "# Third party libraries import\n",
    "import torch\n",
    "import pyro\n",
    "import numpy as np\n",
    "import matplotlib.pyplot as plt\n",
    "from torch import nn, optim\n",
    "from torch.utils.data import random_split, DataLoader, RandomSampler\n",
    "\n",
    "# Import model and dataset classes from ronald_bdl\n",
    "from ronald_bdl import models, datasets\n",
    "\n",
    "# pyplot setting\n",
    "%matplotlib inline\n",
    "\n",
    "# torch.device / CUDA Setup\n",
    "use_cuda = True\n",
    "\n",
    "if use_cuda and torch.cuda.is_available():\n",
    "    torch_device = torch.device('cuda')\n",
    "    torch.backends.cudnn.deterministic = True\n",
    "    # Note: https://discuss.pytorch.org/t/what-does-torch-backends-cudnn-benchmark-do/5936\n",
    "    torch.backends.cudnn.benchmark = False\n",
    "    use_pin_memory=True # Faster Host to GPU copies with page-locked memory\n",
    "else:\n",
    "    torch_device = torch.device('cpu')\n",
    "    use_pin_memory=False"
   ]
  },
  {
   "cell_type": "markdown",
   "metadata": {
    "colab_type": "text",
    "id": "XIFRoH3AcJZn"
   },
   "source": [
    "### Variable settings"
   ]
  },
  {
   "cell_type": "code",
   "execution_count": null,
   "metadata": {
    "colab": {},
    "colab_type": "code",
    "id": "g_pzGq1_cJZp"
   },
   "outputs": [],
   "source": [
    "# Dataset to use\n",
    "dataset_name = 'protein-tertiary-structure'\n",
    "\n",
    "# Training set size\n",
    "dataset_train_size = 0.8\n",
    "\n",
    "# Epochs\n",
    "n_epochs = 400\n",
    "\n",
    "# Data batch sizes\n",
    "n_training_batch = 128\n",
    "\n",
    "# Set the training/test set sizes\n",
    "subset_proportions = [0.4, 0.6, 0.8, 1]\n",
    "\n",
    "# NN hyperparameters\n",
    "network_hidden_dims = [25, 50, 100]\n",
    "network_hidden_layers = [1, 3, 5]\n",
    "network_dropout_rates = [0.005, 0.01, 0.05, 0.1]\n",
    "\n",
    "# Regularization strengths\n",
    "regularization_strengths = [0.025, 0.05, 0.075]\n",
    "\n",
    "# Number of test predictions (for each data point)\n",
    "prediction_runs = [3, 10, 100, 1000, 3000, 5000, 7000, 10000]"
   ]
  },
  {
   "cell_type": "markdown",
   "metadata": {
    "colab_type": "text",
    "id": "DuTnXABzVFKI"
   },
   "source": [
    "\n",
    "### Training setup"
   ]
  },
  {
   "cell_type": "code",
   "execution_count": null,
   "metadata": {
    "colab": {},
    "colab_type": "code",
    "id": "p19qFgSAVFKS"
   },
   "outputs": [],
   "source": [
    "# Mean Squared Error for loss function to minimize\n",
    "objective = nn.MSELoss()\n",
    "\n",
    "# Test start time\n",
    "test_start_time = datetime.datetime.today().strftime('%Y%m%d%H%M')"
   ]
  },
  {
   "cell_type": "markdown",
   "metadata": {
    "colab_type": "text",
    "id": "1PpzPMI8VFKE"
   },
   "source": [
    "## Train the network"
   ]
  },
  {
   "cell_type": "code",
   "execution_count": null,
   "metadata": {
    "colab": {
     "base_uri": "https://localhost:8080/",
     "height": 1000
    },
    "colab_type": "code",
    "executionInfo": {
     "elapsed": 1513379,
     "status": "ok",
     "timestamp": 1573176241188,
     "user": {
      "displayName": "Ronald Seoh",
      "photoUrl": "",
      "userId": "10284188050297676522"
     },
     "user_tz": 300
    },
    "id": "m4kavCiTVFKf",
    "outputId": "0c1bd941-7490-4202-8eb1-5c59139c3176",
    "scrolled": true
   },
   "outputs": [],
   "source": [
    "for subset_prop, hidden_dim, n_hidden, dropout_rate, reg_strength in product(\n",
    "    subset_proportions,\n",
    "    network_hidden_dims, network_hidden_layers, network_dropout_rates,\n",
    "    regularization_strengths,\n",
    "):\n",
    "    # Create directory to store results for the current test configuration\n",
    "    test_results_path = os.path.join(\n",
    "        './test_results',\n",
    "        'nn_capacity_1',\n",
    "        dataset_name,\n",
    "        test_start_time,\n",
    "        (\n",
    "            str(subset_prop) \n",
    "            + '_' + str(hidden_dim) \n",
    "            + '_' + str(n_hidden) \n",
    "            + '_' + str(dropout_rate) \n",
    "            + '_' + str(reg_strength)),\n",
    "    )\n",
    "    \n",
    "    os.makedirs(test_results_path)\n",
    "    \n",
    "    test_results_rmse_mc_path = os.path.join(\n",
    "        test_results_path,\n",
    "        \"rmse_mc.txt\"\n",
    "    )\n",
    "    \n",
    "    test_results_lls_mc_path = os.path.join(\n",
    "        test_results_path,\n",
    "        \"lls_mc.txt\"\n",
    "    )\n",
    "    \n",
    "    test_results_times_mc_path = os.path.join(\n",
    "        test_results_path,\n",
    "        \"times_mc.txt\"\n",
    "    )\n",
    "\n",
    "    # Prepare new subset of the original dataset\n",
    "    subset = datasets.UCIDatasets(\n",
    "        dataset_name, root_dir='./datasets_files', \n",
    "        limit_size=subset_prop, transform=None, download=True)\n",
    "\n",
    "    # Determine sizes of training and testing set\n",
    "    train_size = int(dataset_train_size * len(subset))\n",
    "    test_size = len(subset) - train_size\n",
    "    \n",
    "    # Print the size of the subset\n",
    "    print(\"subset size = \" + str((len(subset), subset.n_features)))\n",
    "    print(\"training set size = %d\" % train_size)\n",
    "    print(\"test set size = %d\" % test_size)\n",
    "    \n",
    "    train, test = random_split(subset, lengths=[train_size, test_size])\n",
    "\n",
    "    train_loader = DataLoader(train, batch_size=n_training_batch, pin_memory=use_pin_memory)\n",
    "\n",
    "    # Prepare network\n",
    "    network = models.FCNetMCDropout(\n",
    "        input_dim=subset.n_features, \n",
    "        output_dim=subset.n_targets,\n",
    "        hidden_dim=hidden_dim,\n",
    "        n_hidden=n_hidden,\n",
    "        dropout_rate=dropout_rate,\n",
    "        dropout_type='bernoulli',\n",
    "    )\n",
    "    \n",
    "    # Send the whole model to the selected torch.device\n",
    "    network.to(torch_device)\n",
    "\n",
    "    # Print the network structure\n",
    "    print(network)\n",
    "    \n",
    "    # Model to train mode\n",
    "    network.train()\n",
    "    \n",
    "    # Adam optimizer\n",
    "    # https://pytorch.org/docs/stable/optim.html?highlight=adam#torch.optim.Adam\n",
    "    # NOTE: Need to set L2 regularization from here\n",
    "    optimizer = optim.Adam(\n",
    "        network.parameters(),\n",
    "        lr=0.01,\n",
    "        weight_decay=reg_strength, # L2 regularization\n",
    "    )\n",
    "\n",
    "    print()\n",
    "\n",
    "    \"\"\"\n",
    "    Training\n",
    "    \"\"\"\n",
    "\n",
    "    print(\n",
    "        \"Starting subset %f, n_hidden %d, hidden_dim %d, dropout_rate %f, reg_strength %f\"\n",
    "        % (subset_prop, n_hidden, hidden_dim, dropout_rate, reg_strength))\n",
    "\n",
    "    # Record training start time (for this split)\n",
    "    tic = time.time()\n",
    "\n",
    "    for epoch in range(n_epochs): # loop over the dataset multiple times\n",
    "        for i, data in enumerate(train_loader):\n",
    "            # get the inputs; data is a list of [inputs, labels]\n",
    "            inputs, targets = data\n",
    "\n",
    "            # Store the batch to torch_device's memory\n",
    "            inputs = inputs.to(torch_device)\n",
    "            targets = targets.to(torch_device)\n",
    "\n",
    "            # zero the parameter gradients\n",
    "            optimizer.zero_grad()\n",
    "\n",
    "            # forward + backward + optimize\n",
    "            outputs = network(inputs)\n",
    "\n",
    "            loss = objective(outputs, targets)\n",
    "            loss.backward()\n",
    "\n",
    "            optimizer.step()\n",
    "            \n",
    "    # Record training end time\n",
    "    toc = time.time()\n",
    "\n",
    "    # Report the final loss\n",
    "    print(\"final loss = %f\" % (loss.item()))\n",
    "\n",
    "    \"\"\"\n",
    "    Testing\n",
    "    \"\"\"\n",
    "\n",
    "    # Model to eval mode\n",
    "    network.eval()\n",
    "\n",
    "    # Get the test data\n",
    "    inputs, targets = test.dataset[test.indices]\n",
    "\n",
    "    # Store the batch to torch_device's memory\n",
    "    inputs = inputs.to(torch_device)\n",
    "    targets = targets.to(torch_device)\n",
    "\n",
    "    for n_predictions in prediction_runs:\n",
    "        print(str(n_predictions) + \" test runs...\")\n",
    "\n",
    "        # Record testing start time (for this split)\n",
    "        tic_testing = time.time()\n",
    "\n",
    "        _, mean, var, metrics = network.predict_dist(\n",
    "            inputs, n_predictions, y_test=targets, reg_strength=reg_strength)\n",
    "\n",
    "        # Record testing end time\n",
    "        toc_testing = time.time()\n",
    "\n",
    "        # store additional metrics\n",
    "        if len(metrics) > 0:\n",
    "            with open(test_results_times_mc_path, 'a+') as times_mc_file:\n",
    "                times_mc_file.write('%d %f \\n' % (n_predictions, toc_testing-tic_testing))\n",
    "\n",
    "            for key, value in metrics.items():\n",
    "                print(str(key) + \" = \" + str(value))\n",
    "\n",
    "                if key == 'rmse_mc':\n",
    "                    with open(test_results_rmse_mc_path, 'a+') as rmse_mc_file:\n",
    "                        rmse_mc_file.write('%d %f \\n' % (n_predictions, value))\n",
    "\n",
    "                elif key == 'test_ll_mc':\n",
    "                    with open(test_results_lls_mc_path, 'a+') as lls_mc_file:\n",
    "                        lls_mc_file.write('%d %f \\n' % (n_predictions, value))\n",
    "            print()\n",
    "            \n",
    "    # Report the total training time\n",
    "    print(\"training time = \" + str(toc - tic) + \" seconds\")\n",
    "    \n",
    "    # Report the total testing time\n",
    "    print(\"testing time (last run) = \" + str(toc_testing - tic_testing) + \" seconds\")\n",
    "\n",
    "    print()"
   ]
  },
  {
   "cell_type": "code",
   "execution_count": null,
   "metadata": {
    "colab": {},
    "colab_type": "code",
    "id": "pDxkRM5aVrdf"
   },
   "outputs": [],
   "source": []
  }
 ],
 "metadata": {
  "accelerator": "GPU",
  "colab": {
   "collapsed_sections": [],
   "name": "experiment_nn_capacity_1.ipynb",
   "provenance": []
  },
  "kernelspec": {
   "display_name": "Python 3",
   "language": "python",
   "name": "python3"
  },
  "language_info": {
   "codemirror_mode": {
    "name": "ipython",
    "version": 3
   },
   "file_extension": ".py",
   "mimetype": "text/x-python",
   "name": "python",
   "nbconvert_exporter": "python",
   "pygments_lexer": "ipython3",
   "version": "3.6.8"
  }
 },
 "nbformat": 4,
 "nbformat_minor": 1
}
