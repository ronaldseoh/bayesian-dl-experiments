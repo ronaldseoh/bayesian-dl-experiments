{
 "cells": [
  {
   "cell_type": "markdown",
   "metadata": {
    "colab_type": "text",
    "id": "Bka_bK83VFHh"
   },
   "source": [
    "## Experiment Setup"
   ]
  },
  {
   "cell_type": "markdown",
   "metadata": {
    "colab_type": "text",
    "id": "8D5NSPs_cJZe"
   },
   "source": [
    "### Random seed / PyTorch / CUDA related"
   ]
  },
  {
   "cell_type": "code",
   "execution_count": 1,
   "metadata": {
    "colab": {},
    "colab_type": "code",
    "id": "pHbfpytEVFHu"
   },
   "outputs": [],
   "source": [
    "import torch\n",
    "import numpy as np\n",
    "\n",
    "# Google Colab-only setup. No need to run this cell in other environments.\n",
    "use_colab = False\n",
    "\n",
    "if use_colab:\n",
    "    # Mount my Google Drive root folder\n",
    "    from google.colab import drive\n",
    "    drive.mount('/content/drive')\n",
    "\n",
    "    # cd to bayesian-dl-experiments directory\n",
    "    %cd 'drive/My Drive/Colab Notebooks/bayesian-dl-experiments'\n",
    "    !ls\n",
    "\n",
    "# IPython reloading magic\n",
    "%load_ext autoreload\n",
    "%autoreload 2\n",
    "\n",
    "# Random seeds\n",
    "# Based on https://pytorch.org/docs/stable/notes/randomness.html\n",
    "torch.manual_seed(682)\n",
    "np.random.seed(682)\n",
    "\n",
    "# torch.device / CUDA Setup\n",
    "use_cuda = True\n",
    "\n",
    "if use_cuda and torch.cuda.is_available():\n",
    "    torch_device = torch.device('cuda')\n",
    "    torch.backends.cudnn.deterministic = True\n",
    "    # Note: https://discuss.pytorch.org/t/what-does-torch-backends-cudnn-benchmark-do/5936\n",
    "    torch.backends.cudnn.benchmark = False\n",
    "    use_pin_memory=True # Faster Host to GPU copies with page-locked memory\n",
    "else:\n",
    "    torch_device = torch.device('cpu')\n",
    "    use_pin_memory=False"
   ]
  },
  {
   "cell_type": "markdown",
   "metadata": {
    "colab_type": "text",
    "id": "XIFRoH3AcJZn"
   },
   "source": [
    "### Variable settings"
   ]
  },
  {
   "cell_type": "code",
   "execution_count": 2,
   "metadata": {
    "colab": {},
    "colab_type": "code",
    "id": "g_pzGq1_cJZp"
   },
   "outputs": [],
   "source": [
    "# Dataset to use\n",
    "dataset_name = 'naval-propulsion-plant' #@param [\"yacht\", \"naval-propulsion-plant\"]\n",
    "\n",
    "# Training set size\n",
    "dataset_train_size = 0.8 #@param {type:\"slider\", min:0.1, max:0.9, step:0.05}\n",
    "\n",
    "# L2 regularization strength\n",
    "reg_strength = 0.01 #@param {type:\"slider\", min:0, max:1.0, step:0.05}\n",
    "\n",
    "# Epochs\n",
    "n_epochs = 4000 #@param {type:\"integer\"}\n",
    "\n",
    "# Number of different data splits to try\n",
    "n_splits = 20 #@param {type:\"integer\"}\n",
    "\n",
    "# Data batch sizes\n",
    "n_training_batch = 128 #@param {type:\"integer\"}\n",
    "\n",
    "# Number of test predictions (for each data point)\n",
    "n_predictions = 10000 #@param {type:\"integer\"}"
   ]
  },
  {
   "cell_type": "markdown",
   "metadata": {
    "colab_type": "text",
    "id": "DuTnXABzVFKI"
   },
   "source": [
    "\n",
    "### Training setup"
   ]
  },
  {
   "cell_type": "code",
   "execution_count": 3,
   "metadata": {
    "colab": {},
    "colab_type": "code",
    "id": "p19qFgSAVFKS"
   },
   "outputs": [],
   "source": [
    "import time\n",
    "from itertools import product\n",
    "\n",
    "from torch import nn, optim\n",
    "from torch.utils.data import random_split, DataLoader, RandomSampler\n",
    "from ronald_bdl import models, datasets\n",
    "\n",
    "# Set the training/test set sizes\n",
    "subset_proportions = np.arange(0.1, 1.1, 0.1)\n",
    "\n",
    "# NN hyperparameters\n",
    "network_hidden_dim_candidates = np.arange(10, 100+10, 10)\n",
    "network_hidden_layer_candidates = np.arange(1, 5+1, 1)\n",
    "\n",
    "# Mean Squared Error for loss function to minimize\n",
    "objective = nn.MSELoss()\n",
    "\n",
    "rmse_non_mc, rmse_mc, test_lls_mc = [], [], []"
   ]
  },
  {
   "cell_type": "markdown",
   "metadata": {
    "colab_type": "text",
    "id": "1PpzPMI8VFKE"
   },
   "source": [
    "## Train the network"
   ]
  },
  {
   "cell_type": "code",
   "execution_count": null,
   "metadata": {
    "colab": {
     "base_uri": "https://localhost:8080/",
     "height": 1000
    },
    "colab_type": "code",
    "executionInfo": {
     "elapsed": 1731463,
     "status": "ok",
     "timestamp": 1572957232698,
     "user": {
      "displayName": "Ronald Seoh",
      "photoUrl": "",
      "userId": "10284188050297676522"
     },
     "user_tz": 300
    },
    "id": "m4kavCiTVFKf",
    "outputId": "62aa76cb-701a-4cdc-d1e3-877ae60252cf",
    "scrolled": true
   },
   "outputs": [
    {
     "name": "stdout",
     "output_type": "stream",
     "text": [
      "Using downloaded and verified file: ./datasets_files/naval-propulsion-plant/data.txt\n",
      "subset size = (1193, 16)\n",
      "training set size = 954\n",
      "test set size = 239\n",
      "FCNetMCDropout(\n",
      "  (input): Linear(in_features=16, out_features=10, bias=True)\n",
      "  (hidden_layers): ModuleList(\n",
      "    (0): Linear(in_features=10, out_features=10, bias=True)\n",
      "  )\n",
      "  (output): Linear(in_features=10, out_features=1, bias=True)\n",
      ")\n",
      "Starting subset 0.100000, n_hidden 1, hidden_dim 10\n"
     ]
    }
   ],
   "source": [
    "for subset_prop, hidden_dim, n_hidden in zip(\n",
    "    subset_proportions, \n",
    "    network_hidden_dim_candidates, network_hidden_layer_candidates):\n",
    "\n",
    "    # Prepare new subset of the original dataset\n",
    "    subset = datasets.UCIDatasets(\n",
    "        dataset_name, root_dir='./datasets_files', \n",
    "        limit_size=subset_prop, transform=None, download=True, pin_memory=use_pin_memory)\n",
    "\n",
    "    # Determine sizes of training and testing set\n",
    "    train_size = int(dataset_train_size * len(subset))\n",
    "    test_size = len(subset) - train_size\n",
    "    \n",
    "    # Print the size of the subset\n",
    "    print(\"subset size = \" + str((len(subset), subset.n_features)))\n",
    "    print(\"training set size = %d\" % train_size)\n",
    "    print(\"test set size = %d\" % test_size)\n",
    "    \n",
    "    train, test = random_split(subset, lengths=[train_size, test_size])\n",
    "    train_loader = DataLoader(train, batch_size=n_training_batch, pin_memory=use_pin_memory)\n",
    "\n",
    "    # Prepare network\n",
    "    network = models.FCNetMCDropout(\n",
    "        input_dim=subset.n_features, \n",
    "        output_dim=subset.n_targets,\n",
    "        hidden_dim=hidden_dim,\n",
    "        n_hidden=n_hidden,\n",
    "        dropout_rate=0.01,\n",
    "        dropout_type='bernoulli'\n",
    "    )\n",
    "    \n",
    "    # Send the whole model to the selected torch.device\n",
    "    network.to(torch_device)\n",
    "\n",
    "    # Print the network structure\n",
    "    print(network)\n",
    "    \n",
    "    # Model to train mode\n",
    "    network.train()\n",
    "    \n",
    "    # Adam optimizer\n",
    "    # https://pytorch.org/docs/stable/optim.html?highlight=adam#torch.optim.Adam\n",
    "    # NOTE: Need to set L2 regularization from here\n",
    "    optimizer = optim.Adam(\n",
    "        network.parameters(),\n",
    "        lr=0.01,\n",
    "        weight_decay=reg_strength, # L2 regularization\n",
    "    )\n",
    "    \n",
    "    \"\"\"\n",
    "    Training\n",
    "    \"\"\"\n",
    "\n",
    "    print(\"Starting subset %f, n_hidden %d, hidden_dim %d\" % (subset_prop, n_hidden, hidden_dim))\n",
    "\n",
    "    # Record training start time (for this split)\n",
    "    tic = time.time()\n",
    "\n",
    "    for epoch in range(n_epochs): # loop over the dataset multiple times\n",
    "\n",
    "        for i, data in enumerate(train_loader):\n",
    "            # get the inputs; data is a list of [inputs, labels]\n",
    "            inputs, targets = data\n",
    "\n",
    "            # Store the batch to torch_device's memory\n",
    "            inputs = inputs.to(torch_device)\n",
    "            targets = targets.to(torch_device)\n",
    "\n",
    "            # zero the parameter gradients\n",
    "            optimizer.zero_grad()\n",
    "\n",
    "            # forward + backward + optimize\n",
    "            outputs = network(inputs)\n",
    "\n",
    "            loss = objective(outputs, targets)\n",
    "            loss.backward()\n",
    "\n",
    "            optimizer.step()\n",
    "            \n",
    "    # Record training end time\n",
    "    toc = time.time()\n",
    "\n",
    "    # Report the final loss\n",
    "    print(\"Finished subset %f, n_hidden %d, hidden_dim %d: final loss = %f\" % (subset_prop, n_hidden, hidden_dim, loss.item()))\n",
    "\n",
    "    \"\"\"\n",
    "    Testing\n",
    "    \"\"\"\n",
    "\n",
    "    # Model to eval mode\n",
    "    network.eval()\n",
    "\n",
    "    # Get the test data\n",
    "    inputs, targets = test.dataset[test.indices]\n",
    "\n",
    "    # Store the batch to torch_device's memory\n",
    "    inputs = inputs.to(torch_device)\n",
    "    targets = targets.to(torch_device)\n",
    "\n",
    "    # Record testing start time (for this split)\n",
    "    tic_testing = time.time()    \n",
    "    \n",
    "    predictions, mean, var, metrics = network.mc_predict(inputs, n_predictions,\n",
    "                                                         y_test=targets, reg_strength=reg_strength)\n",
    "\n",
    "    # Record testing end time\n",
    "    toc_testing = time.time()    \n",
    "    \n",
    "    \"\"\"\n",
    "    Print results\n",
    "    \"\"\"\n",
    "    print()\n",
    "    print(\"Running split subset %f, n_hidden %d, hidden_dim %d test: \"% (subset_prop, n_hidden, hidden_dim))\n",
    "    print(\"Mean = \" + str(mean))\n",
    "    print(\"Variance = \" + str(var))\n",
    "\n",
    "    # Print and store additional metrics\n",
    "    if len(metrics) > 0:\n",
    "        for key, value in metrics.items():\n",
    "            print(str(key) + \" = \" + str(value))\n",
    "\n",
    "            if key == 'rmse_mc': rmse_mc.append(value.item())\n",
    "            elif key == 'rmse_non_mc': rmse_non_mc.append(value.item())\n",
    "            elif key == 'test_ll_mc': test_lls_mc.append(value.item())\n",
    "\n",
    "    # Report the total training time\n",
    "    print(\"training time = \" + str(toc - tic) + \" seconds\")\n",
    "    \n",
    "    # Report the total testing time\n",
    "    print(\"testing time = \" + str(toc_testing - tic_testing) + \" seconds\")\n",
    "    print()"
   ]
  },
  {
   "cell_type": "markdown",
   "metadata": {
    "colab_type": "text",
    "id": "kfU8866qC-Vp"
   },
   "source": [
    "### Print statistics"
   ]
  },
  {
   "cell_type": "code",
   "execution_count": null,
   "metadata": {
    "colab": {
     "base_uri": "https://localhost:8080/",
     "height": 121
    },
    "colab_type": "code",
    "executionInfo": {
     "elapsed": 1731455,
     "status": "ok",
     "timestamp": 1572957232708,
     "user": {
      "displayName": "Ronald Seoh",
      "photoUrl": "",
      "userId": "10284188050297676522"
     },
     "user_tz": 300
    },
    "id": "PB4HFH9MVFK3",
    "outputId": "02ce8ce7-5724-494f-83ef-efb580a8f846"
   },
   "outputs": [],
   "source": [
    "# Copied from DropoutUncertaintyExps repo\n",
    "print('non-MC RMSE %f +- %f (stddev) +- %f (std error), median %f 25p %f 75p %f \\n' % (\n",
    "        np.mean(rmse_non_mc), np.std(rmse_non_mc), np.std(rmse_non_mc)/np.sqrt(n_splits),\n",
    "        np.percentile(rmse_non_mc, 50), np.percentile(rmse_non_mc, 25), np.percentile(rmse_non_mc, 75)))\n",
    "\n",
    "print('MC RMSE %f +- %f (stddev) +- %f (std error), median %f 25p %f 75p %f \\n' % (\n",
    "        np.mean(rmse_mc), np.std(rmse_mc), np.std(rmse_mc)/np.sqrt(n_splits),\n",
    "        np.percentile(rmse_mc, 50), np.percentile(rmse_mc, 25), np.percentile(rmse_mc, 75)))\n",
    "\n",
    "print('MC Test Log-likelihood %f +- %f (stddev) +- %f (std error), median %f 25p %f 75p %f \\n' % (\n",
    "        np.mean(test_lls_mc), np.std(test_lls_mc), np.std(test_lls_mc)/np.sqrt(n_splits), \n",
    "        np.percentile(test_lls_mc, 50), np.percentile(test_lls_mc, 25), np.percentile(test_lls_mc, 75)))"
   ]
  },
  {
   "cell_type": "code",
   "execution_count": null,
   "metadata": {
    "colab": {},
    "colab_type": "code",
    "id": "9sSWyEXgC-Vr"
   },
   "outputs": [],
   "source": []
  }
 ],
 "metadata": {
  "accelerator": "GPU",
  "colab": {
   "collapsed_sections": [],
   "name": "experiments.ipynb",
   "provenance": []
  },
  "kernelspec": {
   "display_name": "Python 3",
   "language": "python",
   "name": "python3"
  },
  "language_info": {
   "codemirror_mode": {
    "name": "ipython",
    "version": 3
   },
   "file_extension": ".py",
   "mimetype": "text/x-python",
   "name": "python",
   "nbconvert_exporter": "python",
   "pygments_lexer": "ipython3",
   "version": "3.6.8"
  }
 },
 "nbformat": 4,
 "nbformat_minor": 1
}
