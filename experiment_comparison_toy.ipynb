{
 "cells": [
  {
   "cell_type": "markdown",
   "metadata": {
    "colab_type": "text",
    "id": "Bka_bK83VFHh"
   },
   "source": [
    "## Experiment Setup"
   ]
  },
  {
   "cell_type": "markdown",
   "metadata": {
    "colab_type": "text",
    "id": "8D5NSPs_cJZe"
   },
   "source": [
    "###  Random seed / Colab / CUDA related"
   ]
  },
  {
   "cell_type": "code",
   "execution_count": 1,
   "metadata": {
    "colab": {
     "base_uri": "https://localhost:8080/",
     "height": 592
    },
    "colab_type": "code",
    "executionInfo": {
     "elapsed": 32214,
     "status": "ok",
     "timestamp": 1575021332527,
     "user": {
      "displayName": "Ronald Seoh",
      "photoUrl": "",
      "userId": "10284188050297676522"
     },
     "user_tz": 300
    },
    "id": "pHbfpytEVFHu",
    "outputId": "7913f72d-859c-477f-90b8-6c37e04f5759"
   },
   "outputs": [],
   "source": [
    "import time\n",
    "import datetime\n",
    "import os\n",
    "import sys\n",
    "import itertools\n",
    "\n",
    "# Use Google Colab\n",
    "use_colab = True\n",
    "\n",
    "# Is this notebook running on Colab?\n",
    "# If so, then google.colab package (github.com/googlecolab/colabtools)\n",
    "# should be available in this environment\n",
    "\n",
    "# Previous version used importlib, but we could do the same thing with\n",
    "# just attempting to import google.colab\n",
    "try:\n",
    "    from google.colab import drive\n",
    "    colab_available = True\n",
    "except:\n",
    "    colab_available = False\n",
    "\n",
    "if use_colab and colab_available:\n",
    "    drive.mount('/content/drive')\n",
    "    \n",
    "    # If there's a package I need to install separately, do it here\n",
    "    !pip install pyro-ppl\n",
    "    \n",
    "    # Install ronald_bdl package\n",
    "    !pip install git+https://github.com/ronaldseoh/ronald_bdl.git\n",
    "\n",
    "    # cd to the appropriate working directory under my Google Drive\n",
    "    %cd 'drive/My Drive/Colab Notebooks/bayesian-dl-experiments'\n",
    "    \n",
    "    # List the directory contents\n",
    "    !ls\n",
    "\n",
    "# IPython reloading magic\n",
    "%load_ext autoreload\n",
    "%autoreload 2\n",
    "\n",
    "# Random seeds\n",
    "# Based on https://pytorch.org/docs/stable/notes/randomness.html\n",
    "random_seed = 682"
   ]
  },
  {
   "cell_type": "markdown",
   "metadata": {
    "colab_type": "text",
    "id": "L8udq6NnHSXW"
   },
   "source": [
    "### Third party libraries (NumPy, PyTorch, Pyro)"
   ]
  },
  {
   "cell_type": "code",
   "execution_count": 2,
   "metadata": {
    "colab": {
     "base_uri": "https://localhost:8080/",
     "height": 104
    },
    "colab_type": "code",
    "executionInfo": {
     "elapsed": 35929,
     "status": "ok",
     "timestamp": 1575021336266,
     "user": {
      "displayName": "Ronald Seoh",
      "photoUrl": "",
      "userId": "10284188050297676522"
     },
     "user_tz": 300
    },
    "id": "BOJA1nXgHSXa",
    "outputId": "e2c1368a-d446-42c6-b971-155962116ceb"
   },
   "outputs": [
    {
     "name": "stdout",
     "output_type": "stream",
     "text": [
      "Python Version: 3.8.0 (v3.8.0:fa919fdf25, Oct 14 2019, 10:23:27) \n",
      "[Clang 6.0 (clang-600.0.57)]\n",
      "NumPy Version: 1.17.4\n",
      "PyTorch Version: 1.4.0a0+328ec54\n",
      "Pyro Version: 1.0.0\n"
     ]
    }
   ],
   "source": [
    "# Third party libraries import\n",
    "import numpy as np\n",
    "import torch\n",
    "import pyro\n",
    "import matplotlib.pyplot as plt\n",
    "import tqdm\n",
    "\n",
    "# Print version information\n",
    "print(\"Python Version: \" + sys.version)\n",
    "print(\"NumPy Version: \" + np.__version__)\n",
    "print(\"PyTorch Version: \" + torch.__version__)\n",
    "print(\"Pyro Version: \" + pyro.__version__)"
   ]
  },
  {
   "cell_type": "code",
   "execution_count": 3,
   "metadata": {
    "colab": {
     "base_uri": "https://localhost:8080/",
     "height": 86
    },
    "colab_type": "code",
    "executionInfo": {
     "elapsed": 44842,
     "status": "ok",
     "timestamp": 1575021345196,
     "user": {
      "displayName": "Ronald Seoh",
      "photoUrl": "",
      "userId": "10284188050297676522"
     },
     "user_tz": 300
    },
    "id": "BOIqWi_wHSXi",
    "outputId": "b658d6b3-5990-4d42-f71e-f8cbff718437"
   },
   "outputs": [],
   "source": [
    "# More imports...\n",
    "from torch import nn, optim\n",
    "from torch.utils.data import random_split, DataLoader, RandomSampler\n",
    "import torchvision\n",
    "import torchvision.transforms as transforms\n",
    "from pyro.infer import SVI, Trace_ELBO, HMC, MCMC\n",
    "\n",
    "# Import model and dataset classes from ronald_bdl\n",
    "from ronald_bdl import models, datasets\n",
    "from ronald_bdl.models import utils\n",
    "\n",
    "# pyplot setting\n",
    "%matplotlib inline\n",
    "\n",
    "# torch.device / CUDA Setup\n",
    "use_cuda = True\n",
    "\n",
    "if use_cuda and torch.cuda.is_available():\n",
    "    torch_device = torch.device('cuda')\n",
    "\n",
    "    torch.backends.cudnn.deterministic = True\n",
    "    # Disable 'benchmark' mode\n",
    "    # Note: https://discuss.pytorch.org/t/what-does-torch-backends-cudnn-benchmark-do/5936\n",
    "    torch.backends.cudnn.benchmark = False\n",
    "    use_pin_memory = True # Faster Host to GPU copies with page-locked memory\n",
    "\n",
    "    # CUDA libraries version information\n",
    "    print(\"CUDA Version: \" + str(torch.version.cuda))\n",
    "    print(\"cuDNN Version: \" + str(torch.backends.cudnn.version()))\n",
    "    print(\"CUDA Device Name: \" + str(torch.cuda.get_device_name()))\n",
    "    print(\"CUDA Capabilities: \"+ str(torch.cuda.get_device_capability()))\n",
    "else:\n",
    "    torch_device = torch.device('cpu')\n",
    "    use_pin_memory = False"
   ]
  },
  {
   "cell_type": "markdown",
   "metadata": {
    "colab_type": "text",
    "id": "XIFRoH3AcJZn"
   },
   "source": [
    "### Toy dataset settings"
   ]
  },
  {
   "cell_type": "code",
   "execution_count": 4,
   "metadata": {
    "colab": {},
    "colab_type": "code",
    "id": "g_pzGq1_cJZp"
   },
   "outputs": [],
   "source": [
    "\"\"\"\n",
    "Toy dataset generation based on the experiment from \n",
    "the Probabilstic Backpropagation paper (Hernandez-Lobato & Adams, 2015)\n",
    "\"\"\"\n",
    "\n",
    "# Random seed for toy dataset\n",
    "dataset_toy_random_seed = 691\n",
    "\n",
    "# Toy dataset size\n",
    "dataset_toy_size = 20\n",
    "random_x = True\n",
    "\n",
    "# Toy dataset x distribution (uniform) parameters\n",
    "dataset_toy_x_low = -4\n",
    "dataset_toy_x_high = 4\n",
    "\n",
    "# Toy dataset y noise distribution (normal noise)\n",
    "dataset_toy_y_noise_mean = 0\n",
    "dataset_toy_y_noise_std = 9\n",
    "\n",
    "# Toy dataset additional noise\n",
    "dataset_toy_more_noise_x_from=None\n",
    "dataset_toy_more_noise_x_to=dataset_toy_x_high\n",
    "dataset_toy_more_noise_y_from=50\n",
    "dataset_toy_more_noise_y_to=100"
   ]
  },
  {
   "cell_type": "markdown",
   "metadata": {
    "colab_type": "text",
    "id": "Kdi_LQ7sspvM"
   },
   "source": [
    "### MC dropout parameters"
   ]
  },
  {
   "cell_type": "code",
   "execution_count": 5,
   "metadata": {
    "colab": {},
    "colab_type": "code",
    "id": "0ys_GAWtHSX4"
   },
   "outputs": [
    {
     "name": "stdout",
     "output_type": "stream",
     "text": [
      "reg_strength = tensor(9.0000e-06)\n"
     ]
    }
   ],
   "source": [
    "\"\"\"\n",
    "MC Dropout related\n",
    "\"\"\"\n",
    "\n",
    "# Dropout rate\n",
    "dropout_rate = 0.1\n",
    "\n",
    "# Length scale\n",
    "length_scale = 0.01\n",
    "\n",
    "# tau\n",
    "tau = 0.25\n",
    "\n",
    "# reg strength\n",
    "reg_strength = utils.reg_strength(dropout_rate, length_scale, dataset_toy_size, tau)\n",
    "\n",
    "print('reg_strength = ' + str(reg_strength))\n",
    "\n",
    "# Epochs\n",
    "n_epochs = 40000\n",
    "\n",
    "# Optimizer learning rate\n",
    "learning_rate = 0.001\n",
    "\n",
    "# Loss function type\n",
    "loss_function_type = 'log_gaussian_loss'\n",
    "\n",
    "# Learn hetero noise?\n",
    "learn_hetero_noise = True\n",
    "\n",
    "# Number of test predictions (for each data point)\n",
    "n_predictions = 1000"
   ]
  },
  {
   "cell_type": "markdown",
   "metadata": {
    "colab_type": "text",
    "id": "DNGDKiltsux3"
   },
   "source": [
    "### Directory path to save results"
   ]
  },
  {
   "cell_type": "code",
   "execution_count": 6,
   "metadata": {
    "colab": {},
    "colab_type": "code",
    "id": "9ysu9G0FHSX-"
   },
   "outputs": [],
   "source": [
    "# Test start time\n",
    "test_start_time = datetime.datetime.today().strftime('%Y%m%d%H%M')\n",
    "\n",
    "# Directory to store the results for this experiment\n",
    "test_results_path = os.path.join(\n",
    "    './test_results',\n",
    "    'comparison_toy',\n",
    "    (\n",
    "        test_start_time \n",
    "        + '_' + str(n_epochs) \n",
    "        + '_' + str(dropout_rate) \n",
    "        + '_' + str(length_scale)\n",
    "        + '_' + str(tau)\n",
    "        + '_' + str(loss_function_type) \n",
    "        + '_' + str(n_predictions))\n",
    ")\n",
    "\n",
    "# Create the directory if it doesn't exist\n",
    "os.makedirs(test_results_path, exist_ok=True)"
   ]
  },
  {
   "cell_type": "markdown",
   "metadata": {
    "colab_type": "text",
    "id": "sZwe_f-yVFIf"
   },
   "source": [
    "## Prepare data"
   ]
  },
  {
   "cell_type": "markdown",
   "metadata": {
    "colab_type": "text",
    "id": "eEfdrHcOVFIj"
   },
   "source": [
    "### Get the data as a torch Dataset object"
   ]
  },
  {
   "cell_type": "code",
   "execution_count": 7,
   "metadata": {
    "colab": {
     "base_uri": "https://localhost:8080/",
     "height": 34
    },
    "colab_type": "code",
    "executionInfo": {
     "elapsed": 51278,
     "status": "ok",
     "timestamp": 1575021351670,
     "user": {
      "displayName": "Ronald Seoh",
      "photoUrl": "",
      "userId": "10284188050297676522"
     },
     "user_tz": 300
    },
    "id": "5u5qU-9JVFIr",
    "outputId": "480ccb60-6d74-46ec-dc61-e7689ebdb300"
   },
   "outputs": [
    {
     "name": "stdout",
     "output_type": "stream",
     "text": [
      "dataset size = (20, 1)\n"
     ]
    }
   ],
   "source": [
    "dataset = datasets.ToyDatasets(\n",
    "    random_seed=dataset_toy_random_seed,\n",
    "    n_samples=dataset_toy_size,\n",
    "    x_low=dataset_toy_x_low,\n",
    "    x_high=dataset_toy_x_high,\n",
    "    random_x=random_x,\n",
    "    y_noise_mean=dataset_toy_y_noise_mean,\n",
    "    y_noise_std=dataset_toy_y_noise_std,\n",
    "    more_noise_x_from=dataset_toy_more_noise_x_from,\n",
    "    more_noise_x_to=dataset_toy_more_noise_x_to,\n",
    "    more_noise_y_from=dataset_toy_more_noise_y_from,\n",
    "    more_noise_y_to=dataset_toy_more_noise_y_to,\n",
    ")\n",
    "\n",
    "# Get the test data\n",
    "X_test = torch.linspace(dataset_toy_x_low-5, dataset_toy_x_high+5, 100).reshape(100, 1)\n",
    "y_test = torch.pow(X_test, 3)\n",
    "\n",
    "# Send it to the memory of the device to be used for training\n",
    "X_test = X_test.to(torch_device)\n",
    "y_test = y_test.to(torch_device)\n",
    "\n",
    "# Save a copy of X_test at CPU for plotting\n",
    "X_test_cpu = X_test.cpu()\n",
    "\n",
    "# Print the size of the training set\n",
    "print(\"dataset size = \" + str((len(dataset), dataset.n_features)))"
   ]
  },
  {
   "cell_type": "markdown",
   "metadata": {
    "colab_type": "text",
    "id": "LaasFWpqVFJ1"
   },
   "source": [
    "## Declare models"
   ]
  },
  {
   "cell_type": "code",
   "execution_count": 8,
   "metadata": {
    "colab": {},
    "colab_type": "code",
    "id": "gAqkGtg7VFJ9"
   },
   "outputs": [],
   "source": [
    "uncertainty_methods = {}\n",
    "\n",
    "# MC (Bernoulli) dropout\n",
    "do_mc_dropout = True\n",
    "\n",
    "if do_mc_dropout:\n",
    "    uncertainty_methods['mc_dropout_relu'] = models.FCNet(\n",
    "        input_dim=dataset.n_features, \n",
    "        output_dim=dataset.n_targets,\n",
    "        hidden_dim=100,\n",
    "        n_hidden=0,\n",
    "        dropout_rate=dropout_rate,\n",
    "        dropout_type='bernoulli',\n",
    "        learn_hetero=learn_hetero_noise,\n",
    "    )\n",
    "    \n",
    "#     uncertainty_methods['mc_dropout_tanh'] = models.FCNet(\n",
    "#         input_dim=dataset.n_features, \n",
    "#         output_dim=dataset.n_targets,\n",
    "#         hidden_dim=100,\n",
    "#         n_hidden=1,\n",
    "#         dropout_rate=dropout_rate,\n",
    "#         dropout_type='bernoulli',\n",
    "#         nonlinear_type='tanh',\n",
    "#         learn_hetero=learn_hetero_noise,\n",
    "#     )\n",
    "    \n",
    "#     uncertainty_methods['mc_dropout_sigmoid'] = models.FCNet(\n",
    "#         input_dim=dataset.n_features, \n",
    "#         output_dim=dataset.n_targets,\n",
    "#         hidden_dim=100,\n",
    "#         n_hidden=0,\n",
    "#         dropout_rate=dropout_rate,\n",
    "#         dropout_type='bernoulli',\n",
    "#         nonlinear_type='sigmoid',\n",
    "#         learn_hetero=True,\n",
    "#     )\n",
    "\n",
    "# Vanilla Variational Inference\n",
    "do_vi = False\n",
    "\n",
    "if do_vi:\n",
    "    uncertainty_methods['vi'] = models.FCNetPyro(\n",
    "        input_dim=dataset.n_features, \n",
    "        output_dim=dataset.n_targets,\n",
    "        hidden_dim=100,\n",
    "        n_hidden=0,\n",
    "        torch_device=torch_device,\n",
    "    )\n",
    "\n",
    "# HMC\n",
    "do_hmc = False\n",
    "\n",
    "if do_hmc:\n",
    "    uncertainty_methods['hmc'] = models.FCNetPyro(\n",
    "        input_dim=dataset.n_features, \n",
    "        output_dim=dataset.n_targets,\n",
    "        hidden_dim=100,\n",
    "        n_hidden=0,\n",
    "        torch_device=torch_device,\n",
    "    )"
   ]
  },
  {
   "cell_type": "markdown",
   "metadata": {
    "colab_type": "text",
    "id": "1PpzPMI8VFKE"
   },
   "source": [
    "## Train the models"
   ]
  },
  {
   "cell_type": "markdown",
   "metadata": {
    "colab_type": "text",
    "id": "Jc7Td1h1VFKb"
   },
   "source": [
    "### Train/test the model"
   ]
  },
  {
   "cell_type": "code",
   "execution_count": 9,
   "metadata": {
    "colab": {
     "base_uri": "https://localhost:8080/",
     "height": 903
    },
    "colab_type": "code",
    "executionInfo": {
     "elapsed": 1213641,
     "status": "ok",
     "timestamp": 1575022514055,
     "user": {
      "displayName": "Ronald Seoh",
      "photoUrl": "",
      "userId": "10284188050297676522"
     },
     "user_tz": 300
    },
    "id": "m4kavCiTVFKf",
    "outputId": "6731cdaf-71b9-4709-fd78-45fb2b335a05",
    "scrolled": false
   },
   "outputs": [
    {
     "name": "stderr",
     "output_type": "stream",
     "text": [
      "loss: 485.4310:   0%|          | 10/40000 [00:00<07:16, 91.58it/s] "
     ]
    },
    {
     "name": "stdout",
     "output_type": "stream",
     "text": [
      "Now running mc_dropout_relu\n",
      "FCNet(\n",
      "  (input): ModuleDict(\n",
      "    (dropout): Dropout(p=0.1, inplace=False)\n",
      "    (linear): Linear(in_features=1, out_features=100, bias=True)\n",
      "    (nonlinear): ReLU()\n",
      "  )\n",
      "  (output_noise): Linear(in_features=100, out_features=1, bias=True)\n",
      "  (output): ModuleDict(\n",
      "    (dropout): Dropout(p=0.1, inplace=False)\n",
      "    (linear): Linear(in_features=100, out_features=1, bias=True)\n",
      "  )\n",
      ")\n",
      "\n"
     ]
    },
    {
     "name": "stderr",
     "output_type": "stream",
     "text": [
      "loss: 68.4471: 100%|██████████| 40000/40000 [05:14<00:00, 127.35it/s] \n"
     ]
    },
    {
     "name": "stdout",
     "output_type": "stream",
     "text": [
      "final loss = tensor(68.4471, grad_fn=<NegBackward>)\n",
      "training time = 314.10625886917114 seconds\n",
      "\n"
     ]
    }
   ],
   "source": [
    "for key, network in uncertainty_methods.items():\n",
    "    # Reset the random number generator for each method (to produce identical results)\n",
    "    torch.manual_seed(random_seed)\n",
    "    np.random.seed(random_seed)\n",
    "    pyro.set_rng_seed(random_seed)\n",
    "    \n",
    "    # Print the method name\n",
    "    print(\"Now running \" + str(key))\n",
    "    \n",
    "    # Send the whole model to the selected torch.device\n",
    "    network.to(torch_device)\n",
    "\n",
    "    # Print the network structure\n",
    "    print(network)\n",
    "    print()\n",
    "\n",
    "    # Initialize training data loader\n",
    "    train_loader = DataLoader(dataset, batch_size=128)\n",
    "    \n",
    "    \"\"\"\n",
    "    Optimizer Setup\n",
    "    \"\"\"\n",
    "\n",
    "    if isinstance(network, models.FCNet):\n",
    "        # Adam optimizer\n",
    "        # https://pytorch.org/docs/stable/optim.html?highlight=adam#torch.optim.Adam\n",
    "        # NOTE: Need to set L2 regularization from here\n",
    "        optimizer = torch.optim.Adam(\n",
    "            network.parameters(),\n",
    "            lr=learning_rate,\n",
    "            weight_decay=reg_strength, # L2 regularization\n",
    "        )\n",
    "\n",
    "    elif isinstance(network, models.FCNetPyro):\n",
    "        # Clear everything in Pyro parameter storage\n",
    "        # Looks like this parameter store would be globally shared across\n",
    "        # models in the same Python instance.\n",
    "        pyro.clear_param_store()\n",
    "\n",
    "        # Force all the PyTorch tensors to be CUDA tensors if available\n",
    "        if use_cuda and torch.cuda.is_available():\n",
    "            torch.set_default_tensor_type(torch.cuda.FloatTensor)\n",
    "\n",
    "        # Different optimizers for VI and HMC\n",
    "        if key == 'vi':\n",
    "            optimizer = pyro.optim.Adam({\"lr\": 0.01})\n",
    "            svi = SVI(network, network.guide, optimizer, loss=Trace_ELBO())\n",
    "        elif key == 'hmc':\n",
    "            kernel = HMC(network)\n",
    "            mcmc = MCMC(kernel, num_samples=10000)\n",
    "\n",
    "    \"\"\"\n",
    "    Training\n",
    "    \"\"\"\n",
    "\n",
    "    # Model to train mode\n",
    "    network.train()\n",
    "\n",
    "    # Record training start time (for this method)\n",
    "    tic = time.time()\n",
    "    \n",
    "    if key == 'hmc':\n",
    "        # to() actually returns new Tensor; need to replace with that return\n",
    "        dataset.data_x = dataset.data_x.to(torch_device)\n",
    "\n",
    "        dataset.data_y = dataset.data_y.to(torch_device)\n",
    "\n",
    "        mcmc.run(dataset.data_x, dataset.data_y)\n",
    "    else:\n",
    "        progress_bar = tqdm.tqdm(range(n_epochs))\n",
    "\n",
    "        for epoch in progress_bar: # loop over the dataset multiple times\n",
    "\n",
    "            for i, data in enumerate(train_loader):\n",
    "                # get the inputs; data is a list of [inputs, labels]\n",
    "                inputs, targets = data\n",
    "\n",
    "                # Store the batch to torch_device's memory\n",
    "                # to() actually returns new Tensor; need to replace with that return\n",
    "                inputs = inputs.to(torch_device)\n",
    "                targets = targets.to(torch_device)\n",
    "\n",
    "                if isinstance(network, models.FCNet):\n",
    "                    # zero the parameter gradients\n",
    "                    optimizer.zero_grad()\n",
    "\n",
    "                    # forward + backward + optimize\n",
    "                    outputs, noises = network(inputs)\n",
    "\n",
    "                    # Mean Squared Error for loss function to minimize\n",
    "                    if loss_function_type == 'mse_loss':\n",
    "                        total_loss = torch.nn.MSELoss()(outputs, targets)\n",
    "                    elif loss_function_type == 'log_gaussian_loss':\n",
    "                        total_loss = utils.log_gaussian_loss(outputs, targets, noises.exp())\n",
    "\n",
    "                    total_loss.backward()\n",
    "\n",
    "                    optimizer.step()\n",
    "\n",
    "                elif isinstance(network, models.FCNetPyro):\n",
    "                    pyro.clear_param_store()\n",
    "                    # calculate the loss and take a gradient step\n",
    "                    total_loss = svi.step(inputs, targets)\n",
    "\n",
    "            progress_bar.set_description(\"loss: %5.4f\" % total_loss)\n",
    "            \n",
    "    # Record training end time\n",
    "    toc = time.time()\n",
    "\n",
    "    # Report the final loss\n",
    "    print(\"final loss = \" + str(total_loss))            \n",
    "\n",
    "    # Report the total training time\n",
    "    print(\"training time = \" + str(toc - tic) + \" seconds\")\n",
    "    \n",
    "    print()"
   ]
  },
  {
   "cell_type": "markdown",
   "metadata": {
    "colab_type": "text",
    "id": "xrknIU5UWv-v"
   },
   "source": [
    "## Plot the results"
   ]
  },
  {
   "cell_type": "code",
   "execution_count": 10,
   "metadata": {
    "colab": {
     "base_uri": "https://localhost:8080/",
     "height": 1000
    },
    "colab_type": "code",
    "executionInfo": {
     "elapsed": 20586,
     "status": "ok",
     "timestamp": 1575024185652,
     "user": {
      "displayName": "Ronald Seoh",
      "photoUrl": "",
      "userId": "10284188050297676522"
     },
     "user_tz": 300
    },
    "id": "ymmG2nxTHSYq",
    "outputId": "bad750f8-6180-4e17-8cfc-21b92fe8c524",
    "scrolled": false
   },
   "outputs": [
    {
     "name": "stdout",
     "output_type": "stream",
     "text": [
      "testing time = 0.6293849945068359 seconds\n",
      "\n",
      "Mean = tensor([-1.6020e+02, -1.5739e+02, -1.5600e+02, -1.4961e+02, -1.4570e+02,\n",
      "        -1.3953e+02, -1.3820e+02, -1.3180e+02, -1.2865e+02, -1.2296e+02,\n",
      "        -1.1925e+02, -1.1672e+02, -1.1187e+02, -1.0953e+02, -1.0481e+02,\n",
      "        -1.0144e+02, -9.8147e+01, -9.1470e+01, -8.7708e+01, -8.3913e+01,\n",
      "        -8.1190e+01, -7.4685e+01, -7.0884e+01, -6.7004e+01, -6.4827e+01,\n",
      "        -5.9233e+01, -5.3752e+01, -5.0499e+01, -4.7236e+01, -4.3239e+01,\n",
      "        -3.8815e+01, -3.4676e+01, -3.0322e+01, -2.6094e+01, -2.3006e+01,\n",
      "        -1.9437e+01, -1.5688e+01, -1.2468e+01, -9.0047e+00, -5.4720e+00,\n",
      "        -3.0803e+00, -3.1083e+00, -3.1246e+00, -2.8800e+00, -2.3826e+00,\n",
      "        -1.8573e+00, -1.3989e+00, -8.6124e-01, -3.4259e-01,  1.5987e-01,\n",
      "         6.5099e-01,  1.1861e+00,  1.6523e+00,  2.0183e+00,  2.1745e+00,\n",
      "         2.2583e+00,  2.4075e+00,  2.4423e+00,  2.8281e+00,  3.4751e+00,\n",
      "         3.9741e+00,  4.6347e+00,  5.2454e+00,  5.8812e+00,  6.3603e+00,\n",
      "         8.8923e+00,  1.6327e+01,  2.3935e+01,  3.1428e+01,  3.9412e+01,\n",
      "         4.7415e+01,  5.4698e+01,  6.2383e+01,  6.9460e+01,  7.7146e+01,\n",
      "         8.4163e+01,  9.3475e+01,  1.0011e+02,  1.0809e+02,  1.1641e+02,\n",
      "         1.2467e+02,  1.2760e+02,  1.3661e+02,  1.4646e+02,  1.5440e+02,\n",
      "         1.6079e+02,  1.7005e+02,  1.7415e+02,  1.8564e+02,  1.9426e+02,\n",
      "         1.9774e+02,  2.0927e+02,  2.1689e+02,  2.1985e+02,  2.3325e+02,\n",
      "         2.4345e+02,  2.4722e+02,  2.5227e+02,  2.6073e+02,  2.6919e+02],\n",
      "       grad_fn=<ViewBackward>)\n",
      "Variance = tensor([3.3887e+03, 3.0086e+03, 2.5724e+03, 2.7733e+03, 2.5221e+03, 2.6499e+03,\n",
      "        2.1815e+03, 2.2677e+03, 2.0647e+03, 2.0718e+03, 1.8992e+03, 1.6446e+03,\n",
      "        1.6288e+03, 1.3585e+03, 1.3310e+03, 1.1334e+03, 9.8026e+02, 1.0894e+03,\n",
      "        9.5656e+02, 8.5095e+02, 6.6298e+02, 7.4791e+02, 6.5940e+02, 5.9005e+02,\n",
      "        4.1859e+02, 4.3027e+02, 4.2520e+02, 3.3973e+02, 2.5307e+02, 2.0239e+02,\n",
      "        1.6817e+02, 1.4468e+02, 1.2046e+02, 9.0729e+01, 5.5946e+01, 4.1529e+01,\n",
      "        3.1229e+01, 1.6604e+01, 8.3305e+00, 3.2041e+00, 1.2331e+00, 1.1136e+00,\n",
      "        1.0840e+00, 1.0747e+00, 7.0877e-01, 4.7566e-01, 2.1173e-01, 1.2463e-01,\n",
      "        5.5887e-02, 6.0259e-02, 1.3104e-01, 2.6990e-01, 4.6805e-01, 5.9738e-01,\n",
      "        6.0080e-01, 7.4613e-01, 8.6165e-01, 1.0606e+00, 1.2374e+00, 1.6132e+00,\n",
      "        2.3574e+00, 3.0015e+00, 3.4950e+00, 4.8326e+00, 6.1362e+00, 1.2205e+01,\n",
      "        3.7974e+01, 7.7089e+01, 1.3851e+02, 1.9135e+02, 2.6715e+02, 3.6753e+02,\n",
      "        4.6491e+02, 6.3918e+02, 7.5665e+02, 1.0093e+03, 1.0677e+03, 1.2833e+03,\n",
      "        1.4958e+03, 1.6098e+03, 1.7836e+03, 2.4953e+03, 2.7291e+03, 2.5755e+03,\n",
      "        2.9424e+03, 3.4440e+03, 3.4552e+03, 4.0585e+03, 3.9622e+03, 3.9215e+03,\n",
      "        5.5537e+03, 5.0360e+03, 5.5781e+03, 6.3810e+03, 5.9297e+03, 5.8159e+03,\n",
      "        7.0233e+03, 8.4405e+03, 8.3066e+03, 8.9582e+03],\n",
      "       grad_fn=<ViewBackward>)\n",
      "Noise = tensor([4.5805e+10, 1.9178e+10, 1.5687e+10, 9.1010e+09, 6.5923e+09, 2.3522e+09,\n",
      "        8.0102e+08, 7.2428e+08, 3.3159e+08, 2.3680e+08, 1.1666e+08, 4.6916e+07,\n",
      "        3.1578e+07, 9.6458e+06, 4.5288e+06, 2.6128e+06, 1.2355e+06, 1.6862e+06,\n",
      "        4.8282e+05, 2.0275e+05, 1.3052e+05, 6.3061e+04, 3.1460e+04, 1.8879e+04,\n",
      "        1.1339e+04, 4.7775e+03, 3.0748e+03, 1.8440e+03, 1.1452e+03, 8.0249e+02,\n",
      "        5.7794e+02, 4.3476e+02, 3.2717e+02, 2.8829e+02, 1.6721e+02, 9.2708e+01,\n",
      "        4.9552e+01, 2.7050e+01, 1.4874e+01, 7.9495e+00, 5.6202e+00, 6.6246e+00,\n",
      "        7.6105e+00, 9.4554e+00, 1.3032e+01, 1.7717e+01, 2.4864e+01, 3.4044e+01,\n",
      "        4.7301e+01, 6.5556e+01, 9.0644e+01, 1.2501e+02, 1.7126e+02, 1.8997e+02,\n",
      "        1.5665e+02, 1.3023e+02, 1.0916e+02, 9.0905e+01, 7.4804e+01, 5.9341e+01,\n",
      "        4.6735e+01, 3.7778e+01, 3.1672e+01, 2.7404e+01, 2.3026e+01, 2.4288e+01,\n",
      "        4.1565e+01, 8.1074e+01, 1.4933e+02, 2.5905e+02, 5.2745e+02, 9.2913e+02,\n",
      "        1.6129e+03, 3.1334e+03, 6.3091e+03, 1.0838e+04, 2.7403e+04, 6.7787e+04,\n",
      "        9.5877e+04, 3.1933e+05, 4.1047e+05, 7.0669e+05, 1.2867e+06, 2.4746e+06,\n",
      "        5.0950e+06, 9.5686e+06, 2.2188e+07, 5.7319e+07, 1.1547e+08, 2.3650e+08,\n",
      "        5.0863e+08, 9.1019e+08, 4.4789e+09, 4.3758e+09, 9.4915e+09, 2.0039e+10,\n",
      "        5.0333e+10, 7.2365e+10, 7.8107e+10, 2.2355e+11],\n",
      "       grad_fn=<ViewBackward>)\n",
      "rmse_mc = tensor(181.7830, grad_fn=<SqrtBackward>)\n",
      "rmse_non_mc = tensor(181.6986, grad_fn=<SqrtBackward>)\n",
      "test_ll_mc = tensor(-3072.1973, grad_fn=<MeanBackward0>)\n",
      "\n"
     ]
    },
    {
     "data": {
      "image/png": "[encoded data removed]",
      "text/plain": [
       "<Figure size 432x288 with 1 Axes>"
      ]
     },
     "metadata": {
      "needs_background": "light"
     },
     "output_type": "display_data"
    }
   ],
   "source": [
    "for key, network in uncertainty_methods.items():\n",
    "\n",
    "    \"\"\"\n",
    "    Testing\n",
    "    \"\"\"\n",
    "\n",
    "    # Model to eval mode\n",
    "    network.eval()\n",
    "\n",
    "    # Record testing start time (for this split)\n",
    "    tic_testing = time.time()\n",
    "    \n",
    "    predictions_non_mc, _ = network(X_test)\n",
    "\n",
    "    predictions, mean, var, noises, metrics = network.predict_dist(\n",
    "        X_test, n_predictions,\n",
    "        y_test=y_test,\n",
    "        tau=torch.tensor(tau, dtype=torch.float))\n",
    "    \n",
    "    # Record testing end time\n",
    "    toc_testing = time.time()\n",
    "    \n",
    "    # Report the total testing time\n",
    "    print(\"testing time = \" + str(toc_testing - tic_testing) + \" seconds\")\n",
    "\n",
    "    # These can now be stored in CPU memory for plotting\n",
    "    predictions_non_mc = predictions_non_mc.cpu()\n",
    "    predictions = predictions.cpu()\n",
    "    mean = mean.cpu()\n",
    "    var = var.cpu()\n",
    "    noises = noises.cpu()\n",
    "\n",
    "    total_uncertainty = var + noises\n",
    "\n",
    "    \"\"\"\n",
    "    Print results\n",
    "    \"\"\"\n",
    "\n",
    "    print()\n",
    "    print(\"Mean = \" + str(mean.flatten()))\n",
    "    print(\"Variance = \" + str(var.flatten()))\n",
    "    print(\"Noise = \" + str(noises.flatten()))\n",
    "    \n",
    "    # store additional metrics\n",
    "    if len(metrics) > 0:\n",
    "        for metric_key, value in metrics.items():\n",
    "            print(str(metric_key) + \" = \" + str(value))\n",
    "        print()\n",
    "             \n",
    "    # Plot the uncertainty measured by each methods\n",
    "    plt.figure()\n",
    "    \n",
    "    # Fix the scales of x-axis and y-axis\n",
    "    plt.xlim(dataset_toy_x_low-1, dataset_toy_x_high+1)\n",
    "    \n",
    "    plot_ylim_low = dataset_toy_x_low ** 3 - 2 * dataset_toy_y_noise_std\n",
    "    plot_ylim_high = dataset_toy_x_high ** 3 + 2 * dataset_toy_y_noise_std\n",
    "    \n",
    "    plt.ylim(plot_ylim_low, plot_ylim_high)\n",
    "    \n",
    "    # Distributions around the predictions\n",
    "    plt.fill_between(\n",
    "       X_test_cpu.flatten(), \n",
    "       (mean.detach().numpy() - 2*torch.sqrt(total_uncertainty).detach().numpy()).flatten(),\n",
    "       (mean.detach().numpy() + 2*torch.sqrt(total_uncertainty).detach().numpy()).flatten(),\n",
    "       color='lightblue', alpha=0.6, label=\"Total predictive uncertainty\")\n",
    "    \n",
    "    # epistemic\n",
    "    plt.fill_between(\n",
    "        X_test_cpu.flatten(), \n",
    "        (mean.detach().numpy() - 2*torch.sqrt(var).detach().numpy()).flatten(),\n",
    "        (mean.detach().numpy() + 2*torch.sqrt(var).detach().numpy()).flatten(),\n",
    "        color='red', alpha=0.1, label=\"Epistemic uncertainty\")\n",
    "\n",
    "    # Train data\n",
    "    plt.plot(dataset.data_x.cpu(), dataset.data_y.cpu(), 'or', label='Training data', alpha=0.3)\n",
    "\n",
    "    # Non-MC prediction\n",
    "    plt.plot(X_test_cpu, predictions_non_mc.detach().numpy(), 'green', label='non-MC prediction', alpha=0.9)    \n",
    "    \n",
    "    # MC prediction\n",
    "    plt.plot(X_test_cpu, mean.detach().numpy(), 'blue', label='mean prediction', alpha=0.7)\n",
    "    \n",
    "    # Original data generating function without noise\n",
    "    plt.plot(X_test_cpu, X_test_cpu ** 3, 'gray', label='data generating function')    \n",
    "    \n",
    "    plt.legend(loc=2, prop={'size': 8})\n",
    "    \n",
    "    plt.savefig(os.path.join(test_results_path, str(key) + '.png'), dpi=200)\n",
    "    \n",
    "    plt.show()"
   ]
  },
  {
   "cell_type": "code",
   "execution_count": null,
   "metadata": {},
   "outputs": [],
   "source": []
  }
 ],
 "metadata": {
  "accelerator": "GPU",
  "colab": {
   "collapsed_sections": [
    "Bka_bK83VFHh",
    "eEfdrHcOVFIj"
   ],
   "name": "experiment_comparison_toy.ipynb",
   "provenance": []
  },
  "kernelspec": {
   "display_name": "Python 3",
   "language": "python",
   "name": "python3"
  },
  "language_info": {
   "codemirror_mode": {
    "name": "ipython",
    "version": 3
   },
   "file_extension": ".py",
   "mimetype": "text/x-python",
   "name": "python",
   "nbconvert_exporter": "python",
   "pygments_lexer": "ipython3",
   "version": "3.8.0"
  }
 },
 "nbformat": 4,
 "nbformat_minor": 1
}
