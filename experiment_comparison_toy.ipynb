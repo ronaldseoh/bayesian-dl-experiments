{
 "cells": [
  {
   "cell_type": "markdown",
   "metadata": {
    "colab_type": "text",
    "id": "Bka_bK83VFHh"
   },
   "source": [
    "## Experiment Setup"
   ]
  },
  {
   "cell_type": "markdown",
   "metadata": {
    "colab_type": "text",
    "id": "8D5NSPs_cJZe"
   },
   "source": [
    "###  Random seed / PyTorch / Colab / CUDA related"
   ]
  },
  {
   "cell_type": "code",
   "execution_count": 1,
   "metadata": {
    "colab": {},
    "colab_type": "code",
    "id": "pHbfpytEVFHu"
   },
   "outputs": [],
   "source": [
    "import time\n",
    "import datetime\n",
    "import importlib\n",
    "import os\n",
    "\n",
    "import torch\n",
    "\n",
    "import numpy as np\n",
    "import matplotlib.pyplot as plt\n",
    "\n",
    "# pyplot setting\n",
    "%matplotlib inline\n",
    "\n",
    "# Use Google Colab\n",
    "use_colab = True\n",
    "\n",
    "# Is this running on Colab?\n",
    "colab_available = importlib.util.find_spec(\"google.colab\") is not None\n",
    "\n",
    "if use_colab and colab_available:\n",
    "    # Mount my Google Drive root folder\n",
    "    from google.colab import drive\n",
    "    drive.mount('/content/drive')\n",
    "    \n",
    "    # Pyro\n",
    "    !pip install pyro-ppl\n",
    "\n",
    "    # cd to bayesian-dl-experiments directory\n",
    "    %cd 'drive/My Drive/Colab Notebooks/bayesian-dl-experiments'\n",
    "    !ls\n",
    "\n",
    "# This needs to be imported after we are done with Colab setting\n",
    "import pyro\n",
    "\n",
    "# IPython reloading magic\n",
    "%load_ext autoreload\n",
    "%autoreload 2\n",
    "\n",
    "# Random seeds\n",
    "# Based on https://pytorch.org/docs/stable/notes/randomness.html\n",
    "random_seed = 682\n",
    "\n",
    "# torch.device / CUDA Setup\n",
    "use_cuda = True\n",
    "\n",
    "if use_cuda and torch.cuda.is_available():\n",
    "    torch_device = torch.device('cuda')\n",
    "    torch.set_default_tensor_type('torch.cuda.FloatTensor') \n",
    "    torch.backends.cudnn.deterministic = True\n",
    "    # Note: https://discuss.pytorch.org/t/what-does-torch-backends-cudnn-benchmark-do/5936\n",
    "    torch.backends.cudnn.benchmark = False\n",
    "    use_pin_memory=True # Faster Host to GPU copies with page-locked memory\n",
    "else:\n",
    "    torch_device = torch.device('cpu')\n",
    "    use_pin_memory=False"
   ]
  },
  {
   "cell_type": "markdown",
   "metadata": {
    "colab_type": "text",
    "id": "XIFRoH3AcJZn"
   },
   "source": [
    "### Variable settings"
   ]
  },
  {
   "cell_type": "code",
   "execution_count": 2,
   "metadata": {
    "colab": {},
    "colab_type": "code",
    "id": "g_pzGq1_cJZp"
   },
   "outputs": [],
   "source": [
    "\"\"\"\n",
    "Toy dataset generation based on the experiment from \n",
    "the Probabilstic Backpropagation paper (Hernandez-Lobato & Adams, 2015)\n",
    "\"\"\"\n",
    "# Random seed for toy dataset\n",
    "dataset_toy_random_seed = 691\n",
    "\n",
    "# Toy dataset size\n",
    "dataset_toy_size = 1000\n",
    "\n",
    "# Toy dataset x distribution (uniform) parameters\n",
    "dataset_toy_x_low = -4\n",
    "dataset_toy_x_high = 4\n",
    "\n",
    "# Toy dataset y distribution (normal with noise)\n",
    "dataset_toy_y_mean = 0\n",
    "dataset_toy_y_std = 9\n",
    "\n",
    "# Dropout rate\n",
    "dropout_rate = 0.5\n",
    "\n",
    "# L2 regularization strength\n",
    "reg_strength = 0.5\n",
    "\n",
    "# Epochs\n",
    "n_epochs = 4000\n",
    "\n",
    "# Loss function type\n",
    "loss_function_type = 'mse_loss'\n",
    "\n",
    "# Number of test predictions (for each data point)\n",
    "n_predictions = 100"
   ]
  },
  {
   "cell_type": "code",
   "execution_count": 3,
   "metadata": {},
   "outputs": [],
   "source": [
    "# Test start time\n",
    "test_start_time = datetime.datetime.today().strftime('%Y%m%d%H%M')\n",
    "\n",
    "test_results_path = os.path.join(\n",
    "    './test_results',\n",
    "    'comparison_toy',\n",
    "    test_start_time + '_' + str(n_epochs) + '_' + str(dropout_rate) + '_' + str(reg_strength) + '_' + str(loss_function_type) + '_' + str(n_predictions)\n",
    ")\n",
    "\n",
    "os.makedirs(test_results_path)"
   ]
  },
  {
   "cell_type": "markdown",
   "metadata": {
    "colab_type": "text",
    "id": "sZwe_f-yVFIf"
   },
   "source": [
    "## Prepare data"
   ]
  },
  {
   "cell_type": "markdown",
   "metadata": {
    "colab_type": "text",
    "id": "eEfdrHcOVFIj"
   },
   "source": [
    "### Get the data as a torch Dataset object"
   ]
  },
  {
   "cell_type": "code",
   "execution_count": 4,
   "metadata": {
    "colab": {
     "base_uri": "https://localhost:8080/",
     "height": 86
    },
    "colab_type": "code",
    "executionInfo": {
     "elapsed": 4151,
     "status": "ok",
     "timestamp": 1572955505337,
     "user": {
      "displayName": "Ronald Seoh",
      "photoUrl": "",
      "userId": "10284188050297676522"
     },
     "user_tz": 300
    },
    "id": "5u5qU-9JVFIr",
    "outputId": "3d1637a9-39e3-473a-e4be-b40211d444cc"
   },
   "outputs": [
    {
     "name": "stdout",
     "output_type": "stream",
     "text": [
      "dataset size = (1000, 1)\n"
     ]
    }
   ],
   "source": [
    "from torch.utils.data import random_split, DataLoader\n",
    "from ronald_bdl import datasets\n",
    "\n",
    "dataset = datasets.ToyDatasets(\n",
    "    random_seed=dataset_toy_random_seed,\n",
    "    n_samples=dataset_toy_size,\n",
    "    x_low=dataset_toy_x_low,\n",
    "    x_high=dataset_toy_x_high,\n",
    "    y_mean=dataset_toy_y_mean,\n",
    "    y_std=dataset_toy_y_std,\n",
    ")\n",
    "\n",
    "# Get the test data\n",
    "X_test = torch.linspace(dataset_toy_x_low, dataset_toy_x_high, 100).reshape(100, 1)\n",
    "\n",
    "# Print the size of the dataset\n",
    "print(\"dataset size = \" + str((len(dataset), dataset.n_features)))"
   ]
  },
  {
   "cell_type": "markdown",
   "metadata": {
    "colab_type": "text",
    "id": "LaasFWpqVFJ1"
   },
   "source": [
    "## Define network"
   ]
  },
  {
   "cell_type": "code",
   "execution_count": 5,
   "metadata": {
    "colab": {
     "base_uri": "https://localhost:8080/",
     "height": 156
    },
    "colab_type": "code",
    "executionInfo": {
     "elapsed": 6671,
     "status": "ok",
     "timestamp": 1572955507874,
     "user": {
      "displayName": "Ronald Seoh",
      "photoUrl": "",
      "userId": "10284188050297676522"
     },
     "user_tz": 300
    },
    "id": "gAqkGtg7VFJ9",
    "outputId": "0db0dd2f-92f2-4502-c035-917ba1eab35d"
   },
   "outputs": [],
   "source": [
    "from ronald_bdl import models\n",
    "\n",
    "uncertainty_methods = {}\n",
    "\n",
    "# MC (Bernoulli) dropout\n",
    "uncertainty_methods['mc_dropout'] = models.FCNetMCDropout(\n",
    "    input_dim=dataset.n_features, \n",
    "    output_dim=dataset.n_targets,\n",
    "    hidden_dim=100,\n",
    "    n_hidden=0,\n",
    "    dropout_rate=dropout_rate,\n",
    "    dropout_type='bernoulli',\n",
    ")\n",
    "\n",
    "# Vanilla Variational Inference\n",
    "uncertainty_methods['variational_inference'] = models.FCNetPyro(\n",
    "    input_dim=dataset.n_features, \n",
    "   output_dim=dataset.n_targets,\n",
    "    hidden_dim=100,\n",
    "    n_hidden=0,\n",
    ")\n",
    "\n",
    "# HMC (NUTS)\n",
    "#uncertainty_methods['hmc'] = models.FCNetPyro(\n",
    "#    input_dim=dataset.n_features, \n",
    "#    output_dim=dataset.n_targets,\n",
    "#    hidden_dim=100,\n",
    "#    n_hidden=0,\n",
    "#)"
   ]
  },
  {
   "cell_type": "markdown",
   "metadata": {
    "colab_type": "text",
    "id": "1PpzPMI8VFKE"
   },
   "source": [
    "## Train the network"
   ]
  },
  {
   "cell_type": "markdown",
   "metadata": {
    "colab_type": "text",
    "id": "Jc7Td1h1VFKb"
   },
   "source": [
    "### Train/test the model"
   ]
  },
  {
   "cell_type": "code",
   "execution_count": 6,
   "metadata": {
    "colab": {
     "base_uri": "https://localhost:8080/",
     "height": 1000
    },
    "colab_type": "code",
    "executionInfo": {
     "elapsed": 1731463,
     "status": "ok",
     "timestamp": 1572957232698,
     "user": {
      "displayName": "Ronald Seoh",
      "photoUrl": "",
      "userId": "10284188050297676522"
     },
     "user_tz": 300
    },
    "id": "m4kavCiTVFKf",
    "outputId": "62aa76cb-701a-4cdc-d1e3-877ae60252cf",
    "scrolled": false
   },
   "outputs": [
    {
     "name": "stdout",
     "output_type": "stream",
     "text": [
      "Now running mc_dropout\n",
      "FCNetMCDropout(\n",
      "  (input): Sequential(\n",
      "    (0): Linear(in_features=1, out_features=100, bias=True)\n",
      "    (1): Dropout(p=0.5, inplace=False)\n",
      "  )\n",
      "  (output): Linear(in_features=100, out_features=1, bias=True)\n",
      ")\n",
      "\n",
      "[iteration 0001] loss: 663.8571\n",
      "[iteration 0101] loss: 110.0864\n",
      "[iteration 0201] loss: 106.8697\n",
      "[iteration 0301] loss: 108.9873\n",
      "[iteration 0401] loss: 105.8040\n",
      "[iteration 0501] loss: 109.4672\n",
      "[iteration 0601] loss: 105.3475\n",
      "[iteration 0701] loss: 103.0418\n",
      "[iteration 0801] loss: 104.6116\n",
      "[iteration 0901] loss: 111.8227\n",
      "[iteration 1001] loss: 106.7662\n",
      "[iteration 1101] loss: 112.9729\n",
      "[iteration 1201] loss: 102.9591\n",
      "[iteration 1301] loss: 109.3978\n",
      "[iteration 1401] loss: 106.9318\n",
      "[iteration 1501] loss: 110.9589\n",
      "[iteration 1601] loss: 106.5123\n",
      "[iteration 1701] loss: 110.3010\n",
      "[iteration 1801] loss: 112.1101\n",
      "[iteration 1901] loss: 110.3627\n",
      "[iteration 2001] loss: 108.2215\n",
      "[iteration 2101] loss: 106.3963\n",
      "[iteration 2201] loss: 106.6011\n",
      "[iteration 2301] loss: 104.4946\n",
      "[iteration 2401] loss: 108.0746\n",
      "[iteration 2501] loss: 111.7648\n",
      "[iteration 2601] loss: 110.9678\n",
      "[iteration 2701] loss: 104.4641\n",
      "[iteration 2801] loss: 106.1685\n",
      "[iteration 2901] loss: 111.3660\n",
      "[iteration 3001] loss: 104.9288\n",
      "[iteration 3101] loss: 108.0415\n",
      "[iteration 3201] loss: 106.3372\n",
      "[iteration 3301] loss: 109.1933\n",
      "[iteration 3401] loss: 106.9005\n",
      "[iteration 3501] loss: 105.9626\n",
      "[iteration 3601] loss: 109.0313\n",
      "[iteration 3701] loss: 106.2199\n",
      "[iteration 3801] loss: 108.3335\n",
      "[iteration 3901] loss: 106.1111\n",
      "final loss = tensor(109.8950, grad_fn=<MseLossBackward>)\n",
      "training time = 237.92072224617004 seconds\n",
      "\n",
      "Now running variational_inference\n",
      "FCNetPyro(\n",
      "  (input): Sequential(\n",
      "    (0): Linear(in_features=1, out_features=100, bias=True)\n",
      "    (1): Identity()\n",
      "  )\n",
      "  (output): Linear(in_features=100, out_features=1, bias=True)\n",
      ")\n",
      "\n",
      "[iteration 0001] loss: nan\n"
     ]
    },
    {
     "name": "stderr",
     "output_type": "stream",
     "text": [
      "/Users/se9/python/00_default/lib/python3.6/site-packages/pyro/infer/trace_elbo.py:135: UserWarning: Encountered NaN: loss\n",
      "  warn_if_nan(loss, \"loss\")\n"
     ]
    },
    {
     "name": "stdout",
     "output_type": "stream",
     "text": [
      "[iteration 0101] loss: nan\n",
      "[iteration 0201] loss: nan\n",
      "[iteration 0301] loss: nan\n",
      "[iteration 0401] loss: nan\n",
      "[iteration 0501] loss: nan\n",
      "[iteration 0601] loss: nan\n",
      "[iteration 0701] loss: nan\n",
      "[iteration 0801] loss: nan\n",
      "[iteration 0901] loss: nan\n",
      "[iteration 1001] loss: nan\n",
      "[iteration 1101] loss: nan\n",
      "[iteration 1201] loss: nan\n",
      "[iteration 1301] loss: nan\n",
      "[iteration 1401] loss: nan\n",
      "[iteration 1501] loss: nan\n",
      "[iteration 1601] loss: nan\n",
      "[iteration 1701] loss: nan\n",
      "[iteration 1801] loss: nan\n",
      "[iteration 1901] loss: nan\n",
      "[iteration 2001] loss: nan\n",
      "[iteration 2101] loss: nan\n",
      "[iteration 2201] loss: nan\n",
      "[iteration 2301] loss: nan\n",
      "[iteration 2401] loss: nan\n",
      "[iteration 2501] loss: nan\n",
      "[iteration 2601] loss: nan\n",
      "[iteration 2701] loss: nan\n",
      "[iteration 2801] loss: nan\n",
      "[iteration 2901] loss: nan\n",
      "[iteration 3001] loss: nan\n",
      "[iteration 3101] loss: nan\n",
      "[iteration 3201] loss: nan\n",
      "[iteration 3301] loss: nan\n",
      "[iteration 3401] loss: nan\n",
      "[iteration 3501] loss: nan\n",
      "[iteration 3601] loss: nan\n",
      "[iteration 3701] loss: nan\n",
      "[iteration 3801] loss: nan\n",
      "[iteration 3901] loss: nan\n",
      "final loss = nan\n",
      "training time = 320.98158383369446 seconds\n",
      "\n"
     ]
    }
   ],
   "source": [
    "from pyro.infer import EmpiricalMarginal, SVI, Trace_ELBO, NUTS, MCMC\n",
    "\n",
    "for key, network in uncertainty_methods.items():\n",
    "    \n",
    "    # Reset the random number generator for each method (to produce identical results)\n",
    "    torch.manual_seed(random_seed)\n",
    "    np.random.seed(random_seed)\n",
    "    pyro.set_rng_seed(random_seed)\n",
    "    \n",
    "    # Print the method name\n",
    "    print(\"Now running \" + str(key))\n",
    "    \n",
    "    # Send the whole model to the selected torch.device\n",
    "    network.to(torch_device)\n",
    "\n",
    "    # Print the network structure\n",
    "    print(network)\n",
    "    print()\n",
    "\n",
    "    train_loader = DataLoader(dataset, batch_size=len(dataset))\n",
    "    \n",
    "    # Optimizer setup\n",
    "    if isinstance(network, models.FCNetMCDropout):\n",
    "        # Adam optimizer\n",
    "        # https://pytorch.org/docs/stable/optim.html?highlight=adam#torch.optim.Adam\n",
    "        # NOTE: Need to set L2 regularization from here\n",
    "        optimizer = torch.optim.Adam(\n",
    "            network.parameters(),\n",
    "            lr=0.1,\n",
    "            weight_decay=reg_strength, # L2 regularization\n",
    "        )\n",
    "\n",
    "        # Mean Squared Error for loss function to minimize\n",
    "        objective = torch.nn.MSELoss()\n",
    "\n",
    "    elif isinstance(network, models.FCNetPyro):\n",
    "        if key == 'variational_inference':\n",
    "            optimizer = pyro.optim.Adam({\"lr\": 0.01})\n",
    "            svi = SVI(network.model, network.guide, optimizer, loss=Trace_ELBO(), num_samples=1000)\n",
    "        elif key == 'hmc':\n",
    "            nuts_kernel = NUTS(network.model)\n",
    "            mcmc = MCMC(nuts_kernel, num_samples=2000, warmup_steps=1000)\n",
    "            \n",
    "        pyro.clear_param_store()\n",
    "    \n",
    "    \"\"\"\n",
    "    Training\n",
    "    \"\"\"\n",
    "    # Model to train mode\n",
    "    network.train()\n",
    "\n",
    "    # Record training start time (for this method)\n",
    "    tic = time.time()\n",
    "    \n",
    "    if key == 'hmc':\n",
    "        dataset.data_x.to(torch_device)\n",
    "        dataset.data_y.to(torch_device)\n",
    "        mcmc.run(dataset.data_x, dataset.data_y)\n",
    "    else:\n",
    "        for epoch in range(n_epochs): # loop over the dataset multiple times\n",
    "\n",
    "            for i, data in enumerate(train_loader):\n",
    "                # get the inputs; data is a list of [inputs, labels]\n",
    "                inputs, targets = data\n",
    "\n",
    "                # Store the batch to torch_device's memory\n",
    "                inputs = inputs.to(torch_device)\n",
    "                targets = targets.to(torch_device)\n",
    "\n",
    "                if isinstance(network, models.FCNetMCDropout):\n",
    "                    # zero the parameter gradients\n",
    "                    optimizer.zero_grad()\n",
    "\n",
    "                    # forward + backward + optimize\n",
    "                    outputs = network(inputs)\n",
    "\n",
    "                    if loss_function_type in ('test_ll_mc', 'rmse_mc'):\n",
    "                        _, _, _, metrics = network.predict_dist(\n",
    "                            inputs, n_predictions, y_test=targets, reg_strength=reg_strength)\n",
    "\n",
    "                        if loss_function_type == 'test_ll_mc':\n",
    "                            total_loss = -(metrics[loss_function_type])\n",
    "                    \n",
    "                    else:\n",
    "                        total_loss = objective(outputs, targets)\n",
    "\n",
    "                    total_loss.backward()\n",
    "\n",
    "                    optimizer.step()\n",
    "\n",
    "                elif isinstance(network, models.FCNetPyro):\n",
    "                    pyro.clear_param_store()\n",
    "                    # calculate the loss and take a gradient step\n",
    "                    total_loss = svi.step(inputs, targets)\n",
    "\n",
    "            if epoch % 100 == 0:\n",
    "                print(\"[iteration %04d] loss: %.4f\" % (epoch + 1, total_loss))\n",
    "            \n",
    "    # Record training end time\n",
    "    toc = time.time()\n",
    "\n",
    "    # Report the final loss\n",
    "    print(\"final loss = \" + str(total_loss))            \n",
    "\n",
    "    # Report the total training time\n",
    "    print(\"training time = \" + str(toc - tic) + \" seconds\")\n",
    "    \n",
    "    print()"
   ]
  },
  {
   "cell_type": "code",
   "execution_count": 9,
   "metadata": {
    "scrolled": false
   },
   "outputs": [
    {
     "name": "stdout",
     "output_type": "stream",
     "text": [
      "testing time = 5.773814916610718 seconds\n",
      "\n",
      "Mean = tensor([-51.2356, -49.5858, -47.9751, -46.5740, -44.7541, -43.2335, -41.6221,\n",
      "        -40.1460, -38.5072, -36.8562, -35.3062, -33.7906, -32.1445, -30.5315,\n",
      "        -28.9578, -27.3476, -25.7710, -24.1599, -22.5617, -21.0460, -19.3775,\n",
      "        -17.8427, -16.2452, -14.6266, -13.0343, -11.4564,  -9.8840,  -8.3741,\n",
      "         -6.9520,  -5.6246,  -4.3790,  -3.3221,  -2.4164,  -1.6466,  -1.0393,\n",
      "         -0.5640,  -0.1383,   0.1520,   0.3148,   0.3234,   0.3234,   0.3234,\n",
      "          0.3234,   0.3234,   0.3234,   0.3234,   0.3234,   0.3234,   0.3234,\n",
      "          0.3234,   0.3234,   0.3379,   0.3620,   0.3857,   0.4106,   0.4350,\n",
      "          0.4558,   0.4841,   0.5601,   0.6552,   0.7940,   0.9298,   1.1162,\n",
      "          1.3509,   1.6640,   2.0520,   2.5974,   3.2225,   3.9024,   4.7169,\n",
      "          5.6619,   6.7460,   7.9783,   9.3609,  10.7481,  12.1481,  13.6328,\n",
      "         15.1476,  16.5890,  18.1495,  19.7629,  21.2230,  22.7882,  24.3119,\n",
      "         25.8733,  27.4594,  28.9367,  30.5624,  32.0270,  33.6523,  35.1719,\n",
      "         36.6981,  38.3213,  39.8092,  41.2852,  42.8176,  44.4594,  46.0201,\n",
      "         47.5245,  49.1127], grad_fn=<ViewBackward>)\n",
      "Variance = tensor([6.3378e+01, 6.0816e+01, 5.7872e+01, 5.4128e+01, 4.8782e+01, 4.6142e+01,\n",
      "        4.3505e+01, 3.9554e+01, 3.6971e+01, 3.4256e+01, 3.1400e+01, 2.8385e+01,\n",
      "        2.5381e+01, 2.3684e+01, 2.2127e+01, 1.9161e+01, 1.7333e+01, 1.5522e+01,\n",
      "        1.3772e+01, 1.1791e+01, 1.0265e+01, 8.9404e+00, 7.4498e+00, 6.3367e+00,\n",
      "        5.1895e+00, 4.3440e+00, 3.4673e+00, 2.7018e+00, 2.0466e+00, 1.5294e+00,\n",
      "        1.1219e+00, 7.7334e-01, 5.1357e-01, 3.1113e-01, 1.7820e-01, 8.5000e-02,\n",
      "        3.0826e-02, 6.0605e-03, 3.7366e-05, 0.0000e+00, 0.0000e+00, 0.0000e+00,\n",
      "        0.0000e+00, 0.0000e+00, 0.0000e+00, 0.0000e+00, 0.0000e+00, 0.0000e+00,\n",
      "        0.0000e+00, 0.0000e+00, 0.0000e+00, 2.1099e-04, 1.5069e-03, 3.9827e-03,\n",
      "        7.6401e-03, 1.2477e-02, 1.8482e-02, 2.5693e-02, 3.5003e-02, 4.8498e-02,\n",
      "        6.7951e-02, 9.4750e-02, 1.2868e-01, 1.7387e-01, 2.3485e-01, 3.1658e-01,\n",
      "        4.2123e-01, 5.7135e-01, 7.5898e-01, 9.5996e-01, 1.2577e+00, 1.6204e+00,\n",
      "        1.9935e+00, 2.5364e+00, 3.0885e+00, 3.8007e+00, 4.6008e+00, 5.3703e+00,\n",
      "        6.3557e+00, 7.4143e+00, 8.4530e+00, 9.8864e+00, 1.1216e+01, 1.2532e+01,\n",
      "        1.4066e+01, 1.5606e+01, 1.7702e+01, 1.9260e+01, 2.1127e+01, 2.3145e+01,\n",
      "        2.6031e+01, 2.7580e+01, 3.0538e+01, 3.2080e+01, 3.4459e+01, 3.8375e+01,\n",
      "        3.9443e+01, 4.3788e+01, 4.6080e+01, 4.8416e+01],\n",
      "       grad_fn=<ViewBackward>)\n"
     ]
    },
    {
     "data": {
      "image/png": "[encoded data removed]",
      "text/plain": [
       "<Figure size 432x288 with 1 Axes>"
      ]
     },
     "metadata": {
      "needs_background": "light"
     },
     "output_type": "display_data"
    },
    {
     "name": "stdout",
     "output_type": "stream",
     "text": [
      "testing time = 19.840760707855225 seconds\n",
      "\n",
      "Mean = tensor([-4.1745, -4.1519, -4.1292, -4.1066, -4.0840, -4.0613, -4.0387, -4.0161,\n",
      "        -3.9934, -3.9708, -3.9482, -3.9255, -3.9029, -3.8803, -3.8576, -3.8350,\n",
      "        -3.8212, -3.8218, -3.8224, -3.8265, -3.8571, -3.8896, -3.9220, -3.9544,\n",
      "        -3.9819, -4.0063, -4.0099, -3.9112, -3.8124, -3.7197, -3.6268, -3.5196,\n",
      "        -3.4147, -3.3025, -3.1926, -3.0709, -2.9064, -2.7607, -2.6457, -2.5842,\n",
      "        -2.5214, -2.4257, -2.3397, -2.3121, -2.3016, -2.2915, -2.3190, -2.3697,\n",
      "        -2.4096, -2.4949, -2.5517, -2.5818, -2.6609, -2.6921, -2.6412, -2.5312,\n",
      "        -2.3632, -2.1897, -2.0175, -1.9184, -2.0199, -2.1216, -2.1211, -2.1502,\n",
      "        -2.1563, -2.1585, -2.0812, -2.0243, -1.9861, -1.9480, -1.9098, -1.8717,\n",
      "        -1.8336, -1.7954, -1.7573, -1.6950, -1.6212, -1.5399, -1.4539, -1.3665,\n",
      "        -1.2792, -1.1918, -1.1103, -1.0518, -0.9933, -0.9348, -0.8875, -0.9151,\n",
      "        -0.9618, -1.0084, -1.0551, -1.1018, -1.1484, -1.1951, -1.2417, -1.2884,\n",
      "        -1.3350, -1.3817, -1.4284, -1.4750])\n",
      "Variance = tensor([232.1263, 224.2334, 216.4951, 208.9115, 201.4825, 194.2083, 187.0886,\n",
      "        180.1236, 173.3133, 166.6576, 160.1565, 153.8102, 147.6184, 141.5813,\n",
      "        135.6989, 129.9711, 124.3986, 118.9816, 113.7192, 108.6102, 103.6528,\n",
      "         98.8513,  94.2056,  89.7157,  85.3826,  81.2058,  77.1807,  73.2822,\n",
      "         69.5237,  65.8994,  62.3960,  59.0307,  55.8058,  52.7175,  49.7702,\n",
      "         46.9688,  44.2850,  41.7484,  39.3558,  37.0942,  34.9710,  32.9885,\n",
      "         31.1363,  29.4207,  27.8471,  26.4153,  25.1253,  23.9745,  22.9569,\n",
      "         22.0923,  21.3997,  20.8841,  20.5475,  20.3971,  20.4267,  20.6299,\n",
      "         21.0062,  21.5589,  22.2879,  23.1986,  24.2900,  25.5691,  27.0021,\n",
      "         28.5637,  30.2575,  32.0947,  34.0782,  36.2129,  38.4964,  40.9295,\n",
      "         43.5120,  46.2441,  49.1257,  52.1569,  55.3376,  58.6628,  62.1361,\n",
      "         65.7580,  69.5336,  73.4654,  77.5529,  81.7962,  86.1953,  90.7499,\n",
      "         95.4603, 100.3264, 105.3476, 110.5195, 115.8432, 121.3195, 126.9483,\n",
      "        132.7295, 138.6634, 144.7498, 150.9886, 157.3801, 163.9240, 170.6205,\n",
      "        177.4695, 184.4710])\n"
     ]
    },
    {
     "data": {
      "image/png": "[encoded data removed]",
      "text/plain": [
       "<Figure size 432x288 with 1 Axes>"
      ]
     },
     "metadata": {
      "needs_background": "light"
     },
     "output_type": "display_data"
    }
   ],
   "source": [
    "for key, network in uncertainty_methods.items():\n",
    "\n",
    "    \"\"\"\n",
    "    Testing\n",
    "    \"\"\"\n",
    "\n",
    "    # Model to eval mode\n",
    "    network.eval()\n",
    "\n",
    "    # Record testing start time (for this split)\n",
    "    tic_testing = time.time()    \n",
    "    \n",
    "    predictions, mean, var, metrics = network.predict_dist(X_test, 10000)\n",
    "    \n",
    "    # Record testing end time\n",
    "    toc_testing = time.time()\n",
    "    \n",
    "    # Report the total testing time\n",
    "    print(\"testing time = \" + str(toc_testing - tic_testing) + \" seconds\")\n",
    "    \n",
    "    \"\"\"\n",
    "    Print results\n",
    "    \"\"\"\n",
    "    print()\n",
    "    print(\"Mean = \" + str(mean.flatten()))\n",
    "    print(\"Variance = \" + str(var.flatten()))\n",
    "    \n",
    "    # store additional metrics\n",
    "    if len(metrics) > 0:\n",
    "        for key, value in metrics.items():\n",
    "            print(str(key) + \" = \" + str(value))\n",
    "        print()\n",
    "             \n",
    "    # Plot the uncertainty measured by each methods\n",
    "    plt.figure()\n",
    "    \n",
    "    # Fix the scales of x-axis and y-axis\n",
    "    plt.xlim(dataset_toy_x_low, dataset_toy_x_high)\n",
    "    plt.ylim(dataset_toy_y_mean-2*dataset_toy_y_std, dataset_toy_y_mean+2*dataset_toy_y_std)\n",
    "\n",
    "    # Distributions around the predictions\n",
    "    plt.fill_between(X_test.flatten(), (mean.detach().numpy() - 2*torch.sqrt(var).detach().numpy()).flatten(), (mean.detach().numpy() + 2*torch.sqrt(var).detach().numpy()).flatten(),\n",
    "                     color='lightblue', alpha=0.8)\n",
    "\n",
    "    # Train data\n",
    "    plt.plot(dataset.data_x, dataset.data_y, 'or', label='Training data', alpha=0.4)\n",
    "\n",
    "    # MC prediction\n",
    "    plt.plot(X_test, mean.detach().numpy(), 'blue', label='mean predictions')\n",
    "    \n",
    "    # Original data generating function without noise\n",
    "    plt.plot(X_test, X_test ** 3, 'gray', label='data generating function')    \n",
    "    \n",
    "    plt.legend()\n",
    "    \n",
    "    plt.savefig(os.path.join(test_results_path, str(key) + '.png'))\n",
    "    \n",
    "    plt.show()"
   ]
  },
  {
   "cell_type": "code",
   "execution_count": null,
   "metadata": {},
   "outputs": [],
   "source": []
  }
 ],
 "metadata": {
  "accelerator": "GPU",
  "colab": {
   "collapsed_sections": [],
   "name": "experiments.ipynb",
   "provenance": []
  },
  "kernelspec": {
   "display_name": "Python 3",
   "language": "python",
   "name": "python3"
  },
  "language_info": {
   "codemirror_mode": {
    "name": "ipython",
    "version": 3
   },
   "file_extension": ".py",
   "mimetype": "text/x-python",
   "name": "python",
   "nbconvert_exporter": "python",
   "pygments_lexer": "ipython3",
   "version": "3.6.8"
  }
 },
 "nbformat": 4,
 "nbformat_minor": 1
}
