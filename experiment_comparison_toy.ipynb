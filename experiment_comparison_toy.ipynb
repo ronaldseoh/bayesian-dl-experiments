{
 "cells": [
  {
   "cell_type": "markdown",
   "metadata": {
    "colab_type": "text",
    "id": "Bka_bK83VFHh"
   },
   "source": [
    "## Experiment Setup"
   ]
  },
  {
   "cell_type": "markdown",
   "metadata": {
    "colab_type": "text",
    "id": "8D5NSPs_cJZe"
   },
   "source": [
    "###  Random seed / Colab / CUDA related"
   ]
  },
  {
   "cell_type": "code",
   "execution_count": 1,
   "metadata": {
    "colab": {
     "base_uri": "https://localhost:8080/",
     "height": 592
    },
    "colab_type": "code",
    "executionInfo": {
     "elapsed": 32214,
     "status": "ok",
     "timestamp": 1575021332527,
     "user": {
      "displayName": "Ronald Seoh",
      "photoUrl": "",
      "userId": "10284188050297676522"
     },
     "user_tz": 300
    },
    "id": "pHbfpytEVFHu",
    "outputId": "7913f72d-859c-477f-90b8-6c37e04f5759"
   },
   "outputs": [],
   "source": [
    "import time\n",
    "import datetime\n",
    "import os\n",
    "import sys\n",
    "import itertools\n",
    "\n",
    "# Use Google Colab\n",
    "use_colab = True\n",
    "\n",
    "# Is this notebook running on Colab?\n",
    "# If so, then google.colab package (github.com/googlecolab/colabtools)\n",
    "# should be available in this environment\n",
    "\n",
    "# Previous version used importlib, but we could do the same thing with\n",
    "# just attempting to import google.colab\n",
    "try:\n",
    "    from google.colab import drive\n",
    "    colab_available = True\n",
    "except:\n",
    "    colab_available = False\n",
    "\n",
    "if use_colab and colab_available:\n",
    "    drive.mount('/content/drive')\n",
    "    \n",
    "    # If there's a package I need to install separately, do it here\n",
    "    !pip install pyro-ppl\n",
    "\n",
    "    # cd to the appropriate working directory under my Google Drive\n",
    "    %cd 'drive/My Drive/Colab Notebooks/bayesian-dl-experiments'\n",
    "    \n",
    "    # List the directory contents\n",
    "    !ls\n",
    "\n",
    "# IPython reloading magic\n",
    "%load_ext autoreload\n",
    "%autoreload 2\n",
    "\n",
    "# Random seeds\n",
    "# Based on https://pytorch.org/docs/stable/notes/randomness.html\n",
    "random_seed = 682"
   ]
  },
  {
   "cell_type": "markdown",
   "metadata": {
    "colab_type": "text",
    "id": "L8udq6NnHSXW"
   },
   "source": [
    "### Third party libraries (NumPy, PyTorch, Pyro)"
   ]
  },
  {
   "cell_type": "code",
   "execution_count": 2,
   "metadata": {
    "colab": {
     "base_uri": "https://localhost:8080/",
     "height": 104
    },
    "colab_type": "code",
    "executionInfo": {
     "elapsed": 35929,
     "status": "ok",
     "timestamp": 1575021336266,
     "user": {
      "displayName": "Ronald Seoh",
      "photoUrl": "",
      "userId": "10284188050297676522"
     },
     "user_tz": 300
    },
    "id": "BOJA1nXgHSXa",
    "outputId": "e2c1368a-d446-42c6-b971-155962116ceb"
   },
   "outputs": [
    {
     "name": "stdout",
     "output_type": "stream",
     "text": [
      "Python Version: 3.8.0 (v3.8.0:fa919fdf25, Oct 14 2019, 10:23:27) \n",
      "[Clang 6.0 (clang-600.0.57)]\n",
      "NumPy Version: 1.17.4\n",
      "PyTorch Version: 1.4.0a0+328ec54\n",
      "Pyro Version: 1.0.0\n"
     ]
    }
   ],
   "source": [
    "# Third party libraries import\n",
    "import numpy as np\n",
    "import torch\n",
    "import pyro\n",
    "import matplotlib.pyplot as plt\n",
    "\n",
    "# Print version information\n",
    "print(\"Python Version: \" + sys.version)\n",
    "print(\"NumPy Version: \" + np.__version__)\n",
    "print(\"PyTorch Version: \" + torch.__version__)\n",
    "print(\"Pyro Version: \" + pyro.__version__)"
   ]
  },
  {
   "cell_type": "code",
   "execution_count": 3,
   "metadata": {
    "colab": {
     "base_uri": "https://localhost:8080/",
     "height": 86
    },
    "colab_type": "code",
    "executionInfo": {
     "elapsed": 44842,
     "status": "ok",
     "timestamp": 1575021345196,
     "user": {
      "displayName": "Ronald Seoh",
      "photoUrl": "",
      "userId": "10284188050297676522"
     },
     "user_tz": 300
    },
    "id": "BOIqWi_wHSXi",
    "outputId": "b658d6b3-5990-4d42-f71e-f8cbff718437"
   },
   "outputs": [],
   "source": [
    "# More imports...\n",
    "from torch import nn, optim\n",
    "from torch.utils.data import random_split, DataLoader, RandomSampler\n",
    "import torchvision\n",
    "import torchvision.transforms as transforms\n",
    "from pyro.infer import SVI, Trace_ELBO, HMC, MCMC\n",
    "\n",
    "# Import model and dataset classes from ronald_bdl\n",
    "from ronald_bdl import models, datasets\n",
    "from ronald_bdl.models import utils\n",
    "\n",
    "# pyplot setting\n",
    "%matplotlib inline\n",
    "\n",
    "# torch.device / CUDA Setup\n",
    "use_cuda = True\n",
    "\n",
    "if use_cuda and torch.cuda.is_available():\n",
    "    torch_device = torch.device('cuda')\n",
    "\n",
    "    torch.backends.cudnn.deterministic = True\n",
    "    # Disable 'benchmark' mode\n",
    "    # Note: https://discuss.pytorch.org/t/what-does-torch-backends-cudnn-benchmark-do/5936\n",
    "    torch.backends.cudnn.benchmark = False\n",
    "    use_pin_memory = True # Faster Host to GPU copies with page-locked memory\n",
    "\n",
    "    # CUDA libraries version information\n",
    "    print(\"CUDA Version: \" + str(torch.version.cuda))\n",
    "    print(\"cuDNN Version: \" + str(torch.backends.cudnn.version()))\n",
    "    print(\"CUDA Device Name: \" + str(torch.cuda.get_device_name()))\n",
    "    print(\"CUDA Capabilities: \"+ str(torch.cuda.get_device_capability()))\n",
    "else:\n",
    "    torch_device = torch.device('cpu')\n",
    "    use_pin_memory = False"
   ]
  },
  {
   "cell_type": "markdown",
   "metadata": {
    "colab_type": "text",
    "id": "XIFRoH3AcJZn"
   },
   "source": [
    "### Toy dataset settings"
   ]
  },
  {
   "cell_type": "code",
   "execution_count": 4,
   "metadata": {
    "colab": {},
    "colab_type": "code",
    "id": "g_pzGq1_cJZp"
   },
   "outputs": [],
   "source": [
    "\"\"\"\n",
    "Toy dataset generation based on the experiment from \n",
    "the Probabilstic Backpropagation paper (Hernandez-Lobato & Adams, 2015)\n",
    "\"\"\"\n",
    "\n",
    "# Random seed for toy dataset\n",
    "dataset_toy_random_seed = 691\n",
    "\n",
    "# Toy dataset size\n",
    "dataset_toy_size = 20\n",
    "\n",
    "# Toy dataset x distribution (uniform) parameters\n",
    "dataset_toy_x_low = -4\n",
    "dataset_toy_x_high = 4\n",
    "\n",
    "# Toy dataset y distribution (normal with noise)\n",
    "dataset_toy_y_mean = 0\n",
    "dataset_toy_y_std = 9"
   ]
  },
  {
   "cell_type": "markdown",
   "metadata": {
    "colab_type": "text",
    "id": "Kdi_LQ7sspvM"
   },
   "source": [
    "### MC dropout parameters"
   ]
  },
  {
   "cell_type": "code",
   "execution_count": 5,
   "metadata": {
    "colab": {},
    "colab_type": "code",
    "id": "0ys_GAWtHSX4"
   },
   "outputs": [
    {
     "name": "stdout",
     "output_type": "stream",
     "text": [
      "reg_strength = tensor(9.0000e-06)\n"
     ]
    }
   ],
   "source": [
    "\"\"\"\n",
    "MC Dropout related\n",
    "\"\"\"\n",
    "\n",
    "# Dropout rate\n",
    "dropout_rate = 0.1\n",
    "\n",
    "# Length scale\n",
    "length_scale = 1e-2\n",
    "\n",
    "# tau\n",
    "tau = 0.25\n",
    "\n",
    "# reg strength\n",
    "reg_strength = utils.reg_strength(dropout_rate, length_scale, dataset_toy_size, tau)\n",
    "\n",
    "print('reg_strength = ' + str(reg_strength))\n",
    "\n",
    "# Epochs\n",
    "n_epochs = 400\n",
    "\n",
    "# Optimizer learning rate\n",
    "learning_rate = 0.001\n",
    "\n",
    "# Loss function type\n",
    "loss_function_type = 'mse_loss'\n",
    "\n",
    "# Number of test predictions (for each data point)\n",
    "n_predictions = 1000"
   ]
  },
  {
   "cell_type": "markdown",
   "metadata": {
    "colab_type": "text",
    "id": "DNGDKiltsux3"
   },
   "source": [
    "### Directory path to save results"
   ]
  },
  {
   "cell_type": "code",
   "execution_count": 6,
   "metadata": {
    "colab": {},
    "colab_type": "code",
    "id": "9ysu9G0FHSX-"
   },
   "outputs": [],
   "source": [
    "# Test start time\n",
    "test_start_time = datetime.datetime.today().strftime('%Y%m%d%H%M')\n",
    "\n",
    "# Directory to store the results for this experiment\n",
    "test_results_path = os.path.join(\n",
    "    './test_results',\n",
    "    'comparison_toy',\n",
    "    (\n",
    "        test_start_time \n",
    "        + '_' + str(n_epochs) \n",
    "        + '_' + str(dropout_rate) \n",
    "        + '_' + str(length_scale)\n",
    "        + '_' + str(tau)\n",
    "        + '_' + str(loss_function_type) \n",
    "        + '_' + str(n_predictions))\n",
    ")\n",
    "\n",
    "# Create the directory if it doesn't exist\n",
    "os.makedirs(test_results_path, exist_ok=True)"
   ]
  },
  {
   "cell_type": "markdown",
   "metadata": {
    "colab_type": "text",
    "id": "sZwe_f-yVFIf"
   },
   "source": [
    "## Prepare data"
   ]
  },
  {
   "cell_type": "markdown",
   "metadata": {
    "colab_type": "text",
    "id": "eEfdrHcOVFIj"
   },
   "source": [
    "### Get the data as a torch Dataset object"
   ]
  },
  {
   "cell_type": "code",
   "execution_count": 7,
   "metadata": {
    "colab": {
     "base_uri": "https://localhost:8080/",
     "height": 34
    },
    "colab_type": "code",
    "executionInfo": {
     "elapsed": 51278,
     "status": "ok",
     "timestamp": 1575021351670,
     "user": {
      "displayName": "Ronald Seoh",
      "photoUrl": "",
      "userId": "10284188050297676522"
     },
     "user_tz": 300
    },
    "id": "5u5qU-9JVFIr",
    "outputId": "480ccb60-6d74-46ec-dc61-e7689ebdb300"
   },
   "outputs": [
    {
     "name": "stdout",
     "output_type": "stream",
     "text": [
      "dataset size = (20, 1)\n"
     ]
    }
   ],
   "source": [
    "dataset = datasets.ToyDatasets(\n",
    "    random_seed=dataset_toy_random_seed,\n",
    "    n_samples=dataset_toy_size,\n",
    "    x_low=dataset_toy_x_low,\n",
    "    x_high=dataset_toy_x_high,\n",
    "    y_mean=dataset_toy_y_mean,\n",
    "    y_std=dataset_toy_y_std,\n",
    ")\n",
    "\n",
    "# Get the test data\n",
    "X_test = torch.linspace(dataset_toy_x_low-5, dataset_toy_x_high+5, 100).reshape(100, 1)\n",
    "\n",
    "y_test = torch.pow(X_test, 3)\n",
    "\n",
    "# Send it to the memory of the device to be used for training\n",
    "X_test = X_test.to(torch_device)\n",
    "\n",
    "y_test = y_test.to(torch_device)\n",
    "\n",
    "# Save a copy at CPU for plotting\n",
    "X_test_cpu = X_test.cpu()\n",
    "\n",
    "# Print the size of the training set\n",
    "print(\"dataset size = \" + str((len(dataset), dataset.n_features)))"
   ]
  },
  {
   "cell_type": "markdown",
   "metadata": {
    "colab_type": "text",
    "id": "LaasFWpqVFJ1"
   },
   "source": [
    "## Declare models"
   ]
  },
  {
   "cell_type": "code",
   "execution_count": 8,
   "metadata": {
    "colab": {},
    "colab_type": "code",
    "id": "gAqkGtg7VFJ9"
   },
   "outputs": [],
   "source": [
    "uncertainty_methods = {}\n",
    "\n",
    "# MC (Bernoulli) dropout\n",
    "do_mc_dropout = True\n",
    "\n",
    "if do_mc_dropout:\n",
    "    uncertainty_methods['mc_dropout_relu'] = models.FCNet(\n",
    "        input_dim=dataset.n_features, \n",
    "        output_dim=dataset.n_targets,\n",
    "        hidden_dim=100,\n",
    "        n_hidden=0,\n",
    "        dropout_rate=dropout_rate,\n",
    "        dropout_type='bernoulli',\n",
    "    )\n",
    "    \n",
    "    uncertainty_methods['mc_dropout_tanh'] = models.FCNet(\n",
    "        input_dim=dataset.n_features, \n",
    "        output_dim=dataset.n_targets,\n",
    "        hidden_dim=100,\n",
    "        n_hidden=0,\n",
    "        dropout_rate=dropout_rate,\n",
    "        dropout_type='bernoulli',\n",
    "        nonlinear_type='tanh',\n",
    "    )\n",
    "    \n",
    "    uncertainty_methods['mc_dropout_sigmoid'] = models.FCNet(\n",
    "        input_dim=dataset.n_features, \n",
    "        output_dim=dataset.n_targets,\n",
    "        hidden_dim=100,\n",
    "        n_hidden=0,\n",
    "        dropout_rate=dropout_rate,\n",
    "        dropout_type='bernoulli',\n",
    "        nonlinear_type='sigmoid',\n",
    "    )\n",
    "\n",
    "# Vanilla Variational Inference\n",
    "do_vi = False\n",
    "\n",
    "if do_vi:\n",
    "    uncertainty_methods['vi'] = models.FCNetPyro(\n",
    "        input_dim=dataset.n_features, \n",
    "        output_dim=dataset.n_targets,\n",
    "        hidden_dim=100,\n",
    "        n_hidden=0,\n",
    "        torch_device=torch_device,\n",
    "    )\n",
    "\n",
    "# HMC\n",
    "do_hmc = False\n",
    "\n",
    "if do_hmc:\n",
    "    uncertainty_methods['hmc'] = models.FCNetPyro(\n",
    "        input_dim=dataset.n_features, \n",
    "        output_dim=dataset.n_targets,\n",
    "        hidden_dim=100,\n",
    "        n_hidden=0,\n",
    "        torch_device=torch_device,\n",
    "    )"
   ]
  },
  {
   "cell_type": "markdown",
   "metadata": {
    "colab_type": "text",
    "id": "1PpzPMI8VFKE"
   },
   "source": [
    "## Train the models"
   ]
  },
  {
   "cell_type": "markdown",
   "metadata": {
    "colab_type": "text",
    "id": "Jc7Td1h1VFKb"
   },
   "source": [
    "### Train/test the model"
   ]
  },
  {
   "cell_type": "code",
   "execution_count": 9,
   "metadata": {
    "colab": {
     "base_uri": "https://localhost:8080/",
     "height": 903
    },
    "colab_type": "code",
    "executionInfo": {
     "elapsed": 1213641,
     "status": "ok",
     "timestamp": 1575022514055,
     "user": {
      "displayName": "Ronald Seoh",
      "photoUrl": "",
      "userId": "10284188050297676522"
     },
     "user_tz": 300
    },
    "id": "m4kavCiTVFKf",
    "outputId": "6731cdaf-71b9-4709-fd78-45fb2b335a05",
    "scrolled": false
   },
   "outputs": [
    {
     "name": "stdout",
     "output_type": "stream",
     "text": [
      "Now running mc_dropout_relu\n",
      "FCNet(\n",
      "  (input): ModuleDict(\n",
      "    (dropout): Dropout(p=0.1, inplace=False)\n",
      "    (linear): Linear(in_features=1, out_features=100, bias=True)\n",
      "    (nonlinear): ReLU()\n",
      "  )\n",
      "  (output): ModuleDict(\n",
      "    (dropout): Dropout(p=0.1, inplace=False)\n",
      "    (linear): Linear(in_features=100, out_features=1, bias=True)\n",
      "  )\n",
      ")\n",
      "\n",
      "[iteration 0001] loss: 565.0865\n",
      "[iteration 0101] loss: 351.0674\n",
      "[iteration 0201] loss: 244.6162\n",
      "[iteration 0301] loss: 168.8836\n",
      "final loss = tensor(191.0298, grad_fn=<MseLossBackward>)\n",
      "training time = 1.5266938209533691 seconds\n",
      "\n",
      "Now running mc_dropout_tanh\n",
      "FCNet(\n",
      "  (input): ModuleDict(\n",
      "    (dropout): Dropout(p=0.1, inplace=False)\n",
      "    (linear): Linear(in_features=1, out_features=100, bias=True)\n",
      "    (nonlinear): Tanh()\n",
      "  )\n",
      "  (output): ModuleDict(\n",
      "    (dropout): Dropout(p=0.1, inplace=False)\n",
      "    (linear): Linear(in_features=100, out_features=1, bias=True)\n",
      "  )\n",
      ")\n",
      "\n",
      "[iteration 0001] loss: 588.6322\n",
      "[iteration 0101] loss: 411.6652\n",
      "[iteration 0201] loss: 318.1104\n",
      "[iteration 0301] loss: 234.9646\n",
      "final loss = tensor(227.8094, grad_fn=<MseLossBackward>)\n",
      "training time = 1.2708921432495117 seconds\n",
      "\n",
      "Now running mc_dropout_sigmoid\n",
      "FCNet(\n",
      "  (input): ModuleDict(\n",
      "    (dropout): Dropout(p=0.1, inplace=False)\n",
      "    (linear): Linear(in_features=1, out_features=100, bias=True)\n",
      "    (nonlinear): Sigmoid()\n",
      "  )\n",
      "  (output): ModuleDict(\n",
      "    (dropout): Dropout(p=0.1, inplace=False)\n",
      "    (linear): Linear(in_features=100, out_features=1, bias=True)\n",
      "  )\n",
      ")\n",
      "\n",
      "[iteration 0001] loss: 590.9422\n",
      "[iteration 0101] loss: 504.5165\n",
      "[iteration 0201] loss: 426.0389\n",
      "[iteration 0301] loss: 329.3786\n",
      "final loss = tensor(291.7438, grad_fn=<MseLossBackward>)\n",
      "training time = 1.2814059257507324 seconds\n",
      "\n"
     ]
    }
   ],
   "source": [
    "for key, network in uncertainty_methods.items():\n",
    "    # Reset the random number generator for each method (to produce identical results)\n",
    "    torch.manual_seed(random_seed)\n",
    "    np.random.seed(random_seed)\n",
    "    pyro.set_rng_seed(random_seed)\n",
    "    \n",
    "    # Print the method name\n",
    "    print(\"Now running \" + str(key))\n",
    "    \n",
    "    # Send the whole model to the selected torch.device\n",
    "    network.to(torch_device)\n",
    "\n",
    "    # Print the network structure\n",
    "    print(network)\n",
    "    print()\n",
    "\n",
    "    # Initialize training data loader\n",
    "    train_loader = DataLoader(dataset, batch_size=128)\n",
    "    \n",
    "    \"\"\"\n",
    "    Optimizer Setup\n",
    "    \"\"\"\n",
    "\n",
    "    if isinstance(network, models.FCNet):\n",
    "        # Adam optimizer\n",
    "        # https://pytorch.org/docs/stable/optim.html?highlight=adam#torch.optim.Adam\n",
    "        # NOTE: Need to set L2 regularization from here\n",
    "        optimizer = torch.optim.Adam(\n",
    "            network.parameters(),\n",
    "            lr=learning_rate,\n",
    "            weight_decay=reg_strength, # L2 regularization\n",
    "        )\n",
    "\n",
    "        # Mean Squared Error for loss function to minimize\n",
    "        objective = torch.nn.MSELoss()\n",
    "\n",
    "    elif isinstance(network, models.FCNetPyro):\n",
    "        # Clear everything in Pyro parameter storage\n",
    "        # Looks like this parameter store would be globally shared across\n",
    "        # models in the same Python instance.\n",
    "        pyro.clear_param_store()\n",
    "\n",
    "        # Force all the PyTorch tensors to be CUDA tensors if available\n",
    "        if use_cuda and torch.cuda.is_available():\n",
    "            torch.set_default_tensor_type(torch.cuda.FloatTensor)\n",
    "\n",
    "        # Different optimizers for VI and HMC\n",
    "        if key == 'vi':\n",
    "            optimizer = pyro.optim.Adam({\"lr\": 0.01})\n",
    "            svi = SVI(network, network.guide, optimizer, loss=Trace_ELBO())\n",
    "        elif key == 'hmc':\n",
    "            kernel = HMC(network)\n",
    "            mcmc = MCMC(kernel, num_samples=10000)\n",
    "\n",
    "    \"\"\"\n",
    "    Training\n",
    "    \"\"\"\n",
    "\n",
    "    # Model to train mode\n",
    "    network.train()\n",
    "\n",
    "    # Record training start time (for this method)\n",
    "    tic = time.time()\n",
    "    \n",
    "    if key == 'hmc':\n",
    "        # to() actually returns new Tensor; need to replace with that return\n",
    "        dataset.data_x = dataset.data_x.to(torch_device)\n",
    "\n",
    "        dataset.data_y = dataset.data_y.to(torch_device)\n",
    "\n",
    "        mcmc.run(dataset.data_x, dataset.data_y)\n",
    "    else:\n",
    "        for epoch in range(n_epochs): # loop over the dataset multiple times\n",
    "\n",
    "            for i, data in enumerate(train_loader):\n",
    "                # get the inputs; data is a list of [inputs, labels]\n",
    "                inputs, targets = data\n",
    "\n",
    "                # Store the batch to torch_device's memory\n",
    "                # to() actually returns new Tensor; need to replace with that return\n",
    "                inputs = inputs.to(torch_device)\n",
    "                targets = targets.to(torch_device)\n",
    "\n",
    "                if isinstance(network, models.FCNet):\n",
    "                    # zero the parameter gradients\n",
    "                    optimizer.zero_grad()\n",
    "\n",
    "                    # forward + backward + optimize\n",
    "                    outputs = network(inputs)\n",
    "\n",
    "                    total_loss = objective(outputs, targets)\n",
    "\n",
    "                    total_loss.backward()\n",
    "\n",
    "                    optimizer.step()\n",
    "\n",
    "                elif isinstance(network, models.FCNetPyro):\n",
    "                    pyro.clear_param_store()\n",
    "                    # calculate the loss and take a gradient step\n",
    "                    total_loss = svi.step(inputs, targets)\n",
    "\n",
    "            if epoch % 100 == 0:\n",
    "                print(\"[iteration %04d] loss: %.4f\" % (epoch + 1, total_loss))\n",
    "            \n",
    "    # Record training end time\n",
    "    toc = time.time()\n",
    "\n",
    "    # Report the final loss\n",
    "    print(\"final loss = \" + str(total_loss))            \n",
    "\n",
    "    # Report the total training time\n",
    "    print(\"training time = \" + str(toc - tic) + \" seconds\")\n",
    "    \n",
    "    print()"
   ]
  },
  {
   "cell_type": "markdown",
   "metadata": {
    "colab_type": "text",
    "id": "xrknIU5UWv-v"
   },
   "source": [
    "## Plot the results"
   ]
  },
  {
   "cell_type": "code",
   "execution_count": 10,
   "metadata": {
    "colab": {
     "base_uri": "https://localhost:8080/",
     "height": 1000
    },
    "colab_type": "code",
    "executionInfo": {
     "elapsed": 20586,
     "status": "ok",
     "timestamp": 1575024185652,
     "user": {
      "displayName": "Ronald Seoh",
      "photoUrl": "",
      "userId": "10284188050297676522"
     },
     "user_tz": 300
    },
    "id": "ymmG2nxTHSYq",
    "outputId": "bad750f8-6180-4e17-8cfc-21b92fe8c524",
    "scrolled": false
   },
   "outputs": [
    {
     "name": "stderr",
     "output_type": "stream",
     "text": [
      "/Users/se9/Documents/git/bayesian-dl-experiments/ronald_bdl/models/fcnet.py:182: UserWarning: To copy construct from a tensor, it is recommended to use sourceTensor.clone().detach() or sourceTensor.clone().detach().requires_grad_(True), rather than torch.tensor(sourceTensor).\n",
      "  reg_strength = torch.tensor(\n",
      "/Users/se9/Documents/git/bayesian-dl-experiments/ronald_bdl/models/fcnet.py:198: UserWarning: To copy construct from a tensor, it is recommended to use sourceTensor.clone().detach() or sourceTensor.clone().detach().requires_grad_(True), rather than torch.tensor(sourceTensor).\n",
      "  tau = torch.tensor(\n"
     ]
    },
    {
     "name": "stdout",
     "output_type": "stream",
     "text": [
      "testing time = 0.5060639381408691 seconds\n",
      "\n",
      "Mean = tensor([-63.6620, -63.4631, -59.5067, -59.5910, -59.4108, -57.0985, -56.0169,\n",
      "        -54.6594, -52.6764, -52.6779, -49.7709, -49.6637, -48.5998, -47.9490,\n",
      "        -47.7857, -44.3594, -43.9736, -42.7731, -41.5203, -40.0172, -38.9487,\n",
      "        -37.8885, -35.6980, -35.0081, -33.2706, -32.1586, -31.0053, -30.1104,\n",
      "        -28.8503, -27.0577, -25.9164, -24.5119, -23.2865, -22.2530, -20.9244,\n",
      "        -19.3088, -17.7456, -16.9369, -15.2629, -14.0485, -12.7313, -11.1138,\n",
      "        -10.0544,  -8.4446,  -7.1042,  -5.5543,  -4.0472,  -2.3946,  -0.7561,\n",
      "          0.7560,   2.2816,   3.7880,   5.3088,   6.6260,   7.9596,   9.0752,\n",
      "         10.3141,  11.5274,  12.9049,  14.0644,  15.3274,  16.5796,  17.8264,\n",
      "         19.1518,  20.6238,  21.9669,  23.3553,  24.4891,  25.5957,  27.1136,\n",
      "         28.4772,  29.5986,  30.7133,  31.7385,  33.5027,  34.0450,  35.5266,\n",
      "         36.5929,  37.4462,  39.3907,  40.6543,  42.1427,  42.9946,  44.2342,\n",
      "         44.9642,  46.1435,  47.9425,  48.7492,  50.2730,  51.9006,  52.9924,\n",
      "         53.9193,  55.4258,  55.5310,  56.6951,  59.4469,  59.3457,  61.0247,\n",
      "         62.4346,  63.8507])\n",
      "Variance = tensor([4.7351e+02, 3.9751e+02, 5.2678e+02, 4.4234e+02, 3.8120e+02, 4.1734e+02,\n",
      "        3.7876e+02, 3.6798e+02, 3.8108e+02, 3.1749e+02, 3.7192e+02, 3.0091e+02,\n",
      "        2.8760e+02, 2.4863e+02, 1.9177e+02, 2.5757e+02, 2.0671e+02, 2.0043e+02,\n",
      "        1.8239e+02, 1.8523e+02, 1.6400e+02, 1.5337e+02, 1.6970e+02, 1.4024e+02,\n",
      "        1.4482e+02, 1.3003e+02, 1.2047e+02, 9.9235e+01, 9.0120e+01, 9.4960e+01,\n",
      "        8.6089e+01, 8.0099e+01, 6.9549e+01, 5.9131e+01, 5.1181e+01, 4.7952e+01,\n",
      "        4.5024e+01, 3.1845e+01, 3.0633e+01, 2.3466e+01, 1.8459e+01, 1.6148e+01,\n",
      "        9.7847e+00, 8.8559e+00, 5.8177e+00, 3.8144e+00, 1.9508e+00, 8.4121e-01,\n",
      "        2.4687e-01, 2.2840e-01, 7.2284e-01, 1.7585e+00, 3.1173e+00, 4.5189e+00,\n",
      "        6.1206e+00, 9.7327e+00, 1.2425e+01, 1.5978e+01, 1.8551e+01, 2.4424e+01,\n",
      "        2.8977e+01, 3.3986e+01, 3.8816e+01, 4.3812e+01, 4.3959e+01, 5.0472e+01,\n",
      "        5.5177e+01, 6.4358e+01, 7.4090e+01, 7.7038e+01, 8.1082e+01, 9.2812e+01,\n",
      "        1.0334e+02, 1.1411e+02, 1.1329e+02, 1.4273e+02, 1.4157e+02, 1.5495e+02,\n",
      "        1.8011e+02, 1.6447e+02, 1.7124e+02, 1.7924e+02, 2.0708e+02, 2.1189e+02,\n",
      "        2.4168e+02, 2.6183e+02, 2.4900e+02, 2.7802e+02, 2.7335e+02, 2.7618e+02,\n",
      "        2.9701e+02, 3.2177e+02, 3.1800e+02, 3.9991e+02, 4.1206e+02, 3.6058e+02,\n",
      "        4.3027e+02, 4.2595e+02, 4.4598e+02, 4.3756e+02])\n",
      "rmse_mc = tensor(250.0726)\n",
      "rmse_non_mc = tensor(250.0141)\n",
      "test_ll_mc = tensor(-7337.7456)\n",
      "\n"
     ]
    },
    {
     "data": {
      "image/png": "[encoded data removed]",
      "text/plain": [
       "<Figure size 432x288 with 1 Axes>"
      ]
     },
     "metadata": {
      "needs_background": "light"
     },
     "output_type": "display_data"
    },
    {
     "name": "stdout",
     "output_type": "stream",
     "text": [
      "testing time = 0.7467978000640869 seconds\n",
      "\n",
      "Mean = tensor([-22.9237, -22.8057, -22.6939, -22.0604, -22.8956, -22.6951, -22.1249,\n",
      "        -22.7959, -22.6026, -22.9045, -22.8483, -22.7257, -22.8590, -22.2465,\n",
      "        -22.3184, -22.6828, -22.1622, -22.1360, -22.3288, -22.2487, -22.0841,\n",
      "        -21.7518, -21.6794, -22.0454, -21.9198, -21.4590, -21.2598, -20.9923,\n",
      "        -20.5361, -20.9436, -20.0576, -19.4394, -19.4578, -18.5921, -17.9966,\n",
      "        -17.5667, -16.8412, -15.2372, -14.6197, -13.4731, -11.7302, -10.6935,\n",
      "         -9.3720,  -7.7057,  -6.3467,  -4.8267,  -3.3880,  -1.9144,  -0.4796,\n",
      "          0.9545,   2.3304,   3.7053,   4.9994,   6.2549,   7.4656,   8.6839,\n",
      "          9.7273,  11.0112,  12.0977,  13.0514,  14.3070,  15.1825,  15.7136,\n",
      "         16.7606,  17.3054,  18.1799,  18.7988,  19.2870,  19.7433,  20.1764,\n",
      "         21.0764,  20.8638,  21.1993,  21.6904,  21.7693,  21.8053,  21.9978,\n",
      "         22.0104,  22.5762,  21.9751,  22.3100,  22.6330,  22.8412,  23.1806,\n",
      "         22.6717,  22.5425,  22.6514,  22.7997,  22.8494,  22.9287,  23.3022,\n",
      "         22.8379,  23.0626,  23.2897,  23.4288,  23.4323,  22.6285,  23.1297,\n",
      "         23.0890,  22.7407])\n",
      "Variance = tensor([54.0098, 57.3037, 59.9080, 72.7961, 54.5408, 59.8756, 69.3847, 55.9781,\n",
      "        60.6605, 53.2532, 53.6411, 54.9104, 52.9972, 63.1626, 61.0566, 54.0731,\n",
      "        63.3238, 62.5273, 56.7224, 56.9789, 57.9821, 62.1980, 60.5722, 51.1000,\n",
      "        50.5628, 53.5749, 54.2673, 52.8971, 56.5066, 40.8796, 50.3297, 51.0857,\n",
      "        39.4049, 42.7783, 39.7118, 31.3496, 26.1405, 31.7827, 22.0032, 18.7300,\n",
      "        20.2957, 13.6864,  9.6023,  8.2689,  5.1002,  2.9491,  1.5271,  0.5778,\n",
      "         0.2460,  0.3116,  0.8279,  1.4683,  2.7236,  4.4399,  6.1157,  8.5528,\n",
      "        11.9847, 13.0277, 15.5048, 19.2459, 20.1157, 23.9934, 32.1669, 31.9897,\n",
      "        38.2147, 38.0246, 41.0994, 44.6630, 47.7332, 50.4090, 42.9570, 53.8952,\n",
      "        54.4664, 50.0813, 54.5205, 58.2754, 58.6808, 60.5774, 53.6027, 68.4380,\n",
      "        63.5076, 60.1380, 56.1004, 50.6546, 63.5707, 64.2133, 63.5050, 61.1028,\n",
      "        61.3388, 61.0623, 53.1734, 63.9329, 57.9052, 54.4255, 53.0874, 51.1865,\n",
      "        68.6170, 58.2486, 59.9838, 67.2133])\n",
      "rmse_mc = tensor(269.2294)\n",
      "rmse_non_mc = tensor(267.6753)\n",
      "test_ll_mc = tensor(-8858.1377)\n",
      "\n"
     ]
    },
    {
     "data": {
      "image/png": "[encoded data removed]",
      "text/plain": [
       "<Figure size 432x288 with 1 Axes>"
      ]
     },
     "metadata": {
      "needs_background": "light"
     },
     "output_type": "display_data"
    },
    {
     "name": "stdout",
     "output_type": "stream",
     "text": [
      "testing time = 0.5820808410644531 seconds\n",
      "\n",
      "Mean = tensor([-13.9617, -14.1379, -13.8388, -14.3034, -14.0824, -14.1752, -14.1359,\n",
      "        -14.0752, -13.9487, -13.9053, -14.2850, -13.7991, -14.1237, -13.7239,\n",
      "        -13.8648, -14.0582, -13.7614, -13.5366, -13.6758, -13.6841, -13.5459,\n",
      "        -13.5922, -13.6503, -13.4640, -13.3712, -13.4260, -13.1227, -13.2814,\n",
      "        -12.6994, -12.7276, -12.5885, -12.3090, -12.1245, -12.0244, -11.3075,\n",
      "        -11.3213, -10.8367, -10.5842,  -9.9871,  -9.2381,  -8.8623,  -8.0101,\n",
      "         -7.2165,  -6.5730,  -5.5032,  -4.3759,  -3.3961,  -2.2417,  -1.0164,\n",
      "          0.2097,   1.4889,   2.6518,   3.8762,   5.0761,   6.0980,   7.1531,\n",
      "          8.2186,   9.0990,   9.6527,  10.8055,  11.6133,  11.8186,  12.4400,\n",
      "         12.9031,  13.2233,  13.5942,  14.0092,  14.3467,  14.4876,  14.9785,\n",
      "         15.1664,  15.1273,  15.5120,  15.9077,  15.8286,  16.0518,  15.9946,\n",
      "         15.9760,  16.2478,  16.2731,  16.4224,  16.4261,  16.5307,  16.3396,\n",
      "         16.2947,  16.5480,  16.6860,  16.5130,  16.8316,  16.6192,  16.8907,\n",
      "         16.6772,  16.6549,  16.7513,  16.8692,  16.6815,  16.5296,  17.0238,\n",
      "         16.7610,  16.6285])\n",
      "Variance = tensor([2.2971e+01, 2.0583e+01, 2.4262e+01, 1.8857e+01, 2.1136e+01, 1.9996e+01,\n",
      "        2.0343e+01, 2.1125e+01, 2.2679e+01, 2.2516e+01, 1.7372e+01, 2.3636e+01,\n",
      "        1.8873e+01, 2.3128e+01, 2.1678e+01, 1.8694e+01, 2.2084e+01, 2.4111e+01,\n",
      "        2.1564e+01, 2.0867e+01, 2.1380e+01, 2.0354e+01, 1.8710e+01, 1.9784e+01,\n",
      "        2.0155e+01, 1.7461e+01, 1.9432e+01, 1.6258e+01, 2.0395e+01, 1.8459e+01,\n",
      "        1.7283e+01, 1.7662e+01, 1.6603e+01, 1.4191e+01, 1.8001e+01, 1.3531e+01,\n",
      "        1.3824e+01, 1.0874e+01, 1.0891e+01, 1.1365e+01, 8.2719e+00, 7.9774e+00,\n",
      "        6.6156e+00, 4.0525e+00, 3.4694e+00, 2.6885e+00, 1.2777e+00, 5.6610e-01,\n",
      "        1.3101e-01, 1.6097e-02, 2.1041e-01, 9.3619e-01, 1.8582e+00, 2.8622e+00,\n",
      "        4.7840e+00, 6.2519e+00, 7.3348e+00, 9.0891e+00, 1.3054e+01, 1.1120e+01,\n",
      "        1.1254e+01, 1.7261e+01, 1.7748e+01, 1.9108e+01, 2.2034e+01, 2.3531e+01,\n",
      "        2.3266e+01, 2.3617e+01, 2.6460e+01, 2.3822e+01, 2.5268e+01, 2.8287e+01,\n",
      "        2.6417e+01, 2.2895e+01, 2.6602e+01, 2.5775e+01, 2.8713e+01, 3.0262e+01,\n",
      "        2.7694e+01, 2.8735e+01, 2.7968e+01, 2.8980e+01, 2.8691e+01, 3.1674e+01,\n",
      "        3.3158e+01, 3.0441e+01, 2.9571e+01, 3.2293e+01, 2.7659e+01, 3.1371e+01,\n",
      "        2.7863e+01, 3.1239e+01, 3.2189e+01, 3.0811e+01, 2.9835e+01, 3.1947e+01,\n",
      "        3.4796e+01, 2.7261e+01, 3.1566e+01, 3.3832e+01])\n",
      "rmse_mc = tensor(273.9520)\n",
      "rmse_non_mc = tensor(272.9615)\n",
      "test_ll_mc = tensor(-9246.8154)\n",
      "\n"
     ]
    },
    {
     "data": {
      "image/png": "[encoded data removed]",
      "text/plain": [
       "<Figure size 432x288 with 1 Axes>"
      ]
     },
     "metadata": {
      "needs_background": "light"
     },
     "output_type": "display_data"
    }
   ],
   "source": [
    "for key, network in uncertainty_methods.items():\n",
    "\n",
    "    \"\"\"\n",
    "    Testing\n",
    "    \"\"\"\n",
    "\n",
    "    # Model to eval mode\n",
    "    network.eval()\n",
    "\n",
    "    # Record testing start time (for this split)\n",
    "    tic_testing = time.time()\n",
    "    \n",
    "    predictions_non_mc = network(X_test)\n",
    "\n",
    "    predictions, mean, var, metrics = network.predict_dist(\n",
    "        X_test, n_predictions, y_test=y_test, reg_strength=reg_strength, train_size=dataset_toy_size)\n",
    "    \n",
    "    # Record testing end time\n",
    "    toc_testing = time.time()\n",
    "    \n",
    "    # Report the total testing time\n",
    "    print(\"testing time = \" + str(toc_testing - tic_testing) + \" seconds\")\n",
    "\n",
    "    # These can now be stored in CPU memory for plotting\n",
    "    predictions_non_mc = predictions_non_mc.cpu()\n",
    "    predictions = predictions.cpu()\n",
    "    mean = mean.cpu()\n",
    "    var = var.cpu()\n",
    "    \n",
    "    \"\"\"\n",
    "    Print results\n",
    "    \"\"\"\n",
    "\n",
    "    print()\n",
    "    print(\"Mean = \" + str(mean.flatten()))\n",
    "    print(\"Variance = \" + str(var.flatten()))\n",
    "    \n",
    "    # store additional metrics\n",
    "    if len(metrics) > 0:\n",
    "        for metric_key, value in metrics.items():\n",
    "            print(str(metric_key) + \" = \" + str(value))\n",
    "        print()\n",
    "             \n",
    "    # Plot the uncertainty measured by each methods\n",
    "    plt.figure()\n",
    "    \n",
    "    # Fix the scales of x-axis and y-axis\n",
    "    plt.xlim(dataset_toy_x_low-1, dataset_toy_x_high+1)\n",
    "    plt.ylim(dataset_toy_y_mean-2*dataset_toy_y_std, dataset_toy_y_mean+2*dataset_toy_y_std)\n",
    "\n",
    "    # Distributions around the predictions\n",
    "    plt.fill_between(\n",
    "        X_test_cpu.flatten(), \n",
    "        (mean.detach().numpy() - 2*torch.sqrt(var).detach().numpy()).flatten(),\n",
    "        (mean.detach().numpy() + 2*torch.sqrt(var).detach().numpy()).flatten(),\n",
    "        color='lightblue', alpha=0.8)\n",
    "\n",
    "    # Train data\n",
    "    plt.plot(dataset.data_x.cpu(), dataset.data_y.cpu(), 'or', label='Training data', alpha=0.3)\n",
    "\n",
    "    # Non-MC prediction\n",
    "    plt.plot(X_test_cpu, predictions_non_mc.detach().numpy(), 'green', label='non-MC prediction', alpha=0.6)    \n",
    "    \n",
    "    # MC prediction\n",
    "    plt.plot(X_test_cpu, mean.detach().numpy(), 'blue', label='mean prediction', alpha=0.35)\n",
    "    \n",
    "    # Original data generating function without noise\n",
    "    plt.plot(X_test_cpu, X_test_cpu ** 3, 'gray', label='data generating function')    \n",
    "    \n",
    "    plt.legend()\n",
    "    \n",
    "    plt.savefig(os.path.join(test_results_path, str(key) + '.png'), dpi=600)\n",
    "    \n",
    "    plt.show()"
   ]
  },
  {
   "cell_type": "code",
   "execution_count": null,
   "metadata": {},
   "outputs": [],
   "source": []
  }
 ],
 "metadata": {
  "accelerator": "GPU",
  "colab": {
   "collapsed_sections": [
    "Bka_bK83VFHh",
    "eEfdrHcOVFIj"
   ],
   "name": "experiment_comparison_toy.ipynb",
   "provenance": []
  },
  "kernelspec": {
   "display_name": "Python 3",
   "language": "python",
   "name": "python3"
  },
  "language_info": {
   "codemirror_mode": {
    "name": "ipython",
    "version": 3
   },
   "file_extension": ".py",
   "mimetype": "text/x-python",
   "name": "python",
   "nbconvert_exporter": "python",
   "pygments_lexer": "ipython3",
   "version": "3.8.0"
  }
 },
 "nbformat": 4,
 "nbformat_minor": 1
}
