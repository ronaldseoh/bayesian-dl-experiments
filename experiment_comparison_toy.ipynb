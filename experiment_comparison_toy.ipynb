{
 "cells": [
  {
   "cell_type": "markdown",
   "metadata": {
    "colab_type": "text",
    "id": "Bka_bK83VFHh"
   },
   "source": [
    "## Experiment Setup"
   ]
  },
  {
   "cell_type": "markdown",
   "metadata": {
    "colab_type": "text",
    "id": "8D5NSPs_cJZe"
   },
   "source": [
    "###  Random seed / Colab / CUDA related"
   ]
  },
  {
   "cell_type": "code",
   "execution_count": 1,
   "metadata": {
    "colab": {
     "base_uri": "https://localhost:8080/",
     "height": 592
    },
    "colab_type": "code",
    "executionInfo": {
     "elapsed": 32214,
     "status": "ok",
     "timestamp": 1575021332527,
     "user": {
      "displayName": "Ronald Seoh",
      "photoUrl": "",
      "userId": "10284188050297676522"
     },
     "user_tz": 300
    },
    "id": "pHbfpytEVFHu",
    "outputId": "7913f72d-859c-477f-90b8-6c37e04f5759"
   },
   "outputs": [
    {
     "name": "stdout",
     "output_type": "stream",
     "text": [
      "Go to this URL in a browser: https://accounts.google.com/o/oauth2/auth?client_id=947318989803-6bn6qk8qdgf4n4g3pfee6491hc0brc4i.apps.googleusercontent.com&redirect_uri=urn%3aietf%3awg%3aoauth%3a2.0%3aoob&response_type=code&scope=email%20https%3a%2f%2fwww.googleapis.com%2fauth%2fdocs.test%20https%3a%2f%2fwww.googleapis.com%2fauth%2fdrive%20https%3a%2f%2fwww.googleapis.com%2fauth%2fdrive.photos.readonly%20https%3a%2f%2fwww.googleapis.com%2fauth%2fpeopleapi.readonly\n",
      "\n",
      "Enter your authorization code:\n",
      "··········\n",
      "Mounted at /content/drive\n",
      "Collecting pyro-ppl\n",
      "\u001b[?25l  Downloading https://files.pythonhosted.org/packages/07/9b/a8aa400ebb22a74ac00717ee897b9f179461d4f9052b348644aee36d1b87/pyro_ppl-1.0.0-py3-none-any.whl (404kB)\n",
      "\u001b[K     |████████████████████████████████| 409kB 2.8MB/s \n",
      "\u001b[?25hRequirement already satisfied: opt-einsum>=2.3.2 in /usr/local/lib/python3.6/dist-packages (from pyro-ppl) (3.1.0)\n",
      "Requirement already satisfied: torch>=1.3.0 in /usr/local/lib/python3.6/dist-packages (from pyro-ppl) (1.3.1)\n",
      "Requirement already satisfied: graphviz>=0.8 in /usr/local/lib/python3.6/dist-packages (from pyro-ppl) (0.10.1)\n",
      "Collecting pyro-api>=0.1.1\n",
      "  Downloading https://files.pythonhosted.org/packages/c2/bc/6cdbd1929e32fff62a33592633c2cc0393c7f7739131ccc9c9c4e28ac8dd/pyro_api-0.1.1-py3-none-any.whl\n",
      "Collecting tqdm>=4.36\n",
      "\u001b[?25l  Downloading https://files.pythonhosted.org/packages/bb/62/6f823501b3bf2bac242bd3c320b592ad1516b3081d82c77c1d813f076856/tqdm-4.39.0-py2.py3-none-any.whl (53kB)\n",
      "\u001b[K     |████████████████████████████████| 61kB 7.4MB/s \n",
      "\u001b[?25hRequirement already satisfied: numpy>=1.7 in /usr/local/lib/python3.6/dist-packages (from pyro-ppl) (1.17.4)\n",
      "Installing collected packages: pyro-api, tqdm, pyro-ppl\n",
      "  Found existing installation: tqdm 4.28.1\n",
      "    Uninstalling tqdm-4.28.1:\n",
      "      Successfully uninstalled tqdm-4.28.1\n",
      "Successfully installed pyro-api-0.1.1 pyro-ppl-1.0.0 tqdm-4.39.0\n"
     ]
    },
    {
     "data": {
      "application/vnd.colab-display-data+json": {
       "pip_warning": {
        "packages": [
         "tqdm"
        ]
       }
      }
     },
     "metadata": {
      "tags": []
     },
     "output_type": "display_data"
    },
    {
     "name": "stdout",
     "output_type": "stream",
     "text": [
      "/content/drive/My Drive/Colab Notebooks/bayesian-dl-experiments\n",
      "datasets_files\t\t\t experiment_nn_capacity_1.ipynb  ronald_bdl\n",
      "experiment_comparison_toy.ipynb  experiment_nn_capacity_2.ipynb  test_results\n",
      "experiment_convergence_1.ipynb\t LICENSE\n",
      "experiment_convergence_2.ipynb\t README.md\n"
     ]
    }
   ],
   "source": [
    "import time\n",
    "import datetime\n",
    "import os\n",
    "import sys\n",
    "import itertools\n",
    "\n",
    "# Use Google Colab\n",
    "use_colab = True\n",
    "\n",
    "# Is this notebook running on Colab?\n",
    "# If so, then google.colab package (github.com/googlecolab/colabtools)\n",
    "# should be available in this environment\n",
    "\n",
    "# Previous version used importlib, but we could do the same thing with\n",
    "# just attempting to import google.colab\n",
    "try:\n",
    "    from google.colab import drive\n",
    "    colab_available = True\n",
    "except:\n",
    "    colab_available = False\n",
    "\n",
    "if use_colab and colab_available:\n",
    "    drive.mount('/content/drive')\n",
    "    \n",
    "    # If there's a package I need to install separately, do it here\n",
    "    !pip install pyro-ppl\n",
    "\n",
    "    # cd to the appropriate working directory under my Google Drive\n",
    "    %cd 'drive/My Drive/Colab Notebooks/bayesian-dl-experiments'\n",
    "    \n",
    "    # List the directory contents\n",
    "    !ls\n",
    "\n",
    "# IPython reloading magic\n",
    "%load_ext autoreload\n",
    "%autoreload 2\n",
    "\n",
    "# Random seeds\n",
    "# Based on https://pytorch.org/docs/stable/notes/randomness.html\n",
    "random_seed = 682"
   ]
  },
  {
   "cell_type": "markdown",
   "metadata": {
    "colab_type": "text",
    "id": "L8udq6NnHSXW"
   },
   "source": [
    "### Third party libraries (NumPy, PyTorch, Pyro)"
   ]
  },
  {
   "cell_type": "code",
   "execution_count": 2,
   "metadata": {
    "colab": {
     "base_uri": "https://localhost:8080/",
     "height": 104
    },
    "colab_type": "code",
    "executionInfo": {
     "elapsed": 35929,
     "status": "ok",
     "timestamp": 1575021336266,
     "user": {
      "displayName": "Ronald Seoh",
      "photoUrl": "",
      "userId": "10284188050297676522"
     },
     "user_tz": 300
    },
    "id": "BOJA1nXgHSXa",
    "outputId": "e2c1368a-d446-42c6-b971-155962116ceb"
   },
   "outputs": [
    {
     "name": "stdout",
     "output_type": "stream",
     "text": [
      "Python Version: 3.6.8 (default, Oct  7 2019, 12:59:55) \n",
      "[GCC 8.3.0]\n",
      "NumPy Version: 1.17.4\n",
      "PyTorch Version: 1.3.1\n",
      "Pyro Version: 1.0.0\n"
     ]
    }
   ],
   "source": [
    "# Third party libraries import\n",
    "import numpy as np\n",
    "import torch\n",
    "import pyro\n",
    "import matplotlib.pyplot as plt\n",
    "\n",
    "# Print version information\n",
    "print(\"Python Version: \" + sys.version)\n",
    "print(\"NumPy Version: \" + np.__version__)\n",
    "print(\"PyTorch Version: \" + torch.__version__)\n",
    "print(\"Pyro Version: \" + pyro.__version__)"
   ]
  },
  {
   "cell_type": "code",
   "execution_count": 3,
   "metadata": {
    "colab": {
     "base_uri": "https://localhost:8080/",
     "height": 86
    },
    "colab_type": "code",
    "executionInfo": {
     "elapsed": 44842,
     "status": "ok",
     "timestamp": 1575021345196,
     "user": {
      "displayName": "Ronald Seoh",
      "photoUrl": "",
      "userId": "10284188050297676522"
     },
     "user_tz": 300
    },
    "id": "BOIqWi_wHSXi",
    "outputId": "b658d6b3-5990-4d42-f71e-f8cbff718437"
   },
   "outputs": [
    {
     "name": "stdout",
     "output_type": "stream",
     "text": [
      "CUDA Version: 10.1.243\n",
      "cuDNN Version: 7603\n",
      "CUDA Device Name: Tesla K80\n",
      "CUDA Capabilities: (3, 7)\n"
     ]
    }
   ],
   "source": [
    "# More imports...\n",
    "from torch import nn, optim\n",
    "from torch.utils.data import random_split, DataLoader, RandomSampler\n",
    "import torchvision\n",
    "import torchvision.transforms as transforms\n",
    "from pyro.infer import SVI, Trace_ELBO, HMC, MCMC\n",
    "\n",
    "# Import model and dataset classes from ronald_bdl\n",
    "from ronald_bdl import models, datasets\n",
    "\n",
    "# pyplot setting\n",
    "%matplotlib inline\n",
    "\n",
    "# torch.device / CUDA Setup\n",
    "use_cuda = True\n",
    "\n",
    "if use_cuda and torch.cuda.is_available():\n",
    "    torch_device = torch.device('cuda')\n",
    "\n",
    "    torch.backends.cudnn.deterministic = True\n",
    "    # Disable 'benchmark' mode\n",
    "    # Note: https://discuss.pytorch.org/t/what-does-torch-backends-cudnn-benchmark-do/5936\n",
    "    torch.backends.cudnn.benchmark = False\n",
    "    use_pin_memory = True # Faster Host to GPU copies with page-locked memory\n",
    "\n",
    "    # CUDA libraries version information\n",
    "    print(\"CUDA Version: \" + str(torch.version.cuda))\n",
    "    print(\"cuDNN Version: \" + str(torch.backends.cudnn.version()))\n",
    "    print(\"CUDA Device Name: \" + str(torch.cuda.get_device_name()))\n",
    "    print(\"CUDA Capabilities: \"+ str(torch.cuda.get_device_capability()))\n",
    "else:\n",
    "    torch_device = torch.device('cpu')\n",
    "    use_pin_memory = False"
   ]
  },
  {
   "cell_type": "markdown",
   "metadata": {
    "colab_type": "text",
    "id": "XIFRoH3AcJZn"
   },
   "source": [
    "### Toy dataset settings"
   ]
  },
  {
   "cell_type": "code",
   "execution_count": 0,
   "metadata": {
    "colab": {},
    "colab_type": "code",
    "id": "g_pzGq1_cJZp"
   },
   "outputs": [],
   "source": [
    "\"\"\"\n",
    "Toy dataset generation based on the experiment from \n",
    "the Probabilstic Backpropagation paper (Hernandez-Lobato & Adams, 2015)\n",
    "\"\"\"\n",
    "\n",
    "# Random seed for toy dataset\n",
    "dataset_toy_random_seed = 691\n",
    "\n",
    "# Toy dataset size\n",
    "dataset_toy_size = 20\n",
    "\n",
    "# Toy dataset x distribution (uniform) parameters\n",
    "dataset_toy_x_low = -4\n",
    "dataset_toy_x_high = 4\n",
    "\n",
    "# Toy dataset y distribution (normal with noise)\n",
    "dataset_toy_y_mean = 0\n",
    "dataset_toy_y_std = 9"
   ]
  },
  {
   "cell_type": "markdown",
   "metadata": {
    "colab_type": "text",
    "id": "Kdi_LQ7sspvM"
   },
   "source": [
    "### MC dropout parameters"
   ]
  },
  {
   "cell_type": "code",
   "execution_count": 0,
   "metadata": {
    "colab": {},
    "colab_type": "code",
    "id": "0ys_GAWtHSX4"
   },
   "outputs": [],
   "source": [
    "\"\"\"\n",
    "MC Dropout related\n",
    "\"\"\"\n",
    "\n",
    "# Dropout rate\n",
    "dropout_rate = 0.5\n",
    "\n",
    "# L2 regularization strength\n",
    "reg_strength = 0.3\n",
    "\n",
    "# Epochs\n",
    "n_epochs = 400\n",
    "\n",
    "# Optimizer learning rate\n",
    "learning_rate = 0.01\n",
    "\n",
    "# Loss function type\n",
    "loss_function_type = 'mse_loss'\n",
    "\n",
    "# Number of test predictions (for each data point)\n",
    "n_predictions = 1000"
   ]
  },
  {
   "cell_type": "markdown",
   "metadata": {
    "colab_type": "text",
    "id": "DNGDKiltsux3"
   },
   "source": [
    "### Directory path to save results"
   ]
  },
  {
   "cell_type": "code",
   "execution_count": 0,
   "metadata": {
    "colab": {},
    "colab_type": "code",
    "id": "9ysu9G0FHSX-"
   },
   "outputs": [],
   "source": [
    "# Test start time\n",
    "test_start_time = datetime.datetime.today().strftime('%Y%m%d%H%M')\n",
    "\n",
    "# Directory to store the results for this experiment\n",
    "test_results_path = os.path.join(\n",
    "    './test_results',\n",
    "    'comparison_toy',\n",
    "    (\n",
    "        test_start_time \n",
    "        + '_' + str(n_epochs) \n",
    "        + '_' + str(dropout_rate) \n",
    "        + '_' + str(reg_strength) \n",
    "        + '_' + str(loss_function_type) \n",
    "        + '_' + str(n_predictions))\n",
    ")\n",
    "\n",
    "# Create the directory if it doesn't exist\n",
    "os.makedirs(test_results_path, exist_ok=True)"
   ]
  },
  {
   "cell_type": "markdown",
   "metadata": {
    "colab_type": "text",
    "id": "sZwe_f-yVFIf"
   },
   "source": [
    "## Prepare data"
   ]
  },
  {
   "cell_type": "markdown",
   "metadata": {
    "colab_type": "text",
    "id": "eEfdrHcOVFIj"
   },
   "source": [
    "### Get the data as a torch Dataset object"
   ]
  },
  {
   "cell_type": "code",
   "execution_count": 7,
   "metadata": {
    "colab": {
     "base_uri": "https://localhost:8080/",
     "height": 34
    },
    "colab_type": "code",
    "executionInfo": {
     "elapsed": 51278,
     "status": "ok",
     "timestamp": 1575021351670,
     "user": {
      "displayName": "Ronald Seoh",
      "photoUrl": "",
      "userId": "10284188050297676522"
     },
     "user_tz": 300
    },
    "id": "5u5qU-9JVFIr",
    "outputId": "480ccb60-6d74-46ec-dc61-e7689ebdb300"
   },
   "outputs": [
    {
     "name": "stdout",
     "output_type": "stream",
     "text": [
      "dataset size = (20, 1)\n"
     ]
    }
   ],
   "source": [
    "dataset = datasets.ToyDatasets(\n",
    "    random_seed=dataset_toy_random_seed,\n",
    "    n_samples=dataset_toy_size,\n",
    "    x_low=dataset_toy_x_low,\n",
    "    x_high=dataset_toy_x_high,\n",
    "    y_mean=dataset_toy_y_mean,\n",
    "    y_std=dataset_toy_y_std,\n",
    ")\n",
    "\n",
    "# Get the test data\n",
    "X_test = torch.linspace(dataset_toy_x_low, dataset_toy_x_high, 100).reshape(100, 1)\n",
    "\n",
    "# Send it to the memory of the device to be used for training\n",
    "X_test = X_test.to(torch_device)\n",
    "\n",
    "# Save a copy at CPU for plotting\n",
    "X_test_cpu = X_test.cpu()\n",
    "\n",
    "# Print the size of the training set\n",
    "print(\"dataset size = \" + str((len(dataset), dataset.n_features)))"
   ]
  },
  {
   "cell_type": "markdown",
   "metadata": {
    "colab_type": "text",
    "id": "LaasFWpqVFJ1"
   },
   "source": [
    "## Declare models"
   ]
  },
  {
   "cell_type": "code",
   "execution_count": 0,
   "metadata": {
    "colab": {},
    "colab_type": "code",
    "id": "gAqkGtg7VFJ9"
   },
   "outputs": [],
   "source": [
    "uncertainty_methods = {}\n",
    "\n",
    "# MC (Bernoulli) dropout\n",
    "uncertainty_methods['mc_dropout'] = models.FCNetMCDropout(\n",
    "    input_dim=dataset.n_features, \n",
    "    output_dim=dataset.n_targets,\n",
    "    hidden_dim=100,\n",
    "    n_hidden=0,\n",
    "    dropout_rate=dropout_rate,\n",
    "    dropout_type='bernoulli',\n",
    ")\n",
    "\n",
    "# Vanilla Variational Inference\n",
    "uncertainty_methods['vi'] = models.FCNetPyro(\n",
    "    input_dim=dataset.n_features, \n",
    "    output_dim=dataset.n_targets,\n",
    "    hidden_dim=100,\n",
    "    n_hidden=0,\n",
    "    torch_device=torch_device,\n",
    ")\n",
    "\n",
    "# HMC (NUTS)\n",
    "uncertainty_methods['hmc'] = models.FCNetPyro(\n",
    "    input_dim=dataset.n_features, \n",
    "    output_dim=dataset.n_targets,\n",
    "    hidden_dim=100,\n",
    "    n_hidden=0,\n",
    "    torch_device=torch_device,\n",
    ")"
   ]
  },
  {
   "cell_type": "markdown",
   "metadata": {
    "colab_type": "text",
    "id": "1PpzPMI8VFKE"
   },
   "source": [
    "## Train the models"
   ]
  },
  {
   "cell_type": "markdown",
   "metadata": {
    "colab_type": "text",
    "id": "Jc7Td1h1VFKb"
   },
   "source": [
    "### Train/test the model"
   ]
  },
  {
   "cell_type": "code",
   "execution_count": 9,
   "metadata": {
    "colab": {
     "base_uri": "https://localhost:8080/",
     "height": 903
    },
    "colab_type": "code",
    "executionInfo": {
     "elapsed": 1213641,
     "status": "ok",
     "timestamp": 1575022514055,
     "user": {
      "displayName": "Ronald Seoh",
      "photoUrl": "",
      "userId": "10284188050297676522"
     },
     "user_tz": 300
    },
    "id": "m4kavCiTVFKf",
    "outputId": "6731cdaf-71b9-4709-fd78-45fb2b335a05",
    "scrolled": false
   },
   "outputs": [
    {
     "name": "stdout",
     "output_type": "stream",
     "text": [
      "Now running mc_dropout\n",
      "FCNetMCDropout(\n",
      "  (input): ModuleDict(\n",
      "    (dropout): Dropout(p=0.5, inplace=False)\n",
      "    (linear): Linear(in_features=1, out_features=100, bias=True)\n",
      "    (relu): ReLU()\n",
      "  )\n",
      "  (output): ModuleDict(\n",
      "    (dropout): Dropout(p=0.5, inplace=False)\n",
      "    (linear): Linear(in_features=100, out_features=1, bias=True)\n",
      "  )\n",
      ")\n",
      "\n",
      "[iteration 0001] loss: 581.3885\n",
      "[iteration 0101] loss: 573.1013\n",
      "[iteration 0201] loss: 416.7278\n",
      "[iteration 0301] loss: 355.6257\n",
      "final loss = tensor(342.6555, device='cuda:0', grad_fn=<MseLossBackward>)\n",
      "training time = 1.2635858058929443 seconds\n",
      "\n",
      "Now running vi\n",
      "FCNetPyro(\n",
      "  (input): PyroModuleDict(\n",
      "    (linear): PyroLinear(in_features=1, out_features=100, bias=True)\n",
      "    (relu): PyroReLU()\n",
      "  )\n",
      "  (output): PyroLinear(in_features=100, out_features=1, bias=True)\n",
      "  (guide): AutoDiagonalNormal()\n",
      ")\n",
      "\n",
      "[iteration 0001] loss: 201758.9384\n",
      "[iteration 0101] loss: 265222.0857\n",
      "[iteration 0201] loss: 193631.8719\n",
      "[iteration 0301] loss: 175912.5329\n"
     ]
    },
    {
     "name": "stderr",
     "output_type": "stream",
     "text": [
      "\r",
      "Warmup:   0%|          | 0/20000 [00:00, ?it/s]"
     ]
    },
    {
     "name": "stdout",
     "output_type": "stream",
     "text": [
      "final loss = 146579.83055102825\n",
      "training time = 2.9763712882995605 seconds\n",
      "\n",
      "Now running hmc\n",
      "FCNetPyro(\n",
      "  (input): PyroModuleDict(\n",
      "    (linear): PyroLinear(in_features=1, out_features=100, bias=True)\n",
      "    (relu): PyroReLU()\n",
      "  )\n",
      "  (output): PyroLinear(in_features=100, out_features=1, bias=True)\n",
      "  (guide): AutoDiagonalNormal()\n",
      ")\n",
      "\n"
     ]
    },
    {
     "name": "stderr",
     "output_type": "stream",
     "text": [
      "Sample: 100%|██████████| 20000/20000 [19:17, 13.60it/s, step size=3.54e-01, acc. prob=0.988]\n"
     ]
    },
    {
     "name": "stdout",
     "output_type": "stream",
     "text": [
      "final loss = 146579.83055102825\n",
      "training time = 1157.904168844223 seconds\n",
      "\n"
     ]
    }
   ],
   "source": [
    "for key, network in uncertainty_methods.items():\n",
    "    # Reset the random number generator for each method (to produce identical results)\n",
    "    torch.manual_seed(random_seed)\n",
    "    np.random.seed(random_seed)\n",
    "    pyro.set_rng_seed(random_seed)\n",
    "    \n",
    "    # Print the method name\n",
    "    print(\"Now running \" + str(key))\n",
    "    \n",
    "    # Send the whole model to the selected torch.device\n",
    "    network.to(torch_device)\n",
    "\n",
    "    # Print the network structure\n",
    "    print(network)\n",
    "    print()\n",
    "\n",
    "    # Initialize training data loader\n",
    "    train_loader = DataLoader(dataset, batch_size=len(dataset))\n",
    "    \n",
    "    \"\"\"\n",
    "    Optimizer Setup\n",
    "    \"\"\"\n",
    "\n",
    "    if isinstance(network, models.FCNetMCDropout):\n",
    "        # Adam optimizer\n",
    "        # https://pytorch.org/docs/stable/optim.html?highlight=adam#torch.optim.Adam\n",
    "        # NOTE: Need to set L2 regularization from here\n",
    "        optimizer = torch.optim.Adam(\n",
    "            network.parameters(),\n",
    "            lr=learning_rate,\n",
    "            weight_decay=reg_strength, # L2 regularization\n",
    "        )\n",
    "\n",
    "        # Mean Squared Error for loss function to minimize\n",
    "        objective = torch.nn.MSELoss()\n",
    "\n",
    "    elif isinstance(network, models.FCNetPyro):\n",
    "        # Clear everything in Pyro parameter storage\n",
    "        # Looks like this parameter store would be globally shared across\n",
    "        # models in the same Python instance.\n",
    "        pyro.clear_param_store()\n",
    "\n",
    "        # Force all the PyTorch tensors to be CUDA tensors if available\n",
    "        if use_cuda and torch.cuda.is_available():\n",
    "            torch.set_default_tensor_type(torch.cuda.FloatTensor)\n",
    "\n",
    "        # Different optimizers for VI and HMC\n",
    "        if key == 'vi':\n",
    "            optimizer = pyro.optim.Adam({\"lr\": 0.001})\n",
    "            svi = SVI(network, network.guide, optimizer, loss=Trace_ELBO())\n",
    "        elif key == 'hmc':\n",
    "            kernel = HMC(network)\n",
    "            mcmc = MCMC(kernel, num_samples=10000)\n",
    "\n",
    "    \"\"\"\n",
    "    Training\n",
    "    \"\"\"\n",
    "\n",
    "    # Model to train mode\n",
    "    network.train()\n",
    "\n",
    "    # Record training start time (for this method)\n",
    "    tic = time.time()\n",
    "    \n",
    "    if key == 'hmc':\n",
    "        # to() actually returns new Tensor; need to replace with that return\n",
    "        dataset.data_x = dataset.data_x.to(torch_device)\n",
    "\n",
    "        dataset.data_y = dataset.data_y.to(torch_device)\n",
    "\n",
    "        mcmc.run(dataset.data_x, dataset.data_y)\n",
    "    else:\n",
    "        for epoch in range(n_epochs): # loop over the dataset multiple times\n",
    "\n",
    "            for i, data in enumerate(train_loader):\n",
    "                # get the inputs; data is a list of [inputs, labels]\n",
    "                inputs, targets = data\n",
    "\n",
    "                # Store the batch to torch_device's memory\n",
    "                # to() actually returns new Tensor; need to replace with that return\n",
    "                inputs = inputs.to(torch_device)\n",
    "                targets = targets.to(torch_device)\n",
    "\n",
    "                if isinstance(network, models.FCNetMCDropout):\n",
    "                    # zero the parameter gradients\n",
    "                    optimizer.zero_grad()\n",
    "\n",
    "                    # forward + backward + optimize\n",
    "                    outputs = network(inputs)\n",
    "\n",
    "                    if loss_function_type in ('test_ll_mc', 'rmse_mc'):\n",
    "                        _, _, _, metrics = network.predict_dist(\n",
    "                            inputs, n_predictions, y_test=targets, reg_strength=reg_strength)\n",
    "\n",
    "                        if loss_function_type == 'test_ll_mc':\n",
    "                            total_loss = -(metrics[loss_function_type])\n",
    "                    else:\n",
    "                        total_loss = objective(outputs, targets)\n",
    "\n",
    "                    total_loss.backward()\n",
    "\n",
    "                    optimizer.step()\n",
    "\n",
    "                elif isinstance(network, models.FCNetPyro):\n",
    "                    pyro.clear_param_store()\n",
    "                    # calculate the loss and take a gradient step\n",
    "                    total_loss = svi.step(inputs, targets)\n",
    "\n",
    "            if epoch % 100 == 0:\n",
    "                print(\"[iteration %04d] loss: %.4f\" % (epoch + 1, total_loss))\n",
    "            \n",
    "    # Record training end time\n",
    "    toc = time.time()\n",
    "\n",
    "    # Report the final loss\n",
    "    print(\"final loss = \" + str(total_loss))            \n",
    "\n",
    "    # Report the total training time\n",
    "    print(\"training time = \" + str(toc - tic) + \" seconds\")\n",
    "    \n",
    "    print()"
   ]
  },
  {
   "cell_type": "markdown",
   "metadata": {
    "colab_type": "text",
    "id": "xrknIU5UWv-v"
   },
   "source": [
    "## Plot the results"
   ]
  },
  {
   "cell_type": "code",
   "execution_count": 20,
   "metadata": {
    "colab": {
     "base_uri": "https://localhost:8080/",
     "height": 1000
    },
    "colab_type": "code",
    "executionInfo": {
     "elapsed": 20586,
     "status": "ok",
     "timestamp": 1575024185652,
     "user": {
      "displayName": "Ronald Seoh",
      "photoUrl": "",
      "userId": "10284188050297676522"
     },
     "user_tz": 300
    },
    "id": "ymmG2nxTHSYq",
    "outputId": "bad750f8-6180-4e17-8cfc-21b92fe8c524",
    "scrolled": false
   },
   "outputs": [
    {
     "name": "stdout",
     "output_type": "stream",
     "text": [
      "testing time = 0.35886192321777344 seconds\n",
      "\n",
      "Mean = tensor([-20.9893, -19.6997, -19.5330, -19.0160, -18.5650, -17.0558, -17.0908,\n",
      "        -16.6248, -15.8226, -15.0915, -14.8097, -13.7097, -13.4621, -12.6664,\n",
      "        -12.9021, -11.9939, -11.0177, -10.8771,  -9.9844,  -9.1873,  -8.7411,\n",
      "         -8.6770,  -7.6461,  -7.3782,  -6.4107,  -5.8852,  -5.5254,  -4.9850,\n",
      "         -4.2077,  -3.7100,  -3.1396,  -2.7830,  -2.3067,  -1.9563,  -1.5861,\n",
      "         -1.4079,  -1.0958,  -0.8732,  -0.6872,  -0.5065,  -0.3505,  -0.1969,\n",
      "         -0.0499,   0.0466,   0.1476,   0.2106,   0.2335,   0.3225,   0.3590,\n",
      "          0.4611,   0.4527,   0.5620,   0.6338,   0.7231,   0.8342,   0.8837,\n",
      "          1.0369,   1.1911,   1.3568,   1.4128,   1.5497,   1.7450,   1.8904,\n",
      "          1.9576,   2.2230,   2.2903,   2.5660,   2.6995,   2.9032,   3.3383,\n",
      "          3.9568,   4.3910,   4.6649,   5.2600,   5.7300,   6.4290,   7.4250,\n",
      "          8.0542,   8.8695,   9.5977,   9.6270,  11.1967,  11.0631,  11.8037,\n",
      "         12.9686,  13.9663,  15.1753,  15.4647,  15.1863,  16.6540,  17.4669,\n",
      "         17.7173,  18.3366,  19.4530,  19.7646,  20.5960,  22.8144,  22.7997,\n",
      "         21.9627,  22.5254], device='cpu', grad_fn=<AsStridedBackward>)\n",
      "Variance = tensor([4.5042e+02, 4.1665e+02, 3.8197e+02, 3.8194e+02, 3.3957e+02, 3.1340e+02,\n",
      "        3.0995e+02, 2.8705e+02, 2.5921e+02, 2.4794e+02, 2.2427e+02, 2.1052e+02,\n",
      "        1.9634e+02, 1.7324e+02, 1.6129e+02, 1.4603e+02, 1.3220e+02, 1.1875e+02,\n",
      "        1.0620e+02, 9.3553e+01, 8.3078e+01, 7.3403e+01, 6.2761e+01, 5.3619e+01,\n",
      "        4.5157e+01, 3.8258e+01, 3.0027e+01, 2.5893e+01, 1.9548e+01, 1.5188e+01,\n",
      "        1.1411e+01, 8.6389e+00, 6.3265e+00, 4.5951e+00, 3.2174e+00, 2.2432e+00,\n",
      "        1.5314e+00, 1.0206e+00, 6.8933e-01, 4.2908e-01, 2.9861e-01, 1.8518e-01,\n",
      "        1.4408e-01, 1.3793e-01, 1.4865e-01, 1.7532e-01, 1.7581e-01, 2.4154e-01,\n",
      "        2.5717e-01, 3.3879e-01, 3.7754e-01, 4.5654e-01, 5.6471e-01, 7.2506e-01,\n",
      "        9.0929e-01, 1.1072e+00, 1.4263e+00, 1.6441e+00, 2.0586e+00, 2.3729e+00,\n",
      "        2.9120e+00, 3.3722e+00, 3.9106e+00, 4.4248e+00, 5.5120e+00, 6.1001e+00,\n",
      "        7.1403e+00, 8.2716e+00, 9.5694e+00, 1.2375e+01, 1.5957e+01, 1.9456e+01,\n",
      "        2.5100e+01, 3.0968e+01, 3.7927e+01, 4.4818e+01, 5.3886e+01, 6.4130e+01,\n",
      "        7.8152e+01, 9.1254e+01, 1.0252e+02, 1.1874e+02, 1.3800e+02, 1.5121e+02,\n",
      "        1.7556e+02, 1.9267e+02, 2.2237e+02, 2.4127e+02, 2.6098e+02, 2.7501e+02,\n",
      "        3.1116e+02, 3.3685e+02, 3.6017e+02, 3.9135e+02, 4.0617e+02, 4.3946e+02,\n",
      "        4.7975e+02, 5.2131e+02, 5.4486e+02, 5.7534e+02], device='cpu',\n",
      "       grad_fn=<AsStridedBackward>)\n"
     ]
    },
    {
     "data": {
      "image/png": "[encoded data removed]",
      "text/plain": [
       "<Figure size 432x288 with 1 Axes>"
      ]
     },
     "metadata": {
      "tags": []
     },
     "output_type": "display_data"
    },
    {
     "name": "stdout",
     "output_type": "stream",
     "text": [
      "testing time = 1.1811308860778809 seconds\n",
      "\n",
      "Mean = tensor([17.1965, 17.0566, 16.8627, 15.9849, 15.9715, 15.3784, 15.2794, 14.6221,\n",
      "        14.5176, 14.1523, 13.8950, 13.6967, 13.1112, 12.9690, 12.5135, 12.2274,\n",
      "        11.6590, 11.4189, 11.2427, 10.9720, 10.5526, 10.3179,  9.9542,  9.6798,\n",
      "         9.5079,  8.9587,  8.7927,  8.5935,  8.3620,  8.1808,  7.8035,  7.4364,\n",
      "         7.0538,  7.1752,  7.0609,  6.9255,  6.8984,  6.2705,  6.2891,  5.8705,\n",
      "         4.8622,  4.6507,  3.6703,  3.0338,  2.2136,  1.5687,  0.8887,  0.5529,\n",
      "         0.1252, -0.2508, -1.0104, -1.9286, -3.0580, -3.6190, -4.0725, -4.3726,\n",
      "        -5.0923, -5.0208, -5.5188, -5.7470, -5.8311, -6.0343, -6.4986, -5.9835,\n",
      "        -6.4270, -6.2726, -6.4520, -6.7575, -6.4752, -6.2655, -6.3676, -6.7018,\n",
      "        -6.4564, -6.6592, -7.1846, -7.1263, -6.9241, -6.9128, -6.8024, -7.2843,\n",
      "        -6.9877, -6.9740, -7.1937, -7.1173, -7.2194, -7.5266, -7.3462, -7.6124,\n",
      "        -7.6995, -7.7966, -8.1664, -8.0226, -8.0621, -8.5072, -8.0549, -8.4478,\n",
      "        -8.6774, -8.4298, -8.7614, -8.8452], device='cpu')\n",
      "Variance = tensor([33.6758, 31.8592, 30.8405, 34.4396, 31.0651, 30.2046, 33.3182, 34.4221,\n",
      "        32.5627, 33.9368, 34.5596, 33.0003, 33.2771, 32.3642, 33.2020, 33.5001,\n",
      "        34.9144, 34.1222, 33.1442, 37.5131, 34.9803, 34.3413, 31.3281, 31.7383,\n",
      "        32.1568, 31.6711, 31.9941, 31.4805, 35.6132, 32.1607, 30.9840, 31.6184,\n",
      "        34.0995, 34.0764, 33.1738, 34.8397, 35.5336, 34.6931, 31.6036, 34.8962,\n",
      "        30.8343, 34.1585, 31.9392, 37.2918, 30.7390, 29.9336, 32.0150, 30.6453,\n",
      "        32.6370, 31.1575, 37.2612, 32.5740, 32.8092, 32.1041, 32.4193, 34.9129,\n",
      "        35.9991, 30.9116, 32.3906, 34.8215, 33.2791, 33.0037, 31.3064, 31.9899,\n",
      "        31.8149, 35.6255, 34.0631, 34.4563, 31.3870, 32.2011, 32.8492, 34.6551,\n",
      "        34.1647, 36.3503, 32.1622, 30.1492, 34.6180, 33.3806, 29.6612, 33.8842,\n",
      "        35.5476, 35.2300, 35.2210, 33.9639, 34.6465, 33.9718, 31.7944, 33.3039,\n",
      "        33.2822, 33.9512, 34.6493, 33.4365, 31.4435, 36.0159, 36.1394, 30.4099,\n",
      "        31.0720, 34.1858, 36.8471, 32.1022], device='cpu')\n"
     ]
    },
    {
     "data": {
      "image/png": "[encoded data removed]",
      "text/plain": [
       "<Figure size 432x288 with 1 Axes>"
      ]
     },
     "metadata": {
      "tags": []
     },
     "output_type": "display_data"
    },
    {
     "name": "stdout",
     "output_type": "stream",
     "text": [
      "testing time = 1.0980234146118164 seconds\n",
      "\n",
      "Mean = tensor([ 3.2617e+01,  3.2094e+01,  3.1203e+01,  3.0800e+01,  3.0071e+01,\n",
      "         2.8996e+01,  2.8939e+01,  2.8188e+01,  2.7293e+01,  2.6814e+01,\n",
      "         2.5835e+01,  2.5366e+01,  2.4596e+01,  2.4020e+01,  2.3478e+01,\n",
      "         2.2767e+01,  2.2045e+01,  2.1520e+01,  2.0921e+01,  2.0004e+01,\n",
      "         1.9382e+01,  1.8660e+01,  1.7944e+01,  1.7504e+01,  1.6864e+01,\n",
      "         1.6227e+01,  1.5341e+01,  1.5235e+01,  1.3970e+01,  1.3912e+01,\n",
      "         1.2971e+01,  1.2249e+01,  1.1828e+01,  1.1251e+01,  1.0594e+01,\n",
      "         9.5161e+00,  8.7842e+00,  8.4289e+00,  7.4104e+00,  6.8321e+00,\n",
      "         5.8310e+00,  5.1809e+00,  4.4906e+00,  3.9078e+00,  3.0620e+00,\n",
      "         2.2628e+00,  1.8574e+00,  1.1575e+00, -1.4792e-03, -3.1313e-01,\n",
      "        -2.7291e-01, -6.8002e-01, -4.9924e-01, -3.4178e-01,  3.3846e-01,\n",
      "         5.3194e-01,  5.2382e-01,  1.1268e+00,  1.2389e+00,  1.7783e+00,\n",
      "         2.2354e+00,  2.0337e+00,  2.5000e+00,  2.6498e+00,  2.8970e+00,\n",
      "         3.2526e+00,  3.6118e+00,  4.0047e+00,  4.6546e+00,  5.2013e+00,\n",
      "         5.0735e+00,  5.4876e+00,  5.6410e+00,  5.9750e+00,  6.5031e+00,\n",
      "         6.7009e+00,  7.1601e+00,  7.1985e+00,  7.4149e+00,  7.6558e+00,\n",
      "         8.1643e+00,  8.1243e+00,  8.7114e+00,  9.2499e+00,  9.2129e+00,\n",
      "         9.4743e+00,  1.0122e+01,  1.0112e+01,  9.8494e+00,  1.0677e+01,\n",
      "         1.1102e+01,  1.1382e+01,  1.1344e+01,  1.1729e+01,  1.2240e+01,\n",
      "         1.2578e+01,  1.2860e+01,  1.2962e+01,  1.3471e+01,  1.3440e+01],\n",
      "       device='cpu')\n",
      "Variance = tensor([31.4006, 34.1725, 33.5446, 28.9612, 31.3966, 30.9322, 34.3780, 36.6471,\n",
      "        33.0790, 32.6307, 32.1338, 36.0898, 33.2099, 34.0263, 34.3049, 34.9137,\n",
      "        27.9342, 30.0787, 30.1929, 33.1887, 33.9145, 34.0146, 35.0658, 37.3239,\n",
      "        33.4050, 30.8119, 36.3680, 32.1845, 35.5197, 29.5780, 30.6224, 32.1620,\n",
      "        34.1197, 34.5698, 31.6829, 30.6500, 32.6907, 31.6401, 31.2966, 30.1495,\n",
      "        33.4085, 35.3708, 31.4768, 35.4170, 32.5660, 35.9461, 30.7249, 30.8551,\n",
      "        30.2098, 34.3565, 34.5700, 31.2112, 34.0012, 30.0920, 33.5566, 32.7800,\n",
      "        32.0189, 31.6737, 33.1474, 31.1301, 34.8252, 30.1655, 34.1397, 35.4451,\n",
      "        34.0617, 34.1007, 34.9909, 32.0191, 31.4082, 35.9071, 34.8182, 32.5343,\n",
      "        32.2424, 33.1356, 34.6681, 31.5793, 31.0818, 31.3978, 31.3260, 32.8173,\n",
      "        30.6360, 32.7349, 31.0929, 32.2614, 32.2089, 33.1730, 34.8208, 34.2153,\n",
      "        34.2871, 29.8242, 33.1327, 30.7907, 34.3271, 32.5346, 36.2046, 30.9080,\n",
      "        34.4733, 31.6371, 31.8332, 34.1845], device='cpu')\n"
     ]
    },
    {
     "data": {
      "image/png": "[encoded data removed]",
      "text/plain": [
       "<Figure size 432x288 with 1 Axes>"
      ]
     },
     "metadata": {
      "tags": []
     },
     "output_type": "display_data"
    }
   ],
   "source": [
    "for key, network in uncertainty_methods.items():\n",
    "\n",
    "    \"\"\"\n",
    "    Testing\n",
    "    \"\"\"\n",
    "\n",
    "    # Model to eval mode\n",
    "    network.eval()\n",
    "\n",
    "    # Record testing start time (for this split)\n",
    "    tic_testing = time.time()\n",
    "    \n",
    "    predictions_non_mc = network(X_test)\n",
    "\n",
    "    predictions, mean, var, metrics = network.predict_dist(X_test, n_predictions)\n",
    "    \n",
    "    # Record testing end time\n",
    "    toc_testing = time.time()\n",
    "    \n",
    "    # Report the total testing time\n",
    "    print(\"testing time = \" + str(toc_testing - tic_testing) + \" seconds\")\n",
    "\n",
    "    # These can now be stored in CPU memory for plotting\n",
    "    predictions_non_mc = predictions_non_mc.cpu()\n",
    "    predictions = predictions.cpu()\n",
    "    mean = mean.cpu()\n",
    "    var = var.cpu()\n",
    "    \n",
    "    \"\"\"\n",
    "    Print results\n",
    "    \"\"\"\n",
    "\n",
    "    print()\n",
    "    print(\"Mean = \" + str(mean.flatten()))\n",
    "    print(\"Variance = \" + str(var.flatten()))\n",
    "    \n",
    "    # store additional metrics\n",
    "    if len(metrics) > 0:\n",
    "        for key, value in metrics.items():\n",
    "            print(str(key) + \" = \" + str(value))\n",
    "        print()\n",
    "             \n",
    "    # Plot the uncertainty measured by each methods\n",
    "    plt.figure()\n",
    "    \n",
    "    # Fix the scales of x-axis and y-axis\n",
    "    plt.xlim(dataset_toy_x_low, dataset_toy_x_high)\n",
    "    plt.ylim(dataset_toy_y_mean-2*dataset_toy_y_std, dataset_toy_y_mean+2*dataset_toy_y_std)\n",
    "\n",
    "    # Distributions around the predictions\n",
    "    plt.fill_between(\n",
    "        X_test_cpu.flatten(), \n",
    "        (mean.detach().numpy() - 2*torch.sqrt(var).detach().numpy()).flatten(),\n",
    "        (mean.detach().numpy() + 2*torch.sqrt(var).detach().numpy()).flatten(),\n",
    "        color='lightblue', alpha=0.8)\n",
    "\n",
    "    # Train data\n",
    "    plt.plot(dataset.data_x.cpu(), dataset.data_y.cpu(), 'or', label='Training data', alpha=0.3)\n",
    "\n",
    "    # Non-MC prediction\n",
    "    plt.plot(X_test_cpu, predictions_non_mc.detach().numpy(), 'green', label='non-MC prediction', alpha=0.9)    \n",
    "    \n",
    "    # MC prediction\n",
    "    plt.plot(X_test_cpu, mean.detach().numpy(), 'blue', label='mean predictions', alpha=0.45)\n",
    "    \n",
    "    # Original data generating function without noise\n",
    "    plt.plot(X_test_cpu, X_test_cpu ** 3, 'gray', label='data generating function')    \n",
    "    \n",
    "    plt.legend()\n",
    "    \n",
    "    plt.savefig(os.path.join(test_results_path, str(key) + '.png'), dpi=1200)\n",
    "    \n",
    "    plt.show()"
   ]
  },
  {
   "cell_type": "code",
   "execution_count": 0,
   "metadata": {
    "colab": {},
    "colab_type": "code",
    "id": "5m01dZ0dHSYw"
   },
   "outputs": [],
   "source": []
  }
 ],
 "metadata": {
  "accelerator": "GPU",
  "colab": {
   "collapsed_sections": [
    "Bka_bK83VFHh",
    "eEfdrHcOVFIj"
   ],
   "name": "experiment_comparison_toy.ipynb",
   "provenance": []
  },
  "kernelspec": {
   "display_name": "Python 3",
   "language": "python",
   "name": "python3"
  },
  "language_info": {
   "codemirror_mode": {
    "name": "ipython",
    "version": 3
   },
   "file_extension": ".py",
   "mimetype": "text/x-python",
   "name": "python",
   "nbconvert_exporter": "python",
   "pygments_lexer": "ipython3",
   "version": "3.8.0"
  }
 },
 "nbformat": 4,
 "nbformat_minor": 1
}
