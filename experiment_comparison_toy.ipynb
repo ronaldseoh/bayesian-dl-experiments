{
 "cells": [
  {
   "cell_type": "markdown",
   "metadata": {
    "colab_type": "text",
    "id": "Bka_bK83VFHh"
   },
   "source": [
    "## Experiment Setup"
   ]
  },
  {
   "cell_type": "markdown",
   "metadata": {
    "colab_type": "text",
    "id": "8D5NSPs_cJZe"
   },
   "source": [
    "###  Random seed / PyTorch / Colab / CUDA related"
   ]
  },
  {
   "cell_type": "code",
   "execution_count": 1,
   "metadata": {
    "colab": {},
    "colab_type": "code",
    "id": "pHbfpytEVFHu"
   },
   "outputs": [],
   "source": [
    "import time\n",
    "import datetime\n",
    "import importlib\n",
    "import os\n",
    "\n",
    "import torch\n",
    "\n",
    "import numpy as np\n",
    "import matplotlib.pyplot as plt\n",
    "\n",
    "# pyplot setting\n",
    "%matplotlib inline\n",
    "\n",
    "# Use Google Colab\n",
    "use_colab = True\n",
    "\n",
    "# Is this running on Colab?\n",
    "colab_available = importlib.util.find_spec(\"google.colab\") is not None\n",
    "\n",
    "if use_colab and colab_available:\n",
    "    # Mount my Google Drive root folder\n",
    "    from google.colab import drive\n",
    "    drive.mount('/content/drive')\n",
    "    \n",
    "    # Pyro\n",
    "    !pip install pyro-ppl\n",
    "\n",
    "    # cd to bayesian-dl-experiments directory\n",
    "    %cd 'drive/My Drive/Colab Notebooks/bayesian-dl-experiments'\n",
    "    !ls\n",
    "\n",
    "# This needs to be imported after we are done with Colab setting\n",
    "import pyro\n",
    "\n",
    "# IPython reloading magic\n",
    "%load_ext autoreload\n",
    "%autoreload 2\n",
    "\n",
    "# Random seeds\n",
    "# Based on https://pytorch.org/docs/stable/notes/randomness.html\n",
    "random_seed = 682\n",
    "\n",
    "# torch.device / CUDA Setup\n",
    "use_cuda = True\n",
    "\n",
    "if use_cuda and torch.cuda.is_available():\n",
    "    torch_device = torch.device('cuda')\n",
    "    torch.set_default_tensor_type('torch.cuda.FloatTensor') \n",
    "    torch.backends.cudnn.deterministic = True\n",
    "    # Note: https://discuss.pytorch.org/t/what-does-torch-backends-cudnn-benchmark-do/5936\n",
    "    torch.backends.cudnn.benchmark = False\n",
    "    use_pin_memory=True # Faster Host to GPU copies with page-locked memory\n",
    "else:\n",
    "    torch_device = torch.device('cpu')\n",
    "    use_pin_memory=False"
   ]
  },
  {
   "cell_type": "markdown",
   "metadata": {
    "colab_type": "text",
    "id": "XIFRoH3AcJZn"
   },
   "source": [
    "### Variable settings"
   ]
  },
  {
   "cell_type": "code",
   "execution_count": 2,
   "metadata": {
    "colab": {},
    "colab_type": "code",
    "id": "g_pzGq1_cJZp"
   },
   "outputs": [],
   "source": [
    "\"\"\"\n",
    "Toy dataset generation based on the experiment from \n",
    "the Probabilstic Backpropagation paper (Hernandez-Lobato & Adams, 2015)\n",
    "\"\"\"\n",
    "# Random seed for toy dataset\n",
    "dataset_toy_random_seed = 691\n",
    "\n",
    "# Toy dataset size\n",
    "dataset_toy_size = 20\n",
    "\n",
    "# Toy dataset x distribution (uniform) parameters\n",
    "dataset_toy_x_low = -4\n",
    "dataset_toy_x_high = 4\n",
    "\n",
    "# Toy dataset y distribution (normal with noise)\n",
    "dataset_toy_y_mean = 0\n",
    "dataset_toy_y_std = 9\n",
    "\n",
    "# Dropout rate\n",
    "dropout_rate = 0.3\n",
    "\n",
    "# L2 regularization strength\n",
    "reg_strength = 0.5\n",
    "\n",
    "# Epochs\n",
    "n_epochs = 400\n",
    "\n",
    "# Loss function type\n",
    "loss_function_type = 'mse_loss'\n",
    "\n",
    "# Number of test predictions (for each data point)\n",
    "n_predictions = 100"
   ]
  },
  {
   "cell_type": "code",
   "execution_count": 3,
   "metadata": {},
   "outputs": [],
   "source": [
    "# Test start time\n",
    "test_start_time = datetime.datetime.today().strftime('%Y%m%d%H%M')\n",
    "\n",
    "test_results_path = os.path.join(\n",
    "    './test_results',\n",
    "    'comparison_toy',\n",
    "    test_start_time + '_' + str(n_epochs) + '_' + str(dropout_rate) + '_' + str(reg_strength) + '_' + str(loss_function_type) + '_' + str(n_predictions)\n",
    ")\n",
    "\n",
    "os.makedirs(test_results_path)"
   ]
  },
  {
   "cell_type": "markdown",
   "metadata": {
    "colab_type": "text",
    "id": "sZwe_f-yVFIf"
   },
   "source": [
    "## Prepare data"
   ]
  },
  {
   "cell_type": "markdown",
   "metadata": {
    "colab_type": "text",
    "id": "eEfdrHcOVFIj"
   },
   "source": [
    "### Get the data as a torch Dataset object"
   ]
  },
  {
   "cell_type": "code",
   "execution_count": 4,
   "metadata": {
    "colab": {
     "base_uri": "https://localhost:8080/",
     "height": 86
    },
    "colab_type": "code",
    "executionInfo": {
     "elapsed": 4151,
     "status": "ok",
     "timestamp": 1572955505337,
     "user": {
      "displayName": "Ronald Seoh",
      "photoUrl": "",
      "userId": "10284188050297676522"
     },
     "user_tz": 300
    },
    "id": "5u5qU-9JVFIr",
    "outputId": "3d1637a9-39e3-473a-e4be-b40211d444cc"
   },
   "outputs": [
    {
     "name": "stdout",
     "output_type": "stream",
     "text": [
      "dataset size = (20, 1)\n"
     ]
    }
   ],
   "source": [
    "from torch.utils.data import random_split, DataLoader\n",
    "from ronald_bdl import datasets\n",
    "\n",
    "dataset = datasets.ToyDatasets(\n",
    "    random_seed=dataset_toy_random_seed,\n",
    "    n_samples=dataset_toy_size,\n",
    "    x_low=dataset_toy_x_low,\n",
    "    x_high=dataset_toy_x_high,\n",
    "    y_mean=dataset_toy_y_mean,\n",
    "    y_std=dataset_toy_y_std,\n",
    ")\n",
    "\n",
    "# Get the test data\n",
    "X_test = torch.linspace(dataset_toy_x_low, dataset_toy_x_high, 100).reshape(100, 1)\n",
    "\n",
    "# Print the size of the dataset\n",
    "print(\"dataset size = \" + str((len(dataset), dataset.n_features)))"
   ]
  },
  {
   "cell_type": "markdown",
   "metadata": {
    "colab_type": "text",
    "id": "LaasFWpqVFJ1"
   },
   "source": [
    "## Define network"
   ]
  },
  {
   "cell_type": "code",
   "execution_count": 5,
   "metadata": {
    "colab": {
     "base_uri": "https://localhost:8080/",
     "height": 156
    },
    "colab_type": "code",
    "executionInfo": {
     "elapsed": 6671,
     "status": "ok",
     "timestamp": 1572955507874,
     "user": {
      "displayName": "Ronald Seoh",
      "photoUrl": "",
      "userId": "10284188050297676522"
     },
     "user_tz": 300
    },
    "id": "gAqkGtg7VFJ9",
    "outputId": "0db0dd2f-92f2-4502-c035-917ba1eab35d"
   },
   "outputs": [],
   "source": [
    "from ronald_bdl import models\n",
    "\n",
    "uncertainty_methods = {}\n",
    "\n",
    "# MC (Bernoulli) dropout\n",
    "uncertainty_methods['mc_dropout'] = models.FCNetMCDropout(\n",
    "    input_dim=dataset.n_features, \n",
    "    output_dim=dataset.n_targets,\n",
    "    hidden_dim=100,\n",
    "    n_hidden=0,\n",
    "    dropout_rate=dropout_rate,\n",
    "    dropout_type='bernoulli',\n",
    ")\n",
    "\n",
    "# Vanilla Variational Inference\n",
    "#uncertainty_methods['variational_inference'] = models.FCNetPyro(\n",
    "#    input_dim=dataset.n_features, \n",
    "#   output_dim=dataset.n_targets,\n",
    "#    hidden_dim=100,\n",
    "#    n_hidden=0,\n",
    "#)\n",
    "\n",
    "# HMC (NUTS)\n",
    "#uncertainty_methods['hmc'] = models.FCNetPyro(\n",
    "#    input_dim=dataset.n_features, \n",
    "#    output_dim=dataset.n_targets,\n",
    "#    hidden_dim=100,\n",
    "#    n_hidden=0,\n",
    "#)"
   ]
  },
  {
   "cell_type": "markdown",
   "metadata": {
    "colab_type": "text",
    "id": "1PpzPMI8VFKE"
   },
   "source": [
    "## Train the network"
   ]
  },
  {
   "cell_type": "markdown",
   "metadata": {
    "colab_type": "text",
    "id": "Jc7Td1h1VFKb"
   },
   "source": [
    "### Train/test the model"
   ]
  },
  {
   "cell_type": "code",
   "execution_count": 6,
   "metadata": {
    "colab": {
     "base_uri": "https://localhost:8080/",
     "height": 1000
    },
    "colab_type": "code",
    "executionInfo": {
     "elapsed": 1731463,
     "status": "ok",
     "timestamp": 1572957232698,
     "user": {
      "displayName": "Ronald Seoh",
      "photoUrl": "",
      "userId": "10284188050297676522"
     },
     "user_tz": 300
    },
    "id": "m4kavCiTVFKf",
    "outputId": "62aa76cb-701a-4cdc-d1e3-877ae60252cf",
    "scrolled": false
   },
   "outputs": [
    {
     "name": "stdout",
     "output_type": "stream",
     "text": [
      "Now running mc_dropout\n",
      "FCNetMCDropout(\n",
      "  (input): Sequential(\n",
      "    (0): Linear(in_features=1, out_features=100, bias=True)\n",
      "    (1): Dropout(p=0.3, inplace=False)\n",
      "  )\n",
      "  (output): Linear(in_features=100, out_features=1, bias=True)\n",
      ")\n",
      "\n",
      "[iteration 0001] loss: 591.9152\n",
      "[iteration 0101] loss: 142.9469\n",
      "[iteration 0201] loss: 127.0404\n",
      "[iteration 0301] loss: 112.5177\n",
      "final loss = tensor(77.3976, grad_fn=<MseLossBackward>)\n",
      "training time = 1.2794010639190674 seconds\n",
      "\n"
     ]
    }
   ],
   "source": [
    "from pyro.infer import EmpiricalMarginal, SVI, Trace_ELBO, NUTS, MCMC\n",
    "\n",
    "for key, network in uncertainty_methods.items():\n",
    "    \n",
    "    # Reset the random number generator for each method (to produce identical results)\n",
    "    torch.manual_seed(random_seed)\n",
    "    np.random.seed(random_seed)\n",
    "    pyro.set_rng_seed(random_seed)\n",
    "    \n",
    "    # Print the method name\n",
    "    print(\"Now running \" + str(key))\n",
    "    \n",
    "    # Send the whole model to the selected torch.device\n",
    "    network.to(torch_device)\n",
    "\n",
    "    # Print the network structure\n",
    "    print(network)\n",
    "    print()\n",
    "\n",
    "    train_loader = DataLoader(dataset, batch_size=len(dataset))\n",
    "    \n",
    "    # Optimizer setup\n",
    "    if isinstance(network, models.FCNetMCDropout):\n",
    "        # Adam optimizer\n",
    "        # https://pytorch.org/docs/stable/optim.html?highlight=adam#torch.optim.Adam\n",
    "        # NOTE: Need to set L2 regularization from here\n",
    "        optimizer = torch.optim.Adam(\n",
    "            network.parameters(),\n",
    "            lr=0.01,\n",
    "            weight_decay=reg_strength, # L2 regularization\n",
    "        )\n",
    "\n",
    "        # Mean Squared Error for loss function to minimize\n",
    "        objective = torch.nn.MSELoss()\n",
    "\n",
    "    elif isinstance(network, models.FCNetPyro):\n",
    "        if key == 'variational_inference':\n",
    "            optimizer = pyro.optim.Adam({\"lr\": 0.01})\n",
    "            svi = SVI(network.model, network.guide, optimizer, loss=Trace_ELBO(), num_samples=1000)\n",
    "        elif key == 'hmc':\n",
    "            nuts_kernel = NUTS(network.model)\n",
    "            mcmc = MCMC(nuts_kernel, num_samples=30000, warmup_steps=None)\n",
    "            \n",
    "        pyro.clear_param_store()\n",
    "    \n",
    "    \"\"\"\n",
    "    Training\n",
    "    \"\"\"\n",
    "    # Model to train mode\n",
    "    network.train()\n",
    "\n",
    "    # Record training start time (for this method)\n",
    "    tic = time.time()\n",
    "    \n",
    "    if key == 'hmc':\n",
    "        dataset.data_x.to(torch_device)\n",
    "        dataset.data_y.to(torch_device)\n",
    "        mcmc.run(dataset.data_x, dataset.data_y)\n",
    "    else:\n",
    "        for epoch in range(n_epochs): # loop over the dataset multiple times\n",
    "\n",
    "            for i, data in enumerate(train_loader):\n",
    "                # get the inputs; data is a list of [inputs, labels]\n",
    "                inputs, targets = data\n",
    "\n",
    "                # Store the batch to torch_device's memory\n",
    "                inputs = inputs.to(torch_device)\n",
    "                targets = targets.to(torch_device)\n",
    "\n",
    "                if isinstance(network, models.FCNetMCDropout):\n",
    "                    # zero the parameter gradients\n",
    "                    optimizer.zero_grad()\n",
    "\n",
    "                    # forward + backward + optimize\n",
    "                    outputs = network(inputs)\n",
    "\n",
    "                    if loss_function_type == 'test_ll_mc':\n",
    "                        _, _, _, metrics = network.predict_dist(\n",
    "                            inputs, n_predictions, y_test=targets, reg_strength=reg_strength)\n",
    "\n",
    "                        total_loss = -(metrics['test_ll_mc'])\n",
    "                    \n",
    "                    else:\n",
    "                        total_loss = objective(outputs, targets)\n",
    "\n",
    "                    total_loss.backward()\n",
    "\n",
    "                    optimizer.step()\n",
    "\n",
    "                elif isinstance(network, models.FCNetPyro):\n",
    "                    pyro.clear_param_store()\n",
    "                    # calculate the loss and take a gradient step\n",
    "                    total_loss = svi.step(inputs, targets)\n",
    "\n",
    "            if epoch % 100 == 0:\n",
    "                print(\"[iteration %04d] loss: %.4f\" % (epoch + 1, total_loss))\n",
    "            \n",
    "    # Record training end time\n",
    "    toc = time.time()\n",
    "\n",
    "    # Report the final loss\n",
    "    print(\"final loss = \" + str(total_loss))            \n",
    "\n",
    "    # Report the total training time\n",
    "    print(\"training time = \" + str(toc - tic) + \" seconds\")\n",
    "    \n",
    "    print()"
   ]
  },
  {
   "cell_type": "code",
   "execution_count": 7,
   "metadata": {
    "scrolled": false
   },
   "outputs": [
    {
     "name": "stdout",
     "output_type": "stream",
     "text": [
      "testing time = 4.009077310562134 seconds\n",
      "\n",
      "Mean = tensor([-4.1713e+01, -4.0525e+01, -3.9399e+01, -3.8164e+01, -3.7020e+01,\n",
      "        -3.5841e+01, -3.4587e+01, -3.3494e+01, -3.2235e+01, -3.1092e+01,\n",
      "        -2.9867e+01, -2.8718e+01, -2.7523e+01, -2.6326e+01, -2.5075e+01,\n",
      "        -2.3930e+01, -2.2779e+01, -2.1533e+01, -2.0378e+01, -1.9207e+01,\n",
      "        -1.8022e+01, -1.6827e+01, -1.5618e+01, -1.4415e+01, -1.3261e+01,\n",
      "        -1.2062e+01, -1.0893e+01, -9.6873e+00, -8.6049e+00, -7.6000e+00,\n",
      "        -6.6867e+00, -5.8353e+00, -5.0511e+00, -4.3307e+00, -3.7198e+00,\n",
      "        -3.1462e+00, -2.5660e+00, -2.0097e+00, -1.5140e+00, -1.1197e+00,\n",
      "        -7.7446e-01, -5.0262e-01, -2.4068e-01, -2.5851e-02,  1.6726e-01,\n",
      "         3.4400e-01,  4.7791e-01,  5.9457e-01,  7.1516e-01,  8.4581e-01,\n",
      "         1.0025e+00,  1.1564e+00,  1.3134e+00,  1.4896e+00,  1.6782e+00,\n",
      "         1.8680e+00,  2.0589e+00,  2.2501e+00,  2.4389e+00,  2.6271e+00,\n",
      "         2.8207e+00,  3.0104e+00,  3.2019e+00,  3.4008e+00,  3.6101e+00,\n",
      "         3.7954e+00,  4.0343e+00,  4.2852e+00,  4.5632e+00,  5.0241e+00,\n",
      "         5.5579e+00,  6.1256e+00,  6.7646e+00,  7.4146e+00,  8.2708e+00,\n",
      "         9.4443e+00,  1.0750e+01,  1.2188e+01,  1.3732e+01,  1.5246e+01,\n",
      "         1.6769e+01,  1.8336e+01,  1.9858e+01,  2.1361e+01,  2.2843e+01,\n",
      "         2.4406e+01,  2.5994e+01,  2.7494e+01,  2.8998e+01,  3.0554e+01,\n",
      "         3.2057e+01,  3.3598e+01,  3.5139e+01,  3.6665e+01,  3.8201e+01,\n",
      "         3.9726e+01,  4.1208e+01,  4.2727e+01,  4.4225e+01,  4.5821e+01],\n",
      "       grad_fn=<ViewBackward>)\n",
      "Variance = tensor([2.3367e+01, 2.2121e+01, 2.0181e+01, 1.9421e+01, 1.8088e+01, 1.6642e+01,\n",
      "        1.5885e+01, 1.4792e+01, 1.3789e+01, 1.2923e+01, 1.1932e+01, 1.0892e+01,\n",
      "        1.0135e+01, 9.3362e+00, 8.5787e+00, 7.5702e+00, 6.9186e+00, 6.3356e+00,\n",
      "        5.6988e+00, 5.0089e+00, 4.4377e+00, 3.9012e+00, 3.4277e+00, 2.9940e+00,\n",
      "        2.6371e+00, 2.2038e+00, 1.8625e+00, 1.5877e+00, 1.3444e+00, 1.1070e+00,\n",
      "        9.2327e-01, 7.6937e-01, 6.3730e-01, 5.0865e-01, 4.1754e-01, 3.2386e-01,\n",
      "        2.4796e-01, 1.9971e-01, 1.5367e-01, 1.1315e-01, 8.6904e-02, 6.5178e-02,\n",
      "        5.0236e-02, 3.7311e-02, 2.8034e-02, 2.2890e-02, 1.9833e-02, 1.9487e-02,\n",
      "        2.0153e-02, 2.1398e-02, 2.4704e-02, 2.9814e-02, 3.5148e-02, 4.2000e-02,\n",
      "        5.2605e-02, 6.3015e-02, 7.6008e-02, 9.0692e-02, 1.0440e-01, 1.2377e-01,\n",
      "        1.4683e-01, 1.6676e-01, 1.8874e-01, 2.1861e-01, 2.4013e-01, 2.7411e-01,\n",
      "        2.9813e-01, 3.4097e-01, 3.6960e-01, 4.1497e-01, 5.0007e-01, 5.6855e-01,\n",
      "        6.5398e-01, 8.0118e-01, 9.2550e-01, 1.1733e+00, 1.4039e+00, 1.6819e+00,\n",
      "        2.1470e+00, 2.5249e+00, 3.1252e+00, 3.7703e+00, 4.3651e+00, 5.1075e+00,\n",
      "        5.8652e+00, 6.8289e+00, 7.8984e+00, 8.8543e+00, 1.0078e+01, 1.0739e+01,\n",
      "        1.2285e+01, 1.3845e+01, 1.5559e+01, 1.6477e+01, 1.8125e+01, 1.9737e+01,\n",
      "        2.1290e+01, 2.2978e+01, 2.5579e+01, 2.6687e+01],\n",
      "       grad_fn=<ViewBackward>)\n"
     ]
    },
    {
     "data": {
      "image/png": "[encoded data removed]",
      "text/plain": [
       "<Figure size 432x288 with 1 Axes>"
      ]
     },
     "metadata": {
      "needs_background": "light"
     },
     "output_type": "display_data"
    }
   ],
   "source": [
    "for key, network in uncertainty_methods.items():\n",
    "\n",
    "    \"\"\"\n",
    "    Testing\n",
    "    \"\"\"\n",
    "\n",
    "    # Model to eval mode\n",
    "    network.eval()\n",
    "\n",
    "    # Record testing start time (for this split)\n",
    "    tic_testing = time.time()    \n",
    "    \n",
    "    predictions, mean, var, metrics = network.predict_dist(X_test, 10000)\n",
    "    \n",
    "    # Record testing end time\n",
    "    toc_testing = time.time()\n",
    "    \n",
    "    # Report the total testing time\n",
    "    print(\"testing time = \" + str(toc_testing - tic_testing) + \" seconds\")\n",
    "    \n",
    "    \"\"\"\n",
    "    Print results\n",
    "    \"\"\"\n",
    "    print()\n",
    "    print(\"Mean = \" + str(mean.flatten()))\n",
    "    print(\"Variance = \" + str(var.flatten()))\n",
    "    \n",
    "    # store additional metrics\n",
    "    if len(metrics) > 0:\n",
    "        for key, value in metrics.items():\n",
    "            print(str(key) + \" = \" + str(value))\n",
    "        print()\n",
    "             \n",
    "    # Plot the uncertainty measured by each methods\n",
    "    plt.figure()\n",
    "    \n",
    "    # Fix the scales of x-axis and y-axis\n",
    "    plt.xlim(dataset_toy_x_low, dataset_toy_x_high)\n",
    "    plt.ylim(dataset_toy_y_mean-2*dataset_toy_y_std, dataset_toy_y_mean+2*dataset_toy_y_std)\n",
    "\n",
    "    # Distributions around the predictions\n",
    "    plt.fill_between(X_test.flatten(), (mean.detach().numpy() - 2*torch.sqrt(var).detach().numpy()).flatten(), (mean.detach().numpy() + 2*torch.sqrt(var).detach().numpy()).flatten(),\n",
    "                     color='lightblue', alpha=0.5)\n",
    "\n",
    "    # Train data\n",
    "    plt.plot(dataset.data_x, dataset.data_y, 'or', label='Training data')\n",
    "\n",
    "    # MC prediction\n",
    "    plt.plot(X_test, mean.detach().numpy(), 'blue', label='mean predictions')\n",
    "    \n",
    "    # Original data generating function without noise\n",
    "    plt.plot(X_test, X_test ** 3, 'gray', label='data generating function')    \n",
    "    \n",
    "    plt.legend()\n",
    "    \n",
    "    plt.savefig(os.path.join(test_results_path, str(key) + '.png'))\n",
    "    \n",
    "    plt.show()"
   ]
  },
  {
   "cell_type": "code",
   "execution_count": null,
   "metadata": {},
   "outputs": [],
   "source": []
  }
 ],
 "metadata": {
  "accelerator": "GPU",
  "colab": {
   "collapsed_sections": [],
   "name": "experiments.ipynb",
   "provenance": []
  },
  "kernelspec": {
   "display_name": "Python 3",
   "language": "python",
   "name": "python3"
  },
  "language_info": {
   "codemirror_mode": {
    "name": "ipython",
    "version": 3
   },
   "file_extension": ".py",
   "mimetype": "text/x-python",
   "name": "python",
   "nbconvert_exporter": "python",
   "pygments_lexer": "ipython3",
   "version": "3.6.8"
  }
 },
 "nbformat": 4,
 "nbformat_minor": 1
}
