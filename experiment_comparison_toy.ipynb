{
 "cells": [
  {
   "cell_type": "markdown",
   "metadata": {
    "colab_type": "text",
    "id": "Bka_bK83VFHh"
   },
   "source": [
    "## Experiment Setup"
   ]
  },
  {
   "cell_type": "markdown",
   "metadata": {
    "colab_type": "text",
    "id": "8D5NSPs_cJZe"
   },
   "source": [
    "###  Random seed / Colab / CUDA related"
   ]
  },
  {
   "cell_type": "code",
   "execution_count": 1,
   "metadata": {
    "colab": {
     "base_uri": "https://localhost:8080/",
     "height": 592
    },
    "colab_type": "code",
    "executionInfo": {
     "elapsed": 32214,
     "status": "ok",
     "timestamp": 1575021332527,
     "user": {
      "displayName": "Ronald Seoh",
      "photoUrl": "",
      "userId": "10284188050297676522"
     },
     "user_tz": 300
    },
    "id": "pHbfpytEVFHu",
    "outputId": "7913f72d-859c-477f-90b8-6c37e04f5759"
   },
   "outputs": [],
   "source": [
    "import time\n",
    "import datetime\n",
    "import os\n",
    "import sys\n",
    "import itertools\n",
    "\n",
    "# Use Google Colab\n",
    "use_colab = True\n",
    "\n",
    "# Is this notebook running on Colab?\n",
    "# If so, then google.colab package (github.com/googlecolab/colabtools)\n",
    "# should be available in this environment\n",
    "\n",
    "# Previous version used importlib, but we could do the same thing with\n",
    "# just attempting to import google.colab\n",
    "try:\n",
    "    from google.colab import drive\n",
    "    colab_available = True\n",
    "except:\n",
    "    colab_available = False\n",
    "\n",
    "if use_colab and colab_available:\n",
    "    drive.mount('/content/drive')\n",
    "    \n",
    "    # If there's a package I need to install separately, do it here\n",
    "    !pip install pyro-ppl\n",
    "\n",
    "    # cd to the appropriate working directory under my Google Drive\n",
    "    %cd 'drive/My Drive/Colab Notebooks/bayesian-dl-experiments'\n",
    "    \n",
    "    # List the directory contents\n",
    "    !ls\n",
    "\n",
    "# IPython reloading magic\n",
    "%load_ext autoreload\n",
    "%autoreload 2\n",
    "\n",
    "# Random seeds\n",
    "# Based on https://pytorch.org/docs/stable/notes/randomness.html\n",
    "random_seed = 682"
   ]
  },
  {
   "cell_type": "markdown",
   "metadata": {
    "colab_type": "text",
    "id": "L8udq6NnHSXW"
   },
   "source": [
    "### Third party libraries (NumPy, PyTorch, Pyro)"
   ]
  },
  {
   "cell_type": "code",
   "execution_count": 2,
   "metadata": {
    "colab": {
     "base_uri": "https://localhost:8080/",
     "height": 104
    },
    "colab_type": "code",
    "executionInfo": {
     "elapsed": 35929,
     "status": "ok",
     "timestamp": 1575021336266,
     "user": {
      "displayName": "Ronald Seoh",
      "photoUrl": "",
      "userId": "10284188050297676522"
     },
     "user_tz": 300
    },
    "id": "BOJA1nXgHSXa",
    "outputId": "e2c1368a-d446-42c6-b971-155962116ceb"
   },
   "outputs": [
    {
     "name": "stdout",
     "output_type": "stream",
     "text": [
      "Python Version: 3.8.0 (v3.8.0:fa919fdf25, Oct 14 2019, 10:23:27) \n",
      "[Clang 6.0 (clang-600.0.57)]\n",
      "NumPy Version: 1.17.4\n",
      "PyTorch Version: 1.4.0a0+328ec54\n",
      "Pyro Version: 1.0.0\n"
     ]
    }
   ],
   "source": [
    "# Third party libraries import\n",
    "import numpy as np\n",
    "import torch\n",
    "import pyro\n",
    "import matplotlib.pyplot as plt\n",
    "import tqdm\n",
    "\n",
    "# Print version information\n",
    "print(\"Python Version: \" + sys.version)\n",
    "print(\"NumPy Version: \" + np.__version__)\n",
    "print(\"PyTorch Version: \" + torch.__version__)\n",
    "print(\"Pyro Version: \" + pyro.__version__)"
   ]
  },
  {
   "cell_type": "code",
   "execution_count": 3,
   "metadata": {
    "colab": {
     "base_uri": "https://localhost:8080/",
     "height": 86
    },
    "colab_type": "code",
    "executionInfo": {
     "elapsed": 44842,
     "status": "ok",
     "timestamp": 1575021345196,
     "user": {
      "displayName": "Ronald Seoh",
      "photoUrl": "",
      "userId": "10284188050297676522"
     },
     "user_tz": 300
    },
    "id": "BOIqWi_wHSXi",
    "outputId": "b658d6b3-5990-4d42-f71e-f8cbff718437"
   },
   "outputs": [],
   "source": [
    "# More imports...\n",
    "from torch import nn, optim\n",
    "from torch.utils.data import random_split, DataLoader, RandomSampler\n",
    "import torchvision\n",
    "import torchvision.transforms as transforms\n",
    "from pyro.infer import SVI, Trace_ELBO, HMC, MCMC\n",
    "\n",
    "# Import model and dataset classes from ronald_bdl\n",
    "from ronald_bdl import models, datasets\n",
    "from ronald_bdl.models import utils\n",
    "\n",
    "# pyplot setting\n",
    "%matplotlib inline\n",
    "\n",
    "# torch.device / CUDA Setup\n",
    "use_cuda = True\n",
    "\n",
    "if use_cuda and torch.cuda.is_available():\n",
    "    torch_device = torch.device('cuda')\n",
    "\n",
    "    torch.backends.cudnn.deterministic = True\n",
    "    # Disable 'benchmark' mode\n",
    "    # Note: https://discuss.pytorch.org/t/what-does-torch-backends-cudnn-benchmark-do/5936\n",
    "    torch.backends.cudnn.benchmark = False\n",
    "    use_pin_memory = True # Faster Host to GPU copies with page-locked memory\n",
    "\n",
    "    # CUDA libraries version information\n",
    "    print(\"CUDA Version: \" + str(torch.version.cuda))\n",
    "    print(\"cuDNN Version: \" + str(torch.backends.cudnn.version()))\n",
    "    print(\"CUDA Device Name: \" + str(torch.cuda.get_device_name()))\n",
    "    print(\"CUDA Capabilities: \"+ str(torch.cuda.get_device_capability()))\n",
    "else:\n",
    "    torch_device = torch.device('cpu')\n",
    "    use_pin_memory = False"
   ]
  },
  {
   "cell_type": "markdown",
   "metadata": {
    "colab_type": "text",
    "id": "XIFRoH3AcJZn"
   },
   "source": [
    "### Toy dataset settings"
   ]
  },
  {
   "cell_type": "code",
   "execution_count": 4,
   "metadata": {
    "colab": {},
    "colab_type": "code",
    "id": "g_pzGq1_cJZp"
   },
   "outputs": [],
   "source": [
    "\"\"\"\n",
    "Toy dataset generation based on the experiment from \n",
    "the Probabilstic Backpropagation paper (Hernandez-Lobato & Adams, 2015)\n",
    "\"\"\"\n",
    "\n",
    "# Random seed for toy dataset\n",
    "dataset_toy_random_seed = 691\n",
    "\n",
    "# Toy dataset size\n",
    "dataset_toy_size = 20\n",
    "\n",
    "# Toy dataset x distribution (uniform) parameters\n",
    "dataset_toy_x_low = -4\n",
    "dataset_toy_x_high = 4\n",
    "\n",
    "# Toy dataset y distribution (normal with noise)\n",
    "dataset_toy_y_mean = 0\n",
    "dataset_toy_y_std = 9"
   ]
  },
  {
   "cell_type": "markdown",
   "metadata": {
    "colab_type": "text",
    "id": "Kdi_LQ7sspvM"
   },
   "source": [
    "### MC dropout parameters"
   ]
  },
  {
   "cell_type": "code",
   "execution_count": 5,
   "metadata": {
    "colab": {},
    "colab_type": "code",
    "id": "0ys_GAWtHSX4"
   },
   "outputs": [
    {
     "name": "stdout",
     "output_type": "stream",
     "text": [
      "reg_strength = tensor(9.0000e-06)\n"
     ]
    }
   ],
   "source": [
    "\"\"\"\n",
    "MC Dropout related\n",
    "\"\"\"\n",
    "\n",
    "# Dropout rate\n",
    "dropout_rate = 0.1\n",
    "\n",
    "# Length scale\n",
    "length_scale = 1e-2\n",
    "\n",
    "# tau\n",
    "tau = 0.25\n",
    "\n",
    "# reg strength\n",
    "reg_strength = utils.reg_strength(dropout_rate, length_scale, dataset_toy_size, tau)\n",
    "\n",
    "print('reg_strength = ' + str(reg_strength))\n",
    "\n",
    "# Epochs\n",
    "n_epochs = 4000\n",
    "\n",
    "# Optimizer learning rate\n",
    "learning_rate = 0.001\n",
    "\n",
    "# Loss function type\n",
    "loss_function_type = 'mse_loss'\n",
    "\n",
    "# Number of test predictions (for each data point)\n",
    "n_predictions = 1000"
   ]
  },
  {
   "cell_type": "markdown",
   "metadata": {
    "colab_type": "text",
    "id": "DNGDKiltsux3"
   },
   "source": [
    "### Directory path to save results"
   ]
  },
  {
   "cell_type": "code",
   "execution_count": 6,
   "metadata": {
    "colab": {},
    "colab_type": "code",
    "id": "9ysu9G0FHSX-"
   },
   "outputs": [],
   "source": [
    "# Test start time\n",
    "test_start_time = datetime.datetime.today().strftime('%Y%m%d%H%M')\n",
    "\n",
    "# Directory to store the results for this experiment\n",
    "test_results_path = os.path.join(\n",
    "    './test_results',\n",
    "    'comparison_toy',\n",
    "    (\n",
    "        test_start_time \n",
    "        + '_' + str(n_epochs) \n",
    "        + '_' + str(dropout_rate) \n",
    "        + '_' + str(length_scale)\n",
    "        + '_' + str(tau)\n",
    "        + '_' + str(loss_function_type) \n",
    "        + '_' + str(n_predictions))\n",
    ")\n",
    "\n",
    "# Create the directory if it doesn't exist\n",
    "os.makedirs(test_results_path, exist_ok=True)"
   ]
  },
  {
   "cell_type": "markdown",
   "metadata": {
    "colab_type": "text",
    "id": "sZwe_f-yVFIf"
   },
   "source": [
    "## Prepare data"
   ]
  },
  {
   "cell_type": "markdown",
   "metadata": {
    "colab_type": "text",
    "id": "eEfdrHcOVFIj"
   },
   "source": [
    "### Get the data as a torch Dataset object"
   ]
  },
  {
   "cell_type": "code",
   "execution_count": 7,
   "metadata": {
    "colab": {
     "base_uri": "https://localhost:8080/",
     "height": 34
    },
    "colab_type": "code",
    "executionInfo": {
     "elapsed": 51278,
     "status": "ok",
     "timestamp": 1575021351670,
     "user": {
      "displayName": "Ronald Seoh",
      "photoUrl": "",
      "userId": "10284188050297676522"
     },
     "user_tz": 300
    },
    "id": "5u5qU-9JVFIr",
    "outputId": "480ccb60-6d74-46ec-dc61-e7689ebdb300"
   },
   "outputs": [
    {
     "name": "stdout",
     "output_type": "stream",
     "text": [
      "dataset size = (20, 1)\n"
     ]
    }
   ],
   "source": [
    "dataset = datasets.ToyDatasets(\n",
    "    random_seed=dataset_toy_random_seed,\n",
    "    n_samples=dataset_toy_size,\n",
    "    x_low=dataset_toy_x_low,\n",
    "    x_high=dataset_toy_x_high,\n",
    "    y_mean=dataset_toy_y_mean,\n",
    "    y_std=dataset_toy_y_std,\n",
    ")\n",
    "\n",
    "# Get the test data\n",
    "X_test = torch.linspace(dataset_toy_x_low-5, dataset_toy_x_high+5, 100).reshape(100, 1)\n",
    "y_test = torch.pow(X_test, 3)\n",
    "\n",
    "# Send it to the memory of the device to be used for training\n",
    "X_test = X_test.to(torch_device)\n",
    "\n",
    "y_test = y_test.to(torch_device)\n",
    "\n",
    "# Save a copy at CPU for plotting\n",
    "X_test_cpu = X_test.cpu()\n",
    "\n",
    "# Print the size of the training set\n",
    "print(\"dataset size = \" + str((len(dataset), dataset.n_features)))"
   ]
  },
  {
   "cell_type": "markdown",
   "metadata": {
    "colab_type": "text",
    "id": "LaasFWpqVFJ1"
   },
   "source": [
    "## Declare models"
   ]
  },
  {
   "cell_type": "code",
   "execution_count": 8,
   "metadata": {
    "colab": {},
    "colab_type": "code",
    "id": "gAqkGtg7VFJ9"
   },
   "outputs": [],
   "source": [
    "uncertainty_methods = {}\n",
    "\n",
    "# MC (Bernoulli) dropout\n",
    "do_mc_dropout = True\n",
    "\n",
    "if do_mc_dropout:\n",
    "    uncertainty_methods['mc_dropout_relu'] = models.FCNet(\n",
    "        input_dim=dataset.n_features, \n",
    "        output_dim=dataset.n_targets,\n",
    "        hidden_dim=100,\n",
    "        n_hidden=0,\n",
    "        dropout_rate=dropout_rate,\n",
    "        dropout_type='bernoulli',\n",
    "    )\n",
    "    \n",
    "    uncertainty_methods['mc_dropout_tanh'] = models.FCNet(\n",
    "        input_dim=dataset.n_features, \n",
    "        output_dim=dataset.n_targets,\n",
    "        hidden_dim=100,\n",
    "        n_hidden=0,\n",
    "        dropout_rate=dropout_rate,\n",
    "        dropout_type='bernoulli',\n",
    "        nonlinear_type='tanh',\n",
    "    )\n",
    "    \n",
    "    uncertainty_methods['mc_dropout_sigmoid'] = models.FCNet(\n",
    "        input_dim=dataset.n_features, \n",
    "        output_dim=dataset.n_targets,\n",
    "        hidden_dim=100,\n",
    "        n_hidden=0,\n",
    "        dropout_rate=dropout_rate,\n",
    "        dropout_type='bernoulli',\n",
    "        nonlinear_type='sigmoid',\n",
    "    )\n",
    "\n",
    "# Vanilla Variational Inference\n",
    "do_vi = False\n",
    "\n",
    "if do_vi:\n",
    "    uncertainty_methods['vi'] = models.FCNetPyro(\n",
    "        input_dim=dataset.n_features, \n",
    "        output_dim=dataset.n_targets,\n",
    "        hidden_dim=100,\n",
    "        n_hidden=0,\n",
    "        torch_device=torch_device,\n",
    "    )\n",
    "\n",
    "# HMC\n",
    "do_hmc = False\n",
    "\n",
    "if do_hmc:\n",
    "    uncertainty_methods['hmc'] = models.FCNetPyro(\n",
    "        input_dim=dataset.n_features, \n",
    "        output_dim=dataset.n_targets,\n",
    "        hidden_dim=100,\n",
    "        n_hidden=0,\n",
    "        torch_device=torch_device,\n",
    "    )"
   ]
  },
  {
   "cell_type": "markdown",
   "metadata": {
    "colab_type": "text",
    "id": "1PpzPMI8VFKE"
   },
   "source": [
    "## Train the models"
   ]
  },
  {
   "cell_type": "markdown",
   "metadata": {
    "colab_type": "text",
    "id": "Jc7Td1h1VFKb"
   },
   "source": [
    "### Train/test the model"
   ]
  },
  {
   "cell_type": "code",
   "execution_count": 9,
   "metadata": {
    "colab": {
     "base_uri": "https://localhost:8080/",
     "height": 903
    },
    "colab_type": "code",
    "executionInfo": {
     "elapsed": 1213641,
     "status": "ok",
     "timestamp": 1575022514055,
     "user": {
      "displayName": "Ronald Seoh",
      "photoUrl": "",
      "userId": "10284188050297676522"
     },
     "user_tz": 300
    },
    "id": "m4kavCiTVFKf",
    "outputId": "6731cdaf-71b9-4709-fd78-45fb2b335a05",
    "scrolled": false
   },
   "outputs": [
    {
     "name": "stderr",
     "output_type": "stream",
     "text": [
      "[iteration 0002] loss: 577.0756:   0%|          | 0/4000 [00:00<?, ?it/s]"
     ]
    },
    {
     "name": "stdout",
     "output_type": "stream",
     "text": [
      "Now running mc_dropout_relu\n",
      "FCNet(\n",
      "  (input): ModuleDict(\n",
      "    (dropout): Dropout(p=0.1, inplace=False)\n",
      "    (linear): Linear(in_features=1, out_features=100, bias=True)\n",
      "    (nonlinear): ReLU()\n",
      "  )\n",
      "  (output): ModuleDict(\n",
      "    (dropout): Dropout(p=0.1, inplace=False)\n",
      "    (linear): Linear(in_features=100, out_features=1, bias=True)\n",
      "  )\n",
      ")\n",
      "\n"
     ]
    },
    {
     "name": "stderr",
     "output_type": "stream",
     "text": [
      "[iteration 4000] loss: 77.7754: 100%|██████████| 4000/4000 [00:32<00:00, 122.85it/s] \n",
      "[iteration 0015] loss: 552.7277:   0%|          | 8/4000 [00:00<00:56, 70.21it/s]"
     ]
    },
    {
     "name": "stdout",
     "output_type": "stream",
     "text": [
      "final loss = tensor(77.7754, grad_fn=<MseLossBackward>)\n",
      "training time = 32.57793307304382 seconds\n",
      "\n",
      "Now running mc_dropout_tanh\n",
      "FCNet(\n",
      "  (input): ModuleDict(\n",
      "    (dropout): Dropout(p=0.1, inplace=False)\n",
      "    (linear): Linear(in_features=1, out_features=100, bias=True)\n",
      "    (nonlinear): Tanh()\n",
      "  )\n",
      "  (output): ModuleDict(\n",
      "    (dropout): Dropout(p=0.1, inplace=False)\n",
      "    (linear): Linear(in_features=100, out_features=1, bias=True)\n",
      "  )\n",
      ")\n",
      "\n"
     ]
    },
    {
     "name": "stderr",
     "output_type": "stream",
     "text": [
      "[iteration 4000] loss: 83.5670: 100%|██████████| 4000/4000 [00:32<00:00, 122.72it/s] \n",
      "[iteration 0025] loss: 571.3314:   0%|          | 13/4000 [00:00<00:31, 126.85it/s]"
     ]
    },
    {
     "name": "stdout",
     "output_type": "stream",
     "text": [
      "final loss = tensor(83.5670, grad_fn=<MseLossBackward>)\n",
      "training time = 32.60076022148132 seconds\n",
      "\n",
      "Now running mc_dropout_sigmoid\n",
      "FCNet(\n",
      "  (input): ModuleDict(\n",
      "    (dropout): Dropout(p=0.1, inplace=False)\n",
      "    (linear): Linear(in_features=1, out_features=100, bias=True)\n",
      "    (nonlinear): Sigmoid()\n",
      "  )\n",
      "  (output): ModuleDict(\n",
      "    (dropout): Dropout(p=0.1, inplace=False)\n",
      "    (linear): Linear(in_features=100, out_features=1, bias=True)\n",
      "  )\n",
      ")\n",
      "\n"
     ]
    },
    {
     "name": "stderr",
     "output_type": "stream",
     "text": [
      "[iteration 4000] loss: 140.0379: 100%|██████████| 4000/4000 [00:32<00:00, 122.29it/s]\n"
     ]
    },
    {
     "name": "stdout",
     "output_type": "stream",
     "text": [
      "final loss = tensor(140.0379, grad_fn=<MseLossBackward>)\n",
      "training time = 32.71206712722778 seconds\n",
      "\n"
     ]
    }
   ],
   "source": [
    "for key, network in uncertainty_methods.items():\n",
    "    # Reset the random number generator for each method (to produce identical results)\n",
    "    torch.manual_seed(random_seed)\n",
    "    np.random.seed(random_seed)\n",
    "    pyro.set_rng_seed(random_seed)\n",
    "    \n",
    "    # Print the method name\n",
    "    print(\"Now running \" + str(key))\n",
    "    \n",
    "    # Send the whole model to the selected torch.device\n",
    "    network.to(torch_device)\n",
    "\n",
    "    # Print the network structure\n",
    "    print(network)\n",
    "    print()\n",
    "\n",
    "    # Initialize training data loader\n",
    "    train_loader = DataLoader(dataset, batch_size=128)\n",
    "    \n",
    "    \"\"\"\n",
    "    Optimizer Setup\n",
    "    \"\"\"\n",
    "\n",
    "    if isinstance(network, models.FCNet):\n",
    "        # Adam optimizer\n",
    "        # https://pytorch.org/docs/stable/optim.html?highlight=adam#torch.optim.Adam\n",
    "        # NOTE: Need to set L2 regularization from here\n",
    "        optimizer = torch.optim.Adam(\n",
    "            network.parameters(),\n",
    "            lr=learning_rate,\n",
    "            weight_decay=reg_strength, # L2 regularization\n",
    "        )\n",
    "\n",
    "        # Mean Squared Error for loss function to minimize\n",
    "        objective = torch.nn.MSELoss()\n",
    "\n",
    "    elif isinstance(network, models.FCNetPyro):\n",
    "        # Clear everything in Pyro parameter storage\n",
    "        # Looks like this parameter store would be globally shared across\n",
    "        # models in the same Python instance.\n",
    "        pyro.clear_param_store()\n",
    "\n",
    "        # Force all the PyTorch tensors to be CUDA tensors if available\n",
    "        if use_cuda and torch.cuda.is_available():\n",
    "            torch.set_default_tensor_type(torch.cuda.FloatTensor)\n",
    "\n",
    "        # Different optimizers for VI and HMC\n",
    "        if key == 'vi':\n",
    "            optimizer = pyro.optim.Adam({\"lr\": 0.01})\n",
    "            svi = SVI(network, network.guide, optimizer, loss=Trace_ELBO())\n",
    "        elif key == 'hmc':\n",
    "            kernel = HMC(network)\n",
    "            mcmc = MCMC(kernel, num_samples=10000)\n",
    "\n",
    "    \"\"\"\n",
    "    Training\n",
    "    \"\"\"\n",
    "\n",
    "    # Model to train mode\n",
    "    network.train()\n",
    "\n",
    "    # Record training start time (for this method)\n",
    "    tic = time.time()\n",
    "    \n",
    "    if key == 'hmc':\n",
    "        # to() actually returns new Tensor; need to replace with that return\n",
    "        dataset.data_x = dataset.data_x.to(torch_device)\n",
    "\n",
    "        dataset.data_y = dataset.data_y.to(torch_device)\n",
    "\n",
    "        mcmc.run(dataset.data_x, dataset.data_y)\n",
    "    else:\n",
    "        progress_bar = tqdm.tqdm(range(n_epochs))\n",
    "\n",
    "        for epoch in progress_bar: # loop over the dataset multiple times\n",
    "\n",
    "            for i, data in enumerate(train_loader):\n",
    "                # get the inputs; data is a list of [inputs, labels]\n",
    "                inputs, targets = data\n",
    "\n",
    "                # Store the batch to torch_device's memory\n",
    "                # to() actually returns new Tensor; need to replace with that return\n",
    "                inputs = inputs.to(torch_device)\n",
    "                targets = targets.to(torch_device)\n",
    "\n",
    "                if isinstance(network, models.FCNet):\n",
    "                    # zero the parameter gradients\n",
    "                    optimizer.zero_grad()\n",
    "\n",
    "                    # forward + backward + optimize\n",
    "                    outputs = network(inputs)\n",
    "\n",
    "                    total_loss = objective(outputs, targets)\n",
    "\n",
    "                    total_loss.backward()\n",
    "\n",
    "                    optimizer.step()\n",
    "\n",
    "                elif isinstance(network, models.FCNetPyro):\n",
    "                    pyro.clear_param_store()\n",
    "                    # calculate the loss and take a gradient step\n",
    "                    total_loss = svi.step(inputs, targets)\n",
    "\n",
    "            progress_bar.set_description(\"[iteration %04d] loss: %.4f\" % (epoch + 1, total_loss))\n",
    "            \n",
    "    # Record training end time\n",
    "    toc = time.time()\n",
    "\n",
    "    # Report the final loss\n",
    "    print(\"final loss = \" + str(total_loss))            \n",
    "\n",
    "    # Report the total training time\n",
    "    print(\"training time = \" + str(toc - tic) + \" seconds\")\n",
    "    \n",
    "    print()"
   ]
  },
  {
   "cell_type": "markdown",
   "metadata": {
    "colab_type": "text",
    "id": "xrknIU5UWv-v"
   },
   "source": [
    "## Plot the results"
   ]
  },
  {
   "cell_type": "code",
   "execution_count": 10,
   "metadata": {
    "colab": {
     "base_uri": "https://localhost:8080/",
     "height": 1000
    },
    "colab_type": "code",
    "executionInfo": {
     "elapsed": 20586,
     "status": "ok",
     "timestamp": 1575024185652,
     "user": {
      "displayName": "Ronald Seoh",
      "photoUrl": "",
      "userId": "10284188050297676522"
     },
     "user_tz": 300
    },
    "id": "ymmG2nxTHSYq",
    "outputId": "bad750f8-6180-4e17-8cfc-21b92fe8c524",
    "scrolled": false
   },
   "outputs": [
    {
     "name": "stderr",
     "output_type": "stream",
     "text": [
      "/Users/se9/python/00_default/lib/python3.8/site-packages/ronald_bdl/models/fcnet.py:184: UserWarning: To copy construct from a tensor, it is recommended to use sourceTensor.clone().detach() or sourceTensor.clone().detach().requires_grad_(True), rather than torch.tensor(sourceTensor).\n",
      "  reg_strength = torch.tensor(\n",
      "/Users/se9/python/00_default/lib/python3.8/site-packages/ronald_bdl/models/utils.py:38: UserWarning: To copy construct from a tensor, it is recommended to use sourceTensor.clone().detach() or sourceTensor.clone().detach().requires_grad_(True), rather than torch.tensor(sourceTensor).\n",
      "  tau = torch.tensor(\n"
     ]
    },
    {
     "name": "stdout",
     "output_type": "stream",
     "text": [
      "testing time = 0.6609830856323242 seconds\n",
      "\n",
      "Mean = tensor([-1.4473e+02, -1.4530e+02, -1.3974e+02, -1.3302e+02, -1.2833e+02,\n",
      "        -1.2528e+02, -1.2546e+02, -1.2168e+02, -1.1594e+02, -1.1237e+02,\n",
      "        -1.1134e+02, -1.0695e+02, -1.0135e+02, -9.8541e+01, -9.4914e+01,\n",
      "        -9.2471e+01, -8.8234e+01, -8.4025e+01, -7.9723e+01, -7.7772e+01,\n",
      "        -7.3993e+01, -7.0222e+01, -6.4375e+01, -6.2394e+01, -5.9912e+01,\n",
      "        -5.5384e+01, -5.2673e+01, -4.7221e+01, -4.4191e+01, -4.1144e+01,\n",
      "        -3.7471e+01, -3.3552e+01, -2.9918e+01, -2.6515e+01, -2.2906e+01,\n",
      "        -1.8983e+01, -1.6114e+01, -1.1914e+01, -8.7216e+00, -5.7388e+00,\n",
      "        -3.8836e+00, -2.9366e+00, -2.4047e+00, -1.7224e+00, -1.1060e+00,\n",
      "        -4.7579e-01,  1.2643e-02,  4.6302e-01,  1.0081e+00,  1.4894e+00,\n",
      "         1.9088e+00,  2.0772e+00,  2.1995e+00,  2.2002e+00,  2.1553e+00,\n",
      "         2.1331e+00,  2.1107e+00,  2.0795e+00,  2.4995e+00,  4.1907e+00,\n",
      "         5.8433e+00,  7.7003e+00,  9.3548e+00,  1.0837e+01,  1.4033e+01,\n",
      "         1.7823e+01,  2.2559e+01,  2.7129e+01,  3.1943e+01,  3.6289e+01,\n",
      "         4.0815e+01,  4.5957e+01,  5.0652e+01,  5.5573e+01,  5.9625e+01,\n",
      "         6.5045e+01,  6.8578e+01,  7.3656e+01,  7.9645e+01,  8.3294e+01,\n",
      "         8.7640e+01,  9.1557e+01,  9.6588e+01,  1.0024e+02,  1.0529e+02,\n",
      "         1.1097e+02,  1.1511e+02,  1.1926e+02,  1.2273e+02,  1.2709e+02,\n",
      "         1.3289e+02,  1.3854e+02,  1.4123e+02,  1.4780e+02,  1.5211e+02,\n",
      "         1.5698e+02,  1.5946e+02,  1.6485e+02,  1.6945e+02,  1.7379e+02])\n",
      "Variance = tensor([2.5773e+03, 1.9480e+03, 2.1099e+03, 2.3430e+03, 2.2576e+03, 2.1480e+03,\n",
      "        1.6091e+03, 1.5833e+03, 1.6425e+03, 1.6049e+03, 1.2013e+03, 1.2371e+03,\n",
      "        1.3130e+03, 1.1231e+03, 1.0845e+03, 8.8241e+02, 8.8080e+02, 8.2354e+02,\n",
      "        7.9267e+02, 6.5393e+02, 5.9945e+02, 5.4183e+02, 5.9454e+02, 4.7512e+02,\n",
      "        3.5844e+02, 3.6245e+02, 2.7753e+02, 3.1478e+02, 2.5114e+02, 1.8990e+02,\n",
      "        1.5897e+02, 1.3953e+02, 1.1205e+02, 8.0142e+01, 6.3062e+01, 4.9403e+01,\n",
      "        2.4176e+01, 1.9446e+01, 1.0788e+01, 4.0564e+00, 2.2117e+00, 1.8814e+00,\n",
      "        1.2927e+00, 7.9018e-01, 5.1641e-01, 3.3224e-01, 2.8989e-01, 2.9988e-01,\n",
      "        3.2732e-01, 4.5310e-01, 5.3111e-01, 6.0887e-01, 6.3545e-01, 6.0785e-01,\n",
      "        5.9907e-01, 5.1970e-01, 5.1709e-01, 4.7413e-01, 8.0575e-01, 2.1616e+00,\n",
      "        4.3066e+00, 6.1167e+00, 9.4680e+00, 1.5912e+01, 2.2123e+01, 4.3001e+01,\n",
      "        6.2681e+01, 9.1307e+01, 1.1885e+02, 1.6551e+02, 2.0542e+02, 2.3060e+02,\n",
      "        2.8378e+02, 3.1871e+02, 3.9786e+02, 4.1558e+02, 5.4525e+02, 6.2410e+02,\n",
      "        5.9298e+02, 7.5895e+02, 8.5679e+02, 1.0203e+03, 1.0279e+03, 1.2365e+03,\n",
      "        1.3755e+03, 1.3033e+03, 1.4720e+03, 1.6337e+03, 1.8910e+03, 2.0350e+03,\n",
      "        2.1304e+03, 2.0982e+03, 2.4808e+03, 2.3179e+03, 2.5128e+03, 2.6998e+03,\n",
      "        3.1298e+03, 3.1509e+03, 3.4241e+03, 3.7463e+03])\n",
      "rmse_mc = tensor(205.1587)\n",
      "rmse_non_mc = tensor(205.1272)\n",
      "test_ll_mc = tensor(-4312.3398)\n",
      "\n"
     ]
    },
    {
     "data": {
      "image/png": "[encoded data removed]",
      "text/plain": [
       "<Figure size 432x288 with 1 Axes>"
      ]
     },
     "metadata": {
      "needs_background": "light"
     },
     "output_type": "display_data"
    },
    {
     "name": "stdout",
     "output_type": "stream",
     "text": [
      "testing time = 0.4454917907714844 seconds\n",
      "\n",
      "Mean = tensor([-57.2313, -56.0433, -55.8615, -56.8945, -57.6370, -56.4769, -57.3579,\n",
      "        -57.0353, -57.1501, -57.3316, -56.6404, -57.1389, -57.7092, -56.5921,\n",
      "        -54.7833, -56.1115, -55.7753, -55.5503, -55.4546, -54.8056, -55.1140,\n",
      "        -54.4401, -54.6465, -53.6275, -51.8827, -49.7412, -48.3553, -47.3679,\n",
      "        -45.4538, -41.2387, -39.1411, -33.8362, -30.2122, -27.3183, -22.3730,\n",
      "        -18.9625, -14.8638, -11.7600,  -8.9573,  -6.6908,  -4.9773,  -3.5339,\n",
      "         -2.3127,  -1.5440,  -0.7958,  -0.2613,   0.1778,   0.3846,   0.7699,\n",
      "          0.8688,   0.9703,   1.2315,   1.4025,   1.7479,   1.9147,   2.2067,\n",
      "          2.4903,   3.0607,   3.6212,   4.3641,   5.3909,   6.6115,   8.6511,\n",
      "         10.8244,  13.9871,  17.6242,  21.7424,  26.1408,  32.1046,  37.4680,\n",
      "         41.4194,  46.1046,  50.5443,  54.4995,  56.8480,  58.2264,  59.4857,\n",
      "         61.1728,  62.9151,  64.1929,  61.9600,  63.3479,  62.5016,  63.9828,\n",
      "         65.1336,  64.4909,  64.7754,  65.4239,  64.8208,  65.1255,  65.3451,\n",
      "         64.2822,  64.4814,  64.0342,  64.4533,  64.4472,  64.0301,  65.1385,\n",
      "         66.2460,  64.2912])\n",
      "Variance = tensor([339.0522, 402.7318, 412.0760, 358.2921, 319.5592, 377.1708, 344.4019,\n",
      "        364.4218, 354.0128, 332.2310, 367.1346, 357.2985, 308.3974, 355.0311,\n",
      "        443.8216, 372.1898, 380.2904, 376.8724, 356.6277, 381.9715, 340.5462,\n",
      "        339.3846, 284.2671, 284.1145, 308.6063, 327.5352, 300.8000, 227.4316,\n",
      "        199.8592, 223.2327, 146.5945, 166.1476, 121.4190,  63.9522,  58.6131,\n",
      "         35.5732,  27.7916,  17.5675,  15.1403,   9.9269,   8.3264,   7.1262,\n",
      "          6.1047,   6.0491,   6.4348,   6.4156,   6.4148,   6.5933,   7.0675,\n",
      "          6.4472,   6.4554,   6.9405,   6.8241,   6.8316,   6.6110,   7.0908,\n",
      "          6.8344,   7.3546,   7.5821,   8.2905,   8.8829,  10.8554,  12.7349,\n",
      "         18.4075,  23.7574,  33.3744,  54.7777,  90.7522, 100.9619, 145.0345,\n",
      "        228.3048, 276.7355, 287.9058, 302.3073, 340.3474, 402.8969, 451.7518,\n",
      "        440.2881, 407.5499, 374.6394, 539.5400, 492.2348, 559.7761, 482.1313,\n",
      "        436.4207, 484.5644, 472.9207, 429.9973, 484.0070, 462.0086, 460.1201,\n",
      "        502.0572, 500.1384, 524.0468, 494.1891, 489.0798, 519.1994, 452.5628,\n",
      "        389.1131, 496.6479])\n",
      "rmse_mc = tensor(246.0382)\n",
      "rmse_non_mc = tensor(242.0480)\n",
      "test_ll_mc = tensor(-7073.9512)\n",
      "\n"
     ]
    },
    {
     "data": {
      "image/png": "[encoded data removed]",
      "text/plain": [
       "<Figure size 432x288 with 1 Axes>"
      ]
     },
     "metadata": {
      "needs_background": "light"
     },
     "output_type": "display_data"
    },
    {
     "name": "stdout",
     "output_type": "stream",
     "text": [
      "testing time = 0.41625380516052246 seconds\n",
      "\n",
      "Mean = tensor([-38.9471, -39.9825, -39.1418, -38.9227, -39.3926, -39.0045, -39.2268,\n",
      "        -39.0579, -37.7888, -38.3578, -37.7419, -37.4594, -37.7254, -37.2966,\n",
      "        -37.4866, -37.5351, -36.0946, -35.4723, -36.1581, -35.1693, -34.0939,\n",
      "        -34.0718, -33.3873, -32.6220, -32.4274, -31.5293, -31.3683, -29.6984,\n",
      "        -29.0553, -28.5428, -27.2423, -25.0444, -24.4760, -23.1582, -21.1356,\n",
      "        -19.4611, -17.9271, -16.3800, -14.7824, -13.2313, -11.6729, -10.2699,\n",
      "         -8.8322,  -7.5543,  -6.5567,  -5.4106,  -4.3054,  -3.2900,  -2.1955,\n",
      "         -1.1306,  -0.1769,   1.0265,   2.0007,   3.0881,   4.2685,   5.5128,\n",
      "          6.8073,   8.2118,   9.5810,  11.0972,  12.9772,  14.2260,  16.6233,\n",
      "         18.3562,  20.3275,  22.8891,  24.5805,  26.6130,  28.9430,  31.0022,\n",
      "         32.5675,  34.2730,  36.0116,  38.4529,  38.4247,  40.9704,  41.9377,\n",
      "         42.8168,  44.3216,  45.8518,  46.2011,  47.0067,  47.4288,  48.1776,\n",
      "         49.6063,  50.4018,  48.9931,  50.1973,  52.3346,  52.9512,  52.7100,\n",
      "         52.9343,  53.6919,  53.8010,  53.3974,  54.4736,  55.0248,  55.2565,\n",
      "         55.5957,  55.3286])\n",
      "Variance = tensor([204.2331, 163.2166, 186.8061, 183.0217, 160.3284, 170.2431, 149.8111,\n",
      "        154.3121, 181.5480, 157.5377, 163.2195, 164.2708, 148.6732, 155.9074,\n",
      "        131.7834, 117.3495, 150.7605, 159.7604, 121.0836, 134.0763, 150.6447,\n",
      "        136.0234, 136.0295, 136.7885, 117.8700, 119.0971,  94.9227, 113.6227,\n",
      "        101.2961,  80.7916,  74.5959,  88.2610,  64.6589,  51.6113,  53.6107,\n",
      "         47.0323,  36.4353,  28.8207,  23.1892,  19.1840,  15.0788,  12.4893,\n",
      "         10.5010,   8.3445,   6.1940,   4.8479,   3.8241,   2.8418,   2.2832,\n",
      "          1.7514,   1.6747,   1.8121,   2.1764,   2.5386,   3.5142,   4.7537,\n",
      "          6.3488,   8.5706,  12.0893,  16.2040,  18.0599,  28.6852,  28.3930,\n",
      "         38.5110,  48.3890,  45.3654,  64.3959,  77.0686,  82.8555,  92.7172,\n",
      "        117.7215, 134.8489, 151.8181, 131.8073, 202.8837, 175.8680, 201.6466,\n",
      "        226.1827, 220.3776, 212.6053, 247.4063, 253.3114, 280.4410, 289.4403,\n",
      "        267.0044, 263.0341, 354.9708, 333.6379, 263.7137, 263.2372, 308.1402,\n",
      "        314.0996, 298.7181, 317.3710, 359.1011, 325.4445, 324.7178, 327.3454,\n",
      "        323.8612, 354.5655])\n",
      "rmse_mc = tensor(255.3297)\n",
      "rmse_non_mc = tensor(253.0068)\n",
      "test_ll_mc = tensor(-7783.1465)\n",
      "\n"
     ]
    },
    {
     "data": {
      "image/png": "[encoded data removed]",
      "text/plain": [
       "<Figure size 432x288 with 1 Axes>"
      ]
     },
     "metadata": {
      "needs_background": "light"
     },
     "output_type": "display_data"
    }
   ],
   "source": [
    "for key, network in uncertainty_methods.items():\n",
    "\n",
    "    \"\"\"\n",
    "    Testing\n",
    "    \"\"\"\n",
    "\n",
    "    # Model to eval mode\n",
    "    network.eval()\n",
    "\n",
    "    # Record testing start time (for this split)\n",
    "    tic_testing = time.time()\n",
    "    \n",
    "    predictions_non_mc = network(X_test)\n",
    "\n",
    "    predictions, mean, var, metrics = network.predict_dist(\n",
    "        X_test, n_predictions,\n",
    "        y_test=y_test,\n",
    "        reg_strength=reg_strength, train_size=dataset_toy_size, length_scale=length_scale)\n",
    "    \n",
    "    # Record testing end time\n",
    "    toc_testing = time.time()\n",
    "    \n",
    "    # Report the total testing time\n",
    "    print(\"testing time = \" + str(toc_testing - tic_testing) + \" seconds\")\n",
    "\n",
    "    # These can now be stored in CPU memory for plotting\n",
    "    predictions_non_mc = predictions_non_mc.cpu()\n",
    "    predictions = predictions.cpu()\n",
    "    mean = mean.cpu()\n",
    "    var = var.cpu()\n",
    "    \n",
    "    \"\"\"\n",
    "    Print results\n",
    "    \"\"\"\n",
    "\n",
    "    print()\n",
    "    print(\"Mean = \" + str(mean.flatten()))\n",
    "    print(\"Variance = \" + str(var.flatten()))\n",
    "    \n",
    "    # store additional metrics\n",
    "    if len(metrics) > 0:\n",
    "        for metric_key, value in metrics.items():\n",
    "            print(str(metric_key) + \" = \" + str(value))\n",
    "        print()\n",
    "             \n",
    "    # Plot the uncertainty measured by each methods\n",
    "    plt.figure()\n",
    "    \n",
    "    # Fix the scales of x-axis and y-axis\n",
    "    plt.xlim(dataset_toy_x_low-1, dataset_toy_x_high+1)\n",
    "    plt.ylim(dataset_toy_y_mean-2*dataset_toy_y_std, dataset_toy_y_mean+2*dataset_toy_y_std)\n",
    "\n",
    "    # Distributions around the predictions\n",
    "    plt.fill_between(\n",
    "        X_test_cpu.flatten(), \n",
    "        (mean.detach().numpy() - 2*torch.sqrt(var).detach().numpy()).flatten(),\n",
    "        (mean.detach().numpy() + 2*torch.sqrt(var).detach().numpy()).flatten(),\n",
    "        color='lightblue', alpha=0.8)\n",
    "\n",
    "    # Train data\n",
    "    plt.plot(dataset.data_x.cpu(), dataset.data_y.cpu(), 'or', label='Training data', alpha=0.3)\n",
    "\n",
    "    # Non-MC prediction\n",
    "    plt.plot(X_test_cpu, predictions_non_mc.detach().numpy(), 'green', label='non-MC prediction', alpha=0.6)    \n",
    "    \n",
    "    # MC prediction\n",
    "    plt.plot(X_test_cpu, mean.detach().numpy(), 'blue', label='mean prediction', alpha=0.35)\n",
    "    \n",
    "    # Original data generating function without noise\n",
    "    plt.plot(X_test_cpu, X_test_cpu ** 3, 'gray', label='data generating function')    \n",
    "    \n",
    "    plt.legend()\n",
    "    \n",
    "    plt.savefig(os.path.join(test_results_path, str(key) + '.png'), dpi=600)\n",
    "    \n",
    "    plt.show()"
   ]
  },
  {
   "cell_type": "code",
   "execution_count": null,
   "metadata": {},
   "outputs": [],
   "source": []
  }
 ],
 "metadata": {
  "accelerator": "GPU",
  "colab": {
   "collapsed_sections": [
    "Bka_bK83VFHh",
    "eEfdrHcOVFIj"
   ],
   "name": "experiment_comparison_toy.ipynb",
   "provenance": []
  },
  "kernelspec": {
   "display_name": "Python 3",
   "language": "python",
   "name": "python3"
  },
  "language_info": {
   "codemirror_mode": {
    "name": "ipython",
    "version": 3
   },
   "file_extension": ".py",
   "mimetype": "text/x-python",
   "name": "python",
   "nbconvert_exporter": "python",
   "pygments_lexer": "ipython3",
   "version": "3.8.0"
  }
 },
 "nbformat": 4,
 "nbformat_minor": 1
}
