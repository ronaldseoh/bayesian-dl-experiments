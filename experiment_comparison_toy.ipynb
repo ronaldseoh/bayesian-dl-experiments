{
 "cells": [
  {
   "cell_type": "markdown",
   "metadata": {
    "colab_type": "text",
    "id": "Bka_bK83VFHh"
   },
   "source": [
    "## Experiment Setup"
   ]
  },
  {
   "cell_type": "markdown",
   "metadata": {
    "colab_type": "text",
    "id": "8D5NSPs_cJZe"
   },
   "source": [
    "###  Random seed / Colab / CUDA related"
   ]
  },
  {
   "cell_type": "code",
   "execution_count": 1,
   "metadata": {
    "colab": {
     "base_uri": "https://localhost:8080/",
     "height": 592
    },
    "colab_type": "code",
    "executionInfo": {
     "elapsed": 32214,
     "status": "ok",
     "timestamp": 1575021332527,
     "user": {
      "displayName": "Ronald Seoh",
      "photoUrl": "",
      "userId": "10284188050297676522"
     },
     "user_tz": 300
    },
    "id": "pHbfpytEVFHu",
    "outputId": "7913f72d-859c-477f-90b8-6c37e04f5759"
   },
   "outputs": [],
   "source": [
    "import time\n",
    "import datetime\n",
    "import os\n",
    "import sys\n",
    "import itertools\n",
    "\n",
    "# Use Google Colab\n",
    "use_colab = True\n",
    "\n",
    "# Is this notebook running on Colab?\n",
    "# If so, then google.colab package (github.com/googlecolab/colabtools)\n",
    "# should be available in this environment\n",
    "\n",
    "# Previous version used importlib, but we could do the same thing with\n",
    "# just attempting to import google.colab\n",
    "try:\n",
    "    from google.colab import drive\n",
    "    colab_available = True\n",
    "except:\n",
    "    colab_available = False\n",
    "\n",
    "if use_colab and colab_available:\n",
    "    drive.mount('/content/drive')\n",
    "    \n",
    "    # If there's a package I need to install separately, do it here\n",
    "    !pip install pyro-ppl\n",
    "\n",
    "    # cd to the appropriate working directory under my Google Drive\n",
    "    %cd 'drive/My Drive/Colab Notebooks/bayesian-dl-experiments'\n",
    "    \n",
    "    # List the directory contents\n",
    "    !ls\n",
    "\n",
    "# IPython reloading magic\n",
    "%load_ext autoreload\n",
    "%autoreload 2\n",
    "\n",
    "# Random seeds\n",
    "# Based on https://pytorch.org/docs/stable/notes/randomness.html\n",
    "random_seed = 682"
   ]
  },
  {
   "cell_type": "markdown",
   "metadata": {
    "colab_type": "text",
    "id": "L8udq6NnHSXW"
   },
   "source": [
    "### Third party libraries (NumPy, PyTorch, Pyro)"
   ]
  },
  {
   "cell_type": "code",
   "execution_count": 2,
   "metadata": {
    "colab": {
     "base_uri": "https://localhost:8080/",
     "height": 104
    },
    "colab_type": "code",
    "executionInfo": {
     "elapsed": 35929,
     "status": "ok",
     "timestamp": 1575021336266,
     "user": {
      "displayName": "Ronald Seoh",
      "photoUrl": "",
      "userId": "10284188050297676522"
     },
     "user_tz": 300
    },
    "id": "BOJA1nXgHSXa",
    "outputId": "e2c1368a-d446-42c6-b971-155962116ceb"
   },
   "outputs": [
    {
     "name": "stdout",
     "output_type": "stream",
     "text": [
      "Python Version: 3.8.0 (v3.8.0:fa919fdf25, Oct 14 2019, 10:23:27) \n",
      "[Clang 6.0 (clang-600.0.57)]\n",
      "NumPy Version: 1.17.4\n",
      "PyTorch Version: 1.4.0a0+328ec54\n",
      "Pyro Version: 1.0.0\n"
     ]
    }
   ],
   "source": [
    "# Third party libraries import\n",
    "import numpy as np\n",
    "import torch\n",
    "import pyro\n",
    "import matplotlib.pyplot as plt\n",
    "\n",
    "# Print version information\n",
    "print(\"Python Version: \" + sys.version)\n",
    "print(\"NumPy Version: \" + np.__version__)\n",
    "print(\"PyTorch Version: \" + torch.__version__)\n",
    "print(\"Pyro Version: \" + pyro.__version__)"
   ]
  },
  {
   "cell_type": "code",
   "execution_count": 3,
   "metadata": {
    "colab": {
     "base_uri": "https://localhost:8080/",
     "height": 86
    },
    "colab_type": "code",
    "executionInfo": {
     "elapsed": 44842,
     "status": "ok",
     "timestamp": 1575021345196,
     "user": {
      "displayName": "Ronald Seoh",
      "photoUrl": "",
      "userId": "10284188050297676522"
     },
     "user_tz": 300
    },
    "id": "BOIqWi_wHSXi",
    "outputId": "b658d6b3-5990-4d42-f71e-f8cbff718437"
   },
   "outputs": [],
   "source": [
    "# More imports...\n",
    "from torch import nn, optim\n",
    "from torch.utils.data import random_split, DataLoader, RandomSampler\n",
    "import torchvision\n",
    "import torchvision.transforms as transforms\n",
    "from pyro.infer import SVI, Trace_ELBO, HMC, MCMC\n",
    "\n",
    "# Import model and dataset classes from ronald_bdl\n",
    "from ronald_bdl import models, datasets\n",
    "\n",
    "# pyplot setting\n",
    "%matplotlib inline\n",
    "\n",
    "# torch.device / CUDA Setup\n",
    "use_cuda = True\n",
    "\n",
    "if use_cuda and torch.cuda.is_available():\n",
    "    torch_device = torch.device('cuda')\n",
    "\n",
    "    torch.backends.cudnn.deterministic = True\n",
    "    # Disable 'benchmark' mode\n",
    "    # Note: https://discuss.pytorch.org/t/what-does-torch-backends-cudnn-benchmark-do/5936\n",
    "    torch.backends.cudnn.benchmark = False\n",
    "    use_pin_memory = True # Faster Host to GPU copies with page-locked memory\n",
    "\n",
    "    # CUDA libraries version information\n",
    "    print(\"CUDA Version: \" + str(torch.version.cuda))\n",
    "    print(\"cuDNN Version: \" + str(torch.backends.cudnn.version()))\n",
    "    print(\"CUDA Device Name: \" + str(torch.cuda.get_device_name()))\n",
    "    print(\"CUDA Capabilities: \"+ str(torch.cuda.get_device_capability()))\n",
    "else:\n",
    "    torch_device = torch.device('cpu')\n",
    "    use_pin_memory = False"
   ]
  },
  {
   "cell_type": "markdown",
   "metadata": {
    "colab_type": "text",
    "id": "XIFRoH3AcJZn"
   },
   "source": [
    "### Toy dataset settings"
   ]
  },
  {
   "cell_type": "code",
   "execution_count": 4,
   "metadata": {
    "colab": {},
    "colab_type": "code",
    "id": "g_pzGq1_cJZp"
   },
   "outputs": [],
   "source": [
    "\"\"\"\n",
    "Toy dataset generation based on the experiment from \n",
    "the Probabilstic Backpropagation paper (Hernandez-Lobato & Adams, 2015)\n",
    "\"\"\"\n",
    "\n",
    "# Random seed for toy dataset\n",
    "dataset_toy_random_seed = 691\n",
    "\n",
    "# Toy dataset size\n",
    "dataset_toy_size = 20\n",
    "\n",
    "# Toy dataset x distribution (uniform) parameters\n",
    "dataset_toy_x_low = -4\n",
    "dataset_toy_x_high = 4\n",
    "\n",
    "# Toy dataset y distribution (normal with noise)\n",
    "dataset_toy_y_mean = 0\n",
    "dataset_toy_y_std = 9"
   ]
  },
  {
   "cell_type": "markdown",
   "metadata": {
    "colab_type": "text",
    "id": "Kdi_LQ7sspvM"
   },
   "source": [
    "### MC dropout parameters"
   ]
  },
  {
   "cell_type": "code",
   "execution_count": 5,
   "metadata": {
    "colab": {},
    "colab_type": "code",
    "id": "0ys_GAWtHSX4"
   },
   "outputs": [],
   "source": [
    "\"\"\"\n",
    "MC Dropout related\n",
    "\"\"\"\n",
    "\n",
    "# Dropout rate\n",
    "dropout_rate = 0.1\n",
    "\n",
    "# Regularization strengths\n",
    "reg_strength = 0.05\n",
    "\n",
    "# Epochs\n",
    "n_epochs = 4000\n",
    "\n",
    "# Optimizer learning rate\n",
    "learning_rate = 0.001\n",
    "\n",
    "# Loss function type\n",
    "loss_function_type = 'mse_loss'\n",
    "\n",
    "# Number of test predictions (for each data point)\n",
    "n_predictions = 1000"
   ]
  },
  {
   "cell_type": "markdown",
   "metadata": {
    "colab_type": "text",
    "id": "DNGDKiltsux3"
   },
   "source": [
    "### Directory path to save results"
   ]
  },
  {
   "cell_type": "code",
   "execution_count": 6,
   "metadata": {
    "colab": {},
    "colab_type": "code",
    "id": "9ysu9G0FHSX-"
   },
   "outputs": [],
   "source": [
    "# Test start time\n",
    "test_start_time = datetime.datetime.today().strftime('%Y%m%d%H%M')\n",
    "\n",
    "# Directory to store the results for this experiment\n",
    "test_results_path = os.path.join(\n",
    "    './test_results',\n",
    "    'comparison_toy',\n",
    "    (\n",
    "        test_start_time \n",
    "        + '_' + str(n_epochs) \n",
    "        + '_' + str(dropout_rate) \n",
    "        + '_' + str(reg_strength) \n",
    "        + '_' + str(loss_function_type) \n",
    "        + '_' + str(n_predictions))\n",
    ")\n",
    "\n",
    "# Create the directory if it doesn't exist\n",
    "os.makedirs(test_results_path, exist_ok=True)"
   ]
  },
  {
   "cell_type": "markdown",
   "metadata": {
    "colab_type": "text",
    "id": "sZwe_f-yVFIf"
   },
   "source": [
    "## Prepare data"
   ]
  },
  {
   "cell_type": "markdown",
   "metadata": {
    "colab_type": "text",
    "id": "eEfdrHcOVFIj"
   },
   "source": [
    "### Get the data as a torch Dataset object"
   ]
  },
  {
   "cell_type": "code",
   "execution_count": 7,
   "metadata": {
    "colab": {
     "base_uri": "https://localhost:8080/",
     "height": 34
    },
    "colab_type": "code",
    "executionInfo": {
     "elapsed": 51278,
     "status": "ok",
     "timestamp": 1575021351670,
     "user": {
      "displayName": "Ronald Seoh",
      "photoUrl": "",
      "userId": "10284188050297676522"
     },
     "user_tz": 300
    },
    "id": "5u5qU-9JVFIr",
    "outputId": "480ccb60-6d74-46ec-dc61-e7689ebdb300"
   },
   "outputs": [
    {
     "name": "stdout",
     "output_type": "stream",
     "text": [
      "dataset size = (20, 1)\n"
     ]
    }
   ],
   "source": [
    "dataset = datasets.ToyDatasets(\n",
    "    random_seed=dataset_toy_random_seed,\n",
    "    n_samples=dataset_toy_size,\n",
    "    x_low=dataset_toy_x_low,\n",
    "    x_high=dataset_toy_x_high,\n",
    "    y_mean=dataset_toy_y_mean,\n",
    "    y_std=dataset_toy_y_std,\n",
    ")\n",
    "\n",
    "# Get the test data\n",
    "X_test = torch.linspace(dataset_toy_x_low, dataset_toy_x_high, 100).reshape(100, 1)\n",
    "\n",
    "# Send it to the memory of the device to be used for training\n",
    "X_test = X_test.to(torch_device)\n",
    "\n",
    "# Save a copy at CPU for plotting\n",
    "X_test_cpu = X_test.cpu()\n",
    "\n",
    "# Print the size of the training set\n",
    "print(\"dataset size = \" + str((len(dataset), dataset.n_features)))"
   ]
  },
  {
   "cell_type": "markdown",
   "metadata": {
    "colab_type": "text",
    "id": "LaasFWpqVFJ1"
   },
   "source": [
    "## Declare models"
   ]
  },
  {
   "cell_type": "code",
   "execution_count": 8,
   "metadata": {
    "colab": {},
    "colab_type": "code",
    "id": "gAqkGtg7VFJ9"
   },
   "outputs": [],
   "source": [
    "uncertainty_methods = {}\n",
    "\n",
    "# MC (Bernoulli) dropout\n",
    "do_mc_dropout = True\n",
    "\n",
    "if do_mc_dropout:\n",
    "    uncertainty_methods['mc_dropout'] = models.FCNet(\n",
    "        input_dim=dataset.n_features, \n",
    "        output_dim=dataset.n_targets,\n",
    "        hidden_dim=100,\n",
    "        n_hidden=0,\n",
    "        dropout_rate=dropout_rate,\n",
    "        dropout_type='bernoulli',\n",
    "    )\n",
    "    \n",
    "    uncertainty_methods['mc_dropout_tanh'] = models.FCNet(\n",
    "        input_dim=dataset.n_features, \n",
    "        output_dim=dataset.n_targets,\n",
    "        hidden_dim=100,\n",
    "        n_hidden=0,\n",
    "        dropout_rate=dropout_rate,\n",
    "        dropout_type='bernoulli',\n",
    "        nonlinear_type='tanh',\n",
    "    )\n",
    "    \n",
    "    uncertainty_methods['mc_dropout_sigmoid'] = models.FCNet(\n",
    "        input_dim=dataset.n_features, \n",
    "        output_dim=dataset.n_targets,\n",
    "        hidden_dim=100,\n",
    "        n_hidden=0,\n",
    "        dropout_rate=dropout_rate,\n",
    "        dropout_type='bernoulli',\n",
    "        nonlinear_type='sigmoid',\n",
    "    )\n",
    "\n",
    "# Vanilla Variational Inference\n",
    "do_vi = False\n",
    "\n",
    "if do_vi:\n",
    "    uncertainty_methods['vi'] = models.FCNetPyro(\n",
    "        input_dim=dataset.n_features, \n",
    "        output_dim=dataset.n_targets,\n",
    "        hidden_dim=100,\n",
    "        n_hidden=0,\n",
    "        torch_device=torch_device,\n",
    "    )\n",
    "\n",
    "# HMC\n",
    "do_hmc = False\n",
    "\n",
    "if do_hmc:\n",
    "    uncertainty_methods['hmc'] = models.FCNetPyro(\n",
    "        input_dim=dataset.n_features, \n",
    "        output_dim=dataset.n_targets,\n",
    "        hidden_dim=100,\n",
    "        n_hidden=0,\n",
    "        torch_device=torch_device,\n",
    "    )"
   ]
  },
  {
   "cell_type": "markdown",
   "metadata": {
    "colab_type": "text",
    "id": "1PpzPMI8VFKE"
   },
   "source": [
    "## Train the models"
   ]
  },
  {
   "cell_type": "markdown",
   "metadata": {
    "colab_type": "text",
    "id": "Jc7Td1h1VFKb"
   },
   "source": [
    "### Train/test the model"
   ]
  },
  {
   "cell_type": "code",
   "execution_count": 9,
   "metadata": {
    "colab": {
     "base_uri": "https://localhost:8080/",
     "height": 903
    },
    "colab_type": "code",
    "executionInfo": {
     "elapsed": 1213641,
     "status": "ok",
     "timestamp": 1575022514055,
     "user": {
      "displayName": "Ronald Seoh",
      "photoUrl": "",
      "userId": "10284188050297676522"
     },
     "user_tz": 300
    },
    "id": "m4kavCiTVFKf",
    "outputId": "6731cdaf-71b9-4709-fd78-45fb2b335a05",
    "scrolled": false
   },
   "outputs": [
    {
     "name": "stdout",
     "output_type": "stream",
     "text": [
      "Now running mc_dropout\n",
      "FCNet(\n",
      "  (input): ModuleDict(\n",
      "    (dropout): Dropout(p=0.1, inplace=False)\n",
      "    (linear): Linear(in_features=1, out_features=100, bias=True)\n",
      "    (nonlinear): ReLU()\n",
      "  )\n",
      "  (output): ModuleDict(\n",
      "    (dropout): Dropout(p=0.1, inplace=False)\n",
      "    (linear): Linear(in_features=100, out_features=1, bias=True)\n",
      "  )\n",
      ")\n",
      "\n",
      "[iteration 0001] loss: 600.5185\n",
      "[iteration 0101] loss: 352.4489\n",
      "[iteration 0201] loss: 238.3154\n",
      "[iteration 0301] loss: 159.1615\n",
      "[iteration 0401] loss: 238.9522\n",
      "[iteration 0501] loss: 162.0307\n",
      "[iteration 0601] loss: 166.8496\n",
      "[iteration 0701] loss: 166.2382\n",
      "[iteration 0801] loss: 153.8624\n",
      "[iteration 0901] loss: 158.5802\n",
      "[iteration 1001] loss: 177.1531\n",
      "[iteration 1101] loss: 129.5743\n",
      "[iteration 1201] loss: 164.0803\n",
      "[iteration 1301] loss: 252.0534\n",
      "[iteration 1401] loss: 113.5786\n",
      "[iteration 1501] loss: 120.4902\n",
      "[iteration 1601] loss: 169.5446\n",
      "[iteration 1701] loss: 116.8175\n",
      "[iteration 1801] loss: 126.1459\n",
      "[iteration 1901] loss: 92.4152\n",
      "[iteration 2001] loss: 99.4735\n",
      "[iteration 2101] loss: 154.1988\n",
      "[iteration 2201] loss: 279.3753\n",
      "[iteration 2301] loss: 94.1695\n",
      "[iteration 2401] loss: 91.8044\n",
      "[iteration 2501] loss: 86.3173\n",
      "[iteration 2601] loss: 281.6467\n",
      "[iteration 2701] loss: 113.7858\n",
      "[iteration 2801] loss: 129.7002\n",
      "[iteration 2901] loss: 360.9991\n",
      "[iteration 3001] loss: 82.6108\n",
      "[iteration 3101] loss: 157.2683\n",
      "[iteration 3201] loss: 140.9016\n",
      "[iteration 3301] loss: 126.1336\n",
      "[iteration 3401] loss: 187.4997\n",
      "[iteration 3501] loss: 89.8259\n",
      "[iteration 3601] loss: 135.9114\n",
      "[iteration 3701] loss: 98.3171\n",
      "[iteration 3801] loss: 140.5188\n",
      "[iteration 3901] loss: 80.8378\n",
      "final loss = tensor(73.3433, grad_fn=<MseLossBackward>)\n",
      "training time = 12.082227945327759 seconds\n",
      "\n",
      "Now running mc_dropout_tanh\n",
      "FCNet(\n",
      "  (input): ModuleDict(\n",
      "    (dropout): Dropout(p=0.1, inplace=False)\n",
      "    (linear): Linear(in_features=1, out_features=100, bias=True)\n",
      "    (nonlinear): Tanh()\n",
      "  )\n",
      "  (output): ModuleDict(\n",
      "    (dropout): Dropout(p=0.1, inplace=False)\n",
      "    (linear): Linear(in_features=100, out_features=1, bias=True)\n",
      "  )\n",
      ")\n",
      "\n",
      "[iteration 0001] loss: 582.0836\n",
      "[iteration 0101] loss: 396.8751\n",
      "[iteration 0201] loss: 311.0462\n",
      "[iteration 0301] loss: 232.1576\n",
      "[iteration 0401] loss: 276.0193\n",
      "[iteration 0501] loss: 204.2261\n",
      "[iteration 0601] loss: 192.5464\n",
      "[iteration 0701] loss: 194.4266\n",
      "[iteration 0801] loss: 178.5341\n",
      "[iteration 0901] loss: 172.5061\n",
      "[iteration 1001] loss: 186.8843\n",
      "[iteration 1101] loss: 151.3320\n",
      "[iteration 1201] loss: 185.4963\n",
      "[iteration 1301] loss: 275.8973\n",
      "[iteration 1401] loss: 135.5369\n",
      "[iteration 1501] loss: 130.7034\n",
      "[iteration 1601] loss: 188.1152\n",
      "[iteration 1701] loss: 126.3870\n",
      "[iteration 1801] loss: 129.7339\n",
      "[iteration 1901] loss: 112.4918\n",
      "[iteration 2001] loss: 108.6903\n",
      "[iteration 2101] loss: 159.0315\n",
      "[iteration 2201] loss: 278.6067\n",
      "[iteration 2301] loss: 106.6449\n",
      "[iteration 2401] loss: 116.9184\n",
      "[iteration 2501] loss: 90.8431\n",
      "[iteration 2601] loss: 294.4820\n",
      "[iteration 2701] loss: 88.7515\n",
      "[iteration 2801] loss: 131.9632\n",
      "[iteration 2901] loss: 372.5807\n",
      "[iteration 3001] loss: 94.3244\n",
      "[iteration 3101] loss: 166.3434\n",
      "[iteration 3201] loss: 133.4514\n",
      "[iteration 3301] loss: 135.4100\n",
      "[iteration 3401] loss: 176.4936\n",
      "[iteration 3501] loss: 99.4942\n",
      "[iteration 3601] loss: 138.8053\n",
      "[iteration 3701] loss: 89.2443\n",
      "[iteration 3801] loss: 138.3651\n",
      "[iteration 3901] loss: 78.2611\n",
      "final loss = tensor(90.7874, grad_fn=<MseLossBackward>)\n",
      "training time = 11.754894018173218 seconds\n",
      "\n",
      "Now running mc_dropout_sigmoid\n",
      "FCNet(\n",
      "  (input): ModuleDict(\n",
      "    (dropout): Dropout(p=0.1, inplace=False)\n",
      "    (linear): Linear(in_features=1, out_features=100, bias=True)\n",
      "    (nonlinear): Sigmoid()\n",
      "  )\n",
      "  (output): ModuleDict(\n",
      "    (dropout): Dropout(p=0.1, inplace=False)\n",
      "    (linear): Linear(in_features=100, out_features=1, bias=True)\n",
      "  )\n",
      ")\n",
      "\n",
      "[iteration 0001] loss: 585.2480\n",
      "[iteration 0101] loss: 495.0381\n",
      "[iteration 0201] loss: 420.6489\n",
      "[iteration 0301] loss: 327.3001\n",
      "[iteration 0401] loss: 323.4698\n",
      "[iteration 0501] loss: 258.5297\n",
      "[iteration 0601] loss: 242.5501\n",
      "[iteration 0701] loss: 248.0596\n",
      "[iteration 0801] loss: 226.6091\n",
      "[iteration 0901] loss: 218.9014\n",
      "[iteration 1001] loss: 241.5859\n",
      "[iteration 1101] loss: 203.6432\n",
      "[iteration 1201] loss: 239.1685\n",
      "[iteration 1301] loss: 324.0193\n",
      "[iteration 1401] loss: 193.3976\n",
      "[iteration 1501] loss: 190.2798\n",
      "[iteration 1601] loss: 251.2249\n",
      "[iteration 1701] loss: 187.0919\n",
      "[iteration 1801] loss: 196.6591\n",
      "[iteration 1901] loss: 175.1660\n",
      "[iteration 2001] loss: 179.0718\n",
      "[iteration 2101] loss: 232.1724\n",
      "[iteration 2201] loss: 337.2364\n",
      "[iteration 2301] loss: 179.1265\n",
      "[iteration 2401] loss: 182.0060\n",
      "[iteration 2501] loss: 158.9043\n",
      "[iteration 2601] loss: 337.7824\n",
      "[iteration 2701] loss: 186.5542\n",
      "[iteration 2801] loss: 210.9906\n",
      "[iteration 2901] loss: 400.5780\n",
      "[iteration 3001] loss: 170.2660\n",
      "[iteration 3101] loss: 237.2468\n",
      "[iteration 3201] loss: 200.3915\n",
      "[iteration 3301] loss: 215.0032\n",
      "[iteration 3401] loss: 263.5833\n",
      "[iteration 3501] loss: 176.5068\n",
      "[iteration 3601] loss: 219.6644\n",
      "[iteration 3701] loss: 167.6716\n",
      "[iteration 3801] loss: 223.8639\n",
      "[iteration 3901] loss: 176.5226\n",
      "final loss = tensor(165.1295, grad_fn=<MseLossBackward>)\n",
      "training time = 11.738946676254272 seconds\n",
      "\n"
     ]
    }
   ],
   "source": [
    "for key, network in uncertainty_methods.items():\n",
    "    # Reset the random number generator for each method (to produce identical results)\n",
    "    torch.manual_seed(random_seed)\n",
    "    np.random.seed(random_seed)\n",
    "    pyro.set_rng_seed(random_seed)\n",
    "    \n",
    "    # Print the method name\n",
    "    print(\"Now running \" + str(key))\n",
    "    \n",
    "    # Send the whole model to the selected torch.device\n",
    "    network.to(torch_device)\n",
    "\n",
    "    # Print the network structure\n",
    "    print(network)\n",
    "    print()\n",
    "\n",
    "    # Initialize training data loader\n",
    "    train_loader = DataLoader(dataset, batch_size=128)\n",
    "    \n",
    "    \"\"\"\n",
    "    Optimizer Setup\n",
    "    \"\"\"\n",
    "\n",
    "    if isinstance(network, models.FCNet):\n",
    "        # Adam optimizer\n",
    "        # https://pytorch.org/docs/stable/optim.html?highlight=adam#torch.optim.Adam\n",
    "        # NOTE: Need to set L2 regularization from here\n",
    "        optimizer = torch.optim.Adam(\n",
    "            network.parameters(),\n",
    "            lr=learning_rate,\n",
    "            weight_decay=reg_strength, # L2 regularization\n",
    "        )\n",
    "\n",
    "        # Mean Squared Error for loss function to minimize\n",
    "        objective = torch.nn.MSELoss()\n",
    "\n",
    "    elif isinstance(network, models.FCNetPyro):\n",
    "        # Clear everything in Pyro parameter storage\n",
    "        # Looks like this parameter store would be globally shared across\n",
    "        # models in the same Python instance.\n",
    "        pyro.clear_param_store()\n",
    "\n",
    "        # Force all the PyTorch tensors to be CUDA tensors if available\n",
    "        if use_cuda and torch.cuda.is_available():\n",
    "            torch.set_default_tensor_type(torch.cuda.FloatTensor)\n",
    "\n",
    "        # Different optimizers for VI and HMC\n",
    "        if key == 'vi':\n",
    "            optimizer = pyro.optim.Adam({\"lr\": 0.01})\n",
    "            svi = SVI(network, network.guide, optimizer, loss=Trace_ELBO())\n",
    "        elif key == 'hmc':\n",
    "            kernel = HMC(network)\n",
    "            mcmc = MCMC(kernel, num_samples=10000)\n",
    "\n",
    "    \"\"\"\n",
    "    Training\n",
    "    \"\"\"\n",
    "\n",
    "    # Model to train mode\n",
    "    network.train()\n",
    "\n",
    "    # Record training start time (for this method)\n",
    "    tic = time.time()\n",
    "    \n",
    "    if key == 'hmc':\n",
    "        # to() actually returns new Tensor; need to replace with that return\n",
    "        dataset.data_x = dataset.data_x.to(torch_device)\n",
    "\n",
    "        dataset.data_y = dataset.data_y.to(torch_device)\n",
    "\n",
    "        mcmc.run(dataset.data_x, dataset.data_y)\n",
    "    else:\n",
    "        for epoch in range(n_epochs): # loop over the dataset multiple times\n",
    "\n",
    "            for i, data in enumerate(train_loader):\n",
    "                # get the inputs; data is a list of [inputs, labels]\n",
    "                inputs, targets = data\n",
    "\n",
    "                # Store the batch to torch_device's memory\n",
    "                # to() actually returns new Tensor; need to replace with that return\n",
    "                inputs = inputs.to(torch_device)\n",
    "                targets = targets.to(torch_device)\n",
    "\n",
    "                if isinstance(network, models.FCNet):\n",
    "                    # zero the parameter gradients\n",
    "                    optimizer.zero_grad()\n",
    "\n",
    "                    # forward + backward + optimize\n",
    "                    outputs = network(inputs)\n",
    "\n",
    "                    total_loss = objective(outputs, targets)\n",
    "\n",
    "                    total_loss.backward()\n",
    "\n",
    "                    optimizer.step()\n",
    "\n",
    "                elif isinstance(network, models.FCNetPyro):\n",
    "                    pyro.clear_param_store()\n",
    "                    # calculate the loss and take a gradient step\n",
    "                    total_loss = svi.step(inputs, targets)\n",
    "\n",
    "            if epoch % 100 == 0:\n",
    "                print(\"[iteration %04d] loss: %.4f\" % (epoch + 1, total_loss))\n",
    "            \n",
    "    # Record training end time\n",
    "    toc = time.time()\n",
    "\n",
    "    # Report the final loss\n",
    "    print(\"final loss = \" + str(total_loss))            \n",
    "\n",
    "    # Report the total training time\n",
    "    print(\"training time = \" + str(toc - tic) + \" seconds\")\n",
    "    \n",
    "    print()"
   ]
  },
  {
   "cell_type": "markdown",
   "metadata": {
    "colab_type": "text",
    "id": "xrknIU5UWv-v"
   },
   "source": [
    "## Plot the results"
   ]
  },
  {
   "cell_type": "code",
   "execution_count": 10,
   "metadata": {
    "colab": {
     "base_uri": "https://localhost:8080/",
     "height": 1000
    },
    "colab_type": "code",
    "executionInfo": {
     "elapsed": 20586,
     "status": "ok",
     "timestamp": 1575024185652,
     "user": {
      "displayName": "Ronald Seoh",
      "photoUrl": "",
      "userId": "10284188050297676522"
     },
     "user_tz": 300
    },
    "id": "ymmG2nxTHSYq",
    "outputId": "bad750f8-6180-4e17-8cfc-21b92fe8c524",
    "scrolled": false
   },
   "outputs": [
    {
     "name": "stdout",
     "output_type": "stream",
     "text": [
      "testing time = 0.41905999183654785 seconds\n",
      "\n",
      "Mean = tensor([-45.3753, -44.9546, -42.8127, -40.3460, -38.5969, -37.0635, -36.8111,\n",
      "        -35.1293, -33.0538, -31.5321, -30.7386, -28.9748, -26.8485, -25.6921,\n",
      "        -24.0006, -22.7794, -21.0947, -19.5005, -17.7717, -16.5250, -14.9865,\n",
      "        -13.4290, -11.5032, -10.2677,  -8.9281,  -7.2626,  -5.8955,  -4.2427,\n",
      "         -3.8435,  -3.5783,  -3.2818,  -2.9099,  -2.6026,  -2.2775,  -1.9588,\n",
      "         -1.6375,  -1.4871,  -1.1917,  -0.9492,  -0.7515,  -0.5624,  -0.3375,\n",
      "         -0.1410,   0.0641,   0.2770,   0.4975,   0.7296,   0.9366,   1.1739,\n",
      "          1.3060,   1.4571,   1.5246,   1.5735,   1.6141,   1.6466,   1.6915,\n",
      "          1.7136,   1.7402,   1.7258,   1.7529,   1.7659,   1.8441,   1.8663,\n",
      "          1.8468,   1.9021,   1.8758,   1.9337,   1.9406,   2.1080,   2.7901,\n",
      "          3.5543,   4.3707,   5.1289,   5.8918,   6.6456,   7.5116,   8.1202,\n",
      "          8.8811,   9.9613,  10.7871,  11.9899,  13.5072,  15.3717,  16.9882,\n",
      "         18.7858,  20.8029,  22.7765,  24.5306,  26.0741,  28.0036,  29.9668,\n",
      "         32.3016,  33.6777,  36.1345,  37.8840,  39.6296,  41.1367,  43.1158,\n",
      "         45.1329,  46.7625])\n",
      "Variance = tensor([2.5201e+02, 1.8672e+02, 1.9702e+02, 2.1464e+02, 2.0354e+02, 1.8792e+02,\n",
      "        1.3745e+02, 1.3156e+02, 1.3269e+02, 1.2560e+02, 9.1312e+01, 9.0517e+01,\n",
      "        9.1897e+01, 7.5811e+01, 6.9054e+01, 5.3360e+01, 5.0320e+01, 4.4293e+01,\n",
      "        3.9282e+01, 2.9523e+01, 2.4547e+01, 1.9848e+01, 1.9021e+01, 1.2927e+01,\n",
      "        8.1040e+00, 6.3648e+00, 3.6243e+00, 2.7535e+00, 2.1026e+00, 1.6263e+00,\n",
      "        1.3780e+00, 1.2004e+00, 9.8149e-01, 7.0926e-01, 5.7835e-01, 4.8401e-01,\n",
      "        3.0571e-01, 2.9060e-01, 2.1600e-01, 1.4502e-01, 1.1068e-01, 7.9076e-02,\n",
      "        6.1196e-02, 5.5491e-02, 6.0103e-02, 7.6057e-02, 1.1067e-01, 1.5113e-01,\n",
      "        2.0903e-01, 2.4450e-01, 2.4387e-01, 2.8073e-01, 3.0277e-01, 3.1054e-01,\n",
      "        3.3204e-01, 3.0850e-01, 3.3196e-01, 3.3293e-01, 3.9673e-01, 4.0211e-01,\n",
      "        4.2293e-01, 3.7225e-01, 3.9298e-01, 4.8038e-01, 4.3455e-01, 5.0873e-01,\n",
      "        4.8893e-01, 5.0391e-01, 5.4555e-01, 1.0027e+00, 1.5696e+00, 2.1046e+00,\n",
      "        2.9281e+00, 3.6273e+00, 4.9843e+00, 5.6380e+00, 7.7696e+00, 9.2456e+00,\n",
      "        9.4429e+00, 1.2941e+01, 1.6331e+01, 2.2339e+01, 2.6079e+01, 3.5569e+01,\n",
      "        4.3992e+01, 4.5880e+01, 5.7157e+01, 6.9007e+01, 8.5700e+01, 9.8240e+01,\n",
      "        1.0796e+02, 1.1382e+02, 1.4114e+02, 1.3749e+02, 1.5491e+02, 1.7233e+02,\n",
      "        2.0774e+02, 2.1507e+02, 2.4351e+02, 2.7162e+02])\n"
     ]
    },
    {
     "data": {
      "image/png": "[encoded data removed]",
      "text/plain": [
       "<Figure size 432x288 with 1 Axes>"
      ]
     },
     "metadata": {
      "needs_background": "light"
     },
     "output_type": "display_data"
    },
    {
     "name": "stdout",
     "output_type": "stream",
     "text": [
      "testing time = 0.471282958984375 seconds\n",
      "\n",
      "Mean = tensor([-43.4106, -41.6179, -40.4391, -40.0227, -39.4630, -37.2101, -36.3915,\n",
      "        -34.8571, -33.4795, -31.9517, -29.9053, -28.6440, -27.3027, -25.1354,\n",
      "        -22.6369, -21.6294, -19.9522, -18.3319, -16.8818, -15.3007, -14.0758,\n",
      "        -12.7284, -11.7123, -10.3586,  -9.0949,  -7.9499,  -7.1206,  -6.2516,\n",
      "         -5.5971,  -4.6388,  -4.0566,  -3.3132,  -2.8922,  -2.3011,  -2.0629,\n",
      "         -1.6557,  -1.1716,  -1.0729,  -0.4844,  -0.3414,  -0.0562,   0.1399,\n",
      "          0.2419,   0.4173,   0.5965,   0.6880,   0.8003,   0.9076,   1.1722,\n",
      "          1.2287,   1.2452,   1.4242,   1.5949,   1.6132,   1.6310,   1.7391,\n",
      "          1.8505,   1.8899,   1.9904,   2.1347,   2.3042,   2.3819,   2.6155,\n",
      "          2.8024,   2.9557,   3.0569,   3.4123,   3.6075,   3.9874,   4.2144,\n",
      "          4.7071,   5.1845,   5.6822,   6.2438,   6.7691,   7.4998,   8.1596,\n",
      "          9.1687,  10.3626,  11.3687,  12.0939,  13.6953,  14.5414,  16.5013,\n",
      "         18.2378,  19.8408,  21.6870,  23.9014,  25.6400,  27.7204,  30.0268,\n",
      "         31.5761,  33.6823,  35.5046,  37.7344,  39.7399,  41.3103,  43.8724,\n",
      "         46.4178,  46.5503])\n",
      "Variance = tensor([196.9265, 223.3520, 217.3809, 179.0470, 151.3708, 165.4560, 140.1844,\n",
      "        138.0678, 123.5670, 105.5225, 104.9210,  92.2042,  71.6629,  72.6412,\n",
      "         78.6326,  58.2139,  51.5499,  44.6063,  36.7345,  33.3931,  26.1906,\n",
      "         22.5079,  17.7823,  15.0697,  14.1548,  13.2129,  11.7754,   9.0102,\n",
      "          8.2483,   7.8252,   7.3945,   6.6586,   6.5108,   6.6297,   6.3617,\n",
      "          6.0135,   5.4716,   6.3230,   6.0358,   6.0343,   5.8474,   6.9532,\n",
      "          5.9814,   6.8284,   6.3323,   6.0057,   6.0062,   6.5631,   6.4220,\n",
      "          6.8782,   6.5021,   6.7905,   6.7766,   7.1238,   6.4291,   6.9160,\n",
      "          6.6266,   7.0841,   6.7619,   6.2713,   7.1211,   6.9098,   7.5838,\n",
      "          6.8340,   7.0767,   6.6142,   7.5528,   7.9053,   7.5650,   7.9850,\n",
      "          8.2129,   9.0160,   8.8105,   9.5803,  10.3543,  11.7796,  13.6570,\n",
      "         14.7568,  15.9476,  16.1833,  24.9788,  26.9096,  34.0815,  35.3439,\n",
      "         37.2719,  48.6268,  55.4650,  59.7997,  77.6023,  85.4200,  98.4403,\n",
      "        122.2076, 137.7966, 161.9665, 170.0962, 186.6851, 216.6831, 205.7866,\n",
      "        191.2883, 261.0963])\n"
     ]
    },
    {
     "data": {
      "image/png": "[encoded data removed]",
      "text/plain": [
       "<Figure size 432x288 with 1 Axes>"
      ]
     },
     "metadata": {
      "needs_background": "light"
     },
     "output_type": "display_data"
    },
    {
     "name": "stdout",
     "output_type": "stream",
     "text": [
      "testing time = 0.4126558303833008 seconds\n",
      "\n",
      "Mean = tensor([-25.5963, -26.0557, -25.2150, -24.8084, -24.8514, -24.3474, -24.2043,\n",
      "        -23.8592, -22.7762, -22.8390, -22.1837, -21.7125, -21.5714, -21.0751,\n",
      "        -20.8811, -20.5349, -19.4997, -18.8688, -18.9278, -18.1334, -17.3404,\n",
      "        -17.0747, -16.5068, -15.8463, -15.5163, -14.9435, -14.6210, -13.7445,\n",
      "        -13.3582, -13.0784, -12.4699, -11.5060, -11.3439, -10.8308, -10.0529,\n",
      "         -9.5394,  -9.0750,  -8.5736,  -7.9994,  -7.4052,  -6.9400,  -6.2887,\n",
      "         -5.6106,  -5.0841,  -4.5647,  -3.9530,  -3.3135,  -2.8150,  -2.1240,\n",
      "         -1.5221,  -0.9706,  -0.3661,   0.2101,   0.8651,   1.4495,   2.0566,\n",
      "          2.7180,   3.3721,   3.9484,   4.5917,   5.3349,   5.8179,   6.7156,\n",
      "          7.2445,   7.9121,   8.8234,   9.3522,  10.0081,  10.8235,  11.5370,\n",
      "         12.0946,  12.7368,  13.4416,  14.5168,  14.6007,  15.7521,  16.3375,\n",
      "         16.9463,  17.8549,  18.7423,  19.2926,  19.9770,  20.5212,  21.3019,\n",
      "         22.3151,  23.1323,  22.9138,  23.9595,  25.4674,  26.2692,  26.5920,\n",
      "         27.2185,  28.1502,  28.6845,  28.9540,  30.0455,  30.8400,  31.4499,\n",
      "         32.1392,  32.4993])\n",
      "Variance = tensor([ 88.7108,  69.7708,  77.9949,  74.9001,  64.3405,  66.8454,  57.6204,\n",
      "         58.1808,  66.5965,  56.3119,  56.9858,  55.9053,  49.1766,  50.3249,\n",
      "         41.4450,  35.7759,  44.5484,  45.7534,  33.8995,  36.2468,  39.5760,\n",
      "         34.7830,  33.8916,  32.9664,  27.7231,  27.3258,  21.3495,  25.0860,\n",
      "         22.1799,  17.6514,  16.3350,  19.3307,  14.6201,  12.0125,  12.8247,\n",
      "         12.0958,   9.9835,   8.4546,   7.3414,   6.4648,   5.6540,   5.0231,\n",
      "          4.5316,   3.8593,   3.0498,   2.4054,   2.1254,   1.6478,   1.3378,\n",
      "          1.1015,   1.0063,   0.8465,   0.8331,   0.8737,   0.9769,   1.1382,\n",
      "          1.4942,   1.8726,   2.4459,   3.1737,   3.5225,   5.2439,   5.0193,\n",
      "          6.3909,   7.7143,   7.1951,   9.7298,  11.3157,  11.9726,  13.2185,\n",
      "         16.6104,  18.9331,  21.4416,  19.0631,  29.5248,  26.2076,  30.7786,\n",
      "         35.5857,  35.8961,  35.6336,  43.2287,  45.8345,  52.5530,  56.5660,\n",
      "         53.9701,  55.4011,  77.6521,  75.8941,  62.3724,  64.6890,  78.3300,\n",
      "         82.9460,  81.9447,  90.0798, 105.4226,  98.8104, 101.7683, 105.8380,\n",
      "        108.0286, 122.1242])\n"
     ]
    },
    {
     "data": {
      "image/png": "[encoded data removed]",
      "text/plain": [
       "<Figure size 432x288 with 1 Axes>"
      ]
     },
     "metadata": {
      "needs_background": "light"
     },
     "output_type": "display_data"
    }
   ],
   "source": [
    "for key, network in uncertainty_methods.items():\n",
    "\n",
    "    \"\"\"\n",
    "    Testing\n",
    "    \"\"\"\n",
    "\n",
    "    # Model to eval mode\n",
    "    network.eval()\n",
    "\n",
    "    # Record testing start time (for this split)\n",
    "    tic_testing = time.time()\n",
    "    \n",
    "    predictions_non_mc = network(X_test)\n",
    "\n",
    "    predictions, mean, var, metrics = network.predict_dist(X_test, n_predictions)\n",
    "    \n",
    "    # Record testing end time\n",
    "    toc_testing = time.time()\n",
    "    \n",
    "    # Report the total testing time\n",
    "    print(\"testing time = \" + str(toc_testing - tic_testing) + \" seconds\")\n",
    "\n",
    "    # These can now be stored in CPU memory for plotting\n",
    "    predictions_non_mc = predictions_non_mc.cpu()\n",
    "    predictions = predictions.cpu()\n",
    "    mean = mean.cpu()\n",
    "    var = var.cpu()\n",
    "    \n",
    "    \"\"\"\n",
    "    Print results\n",
    "    \"\"\"\n",
    "\n",
    "    print()\n",
    "    print(\"Mean = \" + str(mean.flatten()))\n",
    "    print(\"Variance = \" + str(var.flatten()))\n",
    "    \n",
    "    # store additional metrics\n",
    "    if len(metrics) > 0:\n",
    "        for key, value in metrics.items():\n",
    "            print(str(key) + \" = \" + str(value))\n",
    "        print()\n",
    "             \n",
    "    # Plot the uncertainty measured by each methods\n",
    "    plt.figure()\n",
    "    \n",
    "    # Fix the scales of x-axis and y-axis\n",
    "    plt.xlim(dataset_toy_x_low, dataset_toy_x_high)\n",
    "    plt.ylim(dataset_toy_y_mean-2*dataset_toy_y_std, dataset_toy_y_mean+2*dataset_toy_y_std)\n",
    "\n",
    "    # Distributions around the predictions\n",
    "    plt.fill_between(\n",
    "        X_test_cpu.flatten(), \n",
    "        (mean.detach().numpy() - 2*torch.sqrt(var).detach().numpy()).flatten(),\n",
    "        (mean.detach().numpy() + 2*torch.sqrt(var).detach().numpy()).flatten(),\n",
    "        color='lightblue', alpha=0.8)\n",
    "\n",
    "    # Train data\n",
    "    plt.plot(dataset.data_x.cpu(), dataset.data_y.cpu(), 'or', label='Training data', alpha=0.3)\n",
    "\n",
    "    # Non-MC prediction\n",
    "    plt.plot(X_test_cpu, predictions_non_mc.detach().numpy(), 'green', label='non-MC prediction', alpha=0.6)    \n",
    "    \n",
    "    # MC prediction\n",
    "    plt.plot(X_test_cpu, mean.detach().numpy(), 'blue', label='mean prediction', alpha=0.35)\n",
    "    \n",
    "    # Original data generating function without noise\n",
    "    plt.plot(X_test_cpu, X_test_cpu ** 3, 'gray', label='data generating function')    \n",
    "    \n",
    "    plt.legend()\n",
    "    \n",
    "    plt.savefig(os.path.join(test_results_path, str(key) + '.png'), dpi=600)\n",
    "    \n",
    "    plt.show()"
   ]
  },
  {
   "cell_type": "code",
   "execution_count": null,
   "metadata": {},
   "outputs": [],
   "source": []
  }
 ],
 "metadata": {
  "accelerator": "GPU",
  "colab": {
   "collapsed_sections": [
    "Bka_bK83VFHh",
    "eEfdrHcOVFIj"
   ],
   "name": "experiment_comparison_toy.ipynb",
   "provenance": []
  },
  "kernelspec": {
   "display_name": "Python 3",
   "language": "python",
   "name": "python3"
  },
  "language_info": {
   "codemirror_mode": {
    "name": "ipython",
    "version": 3
   },
   "file_extension": ".py",
   "mimetype": "text/x-python",
   "name": "python",
   "nbconvert_exporter": "python",
   "pygments_lexer": "ipython3",
   "version": "3.8.0"
  }
 },
 "nbformat": 4,
 "nbformat_minor": 1
}
