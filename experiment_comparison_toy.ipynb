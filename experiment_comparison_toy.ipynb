{
 "cells": [
  {
   "cell_type": "markdown",
   "metadata": {
    "colab_type": "text",
    "id": "Bka_bK83VFHh"
   },
   "source": [
    "## Experiment Setup"
   ]
  },
  {
   "cell_type": "markdown",
   "metadata": {
    "colab_type": "text",
    "id": "8D5NSPs_cJZe"
   },
   "source": [
    "###  Random seed / Colab / CUDA related"
   ]
  },
  {
   "cell_type": "code",
   "execution_count": 1,
   "metadata": {
    "colab": {
     "base_uri": "https://localhost:8080/",
     "height": 592
    },
    "colab_type": "code",
    "executionInfo": {
     "elapsed": 32214,
     "status": "ok",
     "timestamp": 1575021332527,
     "user": {
      "displayName": "Ronald Seoh",
      "photoUrl": "",
      "userId": "10284188050297676522"
     },
     "user_tz": 300
    },
    "id": "pHbfpytEVFHu",
    "outputId": "7913f72d-859c-477f-90b8-6c37e04f5759"
   },
   "outputs": [],
   "source": [
    "import time\n",
    "import datetime\n",
    "import os\n",
    "import sys\n",
    "import itertools\n",
    "\n",
    "# Use Google Colab\n",
    "use_colab = True\n",
    "\n",
    "# Is this notebook running on Colab?\n",
    "# If so, then google.colab package (github.com/googlecolab/colabtools)\n",
    "# should be available in this environment\n",
    "\n",
    "# Previous version used importlib, but we could do the same thing with\n",
    "# just attempting to import google.colab\n",
    "try:\n",
    "    from google.colab import drive\n",
    "    colab_available = True\n",
    "except:\n",
    "    colab_available = False\n",
    "\n",
    "if use_colab and colab_available:\n",
    "    drive.mount('/content/drive')\n",
    "    \n",
    "    # If there's a package I need to install separately, do it here\n",
    "    !pip install pyro-ppl\n",
    "\n",
    "    # cd to the appropriate working directory under my Google Drive\n",
    "    %cd 'drive/My Drive/Colab Notebooks/bayesian-dl-experiments'\n",
    "    \n",
    "    # List the directory contents\n",
    "    !ls\n",
    "\n",
    "# IPython reloading magic\n",
    "%load_ext autoreload\n",
    "%autoreload 2\n",
    "\n",
    "# Random seeds\n",
    "# Based on https://pytorch.org/docs/stable/notes/randomness.html\n",
    "random_seed = 682"
   ]
  },
  {
   "cell_type": "markdown",
   "metadata": {
    "colab_type": "text",
    "id": "L8udq6NnHSXW"
   },
   "source": [
    "### Third party libraries (NumPy, PyTorch, Pyro)"
   ]
  },
  {
   "cell_type": "code",
   "execution_count": 2,
   "metadata": {
    "colab": {
     "base_uri": "https://localhost:8080/",
     "height": 104
    },
    "colab_type": "code",
    "executionInfo": {
     "elapsed": 35929,
     "status": "ok",
     "timestamp": 1575021336266,
     "user": {
      "displayName": "Ronald Seoh",
      "photoUrl": "",
      "userId": "10284188050297676522"
     },
     "user_tz": 300
    },
    "id": "BOJA1nXgHSXa",
    "outputId": "e2c1368a-d446-42c6-b971-155962116ceb"
   },
   "outputs": [
    {
     "name": "stdout",
     "output_type": "stream",
     "text": [
      "Python Version: 3.7.4 (default, Aug 13 2019, 15:17:50) \n",
      "[Clang 4.0.1 (tags/RELEASE_401/final)]\n",
      "NumPy Version: 1.17.2\n",
      "PyTorch Version: 1.3.1\n",
      "Pyro Version: 1.0.0\n"
     ]
    }
   ],
   "source": [
    "# Third party libraries import\n",
    "import numpy as np\n",
    "import torch\n",
    "import pyro\n",
    "import matplotlib.pyplot as plt\n",
    "\n",
    "# Print version information\n",
    "print(\"Python Version: \" + sys.version)\n",
    "print(\"NumPy Version: \" + np.__version__)\n",
    "print(\"PyTorch Version: \" + torch.__version__)\n",
    "print(\"Pyro Version: \" + pyro.__version__)"
   ]
  },
  {
   "cell_type": "code",
   "execution_count": 3,
   "metadata": {
    "colab": {
     "base_uri": "https://localhost:8080/",
     "height": 86
    },
    "colab_type": "code",
    "executionInfo": {
     "elapsed": 44842,
     "status": "ok",
     "timestamp": 1575021345196,
     "user": {
      "displayName": "Ronald Seoh",
      "photoUrl": "",
      "userId": "10284188050297676522"
     },
     "user_tz": 300
    },
    "id": "BOIqWi_wHSXi",
    "outputId": "b658d6b3-5990-4d42-f71e-f8cbff718437"
   },
   "outputs": [],
   "source": [
    "# More imports...\n",
    "from torch import nn, optim\n",
    "from torch.utils.data import random_split, DataLoader, RandomSampler\n",
    "import torchvision\n",
    "import torchvision.transforms as transforms\n",
    "from pyro.infer import SVI, Trace_ELBO, HMC, MCMC\n",
    "\n",
    "# Import model and dataset classes from ronald_bdl\n",
    "from ronald_bdl import models, datasets\n",
    "from ronald_bdl.models import utils\n",
    "\n",
    "# pyplot setting\n",
    "%matplotlib inline\n",
    "\n",
    "# torch.device / CUDA Setup\n",
    "use_cuda = True\n",
    "\n",
    "if use_cuda and torch.cuda.is_available():\n",
    "    torch_device = torch.device('cuda')\n",
    "\n",
    "    torch.backends.cudnn.deterministic = True\n",
    "    # Disable 'benchmark' mode\n",
    "    # Note: https://discuss.pytorch.org/t/what-does-torch-backends-cudnn-benchmark-do/5936\n",
    "    torch.backends.cudnn.benchmark = False\n",
    "    use_pin_memory = True # Faster Host to GPU copies with page-locked memory\n",
    "\n",
    "    # CUDA libraries version information\n",
    "    print(\"CUDA Version: \" + str(torch.version.cuda))\n",
    "    print(\"cuDNN Version: \" + str(torch.backends.cudnn.version()))\n",
    "    print(\"CUDA Device Name: \" + str(torch.cuda.get_device_name()))\n",
    "    print(\"CUDA Capabilities: \"+ str(torch.cuda.get_device_capability()))\n",
    "else:\n",
    "    torch_device = torch.device('cpu')\n",
    "    use_pin_memory = False"
   ]
  },
  {
   "cell_type": "markdown",
   "metadata": {
    "colab_type": "text",
    "id": "XIFRoH3AcJZn"
   },
   "source": [
    "### Toy dataset settings"
   ]
  },
  {
   "cell_type": "code",
   "execution_count": 4,
   "metadata": {
    "colab": {},
    "colab_type": "code",
    "id": "g_pzGq1_cJZp"
   },
   "outputs": [],
   "source": [
    "\"\"\"\n",
    "Toy dataset generation based on the experiment from \n",
    "the Probabilstic Backpropagation paper (Hernandez-Lobato & Adams, 2015)\n",
    "\"\"\"\n",
    "\n",
    "# Random seed for toy dataset\n",
    "dataset_toy_random_seed = 691\n",
    "\n",
    "# Toy dataset size\n",
    "dataset_toy_size = 20\n",
    "\n",
    "# Toy dataset x distribution (uniform) parameters\n",
    "dataset_toy_x_low = -4\n",
    "dataset_toy_x_high = 4\n",
    "\n",
    "# Toy dataset y distribution (normal with noise)\n",
    "dataset_toy_y_mean = 0\n",
    "dataset_toy_y_std = 9"
   ]
  },
  {
   "cell_type": "markdown",
   "metadata": {
    "colab_type": "text",
    "id": "Kdi_LQ7sspvM"
   },
   "source": [
    "### MC dropout parameters"
   ]
  },
  {
   "cell_type": "code",
   "execution_count": 5,
   "metadata": {
    "colab": {},
    "colab_type": "code",
    "id": "0ys_GAWtHSX4"
   },
   "outputs": [
    {
     "name": "stdout",
     "output_type": "stream",
     "text": [
      "reg_strength = tensor(4.5000e-06)\n"
     ]
    }
   ],
   "source": [
    "\"\"\"\n",
    "MC Dropout related\n",
    "\"\"\"\n",
    "\n",
    "# Dropout rate\n",
    "dropout_rate = 0.1\n",
    "\n",
    "# Length scale\n",
    "length_scale = 1e-2\n",
    "\n",
    "# tau\n",
    "tau = 0.5\n",
    "\n",
    "# reg strength\n",
    "reg_strength = utils.reg_strength(dropout_rate, length_scale, dataset_toy_size, tau)\n",
    "\n",
    "print('reg_strength = ' + str(reg_strength))\n",
    "\n",
    "# Epochs\n",
    "n_epochs = 4000\n",
    "\n",
    "# Optimizer learning rate\n",
    "learning_rate = 0.001\n",
    "\n",
    "# Loss function type\n",
    "loss_function_type = 'mse_loss'\n",
    "\n",
    "# Number of test predictions (for each data point)\n",
    "n_predictions = 1000"
   ]
  },
  {
   "cell_type": "markdown",
   "metadata": {
    "colab_type": "text",
    "id": "DNGDKiltsux3"
   },
   "source": [
    "### Directory path to save results"
   ]
  },
  {
   "cell_type": "code",
   "execution_count": 6,
   "metadata": {
    "colab": {},
    "colab_type": "code",
    "id": "9ysu9G0FHSX-"
   },
   "outputs": [],
   "source": [
    "# Test start time\n",
    "test_start_time = datetime.datetime.today().strftime('%Y%m%d%H%M')\n",
    "\n",
    "# Directory to store the results for this experiment\n",
    "test_results_path = os.path.join(\n",
    "    './test_results',\n",
    "    'comparison_toy',\n",
    "    (\n",
    "        test_start_time \n",
    "        + '_' + str(n_epochs) \n",
    "        + '_' + str(dropout_rate) \n",
    "        + '_' + str(length_scale)\n",
    "        + '_' + str(tau)\n",
    "        + '_' + str(loss_function_type) \n",
    "        + '_' + str(n_predictions))\n",
    ")\n",
    "\n",
    "# Create the directory if it doesn't exist\n",
    "os.makedirs(test_results_path, exist_ok=True)"
   ]
  },
  {
   "cell_type": "markdown",
   "metadata": {
    "colab_type": "text",
    "id": "sZwe_f-yVFIf"
   },
   "source": [
    "## Prepare data"
   ]
  },
  {
   "cell_type": "markdown",
   "metadata": {
    "colab_type": "text",
    "id": "eEfdrHcOVFIj"
   },
   "source": [
    "### Get the data as a torch Dataset object"
   ]
  },
  {
   "cell_type": "code",
   "execution_count": 7,
   "metadata": {
    "colab": {
     "base_uri": "https://localhost:8080/",
     "height": 34
    },
    "colab_type": "code",
    "executionInfo": {
     "elapsed": 51278,
     "status": "ok",
     "timestamp": 1575021351670,
     "user": {
      "displayName": "Ronald Seoh",
      "photoUrl": "",
      "userId": "10284188050297676522"
     },
     "user_tz": 300
    },
    "id": "5u5qU-9JVFIr",
    "outputId": "480ccb60-6d74-46ec-dc61-e7689ebdb300"
   },
   "outputs": [
    {
     "name": "stdout",
     "output_type": "stream",
     "text": [
      "dataset size = (20, 1)\n"
     ]
    }
   ],
   "source": [
    "dataset = datasets.ToyDatasets(\n",
    "    random_seed=dataset_toy_random_seed,\n",
    "    n_samples=dataset_toy_size,\n",
    "    x_low=dataset_toy_x_low,\n",
    "    x_high=dataset_toy_x_high,\n",
    "    y_mean=dataset_toy_y_mean,\n",
    "    y_std=dataset_toy_y_std,\n",
    ")\n",
    "\n",
    "# Get the test data\n",
    "X_test = torch.linspace(dataset_toy_x_low, dataset_toy_x_high, 100).reshape(100, 1)\n",
    "\n",
    "# Send it to the memory of the device to be used for training\n",
    "X_test = X_test.to(torch_device)\n",
    "\n",
    "# Save a copy at CPU for plotting\n",
    "X_test_cpu = X_test.cpu()\n",
    "\n",
    "# Print the size of the training set\n",
    "print(\"dataset size = \" + str((len(dataset), dataset.n_features)))"
   ]
  },
  {
   "cell_type": "markdown",
   "metadata": {
    "colab_type": "text",
    "id": "LaasFWpqVFJ1"
   },
   "source": [
    "## Declare models"
   ]
  },
  {
   "cell_type": "code",
   "execution_count": 8,
   "metadata": {
    "colab": {},
    "colab_type": "code",
    "id": "gAqkGtg7VFJ9"
   },
   "outputs": [],
   "source": [
    "uncertainty_methods = {}\n",
    "\n",
    "# MC (Bernoulli) dropout\n",
    "do_mc_dropout = True\n",
    "\n",
    "if do_mc_dropout:\n",
    "    uncertainty_methods['mc_dropout'] = models.FCNet(\n",
    "        input_dim=dataset.n_features, \n",
    "        output_dim=dataset.n_targets,\n",
    "        hidden_dim=100,\n",
    "        n_hidden=0,\n",
    "        dropout_rate=dropout_rate,\n",
    "        dropout_type='bernoulli',\n",
    "    )\n",
    "    \n",
    "    uncertainty_methods['mc_dropout_tanh'] = models.FCNet(\n",
    "        input_dim=dataset.n_features, \n",
    "        output_dim=dataset.n_targets,\n",
    "        hidden_dim=100,\n",
    "        n_hidden=0,\n",
    "        dropout_rate=dropout_rate,\n",
    "        dropout_type='bernoulli',\n",
    "        nonlinear_type='tanh',\n",
    "    )\n",
    "    \n",
    "    uncertainty_methods['mc_dropout_sigmoid'] = models.FCNet(\n",
    "        input_dim=dataset.n_features, \n",
    "        output_dim=dataset.n_targets,\n",
    "        hidden_dim=100,\n",
    "        n_hidden=0,\n",
    "        dropout_rate=dropout_rate,\n",
    "        dropout_type='bernoulli',\n",
    "        nonlinear_type='sigmoid',\n",
    "    )\n",
    "\n",
    "# Vanilla Variational Inference\n",
    "do_vi = False\n",
    "\n",
    "if do_vi:\n",
    "    uncertainty_methods['vi'] = models.FCNetPyro(\n",
    "        input_dim=dataset.n_features, \n",
    "        output_dim=dataset.n_targets,\n",
    "        hidden_dim=100,\n",
    "        n_hidden=0,\n",
    "        torch_device=torch_device,\n",
    "    )\n",
    "\n",
    "# HMC\n",
    "do_hmc = False\n",
    "\n",
    "if do_hmc:\n",
    "    uncertainty_methods['hmc'] = models.FCNetPyro(\n",
    "        input_dim=dataset.n_features, \n",
    "        output_dim=dataset.n_targets,\n",
    "        hidden_dim=100,\n",
    "        n_hidden=0,\n",
    "        torch_device=torch_device,\n",
    "    )"
   ]
  },
  {
   "cell_type": "markdown",
   "metadata": {
    "colab_type": "text",
    "id": "1PpzPMI8VFKE"
   },
   "source": [
    "## Train the models"
   ]
  },
  {
   "cell_type": "markdown",
   "metadata": {
    "colab_type": "text",
    "id": "Jc7Td1h1VFKb"
   },
   "source": [
    "### Train/test the model"
   ]
  },
  {
   "cell_type": "code",
   "execution_count": 9,
   "metadata": {
    "colab": {
     "base_uri": "https://localhost:8080/",
     "height": 903
    },
    "colab_type": "code",
    "executionInfo": {
     "elapsed": 1213641,
     "status": "ok",
     "timestamp": 1575022514055,
     "user": {
      "displayName": "Ronald Seoh",
      "photoUrl": "",
      "userId": "10284188050297676522"
     },
     "user_tz": 300
    },
    "id": "m4kavCiTVFKf",
    "outputId": "6731cdaf-71b9-4709-fd78-45fb2b335a05",
    "scrolled": false
   },
   "outputs": [
    {
     "name": "stdout",
     "output_type": "stream",
     "text": [
      "Now running mc_dropout\n",
      "FCNet(\n",
      "  (input): ModuleDict(\n",
      "    (dropout): Dropout(p=0.1, inplace=False)\n",
      "    (linear): Linear(in_features=1, out_features=100, bias=True)\n",
      "    (nonlinear): ReLU()\n",
      "  )\n",
      "  (output): ModuleDict(\n",
      "    (dropout): Dropout(p=0.1, inplace=False)\n",
      "    (linear): Linear(in_features=100, out_features=1, bias=True)\n",
      "  )\n",
      ")\n",
      "\n",
      "[iteration 0001] loss: 585.1613\n",
      "[iteration 0101] loss: 341.5176\n",
      "[iteration 0201] loss: 232.0521\n",
      "[iteration 0301] loss: 174.8347\n",
      "[iteration 0401] loss: 234.5388\n",
      "[iteration 0501] loss: 175.1985\n",
      "[iteration 0601] loss: 163.4085\n",
      "[iteration 0701] loss: 163.7288\n",
      "[iteration 0801] loss: 167.1473\n",
      "[iteration 0901] loss: 149.5962\n",
      "[iteration 1001] loss: 176.4000\n",
      "[iteration 1101] loss: 135.7911\n",
      "[iteration 1201] loss: 171.1487\n",
      "[iteration 1301] loss: 258.6693\n",
      "[iteration 1401] loss: 122.1155\n",
      "[iteration 1501] loss: 150.5122\n",
      "[iteration 1601] loss: 184.7321\n",
      "[iteration 1701] loss: 114.3946\n",
      "[iteration 1801] loss: 127.1016\n",
      "[iteration 1901] loss: 96.6620\n",
      "[iteration 2001] loss: 98.3138\n",
      "[iteration 2101] loss: 151.0336\n",
      "[iteration 2201] loss: 277.3769\n",
      "[iteration 2301] loss: 94.9010\n",
      "[iteration 2401] loss: 97.6041\n",
      "[iteration 2501] loss: 90.8856\n",
      "[iteration 2601] loss: 284.4012\n",
      "[iteration 2701] loss: 97.7418\n",
      "[iteration 2801] loss: 129.5057\n",
      "[iteration 2901] loss: 367.3870\n",
      "[iteration 3001] loss: 82.0143\n",
      "[iteration 3101] loss: 156.1896\n",
      "[iteration 3201] loss: 135.4292\n",
      "[iteration 3301] loss: 131.9902\n",
      "[iteration 3401] loss: 183.6739\n",
      "[iteration 3501] loss: 95.5236\n",
      "[iteration 3601] loss: 142.8635\n",
      "[iteration 3701] loss: 92.2186\n",
      "[iteration 3801] loss: 131.1799\n",
      "[iteration 3901] loss: 84.0719\n",
      "final loss = tensor(98.0371, grad_fn=<MseLossBackward>)\n",
      "training time = 4.073941946029663 seconds\n",
      "\n",
      "Now running mc_dropout_tanh\n",
      "FCNet(\n",
      "  (input): ModuleDict(\n",
      "    (dropout): Dropout(p=0.1, inplace=False)\n",
      "    (linear): Linear(in_features=1, out_features=100, bias=True)\n",
      "    (nonlinear): Tanh()\n",
      "  )\n",
      "  (output): ModuleDict(\n",
      "    (dropout): Dropout(p=0.1, inplace=False)\n",
      "    (linear): Linear(in_features=100, out_features=1, bias=True)\n",
      "  )\n",
      ")\n",
      "\n",
      "[iteration 0001] loss: 598.3568\n",
      "[iteration 0101] loss: 409.1453\n",
      "[iteration 0201] loss: 321.5756\n",
      "[iteration 0301] loss: 242.3355\n",
      "[iteration 0401] loss: 280.0068\n",
      "[iteration 0501] loss: 204.6506\n",
      "[iteration 0601] loss: 187.5678\n",
      "[iteration 0701] loss: 190.9375\n",
      "[iteration 0801] loss: 174.6062\n",
      "[iteration 0901] loss: 162.3413\n",
      "[iteration 1001] loss: 182.9695\n",
      "[iteration 1101] loss: 137.9231\n",
      "[iteration 1201] loss: 171.8636\n",
      "[iteration 1301] loss: 259.1832\n",
      "[iteration 1401] loss: 132.2225\n",
      "[iteration 1501] loss: 125.8388\n",
      "[iteration 1601] loss: 174.1519\n",
      "[iteration 1701] loss: 110.1215\n",
      "[iteration 1801] loss: 120.0936\n",
      "[iteration 1901] loss: 93.1076\n",
      "[iteration 2001] loss: 106.1392\n",
      "[iteration 2101] loss: 171.2921\n",
      "[iteration 2201] loss: 265.2801\n",
      "[iteration 2301] loss: 114.0552\n",
      "[iteration 2401] loss: 103.1514\n",
      "[iteration 2501] loss: 85.1394\n",
      "[iteration 2601] loss: 280.3653\n",
      "[iteration 2701] loss: 111.9190\n",
      "[iteration 2801] loss: 130.0661\n",
      "[iteration 2901] loss: 359.0629\n",
      "[iteration 3001] loss: 71.7303\n",
      "[iteration 3101] loss: 166.6144\n",
      "[iteration 3201] loss: 125.9942\n",
      "[iteration 3301] loss: 127.6422\n",
      "[iteration 3401] loss: 182.4327\n",
      "[iteration 3501] loss: 106.1257\n",
      "[iteration 3601] loss: 127.6986\n",
      "[iteration 3701] loss: 93.5075\n",
      "[iteration 3801] loss: 134.5119\n",
      "[iteration 3901] loss: 83.7181\n",
      "final loss = tensor(63.9364, grad_fn=<MseLossBackward>)\n",
      "training time = 4.061913013458252 seconds\n",
      "\n",
      "Now running mc_dropout_sigmoid\n",
      "FCNet(\n",
      "  (input): ModuleDict(\n",
      "    (dropout): Dropout(p=0.1, inplace=False)\n",
      "    (linear): Linear(in_features=1, out_features=100, bias=True)\n",
      "    (nonlinear): Sigmoid()\n",
      "  )\n",
      "  (output): ModuleDict(\n",
      "    (dropout): Dropout(p=0.1, inplace=False)\n",
      "    (linear): Linear(in_features=100, out_features=1, bias=True)\n",
      "  )\n",
      ")\n",
      "\n",
      "[iteration 0001] loss: 573.5545\n",
      "[iteration 0101] loss: 494.1615\n",
      "[iteration 0201] loss: 415.7797\n",
      "[iteration 0301] loss: 320.8088\n",
      "[iteration 0401] loss: 320.4341\n",
      "[iteration 0501] loss: 251.3170\n",
      "[iteration 0601] loss: 235.7699\n",
      "[iteration 0701] loss: 242.6292\n",
      "[iteration 0801] loss: 224.1945\n",
      "[iteration 0901] loss: 215.2029\n",
      "[iteration 1001] loss: 238.0082\n",
      "[iteration 1101] loss: 201.3494\n",
      "[iteration 1201] loss: 238.2605\n",
      "[iteration 1301] loss: 327.1929\n",
      "[iteration 1401] loss: 193.9977\n",
      "[iteration 1501] loss: 191.6548\n",
      "[iteration 1601] loss: 247.0256\n",
      "[iteration 1701] loss: 187.2124\n",
      "[iteration 1801] loss: 194.3551\n",
      "[iteration 1901] loss: 172.4323\n",
      "[iteration 2001] loss: 171.4522\n",
      "[iteration 2101] loss: 226.4084\n",
      "[iteration 2201] loss: 333.5107\n",
      "[iteration 2301] loss: 178.0818\n",
      "[iteration 2401] loss: 178.5280\n",
      "[iteration 2501] loss: 151.0602\n",
      "[iteration 2601] loss: 330.7086\n",
      "[iteration 2701] loss: 171.6639\n",
      "[iteration 2801] loss: 206.7843\n",
      "[iteration 2901] loss: 398.3601\n",
      "[iteration 3001] loss: 170.2219\n",
      "[iteration 3101] loss: 226.1863\n",
      "[iteration 3201] loss: 191.9443\n",
      "[iteration 3301] loss: 201.7666\n",
      "[iteration 3401] loss: 255.6248\n",
      "[iteration 3501] loss: 153.2804\n",
      "[iteration 3601] loss: 211.3888\n",
      "[iteration 3701] loss: 148.5730\n",
      "[iteration 3801] loss: 212.3308\n",
      "[iteration 3901] loss: 146.3027\n",
      "final loss = tensor(144.6902, grad_fn=<MseLossBackward>)\n",
      "training time = 4.070984840393066 seconds\n",
      "\n"
     ]
    }
   ],
   "source": [
    "for key, network in uncertainty_methods.items():\n",
    "    # Reset the random number generator for each method (to produce identical results)\n",
    "    torch.manual_seed(random_seed)\n",
    "    np.random.seed(random_seed)\n",
    "    pyro.set_rng_seed(random_seed)\n",
    "    \n",
    "    # Print the method name\n",
    "    print(\"Now running \" + str(key))\n",
    "    \n",
    "    # Send the whole model to the selected torch.device\n",
    "    network.to(torch_device)\n",
    "\n",
    "    # Print the network structure\n",
    "    print(network)\n",
    "    print()\n",
    "\n",
    "    # Initialize training data loader\n",
    "    train_loader = DataLoader(dataset, batch_size=128)\n",
    "    \n",
    "    \"\"\"\n",
    "    Optimizer Setup\n",
    "    \"\"\"\n",
    "\n",
    "    if isinstance(network, models.FCNet):\n",
    "        # Adam optimizer\n",
    "        # https://pytorch.org/docs/stable/optim.html?highlight=adam#torch.optim.Adam\n",
    "        # NOTE: Need to set L2 regularization from here\n",
    "        optimizer = torch.optim.Adam(\n",
    "            network.parameters(),\n",
    "            lr=learning_rate,\n",
    "            weight_decay=reg_strength, # L2 regularization\n",
    "        )\n",
    "\n",
    "        # Mean Squared Error for loss function to minimize\n",
    "        objective = torch.nn.MSELoss()\n",
    "\n",
    "    elif isinstance(network, models.FCNetPyro):\n",
    "        # Clear everything in Pyro parameter storage\n",
    "        # Looks like this parameter store would be globally shared across\n",
    "        # models in the same Python instance.\n",
    "        pyro.clear_param_store()\n",
    "\n",
    "        # Force all the PyTorch tensors to be CUDA tensors if available\n",
    "        if use_cuda and torch.cuda.is_available():\n",
    "            torch.set_default_tensor_type(torch.cuda.FloatTensor)\n",
    "\n",
    "        # Different optimizers for VI and HMC\n",
    "        if key == 'vi':\n",
    "            optimizer = pyro.optim.Adam({\"lr\": 0.01})\n",
    "            svi = SVI(network, network.guide, optimizer, loss=Trace_ELBO())\n",
    "        elif key == 'hmc':\n",
    "            kernel = HMC(network)\n",
    "            mcmc = MCMC(kernel, num_samples=10000)\n",
    "\n",
    "    \"\"\"\n",
    "    Training\n",
    "    \"\"\"\n",
    "\n",
    "    # Model to train mode\n",
    "    network.train()\n",
    "\n",
    "    # Record training start time (for this method)\n",
    "    tic = time.time()\n",
    "    \n",
    "    if key == 'hmc':\n",
    "        # to() actually returns new Tensor; need to replace with that return\n",
    "        dataset.data_x = dataset.data_x.to(torch_device)\n",
    "\n",
    "        dataset.data_y = dataset.data_y.to(torch_device)\n",
    "\n",
    "        mcmc.run(dataset.data_x, dataset.data_y)\n",
    "    else:\n",
    "        for epoch in range(n_epochs): # loop over the dataset multiple times\n",
    "\n",
    "            for i, data in enumerate(train_loader):\n",
    "                # get the inputs; data is a list of [inputs, labels]\n",
    "                inputs, targets = data\n",
    "\n",
    "                # Store the batch to torch_device's memory\n",
    "                # to() actually returns new Tensor; need to replace with that return\n",
    "                inputs = inputs.to(torch_device)\n",
    "                targets = targets.to(torch_device)\n",
    "\n",
    "                if isinstance(network, models.FCNet):\n",
    "                    # zero the parameter gradients\n",
    "                    optimizer.zero_grad()\n",
    "\n",
    "                    # forward + backward + optimize\n",
    "                    outputs = network(inputs)\n",
    "\n",
    "                    total_loss = objective(outputs, targets)\n",
    "\n",
    "                    total_loss.backward()\n",
    "\n",
    "                    optimizer.step()\n",
    "\n",
    "                elif isinstance(network, models.FCNetPyro):\n",
    "                    pyro.clear_param_store()\n",
    "                    # calculate the loss and take a gradient step\n",
    "                    total_loss = svi.step(inputs, targets)\n",
    "\n",
    "            if epoch % 100 == 0:\n",
    "                print(\"[iteration %04d] loss: %.4f\" % (epoch + 1, total_loss))\n",
    "            \n",
    "    # Record training end time\n",
    "    toc = time.time()\n",
    "\n",
    "    # Report the final loss\n",
    "    print(\"final loss = \" + str(total_loss))            \n",
    "\n",
    "    # Report the total training time\n",
    "    print(\"training time = \" + str(toc - tic) + \" seconds\")\n",
    "    \n",
    "    print()"
   ]
  },
  {
   "cell_type": "markdown",
   "metadata": {
    "colab_type": "text",
    "id": "xrknIU5UWv-v"
   },
   "source": [
    "## Plot the results"
   ]
  },
  {
   "cell_type": "code",
   "execution_count": 10,
   "metadata": {
    "colab": {
     "base_uri": "https://localhost:8080/",
     "height": 1000
    },
    "colab_type": "code",
    "executionInfo": {
     "elapsed": 20586,
     "status": "ok",
     "timestamp": 1575024185652,
     "user": {
      "displayName": "Ronald Seoh",
      "photoUrl": "",
      "userId": "10284188050297676522"
     },
     "user_tz": 300
    },
    "id": "ymmG2nxTHSYq",
    "outputId": "bad750f8-6180-4e17-8cfc-21b92fe8c524",
    "scrolled": false
   },
   "outputs": [
    {
     "name": "stdout",
     "output_type": "stream",
     "text": [
      "testing time = 0.10597610473632812 seconds\n",
      "\n",
      "Mean = tensor([-46.4370, -45.8748, -43.5808, -41.1280, -39.2306, -37.5926, -37.3440,\n",
      "        -35.6154, -33.3410, -31.7108, -30.8394, -28.9495, -26.8713, -25.6194,\n",
      "        -23.8589, -22.5140, -20.6880, -19.0037, -17.2483, -15.8594, -14.2364,\n",
      "        -12.6115, -10.7759,  -9.5364,  -8.2753,  -6.7383,  -5.3990,  -3.9157,\n",
      "         -3.5579,  -3.3084,  -2.9990,  -2.7082,  -2.4068,  -2.1437,  -1.8367,\n",
      "         -1.5201,  -1.3011,  -1.0283,  -0.8055,  -0.6186,  -0.4395,  -0.2317,\n",
      "         -0.0690,   0.0991,   0.2823,   0.4824,   0.6715,   0.8465,   1.0343,\n",
      "          1.2197,   1.3535,   1.4122,   1.4858,   1.5405,   1.5504,   1.6386,\n",
      "          1.6570,   1.7199,   1.7085,   1.7548,   1.7688,   1.8560,   1.8868,\n",
      "          1.8741,   1.9532,   1.9385,   2.0003,   2.0269,   2.1231,   2.7100,\n",
      "          3.4783,   4.3097,   5.1540,   5.9849,   6.7549,   7.6579,   8.3083,\n",
      "          9.2022,  10.2595,  11.1189,  12.6260,  14.2596,  16.1875,  17.7582,\n",
      "         19.4929,  21.5347,  23.2912,  25.0117,  26.4337,  28.1512,  30.2037,\n",
      "         32.3511,  33.6582,  35.9661,  37.6332,  39.3905,  40.7648,  42.8381,\n",
      "         44.2919,  45.9683])\n",
      "Variance = tensor([2.6297e+02, 1.9352e+02, 2.0424e+02, 2.2185e+02, 2.1022e+02, 1.9250e+02,\n",
      "        1.4128e+02, 1.3427e+02, 1.3468e+02, 1.2694e+02, 9.2049e+01, 9.0256e+01,\n",
      "        9.1974e+01, 7.5265e+01, 6.7905e+01, 5.2061e+01, 4.8185e+01, 4.1991e+01,\n",
      "        3.6835e+01, 2.7102e+01, 2.2146e+01, 1.7401e+01, 1.6724e+01, 1.1127e+01,\n",
      "        6.9430e+00, 5.4661e+00, 3.0543e+00, 2.3266e+00, 1.7908e+00, 1.3750e+00,\n",
      "        1.1644e+00, 1.0452e+00, 8.3845e-01, 6.4154e-01, 5.2019e-01, 4.2505e-01,\n",
      "        2.6085e-01, 2.3769e-01, 1.7293e-01, 1.3581e-01, 9.4509e-02, 8.0326e-02,\n",
      "        6.5312e-02, 7.0480e-02, 6.8389e-02, 8.2365e-02, 1.1136e-01, 1.3826e-01,\n",
      "        1.8862e-01, 2.2589e-01, 2.2644e-01, 2.6603e-01, 2.8944e-01, 2.9973e-01,\n",
      "        3.2671e-01, 3.0813e-01, 3.3171e-01, 3.3845e-01, 4.0328e-01, 4.2213e-01,\n",
      "        4.3992e-01, 3.9603e-01, 4.2543e-01, 5.2214e-01, 4.7423e-01, 5.6448e-01,\n",
      "        5.5357e-01, 5.7024e-01, 5.8447e-01, 9.7284e-01, 1.5379e+00, 2.0717e+00,\n",
      "        2.9848e+00, 3.7568e+00, 5.1589e+00, 5.8415e+00, 8.1133e+00, 9.8473e+00,\n",
      "        9.9760e+00, 1.3740e+01, 1.7936e+01, 2.4709e+01, 2.8662e+01, 3.8768e+01,\n",
      "        4.7174e+01, 4.8952e+01, 5.9873e+01, 7.1238e+01, 8.8110e+01, 1.0016e+02,\n",
      "        1.1017e+02, 1.1476e+02, 1.4099e+02, 1.3749e+02, 1.5385e+02, 1.7088e+02,\n",
      "        2.0491e+02, 2.1241e+02, 2.3522e+02, 2.6432e+02])\n"
     ]
    },
    {
     "data": {
      "image/png": "[encoded data removed]",
      "text/plain": [
       "<Figure size 432x288 with 1 Axes>"
      ]
     },
     "metadata": {
      "needs_background": "light"
     },
     "output_type": "display_data"
    },
    {
     "name": "stdout",
     "output_type": "stream",
     "text": [
      "testing time = 0.13223886489868164 seconds\n",
      "\n",
      "Mean = tensor([-46.3512, -44.1634, -42.9082, -42.3525, -41.5532, -39.2261, -38.1371,\n",
      "        -36.4098, -34.7758, -33.1554, -30.9229, -29.3137, -27.7819, -25.3181,\n",
      "        -22.7594, -21.5037, -19.6459, -18.0486, -16.4344, -14.7578, -13.4372,\n",
      "        -11.9793, -10.9269,  -9.5997,  -8.3339,  -7.3036,  -6.4005,  -5.6554,\n",
      "         -4.9908,  -4.1909,  -3.8207,  -3.1342,  -2.4666,  -2.2690,  -1.9365,\n",
      "         -1.4698,  -1.2145,  -0.8179,  -0.6439,  -0.3180,  -0.1866,   0.1435,\n",
      "          0.1497,   0.3254,   0.5209,   0.7639,   0.8543,   0.8650,   0.9719,\n",
      "          1.0504,   1.2445,   1.2350,   1.2818,   1.4251,   1.4868,   1.6785,\n",
      "          1.7627,   1.7938,   1.9708,   1.9878,   2.1284,   2.1857,   2.4344,\n",
      "          2.4883,   2.7994,   2.9681,   3.1099,   3.3646,   3.7233,   4.0629,\n",
      "          4.2397,   4.6388,   5.1827,   5.6113,   6.0916,   6.6592,   7.3229,\n",
      "          8.2264,   9.2275,  10.3940,  11.1404,  12.3669,  13.5287,  15.2393,\n",
      "         17.1336,  18.6907,  20.5288,  22.8228,  24.7616,  27.1169,  29.4247,\n",
      "         31.2465,  33.7405,  35.7638,  38.3328,  40.4643,  42.3562,  45.1316,\n",
      "         47.8804,  48.2593])\n",
      "Variance = tensor([223.0095, 251.1660, 244.0290, 199.4076, 167.1287, 183.0963, 153.4940,\n",
      "        149.8614, 132.4619, 112.6411, 111.4751,  96.5107,  73.5061,  73.2503,\n",
      "         79.1905,  57.9485,  49.9122,  43.2818,  34.6852,  31.5499,  24.4826,\n",
      "         20.5643,  15.4705,  13.6339,  12.8745,  11.5573,  10.2266,   8.6801,\n",
      "          8.0040,   7.7669,   6.7376,   7.0059,   6.8221,   6.9195,   5.9312,\n",
      "          6.3775,   5.7458,   6.2054,   5.8177,   6.0028,   6.0456,   6.1109,\n",
      "          6.0950,   6.0669,   6.0706,   5.8945,   6.3264,   6.0437,   6.5884,\n",
      "          6.0752,   6.4099,   6.7318,   6.4559,   6.3858,   6.9195,   6.9616,\n",
      "          6.8310,   6.2347,   6.3873,   6.6222,   6.2821,   6.7819,   7.2090,\n",
      "          6.8868,   6.6844,   6.9576,   7.1256,   7.0104,   7.3620,   7.3121,\n",
      "          7.8662,   8.5951,   8.7701,   8.7657,   9.4815,  10.8284,  11.4208,\n",
      "         12.6515,  13.5846,  14.5614,  21.6304,  22.7691,  29.7372,  30.8689,\n",
      "         33.4180,  43.5879,  50.3030,  54.5603,  72.8873,  81.7863,  94.6143,\n",
      "        119.8130, 137.8867, 164.0895, 175.2839, 193.3006, 227.3034, 217.2313,\n",
      "        203.1948, 279.7569])\n"
     ]
    },
    {
     "data": {
      "image/png": "[encoded data removed]",
      "text/plain": [
       "<Figure size 432x288 with 1 Axes>"
      ]
     },
     "metadata": {
      "needs_background": "light"
     },
     "output_type": "display_data"
    },
    {
     "name": "stdout",
     "output_type": "stream",
     "text": [
      "testing time = 0.11240887641906738 seconds\n",
      "\n",
      "Mean = tensor([-29.3393, -29.7683, -28.7362, -28.2473, -28.2119, -27.5336, -27.2055,\n",
      "        -26.6703, -25.4068, -25.3097, -24.3830, -23.6717, -23.3572, -22.5538,\n",
      "        -22.1705, -21.6553, -20.2741, -19.4026, -19.2681, -18.2627, -17.1835,\n",
      "        -16.6667, -15.8975, -15.0713, -14.5534, -13.7943, -13.3982, -12.3563,\n",
      "        -11.8832, -11.3598, -10.7310,  -9.7910,  -9.4652,  -8.9700,  -8.3509,\n",
      "         -7.6996,  -7.2691,  -6.6624,  -6.1656,  -5.7070,  -5.2029,  -4.6523,\n",
      "         -4.1685,  -3.6348,  -3.2433,  -2.6992,  -2.2033,  -1.7195,  -1.1211,\n",
      "         -0.7668,  -0.2860,   0.2421,   0.8052,   1.3188,   1.7343,   2.2864,\n",
      "          2.8271,   3.3203,   3.7819,   4.3401,   4.9125,   5.3167,   6.2189,\n",
      "          6.6440,   7.1695,   8.0234,   8.5120,   9.1556,   9.9079,  10.5634,\n",
      "         11.1360,  11.7987,  12.4798,  13.5319,  13.6477,  14.8771,  15.4640,\n",
      "         16.0982,  17.0485,  18.0710,  18.6292,  19.3945,  20.0683,  20.9136,\n",
      "         22.0405,  22.9751,  22.9199,  24.0572,  25.6504,  26.5668,  27.0274,\n",
      "         27.7588,  28.7957,  29.4229,  29.8060,  30.9531,  31.8365,  32.5604,\n",
      "         33.3204,  33.7210])\n",
      "Variance = tensor([116.0923,  90.8078, 101.0340,  96.5699,  82.5951,  85.0547,  72.4300,\n",
      "         72.2645,  82.2849,  68.9447,  68.5248,  66.2225,  57.4554,  57.4114,\n",
      "         46.5934,  39.7505,  48.0386,  48.4168,  35.0844,  36.8310,  39.0586,\n",
      "         33.4268,  31.7182,  30.0386,  24.6356,  23.7026,  18.3933,  20.6698,\n",
      "         17.9879,  13.9544,  12.7790,  14.7317,  10.9595,   8.8768,   9.6523,\n",
      "          8.6655,   7.2989,   6.1768,   5.2471,   4.9205,   4.1954,   3.7146,\n",
      "          3.6088,   3.0534,   2.6628,   2.1795,   2.0004,   1.9862,   1.6855,\n",
      "          1.5110,   1.4951,   1.5432,   1.4137,   1.5592,   1.8565,   1.9777,\n",
      "          2.2507,   2.6153,   2.9751,   3.6431,   3.6919,   5.0381,   5.1261,\n",
      "          6.1921,   7.0915,   6.7101,   8.8928,  10.1064,  10.6642,  11.7556,\n",
      "         14.7788,  16.8745,  19.1210,  17.2411,  26.3504,  23.9084,  28.1471,\n",
      "         32.6210,  33.2807,  33.5962,  40.6686,  43.5988,  50.7217,  54.9240,\n",
      "         53.0950,  55.0537,  78.0428,  76.8339,  63.6089,  66.5065,  81.3239,\n",
      "         86.5973,  86.0867,  95.1204, 112.0247, 105.2732, 108.8862, 113.8147,\n",
      "        116.4635, 131.8912])\n"
     ]
    },
    {
     "data": {
      "image/png": "[encoded data removed]",
      "text/plain": [
       "<Figure size 432x288 with 1 Axes>"
      ]
     },
     "metadata": {
      "needs_background": "light"
     },
     "output_type": "display_data"
    }
   ],
   "source": [
    "for key, network in uncertainty_methods.items():\n",
    "\n",
    "    \"\"\"\n",
    "    Testing\n",
    "    \"\"\"\n",
    "\n",
    "    # Model to eval mode\n",
    "    network.eval()\n",
    "\n",
    "    # Record testing start time (for this split)\n",
    "    tic_testing = time.time()\n",
    "    \n",
    "    predictions_non_mc = network(X_test)\n",
    "\n",
    "    predictions, mean, var, metrics = network.predict_dist(X_test, n_predictions)\n",
    "    \n",
    "    # Record testing end time\n",
    "    toc_testing = time.time()\n",
    "    \n",
    "    # Report the total testing time\n",
    "    print(\"testing time = \" + str(toc_testing - tic_testing) + \" seconds\")\n",
    "\n",
    "    # These can now be stored in CPU memory for plotting\n",
    "    predictions_non_mc = predictions_non_mc.cpu()\n",
    "    predictions = predictions.cpu()\n",
    "    mean = mean.cpu()\n",
    "    var = var.cpu()\n",
    "    \n",
    "    \"\"\"\n",
    "    Print results\n",
    "    \"\"\"\n",
    "\n",
    "    print()\n",
    "    print(\"Mean = \" + str(mean.flatten()))\n",
    "    print(\"Variance = \" + str(var.flatten()))\n",
    "    \n",
    "    # store additional metrics\n",
    "    if len(metrics) > 0:\n",
    "        for key, value in metrics.items():\n",
    "            print(str(key) + \" = \" + str(value))\n",
    "        print()\n",
    "             \n",
    "    # Plot the uncertainty measured by each methods\n",
    "    plt.figure()\n",
    "    \n",
    "    # Fix the scales of x-axis and y-axis\n",
    "    plt.xlim(dataset_toy_x_low, dataset_toy_x_high)\n",
    "    plt.ylim(dataset_toy_y_mean-2*dataset_toy_y_std, dataset_toy_y_mean+2*dataset_toy_y_std)\n",
    "\n",
    "    # Distributions around the predictions\n",
    "    plt.fill_between(\n",
    "        X_test_cpu.flatten(), \n",
    "        (mean.detach().numpy() - 2*torch.sqrt(var).detach().numpy()).flatten(),\n",
    "        (mean.detach().numpy() + 2*torch.sqrt(var).detach().numpy()).flatten(),\n",
    "        color='lightblue', alpha=0.8)\n",
    "\n",
    "    # Train data\n",
    "    plt.plot(dataset.data_x.cpu(), dataset.data_y.cpu(), 'or', label='Training data', alpha=0.3)\n",
    "\n",
    "    # Non-MC prediction\n",
    "    plt.plot(X_test_cpu, predictions_non_mc.detach().numpy(), 'green', label='non-MC prediction', alpha=0.6)    \n",
    "    \n",
    "    # MC prediction\n",
    "    plt.plot(X_test_cpu, mean.detach().numpy(), 'blue', label='mean prediction', alpha=0.35)\n",
    "    \n",
    "    # Original data generating function without noise\n",
    "    plt.plot(X_test_cpu, X_test_cpu ** 3, 'gray', label='data generating function')    \n",
    "    \n",
    "    plt.legend()\n",
    "    \n",
    "    plt.savefig(os.path.join(test_results_path, str(key) + '.png'), dpi=600)\n",
    "    \n",
    "    plt.show()"
   ]
  },
  {
   "cell_type": "code",
   "execution_count": null,
   "metadata": {},
   "outputs": [],
   "source": []
  }
 ],
 "metadata": {
  "accelerator": "GPU",
  "colab": {
   "collapsed_sections": [
    "Bka_bK83VFHh",
    "eEfdrHcOVFIj"
   ],
   "name": "experiment_comparison_toy.ipynb",
   "provenance": []
  },
  "kernelspec": {
   "display_name": "Python 3",
   "language": "python",
   "name": "python3"
  },
  "language_info": {
   "codemirror_mode": {
    "name": "ipython",
    "version": 3
   },
   "file_extension": ".py",
   "mimetype": "text/x-python",
   "name": "python",
   "nbconvert_exporter": "python",
   "pygments_lexer": "ipython3",
   "version": "3.7.4"
  }
 },
 "nbformat": 4,
 "nbformat_minor": 1
}
