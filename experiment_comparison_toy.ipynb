{
 "cells": [
  {
   "cell_type": "markdown",
   "metadata": {
    "colab_type": "text",
    "id": "Bka_bK83VFHh"
   },
   "source": [
    "## Experiment Setup"
   ]
  },
  {
   "cell_type": "markdown",
   "metadata": {
    "colab_type": "text",
    "id": "8D5NSPs_cJZe"
   },
   "source": [
    "###  Random seed / Colab / CUDA related"
   ]
  },
  {
   "cell_type": "code",
   "execution_count": 1,
   "metadata": {
    "colab": {
     "base_uri": "https://localhost:8080/",
     "height": 0
    },
    "colab_type": "code",
    "executionInfo": {
     "elapsed": 6676,
     "status": "ok",
     "timestamp": 1574813487483,
     "user": {
      "displayName": "Ronald Seoh",
      "photoUrl": "",
      "userId": "10284188050297676522"
     },
     "user_tz": 300
    },
    "id": "pHbfpytEVFHu",
    "outputId": "5ef9706e-2ffd-477e-fa31-8a1441674b2d"
   },
   "outputs": [
    {
     "name": "stdout",
     "output_type": "stream",
     "text": [
      "Drive already mounted at /content/drive; to attempt to forcibly remount, call drive.mount(\"/content/drive\", force_remount=True).\n",
      "Requirement already satisfied: pyro-ppl in /usr/local/lib/python3.6/dist-packages (1.0.0)\n",
      "Requirement already satisfied: pyro-api>=0.1.1 in /usr/local/lib/python3.6/dist-packages (from pyro-ppl) (0.1.1)\n",
      "Requirement already satisfied: graphviz>=0.8 in /usr/local/lib/python3.6/dist-packages (from pyro-ppl) (0.10.1)\n",
      "Requirement already satisfied: opt-einsum>=2.3.2 in /usr/local/lib/python3.6/dist-packages (from pyro-ppl) (3.1.0)\n",
      "Requirement already satisfied: numpy>=1.7 in /usr/local/lib/python3.6/dist-packages (from pyro-ppl) (1.17.4)\n",
      "Requirement already satisfied: tqdm>=4.36 in /usr/local/lib/python3.6/dist-packages (from pyro-ppl) (4.39.0)\n",
      "Requirement already satisfied: torch>=1.3.0 in /usr/local/lib/python3.6/dist-packages (from pyro-ppl) (1.3.1)\n",
      "/content/drive/My Drive/Colab Notebooks/bayesian-dl-experiments\n",
      "experiment_comparison_toy.ipynb  LICENSE    ronald_bdl\n",
      "experiment_nn_capacity_1.ipynb\t README.md  test_results\n"
     ]
    }
   ],
   "source": [
    "import time\n",
    "import datetime\n",
    "import sys\n",
    "import os\n",
    "\n",
    "# Use Google Colab\n",
    "use_colab = True\n",
    "\n",
    "# Is this notebook running on Colab?\n",
    "# If so, then google.colab package (github.com/googlecolab/colabtools)\n",
    "# should be available in this environment\n",
    "\n",
    "# Previous version used importlib, but we could do the same thing with\n",
    "# just attempting to import google.colab\n",
    "try:\n",
    "    from google.colab import drive\n",
    "    colab_available = True\n",
    "except:\n",
    "    colab_available = False\n",
    "\n",
    "if use_colab and colab_available:\n",
    "    drive.mount('/content/drive')\n",
    "    \n",
    "    # If there's a package I need to install separately, do it here\n",
    "    !pip install pyro-ppl\n",
    "\n",
    "    # cd to the appropriate working directory under my Google Drive\n",
    "    %cd 'drive/My Drive/Colab Notebooks/bayesian-dl-experiments'\n",
    "    \n",
    "    # List the directory contents\n",
    "    !ls\n",
    "\n",
    "# IPython reloading magic\n",
    "%load_ext autoreload\n",
    "%autoreload 2\n",
    "\n",
    "# Random seeds\n",
    "# Based on https://pytorch.org/docs/stable/notes/randomness.html\n",
    "random_seed = 682"
   ]
  },
  {
   "cell_type": "markdown",
   "metadata": {
    "colab_type": "text",
    "id": "L8udq6NnHSXW"
   },
   "source": [
    "### Third party libraries (NumPy, PyTorch, Pyro)"
   ]
  },
  {
   "cell_type": "code",
   "execution_count": 2,
   "metadata": {
    "colab": {
     "base_uri": "https://localhost:8080/",
     "height": 0
    },
    "colab_type": "code",
    "executionInfo": {
     "elapsed": 7295,
     "status": "ok",
     "timestamp": 1574813488120,
     "user": {
      "displayName": "Ronald Seoh",
      "photoUrl": "",
      "userId": "10284188050297676522"
     },
     "user_tz": 300
    },
    "id": "BOJA1nXgHSXa",
    "outputId": "c1f78760-0fd9-41c3-89c4-d6212b675fd7"
   },
   "outputs": [
    {
     "name": "stdout",
     "output_type": "stream",
     "text": [
      "Python Version: 3.6.8 (default, Oct  7 2019, 12:59:55) \n",
      "[GCC 8.3.0]\n",
      "NumPy Version: 1.17.4\n",
      "PyTorch Version: 1.3.1\n",
      "Pyro Version: 1.0.0\n"
     ]
    }
   ],
   "source": [
    "# Third party libraries import\n",
    "import numpy as np\n",
    "import torch\n",
    "import pyro\n",
    "import matplotlib.pyplot as plt\n",
    "\n",
    "# Print version information\n",
    "print(\"Python Version: \" + sys.version)\n",
    "print(\"NumPy Version: \" + np.__version__)\n",
    "print(\"PyTorch Version: \" + torch.__version__)\n",
    "print(\"Pyro Version: \" + pyro.__version__)"
   ]
  },
  {
   "cell_type": "code",
   "execution_count": 3,
   "metadata": {
    "colab": {
     "base_uri": "https://localhost:8080/",
     "height": 0
    },
    "colab_type": "code",
    "executionInfo": {
     "elapsed": 7275,
     "status": "ok",
     "timestamp": 1574813488122,
     "user": {
      "displayName": "Ronald Seoh",
      "photoUrl": "",
      "userId": "10284188050297676522"
     },
     "user_tz": 300
    },
    "id": "BOIqWi_wHSXi",
    "outputId": "5dcbe394-5744-45d4-8bd6-be7ccf32faed"
   },
   "outputs": [
    {
     "name": "stdout",
     "output_type": "stream",
     "text": [
      "CUDA Version: 10.1.243\n",
      "cuDNN Version: 7603\n"
     ]
    }
   ],
   "source": [
    "# More imports...\n",
    "from torch.utils.data import random_split, DataLoader\n",
    "from ronald_bdl import datasets, models\n",
    "from pyro.infer import SVI, Trace_ELBO, HMC, MCMC\n",
    "\n",
    "# pyplot setting\n",
    "%matplotlib inline\n",
    "\n",
    "# torch.device / CUDA Setup\n",
    "use_cuda = True\n",
    "\n",
    "if use_cuda and torch.cuda.is_available():\n",
    "    torch_device = torch.device('cuda')\n",
    "\n",
    "    torch.backends.cudnn.deterministic = True\n",
    "    # Note: https://discuss.pytorch.org/t/what-does-torch-backends-cudnn-benchmark-do/5936\n",
    "    torch.backends.cudnn.benchmark = False\n",
    "    use_pin_memory = True # Faster Host to GPU copies with page-locked memory\n",
    "\n",
    "    # CUDA libraries version information\n",
    "    print(\"CUDA Version: \" + str(torch.version.cuda))\n",
    "    print(\"cuDNN Version: \" + str(torch.backends.cudnn.version()))\n",
    "else:\n",
    "    torch_device = torch.device('cpu')\n",
    "    use_pin_memory = False"
   ]
  },
  {
   "cell_type": "markdown",
   "metadata": {
    "colab_type": "text",
    "id": "XIFRoH3AcJZn"
   },
   "source": [
    "### Toy dataset settings"
   ]
  },
  {
   "cell_type": "code",
   "execution_count": 0,
   "metadata": {
    "colab": {},
    "colab_type": "code",
    "id": "g_pzGq1_cJZp"
   },
   "outputs": [],
   "source": [
    "\"\"\"\n",
    "Toy dataset generation based on the experiment from \n",
    "the Probabilstic Backpropagation paper (Hernandez-Lobato & Adams, 2015)\n",
    "\"\"\"\n",
    "\n",
    "# Random seed for toy dataset\n",
    "dataset_toy_random_seed = 691\n",
    "\n",
    "# Toy dataset size\n",
    "dataset_toy_size = 20\n",
    "\n",
    "# Toy dataset x distribution (uniform) parameters\n",
    "dataset_toy_x_low = -4\n",
    "dataset_toy_x_high = 4\n",
    "\n",
    "# Toy dataset y distribution (normal with noise)\n",
    "dataset_toy_y_mean = 0\n",
    "dataset_toy_y_std = 9"
   ]
  },
  {
   "cell_type": "markdown",
   "metadata": {
    "colab_type": "text",
    "id": "Kdi_LQ7sspvM"
   },
   "source": [
    "### MC dropout parameters"
   ]
  },
  {
   "cell_type": "code",
   "execution_count": 0,
   "metadata": {
    "colab": {},
    "colab_type": "code",
    "id": "0ys_GAWtHSX4"
   },
   "outputs": [],
   "source": [
    "\"\"\"\n",
    "MC Dropout related\n",
    "\"\"\"\n",
    "\n",
    "# Dropout rate\n",
    "dropout_rate = 0.5\n",
    "\n",
    "# L2 regularization strength\n",
    "reg_strength = 0.3\n",
    "\n",
    "# Epochs\n",
    "n_epochs = 4000\n",
    "\n",
    "# Optimizer learning rate\n",
    "learning_rate = 0.01\n",
    "\n",
    "# Loss function type\n",
    "loss_function_type = 'mse_loss'\n",
    "\n",
    "# Number of test predictions (for each data point)\n",
    "n_predictions = 10000"
   ]
  },
  {
   "cell_type": "markdown",
   "metadata": {
    "colab_type": "text",
    "id": "DNGDKiltsux3"
   },
   "source": [
    "### Directory path to save results"
   ]
  },
  {
   "cell_type": "code",
   "execution_count": 0,
   "metadata": {
    "colab": {},
    "colab_type": "code",
    "id": "9ysu9G0FHSX-"
   },
   "outputs": [],
   "source": [
    "# Test start time\n",
    "test_start_time = datetime.datetime.today().strftime('%Y%m%d%H%M')\n",
    "\n",
    "# Directory to store the results for this experiment\n",
    "test_results_path = os.path.join(\n",
    "    './test_results',\n",
    "    'comparison_toy',\n",
    "    (\n",
    "        test_start_time \n",
    "        + '_' + str(n_epochs) \n",
    "        + '_' + str(dropout_rate) \n",
    "        + '_' + str(reg_strength) \n",
    "        + '_' + str(loss_function_type) \n",
    "        + '_' + str(n_predictions))\n",
    ")\n",
    "\n",
    "# Create the directory if it doesn't exist\n",
    "os.makedirs(test_results_path, exist_ok=True)"
   ]
  },
  {
   "cell_type": "markdown",
   "metadata": {
    "colab_type": "text",
    "id": "sZwe_f-yVFIf"
   },
   "source": [
    "## Prepare data"
   ]
  },
  {
   "cell_type": "markdown",
   "metadata": {
    "colab_type": "text",
    "id": "eEfdrHcOVFIj"
   },
   "source": [
    "### Get the data as a torch Dataset object"
   ]
  },
  {
   "cell_type": "code",
   "execution_count": 7,
   "metadata": {
    "colab": {
     "base_uri": "https://localhost:8080/",
     "height": 0
    },
    "colab_type": "code",
    "executionInfo": {
     "elapsed": 7200,
     "status": "ok",
     "timestamp": 1574813488132,
     "user": {
      "displayName": "Ronald Seoh",
      "photoUrl": "",
      "userId": "10284188050297676522"
     },
     "user_tz": 300
    },
    "id": "5u5qU-9JVFIr",
    "outputId": "340c4e58-57a5-481e-aa3f-be0cb1ec354c"
   },
   "outputs": [
    {
     "name": "stdout",
     "output_type": "stream",
     "text": [
      "dataset size = (20, 1)\n"
     ]
    }
   ],
   "source": [
    "dataset = datasets.ToyDatasets(\n",
    "    random_seed=dataset_toy_random_seed,\n",
    "    n_samples=dataset_toy_size,\n",
    "    x_low=dataset_toy_x_low,\n",
    "    x_high=dataset_toy_x_high,\n",
    "    y_mean=dataset_toy_y_mean,\n",
    "    y_std=dataset_toy_y_std,\n",
    ")\n",
    "\n",
    "# Get the test data\n",
    "X_test = torch.linspace(dataset_toy_x_low, dataset_toy_x_high, 100).reshape(100, 1)\n",
    "\n",
    "# Print the size of the training set\n",
    "print(\"dataset size = \" + str((len(dataset), dataset.n_features)))"
   ]
  },
  {
   "cell_type": "markdown",
   "metadata": {
    "colab_type": "text",
    "id": "LaasFWpqVFJ1"
   },
   "source": [
    "## Define network"
   ]
  },
  {
   "cell_type": "code",
   "execution_count": 0,
   "metadata": {
    "colab": {},
    "colab_type": "code",
    "id": "gAqkGtg7VFJ9"
   },
   "outputs": [],
   "source": [
    "uncertainty_methods = {}\n",
    "\n",
    "# MC (Bernoulli) dropout\n",
    "uncertainty_methods['mc_dropout'] = models.FCNetMCDropout(\n",
    "    input_dim=dataset.n_features, \n",
    "    output_dim=dataset.n_targets,\n",
    "    hidden_dim=100,\n",
    "    n_hidden=0,\n",
    "    dropout_rate=dropout_rate,\n",
    "    dropout_type='bernoulli',\n",
    ")\n",
    "\n",
    "# Vanilla Variational Inference\n",
    "uncertainty_methods['vi'] = models.FCNetPyro(\n",
    "    input_dim=dataset.n_features, \n",
    "    output_dim=dataset.n_targets,\n",
    "    hidden_dim=100,\n",
    "    n_hidden=0,\n",
    "    torch_device=torch_device,\n",
    ")\n",
    "\n",
    "# HMC (NUTS)\n",
    "uncertainty_methods['hmc'] = models.FCNetPyro(\n",
    "    input_dim=dataset.n_features, \n",
    "    output_dim=dataset.n_targets,\n",
    "    hidden_dim=100,\n",
    "    n_hidden=0,\n",
    "    torch_device=torch_device,\n",
    ")"
   ]
  },
  {
   "cell_type": "markdown",
   "metadata": {
    "colab_type": "text",
    "id": "1PpzPMI8VFKE"
   },
   "source": [
    "## Train the network"
   ]
  },
  {
   "cell_type": "markdown",
   "metadata": {
    "colab_type": "text",
    "id": "Jc7Td1h1VFKb"
   },
   "source": [
    "### Train/test the model"
   ]
  },
  {
   "cell_type": "code",
   "execution_count": 9,
   "metadata": {
    "colab": {
     "base_uri": "https://localhost:8080/",
     "height": 1000
    },
    "colab_type": "code",
    "executionInfo": {
     "elapsed": 756113,
     "status": "ok",
     "timestamp": 1574814237070,
     "user": {
      "displayName": "Ronald Seoh",
      "photoUrl": "",
      "userId": "10284188050297676522"
     },
     "user_tz": 300
    },
    "id": "m4kavCiTVFKf",
    "outputId": "b24dfb0e-fc3b-47a8-ad57-340ba7b32f8a",
    "scrolled": false
   },
   "outputs": [
    {
     "name": "stdout",
     "output_type": "stream",
     "text": [
      "Now running mc_dropout\n",
      "FCNetMCDropout(\n",
      "  (input): ModuleDict(\n",
      "    (dropout): Dropout(p=0.5, inplace=False)\n",
      "    (linear): Linear(in_features=1, out_features=100, bias=True)\n",
      "    (relu): ReLU()\n",
      "  )\n",
      "  (output): Linear(in_features=100, out_features=1, bias=True)\n",
      ")\n",
      "\n",
      "[iteration 0001] loss: 541.7947\n",
      "[iteration 0101] loss: 181.2648\n",
      "[iteration 0201] loss: 135.8599\n",
      "[iteration 0301] loss: 148.7037\n",
      "[iteration 0401] loss: 144.8909\n",
      "[iteration 0501] loss: 103.6205\n",
      "[iteration 0601] loss: 93.3496\n",
      "[iteration 0701] loss: 96.9266\n",
      "[iteration 0801] loss: 97.1319\n",
      "[iteration 0901] loss: 110.2934\n",
      "[iteration 1001] loss: 80.8576\n",
      "[iteration 1101] loss: 108.3147\n",
      "[iteration 1201] loss: 80.9675\n",
      "[iteration 1301] loss: 97.3605\n",
      "[iteration 1401] loss: 101.3212\n",
      "[iteration 1501] loss: 93.5688\n",
      "[iteration 1601] loss: 71.4447\n",
      "[iteration 1701] loss: 82.7061\n",
      "[iteration 1801] loss: 108.1115\n",
      "[iteration 1901] loss: 90.9474\n",
      "[iteration 2001] loss: 102.7028\n",
      "[iteration 2101] loss: 63.4164\n",
      "[iteration 2201] loss: 72.8141\n",
      "[iteration 2301] loss: 82.4860\n",
      "[iteration 2401] loss: 116.5300\n",
      "[iteration 2501] loss: 89.4488\n",
      "[iteration 2601] loss: 92.0929\n",
      "[iteration 2701] loss: 101.7871\n",
      "[iteration 2801] loss: 81.2448\n",
      "[iteration 2901] loss: 79.8460\n",
      "[iteration 3001] loss: 75.9025\n",
      "[iteration 3101] loss: 84.8384\n",
      "[iteration 3201] loss: 90.3376\n",
      "[iteration 3301] loss: 72.7114\n",
      "[iteration 3401] loss: 67.1980\n",
      "[iteration 3501] loss: 90.4120\n",
      "[iteration 3601] loss: 85.1487\n",
      "[iteration 3701] loss: 80.0007\n",
      "[iteration 3801] loss: 95.7267\n",
      "[iteration 3901] loss: 70.6549\n",
      "final loss = tensor(85.7997, device='cuda:0', grad_fn=<MseLossBackward>)\n",
      "training time = 6.967326641082764 seconds\n",
      "\n",
      "Now running vi\n",
      "FCNetPyro(\n",
      "  (input): PyroModuleDict(\n",
      "    (linear): PyroLinear(in_features=1, out_features=100, bias=True)\n",
      "    (relu): PyroReLU()\n",
      "  )\n",
      "  (output): PyroLinear(in_features=100, out_features=1, bias=True)\n",
      "  (guide): AutoDiagonalNormal()\n",
      ")\n",
      "\n",
      "[iteration 0001] loss: 2716702.5601\n",
      "[iteration 0101] loss: 708341.9577\n",
      "[iteration 0201] loss: 411959.8023\n",
      "[iteration 0301] loss: 317197.4485\n",
      "[iteration 0401] loss: 261484.4304\n",
      "[iteration 0501] loss: 227511.2185\n",
      "[iteration 0601] loss: 206754.5865\n",
      "[iteration 0701] loss: 185164.6569\n",
      "[iteration 0801] loss: 164786.4874\n",
      "[iteration 0901] loss: 167762.8991\n",
      "[iteration 1001] loss: 146455.4289\n",
      "[iteration 1101] loss: 135479.5843\n",
      "[iteration 1201] loss: 132088.0143\n",
      "[iteration 1301] loss: 124213.2136\n",
      "[iteration 1401] loss: 118818.5324\n",
      "[iteration 1501] loss: 111837.7572\n",
      "[iteration 1601] loss: 108562.2629\n",
      "[iteration 1701] loss: 102233.6821\n",
      "[iteration 1801] loss: 100199.3906\n",
      "[iteration 1901] loss: 96407.4005\n",
      "[iteration 2001] loss: 92840.8916\n",
      "[iteration 2101] loss: 88759.1716\n",
      "[iteration 2201] loss: 87824.6244\n",
      "[iteration 2301] loss: 85145.7786\n",
      "[iteration 2401] loss: 83203.7595\n",
      "[iteration 2501] loss: 79723.9387\n",
      "[iteration 2601] loss: 78347.2122\n",
      "[iteration 2701] loss: 77183.5647\n",
      "[iteration 2801] loss: 75417.6226\n",
      "[iteration 2901] loss: 74025.3429\n",
      "[iteration 3001] loss: 71355.0111\n",
      "[iteration 3101] loss: 71673.7929\n",
      "[iteration 3201] loss: 68354.3881\n",
      "[iteration 3301] loss: 68044.6541\n",
      "[iteration 3401] loss: 66705.0317\n",
      "[iteration 3501] loss: 65916.9450\n",
      "[iteration 3601] loss: 64603.0257\n",
      "[iteration 3701] loss: 63667.7034\n",
      "[iteration 3801] loss: 62126.5787\n",
      "[iteration 3901] loss: 62202.1933\n"
     ]
    },
    {
     "name": "stderr",
     "output_type": "stream",
     "text": [
      "\r",
      "Warmup:   0%|          | 0/60000 [00:00, ?it/s]"
     ]
    },
    {
     "name": "stdout",
     "output_type": "stream",
     "text": [
      "final loss = 60651.9414151907\n",
      "training time = 15.736900568008423 seconds\n",
      "\n",
      "Now running hmc\n",
      "FCNetPyro(\n",
      "  (input): PyroModuleDict(\n",
      "    (linear): PyroLinear(in_features=1, out_features=100, bias=True)\n",
      "    (relu): PyroReLU()\n",
      "  )\n",
      "  (output): PyroLinear(in_features=100, out_features=1, bias=True)\n",
      "  (guide): AutoDiagonalNormal()\n",
      ")\n",
      "\n"
     ]
    },
    {
     "name": "stderr",
     "output_type": "stream",
     "text": [
      "Sample: 100%|██████████| 60000/60000 [12:03, 82.98it/s, step size=9.22e-01, acc. prob=0.961]\n"
     ]
    },
    {
     "name": "stdout",
     "output_type": "stream",
     "text": [
      "final loss = 60651.9414151907\n",
      "training time = 723.1546485424042 seconds\n",
      "\n"
     ]
    }
   ],
   "source": [
    "for key, network in uncertainty_methods.items():\n",
    "    # Reset the random number generator for each method (to produce identical results)\n",
    "    torch.manual_seed(random_seed)\n",
    "    np.random.seed(random_seed)\n",
    "    pyro.set_rng_seed(random_seed)\n",
    "    \n",
    "    # Print the method name\n",
    "    print(\"Now running \" + str(key))\n",
    "    \n",
    "    # Send the whole model to the selected torch.device\n",
    "    network.to(torch_device)\n",
    "\n",
    "    # Print the network structure\n",
    "    print(network)\n",
    "    print()\n",
    "\n",
    "    # Initialize training data loader\n",
    "    train_loader = DataLoader(dataset, batch_size=len(dataset))\n",
    "    \n",
    "    \"\"\"\n",
    "    Optimizer Setup\n",
    "    \"\"\"\n",
    "\n",
    "    if isinstance(network, models.FCNetMCDropout):\n",
    "        # Adam optimizer\n",
    "        # https://pytorch.org/docs/stable/optim.html?highlight=adam#torch.optim.Adam\n",
    "        # NOTE: Need to set L2 regularization from here\n",
    "        optimizer = torch.optim.Adam(\n",
    "            network.parameters(),\n",
    "            lr=learning_rate,\n",
    "            weight_decay=reg_strength, # L2 regularization\n",
    "        )\n",
    "\n",
    "        # Mean Squared Error for loss function to minimize\n",
    "        objective = torch.nn.MSELoss()\n",
    "\n",
    "    elif isinstance(network, models.FCNetPyro):\n",
    "        pyro.clear_param_store()\n",
    "\n",
    "        if use_cuda and torch.cuda.is_available():\n",
    "            torch.set_default_tensor_type(torch.cuda.FloatTensor)\n",
    "        if key == 'vi':\n",
    "            optimizer = pyro.optim.Adam({\"lr\": 0.03})\n",
    "            svi = SVI(network, network.guide, optimizer, loss=Trace_ELBO())\n",
    "        elif key == 'hmc':\n",
    "            kernel = HMC(network)\n",
    "            mcmc = MCMC(kernel, num_samples=30000)\n",
    "\n",
    "    \"\"\"\n",
    "    Training\n",
    "    \"\"\"\n",
    "\n",
    "    # Model to train mode\n",
    "    network.train()\n",
    "\n",
    "    # Record training start time (for this method)\n",
    "    tic = time.time()\n",
    "    \n",
    "    if key == 'hmc':\n",
    "        # to() actually returns new Tensor; need to replace with that return\n",
    "        dataset.data_x = dataset.data_x.to(torch_device)\n",
    "\n",
    "        dataset.data_y = dataset.data_y.to(torch_device)\n",
    "\n",
    "        mcmc.run(dataset.data_x, dataset.data_y)\n",
    "    else:\n",
    "        for epoch in range(n_epochs): # loop over the dataset multiple times\n",
    "\n",
    "            for i, data in enumerate(train_loader):\n",
    "                # get the inputs; data is a list of [inputs, labels]\n",
    "                inputs, targets = data\n",
    "\n",
    "                # Store the batch to torch_device's memory\n",
    "                # to() actually returns new Tensor; need to replace with that return\n",
    "                inputs = inputs.to(torch_device)\n",
    "                targets = targets.to(torch_device)\n",
    "\n",
    "                if isinstance(network, models.FCNetMCDropout):\n",
    "                    # zero the parameter gradients\n",
    "                    optimizer.zero_grad()\n",
    "\n",
    "                    # forward + backward + optimize\n",
    "                    outputs = network(inputs)\n",
    "\n",
    "                    if loss_function_type in ('test_ll_mc', 'rmse_mc'):\n",
    "                        _, _, _, metrics = network.predict_dist(\n",
    "                            inputs, n_predictions, y_test=targets, reg_strength=reg_strength)\n",
    "\n",
    "                        if loss_function_type == 'test_ll_mc':\n",
    "                            total_loss = -(metrics[loss_function_type])\n",
    "                    else:\n",
    "                        total_loss = objective(outputs, targets)\n",
    "\n",
    "                    total_loss.backward()\n",
    "\n",
    "                    optimizer.step()\n",
    "\n",
    "                elif isinstance(network, models.FCNetPyro):\n",
    "                    pyro.clear_param_store()\n",
    "                    # calculate the loss and take a gradient step\n",
    "                    total_loss = svi.step(inputs, targets)\n",
    "\n",
    "            if epoch % 100 == 0:\n",
    "                print(\"[iteration %04d] loss: %.4f\" % (epoch + 1, total_loss))\n",
    "            \n",
    "    # Record training end time\n",
    "    toc = time.time()\n",
    "\n",
    "    # Report the final loss\n",
    "    print(\"final loss = \" + str(total_loss))            \n",
    "\n",
    "    # Report the total training time\n",
    "    print(\"training time = \" + str(toc - tic) + \" seconds\")\n",
    "    \n",
    "    print()"
   ]
  },
  {
   "cell_type": "code",
   "execution_count": 10,
   "metadata": {
    "colab": {
     "base_uri": "https://localhost:8080/",
     "height": 1000
    },
    "colab_type": "code",
    "executionInfo": {
     "elapsed": 771133,
     "status": "ok",
     "timestamp": 1574814252106,
     "user": {
      "displayName": "Ronald Seoh",
      "photoUrl": "",
      "userId": "10284188050297676522"
     },
     "user_tz": 300
    },
    "id": "ymmG2nxTHSYq",
    "outputId": "5c92badb-c8de-42d2-dfb0-a37ce74351d6",
    "scrolled": false
   },
   "outputs": [
    {
     "name": "stdout",
     "output_type": "stream",
     "text": [
      "testing time = 1.261894702911377 seconds\n",
      "\n",
      "Mean = tensor([-49.2314, -47.8516, -46.3250, -44.7769, -43.2560, -41.8764, -40.2582,\n",
      "        -38.6727, -37.2313, -35.7427, -34.2773, -32.7401, -31.1943, -29.7305,\n",
      "        -28.2125, -26.5876, -25.1236, -23.6109, -22.1045, -20.6063, -19.0660,\n",
      "        -17.5217, -15.9992, -14.5072, -13.0015, -11.4508,  -9.9840,  -8.6071,\n",
      "         -7.3571,  -6.3691,  -5.4625,  -4.7104,  -4.1623,  -3.7031,  -3.2872,\n",
      "         -2.9075,  -2.5528,  -2.2404,  -1.9394,  -1.6417,  -1.2993,  -0.9733,\n",
      "         -0.6411,  -0.2810,   0.0752,   0.4371,   0.8067,   1.1502,   1.4869,\n",
      "          1.7978,   2.0956,   2.3489,   2.5428,   2.7007,   2.8274,   2.9424,\n",
      "          3.0439,   3.1281,   3.2186,   3.3004,   3.3848,   3.4741,   3.5426,\n",
      "          3.6421,   3.7336,   3.8130,   3.8995,   3.9817,   4.0676,   4.2245,\n",
      "          4.4072,   4.5500,   4.7032,   4.9065,   5.2361,   5.6779,   6.2241,\n",
      "          6.9476,   8.0276,   9.3712,  10.8146,  12.5310,  14.3355,  16.2308,\n",
      "         18.3607,  20.5860,  22.8702,  25.1958,  27.4782,  29.6752,  31.9562,\n",
      "         34.1355,  36.4561,  38.8034,  41.0083,  43.2655,  45.5891,  47.6617,\n",
      "         50.1186,  52.3198], device='cpu', grad_fn=<AsStridedBackward>)\n",
      "Variance = tensor([56.4661, 52.3212, 48.8318, 46.1385, 43.7101, 39.5549, 36.6029, 33.8670,\n",
      "        31.8781, 29.4994, 26.7621, 25.1276, 22.2808, 20.3064, 18.8061, 16.9368,\n",
      "        15.2871, 13.2611, 11.7179, 10.4301,  9.0034,  7.9888,  6.9543,  6.0030,\n",
      "         5.2341,  4.3821,  3.8104,  3.1894,  2.7573,  2.3797,  2.1092,  1.8682,\n",
      "         1.6551,  1.4637,  1.2957,  1.1742,  1.0509,  0.9180,  0.8223,  0.7187,\n",
      "         0.6169,  0.5383,  0.4636,  0.3934,  0.3331,  0.2894,  0.2578,  0.2194,\n",
      "         0.2069,  0.1937,  0.1906,  0.1953,  0.1952,  0.2160,  0.2280,  0.2496,\n",
      "         0.2704,  0.2958,  0.3142,  0.3346,  0.3518,  0.3778,  0.4158,  0.4406,\n",
      "         0.4794,  0.5086,  0.5273,  0.5681,  0.6015,  0.6300,  0.6823,  0.7612,\n",
      "         0.8417,  0.9295,  1.0528,  1.2052,  1.4359,  1.7926,  2.2413,  2.8570,\n",
      "         3.7088,  4.8020,  5.9859,  7.7281,  9.4004, 11.5499, 13.9829, 17.1082,\n",
      "        19.8225, 23.3481, 27.1735, 32.2102, 35.7217, 40.4654, 46.0107, 50.0344,\n",
      "        55.8929, 61.6476, 69.9736, 75.9152], device='cpu',\n",
      "       grad_fn=<AsStridedBackward>)\n"
     ]
    },
    {
     "data": {
      "image/png": "[encoded data removed]",
      "text/plain": [
       "<Figure size 432x288 with 1 Axes>"
      ]
     },
     "metadata": {
      "tags": []
     },
     "output_type": "display_data"
    },
    {
     "name": "stdout",
     "output_type": "stream",
     "text": [
      "testing time = 6.292339563369751 seconds\n",
      "\n",
      "Mean = tensor([-53.9876, -52.8315, -51.6291, -50.4449, -49.3352, -48.1686, -47.0480,\n",
      "        -45.8481, -44.7170, -43.5822, -42.4430, -41.3031, -40.2915, -39.1457,\n",
      "        -38.1430, -37.0899, -35.9777, -34.8658, -33.8321, -32.8132, -31.6922,\n",
      "        -30.6775, -29.7791, -28.6809, -27.7973, -26.8586, -26.0020, -24.9776,\n",
      "        -24.1513, -23.1804, -22.2993, -21.3772, -20.4707, -19.6408, -18.7209,\n",
      "        -17.7925, -16.8839, -15.8187, -14.8143, -13.7571, -12.6435, -11.6533,\n",
      "        -10.5206,  -9.6339,  -8.8581,  -8.3505,  -7.9086,  -7.6066,  -7.3301,\n",
      "         -7.1618,  -6.9203,  -6.5851,  -6.4333,  -6.4445,  -6.4615,  -6.3920,\n",
      "         -6.4108,  -6.4231,  -6.4683,  -6.4236,  -6.5209,  -6.6429,  -6.9052,\n",
      "         -7.1149,  -7.4505,  -7.8073,  -8.2970,  -8.7922,  -9.2610,  -9.6307,\n",
      "        -10.1496, -10.6960, -11.1999, -11.5622, -11.9241, -12.2951, -12.6019,\n",
      "        -12.9216, -13.3443, -13.7720, -14.2465, -14.7158, -15.1158, -15.5371,\n",
      "        -16.0785, -16.4693, -16.9790, -17.4024, -17.8870, -18.2848, -18.7316,\n",
      "        -19.1744, -19.6362, -20.0935, -20.5307, -20.9158, -21.4520, -21.8270,\n",
      "        -22.2887, -22.7208], device='cpu')\n",
      "Variance = tensor([9.0714, 9.0934, 9.2136, 9.3833, 8.8358, 9.5373, 9.2044, 9.4770, 9.0128,\n",
      "        9.2140, 9.3019, 9.0347, 9.3857, 9.3074, 9.0172, 9.3198, 9.7423, 9.0565,\n",
      "        9.1273, 9.1981, 9.1045, 8.9536, 9.1634, 9.0083, 9.0750, 9.0697, 8.8965,\n",
      "        9.4463, 9.2448, 9.1561, 9.1679, 9.3950, 8.9178, 9.2275, 9.7469, 9.1946,\n",
      "        9.0419, 9.0808, 9.2992, 9.2364, 9.1713, 9.3213, 9.3697, 9.1006, 9.2418,\n",
      "        9.4529, 9.5524, 9.5951, 9.6002, 9.5024, 9.2041, 9.1033, 9.2171, 8.8484,\n",
      "        9.3884, 9.2446, 8.8943, 9.3283, 9.2330, 9.4489, 9.2244, 9.4435, 8.9879,\n",
      "        9.2903, 8.7792, 9.2102, 9.1240, 9.3946, 9.1836, 9.1627, 8.9302, 8.8863,\n",
      "        9.5054, 9.0303, 9.1790, 9.1964, 9.3713, 9.4447, 8.6742, 9.1409, 9.0102,\n",
      "        9.5949, 9.1555, 9.1738, 9.0980, 9.2993, 9.0442, 9.2059, 9.2991, 9.1407,\n",
      "        9.3652, 9.2107, 9.1982, 9.0490, 9.6560, 9.3429, 8.9412, 9.0294, 9.1208,\n",
      "        8.9870], device='cpu')\n"
     ]
    },
    {
     "data": {
      "image/png": "[encoded data removed]",
      "text/plain": [
       "<Figure size 432x288 with 1 Axes>"
      ]
     },
     "metadata": {
      "tags": []
     },
     "output_type": "display_data"
    },
    {
     "name": "stdout",
     "output_type": "stream",
     "text": [
      "testing time = 6.251548767089844 seconds\n",
      "\n",
      "Mean = tensor([-3.5950e+01, -3.5270e+01, -3.4662e+01, -3.3994e+01, -3.3311e+01,\n",
      "        -3.2624e+01, -3.2001e+01, -3.1363e+01, -3.0679e+01, -2.9994e+01,\n",
      "        -2.9326e+01, -2.8715e+01, -2.8055e+01, -2.7425e+01, -2.6729e+01,\n",
      "        -2.6107e+01, -2.5432e+01, -2.4815e+01, -2.4140e+01, -2.3442e+01,\n",
      "        -2.2934e+01, -2.2256e+01, -2.1598e+01, -2.0973e+01, -2.0272e+01,\n",
      "        -1.9511e+01, -1.8894e+01, -1.8290e+01, -1.7718e+01, -1.7045e+01,\n",
      "        -1.6583e+01, -1.5999e+01, -1.5296e+01, -1.4573e+01, -1.3743e+01,\n",
      "        -1.2971e+01, -1.2161e+01, -1.1460e+01, -1.0676e+01, -9.7989e+00,\n",
      "        -8.9835e+00, -8.1665e+00, -7.3095e+00, -6.6539e+00, -6.0175e+00,\n",
      "        -5.3087e+00, -4.6552e+00, -4.1480e+00, -3.6692e+00, -3.2724e+00,\n",
      "        -2.8245e+00, -2.6094e+00, -2.4376e+00, -2.0889e+00, -1.7761e+00,\n",
      "        -1.4455e+00, -1.2281e+00, -8.2420e-01,  8.6072e-03,  9.5660e-01,\n",
      "         1.6449e+00,  2.3015e+00,  2.9988e+00,  3.6059e+00,  4.1877e+00,\n",
      "         4.5324e+00,  4.9093e+00,  5.2438e+00,  5.6407e+00,  6.0025e+00,\n",
      "         6.4140e+00,  6.6329e+00,  7.0552e+00,  7.4570e+00,  7.8412e+00,\n",
      "         8.2175e+00,  8.6216e+00,  9.0813e+00,  9.4938e+00,  9.8849e+00,\n",
      "         1.0255e+01,  1.0671e+01,  1.1064e+01,  1.1476e+01,  1.1885e+01,\n",
      "         1.2232e+01,  1.2690e+01,  1.3093e+01,  1.3466e+01,  1.3875e+01,\n",
      "         1.4293e+01,  1.4660e+01,  1.5047e+01,  1.5499e+01,  1.5892e+01,\n",
      "         1.6242e+01,  1.6582e+01,  1.6996e+01,  1.7327e+01,  1.7681e+01],\n",
      "       device='cpu')\n",
      "Variance = tensor([8.6821, 8.5090, 8.6808, 8.5635, 8.9480, 8.9482, 8.9086, 9.1030, 9.0822,\n",
      "        8.9378, 8.9705, 8.7380, 8.9342, 8.9946, 8.9722, 8.9741, 9.0773, 8.7657,\n",
      "        8.3839, 9.0745, 8.4024, 9.3344, 8.9163, 8.6208, 9.1847, 8.7738, 8.8097,\n",
      "        8.9348, 8.8998, 9.3433, 9.3146, 9.2959, 8.6921, 9.1074, 8.8873, 9.4761,\n",
      "        9.0502, 8.5742, 8.6360, 8.7875, 8.8344, 8.7165, 8.7839, 8.7675, 9.0481,\n",
      "        9.0986, 8.5076, 8.9594, 8.9388, 8.6842, 8.8114, 9.1146, 8.7098, 9.1393,\n",
      "        9.0007, 8.9922, 9.1262, 9.0197, 8.7873, 9.3794, 8.9983, 8.5074, 9.0241,\n",
      "        8.6603, 8.8907, 8.9286, 8.6632, 8.8672, 8.9746, 8.9895, 8.8343, 9.0687,\n",
      "        8.8136, 8.7738, 8.6511, 8.5839, 9.0758, 8.5468, 9.4563, 8.8556, 8.5635,\n",
      "        9.1537, 8.9725, 8.6563, 9.1920, 8.8435, 8.7006, 8.8973, 8.7852, 9.2047,\n",
      "        9.2216, 8.9168, 8.8018, 8.7266, 9.4640, 9.0145, 8.6970, 8.4847, 8.8681,\n",
      "        8.4642], device='cpu')\n"
     ]
    },
    {
     "data": {
      "image/png": "[encoded data removed]",
      "text/plain": [
       "<Figure size 432x288 with 1 Axes>"
      ]
     },
     "metadata": {
      "tags": []
     },
     "output_type": "display_data"
    }
   ],
   "source": [
    "X_test = X_test.to(torch_device)\n",
    "X_test_cpu = X_test.cpu()\n",
    "\n",
    "for key, network in uncertainty_methods.items():\n",
    "\n",
    "    \"\"\"\n",
    "    Testing\n",
    "    \"\"\"\n",
    "\n",
    "    # Model to eval mode\n",
    "    network.eval()\n",
    "\n",
    "    # Record testing start time (for this split)\n",
    "    tic_testing = time.time()    \n",
    "\n",
    "    predictions, mean, var, metrics = network.predict_dist(X_test, n_predictions)\n",
    "    \n",
    "    # Record testing end time\n",
    "    toc_testing = time.time()\n",
    "    \n",
    "    # Report the total testing time\n",
    "    print(\"testing time = \" + str(toc_testing - tic_testing) + \" seconds\")\n",
    "\n",
    "    # These can now be stored in CPU memory\n",
    "    predictions = predictions.cpu()\n",
    "    mean = mean.cpu()\n",
    "    var = var.cpu()\n",
    "    \n",
    "    \"\"\"\n",
    "    Print results\n",
    "    \"\"\"\n",
    "\n",
    "    print()\n",
    "    print(\"Mean = \" + str(mean.flatten()))\n",
    "    print(\"Variance = \" + str(var.flatten()))\n",
    "    \n",
    "    # store additional metrics\n",
    "    if len(metrics) > 0:\n",
    "        for key, value in metrics.items():\n",
    "            print(str(key) + \" = \" + str(value))\n",
    "        print()\n",
    "             \n",
    "    # Plot the uncertainty measured by each methods\n",
    "    plt.figure()\n",
    "    \n",
    "    # Fix the scales of x-axis and y-axis\n",
    "    plt.xlim(dataset_toy_x_low, dataset_toy_x_high)\n",
    "    plt.ylim(dataset_toy_y_mean-2*dataset_toy_y_std, dataset_toy_y_mean+2*dataset_toy_y_std)\n",
    "\n",
    "    # Distributions around the predictions\n",
    "    plt.fill_between(\n",
    "        X_test_cpu.flatten(), \n",
    "        (mean.detach().numpy() - 2*torch.sqrt(var).detach().numpy()).flatten(),\n",
    "        (mean.detach().numpy() + 2*torch.sqrt(var).detach().numpy()).flatten(),\n",
    "        color='lightblue', alpha=0.8)\n",
    "\n",
    "    # Train data\n",
    "    plt.plot(dataset.data_x.cpu(), dataset.data_y.cpu(), 'or', label='Training data', alpha=0.3)\n",
    "\n",
    "    # MC prediction\n",
    "    plt.plot(X_test_cpu, mean.detach().numpy(), 'blue', label='mean predictions', alpha=0.6)\n",
    "    \n",
    "    # Original data generating function without noise\n",
    "    plt.plot(X_test_cpu, X_test_cpu ** 3, 'gray', label='data generating function')    \n",
    "    \n",
    "    plt.legend()\n",
    "    \n",
    "    plt.savefig(os.path.join(test_results_path, str(key) + '.png'))\n",
    "    \n",
    "    plt.show()"
   ]
  },
  {
   "cell_type": "code",
   "execution_count": 0,
   "metadata": {
    "colab": {},
    "colab_type": "code",
    "id": "5m01dZ0dHSYw"
   },
   "outputs": [],
   "source": []
  }
 ],
 "metadata": {
  "accelerator": "GPU",
  "colab": {
   "collapsed_sections": [
    "Bka_bK83VFHh",
    "eEfdrHcOVFIj"
   ],
   "name": "experiment_comparison_toy.ipynb",
   "provenance": []
  },
  "kernelspec": {
   "display_name": "Python 3",
   "language": "python",
   "name": "python3"
  },
  "language_info": {
   "codemirror_mode": {
    "name": "ipython",
    "version": 3
   },
   "file_extension": ".py",
   "mimetype": "text/x-python",
   "name": "python",
   "nbconvert_exporter": "python",
   "pygments_lexer": "ipython3",
   "version": "3.8.0"
  }
 },
 "nbformat": 4,
 "nbformat_minor": 1
}
