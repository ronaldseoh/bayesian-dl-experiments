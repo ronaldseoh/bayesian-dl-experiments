{
 "cells": [
  {
   "cell_type": "markdown",
   "metadata": {
    "colab_type": "text",
    "id": "Bka_bK83VFHh"
   },
   "source": [
    "## Experiment Setup"
   ]
  },
  {
   "cell_type": "markdown",
   "metadata": {
    "colab_type": "text",
    "id": "8D5NSPs_cJZe"
   },
   "source": [
    "###  Random seed / Colab / CUDA related"
   ]
  },
  {
   "cell_type": "code",
   "execution_count": 1,
   "metadata": {
    "colab": {
     "base_uri": "https://localhost:8080/",
     "height": 592
    },
    "colab_type": "code",
    "executionInfo": {
     "elapsed": 32214,
     "status": "ok",
     "timestamp": 1575021332527,
     "user": {
      "displayName": "Ronald Seoh",
      "photoUrl": "",
      "userId": "10284188050297676522"
     },
     "user_tz": 300
    },
    "id": "pHbfpytEVFHu",
    "outputId": "7913f72d-859c-477f-90b8-6c37e04f5759"
   },
   "outputs": [],
   "source": [
    "import time\n",
    "import datetime\n",
    "import os\n",
    "import sys\n",
    "import itertools\n",
    "\n",
    "# Use Google Colab\n",
    "use_colab = True\n",
    "\n",
    "# Is this notebook running on Colab?\n",
    "# If so, then google.colab package (github.com/googlecolab/colabtools)\n",
    "# should be available in this environment\n",
    "\n",
    "# Previous version used importlib, but we could do the same thing with\n",
    "# just attempting to import google.colab\n",
    "try:\n",
    "    from google.colab import drive\n",
    "    colab_available = True\n",
    "except:\n",
    "    colab_available = False\n",
    "\n",
    "if use_colab and colab_available:\n",
    "    drive.mount('/content/drive')\n",
    "    \n",
    "    # If there's a package I need to install separately, do it here\n",
    "    !pip install pyro-ppl\n",
    "    \n",
    "    # Install ronald_bdl package\n",
    "    !pip install git+https://github.com/ronaldseoh/ronald_bdl.git\n",
    "\n",
    "    # cd to the appropriate working directory under my Google Drive\n",
    "    %cd 'drive/My Drive/Colab Notebooks/bayesian-dl-experiments'\n",
    "    \n",
    "    # List the directory contents\n",
    "    !ls\n",
    "\n",
    "# IPython reloading magic\n",
    "%load_ext autoreload\n",
    "%autoreload 2\n",
    "\n",
    "# Random seeds\n",
    "# Based on https://pytorch.org/docs/stable/notes/randomness.html\n",
    "random_seed = 682"
   ]
  },
  {
   "cell_type": "markdown",
   "metadata": {
    "colab_type": "text",
    "id": "L8udq6NnHSXW"
   },
   "source": [
    "### Third party libraries (NumPy, PyTorch, Pyro)"
   ]
  },
  {
   "cell_type": "code",
   "execution_count": 2,
   "metadata": {
    "colab": {
     "base_uri": "https://localhost:8080/",
     "height": 104
    },
    "colab_type": "code",
    "executionInfo": {
     "elapsed": 35929,
     "status": "ok",
     "timestamp": 1575021336266,
     "user": {
      "displayName": "Ronald Seoh",
      "photoUrl": "",
      "userId": "10284188050297676522"
     },
     "user_tz": 300
    },
    "id": "BOJA1nXgHSXa",
    "outputId": "e2c1368a-d446-42c6-b971-155962116ceb"
   },
   "outputs": [
    {
     "name": "stdout",
     "output_type": "stream",
     "text": [
      "Python Version: 3.8.0 (v3.8.0:fa919fdf25, Oct 14 2019, 10:23:27) \n",
      "[Clang 6.0 (clang-600.0.57)]\n",
      "NumPy Version: 1.17.4\n",
      "PyTorch Version: 1.4.0a0+328ec54\n",
      "Pyro Version: 1.0.0\n"
     ]
    }
   ],
   "source": [
    "# Third party libraries import\n",
    "import numpy as np\n",
    "import torch\n",
    "import pyro\n",
    "import matplotlib.pyplot as plt\n",
    "import tqdm\n",
    "\n",
    "# Print version information\n",
    "print(\"Python Version: \" + sys.version)\n",
    "print(\"NumPy Version: \" + np.__version__)\n",
    "print(\"PyTorch Version: \" + torch.__version__)\n",
    "print(\"Pyro Version: \" + pyro.__version__)"
   ]
  },
  {
   "cell_type": "code",
   "execution_count": 3,
   "metadata": {
    "colab": {
     "base_uri": "https://localhost:8080/",
     "height": 86
    },
    "colab_type": "code",
    "executionInfo": {
     "elapsed": 44842,
     "status": "ok",
     "timestamp": 1575021345196,
     "user": {
      "displayName": "Ronald Seoh",
      "photoUrl": "",
      "userId": "10284188050297676522"
     },
     "user_tz": 300
    },
    "id": "BOIqWi_wHSXi",
    "outputId": "b658d6b3-5990-4d42-f71e-f8cbff718437"
   },
   "outputs": [],
   "source": [
    "# More imports...\n",
    "from torch import nn, optim\n",
    "from torch.utils.data import random_split, DataLoader, RandomSampler\n",
    "import torchvision\n",
    "import torchvision.transforms as transforms\n",
    "from pyro.infer import SVI, Trace_ELBO, HMC, MCMC\n",
    "\n",
    "# Import model and dataset classes from ronald_bdl\n",
    "from ronald_bdl import models, datasets\n",
    "from ronald_bdl.models import utils\n",
    "\n",
    "# pyplot setting\n",
    "%matplotlib inline\n",
    "\n",
    "# torch.device / CUDA Setup\n",
    "use_cuda = True\n",
    "\n",
    "if use_cuda and torch.cuda.is_available():\n",
    "    torch_device = torch.device('cuda')\n",
    "\n",
    "    torch.backends.cudnn.deterministic = True\n",
    "    # Disable 'benchmark' mode\n",
    "    # Note: https://discuss.pytorch.org/t/what-does-torch-backends-cudnn-benchmark-do/5936\n",
    "    torch.backends.cudnn.benchmark = False\n",
    "    use_pin_memory = True # Faster Host to GPU copies with page-locked memory\n",
    "\n",
    "    # CUDA libraries version information\n",
    "    print(\"CUDA Version: \" + str(torch.version.cuda))\n",
    "    print(\"cuDNN Version: \" + str(torch.backends.cudnn.version()))\n",
    "    print(\"CUDA Device Name: \" + str(torch.cuda.get_device_name()))\n",
    "    print(\"CUDA Capabilities: \"+ str(torch.cuda.get_device_capability()))\n",
    "else:\n",
    "    torch_device = torch.device('cpu')\n",
    "    use_pin_memory = False"
   ]
  },
  {
   "cell_type": "markdown",
   "metadata": {
    "colab_type": "text",
    "id": "XIFRoH3AcJZn"
   },
   "source": [
    "### Toy dataset settings"
   ]
  },
  {
   "cell_type": "code",
   "execution_count": 4,
   "metadata": {
    "colab": {},
    "colab_type": "code",
    "id": "g_pzGq1_cJZp"
   },
   "outputs": [],
   "source": [
    "\"\"\"\n",
    "Toy dataset generation based on the experiment from \n",
    "the Probabilstic Backpropagation paper (Hernandez-Lobato & Adams, 2015)\n",
    "\"\"\"\n",
    "\n",
    "# Random seed for toy dataset\n",
    "dataset_toy_random_seed = 691\n",
    "\n",
    "# Toy dataset size\n",
    "dataset_toy_size = 20\n",
    "random_x = True\n",
    "\n",
    "# Toy dataset x distribution (uniform) parameters\n",
    "dataset_toy_x_low = -4\n",
    "dataset_toy_x_high = 4\n",
    "\n",
    "# Toy dataset y noise distribution (normal noise)\n",
    "dataset_toy_y_noise_mean = 0\n",
    "dataset_toy_y_noise_std = 9\n",
    "\n",
    "# Toy dataset additional noise\n",
    "dataset_toy_more_noise_x_from=None\n",
    "dataset_toy_more_noise_x_to=dataset_toy_x_high\n",
    "dataset_toy_more_noise_y_from=50\n",
    "dataset_toy_more_noise_y_to=100"
   ]
  },
  {
   "cell_type": "markdown",
   "metadata": {
    "colab_type": "text",
    "id": "Kdi_LQ7sspvM"
   },
   "source": [
    "### MC dropout parameters"
   ]
  },
  {
   "cell_type": "code",
   "execution_count": 5,
   "metadata": {
    "colab": {},
    "colab_type": "code",
    "id": "0ys_GAWtHSX4"
   },
   "outputs": [
    {
     "name": "stdout",
     "output_type": "stream",
     "text": [
      "reg_strength = tensor(9.9000e-06)\n"
     ]
    }
   ],
   "source": [
    "\"\"\"\n",
    "MC Dropout related\n",
    "\"\"\"\n",
    "\n",
    "# Dropout rate\n",
    "dropout_rate = 0.01\n",
    "\n",
    "# Length scale\n",
    "length_scale = 1e-2\n",
    "\n",
    "# tau\n",
    "tau = 0.25\n",
    "\n",
    "# reg strength\n",
    "reg_strength = utils.reg_strength(dropout_rate, length_scale, dataset_toy_size, tau)\n",
    "\n",
    "print('reg_strength = ' + str(reg_strength))\n",
    "\n",
    "# Epochs\n",
    "n_epochs = 20000\n",
    "\n",
    "# Optimizer learning rate\n",
    "learning_rate = 0.001\n",
    "\n",
    "# Loss function type\n",
    "loss_function_type = 'log_gaussian_loss'\n",
    "\n",
    "# Learn hetero noise?\n",
    "learn_hetero_noise = True\n",
    "\n",
    "# Number of test predictions (for each data point)\n",
    "n_predictions = 1000"
   ]
  },
  {
   "cell_type": "markdown",
   "metadata": {
    "colab_type": "text",
    "id": "DNGDKiltsux3"
   },
   "source": [
    "### Directory path to save results"
   ]
  },
  {
   "cell_type": "code",
   "execution_count": 6,
   "metadata": {
    "colab": {},
    "colab_type": "code",
    "id": "9ysu9G0FHSX-"
   },
   "outputs": [],
   "source": [
    "# Test start time\n",
    "test_start_time = datetime.datetime.today().strftime('%Y%m%d%H%M')\n",
    "\n",
    "# Directory to store the results for this experiment\n",
    "test_results_path = os.path.join(\n",
    "    './test_results',\n",
    "    'comparison_toy',\n",
    "    (\n",
    "        test_start_time \n",
    "        + '_' + str(n_epochs) \n",
    "        + '_' + str(dropout_rate) \n",
    "        + '_' + str(length_scale)\n",
    "        + '_' + str(tau)\n",
    "        + '_' + str(loss_function_type) \n",
    "        + '_' + str(n_predictions))\n",
    ")\n",
    "\n",
    "# Create the directory if it doesn't exist\n",
    "os.makedirs(test_results_path, exist_ok=True)"
   ]
  },
  {
   "cell_type": "markdown",
   "metadata": {
    "colab_type": "text",
    "id": "sZwe_f-yVFIf"
   },
   "source": [
    "## Prepare data"
   ]
  },
  {
   "cell_type": "markdown",
   "metadata": {
    "colab_type": "text",
    "id": "eEfdrHcOVFIj"
   },
   "source": [
    "### Get the data as a torch Dataset object"
   ]
  },
  {
   "cell_type": "code",
   "execution_count": 7,
   "metadata": {
    "colab": {
     "base_uri": "https://localhost:8080/",
     "height": 34
    },
    "colab_type": "code",
    "executionInfo": {
     "elapsed": 51278,
     "status": "ok",
     "timestamp": 1575021351670,
     "user": {
      "displayName": "Ronald Seoh",
      "photoUrl": "",
      "userId": "10284188050297676522"
     },
     "user_tz": 300
    },
    "id": "5u5qU-9JVFIr",
    "outputId": "480ccb60-6d74-46ec-dc61-e7689ebdb300"
   },
   "outputs": [
    {
     "name": "stdout",
     "output_type": "stream",
     "text": [
      "dataset size = (20, 1)\n"
     ]
    }
   ],
   "source": [
    "dataset = datasets.ToyDatasets(\n",
    "    random_seed=dataset_toy_random_seed,\n",
    "    n_samples=dataset_toy_size,\n",
    "    x_low=dataset_toy_x_low,\n",
    "    x_high=dataset_toy_x_high,\n",
    "    y_noise_mean=dataset_toy_y_noise_mean,\n",
    "    y_noise_std=dataset_toy_y_noise_std,\n",
    "    more_noise_x_from=dataset_toy_more_noise_x_from,\n",
    "    more_noise_x_to=dataset_toy_more_noise_x_to,\n",
    "    more_noise_y_from=dataset_toy_more_noise_y_from,\n",
    "    more_noise_y_to=dataset_toy_more_noise_y_to,\n",
    ")\n",
    "\n",
    "# Get the test data\n",
    "X_test = torch.linspace(dataset_toy_x_low-5, dataset_toy_x_high+5, 100).reshape(100, 1)\n",
    "y_test = torch.pow(X_test, 3)\n",
    "\n",
    "# Send it to the memory of the device to be used for training\n",
    "X_test = X_test.to(torch_device)\n",
    "y_test = y_test.to(torch_device)\n",
    "\n",
    "# Save a copy of X_test at CPU for plotting\n",
    "X_test_cpu = X_test.cpu()\n",
    "\n",
    "# Print the size of the training set\n",
    "print(\"dataset size = \" + str((len(dataset), dataset.n_features)))"
   ]
  },
  {
   "cell_type": "markdown",
   "metadata": {
    "colab_type": "text",
    "id": "LaasFWpqVFJ1"
   },
   "source": [
    "## Declare models"
   ]
  },
  {
   "cell_type": "code",
   "execution_count": 8,
   "metadata": {
    "colab": {},
    "colab_type": "code",
    "id": "gAqkGtg7VFJ9"
   },
   "outputs": [],
   "source": [
    "uncertainty_methods = {}\n",
    "\n",
    "# MC (Bernoulli) dropout\n",
    "do_mc_dropout = True\n",
    "\n",
    "if do_mc_dropout:\n",
    "    uncertainty_methods['mc_dropout_relu'] = models.FCNet(\n",
    "        input_dim=dataset.n_features, \n",
    "        output_dim=dataset.n_targets,\n",
    "        hidden_dim=100,\n",
    "        n_hidden=0,\n",
    "        dropout_rate=dropout_rate,\n",
    "        dropout_type='bernoulli',\n",
    "        learn_hetero=learn_hetero_noise,\n",
    "    )\n",
    "    \n",
    "#     uncertainty_methods['mc_dropout_tanh'] = models.FCNet(\n",
    "#         input_dim=dataset.n_features, \n",
    "#         output_dim=dataset.n_targets,\n",
    "#         hidden_dim=100,\n",
    "#         n_hidden=1,\n",
    "#         dropout_rate=dropout_rate,\n",
    "#         dropout_type='bernoulli',\n",
    "#         nonlinear_type='tanh',\n",
    "#         learn_hetero=learn_hetero_noise,\n",
    "#     )\n",
    "    \n",
    "#     uncertainty_methods['mc_dropout_sigmoid'] = models.FCNet(\n",
    "#         input_dim=dataset.n_features, \n",
    "#         output_dim=dataset.n_targets,\n",
    "#         hidden_dim=100,\n",
    "#         n_hidden=0,\n",
    "#         dropout_rate=dropout_rate,\n",
    "#         dropout_type='bernoulli',\n",
    "#         nonlinear_type='sigmoid',\n",
    "#         learn_hetero=True,\n",
    "#     )\n",
    "\n",
    "# Vanilla Variational Inference\n",
    "do_vi = False\n",
    "\n",
    "if do_vi:\n",
    "    uncertainty_methods['vi'] = models.FCNetPyro(\n",
    "        input_dim=dataset.n_features, \n",
    "        output_dim=dataset.n_targets,\n",
    "        hidden_dim=100,\n",
    "        n_hidden=0,\n",
    "        torch_device=torch_device,\n",
    "    )\n",
    "\n",
    "# HMC\n",
    "do_hmc = False\n",
    "\n",
    "if do_hmc:\n",
    "    uncertainty_methods['hmc'] = models.FCNetPyro(\n",
    "        input_dim=dataset.n_features, \n",
    "        output_dim=dataset.n_targets,\n",
    "        hidden_dim=100,\n",
    "        n_hidden=0,\n",
    "        torch_device=torch_device,\n",
    "    )"
   ]
  },
  {
   "cell_type": "markdown",
   "metadata": {
    "colab_type": "text",
    "id": "1PpzPMI8VFKE"
   },
   "source": [
    "## Train the models"
   ]
  },
  {
   "cell_type": "markdown",
   "metadata": {
    "colab_type": "text",
    "id": "Jc7Td1h1VFKb"
   },
   "source": [
    "### Train/test the model"
   ]
  },
  {
   "cell_type": "code",
   "execution_count": 9,
   "metadata": {
    "colab": {
     "base_uri": "https://localhost:8080/",
     "height": 903
    },
    "colab_type": "code",
    "executionInfo": {
     "elapsed": 1213641,
     "status": "ok",
     "timestamp": 1575022514055,
     "user": {
      "displayName": "Ronald Seoh",
      "photoUrl": "",
      "userId": "10284188050297676522"
     },
     "user_tz": 300
    },
    "id": "m4kavCiTVFKf",
    "outputId": "6731cdaf-71b9-4709-fd78-45fb2b335a05",
    "scrolled": false
   },
   "outputs": [
    {
     "name": "stderr",
     "output_type": "stream",
     "text": [
      "loss: 8447.0361:   0%|          | 0/20000 [00:00<?, ?it/s] "
     ]
    },
    {
     "name": "stdout",
     "output_type": "stream",
     "text": [
      "Now running mc_dropout_relu\n",
      "FCNet(\n",
      "  (input): ModuleDict(\n",
      "    (dropout): Dropout(p=0.01, inplace=False)\n",
      "    (linear): Linear(in_features=1, out_features=100, bias=True)\n",
      "    (nonlinear): ReLU()\n",
      "  )\n",
      "  (output_noise): Linear(in_features=100, out_features=1, bias=True)\n",
      "  (output): ModuleDict(\n",
      "    (dropout): Dropout(p=0.01, inplace=False)\n",
      "    (linear): Linear(in_features=100, out_features=1, bias=True)\n",
      "  )\n",
      ")\n",
      "\n"
     ]
    },
    {
     "name": "stderr",
     "output_type": "stream",
     "text": [
      "loss: 59.9743: 100%|██████████| 20000/20000 [02:10<00:00, 153.18it/s] "
     ]
    },
    {
     "name": "stdout",
     "output_type": "stream",
     "text": [
      "final loss = tensor(59.9743, grad_fn=<NegBackward>)\n",
      "training time = 130.57528710365295 seconds\n",
      "\n"
     ]
    },
    {
     "name": "stderr",
     "output_type": "stream",
     "text": [
      "\n"
     ]
    }
   ],
   "source": [
    "for key, network in uncertainty_methods.items():\n",
    "    # Reset the random number generator for each method (to produce identical results)\n",
    "    torch.manual_seed(random_seed)\n",
    "    np.random.seed(random_seed)\n",
    "    pyro.set_rng_seed(random_seed)\n",
    "    \n",
    "    # Print the method name\n",
    "    print(\"Now running \" + str(key))\n",
    "    \n",
    "    # Send the whole model to the selected torch.device\n",
    "    network.to(torch_device)\n",
    "\n",
    "    # Print the network structure\n",
    "    print(network)\n",
    "    print()\n",
    "\n",
    "    # Initialize training data loader\n",
    "    train_loader = DataLoader(dataset, batch_size=128)\n",
    "    \n",
    "    \"\"\"\n",
    "    Optimizer Setup\n",
    "    \"\"\"\n",
    "\n",
    "    if isinstance(network, models.FCNet):\n",
    "        # Adam optimizer\n",
    "        # https://pytorch.org/docs/stable/optim.html?highlight=adam#torch.optim.Adam\n",
    "        # NOTE: Need to set L2 regularization from here\n",
    "        optimizer = torch.optim.Adam(\n",
    "            network.parameters(),\n",
    "            lr=learning_rate,\n",
    "            weight_decay=reg_strength, # L2 regularization\n",
    "        )\n",
    "\n",
    "    elif isinstance(network, models.FCNetPyro):\n",
    "        # Clear everything in Pyro parameter storage\n",
    "        # Looks like this parameter store would be globally shared across\n",
    "        # models in the same Python instance.\n",
    "        pyro.clear_param_store()\n",
    "\n",
    "        # Force all the PyTorch tensors to be CUDA tensors if available\n",
    "        if use_cuda and torch.cuda.is_available():\n",
    "            torch.set_default_tensor_type(torch.cuda.FloatTensor)\n",
    "\n",
    "        # Different optimizers for VI and HMC\n",
    "        if key == 'vi':\n",
    "            optimizer = pyro.optim.Adam({\"lr\": 0.01})\n",
    "            svi = SVI(network, network.guide, optimizer, loss=Trace_ELBO())\n",
    "        elif key == 'hmc':\n",
    "            kernel = HMC(network)\n",
    "            mcmc = MCMC(kernel, num_samples=10000)\n",
    "\n",
    "    \"\"\"\n",
    "    Training\n",
    "    \"\"\"\n",
    "\n",
    "    # Model to train mode\n",
    "    network.train()\n",
    "\n",
    "    # Record training start time (for this method)\n",
    "    tic = time.time()\n",
    "    \n",
    "    if key == 'hmc':\n",
    "        # to() actually returns new Tensor; need to replace with that return\n",
    "        dataset.data_x = dataset.data_x.to(torch_device)\n",
    "\n",
    "        dataset.data_y = dataset.data_y.to(torch_device)\n",
    "\n",
    "        mcmc.run(dataset.data_x, dataset.data_y)\n",
    "    else:\n",
    "        progress_bar = tqdm.tqdm(range(n_epochs))\n",
    "\n",
    "        for epoch in progress_bar: # loop over the dataset multiple times\n",
    "\n",
    "            for i, data in enumerate(train_loader):\n",
    "                # get the inputs; data is a list of [inputs, labels]\n",
    "                inputs, targets = data\n",
    "\n",
    "                # Store the batch to torch_device's memory\n",
    "                # to() actually returns new Tensor; need to replace with that return\n",
    "                inputs = inputs.to(torch_device)\n",
    "                targets = targets.to(torch_device)\n",
    "\n",
    "                if isinstance(network, models.FCNet):\n",
    "                    # zero the parameter gradients\n",
    "                    optimizer.zero_grad()\n",
    "\n",
    "                    # forward + backward + optimize\n",
    "                    outputs, noises = network(inputs)\n",
    "\n",
    "                    # Mean Squared Error for loss function to minimize\n",
    "                    if loss_function_type == 'mse_loss':\n",
    "                        total_loss = torch.nn.MSELoss()(outputs, targets)\n",
    "                    elif loss_function_type == 'log_gaussian_loss':\n",
    "                        total_loss = utils.log_gaussian_loss(outputs, targets, noises.exp())\n",
    "\n",
    "                    total_loss.backward()\n",
    "\n",
    "                    optimizer.step()\n",
    "\n",
    "                elif isinstance(network, models.FCNetPyro):\n",
    "                    pyro.clear_param_store()\n",
    "                    # calculate the loss and take a gradient step\n",
    "                    total_loss = svi.step(inputs, targets)\n",
    "\n",
    "            progress_bar.set_description(\"loss: %5.4f\" % total_loss)\n",
    "            \n",
    "    # Record training end time\n",
    "    toc = time.time()\n",
    "\n",
    "    # Report the final loss\n",
    "    print(\"final loss = \" + str(total_loss))            \n",
    "\n",
    "    # Report the total training time\n",
    "    print(\"training time = \" + str(toc - tic) + \" seconds\")\n",
    "    \n",
    "    print()"
   ]
  },
  {
   "cell_type": "markdown",
   "metadata": {
    "colab_type": "text",
    "id": "xrknIU5UWv-v"
   },
   "source": [
    "## Plot the results"
   ]
  },
  {
   "cell_type": "code",
   "execution_count": 10,
   "metadata": {
    "colab": {
     "base_uri": "https://localhost:8080/",
     "height": 1000
    },
    "colab_type": "code",
    "executionInfo": {
     "elapsed": 20586,
     "status": "ok",
     "timestamp": 1575024185652,
     "user": {
      "displayName": "Ronald Seoh",
      "photoUrl": "",
      "userId": "10284188050297676522"
     },
     "user_tz": 300
    },
    "id": "ymmG2nxTHSYq",
    "outputId": "bad750f8-6180-4e17-8cfc-21b92fe8c524",
    "scrolled": false
   },
   "outputs": [
    {
     "name": "stdout",
     "output_type": "stream",
     "text": [
      "testing time = 0.5835850238800049 seconds\n",
      "\n",
      "Mean = tensor([-1.5362e+02, -1.4984e+02, -1.4554e+02, -1.4152e+02, -1.3805e+02,\n",
      "        -1.3429e+02, -1.3006e+02, -1.2570e+02, -1.2213e+02, -1.1909e+02,\n",
      "        -1.1523e+02, -1.1115e+02, -1.0793e+02, -1.0411e+02, -1.0021e+02,\n",
      "        -9.5987e+01, -9.2615e+01, -8.9564e+01, -8.5062e+01, -8.1134e+01,\n",
      "        -7.7483e+01, -7.3857e+01, -6.9661e+01, -6.6041e+01, -6.2606e+01,\n",
      "        -5.8506e+01, -5.4843e+01, -5.0956e+01, -4.7308e+01, -4.3395e+01,\n",
      "        -3.9593e+01, -3.5917e+01, -3.2150e+01, -2.8267e+01, -2.4459e+01,\n",
      "        -2.0822e+01, -1.6915e+01, -1.3183e+01, -9.4559e+00, -5.6504e+00,\n",
      "        -3.2550e+00, -3.5944e+00, -3.9181e+00, -3.8968e+00, -3.2986e+00,\n",
      "        -2.7588e+00, -2.1515e+00, -1.5834e+00, -9.9295e-01, -4.4271e-01,\n",
      "         7.2377e-02,  5.8841e-01,  9.1488e-01,  9.4605e-01,  9.5674e-01,\n",
      "         9.3004e-01,  8.7067e-01,  8.1592e-01,  1.2526e+00,  2.5170e+00,\n",
      "         3.7437e+00,  4.9806e+00,  6.3028e+00,  7.5266e+00,  8.9050e+00,\n",
      "         1.0562e+01,  1.7945e+01,  2.6217e+01,  3.4471e+01,  4.2311e+01,\n",
      "         5.0431e+01,  5.8195e+01,  6.6491e+01,  7.4480e+01,  8.2494e+01,\n",
      "         9.0698e+01,  9.8894e+01,  1.0725e+02,  1.1455e+02,  1.2298e+02,\n",
      "         1.3116e+02,  1.3917e+02,  1.4743e+02,  1.5499e+02,  1.6274e+02,\n",
      "         1.7182e+02,  1.7983e+02,  1.8752e+02,  1.9433e+02,  2.0402e+02,\n",
      "         2.1215e+02,  2.1895e+02,  2.2816e+02,  2.3566e+02,  2.4397e+02,\n",
      "         2.5164e+02,  2.5928e+02,  2.6981e+02,  2.7502e+02,  2.8313e+02],\n",
      "       grad_fn=<ViewBackward>)\n",
      "Variance = tensor([1.9729e+02, 1.4743e+02, 1.6636e+02, 2.8551e+02, 2.1468e+02, 1.7036e+02,\n",
      "        2.4275e+02, 2.9499e+02, 2.3323e+02, 1.3624e+02, 1.7404e+02, 1.5652e+02,\n",
      "        9.8807e+01, 1.1131e+02, 9.5636e+01, 1.4325e+02, 8.1125e+01, 3.3675e+01,\n",
      "        7.5820e+01, 7.7112e+01, 6.7799e+01, 4.0034e+01, 6.1577e+01, 5.4181e+01,\n",
      "        2.1660e+01, 3.9678e+01, 3.0658e+01, 3.2495e+01, 1.8859e+01, 1.9925e+01,\n",
      "        1.6586e+01, 1.4445e+01, 1.1714e+01, 1.0777e+01, 8.0539e+00, 3.6616e+00,\n",
      "        4.2521e+00, 2.0717e+00, 7.2903e-01, 4.6724e-01, 1.5911e-01, 2.3246e-01,\n",
      "        2.2365e-01, 2.1882e-01, 1.9390e-01, 6.9061e-02, 8.5115e-02, 4.4527e-02,\n",
      "        4.0286e-02, 2.6599e-02, 2.4996e-02, 3.6279e-02, 4.4142e-02, 4.1754e-02,\n",
      "        7.1308e-02, 9.0533e-02, 1.0697e-01, 1.3261e-01, 2.3706e-01, 2.5066e-01,\n",
      "        5.2174e-01, 9.7931e-01, 1.1675e+00, 1.5700e+00, 1.3261e+00, 1.8841e+00,\n",
      "        6.9123e+00, 7.5089e+00, 6.9605e+00, 2.0309e+01, 2.7439e+01, 4.8847e+01,\n",
      "        4.0303e+01, 6.5868e+01, 6.8128e+01, 5.9522e+01, 9.3759e+01, 8.4102e+01,\n",
      "        1.8005e+02, 1.5963e+02, 1.5025e+02, 1.8668e+02, 1.8598e+02, 3.0230e+02,\n",
      "        3.6176e+02, 2.2313e+02, 2.7266e+02, 4.3116e+02, 6.3217e+02, 3.8820e+02,\n",
      "        4.2308e+02, 6.0681e+02, 5.7803e+02, 6.8950e+02, 6.2257e+02, 9.0428e+02,\n",
      "        9.6849e+02, 3.7938e+02, 1.1082e+03, 1.2343e+03],\n",
      "       grad_fn=<ViewBackward>)\n",
      "Noise = tensor([1.4688e+09, 6.7117e+08, 4.7705e+08, 2.7490e+08, 1.3243e+08, 8.7240e+07,\n",
      "        5.2046e+07, 3.2019e+07, 1.6799e+07, 1.2134e+07, 8.3742e+06, 5.2764e+06,\n",
      "        2.2533e+06, 1.4869e+06, 8.0501e+05, 5.2295e+05, 3.1312e+05, 1.8771e+05,\n",
      "        1.1319e+05, 6.7227e+04, 4.4095e+04, 2.6399e+04, 1.5542e+04, 9.1371e+03,\n",
      "        5.6927e+03, 3.4426e+03, 2.2216e+03, 1.2478e+03, 8.2587e+02, 4.8675e+02,\n",
      "        3.0715e+02, 1.8442e+02, 1.0815e+02, 6.5661e+01, 4.1104e+01, 2.6069e+01,\n",
      "        1.5713e+01, 9.6125e+00, 5.8174e+00, 3.5704e+00, 2.3559e+00, 1.7509e+00,\n",
      "        1.3237e+00, 1.4312e+00, 2.6305e+00, 4.7884e+00, 8.8065e+00, 1.6244e+01,\n",
      "        2.9976e+01, 5.5082e+01, 1.0071e+02, 1.8444e+02, 3.0632e+02, 3.1352e+02,\n",
      "        2.1822e+02, 1.5706e+02, 1.1649e+02, 8.7674e+01, 6.6889e+01, 4.2107e+01,\n",
      "        2.8606e+01, 2.1965e+01, 1.6586e+01, 1.4836e+01, 5.5044e+00, 1.2156e+01,\n",
      "        2.7206e+01, 5.1265e+01, 1.7246e+02, 6.5937e+02, 1.6356e+03, 9.0145e+03,\n",
      "        9.6589e+03, 3.3948e+04, 1.4326e+05, 2.8128e+05, 6.5369e+05, 2.2747e+06,\n",
      "        2.0508e+07, 2.5606e+07, 4.8503e+07, 2.5184e+08, 3.6216e+08, 1.4544e+09,\n",
      "        1.4558e+09, 6.9762e+09, 2.6488e+11, 2.7498e+10, 2.0515e+11, 6.6773e+11,\n",
      "        2.1122e+12, 5.7879e+12, 1.4616e+13, 4.0883e+13, 9.8463e+13, 2.0740e+14,\n",
      "        9.3766e+14, 3.2744e+15, 6.1894e+15, 2.2097e+16],\n",
      "       grad_fn=<ViewBackward>)\n",
      "rmse_mc = tensor(181.0022, grad_fn=<SqrtBackward>)\n",
      "rmse_non_mc = tensor(181.0042, grad_fn=<SqrtBackward>)\n",
      "test_ll_mc = tensor(-3822.5605, grad_fn=<MeanBackward0>)\n",
      "\n"
     ]
    },
    {
     "data": {
      "image/png": "[encoded data removed]",
      "text/plain": [
       "<Figure size 432x288 with 1 Axes>"
      ]
     },
     "metadata": {
      "needs_background": "light"
     },
     "output_type": "display_data"
    }
   ],
   "source": [
    "for key, network in uncertainty_methods.items():\n",
    "\n",
    "    \"\"\"\n",
    "    Testing\n",
    "    \"\"\"\n",
    "\n",
    "    # Model to eval mode\n",
    "    network.eval()\n",
    "\n",
    "    # Record testing start time (for this split)\n",
    "    tic_testing = time.time()\n",
    "    \n",
    "    predictions_non_mc, _ = network(X_test)\n",
    "\n",
    "    predictions, mean, var, noises, metrics = network.predict_dist(\n",
    "        X_test, n_predictions,\n",
    "        y_test=y_test,\n",
    "        tau=torch.tensor(tau, dtype=torch.float))\n",
    "    \n",
    "    # Record testing end time\n",
    "    toc_testing = time.time()\n",
    "    \n",
    "    # Report the total testing time\n",
    "    print(\"testing time = \" + str(toc_testing - tic_testing) + \" seconds\")\n",
    "\n",
    "    # These can now be stored in CPU memory for plotting\n",
    "    predictions_non_mc = predictions_non_mc.cpu()\n",
    "    predictions = predictions.cpu()\n",
    "    mean = mean.cpu()\n",
    "    var = var.cpu()\n",
    "    noises = noises.cpu()\n",
    "\n",
    "    total_uncertainty = var + noises\n",
    "\n",
    "    \"\"\"\n",
    "    Print results\n",
    "    \"\"\"\n",
    "\n",
    "    print()\n",
    "    print(\"Mean = \" + str(mean.flatten()))\n",
    "    print(\"Variance = \" + str(var.flatten()))\n",
    "    print(\"Noise = \" + str(noises.flatten()))\n",
    "    \n",
    "    # store additional metrics\n",
    "    if len(metrics) > 0:\n",
    "        for metric_key, value in metrics.items():\n",
    "            print(str(metric_key) + \" = \" + str(value))\n",
    "        print()\n",
    "             \n",
    "    # Plot the uncertainty measured by each methods\n",
    "    plt.figure()\n",
    "    \n",
    "    # Fix the scales of x-axis and y-axis\n",
    "    plt.xlim(dataset_toy_x_low-1, dataset_toy_x_high+1)\n",
    "    \n",
    "    plot_ylim_low = dataset_toy_x_low ** 3 - 2 * dataset_toy_y_noise_std\n",
    "    plot_ylim_high = dataset_toy_x_high ** 3 + 2 * dataset_toy_y_noise_std\n",
    "    \n",
    "    plt.ylim(plot_ylim_low, plot_ylim_high)\n",
    "    \n",
    "    # Distributions around the predictions\n",
    "    plt.fill_between(\n",
    "        X_test_cpu.flatten(), \n",
    "        (mean.detach().numpy() - 2*torch.sqrt(total_uncertainty).detach().numpy()).flatten(),\n",
    "        (mean.detach().numpy() + 2*torch.sqrt(total_uncertainty).detach().numpy()).flatten(),\n",
    "        color='lightblue', alpha=0.6, label=\"Total predictive uncertainty\")\n",
    "    \n",
    "    # epistemic\n",
    "    plt.fill_between(\n",
    "        X_test_cpu.flatten(), \n",
    "        (mean.detach().numpy() - 2*torch.sqrt(var).detach().numpy()).flatten(),\n",
    "        (mean.detach().numpy() + 2*torch.sqrt(var).detach().numpy()).flatten(),\n",
    "        color='red', alpha=0.1, label=\"Epistemic uncertainty\")\n",
    "\n",
    "    # Train data\n",
    "    plt.plot(dataset.data_x.cpu(), dataset.data_y.cpu(), 'or', label='Training data', alpha=0.3)\n",
    "\n",
    "    # Non-MC prediction\n",
    "    plt.plot(X_test_cpu, predictions_non_mc.detach().numpy(), 'green', label='non-MC prediction', alpha=0.9)    \n",
    "    \n",
    "    # MC prediction\n",
    "    plt.plot(X_test_cpu, mean.detach().numpy(), 'blue', label='mean prediction', alpha=0.7)\n",
    "    \n",
    "    # Original data generating function without noise\n",
    "    plt.plot(X_test_cpu, X_test_cpu ** 3, 'gray', label='data generating function')    \n",
    "    \n",
    "    plt.legend()\n",
    "    \n",
    "    plt.savefig(os.path.join(test_results_path, str(key) + '.png'), dpi=600)\n",
    "    \n",
    "    plt.show()"
   ]
  },
  {
   "cell_type": "code",
   "execution_count": null,
   "metadata": {},
   "outputs": [],
   "source": []
  }
 ],
 "metadata": {
  "accelerator": "GPU",
  "colab": {
   "collapsed_sections": [
    "Bka_bK83VFHh",
    "eEfdrHcOVFIj"
   ],
   "name": "experiment_comparison_toy.ipynb",
   "provenance": []
  },
  "kernelspec": {
   "display_name": "Python 3",
   "language": "python",
   "name": "python3"
  },
  "language_info": {
   "codemirror_mode": {
    "name": "ipython",
    "version": 3
   },
   "file_extension": ".py",
   "mimetype": "text/x-python",
   "name": "python",
   "nbconvert_exporter": "python",
   "pygments_lexer": "ipython3",
   "version": "3.8.0"
  }
 },
 "nbformat": 4,
 "nbformat_minor": 1
}
