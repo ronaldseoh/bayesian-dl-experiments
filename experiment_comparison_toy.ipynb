{
 "cells": [
  {
   "cell_type": "markdown",
   "metadata": {
    "colab_type": "text",
    "id": "Bka_bK83VFHh"
   },
   "source": [
    "## Experiment Setup"
   ]
  },
  {
   "cell_type": "markdown",
   "metadata": {
    "colab_type": "text",
    "id": "8D5NSPs_cJZe"
   },
   "source": [
    "###  Random seed / PyTorch / Colab / CUDA related"
   ]
  },
  {
   "cell_type": "code",
   "execution_count": 1,
   "metadata": {
    "colab": {},
    "colab_type": "code",
    "id": "pHbfpytEVFHu"
   },
   "outputs": [],
   "source": [
    "import time\n",
    "import datetime\n",
    "import importlib\n",
    "import os\n",
    "\n",
    "import torch\n",
    "\n",
    "import numpy as np\n",
    "import matplotlib.pyplot as plt\n",
    "\n",
    "# pyplot setting\n",
    "%matplotlib inline\n",
    "\n",
    "# Use Google Colab\n",
    "use_colab = True\n",
    "\n",
    "# Is this running on Colab?\n",
    "colab_available = importlib.util.find_spec(\"google.colab\") is not None\n",
    "\n",
    "if use_colab and colab_available:\n",
    "    # Mount my Google Drive root folder\n",
    "    from google.colab import drive\n",
    "    drive.mount('/content/drive')\n",
    "    \n",
    "    # Pyro\n",
    "    !pip install pyro-ppl\n",
    "\n",
    "    # cd to bayesian-dl-experiments directory\n",
    "    %cd 'drive/My Drive/Colab Notebooks/bayesian-dl-experiments'\n",
    "    !ls\n",
    "\n",
    "# This needs to be imported after we are done with Colab setting\n",
    "import pyro\n",
    "\n",
    "# IPython reloading magic\n",
    "%load_ext autoreload\n",
    "%autoreload 2\n",
    "\n",
    "# Random seeds\n",
    "# Based on https://pytorch.org/docs/stable/notes/randomness.html\n",
    "random_seed = 682\n",
    "\n",
    "# torch.device / CUDA Setup\n",
    "use_cuda = True\n",
    "\n",
    "if use_cuda and torch.cuda.is_available():\n",
    "    torch_device = torch.device('cuda')\n",
    "    torch.set_default_tensor_type('torch.cuda.FloatTensor') \n",
    "    torch.backends.cudnn.deterministic = True\n",
    "    # Note: https://discuss.pytorch.org/t/what-does-torch-backends-cudnn-benchmark-do/5936\n",
    "    torch.backends.cudnn.benchmark = False\n",
    "    use_pin_memory=True # Faster Host to GPU copies with page-locked memory\n",
    "else:\n",
    "    torch_device = torch.device('cpu')\n",
    "    use_pin_memory=False"
   ]
  },
  {
   "cell_type": "markdown",
   "metadata": {
    "colab_type": "text",
    "id": "XIFRoH3AcJZn"
   },
   "source": [
    "### Variable settings"
   ]
  },
  {
   "cell_type": "code",
   "execution_count": 2,
   "metadata": {
    "colab": {},
    "colab_type": "code",
    "id": "g_pzGq1_cJZp"
   },
   "outputs": [],
   "source": [
    "\"\"\"\n",
    "Toy dataset generation based on the experiment from \n",
    "the Probabilstic Backpropagation paper (Hernandez-Lobato & Adams, 2015)\n",
    "\"\"\"\n",
    "# Random seed for toy dataset\n",
    "dataset_toy_random_seed = 691\n",
    "\n",
    "# Toy dataset size\n",
    "dataset_toy_size = 20\n",
    "\n",
    "# Toy dataset x distribution (uniform) parameters\n",
    "dataset_toy_x_low = -4\n",
    "dataset_toy_x_high = 4\n",
    "\n",
    "# Toy dataset y distribution (normal with noise)\n",
    "dataset_toy_y_mean = 0\n",
    "dataset_toy_y_std = 9\n",
    "\n",
    "# Dropout rate\n",
    "dropout_rate = 0.5\n",
    "\n",
    "# L2 regularization strength\n",
    "reg_strength = 0.3\n",
    "\n",
    "# Epochs\n",
    "n_epochs = 400\n",
    "\n",
    "# Loss function type\n",
    "loss_function_type = 'mse_loss'\n",
    "\n",
    "# Number of test predictions (for each data point)\n",
    "n_predictions = 100"
   ]
  },
  {
   "cell_type": "code",
   "execution_count": 3,
   "metadata": {},
   "outputs": [],
   "source": [
    "# Test start time\n",
    "test_start_time = datetime.datetime.today().strftime('%Y%m%d%H%M')\n",
    "\n",
    "test_results_path = os.path.join(\n",
    "    './test_results',\n",
    "    'comparison_toy',\n",
    "    test_start_time + '_' + str(n_epochs) + '_' + str(dropout_rate) + '_' + str(reg_strength) + '_' + str(loss_function_type) + '_' + str(n_predictions)\n",
    ")\n",
    "\n",
    "os.makedirs(test_results_path)"
   ]
  },
  {
   "cell_type": "markdown",
   "metadata": {
    "colab_type": "text",
    "id": "sZwe_f-yVFIf"
   },
   "source": [
    "## Prepare data"
   ]
  },
  {
   "cell_type": "markdown",
   "metadata": {
    "colab_type": "text",
    "id": "eEfdrHcOVFIj"
   },
   "source": [
    "### Get the data as a torch Dataset object"
   ]
  },
  {
   "cell_type": "code",
   "execution_count": 4,
   "metadata": {
    "colab": {
     "base_uri": "https://localhost:8080/",
     "height": 86
    },
    "colab_type": "code",
    "executionInfo": {
     "elapsed": 4151,
     "status": "ok",
     "timestamp": 1572955505337,
     "user": {
      "displayName": "Ronald Seoh",
      "photoUrl": "",
      "userId": "10284188050297676522"
     },
     "user_tz": 300
    },
    "id": "5u5qU-9JVFIr",
    "outputId": "3d1637a9-39e3-473a-e4be-b40211d444cc"
   },
   "outputs": [
    {
     "name": "stdout",
     "output_type": "stream",
     "text": [
      "dataset size = (20, 1)\n"
     ]
    }
   ],
   "source": [
    "from torch.utils.data import random_split, DataLoader\n",
    "from ronald_bdl import datasets\n",
    "\n",
    "dataset = datasets.ToyDatasets(\n",
    "    random_seed=dataset_toy_random_seed,\n",
    "    n_samples=dataset_toy_size,\n",
    "    x_low=dataset_toy_x_low,\n",
    "    x_high=dataset_toy_x_high,\n",
    "    y_mean=dataset_toy_y_mean,\n",
    "    y_std=dataset_toy_y_std,\n",
    ")\n",
    "\n",
    "# Get the test data\n",
    "X_test = torch.linspace(dataset_toy_x_low, dataset_toy_x_high, 100).reshape(100, 1)\n",
    "\n",
    "# Print the size of the dataset\n",
    "print(\"dataset size = \" + str((len(dataset), dataset.n_features)))"
   ]
  },
  {
   "cell_type": "markdown",
   "metadata": {
    "colab_type": "text",
    "id": "LaasFWpqVFJ1"
   },
   "source": [
    "## Define network"
   ]
  },
  {
   "cell_type": "code",
   "execution_count": 5,
   "metadata": {
    "colab": {
     "base_uri": "https://localhost:8080/",
     "height": 156
    },
    "colab_type": "code",
    "executionInfo": {
     "elapsed": 6671,
     "status": "ok",
     "timestamp": 1572955507874,
     "user": {
      "displayName": "Ronald Seoh",
      "photoUrl": "",
      "userId": "10284188050297676522"
     },
     "user_tz": 300
    },
    "id": "gAqkGtg7VFJ9",
    "outputId": "0db0dd2f-92f2-4502-c035-917ba1eab35d"
   },
   "outputs": [],
   "source": [
    "from ronald_bdl import models\n",
    "\n",
    "uncertainty_methods = {}\n",
    "\n",
    "# MC (Bernoulli) dropout\n",
    "uncertainty_methods['mc_dropout'] = models.FCNetMCDropout(\n",
    "    input_dim=dataset.n_features, \n",
    "    output_dim=dataset.n_targets,\n",
    "    hidden_dim=100,\n",
    "    n_hidden=0,\n",
    "    dropout_rate=dropout_rate,\n",
    "    dropout_type='bernoulli',\n",
    ")\n",
    "\n",
    "# Vanilla Variational Inference\n",
    "uncertainty_methods['variational_inference'] = models.FCNetPyro(\n",
    "    input_dim=dataset.n_features, \n",
    "   output_dim=dataset.n_targets,\n",
    "    hidden_dim=100,\n",
    "    n_hidden=0,\n",
    ")\n",
    "\n",
    "# HMC (NUTS)\n",
    "uncertainty_methods['hmc'] = models.FCNetPyro(\n",
    "    input_dim=dataset.n_features, \n",
    "    output_dim=dataset.n_targets,\n",
    "    hidden_dim=100,\n",
    "    n_hidden=0,\n",
    ")"
   ]
  },
  {
   "cell_type": "markdown",
   "metadata": {
    "colab_type": "text",
    "id": "1PpzPMI8VFKE"
   },
   "source": [
    "## Train the network"
   ]
  },
  {
   "cell_type": "markdown",
   "metadata": {
    "colab_type": "text",
    "id": "Jc7Td1h1VFKb"
   },
   "source": [
    "### Train/test the model"
   ]
  },
  {
   "cell_type": "code",
   "execution_count": 6,
   "metadata": {
    "colab": {
     "base_uri": "https://localhost:8080/",
     "height": 1000
    },
    "colab_type": "code",
    "executionInfo": {
     "elapsed": 1731463,
     "status": "ok",
     "timestamp": 1572957232698,
     "user": {
      "displayName": "Ronald Seoh",
      "photoUrl": "",
      "userId": "10284188050297676522"
     },
     "user_tz": 300
    },
    "id": "m4kavCiTVFKf",
    "outputId": "62aa76cb-701a-4cdc-d1e3-877ae60252cf",
    "scrolled": false
   },
   "outputs": [
    {
     "name": "stdout",
     "output_type": "stream",
     "text": [
      "Now running mc_dropout\n",
      "FCNetMCDropout(\n",
      "  (input): Sequential(\n",
      "    (0): Linear(in_features=1, out_features=100, bias=True)\n",
      "    (1): Dropout(p=0.5, inplace=False)\n",
      "  )\n",
      "  (output): Linear(in_features=100, out_features=1, bias=True)\n",
      ")\n",
      "\n",
      "[iteration 0001] loss: 613.9195\n",
      "[iteration 0101] loss: 157.4110\n",
      "[iteration 0201] loss: 148.9222\n",
      "[iteration 0301] loss: 111.6623\n",
      "final loss = tensor(100.3918, grad_fn=<MseLossBackward>)\n",
      "training time = 1.1949479579925537 seconds\n",
      "\n",
      "Now running variational_inference\n",
      "FCNetPyro(\n",
      "  (input): Sequential(\n",
      "    (0): Linear(in_features=1, out_features=100, bias=True)\n",
      "    (1): Identity()\n",
      "  )\n",
      "  (output): Linear(in_features=100, out_features=1, bias=True)\n",
      ")\n",
      "\n",
      "[iteration 0001] loss: nan\n"
     ]
    },
    {
     "name": "stderr",
     "output_type": "stream",
     "text": [
      "/Users/se9/python/00_default/lib/python3.6/site-packages/pyro/infer/trace_elbo.py:135: UserWarning: Encountered NaN: loss\n",
      "  warn_if_nan(loss, \"loss\")\n"
     ]
    },
    {
     "name": "stdout",
     "output_type": "stream",
     "text": [
      "[iteration 0101] loss: nan\n",
      "[iteration 0201] loss: nan\n",
      "[iteration 0301] loss: nan\n"
     ]
    },
    {
     "name": "stderr",
     "output_type": "stream",
     "text": [
      "Warmup:   0%|          | 1/2100 [00:00,  6.14it/s, step size=3.60e+00, acc. prob=1.000]"
     ]
    },
    {
     "name": "stdout",
     "output_type": "stream",
     "text": [
      "final loss = nan\n",
      "training time = 4.277322053909302 seconds\n",
      "\n",
      "Now running hmc\n",
      "FCNetPyro(\n",
      "  (input): Sequential(\n",
      "    (0): Linear(in_features=1, out_features=100, bias=True)\n",
      "    (1): Identity()\n",
      "  )\n",
      "  (output): Linear(in_features=100, out_features=1, bias=True)\n",
      ")\n",
      "\n"
     ]
    },
    {
     "name": "stderr",
     "output_type": "stream",
     "text": [
      "sample: 100%|██████████| 2100/2100 [02:51, 12.25it/s, step size=2.93e-01, acc. prob=0.891]"
     ]
    },
    {
     "name": "stdout",
     "output_type": "stream",
     "text": [
      "final loss = nan\n",
      "training time = 171.42840099334717 seconds\n",
      "\n"
     ]
    },
    {
     "name": "stderr",
     "output_type": "stream",
     "text": [
      "\n"
     ]
    }
   ],
   "source": [
    "from pyro.infer import EmpiricalMarginal, SVI, Trace_ELBO, NUTS, MCMC\n",
    "\n",
    "for key, network in uncertainty_methods.items():\n",
    "    \n",
    "    # Reset the random number generator for each method (to produce identical results)\n",
    "    torch.manual_seed(random_seed)\n",
    "    np.random.seed(random_seed)\n",
    "    pyro.set_rng_seed(random_seed)\n",
    "    \n",
    "    # Print the method name\n",
    "    print(\"Now running \" + str(key))\n",
    "    \n",
    "    # Send the whole model to the selected torch.device\n",
    "    network.to(torch_device)\n",
    "\n",
    "    # Print the network structure\n",
    "    print(network)\n",
    "    print()\n",
    "\n",
    "    train_loader = DataLoader(dataset, batch_size=len(dataset))\n",
    "    \n",
    "    # Optimizer setup\n",
    "    if isinstance(network, models.FCNetMCDropout):\n",
    "        # Adam optimizer\n",
    "        # https://pytorch.org/docs/stable/optim.html?highlight=adam#torch.optim.Adam\n",
    "        # NOTE: Need to set L2 regularization from here\n",
    "        optimizer = torch.optim.Adam(\n",
    "            network.parameters(),\n",
    "            lr=0.01,\n",
    "            weight_decay=reg_strength, # L2 regularization\n",
    "        )\n",
    "\n",
    "        # Mean Squared Error for loss function to minimize\n",
    "        objective = torch.nn.MSELoss()\n",
    "\n",
    "    elif isinstance(network, models.FCNetPyro):\n",
    "        if key == 'variational_inference':\n",
    "            optimizer = pyro.optim.Adam({\"lr\": 0.01})\n",
    "            svi = SVI(network.model, network.guide, optimizer, loss=Trace_ELBO(), num_samples=1000)\n",
    "        elif key == 'hmc':\n",
    "            nuts_kernel = NUTS(network.model)\n",
    "            mcmc = MCMC(nuts_kernel, num_samples=2000, warmup_steps=100)\n",
    "            \n",
    "        pyro.clear_param_store()\n",
    "    \n",
    "    \"\"\"\n",
    "    Training\n",
    "    \"\"\"\n",
    "    # Model to train mode\n",
    "    network.train()\n",
    "\n",
    "    # Record training start time (for this method)\n",
    "    tic = time.time()\n",
    "    \n",
    "    if key == 'hmc':\n",
    "        dataset.data_x.to(torch_device)\n",
    "        dataset.data_y.to(torch_device)\n",
    "        mcmc.run(dataset.data_x, dataset.data_y)\n",
    "    else:\n",
    "        for epoch in range(n_epochs): # loop over the dataset multiple times\n",
    "\n",
    "            for i, data in enumerate(train_loader):\n",
    "                # get the inputs; data is a list of [inputs, labels]\n",
    "                inputs, targets = data\n",
    "\n",
    "                # Store the batch to torch_device's memory\n",
    "                inputs = inputs.to(torch_device)\n",
    "                targets = targets.to(torch_device)\n",
    "\n",
    "                if isinstance(network, models.FCNetMCDropout):\n",
    "                    # zero the parameter gradients\n",
    "                    optimizer.zero_grad()\n",
    "\n",
    "                    # forward + backward + optimize\n",
    "                    outputs = network(inputs)\n",
    "\n",
    "                    if loss_function_type == 'test_ll_mc':\n",
    "                        _, _, _, metrics = network.predict_dist(\n",
    "                            inputs, n_predictions, y_test=targets, reg_strength=reg_strength)\n",
    "\n",
    "                        total_loss = -(metrics['test_ll_mc'])\n",
    "                    \n",
    "                    else:\n",
    "                        total_loss = objective(outputs, targets)\n",
    "\n",
    "                    total_loss.backward()\n",
    "\n",
    "                    optimizer.step()\n",
    "\n",
    "                elif isinstance(network, models.FCNetPyro):\n",
    "                    pyro.clear_param_store()\n",
    "                    # calculate the loss and take a gradient step\n",
    "                    total_loss = svi.step(inputs, targets)\n",
    "\n",
    "            if epoch % 100 == 0:\n",
    "                print(\"[iteration %04d] loss: %.4f\" % (epoch + 1, total_loss))\n",
    "            \n",
    "    # Record training end time\n",
    "    toc = time.time()\n",
    "\n",
    "    # Report the final loss\n",
    "    print(\"final loss = \" + str(total_loss))            \n",
    "\n",
    "    # Report the total training time\n",
    "    print(\"training time = \" + str(toc - tic) + \" seconds\")\n",
    "    \n",
    "    print()"
   ]
  },
  {
   "cell_type": "code",
   "execution_count": 7,
   "metadata": {
    "scrolled": false
   },
   "outputs": [
    {
     "name": "stdout",
     "output_type": "stream",
     "text": [
      "testing time = 4.386714220046997 seconds\n",
      "\n",
      "Mean = tensor([-41.6790, -40.6880, -39.5574, -38.0876, -36.9174, -35.9321, -34.7288,\n",
      "        -33.5449, -32.2705, -31.2464, -30.0208, -28.7263, -27.6148, -26.4410,\n",
      "        -25.2391, -24.0645, -22.8422, -21.7105, -20.5451, -19.2720, -18.1174,\n",
      "        -16.8988, -15.7213, -14.5108, -13.2956, -12.1445, -10.9657,  -9.8707,\n",
      "         -8.7893,  -7.7026,  -6.7083,  -5.8339,  -5.0284,  -4.3079,  -3.6619,\n",
      "         -3.0807,  -2.5272,  -2.0077,  -1.5295,  -1.1078,  -0.7415,  -0.4795,\n",
      "         -0.2429,  -0.0615,   0.0884,   0.2391,   0.3908,   0.4994,   0.5992,\n",
      "          0.7284,   0.8652,   1.0141,   1.1621,   1.3465,   1.5376,   1.7479,\n",
      "          1.9667,   2.1645,   2.3962,   2.6504,   2.8912,   3.1391,   3.3794,\n",
      "          3.6146,   3.8766,   4.1539,   4.4322,   4.7271,   5.1464,   5.5640,\n",
      "          6.0921,   6.6634,   7.2814,   7.9555,   8.9782,  10.1944,  11.6007,\n",
      "         13.0741,  14.5861,  16.0878,  17.5817,  19.1508,  20.5990,  21.9954,\n",
      "         23.5682,  25.0642,  26.5746,  27.9632,  29.5023,  31.0844,  32.4639,\n",
      "         34.0073,  35.3798,  36.9635,  38.5913,  40.0679,  41.5191,  42.9889,\n",
      "         44.4587,  46.0625], grad_fn=<ViewBackward>)\n",
      "Variance = tensor([52.6740, 50.6214, 46.6523, 45.1977, 40.9119, 38.8164, 36.5955, 34.3403,\n",
      "        31.3314, 28.6396, 26.5821, 25.4633, 22.5858, 20.8118, 19.1627, 17.2141,\n",
      "        15.4411, 14.1098, 12.6694, 11.1012, 10.1731,  8.8467,  7.6525,  6.4860,\n",
      "         5.6943,  4.9103,  4.1628,  3.4057,  2.9521,  2.4363,  2.0302,  1.7148,\n",
      "         1.4123,  1.1772,  0.9821,  0.8001,  0.6672,  0.5625,  0.4795,  0.4209,\n",
      "         0.3863,  0.3645,  0.3531,  0.3420,  0.3446,  0.3558,  0.3627,  0.3663,\n",
      "         0.3900,  0.4140,  0.4269,  0.4706,  0.4818,  0.5183,  0.5653,  0.5871,\n",
      "         0.6426,  0.6878,  0.7564,  0.7754,  0.8674,  0.9437,  1.0053,  1.1051,\n",
      "         1.2041,  1.3184,  1.3922,  1.5215,  1.6434,  1.7983,  1.9515,  2.1600,\n",
      "         2.3690,  2.6437,  2.9965,  3.3688,  3.8602,  4.5156,  5.5947,  6.4061,\n",
      "         7.3540,  8.8905, 10.2366, 12.2896, 13.7643, 15.7110, 17.7542, 19.4985,\n",
      "        22.6313, 25.6507, 28.2093, 31.2290, 33.4685, 36.2184, 39.9792, 43.9081,\n",
      "        48.5450, 51.0727, 55.8173, 59.4401], grad_fn=<ViewBackward>)\n"
     ]
    },
    {
     "data": {
      "image/png": "[encoded data removed]",
      "text/plain": [
       "<Figure size 432x288 with 1 Axes>"
      ]
     },
     "metadata": {
      "needs_background": "light"
     },
     "output_type": "display_data"
    },
    {
     "name": "stdout",
     "output_type": "stream",
     "text": [
      "testing time = 15.764600038528442 seconds\n",
      "\n",
      "Mean = tensor([28.2756, 27.6969, 27.1184, 26.5398, 25.9611, 25.3819, 24.7942, 24.2064,\n",
      "        23.6186, 23.0309, 22.4431, 21.8554, 21.2676, 20.6798, 20.0921, 19.5043,\n",
      "        18.9166, 18.3288, 17.7411, 17.1533, 16.5922, 16.0356, 15.4739, 14.9247,\n",
      "        14.3790, 13.8334, 13.2910, 12.7607, 12.2332, 11.6917, 11.0835, 10.4753,\n",
      "         9.8015,  9.1177,  8.4090,  7.6983,  7.0793,  6.4763,  5.9300,  5.4647,\n",
      "         5.0320,  4.5370,  4.0222,  3.5074,  3.0211,  2.6330,  2.2340,  1.8388,\n",
      "         1.5677,  1.3471,  1.1172,  0.8546,  0.5345,  0.2254, -0.1652, -0.6115,\n",
      "        -1.0577, -1.5471, -1.8936, -2.2227, -2.4155, -2.5026, -2.6311, -2.7576,\n",
      "        -2.8840, -3.0114, -3.1695, -3.3549, -3.5384, -3.7219, -3.9054, -4.0889,\n",
      "        -4.2806, -4.4731, -4.6421, -4.8000, -4.9508, -5.0872, -5.2236, -5.3599,\n",
      "        -5.5430, -5.7610, -5.9842, -6.1916, -6.3727, -6.5539, -6.7326, -6.9054,\n",
      "        -7.0755, -7.2430, -7.4105, -7.5781, -7.7503, -7.9238, -8.0973, -8.2708,\n",
      "        -8.4443, -8.6178, -8.7913, -8.9648])\n",
      "Variance = tensor([185.2875, 178.8040, 172.4442, 166.2080, 160.0955, 154.1071, 148.2496,\n",
      "        142.5169, 136.9090, 131.4259, 126.0676, 120.8342, 115.7255, 110.7416,\n",
      "        105.8826, 101.1484,  96.5389,  92.0543,  87.6945,  83.4595,  79.3517,\n",
      "         75.3703,  71.5127,  67.7855,  64.1979,  60.7488,  57.4385,  54.2672,\n",
      "         51.2342,  48.3394,  45.5825,  42.9619,  40.4815,  38.1391,  35.9420,\n",
      "         33.8933,  32.0078,  30.2783,  28.7012,  27.2734,  25.9808,  24.8354,\n",
      "         23.8449,  23.0093,  22.3280,  21.7845,  21.4033,  21.2101,  21.1979,\n",
      "         21.3586,  21.7075,  22.2983,  23.1236,  24.1997,  25.5607,  27.2111,\n",
      "         29.1501,  31.3797,  33.8883,  36.6811,  39.7495,  43.0775,  46.6912,\n",
      "         50.5929,  54.7606,  59.1946,  63.8986,  68.8678,  74.1045,  79.6094,\n",
      "         85.3822,  91.4231,  97.7342, 104.3110, 111.1517, 118.2683, 125.6634,\n",
      "        133.3370, 141.2861, 149.5106, 158.0078, 166.7771, 175.8283, 185.1544,\n",
      "        194.7557, 204.6327, 214.7853, 225.2136, 235.9302, 246.9317, 258.2049,\n",
      "        269.7498, 281.5661, 293.6540, 306.0137, 318.6452, 331.5484, 344.7233,\n",
      "        358.1701, 371.8886])\n"
     ]
    },
    {
     "data": {
      "image/png": "[encoded data removed]",
      "text/plain": [
       "<Figure size 432x288 with 1 Axes>"
      ]
     },
     "metadata": {
      "needs_background": "light"
     },
     "output_type": "display_data"
    },
    {
     "name": "stdout",
     "output_type": "stream",
     "text": [
      "testing time = 16.078202962875366 seconds\n",
      "\n",
      "Mean = tensor([28.4617, 27.8798, 27.2979, 26.7159, 26.1340, 25.5514, 24.9596, 24.3679,\n",
      "        23.7761, 23.1842, 22.5925, 22.0007, 21.4089, 20.8170, 20.2253, 19.6334,\n",
      "        19.0417, 18.4498, 17.8581, 17.2662, 16.7018, 16.1422, 15.5775, 15.0246,\n",
      "        14.4750, 13.9253, 13.3787, 12.8441, 12.3123, 11.7666, 11.1531, 10.5395,\n",
      "         9.8606,  9.1715,  8.4569,  7.7404,  7.1157,  6.5075,  5.9565,  5.4869,\n",
      "         5.0499,  4.5487,  4.0271,  3.5055,  3.0123,  2.6168,  2.2134,  1.8145,\n",
      "         1.5397,  1.3149,  1.0800,  0.8109,  0.4848,  0.1712, -0.2234, -0.6736,\n",
      "        -1.1238, -1.6170, -1.9654, -2.2962, -2.4911, -2.5810, -2.7120, -2.8391,\n",
      "        -2.9663, -3.0945, -3.2541, -3.4410, -3.6261, -3.8112, -3.9963, -4.1814,\n",
      "        -4.3746, -4.5683, -4.7382, -4.8970, -5.0486, -5.1856, -5.3227, -5.4597,\n",
      "        -5.6436, -5.8628, -6.0873, -6.2960, -6.4785, -6.6611, -6.8413, -7.0155,\n",
      "        -7.1872, -7.3566, -7.5259, -7.6953, -7.8692, -8.0444, -8.2196, -8.3948,\n",
      "        -8.5700, -8.7452, -8.9204, -9.0956])\n",
      "Variance = tensor([182.9148, 176.5964, 170.3973, 164.3176, 158.3573, 152.5160, 146.7914,\n",
      "        141.1877, 135.7050, 130.3434, 125.1028, 119.9831, 114.9845, 110.1070,\n",
      "        105.3504, 100.7149,  96.2003,  91.8068,  87.5343,  83.3828,  79.3574,\n",
      "         75.4548,  71.6709,  68.0044,  64.4685,  61.0681,  57.8038,  54.6775,\n",
      "         51.6873,  48.8302,  46.0971,  43.4979,  41.0341,  38.7033,  36.5082,\n",
      "         34.4573,  32.5442,  30.7668,  29.1300,  27.6279,  26.2631,  25.0493,\n",
      "         23.9926,  23.0905,  22.3440,  21.7473,  21.3170,  21.0747,  21.0129,\n",
      "         21.1299,  21.4370,  21.9879,  22.7824,  23.8387,  25.1389,  26.7318,\n",
      "         28.6213,  30.8056,  33.2781,  36.0398,  39.0707,  42.3836,  45.9907,\n",
      "         49.8779,  54.0369,  58.4670,  63.1621,  68.1295,  73.3686,  78.8811,\n",
      "         84.6671,  90.7264,  97.0571, 103.6573, 110.5270, 117.6786, 125.1074,\n",
      "        132.8099, 140.7912, 149.0513, 157.5936, 166.4151, 175.5141, 184.8927,\n",
      "        194.5488, 204.4838, 214.6976, 225.1901, 235.9656, 247.0204, 258.3492,\n",
      "        269.9518, 281.8302, 293.9832, 306.4102, 319.1114, 332.0866, 345.3358,\n",
      "        358.8592, 372.6567])\n"
     ]
    },
    {
     "data": {
      "image/png": "[encoded data removed]",
      "text/plain": [
       "<Figure size 432x288 with 1 Axes>"
      ]
     },
     "metadata": {
      "needs_background": "light"
     },
     "output_type": "display_data"
    }
   ],
   "source": [
    "for key, network in uncertainty_methods.items():\n",
    "\n",
    "    \"\"\"\n",
    "    Testing\n",
    "    \"\"\"\n",
    "\n",
    "    # Model to eval mode\n",
    "    network.eval()\n",
    "\n",
    "    # Record testing start time (for this split)\n",
    "    tic_testing = time.time()    \n",
    "    \n",
    "    predictions, mean, var, metrics = network.predict_dist(X_test, 10000)\n",
    "    \n",
    "    # Record testing end time\n",
    "    toc_testing = time.time()\n",
    "    \n",
    "    # Report the total testing time\n",
    "    print(\"testing time = \" + str(toc_testing - tic_testing) + \" seconds\")\n",
    "    \n",
    "    \"\"\"\n",
    "    Print results\n",
    "    \"\"\"\n",
    "    print()\n",
    "    print(\"Mean = \" + str(mean.flatten()))\n",
    "    print(\"Variance = \" + str(var.flatten()))\n",
    "    \n",
    "    # store additional metrics\n",
    "    if len(metrics) > 0:\n",
    "        for key, value in metrics.items():\n",
    "            print(str(key) + \" = \" + str(value))\n",
    "        print()\n",
    "             \n",
    "    # Plot the uncertainty measured by each methods\n",
    "    plt.figure()\n",
    "    \n",
    "    # Fix the scales of x-axis and y-axis\n",
    "    plt.xlim(dataset_toy_x_low, dataset_toy_x_high)\n",
    "    plt.ylim(dataset_toy_y_mean-2*dataset_toy_y_std, dataset_toy_y_mean+2*dataset_toy_y_std)\n",
    "\n",
    "    # Distributions around the predictions\n",
    "    plt.fill_between(X_test.flatten(), (mean.detach().numpy() - 2*torch.sqrt(var).detach().numpy()).flatten(), (mean.detach().numpy() + 2*torch.sqrt(var).detach().numpy()).flatten(),\n",
    "                     color='lightblue', alpha=0.5)\n",
    "\n",
    "    # Train data\n",
    "    plt.plot(dataset.data_x, dataset.data_y, 'or', label='Training data')\n",
    "\n",
    "    # MC prediction\n",
    "    plt.plot(X_test, mean.detach().numpy(), 'gray', label='mean predictions')\n",
    "    \n",
    "    # Original data generating function without noise\n",
    "    plt.plot(X_test, X_test ** 3, 'blue', label='data generating function')    \n",
    "    \n",
    "    plt.legend()\n",
    "    \n",
    "    plt.savefig(os.path.join(test_results_path, str(key) + '.png'))\n",
    "    \n",
    "    plt.show()"
   ]
  },
  {
   "cell_type": "code",
   "execution_count": null,
   "metadata": {},
   "outputs": [],
   "source": []
  }
 ],
 "metadata": {
  "accelerator": "GPU",
  "colab": {
   "collapsed_sections": [],
   "name": "experiments.ipynb",
   "provenance": []
  },
  "kernelspec": {
   "display_name": "Python 3",
   "language": "python",
   "name": "python3"
  },
  "language_info": {
   "codemirror_mode": {
    "name": "ipython",
    "version": 3
   },
   "file_extension": ".py",
   "mimetype": "text/x-python",
   "name": "python",
   "nbconvert_exporter": "python",
   "pygments_lexer": "ipython3",
   "version": "3.6.8"
  }
 },
 "nbformat": 4,
 "nbformat_minor": 1
}
