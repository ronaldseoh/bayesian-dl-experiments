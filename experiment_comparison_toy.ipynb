{
 "cells": [
  {
   "cell_type": "markdown",
   "metadata": {
    "colab_type": "text",
    "id": "Bka_bK83VFHh"
   },
   "source": [
    "## Experiment Setup"
   ]
  },
  {
   "cell_type": "markdown",
   "metadata": {
    "colab_type": "text",
    "id": "8D5NSPs_cJZe"
   },
   "source": [
    "###  Random seed / PyTorch / Colab / CUDA related"
   ]
  },
  {
   "cell_type": "code",
   "execution_count": 1,
   "metadata": {
    "colab": {},
    "colab_type": "code",
    "id": "pHbfpytEVFHu"
   },
   "outputs": [],
   "source": [
    "import time\n",
    "import datetime\n",
    "import importlib\n",
    "import os\n",
    "\n",
    "import torch\n",
    "\n",
    "import numpy as np\n",
    "import matplotlib.pyplot as plt\n",
    "\n",
    "# pyplot setting\n",
    "%matplotlib inline\n",
    "\n",
    "# Use Google Colab\n",
    "use_colab = True\n",
    "\n",
    "# Is this running on Colab?\n",
    "colab_available = importlib.util.find_spec(\"google.colab\") is not None\n",
    "\n",
    "if use_colab and colab_available:\n",
    "    # Mount my Google Drive root folder\n",
    "    from google.colab import drive\n",
    "    drive.mount('/content/drive')\n",
    "    \n",
    "    # Pyro\n",
    "    !pip install pyro-ppl\n",
    "\n",
    "    # cd to bayesian-dl-experiments directory\n",
    "    %cd 'drive/My Drive/Colab Notebooks/bayesian-dl-experiments'\n",
    "    !ls\n",
    "\n",
    "# This needs to be imported after we are done with Colab setting\n",
    "import pyro\n",
    "\n",
    "# IPython reloading magic\n",
    "%load_ext autoreload\n",
    "%autoreload 2\n",
    "\n",
    "# Random seeds\n",
    "# Based on https://pytorch.org/docs/stable/notes/randomness.html\n",
    "random_seed = 682\n",
    "\n",
    "# torch.device / CUDA Setup\n",
    "use_cuda = True\n",
    "\n",
    "if use_cuda and torch.cuda.is_available():\n",
    "    torch_device = torch.device('cuda')\n",
    "    torch.set_default_tensor_type('torch.cuda.FloatTensor') \n",
    "    torch.backends.cudnn.deterministic = True\n",
    "    # Note: https://discuss.pytorch.org/t/what-does-torch-backends-cudnn-benchmark-do/5936\n",
    "    torch.backends.cudnn.benchmark = False\n",
    "    use_pin_memory=True # Faster Host to GPU copies with page-locked memory\n",
    "else:\n",
    "    torch_device = torch.device('cpu')\n",
    "    use_pin_memory=False"
   ]
  },
  {
   "cell_type": "markdown",
   "metadata": {
    "colab_type": "text",
    "id": "XIFRoH3AcJZn"
   },
   "source": [
    "### Variable settings"
   ]
  },
  {
   "cell_type": "code",
   "execution_count": 2,
   "metadata": {
    "colab": {},
    "colab_type": "code",
    "id": "g_pzGq1_cJZp"
   },
   "outputs": [],
   "source": [
    "\"\"\"\n",
    "Toy dataset generation based on the experiment from \n",
    "the Probabilstic Backpropagation paper (Hernandez-Lobato & Adams, 2015)\n",
    "\"\"\"\n",
    "# Random seed for toy dataset\n",
    "dataset_toy_random_seed = 691\n",
    "\n",
    "# Toy dataset size\n",
    "dataset_toy_size = 20\n",
    "\n",
    "# Toy dataset x distribution (uniform) parameters\n",
    "dataset_toy_x_low = -4\n",
    "dataset_toy_x_high = 4\n",
    "\n",
    "# Toy dataset y distribution (normal with noise)\n",
    "dataset_toy_y_mean = 0\n",
    "dataset_toy_y_std = 9\n",
    "\n",
    "# Dropout rate\n",
    "dropout_rate = 0.5\n",
    "\n",
    "# L2 regularization strength\n",
    "reg_strength = 0.5\n",
    "\n",
    "# Epochs\n",
    "n_epochs = 4000\n",
    "\n",
    "# Loss function type\n",
    "loss_function_type = 'mse_loss'\n",
    "\n",
    "# Number of test predictions (for each data point)\n",
    "n_predictions = 100"
   ]
  },
  {
   "cell_type": "code",
   "execution_count": 3,
   "metadata": {},
   "outputs": [],
   "source": [
    "# Test start time\n",
    "test_start_time = datetime.datetime.today().strftime('%Y%m%d%H%M')\n",
    "\n",
    "test_results_path = os.path.join(\n",
    "    './test_results',\n",
    "    'comparison_toy',\n",
    "    test_start_time + '_' + str(n_epochs) + '_' + str(dropout_rate) + '_' + str(reg_strength) + '_' + str(loss_function_type) + '_' + str(n_predictions)\n",
    ")\n",
    "\n",
    "os.makedirs(test_results_path)"
   ]
  },
  {
   "cell_type": "markdown",
   "metadata": {
    "colab_type": "text",
    "id": "sZwe_f-yVFIf"
   },
   "source": [
    "## Prepare data"
   ]
  },
  {
   "cell_type": "markdown",
   "metadata": {
    "colab_type": "text",
    "id": "eEfdrHcOVFIj"
   },
   "source": [
    "### Get the data as a torch Dataset object"
   ]
  },
  {
   "cell_type": "code",
   "execution_count": 4,
   "metadata": {
    "colab": {
     "base_uri": "https://localhost:8080/",
     "height": 86
    },
    "colab_type": "code",
    "executionInfo": {
     "elapsed": 4151,
     "status": "ok",
     "timestamp": 1572955505337,
     "user": {
      "displayName": "Ronald Seoh",
      "photoUrl": "",
      "userId": "10284188050297676522"
     },
     "user_tz": 300
    },
    "id": "5u5qU-9JVFIr",
    "outputId": "3d1637a9-39e3-473a-e4be-b40211d444cc"
   },
   "outputs": [
    {
     "name": "stdout",
     "output_type": "stream",
     "text": [
      "dataset size = (20, 1)\n"
     ]
    }
   ],
   "source": [
    "from torch.utils.data import random_split, DataLoader\n",
    "from ronald_bdl import datasets\n",
    "\n",
    "dataset = datasets.ToyDatasets(\n",
    "    random_seed=dataset_toy_random_seed,\n",
    "    n_samples=dataset_toy_size,\n",
    "    x_low=dataset_toy_x_low,\n",
    "    x_high=dataset_toy_x_high,\n",
    "    y_mean=dataset_toy_y_mean,\n",
    "    y_std=dataset_toy_y_std,\n",
    ")\n",
    "\n",
    "# Get the test data\n",
    "X_test = torch.linspace(dataset_toy_x_low, dataset_toy_x_high, 100).reshape(100, 1)\n",
    "\n",
    "# Print the size of the dataset\n",
    "print(\"dataset size = \" + str((len(dataset), dataset.n_features)))"
   ]
  },
  {
   "cell_type": "markdown",
   "metadata": {
    "colab_type": "text",
    "id": "LaasFWpqVFJ1"
   },
   "source": [
    "## Define network"
   ]
  },
  {
   "cell_type": "code",
   "execution_count": 5,
   "metadata": {
    "colab": {
     "base_uri": "https://localhost:8080/",
     "height": 156
    },
    "colab_type": "code",
    "executionInfo": {
     "elapsed": 6671,
     "status": "ok",
     "timestamp": 1572955507874,
     "user": {
      "displayName": "Ronald Seoh",
      "photoUrl": "",
      "userId": "10284188050297676522"
     },
     "user_tz": 300
    },
    "id": "gAqkGtg7VFJ9",
    "outputId": "0db0dd2f-92f2-4502-c035-917ba1eab35d"
   },
   "outputs": [],
   "source": [
    "from ronald_bdl import models\n",
    "\n",
    "uncertainty_methods = {}\n",
    "\n",
    "# MC (Bernoulli) dropout\n",
    "uncertainty_methods['mc_dropout'] = models.FCNetMCDropout(\n",
    "    input_dim=dataset.n_features, \n",
    "    output_dim=dataset.n_targets,\n",
    "    hidden_dim=100,\n",
    "    n_hidden=0,\n",
    "    dropout_rate=dropout_rate,\n",
    "    dropout_type='bernoulli',\n",
    ")\n",
    "\n",
    "# Vanilla Variational Inference\n",
    "#uncertainty_methods['variational_inference'] = models.FCNetPyro(\n",
    "#    input_dim=dataset.n_features, \n",
    "#   output_dim=dataset.n_targets,\n",
    "#    hidden_dim=100,\n",
    "#    n_hidden=0,\n",
    "#)\n",
    "\n",
    "# HMC (NUTS)\n",
    "#uncertainty_methods['hmc'] = models.FCNetPyro(\n",
    "#    input_dim=dataset.n_features, \n",
    "#    output_dim=dataset.n_targets,\n",
    "#    hidden_dim=100,\n",
    "#    n_hidden=0,\n",
    "#)"
   ]
  },
  {
   "cell_type": "markdown",
   "metadata": {
    "colab_type": "text",
    "id": "1PpzPMI8VFKE"
   },
   "source": [
    "## Train the network"
   ]
  },
  {
   "cell_type": "markdown",
   "metadata": {
    "colab_type": "text",
    "id": "Jc7Td1h1VFKb"
   },
   "source": [
    "### Train/test the model"
   ]
  },
  {
   "cell_type": "code",
   "execution_count": 6,
   "metadata": {
    "colab": {
     "base_uri": "https://localhost:8080/",
     "height": 1000
    },
    "colab_type": "code",
    "executionInfo": {
     "elapsed": 1731463,
     "status": "ok",
     "timestamp": 1572957232698,
     "user": {
      "displayName": "Ronald Seoh",
      "photoUrl": "",
      "userId": "10284188050297676522"
     },
     "user_tz": 300
    },
    "id": "m4kavCiTVFKf",
    "outputId": "62aa76cb-701a-4cdc-d1e3-877ae60252cf",
    "scrolled": false
   },
   "outputs": [
    {
     "name": "stdout",
     "output_type": "stream",
     "text": [
      "Now running mc_dropout\n",
      "FCNetMCDropout(\n",
      "  (input): Sequential(\n",
      "    (0): Linear(in_features=1, out_features=100, bias=True)\n",
      "    (1): Dropout(p=0.5, inplace=False)\n",
      "  )\n",
      "  (output): Linear(in_features=100, out_features=1, bias=True)\n",
      ")\n",
      "\n",
      "[iteration 0001] loss: 568.9689\n",
      "[iteration 0101] loss: 116.6757\n",
      "[iteration 0201] loss: 165.2662\n",
      "[iteration 0301] loss: 127.2702\n",
      "[iteration 0401] loss: 92.0313\n",
      "[iteration 0501] loss: 136.6948\n",
      "[iteration 0601] loss: 94.0836\n",
      "[iteration 0701] loss: 109.7971\n",
      "[iteration 0801] loss: 100.5187\n",
      "[iteration 0901] loss: 102.1275\n",
      "[iteration 1001] loss: 93.8586\n",
      "[iteration 1101] loss: 135.1638\n",
      "[iteration 1201] loss: 132.3030\n",
      "[iteration 1301] loss: 195.0835\n",
      "[iteration 1401] loss: 103.2568\n",
      "[iteration 1501] loss: 132.3046\n",
      "[iteration 1601] loss: 94.3580\n",
      "[iteration 1701] loss: 130.6010\n",
      "[iteration 1801] loss: 111.0017\n",
      "[iteration 1901] loss: 114.6742\n",
      "[iteration 2001] loss: 80.6281\n",
      "[iteration 2101] loss: 130.9313\n",
      "[iteration 2201] loss: 152.7529\n",
      "[iteration 2301] loss: 144.8696\n",
      "[iteration 2401] loss: 116.2153\n",
      "[iteration 2501] loss: 106.6238\n",
      "[iteration 2601] loss: 74.8788\n",
      "[iteration 2701] loss: 203.1514\n",
      "[iteration 2801] loss: 152.5849\n",
      "[iteration 2901] loss: 168.8425\n",
      "[iteration 3001] loss: 92.4177\n",
      "[iteration 3101] loss: 112.6744\n",
      "[iteration 3201] loss: 103.7132\n",
      "[iteration 3301] loss: 173.6626\n",
      "[iteration 3401] loss: 150.7336\n",
      "[iteration 3501] loss: 137.3885\n",
      "[iteration 3601] loss: 134.6533\n",
      "[iteration 3701] loss: 128.3882\n",
      "[iteration 3801] loss: 120.3821\n",
      "[iteration 3901] loss: 126.5983\n",
      "final loss = tensor(113.1842, grad_fn=<MseLossBackward>)\n",
      "training time = 10.904042959213257 seconds\n",
      "\n"
     ]
    }
   ],
   "source": [
    "from pyro.infer import EmpiricalMarginal, SVI, Trace_ELBO, NUTS, MCMC\n",
    "\n",
    "for key, network in uncertainty_methods.items():\n",
    "    \n",
    "    # Reset the random number generator for each method (to produce identical results)\n",
    "    torch.manual_seed(random_seed)\n",
    "    np.random.seed(random_seed)\n",
    "    pyro.set_rng_seed(random_seed)\n",
    "    \n",
    "    # Print the method name\n",
    "    print(\"Now running \" + str(key))\n",
    "    \n",
    "    # Send the whole model to the selected torch.device\n",
    "    network.to(torch_device)\n",
    "\n",
    "    # Print the network structure\n",
    "    print(network)\n",
    "    print()\n",
    "\n",
    "    train_loader = DataLoader(dataset, batch_size=len(dataset))\n",
    "    \n",
    "    # Optimizer setup\n",
    "    if isinstance(network, models.FCNetMCDropout):\n",
    "        # Adam optimizer\n",
    "        # https://pytorch.org/docs/stable/optim.html?highlight=adam#torch.optim.Adam\n",
    "        # NOTE: Need to set L2 regularization from here\n",
    "        optimizer = torch.optim.Adam(\n",
    "            network.parameters(),\n",
    "            lr=0.1,\n",
    "            weight_decay=reg_strength, # L2 regularization\n",
    "        )\n",
    "\n",
    "        # Mean Squared Error for loss function to minimize\n",
    "        objective = torch.nn.MSELoss()\n",
    "\n",
    "    elif isinstance(network, models.FCNetPyro):\n",
    "        if key == 'variational_inference':\n",
    "            optimizer = pyro.optim.Adam({\"lr\": 0.01})\n",
    "            svi = SVI(network.model, network.guide, optimizer, loss=Trace_ELBO(), num_samples=1000)\n",
    "        elif key == 'hmc':\n",
    "            nuts_kernel = NUTS(network.model)\n",
    "            mcmc = MCMC(nuts_kernel, num_samples=30000, warmup_steps=None)\n",
    "            \n",
    "        pyro.clear_param_store()\n",
    "    \n",
    "    \"\"\"\n",
    "    Training\n",
    "    \"\"\"\n",
    "    # Model to train mode\n",
    "    network.train()\n",
    "\n",
    "    # Record training start time (for this method)\n",
    "    tic = time.time()\n",
    "    \n",
    "    if key == 'hmc':\n",
    "        dataset.data_x.to(torch_device)\n",
    "        dataset.data_y.to(torch_device)\n",
    "        mcmc.run(dataset.data_x, dataset.data_y)\n",
    "    else:\n",
    "        for epoch in range(n_epochs): # loop over the dataset multiple times\n",
    "\n",
    "            for i, data in enumerate(train_loader):\n",
    "                # get the inputs; data is a list of [inputs, labels]\n",
    "                inputs, targets = data\n",
    "\n",
    "                # Store the batch to torch_device's memory\n",
    "                inputs = inputs.to(torch_device)\n",
    "                targets = targets.to(torch_device)\n",
    "\n",
    "                if isinstance(network, models.FCNetMCDropout):\n",
    "                    # zero the parameter gradients\n",
    "                    optimizer.zero_grad()\n",
    "\n",
    "                    # forward + backward + optimize\n",
    "                    outputs = network(inputs)\n",
    "\n",
    "                    if loss_function_type in ('test_ll_mc', 'rmse_mc'):\n",
    "                        _, _, _, metrics = network.predict_dist(\n",
    "                            inputs, n_predictions, y_test=targets, reg_strength=reg_strength)\n",
    "\n",
    "                        if loss_function_type == 'test_ll_mc':\n",
    "                            total_loss = -(metrics[loss_function_type])\n",
    "                    \n",
    "                    else:\n",
    "                        total_loss = objective(outputs, targets)\n",
    "\n",
    "                    total_loss.backward()\n",
    "\n",
    "                    optimizer.step()\n",
    "\n",
    "                elif isinstance(network, models.FCNetPyro):\n",
    "                    pyro.clear_param_store()\n",
    "                    # calculate the loss and take a gradient step\n",
    "                    total_loss = svi.step(inputs, targets)\n",
    "\n",
    "            if epoch % 100 == 0:\n",
    "                print(\"[iteration %04d] loss: %.4f\" % (epoch + 1, total_loss))\n",
    "            \n",
    "    # Record training end time\n",
    "    toc = time.time()\n",
    "\n",
    "    # Report the final loss\n",
    "    print(\"final loss = \" + str(total_loss))            \n",
    "\n",
    "    # Report the total training time\n",
    "    print(\"training time = \" + str(toc - tic) + \" seconds\")\n",
    "    \n",
    "    print()"
   ]
  },
  {
   "cell_type": "code",
   "execution_count": 7,
   "metadata": {
    "scrolled": false
   },
   "outputs": [
    {
     "name": "stdout",
     "output_type": "stream",
     "text": [
      "testing time = 3.976952075958252 seconds\n",
      "\n",
      "Mean = tensor([-3.7119e+01, -3.5932e+01, -3.5001e+01, -3.3824e+01, -3.2773e+01,\n",
      "        -3.1886e+01, -3.0704e+01, -2.9822e+01, -2.8533e+01, -2.7593e+01,\n",
      "        -2.6564e+01, -2.5477e+01, -2.4409e+01, -2.3335e+01, -2.2309e+01,\n",
      "        -2.1355e+01, -2.0269e+01, -1.9233e+01, -1.8119e+01, -1.7110e+01,\n",
      "        -1.6206e+01, -1.5075e+01, -1.4042e+01, -1.3050e+01, -1.2038e+01,\n",
      "        -1.1053e+01, -1.0069e+01, -9.1621e+00, -8.1844e+00, -7.3125e+00,\n",
      "        -6.3964e+00, -5.4981e+00, -4.6062e+00, -3.8330e+00, -3.0886e+00,\n",
      "        -2.5300e+00, -2.0531e+00, -1.6212e+00, -1.1921e+00, -7.7033e-01,\n",
      "        -3.8119e-01, -1.6385e-02,  2.7757e-01,  5.3484e-01,  7.4434e-01,\n",
      "         9.5057e-01,  1.1058e+00,  1.2379e+00,  1.3655e+00,  1.4511e+00,\n",
      "         1.5123e+00,  1.5583e+00,  1.5892e+00,  1.6199e+00,  1.6487e+00,\n",
      "         1.6719e+00,  1.6967e+00,  1.7213e+00,  1.7432e+00,  1.7874e+00,\n",
      "         1.8370e+00,  1.8837e+00,  1.9304e+00,  1.9794e+00,  2.0561e+00,\n",
      "         2.1430e+00,  2.2610e+00,  2.4727e+00,  2.7707e+00,  3.1029e+00,\n",
      "         3.5234e+00,  4.0074e+00,  4.6466e+00,  5.3487e+00,  6.1483e+00,\n",
      "         7.1148e+00,  8.2103e+00,  9.2723e+00,  1.0375e+01,  1.1479e+01,\n",
      "         1.2729e+01,  1.4070e+01,  1.5301e+01,  1.6644e+01,  1.8195e+01,\n",
      "         1.9805e+01,  2.1293e+01,  2.2792e+01,  2.4347e+01,  2.5905e+01,\n",
      "         2.7430e+01,  2.9076e+01,  3.0720e+01,  3.2220e+01,  3.3771e+01,\n",
      "         3.5243e+01,  3.6901e+01,  3.8474e+01,  4.0142e+01,  4.1754e+01],\n",
      "       grad_fn=<ViewBackward>)\n",
      "Variance = tensor([6.2709e+01, 5.7691e+01, 5.6115e+01, 5.1963e+01, 4.9949e+01, 4.7751e+01,\n",
      "        4.3576e+01, 4.1143e+01, 3.8313e+01, 3.6150e+01, 3.3994e+01, 3.2373e+01,\n",
      "        2.9224e+01, 2.7708e+01, 2.4790e+01, 2.3015e+01, 2.1011e+01, 1.9571e+01,\n",
      "        1.7888e+01, 1.5933e+01, 1.4791e+01, 1.3538e+01, 1.2024e+01, 1.0712e+01,\n",
      "        9.3749e+00, 8.1295e+00, 7.0502e+00, 6.1829e+00, 5.5419e+00, 4.5575e+00,\n",
      "        3.8264e+00, 3.2489e+00, 2.7453e+00, 2.2727e+00, 1.8863e+00, 1.4999e+00,\n",
      "        1.2043e+00, 9.6912e-01, 7.4148e-01, 5.7276e-01, 4.2061e-01, 2.9195e-01,\n",
      "        2.0746e-01, 1.3282e-01, 8.3114e-02, 4.9247e-02, 2.8734e-02, 1.6225e-02,\n",
      "        1.1010e-02, 1.0009e-02, 1.0485e-02, 1.2278e-02, 1.4995e-02, 1.7603e-02,\n",
      "        2.0377e-02, 2.4421e-02, 2.8051e-02, 3.2215e-02, 3.7040e-02, 4.1388e-02,\n",
      "        4.7629e-02, 5.5726e-02, 6.5743e-02, 7.6135e-02, 8.8320e-02, 1.0548e-01,\n",
      "        1.2639e-01, 1.6409e-01, 2.5327e-01, 3.7930e-01, 5.8723e-01, 8.6215e-01,\n",
      "        1.2470e+00, 1.7515e+00, 2.4580e+00, 3.2736e+00, 4.2272e+00, 5.6045e+00,\n",
      "        7.0974e+00, 8.7348e+00, 1.0643e+01, 1.2725e+01, 1.5567e+01, 1.7373e+01,\n",
      "        2.0940e+01, 2.4149e+01, 2.7203e+01, 3.1570e+01, 3.6336e+01, 4.0299e+01,\n",
      "        4.5629e+01, 5.0413e+01, 5.7534e+01, 6.3101e+01, 6.8556e+01, 7.6159e+01,\n",
      "        8.3317e+01, 8.9870e+01, 9.5620e+01, 1.0203e+02],\n",
      "       grad_fn=<ViewBackward>)\n"
     ]
    },
    {
     "data": {
      "image/png": "[encoded data removed]",
      "text/plain": [
       "<Figure size 432x288 with 1 Axes>"
      ]
     },
     "metadata": {
      "needs_background": "light"
     },
     "output_type": "display_data"
    }
   ],
   "source": [
    "for key, network in uncertainty_methods.items():\n",
    "\n",
    "    \"\"\"\n",
    "    Testing\n",
    "    \"\"\"\n",
    "\n",
    "    # Model to eval mode\n",
    "    network.eval()\n",
    "\n",
    "    # Record testing start time (for this split)\n",
    "    tic_testing = time.time()    \n",
    "    \n",
    "    predictions, mean, var, metrics = network.predict_dist(X_test, 10000)\n",
    "    \n",
    "    # Record testing end time\n",
    "    toc_testing = time.time()\n",
    "    \n",
    "    # Report the total testing time\n",
    "    print(\"testing time = \" + str(toc_testing - tic_testing) + \" seconds\")\n",
    "    \n",
    "    \"\"\"\n",
    "    Print results\n",
    "    \"\"\"\n",
    "    print()\n",
    "    print(\"Mean = \" + str(mean.flatten()))\n",
    "    print(\"Variance = \" + str(var.flatten()))\n",
    "    \n",
    "    # store additional metrics\n",
    "    if len(metrics) > 0:\n",
    "        for key, value in metrics.items():\n",
    "            print(str(key) + \" = \" + str(value))\n",
    "        print()\n",
    "             \n",
    "    # Plot the uncertainty measured by each methods\n",
    "    plt.figure()\n",
    "    \n",
    "    # Fix the scales of x-axis and y-axis\n",
    "    plt.xlim(dataset_toy_x_low, dataset_toy_x_high)\n",
    "    plt.ylim(dataset_toy_y_mean-2*dataset_toy_y_std, dataset_toy_y_mean+2*dataset_toy_y_std)\n",
    "\n",
    "    # Distributions around the predictions\n",
    "    plt.fill_between(X_test.flatten(), (mean.detach().numpy() - 2*torch.sqrt(var).detach().numpy()).flatten(), (mean.detach().numpy() + 2*torch.sqrt(var).detach().numpy()).flatten(),\n",
    "                     color='lightblue', alpha=0.5)\n",
    "\n",
    "    # Train data\n",
    "    plt.plot(dataset.data_x, dataset.data_y, 'or', label='Training data')\n",
    "\n",
    "    # MC prediction\n",
    "    plt.plot(X_test, mean.detach().numpy(), 'blue', label='mean predictions')\n",
    "    \n",
    "    # Original data generating function without noise\n",
    "    plt.plot(X_test, X_test ** 3, 'gray', label='data generating function')    \n",
    "    \n",
    "    plt.legend()\n",
    "    \n",
    "    plt.savefig(os.path.join(test_results_path, str(key) + '.png'))\n",
    "    \n",
    "    plt.show()"
   ]
  },
  {
   "cell_type": "code",
   "execution_count": null,
   "metadata": {},
   "outputs": [],
   "source": []
  }
 ],
 "metadata": {
  "accelerator": "GPU",
  "colab": {
   "collapsed_sections": [],
   "name": "experiments.ipynb",
   "provenance": []
  },
  "kernelspec": {
   "display_name": "Python 3",
   "language": "python",
   "name": "python3"
  },
  "language_info": {
   "codemirror_mode": {
    "name": "ipython",
    "version": 3
   },
   "file_extension": ".py",
   "mimetype": "text/x-python",
   "name": "python",
   "nbconvert_exporter": "python",
   "pygments_lexer": "ipython3",
   "version": "3.6.8"
  }
 },
 "nbformat": 4,
 "nbformat_minor": 1
}
