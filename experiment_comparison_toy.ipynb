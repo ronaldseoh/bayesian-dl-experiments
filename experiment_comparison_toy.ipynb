{
 "cells": [
  {
   "cell_type": "markdown",
   "metadata": {
    "colab_type": "text",
    "id": "Bka_bK83VFHh"
   },
   "source": [
    "## Experiment Setup"
   ]
  },
  {
   "cell_type": "markdown",
   "metadata": {
    "colab_type": "text",
    "id": "8D5NSPs_cJZe"
   },
   "source": [
    "###  Random seed / Colab / CUDA related"
   ]
  },
  {
   "cell_type": "code",
   "execution_count": 1,
   "metadata": {
    "colab": {},
    "colab_type": "code",
    "id": "pHbfpytEVFHu"
   },
   "outputs": [],
   "source": [
    "import time\n",
    "import datetime\n",
    "import importlib\n",
    "import os\n",
    "\n",
    "# Use Google Colab\n",
    "use_colab = True\n",
    "\n",
    "# Is this running on Colab?\n",
    "colab_available = importlib.util.find_spec(\"google.colab\") is not None\n",
    "\n",
    "if use_colab and colab_available:\n",
    "    # Mount my Google Drive root folder\n",
    "    from google.colab import drive\n",
    "    drive.mount('/content/drive')\n",
    "    \n",
    "    # Pyro\n",
    "    !pip install pyro-ppl\n",
    "\n",
    "    # cd to bayesian-dl-experiments directory\n",
    "    %cd 'drive/My Drive/Colab Notebooks/bayesian-dl-experiments'\n",
    "    !ls\n",
    "\n",
    "# IPython reloading magic\n",
    "%load_ext autoreload\n",
    "%autoreload 2\n",
    "\n",
    "# Random seeds\n",
    "# Based on https://pytorch.org/docs/stable/notes/randomness.html\n",
    "random_seed = 682"
   ]
  },
  {
   "cell_type": "markdown",
   "metadata": {},
   "source": [
    "### Third party libraries (NumPy, PyTorch, Pyro)"
   ]
  },
  {
   "cell_type": "code",
   "execution_count": null,
   "metadata": {},
   "outputs": [],
   "source": [
    "# Third party libraries import\n",
    "import numpy as np\n",
    "import torch\n",
    "import pyro\n",
    "import matplotlib.pyplot as plt\n",
    "\n",
    "# Print version information\n",
    "print(\"NumPy Version: \" + np.__version__)\n",
    "print(\"PyTorch Version: \" + torch.__version__)\n",
    "print(\"Pyro Version: \" + pyro.__version__)"
   ]
  },
  {
   "cell_type": "code",
   "execution_count": 2,
   "metadata": {},
   "outputs": [],
   "source": [
    "# More imports...\n",
    "from torch.utils.data import random_split, DataLoader\n",
    "from ronald_bdl import datasets, models\n",
    "from pyro.infer import EmpiricalMarginal, SVI, Trace_ELBO, NUTS, MCMC\n",
    "\n",
    "# pyplot setting\n",
    "%matplotlib inline\n",
    "\n",
    "# torch.device / CUDA Setup\n",
    "use_cuda = True\n",
    "\n",
    "if use_cuda and torch.cuda.is_available():\n",
    "    torch_device = torch.device('cuda')\n",
    "    torch.backends.cudnn.deterministic = True\n",
    "    # Note: https://discuss.pytorch.org/t/what-does-torch-backends-cudnn-benchmark-do/5936\n",
    "    torch.backends.cudnn.benchmark = False\n",
    "    use_pin_memory = True # Faster Host to GPU copies with page-locked memory\n",
    "else:\n",
    "    torch_device = torch.device('cpu')\n",
    "    use_pin_memory = False"
   ]
  },
  {
   "cell_type": "markdown",
   "metadata": {
    "colab_type": "text",
    "id": "XIFRoH3AcJZn"
   },
   "source": [
    "### Variable settings"
   ]
  },
  {
   "cell_type": "code",
   "execution_count": 3,
   "metadata": {
    "colab": {},
    "colab_type": "code",
    "id": "g_pzGq1_cJZp"
   },
   "outputs": [],
   "source": [
    "\"\"\"\n",
    "Toy dataset generation based on the experiment from \n",
    "the Probabilstic Backpropagation paper (Hernandez-Lobato & Adams, 2015)\n",
    "\"\"\"\n",
    "# Random seed for toy dataset\n",
    "dataset_toy_random_seed = 691\n",
    "\n",
    "# Toy dataset size\n",
    "dataset_toy_size = 20\n",
    "\n",
    "# Toy dataset x distribution (uniform) parameters\n",
    "dataset_toy_x_low = -4\n",
    "dataset_toy_x_high = 4\n",
    "\n",
    "# Toy dataset y distribution (normal with noise)\n",
    "dataset_toy_y_mean = 0\n",
    "dataset_toy_y_std = 9"
   ]
  },
  {
   "cell_type": "code",
   "execution_count": 4,
   "metadata": {},
   "outputs": [],
   "source": [
    "\"\"\"\n",
    "MC Dropout related\n",
    "\"\"\"\n",
    "# Dropout rate\n",
    "dropout_rate = 0.5\n",
    "\n",
    "# L2 regularization strength\n",
    "reg_strength = 0.3\n",
    "\n",
    "# Epochs\n",
    "n_epochs = 4000\n",
    "\n",
    "# Optimizer learning rate\n",
    "learning_rate = 0.1\n",
    "\n",
    "# Loss function type\n",
    "loss_function_type = 'mse_loss'\n",
    "\n",
    "# Number of test predictions (for each data point)\n",
    "n_predictions = 10000"
   ]
  },
  {
   "cell_type": "code",
   "execution_count": 5,
   "metadata": {},
   "outputs": [],
   "source": [
    "# Test start time\n",
    "test_start_time = datetime.datetime.today().strftime('%Y%m%d%H%M')\n",
    "\n",
    "# Directory to store the results for this experiment\n",
    "test_results_path = os.path.join(\n",
    "    './test_results',\n",
    "    'comparison_toy',\n",
    "    (\n",
    "        test_start_time \n",
    "        + '_' + str(n_epochs) \n",
    "        + '_' + str(dropout_rate) \n",
    "        + '_' + str(reg_strength) \n",
    "        + '_' + str(loss_function_type) \n",
    "        + '_' + str(n_predictions))\n",
    ")\n",
    "\n",
    "# Create the directory if it doesn't exist\n",
    "os.makedirs(test_results_path)"
   ]
  },
  {
   "cell_type": "markdown",
   "metadata": {
    "colab_type": "text",
    "id": "sZwe_f-yVFIf"
   },
   "source": [
    "## Prepare data"
   ]
  },
  {
   "cell_type": "markdown",
   "metadata": {
    "colab_type": "text",
    "id": "eEfdrHcOVFIj"
   },
   "source": [
    "### Get the data as a torch Dataset object"
   ]
  },
  {
   "cell_type": "code",
   "execution_count": 6,
   "metadata": {
    "colab": {
     "base_uri": "https://localhost:8080/",
     "height": 86
    },
    "colab_type": "code",
    "executionInfo": {
     "elapsed": 4151,
     "status": "ok",
     "timestamp": 1572955505337,
     "user": {
      "displayName": "Ronald Seoh",
      "photoUrl": "",
      "userId": "10284188050297676522"
     },
     "user_tz": 300
    },
    "id": "5u5qU-9JVFIr",
    "outputId": "3d1637a9-39e3-473a-e4be-b40211d444cc"
   },
   "outputs": [
    {
     "name": "stdout",
     "output_type": "stream",
     "text": [
      "dataset size = (20, 1)\n"
     ]
    }
   ],
   "source": [
    "dataset = datasets.ToyDatasets(\n",
    "    random_seed=dataset_toy_random_seed,\n",
    "    n_samples=dataset_toy_size,\n",
    "    x_low=dataset_toy_x_low,\n",
    "    x_high=dataset_toy_x_high,\n",
    "    y_mean=dataset_toy_y_mean,\n",
    "    y_std=dataset_toy_y_std,\n",
    ")\n",
    "\n",
    "# Get the test data\n",
    "X_test = torch.linspace(dataset_toy_x_low, dataset_toy_x_high, 100).reshape(100, 1)\n",
    "\n",
    "# Print the size of the dataset\n",
    "print(\"dataset size = \" + str((len(dataset), dataset.n_features)))"
   ]
  },
  {
   "cell_type": "markdown",
   "metadata": {
    "colab_type": "text",
    "id": "LaasFWpqVFJ1"
   },
   "source": [
    "## Define network"
   ]
  },
  {
   "cell_type": "code",
   "execution_count": 7,
   "metadata": {
    "colab": {
     "base_uri": "https://localhost:8080/",
     "height": 156
    },
    "colab_type": "code",
    "executionInfo": {
     "elapsed": 6671,
     "status": "ok",
     "timestamp": 1572955507874,
     "user": {
      "displayName": "Ronald Seoh",
      "photoUrl": "",
      "userId": "10284188050297676522"
     },
     "user_tz": 300
    },
    "id": "gAqkGtg7VFJ9",
    "outputId": "0db0dd2f-92f2-4502-c035-917ba1eab35d"
   },
   "outputs": [],
   "source": [
    "uncertainty_methods = {}\n",
    "\n",
    "# MC (Bernoulli) dropout\n",
    "uncertainty_methods['mc_dropout'] = models.FCNetMCDropout(\n",
    "    input_dim=dataset.n_features, \n",
    "    output_dim=dataset.n_targets,\n",
    "    hidden_dim=100,\n",
    "    n_hidden=0,\n",
    "    dropout_rate=dropout_rate,\n",
    "    dropout_type='bernoulli',\n",
    ")\n",
    "\n",
    "# Vanilla Variational Inference\n",
    "uncertainty_methods['variational_inference'] = models.FCNetPyro(\n",
    "    input_dim=dataset.n_features, \n",
    "    output_dim=dataset.n_targets,\n",
    "    hidden_dim=100,\n",
    "    n_hidden=0,\n",
    ")\n",
    "\n",
    "# HMC (NUTS)\n",
    "uncertainty_methods['hmc'] = models.FCNetPyro(\n",
    "    input_dim=dataset.n_features, \n",
    "    output_dim=dataset.n_targets,\n",
    "    hidden_dim=100,\n",
    "    n_hidden=0,\n",
    ")"
   ]
  },
  {
   "cell_type": "markdown",
   "metadata": {
    "colab_type": "text",
    "id": "1PpzPMI8VFKE"
   },
   "source": [
    "## Train the network"
   ]
  },
  {
   "cell_type": "markdown",
   "metadata": {
    "colab_type": "text",
    "id": "Jc7Td1h1VFKb"
   },
   "source": [
    "### Train/test the model"
   ]
  },
  {
   "cell_type": "code",
   "execution_count": 8,
   "metadata": {
    "colab": {
     "base_uri": "https://localhost:8080/",
     "height": 1000
    },
    "colab_type": "code",
    "executionInfo": {
     "elapsed": 1731463,
     "status": "ok",
     "timestamp": 1572957232698,
     "user": {
      "displayName": "Ronald Seoh",
      "photoUrl": "",
      "userId": "10284188050297676522"
     },
     "user_tz": 300
    },
    "id": "m4kavCiTVFKf",
    "outputId": "62aa76cb-701a-4cdc-d1e3-877ae60252cf",
    "scrolled": false
   },
   "outputs": [
    {
     "name": "stdout",
     "output_type": "stream",
     "text": [
      "Now running mc_dropout\n",
      "FCNetMCDropout(\n",
      "  (input): Sequential(\n",
      "    (0): Linear(in_features=1, out_features=100, bias=True)\n",
      "    (1): Dropout(p=0.5, inplace=False)\n",
      "  )\n",
      "  (output): Linear(in_features=100, out_features=1, bias=True)\n",
      ")\n",
      "\n",
      "[iteration 0001] loss: 587.7241\n",
      "[iteration 0101] loss: 70.6787\n",
      "[iteration 0201] loss: 127.0124\n",
      "[iteration 0301] loss: 83.2737\n",
      "[iteration 0401] loss: 104.1114\n",
      "[iteration 0501] loss: 106.1808\n",
      "[iteration 0601] loss: 116.4965\n",
      "[iteration 0701] loss: 107.0075\n",
      "[iteration 0801] loss: 134.4235\n",
      "[iteration 0901] loss: 205.4206\n",
      "[iteration 1001] loss: 116.9937\n",
      "[iteration 1101] loss: 108.9314\n",
      "[iteration 1201] loss: 119.3537\n",
      "[iteration 1301] loss: 147.7226\n",
      "[iteration 1401] loss: 77.1215\n",
      "[iteration 1501] loss: 113.6606\n",
      "[iteration 1601] loss: 90.0757\n",
      "[iteration 1701] loss: 113.6237\n",
      "[iteration 1801] loss: 108.2372\n",
      "[iteration 1901] loss: 139.8246\n",
      "[iteration 2001] loss: 92.4776\n",
      "[iteration 2101] loss: 211.8903\n",
      "[iteration 2201] loss: 94.5155\n",
      "[iteration 2301] loss: 175.9412\n",
      "[iteration 2401] loss: 110.0438\n",
      "[iteration 2501] loss: 102.7649\n",
      "[iteration 2601] loss: 110.4132\n",
      "[iteration 2701] loss: 141.4193\n",
      "[iteration 2801] loss: 166.0195\n",
      "[iteration 2901] loss: 133.4838\n",
      "[iteration 3001] loss: 126.5783\n",
      "[iteration 3101] loss: 110.2332\n",
      "[iteration 3201] loss: 94.0810\n",
      "[iteration 3301] loss: 88.7410\n",
      "[iteration 3401] loss: 112.0424\n",
      "[iteration 3501] loss: 150.2151\n",
      "[iteration 3601] loss: 125.7076\n",
      "[iteration 3701] loss: 97.2422\n",
      "[iteration 3801] loss: 137.7455\n",
      "[iteration 3901] loss: 125.0354\n",
      "final loss = tensor(117.5679, grad_fn=<MseLossBackward>)\n",
      "training time = 11.214369058609009 seconds\n",
      "\n"
     ]
    }
   ],
   "source": [
    "for key, network in uncertainty_methods.items():\n",
    "    # Reset the random number generator for each method (to produce identical results)\n",
    "    torch.manual_seed(random_seed)\n",
    "    np.random.seed(random_seed)\n",
    "    pyro.set_rng_seed(random_seed)\n",
    "    \n",
    "    # Print the method name\n",
    "    print(\"Now running \" + str(key))\n",
    "    \n",
    "    # Send the whole model to the selected torch.device\n",
    "    network.to(torch_device)\n",
    "\n",
    "    # Print the network structure\n",
    "    print(network)\n",
    "    print()\n",
    "\n",
    "    train_loader = DataLoader(dataset, batch_size=len(dataset))\n",
    "    \n",
    "    # Optimizer setup\n",
    "    if isinstance(network, models.FCNetMCDropout):\n",
    "        # Adam optimizer\n",
    "        # https://pytorch.org/docs/stable/optim.html?highlight=adam#torch.optim.Adam\n",
    "        # NOTE: Need to set L2 regularization from here\n",
    "        optimizer = torch.optim.Adam(\n",
    "            network.parameters(),\n",
    "            lr=learning_rate,\n",
    "            weight_decay=reg_strength, # L2 regularization\n",
    "        )\n",
    "\n",
    "        # Mean Squared Error for loss function to minimize\n",
    "        objective = torch.nn.MSELoss()\n",
    "\n",
    "    elif isinstance(network, models.FCNetPyro):\n",
    "        if key == 'variational_inference':\n",
    "            optimizer = pyro.optim.Adam({\"lr\": learning_rate})\n",
    "            svi = SVI(network.model, network.guide, optimizer, loss=Trace_ELBO(), num_samples=1000)\n",
    "        elif key == 'hmc':\n",
    "            nuts_kernel = NUTS(network.model)\n",
    "            mcmc = MCMC(nuts_kernel, num_samples=2000, warmup_steps=1000)\n",
    "            \n",
    "        pyro.clear_param_store()\n",
    "    \n",
    "    \"\"\"\n",
    "    Training\n",
    "    \"\"\"\n",
    "\n",
    "    # Model to train mode\n",
    "    network.train()\n",
    "\n",
    "    # Record training start time (for this method)\n",
    "    tic = time.time()\n",
    "    \n",
    "    if key == 'hmc':\n",
    "        dataset.data_x.to(torch_device)\n",
    "        dataset.data_y.to(torch_device)\n",
    "        mcmc.run(dataset.data_x, dataset.data_y)\n",
    "    else:\n",
    "        for epoch in range(n_epochs): # loop over the dataset multiple times\n",
    "\n",
    "            for i, data in enumerate(train_loader):\n",
    "                # get the inputs; data is a list of [inputs, labels]\n",
    "                inputs, targets = data\n",
    "\n",
    "                # Store the batch to torch_device's memory\n",
    "                inputs = inputs.to(torch_device)\n",
    "                targets = targets.to(torch_device)\n",
    "\n",
    "                if isinstance(network, models.FCNetMCDropout):\n",
    "                    # zero the parameter gradients\n",
    "                    optimizer.zero_grad()\n",
    "\n",
    "                    # forward + backward + optimize\n",
    "                    outputs = network(inputs)\n",
    "\n",
    "                    if loss_function_type in ('test_ll_mc', 'rmse_mc'):\n",
    "                        _, _, _, metrics = network.predict_dist(\n",
    "                            inputs, n_predictions, y_test=targets, reg_strength=reg_strength)\n",
    "\n",
    "                        if loss_function_type == 'test_ll_mc':\n",
    "                            total_loss = -(metrics[loss_function_type])\n",
    "                    else:\n",
    "                        total_loss = objective(outputs, targets)\n",
    "\n",
    "                    total_loss.backward()\n",
    "\n",
    "                    optimizer.step()\n",
    "\n",
    "                elif isinstance(network, models.FCNetPyro):\n",
    "                    pyro.clear_param_store()\n",
    "                    # calculate the loss and take a gradient step\n",
    "                    total_loss = svi.step(inputs, targets)\n",
    "\n",
    "            if epoch % 100 == 0:\n",
    "                print(\"[iteration %04d] loss: %.4f\" % (epoch + 1, total_loss))\n",
    "            \n",
    "    # Record training end time\n",
    "    toc = time.time()\n",
    "\n",
    "    # Report the final loss\n",
    "    print(\"final loss = \" + str(total_loss))            \n",
    "\n",
    "    # Report the total training time\n",
    "    print(\"training time = \" + str(toc - tic) + \" seconds\")\n",
    "    \n",
    "    print()"
   ]
  },
  {
   "cell_type": "code",
   "execution_count": 15,
   "metadata": {
    "scrolled": false
   },
   "outputs": [
    {
     "name": "stdout",
     "output_type": "stream",
     "text": [
      "testing time = 4.491464853286743 seconds\n",
      "\n",
      "Mean = tensor([-40.1961, -38.9055, -37.6507, -36.4592, -35.2158, -34.1189, -32.9625,\n",
      "        -31.7244, -30.4190, -29.2717, -28.1129, -26.8440, -25.6490, -24.3359,\n",
      "        -23.2146, -21.9402, -20.7683, -19.5466, -18.4102, -17.2379, -15.9537,\n",
      "        -14.8442, -13.6538, -12.4792, -11.4024, -10.1988,  -9.0505,  -8.0045,\n",
      "         -6.9571,  -6.0459,  -5.2078,  -4.5066,  -3.8109,  -3.1739,  -2.5448,\n",
      "         -1.9523,  -1.3208,  -0.7491,  -0.2384,   0.1653,   0.4929,   0.8253,\n",
      "          1.0443,   1.1859,   1.3233,   1.4308,   1.5222,   1.6260,   1.7630,\n",
      "          1.8811,   1.9859,   2.0946,   2.2062,   2.3018,   2.4077,   2.4938,\n",
      "          2.6105,   2.7131,   2.8134,   2.9205,   3.0115,   3.1223,   3.3002,\n",
      "          3.4854,   3.6613,   3.8345,   4.0357,   4.2437,   4.4373,   4.6832,\n",
      "          5.0617,   5.5895,   6.3610,   7.1979,   8.1596,   9.2418,  10.2179,\n",
      "         11.2538,  12.2668,  13.5019,  14.9884,  16.4152,  17.6876,  19.2452,\n",
      "         20.7029,  22.2485,  23.7729,  25.5956,  27.4822,  29.2339,  31.5062,\n",
      "         33.2855,  35.4867,  37.6620,  39.5309,  41.2763,  43.3025,  45.3145,\n",
      "         47.4388,  49.5542], grad_fn=<ViewBackward>)\n",
      "Variance = tensor([7.4611e+01, 7.0172e+01, 6.6276e+01, 6.3166e+01, 5.8394e+01, 5.4871e+01,\n",
      "        5.1005e+01, 5.0028e+01, 4.5650e+01, 4.1161e+01, 3.8984e+01, 3.6003e+01,\n",
      "        3.3214e+01, 3.0084e+01, 2.7641e+01, 2.5829e+01, 2.3323e+01, 2.0831e+01,\n",
      "        1.8533e+01, 1.6676e+01, 1.5234e+01, 1.3390e+01, 1.1925e+01, 1.0612e+01,\n",
      "        8.9271e+00, 8.0772e+00, 6.7824e+00, 5.9112e+00, 4.9521e+00, 4.0663e+00,\n",
      "        3.4916e+00, 2.8493e+00, 2.3987e+00, 1.8424e+00, 1.4379e+00, 1.1191e+00,\n",
      "        8.3601e-01, 6.2587e-01, 4.6503e-01, 3.3035e-01, 2.3495e-01, 1.7815e-01,\n",
      "        1.3501e-01, 1.0765e-01, 8.2796e-02, 6.2139e-02, 4.7722e-02, 3.6793e-02,\n",
      "        3.6780e-02, 4.6999e-02, 6.9646e-02, 1.0282e-01, 1.4578e-01, 1.9959e-01,\n",
      "        2.6420e-01, 3.3926e-01, 4.2628e-01, 5.2054e-01, 6.3066e-01, 7.4668e-01,\n",
      "        8.7554e-01, 1.0095e+00, 1.1848e+00, 1.3655e+00, 1.5535e+00, 1.7811e+00,\n",
      "        2.0044e+00, 2.2821e+00, 2.5858e+00, 2.8657e+00, 3.2530e+00, 3.6792e+00,\n",
      "        4.3183e+00, 5.0111e+00, 6.2237e+00, 7.4058e+00, 9.0384e+00, 1.0951e+01,\n",
      "        1.2974e+01, 1.5229e+01, 1.7729e+01, 2.0547e+01, 2.4090e+01, 2.7300e+01,\n",
      "        3.0392e+01, 3.7438e+01, 4.0941e+01, 4.7002e+01, 5.1324e+01, 5.7655e+01,\n",
      "        6.3678e+01, 7.3004e+01, 8.1170e+01, 8.6957e+01, 9.6818e+01, 1.0276e+02,\n",
      "        1.1441e+02, 1.2316e+02, 1.3411e+02, 1.4715e+02],\n",
      "       grad_fn=<ViewBackward>)\n"
     ]
    },
    {
     "data": {
      "image/png": "[encoded data removed]",
      "text/plain": [
       "<Figure size 432x288 with 1 Axes>"
      ]
     },
     "metadata": {
      "needs_background": "light"
     },
     "output_type": "display_data"
    }
   ],
   "source": [
    "for key, network in uncertainty_methods.items():\n",
    "\n",
    "    \"\"\"\n",
    "    Testing\n",
    "    \"\"\"\n",
    "\n",
    "    # Model to eval mode\n",
    "    network.eval()\n",
    "    \n",
    "    #prediction_non_mc = network(X_test)\n",
    "\n",
    "    # Record testing start time (for this split)\n",
    "    tic_testing = time.time()    \n",
    "    \n",
    "    predictions, mean, var, metrics = network.predict_dist(X_test, n_predictions)\n",
    "    \n",
    "    # Record testing end time\n",
    "    toc_testing = time.time()\n",
    "    \n",
    "    # Report the total testing time\n",
    "    print(\"testing time = \" + str(toc_testing - tic_testing) + \" seconds\")\n",
    "    \n",
    "    \"\"\"\n",
    "    Print results\n",
    "    \"\"\"\n",
    "\n",
    "    print()\n",
    "    print(\"Mean = \" + str(mean.flatten()))\n",
    "    print(\"Variance = \" + str(var.flatten()))\n",
    "    \n",
    "    # store additional metrics\n",
    "    if len(metrics) > 0:\n",
    "        for key, value in metrics.items():\n",
    "            print(str(key) + \" = \" + str(value))\n",
    "        print()\n",
    "             \n",
    "    # Plot the uncertainty measured by each methods\n",
    "    plt.figure()\n",
    "    \n",
    "    # Fix the scales of x-axis and y-axis\n",
    "    plt.xlim(dataset_toy_x_low, dataset_toy_x_high)\n",
    "    plt.ylim(dataset_toy_y_mean-2*dataset_toy_y_std, dataset_toy_y_mean+2*dataset_toy_y_std)\n",
    "\n",
    "    # Distributions around the predictions\n",
    "    plt.fill_between(\n",
    "        X_test.flatten(), \n",
    "        (mean.detach().numpy() - 2*torch.sqrt(var).detach().numpy()).flatten(),\n",
    "        (mean.detach().numpy() + 2*torch.sqrt(var).detach().numpy()).flatten(),\n",
    "        color='lightblue', alpha=0.8)\n",
    "\n",
    "    # Train data\n",
    "    plt.plot(dataset.data_x, dataset.data_y, 'or', label='Training data', alpha=0.3)\n",
    "\n",
    "    # MC prediction\n",
    "    plt.plot(X_test, mean.detach().numpy(), 'blue', label='mean predictions', alpha=0.6)\n",
    "    \n",
    "    # Non-MC prediction\n",
    "    #plt.plot(X_test, prediction_non_mc.detach().numpy(), 'green', label='non-MC prediction', alpha=0.4)\n",
    "    \n",
    "    # Original data generating function without noise\n",
    "    plt.plot(X_test, X_test ** 3, 'gray', label='data generating function')    \n",
    "    \n",
    "    plt.legend()\n",
    "    \n",
    "    plt.savefig(os.path.join(test_results_path, str(key) + '.png'))\n",
    "    \n",
    "    plt.show()"
   ]
  },
  {
   "cell_type": "code",
   "execution_count": null,
   "metadata": {},
   "outputs": [],
   "source": []
  }
 ],
 "metadata": {
  "accelerator": "GPU",
  "colab": {
   "collapsed_sections": [],
   "name": "experiments.ipynb",
   "provenance": []
  },
  "kernelspec": {
   "display_name": "Python 3",
   "language": "python",
   "name": "python3"
  },
  "language_info": {
   "codemirror_mode": {
    "name": "ipython",
    "version": 3
   },
   "file_extension": ".py",
   "mimetype": "text/x-python",
   "name": "python",
   "nbconvert_exporter": "python",
   "pygments_lexer": "ipython3",
   "version": "3.8.0"
  }
 },
 "nbformat": 4,
 "nbformat_minor": 1
}
