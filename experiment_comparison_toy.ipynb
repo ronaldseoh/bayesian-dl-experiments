{
 "cells": [
  {
   "cell_type": "markdown",
   "metadata": {
    "colab_type": "text",
    "id": "Bka_bK83VFHh"
   },
   "source": [
    "## Experiment Setup"
   ]
  },
  {
   "cell_type": "markdown",
   "metadata": {
    "colab_type": "text",
    "id": "8D5NSPs_cJZe"
   },
   "source": [
    "###  Random seed / PyTorch / Colab / CUDA related"
   ]
  },
  {
   "cell_type": "code",
   "execution_count": 1,
   "metadata": {
    "colab": {},
    "colab_type": "code",
    "id": "pHbfpytEVFHu"
   },
   "outputs": [],
   "source": [
    "import torch\n",
    "import numpy as np\n",
    "\n",
    "# Google Colab-only setup.\n",
    "use_colab = True\n",
    "\n",
    "# Is this running on Colab?\n",
    "import importlib\n",
    "colab_available = importlib.util.find_spec(\"google.colab\") is not None\n",
    "\n",
    "if use_colab and colab_available:\n",
    "    # Mount my Google Drive root folder\n",
    "    from google.colab import drive\n",
    "    drive.mount('/content/drive')\n",
    "    \n",
    "    # Pyro\n",
    "    !pip install pyro-ppl\n",
    "\n",
    "    # cd to bayesian-dl-experiments directory\n",
    "    %cd 'drive/My Drive/Colab Notebooks/bayesian-dl-experiments'\n",
    "    !ls\n",
    "\n",
    "# IPython reloading magic\n",
    "%load_ext autoreload\n",
    "%autoreload 2\n",
    "\n",
    "# Random seeds\n",
    "# Based on https://pytorch.org/docs/stable/notes/randomness.html\n",
    "torch.manual_seed(682)\n",
    "np.random.seed(682)\n",
    "\n",
    "# torch.device / CUDA Setup\n",
    "use_cuda = True\n",
    "\n",
    "if use_cuda and torch.cuda.is_available():\n",
    "    torch_device = torch.device('cuda')\n",
    "    torch.set_default_tensor_type('torch.cuda.FloatTensor') \n",
    "    torch.backends.cudnn.deterministic = True\n",
    "    # Note: https://discuss.pytorch.org/t/what-does-torch-backends-cudnn-benchmark-do/5936\n",
    "    torch.backends.cudnn.benchmark = False\n",
    "    use_pin_memory=True # Faster Host to GPU copies with page-locked memory\n",
    "else:\n",
    "    torch_device = torch.device('cpu')\n",
    "    use_pin_memory=False"
   ]
  },
  {
   "cell_type": "markdown",
   "metadata": {
    "colab_type": "text",
    "id": "XIFRoH3AcJZn"
   },
   "source": [
    "### Variable settings"
   ]
  },
  {
   "cell_type": "code",
   "execution_count": 2,
   "metadata": {
    "colab": {},
    "colab_type": "code",
    "id": "g_pzGq1_cJZp"
   },
   "outputs": [],
   "source": [
    "\"\"\"\n",
    "Toy dataset generation based on the experiment from \n",
    "the Probabilstic Backpropagation paper (Hernandez-Lobato & Adams, 2015)\n",
    "\"\"\"\n",
    "# Random seed for toy dataset\n",
    "dataset_toy_random_seed = 691\n",
    "\n",
    "# Toy dataset size\n",
    "dataset_toy_size = 20\n",
    "\n",
    "# Toy dataset x distribution (uniform) parameters\n",
    "dataset_toy_x_low = -4\n",
    "dataset_toy_x_high = 4\n",
    "\n",
    "# Toy dataset y distribution (normal with noise)\n",
    "dataset_toy_y_mean = 0\n",
    "dataset_toy_y_std = 9\n",
    "\n",
    "# L2 regularization strength\n",
    "reg_strength = 0.1\n",
    "\n",
    "# Epochs\n",
    "n_epochs = 400\n",
    "\n",
    "# Number of test predictions (for each data point)\n",
    "n_predictions = 100"
   ]
  },
  {
   "cell_type": "markdown",
   "metadata": {
    "colab_type": "text",
    "id": "sZwe_f-yVFIf"
   },
   "source": [
    "## Prepare data"
   ]
  },
  {
   "cell_type": "markdown",
   "metadata": {
    "colab_type": "text",
    "id": "eEfdrHcOVFIj"
   },
   "source": [
    "### Get the data as a torch Dataset object"
   ]
  },
  {
   "cell_type": "code",
   "execution_count": 3,
   "metadata": {
    "colab": {
     "base_uri": "https://localhost:8080/",
     "height": 86
    },
    "colab_type": "code",
    "executionInfo": {
     "elapsed": 4151,
     "status": "ok",
     "timestamp": 1572955505337,
     "user": {
      "displayName": "Ronald Seoh",
      "photoUrl": "",
      "userId": "10284188050297676522"
     },
     "user_tz": 300
    },
    "id": "5u5qU-9JVFIr",
    "outputId": "3d1637a9-39e3-473a-e4be-b40211d444cc"
   },
   "outputs": [
    {
     "name": "stdout",
     "output_type": "stream",
     "text": [
      "dataset size = (20, 1)\n"
     ]
    }
   ],
   "source": [
    "from torch.utils.data import random_split, DataLoader\n",
    "from ronald_bdl import datasets\n",
    "\n",
    "dataset = datasets.ToyDatasets(\n",
    "    random_seed=dataset_toy_random_seed,\n",
    "    n_samples=dataset_toy_size,\n",
    "    x_low=dataset_toy_x_low,\n",
    "    x_high=dataset_toy_x_high,\n",
    "    y_mean=dataset_toy_y_mean,\n",
    "    y_std=dataset_toy_y_std,\n",
    ")\n",
    "\n",
    "# Get the test data\n",
    "X_test = torch.linspace(dataset_toy_x_low, dataset_toy_x_high, 100).reshape(100, 1)\n",
    "\n",
    "# Print the size of the dataset\n",
    "print(\"dataset size = \" + str((len(dataset), dataset.n_features)))"
   ]
  },
  {
   "cell_type": "markdown",
   "metadata": {
    "colab_type": "text",
    "id": "LaasFWpqVFJ1"
   },
   "source": [
    "## Define network"
   ]
  },
  {
   "cell_type": "code",
   "execution_count": 4,
   "metadata": {
    "colab": {
     "base_uri": "https://localhost:8080/",
     "height": 156
    },
    "colab_type": "code",
    "executionInfo": {
     "elapsed": 6671,
     "status": "ok",
     "timestamp": 1572955507874,
     "user": {
      "displayName": "Ronald Seoh",
      "photoUrl": "",
      "userId": "10284188050297676522"
     },
     "user_tz": 300
    },
    "id": "gAqkGtg7VFJ9",
    "outputId": "0db0dd2f-92f2-4502-c035-917ba1eab35d"
   },
   "outputs": [],
   "source": [
    "from ronald_bdl import models\n",
    "\n",
    "uncertainty_methods = {}\n",
    "\n",
    "# MC (Bernoulli) dropout\n",
    "uncertainty_methods['mc_dropout'] = models.FCNetMCDropout(\n",
    "    input_dim=dataset.n_features, \n",
    "    output_dim=dataset.n_targets,\n",
    "    hidden_dim=100,\n",
    "    n_hidden=0,\n",
    "    dropout_rate=0.5,\n",
    "    dropout_type='bernoulli',\n",
    ")\n",
    "\n",
    "# Variational Dropout\n",
    "#uncertainty_methods['variational_dropout'] = models.FCNetMCDropout(\n",
    "#    input_dim=dataset.n_features, \n",
    "#    output_dim=dataset.n_targets,\n",
    "#    hidden_dim=100,\n",
    "#    n_hidden=0,\n",
    "#    dropout_rate=0.5,\n",
    "#    dropout_type='variational',\n",
    "#    dropout_variational_dim=100,\n",
    "#)\n",
    "\n",
    "# Vanilla Variational Inference\n",
    "uncertainty_methods['variational_inference'] = models.FCNetPyro(\n",
    "    input_dim=dataset.n_features, \n",
    "   output_dim=dataset.n_targets,\n",
    "    hidden_dim=100,\n",
    "    n_hidden=0,\n",
    ")\n",
    "\n",
    "# HMC (NUTS)\n",
    "uncertainty_methods['hmc'] = models.FCNetPyro(\n",
    "    input_dim=dataset.n_features, \n",
    "    output_dim=dataset.n_targets,\n",
    "    hidden_dim=100,\n",
    "    n_hidden=0,\n",
    ")"
   ]
  },
  {
   "cell_type": "markdown",
   "metadata": {
    "colab_type": "text",
    "id": "1PpzPMI8VFKE"
   },
   "source": [
    "## Train the network"
   ]
  },
  {
   "cell_type": "markdown",
   "metadata": {
    "colab_type": "text",
    "id": "Jc7Td1h1VFKb"
   },
   "source": [
    "### Train/test the model"
   ]
  },
  {
   "cell_type": "code",
   "execution_count": 5,
   "metadata": {
    "colab": {
     "base_uri": "https://localhost:8080/",
     "height": 1000
    },
    "colab_type": "code",
    "executionInfo": {
     "elapsed": 1731463,
     "status": "ok",
     "timestamp": 1572957232698,
     "user": {
      "displayName": "Ronald Seoh",
      "photoUrl": "",
      "userId": "10284188050297676522"
     },
     "user_tz": 300
    },
    "id": "m4kavCiTVFKf",
    "outputId": "62aa76cb-701a-4cdc-d1e3-877ae60252cf",
    "scrolled": false
   },
   "outputs": [
    {
     "name": "stdout",
     "output_type": "stream",
     "text": [
      "Now running mc_dropout\n",
      "FCNetMCDropout(\n",
      "  (input): Sequential(\n",
      "    (0): Linear(in_features=1, out_features=100, bias=True)\n",
      "    (1): Dropout(p=0.5, inplace=False)\n",
      "  )\n",
      "  (output): Linear(in_features=100, out_features=1, bias=True)\n",
      ")\n",
      "\n",
      "[iteration 0001] loss: 23.8405\n",
      "[iteration 0101] loss: 12.5477\n",
      "[iteration 0201] loss: 12.3687\n",
      "[iteration 0301] loss: 12.2383\n",
      "final loss = tensor(12.0144, grad_fn=<SqrtBackward>)\n",
      "training time = 22.434720277786255 seconds\n",
      "\n",
      "Now running variational_inference\n",
      "FCNetPyro(\n",
      "  (input): Sequential(\n",
      "    (0): Linear(in_features=1, out_features=100, bias=True)\n",
      "    (1): Identity()\n",
      "  )\n",
      "  (output): Linear(in_features=100, out_features=1, bias=True)\n",
      ")\n",
      "\n",
      "[iteration 0001] loss: nan\n"
     ]
    },
    {
     "name": "stderr",
     "output_type": "stream",
     "text": [
      "/Users/se9/python/00_default/lib/python3.6/site-packages/pyro/infer/trace_elbo.py:135: UserWarning: Encountered NaN: loss\n",
      "  warn_if_nan(loss, \"loss\")\n"
     ]
    },
    {
     "name": "stdout",
     "output_type": "stream",
     "text": [
      "[iteration 0101] loss: nan\n",
      "[iteration 0201] loss: nan\n",
      "[iteration 0301] loss: nan\n"
     ]
    },
    {
     "name": "stderr",
     "output_type": "stream",
     "text": [
      "Warmup:   0%|          | 1/2100 [00:00,  6.90it/s, step size=3.60e+00, acc. prob=1.000]"
     ]
    },
    {
     "name": "stdout",
     "output_type": "stream",
     "text": [
      "final loss = nan\n",
      "training time = 3.6867568492889404 seconds\n",
      "\n",
      "Now running hmc\n",
      "FCNetPyro(\n",
      "  (input): Sequential(\n",
      "    (0): Linear(in_features=1, out_features=100, bias=True)\n",
      "    (1): Identity()\n",
      "  )\n",
      "  (output): Linear(in_features=100, out_features=1, bias=True)\n",
      ")\n",
      "\n"
     ]
    },
    {
     "name": "stderr",
     "output_type": "stream",
     "text": [
      "sample: 100%|██████████| 2100/2100 [05:45,  6.08it/s, step size=1.81e-01, acc. prob=0.955]"
     ]
    },
    {
     "name": "stdout",
     "output_type": "stream",
     "text": [
      "final loss = nan\n",
      "training time = 345.659451007843 seconds\n",
      "\n"
     ]
    },
    {
     "name": "stderr",
     "output_type": "stream",
     "text": [
      "\n"
     ]
    }
   ],
   "source": [
    "import time\n",
    "import pyro\n",
    "from pyro.infer import EmpiricalMarginal, SVI, Trace_ELBO, NUTS, MCMC\n",
    "\n",
    "for key, network in uncertainty_methods.items():\n",
    "    \n",
    "    # Print the method name\n",
    "    print(\"Now running \" + str(key))\n",
    "    \n",
    "    # Send the whole model to the selected torch.device\n",
    "    network.to(torch_device)\n",
    "\n",
    "    # Print the network structure\n",
    "    print(network)\n",
    "    print()\n",
    "\n",
    "    train_loader = DataLoader(dataset, batch_size=len(dataset))\n",
    "    \n",
    "    # Optimizer setup\n",
    "    if isinstance(network, models.FCNetMCDropout):\n",
    "        # Adam optimizer\n",
    "        # https://pytorch.org/docs/stable/optim.html?highlight=adam#torch.optim.Adam\n",
    "        # NOTE: Need to set L2 regularization from here\n",
    "        optimizer = torch.optim.Adam(\n",
    "            network.parameters(),\n",
    "            lr=0.01,\n",
    "            weight_decay=reg_strength, # L2 regularization\n",
    "        )\n",
    "\n",
    "        # Mean Squared Error for loss function to minimize\n",
    "        objective = torch.nn.MSELoss()\n",
    "\n",
    "    elif isinstance(network, models.FCNetPyro):\n",
    "        if key == 'variational_inference':\n",
    "            optimizer = pyro.optim.Adam({\"lr\": 0.01})\n",
    "            svi = SVI(network.model, network.guide, optimizer, loss=Trace_ELBO(), num_samples=2000)\n",
    "        elif key == 'hmc':\n",
    "            nuts_kernel = NUTS(network.model)\n",
    "            mcmc = MCMC(nuts_kernel, num_samples=2000, warmup_steps=100)\n",
    "\n",
    "        pyro.clear_param_store()\n",
    "    \n",
    "    \"\"\"\n",
    "    Training\n",
    "    \"\"\"\n",
    "    # Model to train mode\n",
    "    network.train()\n",
    "\n",
    "    # Record training start time (for this method)\n",
    "    tic = time.time()\n",
    "    \n",
    "    if key == 'hmc':\n",
    "        dataset.data_x.to(torch_device)\n",
    "        dataset.data_y.to(torch_device)\n",
    "        mcmc.run(dataset.data_x, dataset.data_y)\n",
    "    else:\n",
    "        for epoch in range(n_epochs): # loop over the dataset multiple times\n",
    "\n",
    "            for i, data in enumerate(train_loader):\n",
    "                # get the inputs; data is a list of [inputs, labels]\n",
    "                inputs, targets = data\n",
    "\n",
    "                # Store the batch to torch_device's memory\n",
    "                inputs = inputs.to(torch_device)\n",
    "                targets = targets.to(torch_device)\n",
    "\n",
    "                if isinstance(network, models.FCNetMCDropout):\n",
    "                    # zero the parameter gradients\n",
    "                    optimizer.zero_grad()\n",
    "\n",
    "                    # forward + backward + optimize\n",
    "                    outputs = network(inputs)\n",
    "\n",
    "                    #total_loss = objective(outputs, targets)\n",
    "\n",
    "                    _, _, _, metrics = network.predict_dist(\n",
    "                        inputs, n_predictions, y_test=targets, reg_strength=reg_strength)\n",
    "\n",
    "                    total_loss = metrics['rmse_mc']\n",
    "                    \n",
    "                    #if network.dropout_type == 'variational':\n",
    "                    #    total_loss += float(network.kl() / 10)\n",
    "                    \n",
    "                    total_loss.backward()\n",
    "\n",
    "                    optimizer.step()\n",
    "\n",
    "                elif isinstance(network, models.FCNetPyro):\n",
    "                    # calculate the loss and take a gradient step\n",
    "                    total_loss = svi.step(inputs, targets)\n",
    "\n",
    "            if epoch % 100 == 0:\n",
    "                print(\"[iteration %04d] loss: %.4f\" % (epoch + 1, total_loss))\n",
    "            \n",
    "    # Record training end time\n",
    "    toc = time.time()\n",
    "\n",
    "    # Report the final loss\n",
    "    print(\"final loss = \" + str(total_loss))            \n",
    "\n",
    "    # Report the total training time\n",
    "    print(\"training time = \" + str(toc - tic) + \" seconds\")\n",
    "    \n",
    "    print()"
   ]
  },
  {
   "cell_type": "code",
   "execution_count": 6,
   "metadata": {
    "scrolled": false
   },
   "outputs": [
    {
     "name": "stdout",
     "output_type": "stream",
     "text": [
      "testing time = 3.7873799800872803 seconds\n",
      "\n",
      "Mean = tensor([-33.5994, -32.8092, -32.0824, -31.4025, -30.6856, -29.9949, -29.2227,\n",
      "        -28.5458, -27.8068, -26.9550, -26.3980, -25.5360, -24.8775, -24.1735,\n",
      "        -23.4385, -22.7029, -21.9930, -21.2232, -20.5352, -19.7603, -19.0576,\n",
      "        -18.3666, -17.6108, -16.8665, -16.1755, -15.4726, -14.7011, -13.9645,\n",
      "        -13.2744, -12.5337, -11.8055, -11.1096, -10.3422,  -9.6246,  -8.9194,\n",
      "         -8.1482,  -7.4224,  -6.7126,  -6.0030,  -5.2459,  -4.5347,  -3.8067,\n",
      "         -3.0809,  -2.3505,  -1.6243,  -0.9018,  -0.2007,   0.0650,   0.0690,\n",
      "          0.0690,   0.0690,   0.0738,   0.1698,   0.4835,   0.8845,   1.2835,\n",
      "          1.6791,   2.0749,   2.4758,   2.8760,   3.2772,   3.6696,   4.1487,\n",
      "          4.7111,   5.5166,   6.4221,   7.3442,   8.2388,   9.1647,  10.0742,\n",
      "         10.9782,  11.9268,  12.8192,  13.7334,  14.6331,  15.5107,  16.4486,\n",
      "         17.4009,  18.3154,  19.1918,  20.0612,  20.9741,  21.9484,  22.7893,\n",
      "         23.7153,  24.6992,  25.5354,  26.4864,  27.4623,  28.2308,  29.2665,\n",
      "         30.1951,  31.1102,  31.9967,  32.8979,  33.8446,  34.6511,  35.5334,\n",
      "         36.4910,  37.4078], grad_fn=<ViewBackward>)\n",
      "Variance = tensor([3.8256e+01, 3.6357e+01, 3.4754e+01, 3.3202e+01, 3.1276e+01, 3.1204e+01,\n",
      "        2.9238e+01, 2.7741e+01, 2.5917e+01, 2.4461e+01, 2.3448e+01, 2.2524e+01,\n",
      "        2.0563e+01, 1.9911e+01, 1.9083e+01, 1.7118e+01, 1.6450e+01, 1.5641e+01,\n",
      "        1.4126e+01, 1.3070e+01, 1.2235e+01, 1.1357e+01, 1.0774e+01, 9.5490e+00,\n",
      "        8.8122e+00, 7.9630e+00, 7.3467e+00, 6.7667e+00, 5.8294e+00, 5.3133e+00,\n",
      "        4.7588e+00, 4.2399e+00, 3.5976e+00, 3.0904e+00, 2.6739e+00, 2.2440e+00,\n",
      "        1.8795e+00, 1.5363e+00, 1.2426e+00, 9.4540e-01, 7.0262e-01, 5.0277e-01,\n",
      "        3.2325e-01, 1.9712e-01, 9.4127e-02, 3.2366e-02, 3.7991e-03, 1.2808e-05,\n",
      "        8.9813e-08, 9.4210e-08, 9.8712e-08, 1.2281e-05, 9.1977e-04, 6.1458e-03,\n",
      "        1.9737e-02, 4.2022e-02, 7.1943e-02, 1.1257e-01, 1.6127e-01, 2.1458e-01,\n",
      "        2.8518e-01, 3.6211e-01, 4.5462e-01, 5.4330e-01, 6.7938e-01, 9.0469e-01,\n",
      "        1.1162e+00, 1.5233e+00, 1.8930e+00, 2.3339e+00, 2.8366e+00, 3.5237e+00,\n",
      "        4.1348e+00, 4.9172e+00, 5.6896e+00, 6.4571e+00, 7.5241e+00, 8.5529e+00,\n",
      "        9.4599e+00, 1.0714e+01, 1.1775e+01, 1.3389e+01, 1.4225e+01, 1.5837e+01,\n",
      "        1.7409e+01, 1.8919e+01, 2.0560e+01, 2.2194e+01, 2.3820e+01, 2.6613e+01,\n",
      "        2.7778e+01, 2.9593e+01, 3.1093e+01, 3.4036e+01, 3.6825e+01, 3.7183e+01,\n",
      "        4.0111e+01, 4.1982e+01, 4.5212e+01, 4.7044e+01],\n",
      "       grad_fn=<ViewBackward>)\n"
     ]
    },
    {
     "data": {
      "image/png": "[encoded data removed]",
      "text/plain": [
       "<Figure size 432x288 with 1 Axes>"
      ]
     },
     "metadata": {
      "needs_background": "light"
     },
     "output_type": "display_data"
    },
    {
     "name": "stdout",
     "output_type": "stream",
     "text": [
      "testing time = 15.508059978485107 seconds\n",
      "\n",
      "Mean = tensor([-22.8427, -22.4167, -21.9907, -21.5647, -21.1386, -20.7127, -20.2881,\n",
      "        -19.8720, -19.4558, -19.0396, -18.6234, -18.2175, -17.8214, -17.4253,\n",
      "        -17.0292, -16.6330, -16.2370, -15.8387, -15.4376, -15.0365, -14.6353,\n",
      "        -14.2342, -13.8330, -13.4246, -12.9928, -12.5609, -12.1892, -11.8274,\n",
      "        -11.4563, -11.0692, -10.6820, -10.2947,  -9.9076,  -9.4922,  -9.0511,\n",
      "         -8.6328,  -8.2138,  -7.7673,  -7.3353,  -6.9555,  -6.7605,  -6.5992,\n",
      "         -6.4726,  -6.2933,  -5.9584,  -5.5652,  -5.2094,  -4.8035,  -4.3604,\n",
      "         -3.9171,  -3.4287,  -2.9307,  -2.4835,  -1.9914,  -1.4808,  -1.0119,\n",
      "         -0.5262,  -0.0255,   0.4748,   1.0306,   1.4880,   1.8376,   2.1221,\n",
      "          2.4266,   2.7036,   2.9687,   3.2914,   3.6246,   3.9724,   4.1797,\n",
      "          4.3167,   4.4405,   4.5468,   4.5853,   4.5745,   4.5519,   4.5293,\n",
      "          4.5067,   4.4850,   4.4586,   4.4298,   4.4011,   4.3725,   4.3446,\n",
      "          4.3167,   4.2888,   4.2609,   4.2341,   4.2346,   4.2273,   4.2200,\n",
      "          4.2126,   4.2053,   4.1979,   4.1906,   4.1833,   4.1759,   4.1686,\n",
      "          4.1613,   4.1539])\n",
      "Variance = tensor([299.3144, 288.1013, 277.1161, 266.3587, 255.8291, 245.5273, 235.4525,\n",
      "        225.6026, 215.9835, 206.5952, 197.4379, 188.5125, 179.8183, 171.3545,\n",
      "        163.1210, 155.1180, 147.3453, 139.7996, 132.4823, 125.3972, 118.5444,\n",
      "        111.9238, 105.5355,  99.3801,  93.4561,  87.7591,  82.2875,  77.0409,\n",
      "         72.0198,  67.2243,  62.6533,  58.3068,  54.1846,  50.2902,  46.6333,\n",
      "         43.1934,  39.9578,  36.9274,  34.1013,  31.4937,  29.1205,  26.9851,\n",
      "         25.0735,  23.3875,  21.9527,  20.7650,  19.8452,  19.2054,  18.8445,\n",
      "         18.7618,  18.9386,  19.3759,  20.0694,  21.0235,  22.2558,  23.7645,\n",
      "         25.5550,  27.6221,  29.9418,  32.5032,  35.3418,  38.4499,  41.8278,\n",
      "         45.4653,  49.3603,  53.5129,  57.9231,  62.5909,  67.5118,  72.6942,\n",
      "         78.1416,  83.8508,  89.8189,  96.0464, 102.5355, 109.2839, 116.2925,\n",
      "        123.5614, 131.0900, 138.8783, 146.9272, 155.2364, 163.8061, 172.6385,\n",
      "        181.7325, 191.0881, 200.7054, 210.5843, 220.7259, 231.1288, 241.7953,\n",
      "        252.7253, 263.9189, 275.3761, 287.0969, 299.0813, 311.3292, 323.8407,\n",
      "        336.6158, 349.6544])\n"
     ]
    },
    {
     "data": {
      "image/png": "[encoded data removed]",
      "text/plain": [
       "<Figure size 432x288 with 1 Axes>"
      ]
     },
     "metadata": {
      "needs_background": "light"
     },
     "output_type": "display_data"
    },
    {
     "name": "stdout",
     "output_type": "stream",
     "text": [
      "testing time = 14.920232772827148 seconds\n",
      "\n",
      "Mean = tensor([-23.0112, -22.5805, -22.1499, -21.7192, -21.2886, -20.8579, -20.4288,\n",
      "        -20.0077, -19.5865, -19.1653, -18.7441, -18.3332, -17.9321, -17.5308,\n",
      "        -17.1297, -16.7285, -16.3273, -15.9239, -15.5173, -15.1108, -14.7042,\n",
      "        -14.2976, -13.8910, -13.4773, -13.0408, -12.6042, -12.2280, -11.8619,\n",
      "        -11.4865, -11.0951, -10.7036, -10.3121,  -9.9206,  -9.5009,  -9.0555,\n",
      "         -8.6328,  -8.2112,  -7.7625,  -7.3289,  -6.9498,  -6.7563,  -6.5977,\n",
      "         -6.4745,  -6.2982,  -5.9641,  -5.5718,  -5.2185,  -4.8157,  -4.3757,\n",
      "         -3.9359,  -3.4515,  -2.9574,  -2.5141,  -2.0247,  -1.5153,  -1.0476,\n",
      "         -0.5634,  -0.0665,   0.4289,   0.9811,   1.4357,   1.7832,   2.0660,\n",
      "          2.3690,   2.6446,   2.9081,   3.2293,   3.5611,   3.9066,   4.1100,\n",
      "          4.2427,   4.3624,   4.4644,   4.4987,   4.4837,   4.4568,   4.4298,\n",
      "          4.4029,   4.3768,   4.3459,   4.3127,   4.2796,   4.2464,   4.2136,\n",
      "          4.1807,   4.1478,   4.1150,   4.0832,   4.0787,   4.0663,   4.0539,\n",
      "          4.0415,   4.0291,   4.0168,   4.0044,   3.9920,   3.9796,   3.9672,\n",
      "          3.9548,   3.9424])\n",
      "Variance = tensor([300.4349, 289.1258, 278.0472, 267.1992, 256.5817, 246.1947, 236.0382,\n",
      "        226.1129, 216.4208, 206.9620, 197.7365, 188.7473, 179.9916, 171.4685,\n",
      "        163.1781, 155.1204, 147.2953, 139.7093, 132.3632, 125.2503, 118.3707,\n",
      "        111.7244, 105.3113,  99.1327,  93.1875,  87.4700,  81.9769,  76.7096,\n",
      "         71.6689,  66.8550,  62.2676,  57.9066,  53.7715,  49.8678,  46.2026,\n",
      "         42.7743,  39.5589,  36.5521,  33.7575,  31.1873,  28.8518,  26.7604,\n",
      "         24.8954,  23.2351,  21.7884,  20.6156,  19.7164,  19.0977,  18.7622,\n",
      "         18.7101,  18.9406,  19.4366,  20.2063,  21.2392,  22.5503,  24.1452,\n",
      "         26.0265,  28.1991,  30.6388,  33.3418,  36.3105,  39.5551,  43.0790,\n",
      "         46.8696,  50.9238,  55.2417,  59.8235,  64.6690,  69.7711,  75.1335,\n",
      "         80.7672,  86.6722,  92.8469,  99.2857, 105.9854, 112.9500, 120.1817,\n",
      "        127.6806, 135.4468, 143.4797, 151.7798, 160.3471, 169.1821, 178.2879,\n",
      "        187.6625, 197.3058, 207.2180, 217.3987, 227.8319, 238.5318, 249.5014,\n",
      "        260.7408, 272.2500, 284.0291, 296.0780, 308.3968, 320.9854, 333.8437,\n",
      "        346.9719, 360.3699])\n"
     ]
    },
    {
     "data": {
      "image/png": "[encoded data removed]",
      "text/plain": [
       "<Figure size 432x288 with 1 Axes>"
      ]
     },
     "metadata": {
      "needs_background": "light"
     },
     "output_type": "display_data"
    }
   ],
   "source": [
    "%matplotlib inline\n",
    "import matplotlib.pyplot as plt\n",
    "\n",
    "for _, network in uncertainty_methods.items():\n",
    "\n",
    "    \"\"\"\n",
    "    Testing\n",
    "    \"\"\"\n",
    "\n",
    "    # Model to eval mode\n",
    "    network.eval()\n",
    "\n",
    "    # Record testing start time (for this split)\n",
    "    tic_testing = time.time()    \n",
    "    \n",
    "    predictions, mean, var, metrics = network.predict_dist(X_test, 10000)\n",
    "    \n",
    "    # Record testing end time\n",
    "    toc_testing = time.time()\n",
    "    \n",
    "    # Report the total testing time\n",
    "    print(\"testing time = \" + str(toc_testing - tic_testing) + \" seconds\")\n",
    "    \n",
    "    \"\"\"\n",
    "    Print results\n",
    "    \"\"\"\n",
    "    print()\n",
    "    print(\"Mean = \" + str(mean.flatten()))\n",
    "    print(\"Variance = \" + str(var.flatten()))\n",
    "    \n",
    "    # store additional metrics\n",
    "    if len(metrics) > 0:\n",
    "        for key, value in metrics.items():\n",
    "            print(str(key) + \" = \" + str(value))\n",
    "        print()\n",
    "             \n",
    "    # Plot the uncertainty measured by each methods\n",
    "    plt.figure()\n",
    "    \n",
    "    # Fix the scales of x-axis and y-axis\n",
    "    plt.xlim(dataset_toy_x_low, dataset_toy_x_high)\n",
    "    plt.ylim(dataset_toy_y_mean-2*dataset_toy_y_std, dataset_toy_y_mean+2*dataset_toy_y_std)\n",
    "\n",
    "    # Train data\n",
    "    plt.plot(dataset.data_x, dataset.data_y, 'or', label='Actual data')\n",
    "\n",
    "    # MC prediction\n",
    "    plt.plot(X_test, mean.detach().numpy(), 'gray', label='mean predictions')\n",
    "\n",
    "    # Distributions around the predictions\n",
    "    plt.fill_between(X_test.flatten(), (mean.detach().numpy() - 2*torch.sqrt(var).detach().numpy()).flatten(), (mean.detach().numpy() + 2*torch.sqrt(var).detach().numpy()).flatten(),\n",
    "                     color='lightblue', alpha=0.5)\n",
    "    \n",
    "    plt.legend()\n",
    "    \n",
    "    plt.show()"
   ]
  },
  {
   "cell_type": "code",
   "execution_count": null,
   "metadata": {},
   "outputs": [],
   "source": []
  }
 ],
 "metadata": {
  "accelerator": "GPU",
  "colab": {
   "collapsed_sections": [],
   "name": "experiments.ipynb",
   "provenance": []
  },
  "kernelspec": {
   "display_name": "Python 3",
   "language": "python",
   "name": "python3"
  },
  "language_info": {
   "codemirror_mode": {
    "name": "ipython",
    "version": 3
   },
   "file_extension": ".py",
   "mimetype": "text/x-python",
   "name": "python",
   "nbconvert_exporter": "python",
   "pygments_lexer": "ipython3",
   "version": "3.6.8"
  }
 },
 "nbformat": 4,
 "nbformat_minor": 1
}
