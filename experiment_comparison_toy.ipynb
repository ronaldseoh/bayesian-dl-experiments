{
 "cells": [
  {
   "cell_type": "markdown",
   "metadata": {
    "colab_type": "text",
    "id": "Bka_bK83VFHh"
   },
   "source": [
    "## Experiment Setup"
   ]
  },
  {
   "cell_type": "markdown",
   "metadata": {
    "colab_type": "text",
    "id": "8D5NSPs_cJZe"
   },
   "source": [
    "###  Random seed / PyTorch / Colab / CUDA related"
   ]
  },
  {
   "cell_type": "code",
   "execution_count": 1,
   "metadata": {
    "colab": {},
    "colab_type": "code",
    "id": "pHbfpytEVFHu"
   },
   "outputs": [],
   "source": [
    "import torch\n",
    "import numpy as np\n",
    "\n",
    "# Google Colab-only setup.\n",
    "use_colab = True\n",
    "\n",
    "# Is this running on Colab?\n",
    "import importlib\n",
    "colab_available = importlib.util.find_spec(\"google.colab\") is not None\n",
    "\n",
    "if use_colab and colab_available:\n",
    "    # Mount my Google Drive root folder\n",
    "    from google.colab import drive\n",
    "    drive.mount('/content/drive')\n",
    "\n",
    "    # cd to bayesian-dl-experiments directory\n",
    "    %cd 'drive/My Drive/Colab Notebooks/bayesian-dl-experiments'\n",
    "    !ls\n",
    "\n",
    "# IPython reloading magic\n",
    "%load_ext autoreload\n",
    "%autoreload 2\n",
    "\n",
    "# Random seeds\n",
    "# Based on https://pytorch.org/docs/stable/notes/randomness.html\n",
    "torch.manual_seed(682)\n",
    "np.random.seed(682)\n",
    "\n",
    "# torch.device / CUDA Setup\n",
    "use_cuda = True\n",
    "\n",
    "if use_cuda and torch.cuda.is_available():\n",
    "    torch_device = torch.device('cuda')\n",
    "    torch.backends.cudnn.deterministic = True\n",
    "    # Note: https://discuss.pytorch.org/t/what-does-torch-backends-cudnn-benchmark-do/5936\n",
    "    torch.backends.cudnn.benchmark = False\n",
    "    use_pin_memory=True # Faster Host to GPU copies with page-locked memory\n",
    "else:\n",
    "    torch_device = torch.device('cpu')\n",
    "    use_pin_memory=False"
   ]
  },
  {
   "cell_type": "markdown",
   "metadata": {
    "colab_type": "text",
    "id": "XIFRoH3AcJZn"
   },
   "source": [
    "### Variable settings"
   ]
  },
  {
   "cell_type": "code",
   "execution_count": 2,
   "metadata": {
    "colab": {},
    "colab_type": "code",
    "id": "g_pzGq1_cJZp"
   },
   "outputs": [],
   "source": [
    "\"\"\"\n",
    "Toy dataset generation based on the experiment from \n",
    "the Probabilstic Backpropagation paper (Hernandez-Lobato & Adams, 2015)\n",
    "\"\"\"\n",
    "# Random seed for toy dataset\n",
    "dataset_toy_random_seed = 691\n",
    "\n",
    "# Toy dataset size\n",
    "dataset_toy_size = 20\n",
    "\n",
    "# Toy dataset x distribution (uniform) parameters\n",
    "dataset_toy_x_low = -4\n",
    "dataset_toy_x_high = 4\n",
    "\n",
    "# Toy dataset y distribution (normal with noise)\n",
    "dataset_toy_y_mean = 0\n",
    "dataset_toy_y_std = 9\n",
    "\n",
    "# L2 regularization strength\n",
    "reg_strength = 0.01\n",
    "\n",
    "# Epochs\n",
    "n_epochs = 400\n",
    "\n",
    "# Number of test predictions (for each data point)\n",
    "n_predictions = 10000"
   ]
  },
  {
   "cell_type": "markdown",
   "metadata": {
    "colab_type": "text",
    "id": "sZwe_f-yVFIf"
   },
   "source": [
    "## Prepare data"
   ]
  },
  {
   "cell_type": "markdown",
   "metadata": {
    "colab_type": "text",
    "id": "eEfdrHcOVFIj"
   },
   "source": [
    "### Get the data as a torch Dataset object"
   ]
  },
  {
   "cell_type": "code",
   "execution_count": 3,
   "metadata": {
    "colab": {
     "base_uri": "https://localhost:8080/",
     "height": 86
    },
    "colab_type": "code",
    "executionInfo": {
     "elapsed": 4151,
     "status": "ok",
     "timestamp": 1572955505337,
     "user": {
      "displayName": "Ronald Seoh",
      "photoUrl": "",
      "userId": "10284188050297676522"
     },
     "user_tz": 300
    },
    "id": "5u5qU-9JVFIr",
    "outputId": "3d1637a9-39e3-473a-e4be-b40211d444cc"
   },
   "outputs": [
    {
     "name": "stdout",
     "output_type": "stream",
     "text": [
      "dataset size = (20, 1)\n"
     ]
    }
   ],
   "source": [
    "from torch.utils.data import random_split, DataLoader\n",
    "from ronald_bdl import datasets\n",
    "\n",
    "dataset = datasets.ToyDatasets(\n",
    "    random_seed=dataset_toy_random_seed,\n",
    "    n_samples=dataset_toy_size,\n",
    "    x_low=dataset_toy_x_low,\n",
    "    x_high=dataset_toy_x_high,\n",
    "    y_mean=dataset_toy_y_mean,\n",
    "    y_std=dataset_toy_y_std,\n",
    ")\n",
    "\n",
    "# Get the test data\n",
    "X_test = torch.linspace(dataset_toy_x_low, dataset_toy_x_high, 100).reshape(100, 1)\n",
    "\n",
    "# Print the size of the dataset\n",
    "print(\"dataset size = \" + str((len(dataset), dataset.n_features)))"
   ]
  },
  {
   "cell_type": "markdown",
   "metadata": {
    "colab_type": "text",
    "id": "LaasFWpqVFJ1"
   },
   "source": [
    "## Define network"
   ]
  },
  {
   "cell_type": "code",
   "execution_count": 4,
   "metadata": {
    "colab": {
     "base_uri": "https://localhost:8080/",
     "height": 156
    },
    "colab_type": "code",
    "executionInfo": {
     "elapsed": 6671,
     "status": "ok",
     "timestamp": 1572955507874,
     "user": {
      "displayName": "Ronald Seoh",
      "photoUrl": "",
      "userId": "10284188050297676522"
     },
     "user_tz": 300
    },
    "id": "gAqkGtg7VFJ9",
    "outputId": "0db0dd2f-92f2-4502-c035-917ba1eab35d"
   },
   "outputs": [],
   "source": [
    "from ronald_bdl import models\n",
    "\n",
    "uncertainty_methods = []\n",
    "\n",
    "# MC dropout\n",
    "uncertainty_methods.append(\n",
    "    models.FCNetMCDropout(\n",
    "        input_dim=dataset.n_features, \n",
    "        output_dim=dataset.n_targets,\n",
    "        hidden_dim=50,\n",
    "        n_hidden=1,\n",
    "        dropout_rate=0.5,\n",
    "        dropout_type='bernoulli',\n",
    "    )\n",
    ")"
   ]
  },
  {
   "cell_type": "markdown",
   "metadata": {
    "colab_type": "text",
    "id": "1PpzPMI8VFKE"
   },
   "source": [
    "## Train the network"
   ]
  },
  {
   "cell_type": "markdown",
   "metadata": {
    "colab_type": "text",
    "id": "DuTnXABzVFKI"
   },
   "source": [
    "### Setup"
   ]
  },
  {
   "cell_type": "code",
   "execution_count": 5,
   "metadata": {
    "colab": {},
    "colab_type": "code",
    "id": "p19qFgSAVFKS"
   },
   "outputs": [],
   "source": [
    "from torch import nn, optim\n",
    "\n",
    "# Mean Squared Error for loss function to minimize\n",
    "objective = nn.MSELoss()\n",
    "\n",
    "means, variances = [], []"
   ]
  },
  {
   "cell_type": "markdown",
   "metadata": {
    "colab_type": "text",
    "id": "Jc7Td1h1VFKb"
   },
   "source": [
    "### Train/test the model"
   ]
  },
  {
   "cell_type": "code",
   "execution_count": 6,
   "metadata": {
    "colab": {
     "base_uri": "https://localhost:8080/",
     "height": 1000
    },
    "colab_type": "code",
    "executionInfo": {
     "elapsed": 1731463,
     "status": "ok",
     "timestamp": 1572957232698,
     "user": {
      "displayName": "Ronald Seoh",
      "photoUrl": "",
      "userId": "10284188050297676522"
     },
     "user_tz": 300
    },
    "id": "m4kavCiTVFKf",
    "outputId": "62aa76cb-701a-4cdc-d1e3-877ae60252cf",
    "scrolled": true
   },
   "outputs": [
    {
     "name": "stdout",
     "output_type": "stream",
     "text": [
      "FCNetMCDropout(\n",
      "  (input): Sequential(\n",
      "    (0): Linear(in_features=1, out_features=50, bias=True)\n",
      "    (1): Dropout(p=0.5, inplace=False)\n",
      "  )\n",
      "  (hidden_layers): ModuleList(\n",
      "    (0): Sequential(\n",
      "      (0): Linear(in_features=50, out_features=50, bias=True)\n",
      "      (1): Dropout(p=0.5, inplace=False)\n",
      "    )\n",
      "  )\n",
      "  (output): Linear(in_features=50, out_features=1, bias=True)\n",
      ")\n",
      "final loss = 260.1493225097656\n",
      "training time = 15.48546314239502 seconds\n",
      "\n"
     ]
    }
   ],
   "source": [
    "import time\n",
    "\n",
    "for network in uncertainty_methods:\n",
    "    \n",
    "    # Send the whole model to the selected torch.device\n",
    "    network.to(torch_device)\n",
    "\n",
    "    # Print the network structure\n",
    "    print(network)\n",
    "\n",
    "    train_loader = DataLoader(dataset, pin_memory=use_pin_memory)\n",
    "    \n",
    "    # Adam optimizer\n",
    "    # https://pytorch.org/docs/stable/optim.html?highlight=adam#torch.optim.Adam\n",
    "    # NOTE: Need to set L2 regularization from here\n",
    "    optimizer = optim.Adam(\n",
    "        network.parameters(),\n",
    "        lr=0.01,\n",
    "        weight_decay=reg_strength, # L2 regularization\n",
    "    )\n",
    "    \n",
    "    \"\"\"\n",
    "    Training\n",
    "    \"\"\"\n",
    "    # Model to train mode\n",
    "    network.train()\n",
    "\n",
    "    # Record training start time (for this method)\n",
    "    tic = time.time()\n",
    "\n",
    "    for epoch in range(n_epochs): # loop over the dataset multiple times\n",
    "\n",
    "        for i, data in enumerate(train_loader):\n",
    "            # get the inputs; data is a list of [inputs, labels]\n",
    "            inputs, targets = data\n",
    "\n",
    "            # Store the batch to torch_device's memory\n",
    "            inputs = inputs.to(torch_device)\n",
    "            targets = targets.to(torch_device)\n",
    "\n",
    "            # zero the parameter gradients\n",
    "            optimizer.zero_grad()\n",
    "\n",
    "            # forward + backward + optimize\n",
    "            outputs = network(inputs)\n",
    "\n",
    "            loss = objective(outputs, targets)\n",
    "            loss.backward()\n",
    "\n",
    "            optimizer.step()\n",
    "            \n",
    "    # Record training end time\n",
    "    toc = time.time()\n",
    "\n",
    "    # Report the final loss\n",
    "    print(\"final loss = \" + str(loss.item()))            \n",
    "\n",
    "    # Report the total training time\n",
    "    print(\"training time = \" + str(toc - tic) + \" seconds\")\n",
    "    \n",
    "    print()"
   ]
  },
  {
   "cell_type": "code",
   "execution_count": 7,
   "metadata": {},
   "outputs": [
    {
     "name": "stdout",
     "output_type": "stream",
     "text": [
      "\n",
      "Mean = tensor([[-48.8467],\n",
      "        [-46.6684],\n",
      "        [-45.1879],\n",
      "        [-43.6638],\n",
      "        [-41.5416],\n",
      "        [-40.3567],\n",
      "        [-38.5958],\n",
      "        [-37.0961],\n",
      "        [-35.4954],\n",
      "        [-33.7896],\n",
      "        [-31.9785],\n",
      "        [-30.4190],\n",
      "        [-28.7141],\n",
      "        [-27.1366],\n",
      "        [-25.6614],\n",
      "        [-24.0621],\n",
      "        [-22.2638],\n",
      "        [-20.7843],\n",
      "        [-19.1157],\n",
      "        [-17.5473],\n",
      "        [-15.8446],\n",
      "        [-14.2374],\n",
      "        [-12.5263],\n",
      "        [-10.8982],\n",
      "        [ -9.5658],\n",
      "        [ -8.5205],\n",
      "        [ -7.5706],\n",
      "        [ -6.7325],\n",
      "        [ -5.8812],\n",
      "        [ -5.2239],\n",
      "        [ -4.4740],\n",
      "        [ -3.9705],\n",
      "        [ -3.7213],\n",
      "        [ -3.3740],\n",
      "        [ -3.1117],\n",
      "        [ -2.7856],\n",
      "        [ -2.4107],\n",
      "        [ -2.0604],\n",
      "        [ -1.7234],\n",
      "        [ -1.6489],\n",
      "        [ -1.4731],\n",
      "        [ -1.3208],\n",
      "        [ -1.1147],\n",
      "        [ -0.9859],\n",
      "        [ -0.8349],\n",
      "        [ -0.6027],\n",
      "        [ -0.2875],\n",
      "        [  0.3727],\n",
      "        [  0.9882],\n",
      "        [  1.5307],\n",
      "        [  1.9703],\n",
      "        [  2.3925],\n",
      "        [  2.7488],\n",
      "        [  2.9945],\n",
      "        [  3.3687],\n",
      "        [  3.6210],\n",
      "        [  3.7838],\n",
      "        [  3.9866],\n",
      "        [  4.1002],\n",
      "        [  4.2452],\n",
      "        [  4.3244],\n",
      "        [  4.4889],\n",
      "        [  4.5261],\n",
      "        [  4.6569],\n",
      "        [  4.8748],\n",
      "        [  4.9756],\n",
      "        [  5.0764],\n",
      "        [  5.1929],\n",
      "        [  5.3073],\n",
      "        [  5.3735],\n",
      "        [  5.5963],\n",
      "        [  5.7190],\n",
      "        [  5.8228],\n",
      "        [  5.9159],\n",
      "        [  6.0723],\n",
      "        [  6.1837],\n",
      "        [  6.6781],\n",
      "        [  7.2523],\n",
      "        [  8.1856],\n",
      "        [  9.2312],\n",
      "        [ 10.3468],\n",
      "        [ 11.5600],\n",
      "        [ 12.7933],\n",
      "        [ 14.2557],\n",
      "        [ 15.8459],\n",
      "        [ 18.3134],\n",
      "        [ 20.9064],\n",
      "        [ 23.3141],\n",
      "        [ 25.9842],\n",
      "        [ 28.6695],\n",
      "        [ 31.1191],\n",
      "        [ 33.3242],\n",
      "        [ 36.0975],\n",
      "        [ 38.3816],\n",
      "        [ 41.1468],\n",
      "        [ 43.6451],\n",
      "        [ 45.9469],\n",
      "        [ 48.7094],\n",
      "        [ 51.3387],\n",
      "        [ 53.9942]])\n",
      "Variance = tensor([[439.6206],\n",
      "        [412.6881],\n",
      "        [375.4113],\n",
      "        [351.7046],\n",
      "        [318.8937],\n",
      "        [305.1940],\n",
      "        [278.0166],\n",
      "        [249.6615],\n",
      "        [231.0149],\n",
      "        [212.6080],\n",
      "        [189.9471],\n",
      "        [173.1101],\n",
      "        [154.1849],\n",
      "        [136.9066],\n",
      "        [123.3189],\n",
      "        [107.5308],\n",
      "        [ 95.9020],\n",
      "        [ 82.6967],\n",
      "        [ 70.2441],\n",
      "        [ 61.9810],\n",
      "        [ 51.9020],\n",
      "        [ 44.3272],\n",
      "        [ 38.4422],\n",
      "        [ 33.0896],\n",
      "        [ 28.9188],\n",
      "        [ 25.1717],\n",
      "        [ 22.4328],\n",
      "        [ 19.9077],\n",
      "        [ 16.8668],\n",
      "        [ 15.2448],\n",
      "        [ 13.7155],\n",
      "        [ 12.1494],\n",
      "        [ 11.4768],\n",
      "        [ 10.8404],\n",
      "        [  9.9065],\n",
      "        [  9.1040],\n",
      "        [  8.7676],\n",
      "        [  8.1616],\n",
      "        [  7.7427],\n",
      "        [  7.3765],\n",
      "        [  6.9378],\n",
      "        [  6.4297],\n",
      "        [  6.1392],\n",
      "        [  5.8581],\n",
      "        [  5.5756],\n",
      "        [  5.3761],\n",
      "        [  5.2323],\n",
      "        [  5.2015],\n",
      "        [  5.5870],\n",
      "        [  6.0568],\n",
      "        [  6.6075],\n",
      "        [  7.1276],\n",
      "        [  7.7018],\n",
      "        [  8.1289],\n",
      "        [  8.2457],\n",
      "        [  8.6526],\n",
      "        [  9.1810],\n",
      "        [  9.2586],\n",
      "        [  9.7694],\n",
      "        [ 10.0596],\n",
      "        [ 11.0212],\n",
      "        [ 11.3581],\n",
      "        [ 11.7999],\n",
      "        [ 12.5749],\n",
      "        [ 12.5682],\n",
      "        [ 13.0281],\n",
      "        [ 13.6911],\n",
      "        [ 14.3221],\n",
      "        [ 15.0447],\n",
      "        [ 15.6661],\n",
      "        [ 15.8408],\n",
      "        [ 16.7549],\n",
      "        [ 17.5441],\n",
      "        [ 18.1251],\n",
      "        [ 18.8566],\n",
      "        [ 19.8238],\n",
      "        [ 20.5050],\n",
      "        [ 21.8840],\n",
      "        [ 24.8706],\n",
      "        [ 27.4512],\n",
      "        [ 31.0861],\n",
      "        [ 36.9938],\n",
      "        [ 43.2754],\n",
      "        [ 52.5966],\n",
      "        [ 61.0031],\n",
      "        [ 76.7102],\n",
      "        [ 90.8246],\n",
      "        [108.4503],\n",
      "        [136.6422],\n",
      "        [165.5439],\n",
      "        [194.4226],\n",
      "        [231.3374],\n",
      "        [267.6527],\n",
      "        [305.8239],\n",
      "        [356.0313],\n",
      "        [397.9117],\n",
      "        [451.8319],\n",
      "        [497.1455],\n",
      "        [540.2613],\n",
      "        [608.0165]])\n"
     ]
    },
    {
     "data": {
      "image/png": "[encoded data removed]",
      "text/plain": [
       "<Figure size 432x288 with 1 Axes>"
      ]
     },
     "metadata": {
      "needs_background": "light"
     },
     "output_type": "display_data"
    }
   ],
   "source": [
    "%matplotlib inline\n",
    "import matplotlib.pyplot as plt\n",
    "\n",
    "for network in uncertainty_methods:\n",
    "\n",
    "    \"\"\"\n",
    "    Testing\n",
    "    \"\"\"\n",
    "    # Model to eval mode\n",
    "    network.eval()\n",
    "\n",
    "    # Record testing start time (for this split)\n",
    "    tic_testing = time.time()    \n",
    "    \n",
    "    predictions, mean, var, metrics = network.mc_predict(X_test, n_predictions)\n",
    "\n",
    "    # Record testing end time\n",
    "    toc_testing = time.time()    \n",
    "    \n",
    "    \"\"\"\n",
    "    Print results\n",
    "    \"\"\"\n",
    "    print()\n",
    "    print(\"Mean = \" + str(mean))\n",
    "    print(\"Variance = \" + str(var))\n",
    "                \n",
    "    # plot mean and uncertainty\n",
    "    plt.figure()\n",
    "    # Actual data\n",
    "    plt.plot(dataset.data_x, dataset.data_y, 'or')\n",
    "\n",
    "    # MC prediction\n",
    "    plt.plot(X_test, mean, 'gray')\n",
    "\n",
    "    # Distributions around the predictions\n",
    "    plt.fill_between(X_test.flatten(), (mean - 2*torch.sqrt(var)).flatten(), (mean + 2*torch.sqrt(var)).flatten(),\n",
    "                     color='lightblue', alpha=0.5)\n",
    "    \n",
    "    plt.show()"
   ]
  },
  {
   "cell_type": "code",
   "execution_count": null,
   "metadata": {},
   "outputs": [],
   "source": []
  }
 ],
 "metadata": {
  "accelerator": "GPU",
  "colab": {
   "collapsed_sections": [],
   "name": "experiments.ipynb",
   "provenance": []
  },
  "kernelspec": {
   "display_name": "Python 3",
   "language": "python",
   "name": "python3"
  },
  "language_info": {
   "codemirror_mode": {
    "name": "ipython",
    "version": 3
   },
   "file_extension": ".py",
   "mimetype": "text/x-python",
   "name": "python",
   "nbconvert_exporter": "python",
   "pygments_lexer": "ipython3",
   "version": "3.6.8"
  }
 },
 "nbformat": 4,
 "nbformat_minor": 1
}
