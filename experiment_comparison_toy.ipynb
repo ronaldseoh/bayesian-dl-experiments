{
 "cells": [
  {
   "cell_type": "markdown",
   "metadata": {
    "colab_type": "text",
    "id": "Bka_bK83VFHh"
   },
   "source": [
    "## Experiment Setup"
   ]
  },
  {
   "cell_type": "markdown",
   "metadata": {
    "colab_type": "text",
    "id": "8D5NSPs_cJZe"
   },
   "source": [
    "###  Random seed / Colab / CUDA related"
   ]
  },
  {
   "cell_type": "code",
   "execution_count": 1,
   "metadata": {
    "colab": {
     "base_uri": "https://localhost:8080/",
     "height": 592
    },
    "colab_type": "code",
    "executionInfo": {
     "elapsed": 32214,
     "status": "ok",
     "timestamp": 1575021332527,
     "user": {
      "displayName": "Ronald Seoh",
      "photoUrl": "",
      "userId": "10284188050297676522"
     },
     "user_tz": 300
    },
    "id": "pHbfpytEVFHu",
    "outputId": "7913f72d-859c-477f-90b8-6c37e04f5759"
   },
   "outputs": [],
   "source": [
    "import time\n",
    "import datetime\n",
    "import os\n",
    "import sys\n",
    "import itertools\n",
    "\n",
    "# Use Google Colab\n",
    "use_colab = True\n",
    "\n",
    "# Is this notebook running on Colab?\n",
    "# If so, then google.colab package (github.com/googlecolab/colabtools)\n",
    "# should be available in this environment\n",
    "\n",
    "# Previous version used importlib, but we could do the same thing with\n",
    "# just attempting to import google.colab\n",
    "try:\n",
    "    from google.colab import drive\n",
    "    colab_available = True\n",
    "except:\n",
    "    colab_available = False\n",
    "\n",
    "if use_colab and colab_available:\n",
    "    drive.mount('/content/drive')\n",
    "    \n",
    "    # If there's a package I need to install separately, do it here\n",
    "    !pip install pyro-ppl\n",
    "\n",
    "    # cd to the appropriate working directory under my Google Drive\n",
    "    %cd 'drive/My Drive/Colab Notebooks/bayesian-dl-experiments'\n",
    "    \n",
    "    # List the directory contents\n",
    "    !ls\n",
    "\n",
    "# IPython reloading magic\n",
    "%load_ext autoreload\n",
    "%autoreload 2\n",
    "\n",
    "# Random seeds\n",
    "# Based on https://pytorch.org/docs/stable/notes/randomness.html\n",
    "random_seed = 682"
   ]
  },
  {
   "cell_type": "markdown",
   "metadata": {
    "colab_type": "text",
    "id": "L8udq6NnHSXW"
   },
   "source": [
    "### Third party libraries (NumPy, PyTorch, Pyro)"
   ]
  },
  {
   "cell_type": "code",
   "execution_count": 2,
   "metadata": {
    "colab": {
     "base_uri": "https://localhost:8080/",
     "height": 104
    },
    "colab_type": "code",
    "executionInfo": {
     "elapsed": 35929,
     "status": "ok",
     "timestamp": 1575021336266,
     "user": {
      "displayName": "Ronald Seoh",
      "photoUrl": "",
      "userId": "10284188050297676522"
     },
     "user_tz": 300
    },
    "id": "BOJA1nXgHSXa",
    "outputId": "e2c1368a-d446-42c6-b971-155962116ceb"
   },
   "outputs": [
    {
     "name": "stdout",
     "output_type": "stream",
     "text": [
      "Python Version: 3.8.0 (v3.8.0:fa919fdf25, Oct 14 2019, 10:23:27) \n",
      "[Clang 6.0 (clang-600.0.57)]\n",
      "NumPy Version: 1.17.4\n",
      "PyTorch Version: 1.4.0a0+328ec54\n",
      "Pyro Version: 1.0.0\n"
     ]
    }
   ],
   "source": [
    "# Third party libraries import\n",
    "import numpy as np\n",
    "import torch\n",
    "import pyro\n",
    "import matplotlib.pyplot as plt\n",
    "\n",
    "# Print version information\n",
    "print(\"Python Version: \" + sys.version)\n",
    "print(\"NumPy Version: \" + np.__version__)\n",
    "print(\"PyTorch Version: \" + torch.__version__)\n",
    "print(\"Pyro Version: \" + pyro.__version__)"
   ]
  },
  {
   "cell_type": "code",
   "execution_count": 3,
   "metadata": {
    "colab": {
     "base_uri": "https://localhost:8080/",
     "height": 86
    },
    "colab_type": "code",
    "executionInfo": {
     "elapsed": 44842,
     "status": "ok",
     "timestamp": 1575021345196,
     "user": {
      "displayName": "Ronald Seoh",
      "photoUrl": "",
      "userId": "10284188050297676522"
     },
     "user_tz": 300
    },
    "id": "BOIqWi_wHSXi",
    "outputId": "b658d6b3-5990-4d42-f71e-f8cbff718437"
   },
   "outputs": [],
   "source": [
    "# More imports...\n",
    "from torch import nn, optim\n",
    "from torch.utils.data import random_split, DataLoader, RandomSampler\n",
    "import torchvision\n",
    "import torchvision.transforms as transforms\n",
    "from pyro.infer import SVI, Trace_ELBO, HMC, MCMC\n",
    "\n",
    "# Import model and dataset classes from ronald_bdl\n",
    "from ronald_bdl import models, datasets\n",
    "\n",
    "# pyplot setting\n",
    "%matplotlib inline\n",
    "\n",
    "# torch.device / CUDA Setup\n",
    "use_cuda = True\n",
    "\n",
    "if use_cuda and torch.cuda.is_available():\n",
    "    torch_device = torch.device('cuda')\n",
    "\n",
    "    torch.backends.cudnn.deterministic = True\n",
    "    # Disable 'benchmark' mode\n",
    "    # Note: https://discuss.pytorch.org/t/what-does-torch-backends-cudnn-benchmark-do/5936\n",
    "    torch.backends.cudnn.benchmark = False\n",
    "    use_pin_memory = True # Faster Host to GPU copies with page-locked memory\n",
    "\n",
    "    # CUDA libraries version information\n",
    "    print(\"CUDA Version: \" + str(torch.version.cuda))\n",
    "    print(\"cuDNN Version: \" + str(torch.backends.cudnn.version()))\n",
    "    print(\"CUDA Device Name: \" + str(torch.cuda.get_device_name()))\n",
    "    print(\"CUDA Capabilities: \"+ str(torch.cuda.get_device_capability()))\n",
    "else:\n",
    "    torch_device = torch.device('cpu')\n",
    "    use_pin_memory = False"
   ]
  },
  {
   "cell_type": "markdown",
   "metadata": {
    "colab_type": "text",
    "id": "XIFRoH3AcJZn"
   },
   "source": [
    "### Toy dataset settings"
   ]
  },
  {
   "cell_type": "code",
   "execution_count": 4,
   "metadata": {
    "colab": {},
    "colab_type": "code",
    "id": "g_pzGq1_cJZp"
   },
   "outputs": [],
   "source": [
    "\"\"\"\n",
    "Toy dataset generation based on the experiment from \n",
    "the Probabilstic Backpropagation paper (Hernandez-Lobato & Adams, 2015)\n",
    "\"\"\"\n",
    "\n",
    "# Random seed for toy dataset\n",
    "dataset_toy_random_seed = 691\n",
    "\n",
    "# Toy dataset size\n",
    "dataset_toy_size = 20\n",
    "\n",
    "# Toy dataset x distribution (uniform) parameters\n",
    "dataset_toy_x_low = -4\n",
    "dataset_toy_x_high = 4\n",
    "\n",
    "# Toy dataset y distribution (normal with noise)\n",
    "dataset_toy_y_mean = 0\n",
    "dataset_toy_y_std = 9"
   ]
  },
  {
   "cell_type": "markdown",
   "metadata": {
    "colab_type": "text",
    "id": "Kdi_LQ7sspvM"
   },
   "source": [
    "### MC dropout parameters"
   ]
  },
  {
   "cell_type": "code",
   "execution_count": 5,
   "metadata": {
    "colab": {},
    "colab_type": "code",
    "id": "0ys_GAWtHSX4"
   },
   "outputs": [],
   "source": [
    "\"\"\"\n",
    "MC Dropout related\n",
    "\"\"\"\n",
    "\n",
    "# Dropout rate\n",
    "dropout_rate = 0.5\n",
    "\n",
    "# L2 regularization strength\n",
    "reg_strength = 0\n",
    "\n",
    "# Epochs\n",
    "n_epochs = 400\n",
    "\n",
    "# Optimizer learning rate\n",
    "learning_rate = 0.01\n",
    "\n",
    "# Loss function type\n",
    "loss_function_type = 'mse_loss'\n",
    "\n",
    "# Number of test predictions (for each data point)\n",
    "n_predictions = 1000"
   ]
  },
  {
   "cell_type": "markdown",
   "metadata": {
    "colab_type": "text",
    "id": "DNGDKiltsux3"
   },
   "source": [
    "### Directory path to save results"
   ]
  },
  {
   "cell_type": "code",
   "execution_count": 6,
   "metadata": {
    "colab": {},
    "colab_type": "code",
    "id": "9ysu9G0FHSX-"
   },
   "outputs": [],
   "source": [
    "# Test start time\n",
    "test_start_time = datetime.datetime.today().strftime('%Y%m%d%H%M')\n",
    "\n",
    "# Directory to store the results for this experiment\n",
    "test_results_path = os.path.join(\n",
    "    './test_results',\n",
    "    'comparison_toy',\n",
    "    (\n",
    "        test_start_time \n",
    "        + '_' + str(n_epochs) \n",
    "        + '_' + str(dropout_rate) \n",
    "        + '_' + str(reg_strength) \n",
    "        + '_' + str(loss_function_type) \n",
    "        + '_' + str(n_predictions))\n",
    ")\n",
    "\n",
    "# Create the directory if it doesn't exist\n",
    "os.makedirs(test_results_path, exist_ok=True)"
   ]
  },
  {
   "cell_type": "markdown",
   "metadata": {
    "colab_type": "text",
    "id": "sZwe_f-yVFIf"
   },
   "source": [
    "## Prepare data"
   ]
  },
  {
   "cell_type": "markdown",
   "metadata": {
    "colab_type": "text",
    "id": "eEfdrHcOVFIj"
   },
   "source": [
    "### Get the data as a torch Dataset object"
   ]
  },
  {
   "cell_type": "code",
   "execution_count": 7,
   "metadata": {
    "colab": {
     "base_uri": "https://localhost:8080/",
     "height": 34
    },
    "colab_type": "code",
    "executionInfo": {
     "elapsed": 51278,
     "status": "ok",
     "timestamp": 1575021351670,
     "user": {
      "displayName": "Ronald Seoh",
      "photoUrl": "",
      "userId": "10284188050297676522"
     },
     "user_tz": 300
    },
    "id": "5u5qU-9JVFIr",
    "outputId": "480ccb60-6d74-46ec-dc61-e7689ebdb300"
   },
   "outputs": [
    {
     "name": "stdout",
     "output_type": "stream",
     "text": [
      "dataset size = (20, 1)\n"
     ]
    }
   ],
   "source": [
    "dataset = datasets.ToyDatasets(\n",
    "    random_seed=dataset_toy_random_seed,\n",
    "    n_samples=dataset_toy_size,\n",
    "    x_low=dataset_toy_x_low,\n",
    "    x_high=dataset_toy_x_high,\n",
    "    y_mean=dataset_toy_y_mean,\n",
    "    y_std=dataset_toy_y_std,\n",
    ")\n",
    "\n",
    "# Get the test data\n",
    "X_test = torch.linspace(dataset_toy_x_low, dataset_toy_x_high, 100).reshape(100, 1)\n",
    "\n",
    "# Send it to the memory of the device to be used for training\n",
    "X_test = X_test.to(torch_device)\n",
    "\n",
    "# Save a copy at CPU for plotting\n",
    "X_test_cpu = X_test.cpu()\n",
    "\n",
    "# Print the size of the training set\n",
    "print(\"dataset size = \" + str((len(dataset), dataset.n_features)))"
   ]
  },
  {
   "cell_type": "markdown",
   "metadata": {
    "colab_type": "text",
    "id": "LaasFWpqVFJ1"
   },
   "source": [
    "## Declare models"
   ]
  },
  {
   "cell_type": "code",
   "execution_count": 8,
   "metadata": {
    "colab": {},
    "colab_type": "code",
    "id": "gAqkGtg7VFJ9"
   },
   "outputs": [],
   "source": [
    "uncertainty_methods = {}\n",
    "\n",
    "# MC (Bernoulli) dropout\n",
    "do_mc_dropout = True\n",
    "\n",
    "if do_mc_dropout:\n",
    "    uncertainty_methods['mc_dropout'] = models.FCNetMCDropout(\n",
    "        input_dim=dataset.n_features, \n",
    "        output_dim=dataset.n_targets,\n",
    "        hidden_dim=100,\n",
    "        n_hidden=0,\n",
    "        dropout_rate=dropout_rate,\n",
    "        dropout_type='bernoulli',\n",
    "    )\n",
    "\n",
    "# Vanilla Variational Inference\n",
    "do_vi = False\n",
    "\n",
    "if do_vi:\n",
    "    uncertainty_methods['vi'] = models.FCNetPyro(\n",
    "        input_dim=dataset.n_features, \n",
    "        output_dim=dataset.n_targets,\n",
    "        hidden_dim=100,\n",
    "        n_hidden=0,\n",
    "        torch_device=torch_device,\n",
    "    )\n",
    "\n",
    "# HMC (NUTS)\n",
    "do_hmc = False\n",
    "\n",
    "if do_hmc:\n",
    "    uncertainty_methods['hmc'] = models.FCNetPyro(\n",
    "        input_dim=dataset.n_features, \n",
    "        output_dim=dataset.n_targets,\n",
    "        hidden_dim=100,\n",
    "        n_hidden=0,\n",
    "        torch_device=torch_device,\n",
    "    )"
   ]
  },
  {
   "cell_type": "markdown",
   "metadata": {
    "colab_type": "text",
    "id": "1PpzPMI8VFKE"
   },
   "source": [
    "## Train the models"
   ]
  },
  {
   "cell_type": "markdown",
   "metadata": {
    "colab_type": "text",
    "id": "Jc7Td1h1VFKb"
   },
   "source": [
    "### Train/test the model"
   ]
  },
  {
   "cell_type": "code",
   "execution_count": 9,
   "metadata": {
    "colab": {
     "base_uri": "https://localhost:8080/",
     "height": 903
    },
    "colab_type": "code",
    "executionInfo": {
     "elapsed": 1213641,
     "status": "ok",
     "timestamp": 1575022514055,
     "user": {
      "displayName": "Ronald Seoh",
      "photoUrl": "",
      "userId": "10284188050297676522"
     },
     "user_tz": 300
    },
    "id": "m4kavCiTVFKf",
    "outputId": "6731cdaf-71b9-4709-fd78-45fb2b335a05",
    "scrolled": false
   },
   "outputs": [
    {
     "name": "stdout",
     "output_type": "stream",
     "text": [
      "Now running mc_dropout\n",
      "FCNetMCDropout(\n",
      "  (input): ModuleDict(\n",
      "    (dropout): Dropout(p=0.5, inplace=False)\n",
      "    (linear): Linear(in_features=1, out_features=100, bias=True)\n",
      "    (relu): ReLU()\n",
      "  )\n",
      "  (output): ModuleDict(\n",
      "    (dropout): Dropout(p=0.5, inplace=False)\n",
      "    (linear): Linear(in_features=100, out_features=1, bias=True)\n",
      "  )\n",
      ")\n",
      "\n",
      "[iteration 0001] loss: 585.1468\n",
      "[iteration 0101] loss: 388.2412\n",
      "[iteration 0201] loss: 243.4498\n",
      "[iteration 0301] loss: 450.8818\n",
      "final loss = tensor(98.0749, grad_fn=<MseLossBackward>)\n",
      "training time = 1.1610167026519775 seconds\n",
      "\n"
     ]
    }
   ],
   "source": [
    "for key, network in uncertainty_methods.items():\n",
    "    # Reset the random number generator for each method (to produce identical results)\n",
    "    torch.manual_seed(random_seed)\n",
    "    np.random.seed(random_seed)\n",
    "    pyro.set_rng_seed(random_seed)\n",
    "    \n",
    "    # Print the method name\n",
    "    print(\"Now running \" + str(key))\n",
    "    \n",
    "    # Send the whole model to the selected torch.device\n",
    "    network.to(torch_device)\n",
    "\n",
    "    # Print the network structure\n",
    "    print(network)\n",
    "    print()\n",
    "\n",
    "    # Initialize training data loader\n",
    "    train_loader = DataLoader(dataset, batch_size=128)\n",
    "    \n",
    "    \"\"\"\n",
    "    Optimizer Setup\n",
    "    \"\"\"\n",
    "\n",
    "    if isinstance(network, models.FCNetMCDropout):\n",
    "        # Adam optimizer\n",
    "        # https://pytorch.org/docs/stable/optim.html?highlight=adam#torch.optim.Adam\n",
    "        # NOTE: Need to set L2 regularization from here\n",
    "        optimizer = torch.optim.Adam(\n",
    "            network.parameters(),\n",
    "            lr=learning_rate,\n",
    "            weight_decay=reg_strength, # L2 regularization\n",
    "        )\n",
    "\n",
    "        # Mean Squared Error for loss function to minimize\n",
    "        objective = torch.nn.MSELoss()\n",
    "\n",
    "    elif isinstance(network, models.FCNetPyro):\n",
    "        # Clear everything in Pyro parameter storage\n",
    "        # Looks like this parameter store would be globally shared across\n",
    "        # models in the same Python instance.\n",
    "        pyro.clear_param_store()\n",
    "\n",
    "        # Force all the PyTorch tensors to be CUDA tensors if available\n",
    "        if use_cuda and torch.cuda.is_available():\n",
    "            torch.set_default_tensor_type(torch.cuda.FloatTensor)\n",
    "\n",
    "        # Different optimizers for VI and HMC\n",
    "        if key == 'vi':\n",
    "            optimizer = pyro.optim.Adam({\"lr\": 0.001})\n",
    "            svi = SVI(network, network.guide, optimizer, loss=Trace_ELBO())\n",
    "        elif key == 'hmc':\n",
    "            kernel = HMC(network)\n",
    "            mcmc = MCMC(kernel, num_samples=10000)\n",
    "\n",
    "    \"\"\"\n",
    "    Training\n",
    "    \"\"\"\n",
    "\n",
    "    # Model to train mode\n",
    "    network.train()\n",
    "\n",
    "    # Record training start time (for this method)\n",
    "    tic = time.time()\n",
    "    \n",
    "    if key == 'hmc':\n",
    "        # to() actually returns new Tensor; need to replace with that return\n",
    "        dataset.data_x = dataset.data_x.to(torch_device)\n",
    "\n",
    "        dataset.data_y = dataset.data_y.to(torch_device)\n",
    "\n",
    "        mcmc.run(dataset.data_x, dataset.data_y)\n",
    "    else:\n",
    "        for epoch in range(n_epochs): # loop over the dataset multiple times\n",
    "\n",
    "            for i, data in enumerate(train_loader):\n",
    "                # get the inputs; data is a list of [inputs, labels]\n",
    "                inputs, targets = data\n",
    "\n",
    "                # Store the batch to torch_device's memory\n",
    "                # to() actually returns new Tensor; need to replace with that return\n",
    "                inputs = inputs.to(torch_device)\n",
    "                targets = targets.to(torch_device)\n",
    "\n",
    "                if isinstance(network, models.FCNetMCDropout):\n",
    "                    # zero the parameter gradients\n",
    "                    optimizer.zero_grad()\n",
    "\n",
    "                    # forward + backward + optimize\n",
    "                    outputs = network(inputs)\n",
    "\n",
    "                    if loss_function_type in ('test_ll_mc', 'rmse_mc'):\n",
    "                        _, _, _, metrics = network.predict_dist(\n",
    "                            inputs, n_predictions, y_test=targets, reg_strength=reg_strength)\n",
    "\n",
    "                        if loss_function_type == 'test_ll_mc':\n",
    "                            total_loss = -(metrics[loss_function_type])\n",
    "                    else:\n",
    "                        total_loss = objective(outputs, targets)\n",
    "\n",
    "                    total_loss.backward()\n",
    "\n",
    "                    optimizer.step()\n",
    "\n",
    "                elif isinstance(network, models.FCNetPyro):\n",
    "                    pyro.clear_param_store()\n",
    "                    # calculate the loss and take a gradient step\n",
    "                    total_loss = svi.step(inputs, targets)\n",
    "\n",
    "            if epoch % 100 == 0:\n",
    "                print(\"[iteration %04d] loss: %.4f\" % (epoch + 1, total_loss))\n",
    "            \n",
    "    # Record training end time\n",
    "    toc = time.time()\n",
    "\n",
    "    # Report the final loss\n",
    "    print(\"final loss = \" + str(total_loss))            \n",
    "\n",
    "    # Report the total training time\n",
    "    print(\"training time = \" + str(toc - tic) + \" seconds\")\n",
    "    \n",
    "    print()"
   ]
  },
  {
   "cell_type": "markdown",
   "metadata": {
    "colab_type": "text",
    "id": "xrknIU5UWv-v"
   },
   "source": [
    "## Plot the results"
   ]
  },
  {
   "cell_type": "code",
   "execution_count": 10,
   "metadata": {
    "colab": {
     "base_uri": "https://localhost:8080/",
     "height": 1000
    },
    "colab_type": "code",
    "executionInfo": {
     "elapsed": 20586,
     "status": "ok",
     "timestamp": 1575024185652,
     "user": {
      "displayName": "Ronald Seoh",
      "photoUrl": "",
      "userId": "10284188050297676522"
     },
     "user_tz": 300
    },
    "id": "ymmG2nxTHSYq",
    "outputId": "bad750f8-6180-4e17-8cfc-21b92fe8c524",
    "scrolled": false
   },
   "outputs": [
    {
     "name": "stdout",
     "output_type": "stream",
     "text": [
      "testing time = 0.6954421997070312 seconds\n",
      "\n",
      "Mean = tensor([-21.2210, -21.5186, -20.1808, -20.9504, -19.3248, -18.4921, -17.2775,\n",
      "        -16.4674, -14.8336, -15.4459, -14.5476, -13.4173, -14.1880, -12.3524,\n",
      "        -11.9045, -11.2069, -10.4447,  -9.9768,  -9.0562,  -8.8073,  -7.7723,\n",
      "         -7.5315,  -6.5990,  -6.0777,  -5.1609,  -4.8353,  -4.1545,  -4.0060,\n",
      "         -3.6572,  -2.9746,  -2.6542,  -2.4266,  -1.9233,  -1.7372,  -1.5166,\n",
      "         -1.3716,  -1.2154,  -1.0200,  -0.9415,  -0.8360,  -0.7091,  -0.5935,\n",
      "         -0.5170,  -0.3474,  -0.2593,  -0.1246,  -0.0474,   0.0854,   0.1788,\n",
      "          0.3366,   0.4351,   0.5371,   0.6734,   0.7806,   0.9581,   0.9986,\n",
      "          1.0237,   1.1499,   1.3299,   1.5287,   1.6253,   1.7375,   1.8348,\n",
      "          2.0881,   2.2283,   2.3618,   2.4825,   2.6288,   2.9482,   3.2570,\n",
      "          3.2539,   3.1635,   3.5497,   4.0796,   4.2628,   4.5866,   4.6740,\n",
      "          5.7068,   6.3853,   6.8918,   7.8289,   8.9580,   9.7718,  10.5133,\n",
      "         11.0758,  12.1654,  12.8705,  12.9761,  15.2176,  15.0428,  15.8438,\n",
      "         16.6755,  18.0044,  17.6116,  17.8251,  19.4637,  20.3944,  20.8880,\n",
      "         23.0476,  22.5742])\n",
      "Variance = tensor([4.8394e+02, 4.5338e+02, 4.3390e+02, 4.0349e+02, 3.7820e+02, 3.5384e+02,\n",
      "        3.1786e+02, 3.0428e+02, 2.7101e+02, 2.5727e+02, 2.3050e+02, 2.0316e+02,\n",
      "        1.9520e+02, 1.7040e+02, 1.5510e+02, 1.3727e+02, 1.2087e+02, 1.0685e+02,\n",
      "        9.1226e+01, 7.9667e+01, 6.6622e+01, 5.7504e+01, 4.6925e+01, 3.9507e+01,\n",
      "        3.1082e+01, 2.5324e+01, 1.9700e+01, 1.5455e+01, 1.2899e+01, 1.0038e+01,\n",
      "        8.2069e+00, 6.5192e+00, 4.8488e+00, 3.9477e+00, 3.0849e+00, 2.4964e+00,\n",
      "        2.0073e+00, 1.6152e+00, 1.2747e+00, 1.1108e+00, 8.5659e-01, 7.1399e-01,\n",
      "        5.9285e-01, 4.1445e-01, 3.5147e-01, 2.8362e-01, 3.0638e-01, 2.3830e-01,\n",
      "        2.9955e-01, 3.7197e-01, 4.0486e-01, 5.3813e-01, 6.5152e-01, 8.5123e-01,\n",
      "        1.1054e+00, 1.3258e+00, 1.5086e+00, 1.7456e+00, 2.1838e+00, 2.5206e+00,\n",
      "        3.0714e+00, 3.4190e+00, 4.1367e+00, 4.6162e+00, 5.2883e+00, 6.0514e+00,\n",
      "        6.9784e+00, 7.5087e+00, 8.9573e+00, 1.0378e+01, 1.1194e+01, 1.2305e+01,\n",
      "        1.4644e+01, 1.6705e+01, 1.9171e+01, 2.3058e+01, 2.6085e+01, 3.3931e+01,\n",
      "        4.2755e+01, 5.2526e+01, 6.1502e+01, 7.7127e+01, 9.2422e+01, 1.0794e+02,\n",
      "        1.2966e+02, 1.4239e+02, 1.6788e+02, 1.8740e+02, 2.1281e+02, 2.4020e+02,\n",
      "        2.6179e+02, 2.9392e+02, 3.3450e+02, 3.6431e+02, 3.8096e+02, 4.2290e+02,\n",
      "        4.5492e+02, 5.0544e+02, 5.3939e+02, 5.7012e+02])\n"
     ]
    },
    {
     "data": {
      "image/png": "[encoded data removed]",
      "text/plain": [
       "<Figure size 432x288 with 1 Axes>"
      ]
     },
     "metadata": {
      "needs_background": "light"
     },
     "output_type": "display_data"
    }
   ],
   "source": [
    "for key, network in uncertainty_methods.items():\n",
    "\n",
    "    \"\"\"\n",
    "    Testing\n",
    "    \"\"\"\n",
    "\n",
    "    # Model to eval mode\n",
    "    network.eval()\n",
    "\n",
    "    # Record testing start time (for this split)\n",
    "    tic_testing = time.time()\n",
    "    \n",
    "    predictions_non_mc = network(X_test)\n",
    "\n",
    "    predictions, mean, var, metrics = network.predict_dist(X_test, n_predictions)\n",
    "    \n",
    "    # Record testing end time\n",
    "    toc_testing = time.time()\n",
    "    \n",
    "    # Report the total testing time\n",
    "    print(\"testing time = \" + str(toc_testing - tic_testing) + \" seconds\")\n",
    "\n",
    "    # These can now be stored in CPU memory for plotting\n",
    "    predictions_non_mc = predictions_non_mc.cpu()\n",
    "    predictions = predictions.cpu()\n",
    "    mean = mean.cpu()\n",
    "    var = var.cpu()\n",
    "    \n",
    "    \"\"\"\n",
    "    Print results\n",
    "    \"\"\"\n",
    "\n",
    "    print()\n",
    "    print(\"Mean = \" + str(mean.flatten()))\n",
    "    print(\"Variance = \" + str(var.flatten()))\n",
    "    \n",
    "    # store additional metrics\n",
    "    if len(metrics) > 0:\n",
    "        for key, value in metrics.items():\n",
    "            print(str(key) + \" = \" + str(value))\n",
    "        print()\n",
    "             \n",
    "    # Plot the uncertainty measured by each methods\n",
    "    plt.figure()\n",
    "    \n",
    "    # Fix the scales of x-axis and y-axis\n",
    "    plt.xlim(dataset_toy_x_low, dataset_toy_x_high)\n",
    "    plt.ylim(dataset_toy_y_mean-2*dataset_toy_y_std, dataset_toy_y_mean+2*dataset_toy_y_std)\n",
    "\n",
    "    # Distributions around the predictions\n",
    "    plt.fill_between(\n",
    "        X_test_cpu.flatten(), \n",
    "        (mean.detach().numpy() - 2*torch.sqrt(var).detach().numpy()).flatten(),\n",
    "        (mean.detach().numpy() + 2*torch.sqrt(var).detach().numpy()).flatten(),\n",
    "        color='lightblue', alpha=0.8)\n",
    "\n",
    "    # Train data\n",
    "    plt.plot(dataset.data_x.cpu(), dataset.data_y.cpu(), 'or', label='Training data', alpha=0.3)\n",
    "\n",
    "    # Non-MC prediction\n",
    "    plt.plot(X_test_cpu, predictions_non_mc.detach().numpy(), 'green', label='non-MC prediction', alpha=0.6)    \n",
    "    \n",
    "    # MC prediction\n",
    "    plt.plot(X_test_cpu, mean.detach().numpy(), 'blue', label='mean prediction', alpha=0.35)\n",
    "    \n",
    "    # Original data generating function without noise\n",
    "    plt.plot(X_test_cpu, X_test_cpu ** 3, 'gray', label='data generating function')    \n",
    "    \n",
    "    plt.legend()\n",
    "    \n",
    "    plt.savefig(os.path.join(test_results_path, str(key) + '.png'), dpi=600)\n",
    "    \n",
    "    plt.show()"
   ]
  },
  {
   "cell_type": "code",
   "execution_count": null,
   "metadata": {
    "colab": {},
    "colab_type": "code",
    "id": "5m01dZ0dHSYw"
   },
   "outputs": [],
   "source": []
  }
 ],
 "metadata": {
  "accelerator": "GPU",
  "colab": {
   "collapsed_sections": [
    "Bka_bK83VFHh",
    "eEfdrHcOVFIj"
   ],
   "name": "experiment_comparison_toy.ipynb",
   "provenance": []
  },
  "kernelspec": {
   "display_name": "Python 3",
   "language": "python",
   "name": "python3"
  },
  "language_info": {
   "codemirror_mode": {
    "name": "ipython",
    "version": 3
   },
   "file_extension": ".py",
   "mimetype": "text/x-python",
   "name": "python",
   "nbconvert_exporter": "python",
   "pygments_lexer": "ipython3",
   "version": "3.8.0"
  }
 },
 "nbformat": 4,
 "nbformat_minor": 1
}
