{
 "cells": [
  {
   "cell_type": "markdown",
   "metadata": {
    "colab_type": "text",
    "id": "Bka_bK83VFHh"
   },
   "source": [
    "## Experiment Setup"
   ]
  },
  {
   "cell_type": "markdown",
   "metadata": {
    "colab_type": "text",
    "id": "8D5NSPs_cJZe"
   },
   "source": [
    "###  Random seed / Colab / CUDA related"
   ]
  },
  {
   "cell_type": "code",
   "execution_count": 1,
   "metadata": {
    "colab": {
     "base_uri": "https://localhost:8080/",
     "height": 592
    },
    "colab_type": "code",
    "executionInfo": {
     "elapsed": 32214,
     "status": "ok",
     "timestamp": 1575021332527,
     "user": {
      "displayName": "Ronald Seoh",
      "photoUrl": "",
      "userId": "10284188050297676522"
     },
     "user_tz": 300
    },
    "id": "pHbfpytEVFHu",
    "outputId": "7913f72d-859c-477f-90b8-6c37e04f5759"
   },
   "outputs": [],
   "source": [
    "import time\n",
    "import datetime\n",
    "import os\n",
    "import sys\n",
    "import itertools\n",
    "\n",
    "# Use Google Colab\n",
    "use_colab = True\n",
    "\n",
    "# Is this notebook running on Colab?\n",
    "# If so, then google.colab package (github.com/googlecolab/colabtools)\n",
    "# should be available in this environment\n",
    "\n",
    "# Previous version used importlib, but we could do the same thing with\n",
    "# just attempting to import google.colab\n",
    "try:\n",
    "    from google.colab import drive\n",
    "    colab_available = True\n",
    "except:\n",
    "    colab_available = False\n",
    "\n",
    "if use_colab and colab_available:\n",
    "    drive.mount('/content/drive')\n",
    "    \n",
    "    # If there's a package I need to install separately, do it here\n",
    "    !pip install pyro-ppl\n",
    "    \n",
    "    # Install ronald_bdl package\n",
    "    !pip install git+https://github.com/ronaldseoh/ronald_bdl.git\n",
    "\n",
    "    # cd to the appropriate working directory under my Google Drive\n",
    "    %cd 'drive/My Drive/Colab Notebooks/bayesian-dl-experiments'\n",
    "    \n",
    "    # List the directory contents\n",
    "    !ls\n",
    "\n",
    "# IPython reloading magic\n",
    "%load_ext autoreload\n",
    "%autoreload 2\n",
    "\n",
    "# Random seeds\n",
    "# Based on https://pytorch.org/docs/stable/notes/randomness.html\n",
    "random_seed = 682"
   ]
  },
  {
   "cell_type": "markdown",
   "metadata": {
    "colab_type": "text",
    "id": "L8udq6NnHSXW"
   },
   "source": [
    "### Third party libraries (NumPy, PyTorch, Pyro)"
   ]
  },
  {
   "cell_type": "code",
   "execution_count": 2,
   "metadata": {
    "colab": {
     "base_uri": "https://localhost:8080/",
     "height": 104
    },
    "colab_type": "code",
    "executionInfo": {
     "elapsed": 35929,
     "status": "ok",
     "timestamp": 1575021336266,
     "user": {
      "displayName": "Ronald Seoh",
      "photoUrl": "",
      "userId": "10284188050297676522"
     },
     "user_tz": 300
    },
    "id": "BOJA1nXgHSXa",
    "outputId": "e2c1368a-d446-42c6-b971-155962116ceb"
   },
   "outputs": [
    {
     "name": "stdout",
     "output_type": "stream",
     "text": [
      "Python Version: 3.8.0 (v3.8.0:fa919fdf25, Oct 14 2019, 10:23:27) \n",
      "[Clang 6.0 (clang-600.0.57)]\n",
      "NumPy Version: 1.17.4\n",
      "PyTorch Version: 1.4.0a0+328ec54\n",
      "Pyro Version: 1.0.0\n"
     ]
    }
   ],
   "source": [
    "# Third party libraries import\n",
    "import numpy as np\n",
    "import torch\n",
    "import pyro\n",
    "import matplotlib.pyplot as plt\n",
    "import tqdm\n",
    "\n",
    "# Print version information\n",
    "print(\"Python Version: \" + sys.version)\n",
    "print(\"NumPy Version: \" + np.__version__)\n",
    "print(\"PyTorch Version: \" + torch.__version__)\n",
    "print(\"Pyro Version: \" + pyro.__version__)"
   ]
  },
  {
   "cell_type": "code",
   "execution_count": 3,
   "metadata": {
    "colab": {
     "base_uri": "https://localhost:8080/",
     "height": 86
    },
    "colab_type": "code",
    "executionInfo": {
     "elapsed": 44842,
     "status": "ok",
     "timestamp": 1575021345196,
     "user": {
      "displayName": "Ronald Seoh",
      "photoUrl": "",
      "userId": "10284188050297676522"
     },
     "user_tz": 300
    },
    "id": "BOIqWi_wHSXi",
    "outputId": "b658d6b3-5990-4d42-f71e-f8cbff718437"
   },
   "outputs": [],
   "source": [
    "# More imports...\n",
    "from torch import nn, optim\n",
    "from torch.utils.data import random_split, DataLoader, RandomSampler\n",
    "import torchvision\n",
    "import torchvision.transforms as transforms\n",
    "from pyro.infer import SVI, Trace_ELBO, HMC, MCMC\n",
    "\n",
    "# Import model and dataset classes from ronald_bdl\n",
    "from ronald_bdl import models, datasets\n",
    "from ronald_bdl.models import utils\n",
    "\n",
    "# pyplot setting\n",
    "%matplotlib inline\n",
    "\n",
    "# torch.device / CUDA Setup\n",
    "use_cuda = True\n",
    "\n",
    "if use_cuda and torch.cuda.is_available():\n",
    "    torch_device = torch.device('cuda')\n",
    "\n",
    "    torch.backends.cudnn.deterministic = True\n",
    "    # Disable 'benchmark' mode\n",
    "    # Note: https://discuss.pytorch.org/t/what-does-torch-backends-cudnn-benchmark-do/5936\n",
    "    torch.backends.cudnn.benchmark = False\n",
    "    use_pin_memory = True # Faster Host to GPU copies with page-locked memory\n",
    "\n",
    "    # CUDA libraries version information\n",
    "    print(\"CUDA Version: \" + str(torch.version.cuda))\n",
    "    print(\"cuDNN Version: \" + str(torch.backends.cudnn.version()))\n",
    "    print(\"CUDA Device Name: \" + str(torch.cuda.get_device_name()))\n",
    "    print(\"CUDA Capabilities: \"+ str(torch.cuda.get_device_capability()))\n",
    "else:\n",
    "    torch_device = torch.device('cpu')\n",
    "    use_pin_memory = False"
   ]
  },
  {
   "cell_type": "markdown",
   "metadata": {
    "colab_type": "text",
    "id": "XIFRoH3AcJZn"
   },
   "source": [
    "### Toy dataset settings"
   ]
  },
  {
   "cell_type": "code",
   "execution_count": 4,
   "metadata": {
    "colab": {},
    "colab_type": "code",
    "id": "g_pzGq1_cJZp"
   },
   "outputs": [],
   "source": [
    "\"\"\"\n",
    "Toy dataset generation based on the experiment from \n",
    "the Probabilstic Backpropagation paper (Hernandez-Lobato & Adams, 2015)\n",
    "\"\"\"\n",
    "\n",
    "# Random seed for toy dataset\n",
    "dataset_toy_random_seed = 691\n",
    "\n",
    "# Toy dataset size\n",
    "dataset_toy_size = 20\n",
    "\n",
    "# Toy dataset x distribution (uniform) parameters\n",
    "dataset_toy_x_low = -4\n",
    "dataset_toy_x_high = 4\n",
    "\n",
    "# Toy dataset y distribution (normal with noise)\n",
    "dataset_toy_y_mean = 0\n",
    "dataset_toy_y_std = 9"
   ]
  },
  {
   "cell_type": "markdown",
   "metadata": {
    "colab_type": "text",
    "id": "Kdi_LQ7sspvM"
   },
   "source": [
    "### MC dropout parameters"
   ]
  },
  {
   "cell_type": "code",
   "execution_count": 5,
   "metadata": {
    "colab": {},
    "colab_type": "code",
    "id": "0ys_GAWtHSX4"
   },
   "outputs": [
    {
     "name": "stdout",
     "output_type": "stream",
     "text": [
      "reg_strength = tensor(9.0000e-06)\n"
     ]
    }
   ],
   "source": [
    "\"\"\"\n",
    "MC Dropout related\n",
    "\"\"\"\n",
    "\n",
    "# Dropout rate\n",
    "dropout_rate = 0.1\n",
    "\n",
    "# Length scale\n",
    "length_scale = 1e-2\n",
    "\n",
    "# tau\n",
    "tau = 0.25\n",
    "\n",
    "# reg strength\n",
    "reg_strength = utils.reg_strength(dropout_rate, length_scale, dataset_toy_size, tau)\n",
    "\n",
    "print('reg_strength = ' + str(reg_strength))\n",
    "\n",
    "# Epochs\n",
    "n_epochs = 10000\n",
    "\n",
    "# Optimizer learning rate\n",
    "learning_rate = 0.001\n",
    "\n",
    "# Loss function type\n",
    "loss_function_type = 'log_gaussian_loss'\n",
    "\n",
    "# Number of test predictions (for each data point)\n",
    "n_predictions = 1000"
   ]
  },
  {
   "cell_type": "markdown",
   "metadata": {
    "colab_type": "text",
    "id": "DNGDKiltsux3"
   },
   "source": [
    "### Directory path to save results"
   ]
  },
  {
   "cell_type": "code",
   "execution_count": 6,
   "metadata": {
    "colab": {},
    "colab_type": "code",
    "id": "9ysu9G0FHSX-"
   },
   "outputs": [],
   "source": [
    "# Test start time\n",
    "test_start_time = datetime.datetime.today().strftime('%Y%m%d%H%M')\n",
    "\n",
    "# Directory to store the results for this experiment\n",
    "test_results_path = os.path.join(\n",
    "    './test_results',\n",
    "    'comparison_toy',\n",
    "    (\n",
    "        test_start_time \n",
    "        + '_' + str(n_epochs) \n",
    "        + '_' + str(dropout_rate) \n",
    "        + '_' + str(length_scale)\n",
    "        + '_' + str(tau)\n",
    "        + '_' + str(loss_function_type) \n",
    "        + '_' + str(n_predictions))\n",
    ")\n",
    "\n",
    "# Create the directory if it doesn't exist\n",
    "os.makedirs(test_results_path, exist_ok=True)"
   ]
  },
  {
   "cell_type": "markdown",
   "metadata": {
    "colab_type": "text",
    "id": "sZwe_f-yVFIf"
   },
   "source": [
    "## Prepare data"
   ]
  },
  {
   "cell_type": "markdown",
   "metadata": {
    "colab_type": "text",
    "id": "eEfdrHcOVFIj"
   },
   "source": [
    "### Get the data as a torch Dataset object"
   ]
  },
  {
   "cell_type": "code",
   "execution_count": 7,
   "metadata": {
    "colab": {
     "base_uri": "https://localhost:8080/",
     "height": 34
    },
    "colab_type": "code",
    "executionInfo": {
     "elapsed": 51278,
     "status": "ok",
     "timestamp": 1575021351670,
     "user": {
      "displayName": "Ronald Seoh",
      "photoUrl": "",
      "userId": "10284188050297676522"
     },
     "user_tz": 300
    },
    "id": "5u5qU-9JVFIr",
    "outputId": "480ccb60-6d74-46ec-dc61-e7689ebdb300"
   },
   "outputs": [
    {
     "name": "stdout",
     "output_type": "stream",
     "text": [
      "dataset size = (20, 1)\n"
     ]
    }
   ],
   "source": [
    "dataset = datasets.ToyDatasets(\n",
    "    random_seed=dataset_toy_random_seed,\n",
    "    n_samples=dataset_toy_size,\n",
    "    x_low=dataset_toy_x_low,\n",
    "    x_high=dataset_toy_x_high,\n",
    "    y_mean=dataset_toy_y_mean,\n",
    "    y_std=dataset_toy_y_std,\n",
    "    inject_additional_noise_x_indexes=list(range(15, 20)),\n",
    "    inject_additional_noise_y_from=0,\n",
    "    inject_additional_noise_y_to=80,\n",
    ")\n",
    "\n",
    "# Get the test data\n",
    "X_test = torch.linspace(dataset_toy_x_low-5, dataset_toy_x_high+5, 100).reshape(100, 1)\n",
    "y_test = torch.pow(X_test, 3)\n",
    "\n",
    "# Send it to the memory of the device to be used for training\n",
    "X_test = X_test.to(torch_device)\n",
    "\n",
    "y_test = y_test.to(torch_device)\n",
    "\n",
    "# Save a copy at CPU for plotting\n",
    "X_test_cpu = X_test.cpu()\n",
    "\n",
    "# Print the size of the training set\n",
    "print(\"dataset size = \" + str((len(dataset), dataset.n_features)))"
   ]
  },
  {
   "cell_type": "markdown",
   "metadata": {
    "colab_type": "text",
    "id": "LaasFWpqVFJ1"
   },
   "source": [
    "## Declare models"
   ]
  },
  {
   "cell_type": "code",
   "execution_count": 8,
   "metadata": {
    "colab": {},
    "colab_type": "code",
    "id": "gAqkGtg7VFJ9"
   },
   "outputs": [],
   "source": [
    "uncertainty_methods = {}\n",
    "\n",
    "# MC (Bernoulli) dropout\n",
    "do_mc_dropout = True\n",
    "\n",
    "if do_mc_dropout:\n",
    "    uncertainty_methods['mc_dropout_relu'] = models.FCNet(\n",
    "        input_dim=dataset.n_features, \n",
    "        output_dim=dataset.n_targets,\n",
    "        hidden_dim=100,\n",
    "        n_hidden=0,\n",
    "        dropout_rate=dropout_rate,\n",
    "        dropout_type='bernoulli',\n",
    "        learn_hetero=True,\n",
    "    )\n",
    "    \n",
    "    uncertainty_methods['mc_dropout_tanh'] = models.FCNet(\n",
    "        input_dim=dataset.n_features, \n",
    "        output_dim=dataset.n_targets,\n",
    "        hidden_dim=100,\n",
    "        n_hidden=0,\n",
    "        dropout_rate=dropout_rate,\n",
    "        dropout_type='bernoulli',\n",
    "        nonlinear_type='tanh',\n",
    "        learn_hetero=True,\n",
    "    )\n",
    "    \n",
    "    uncertainty_methods['mc_dropout_sigmoid'] = models.FCNet(\n",
    "        input_dim=dataset.n_features, \n",
    "        output_dim=dataset.n_targets,\n",
    "        hidden_dim=100,\n",
    "        n_hidden=0,\n",
    "        dropout_rate=dropout_rate,\n",
    "        dropout_type='bernoulli',\n",
    "        nonlinear_type='sigmoid',\n",
    "        learn_hetero=True,\n",
    "    )\n",
    "\n",
    "# Vanilla Variational Inference\n",
    "do_vi = False\n",
    "\n",
    "if do_vi:\n",
    "    uncertainty_methods['vi'] = models.FCNetPyro(\n",
    "        input_dim=dataset.n_features, \n",
    "        output_dim=dataset.n_targets,\n",
    "        hidden_dim=100,\n",
    "        n_hidden=0,\n",
    "        torch_device=torch_device,\n",
    "    )\n",
    "\n",
    "# HMC\n",
    "do_hmc = False\n",
    "\n",
    "if do_hmc:\n",
    "    uncertainty_methods['hmc'] = models.FCNetPyro(\n",
    "        input_dim=dataset.n_features, \n",
    "        output_dim=dataset.n_targets,\n",
    "        hidden_dim=100,\n",
    "        n_hidden=0,\n",
    "        torch_device=torch_device,\n",
    "    )"
   ]
  },
  {
   "cell_type": "markdown",
   "metadata": {
    "colab_type": "text",
    "id": "1PpzPMI8VFKE"
   },
   "source": [
    "## Train the models"
   ]
  },
  {
   "cell_type": "markdown",
   "metadata": {
    "colab_type": "text",
    "id": "Jc7Td1h1VFKb"
   },
   "source": [
    "### Train/test the model"
   ]
  },
  {
   "cell_type": "code",
   "execution_count": 9,
   "metadata": {
    "colab": {
     "base_uri": "https://localhost:8080/",
     "height": 903
    },
    "colab_type": "code",
    "executionInfo": {
     "elapsed": 1213641,
     "status": "ok",
     "timestamp": 1575022514055,
     "user": {
      "displayName": "Ronald Seoh",
      "photoUrl": "",
      "userId": "10284188050297676522"
     },
     "user_tz": 300
    },
    "id": "m4kavCiTVFKf",
    "outputId": "6731cdaf-71b9-4709-fd78-45fb2b335a05",
    "scrolled": false
   },
   "outputs": [
    {
     "name": "stderr",
     "output_type": "stream",
     "text": [
      "[iteration 0001] loss: 66710.0859:   0%|          | 0/10000 [00:00<?, ?it/s]"
     ]
    },
    {
     "name": "stdout",
     "output_type": "stream",
     "text": [
      "Now running mc_dropout_relu\n",
      "FCNet(\n",
      "  (input): ModuleDict(\n",
      "    (dropout): Dropout(p=0.1, inplace=False)\n",
      "    (linear): Linear(in_features=1, out_features=100, bias=True)\n",
      "    (nonlinear): ReLU()\n",
      "  )\n",
      "  (output_noise): Linear(in_features=100, out_features=1, bias=True)\n",
      "  (output): ModuleDict(\n",
      "    (dropout): Dropout(p=0.1, inplace=False)\n",
      "    (linear): Linear(in_features=100, out_features=1, bias=True)\n",
      "  )\n",
      ")\n",
      "\n"
     ]
    },
    {
     "name": "stderr",
     "output_type": "stream",
     "text": [
      "[iteration 10000] loss: 90.7980: 100%|██████████| 10000/10000 [01:06<00:00, 150.37it/s]\n",
      "[iteration 0034] loss: 3624.4331:   0%|          | 18/10000 [00:00<00:57, 174.74it/s]"
     ]
    },
    {
     "name": "stdout",
     "output_type": "stream",
     "text": [
      "final loss = tensor(90.7980, grad_fn=<NegBackward>)\n",
      "training time = 66.51747679710388 seconds\n",
      "\n",
      "Now running mc_dropout_tanh\n",
      "FCNet(\n",
      "  (input): ModuleDict(\n",
      "    (dropout): Dropout(p=0.1, inplace=False)\n",
      "    (linear): Linear(in_features=1, out_features=100, bias=True)\n",
      "    (nonlinear): Tanh()\n",
      "  )\n",
      "  (output_noise): Linear(in_features=100, out_features=1, bias=True)\n",
      "  (output): ModuleDict(\n",
      "    (dropout): Dropout(p=0.1, inplace=False)\n",
      "    (linear): Linear(in_features=100, out_features=1, bias=True)\n",
      "  )\n",
      ")\n",
      "\n"
     ]
    },
    {
     "name": "stderr",
     "output_type": "stream",
     "text": [
      "[iteration 10000] loss: 91.4582: 100%|██████████| 10000/10000 [01:14<00:00, 135.11it/s]\n",
      "[iteration 0035] loss: 1368.2025:   0%|          | 19/10000 [00:00<00:53, 186.02it/s]"
     ]
    },
    {
     "name": "stdout",
     "output_type": "stream",
     "text": [
      "final loss = tensor(91.4582, grad_fn=<NegBackward>)\n",
      "training time = 74.0139389038086 seconds\n",
      "\n",
      "Now running mc_dropout_sigmoid\n",
      "FCNet(\n",
      "  (input): ModuleDict(\n",
      "    (dropout): Dropout(p=0.1, inplace=False)\n",
      "    (linear): Linear(in_features=1, out_features=100, bias=True)\n",
      "    (nonlinear): Sigmoid()\n",
      "  )\n",
      "  (output_noise): Linear(in_features=100, out_features=1, bias=True)\n",
      "  (output): ModuleDict(\n",
      "    (dropout): Dropout(p=0.1, inplace=False)\n",
      "    (linear): Linear(in_features=100, out_features=1, bias=True)\n",
      "  )\n",
      ")\n",
      "\n"
     ]
    },
    {
     "name": "stderr",
     "output_type": "stream",
     "text": [
      "[iteration 10000] loss: 91.0476: 100%|██████████| 10000/10000 [01:04<00:00, 155.76it/s]\n"
     ]
    },
    {
     "name": "stdout",
     "output_type": "stream",
     "text": [
      "final loss = tensor(91.0476, grad_fn=<NegBackward>)\n",
      "training time = 64.20634770393372 seconds\n",
      "\n"
     ]
    }
   ],
   "source": [
    "for key, network in uncertainty_methods.items():\n",
    "    # Reset the random number generator for each method (to produce identical results)\n",
    "    torch.manual_seed(random_seed)\n",
    "    np.random.seed(random_seed)\n",
    "    pyro.set_rng_seed(random_seed)\n",
    "    \n",
    "    # Print the method name\n",
    "    print(\"Now running \" + str(key))\n",
    "    \n",
    "    # Send the whole model to the selected torch.device\n",
    "    network.to(torch_device)\n",
    "\n",
    "    # Print the network structure\n",
    "    print(network)\n",
    "    print()\n",
    "\n",
    "    # Initialize training data loader\n",
    "    train_loader = DataLoader(dataset, batch_size=128)\n",
    "    \n",
    "    \"\"\"\n",
    "    Optimizer Setup\n",
    "    \"\"\"\n",
    "\n",
    "    if isinstance(network, models.FCNet):\n",
    "        # Adam optimizer\n",
    "        # https://pytorch.org/docs/stable/optim.html?highlight=adam#torch.optim.Adam\n",
    "        # NOTE: Need to set L2 regularization from here\n",
    "        optimizer = torch.optim.Adam(\n",
    "            network.parameters(),\n",
    "            lr=learning_rate,\n",
    "            weight_decay=reg_strength, # L2 regularization\n",
    "        )\n",
    "\n",
    "    elif isinstance(network, models.FCNetPyro):\n",
    "        # Clear everything in Pyro parameter storage\n",
    "        # Looks like this parameter store would be globally shared across\n",
    "        # models in the same Python instance.\n",
    "        pyro.clear_param_store()\n",
    "\n",
    "        # Force all the PyTorch tensors to be CUDA tensors if available\n",
    "        if use_cuda and torch.cuda.is_available():\n",
    "            torch.set_default_tensor_type(torch.cuda.FloatTensor)\n",
    "\n",
    "        # Different optimizers for VI and HMC\n",
    "        if key == 'vi':\n",
    "            optimizer = pyro.optim.Adam({\"lr\": 0.01})\n",
    "            svi = SVI(network, network.guide, optimizer, loss=Trace_ELBO())\n",
    "        elif key == 'hmc':\n",
    "            kernel = HMC(network)\n",
    "            mcmc = MCMC(kernel, num_samples=10000)\n",
    "\n",
    "    \"\"\"\n",
    "    Training\n",
    "    \"\"\"\n",
    "\n",
    "    # Model to train mode\n",
    "    network.train()\n",
    "\n",
    "    # Record training start time (for this method)\n",
    "    tic = time.time()\n",
    "    \n",
    "    if key == 'hmc':\n",
    "        # to() actually returns new Tensor; need to replace with that return\n",
    "        dataset.data_x = dataset.data_x.to(torch_device)\n",
    "\n",
    "        dataset.data_y = dataset.data_y.to(torch_device)\n",
    "\n",
    "        mcmc.run(dataset.data_x, dataset.data_y)\n",
    "    else:\n",
    "        progress_bar = tqdm.tqdm(range(n_epochs))\n",
    "\n",
    "        for epoch in progress_bar: # loop over the dataset multiple times\n",
    "\n",
    "            for i, data in enumerate(train_loader):\n",
    "                # get the inputs; data is a list of [inputs, labels]\n",
    "                inputs, targets = data\n",
    "\n",
    "                # Store the batch to torch_device's memory\n",
    "                # to() actually returns new Tensor; need to replace with that return\n",
    "                inputs = inputs.to(torch_device)\n",
    "                targets = targets.to(torch_device)\n",
    "\n",
    "                if isinstance(network, models.FCNet):\n",
    "                    # zero the parameter gradients\n",
    "                    optimizer.zero_grad()\n",
    "\n",
    "                    # forward + backward + optimize\n",
    "                    outputs, noise = network(inputs)\n",
    "\n",
    "                    # Mean Squared Error for loss function to minimize\n",
    "                    if loss_function_type == 'mse_loss':\n",
    "                        total_loss = torch.nn.MSELoss(outputs, targets)\n",
    "                    elif loss_function_type == 'log_gaussian_loss':\n",
    "                        total_loss = utils.log_gaussian_loss(outputs, targets, noise.exp(), 1)\n",
    "\n",
    "                    total_loss.backward()\n",
    "\n",
    "                    optimizer.step()\n",
    "\n",
    "                elif isinstance(network, models.FCNetPyro):\n",
    "                    pyro.clear_param_store()\n",
    "                    # calculate the loss and take a gradient step\n",
    "                    total_loss = svi.step(inputs, targets)\n",
    "\n",
    "            progress_bar.set_description(\"[iteration %04d] loss: %.4f\" % (epoch + 1, total_loss))\n",
    "            \n",
    "    # Record training end time\n",
    "    toc = time.time()\n",
    "\n",
    "    # Report the final loss\n",
    "    print(\"final loss = \" + str(total_loss))            \n",
    "\n",
    "    # Report the total training time\n",
    "    print(\"training time = \" + str(toc - tic) + \" seconds\")\n",
    "    \n",
    "    print()"
   ]
  },
  {
   "cell_type": "markdown",
   "metadata": {
    "colab_type": "text",
    "id": "xrknIU5UWv-v"
   },
   "source": [
    "## Plot the results"
   ]
  },
  {
   "cell_type": "code",
   "execution_count": 10,
   "metadata": {
    "colab": {
     "base_uri": "https://localhost:8080/",
     "height": 1000
    },
    "colab_type": "code",
    "executionInfo": {
     "elapsed": 20586,
     "status": "ok",
     "timestamp": 1575024185652,
     "user": {
      "displayName": "Ronald Seoh",
      "photoUrl": "",
      "userId": "10284188050297676522"
     },
     "user_tz": 300
    },
    "id": "ymmG2nxTHSYq",
    "outputId": "bad750f8-6180-4e17-8cfc-21b92fe8c524",
    "scrolled": false
   },
   "outputs": [
    {
     "name": "stderr",
     "output_type": "stream",
     "text": [
      "/Users/se9/python/00_default/lib/python3.8/site-packages/ronald_bdl/models/fcnet.py:250: UserWarning: To copy construct from a tensor, it is recommended to use sourceTensor.clone().detach() or sourceTensor.clone().detach().requires_grad_(True), rather than torch.tensor(sourceTensor).\n",
      "  reg_strength = torch.tensor(\n",
      "/Users/se9/python/00_default/lib/python3.8/site-packages/ronald_bdl/models/utils.py:38: UserWarning: To copy construct from a tensor, it is recommended to use sourceTensor.clone().detach() or sourceTensor.clone().detach().requires_grad_(True), rather than torch.tensor(sourceTensor).\n",
      "  tau = torch.tensor(\n"
     ]
    },
    {
     "name": "stdout",
     "output_type": "stream",
     "text": [
      "testing time = 0.7314348220825195 seconds\n",
      "\n",
      "Mean = tensor([-133.3767, -126.3640, -126.3519, -125.9468, -121.2061, -117.1299,\n",
      "        -116.5450, -111.6826, -108.6227, -104.3705, -101.2293,  -97.2540,\n",
      "         -95.6454,  -93.3058,  -90.9771,  -85.5713,  -82.1855,  -78.9957,\n",
      "         -76.2822,  -72.2390,  -70.1674,  -66.0611,  -62.1029,  -58.3947,\n",
      "         -54.7024,  -52.7551,  -48.8936,  -45.7279,  -42.7571,  -39.6361,\n",
      "         -36.0119,  -32.6934,  -29.5554,  -25.5411,  -22.4176,  -19.1934,\n",
      "         -15.4228,  -12.0491,   -8.3065,   -4.9035,   -2.0964,   -1.0881,\n",
      "          -0.1437,    0.5830,    1.2753,    2.1120,    2.8395,    3.9163,\n",
      "           4.8433,    5.8827,    7.0185,    8.4617,    9.7910,   10.9509,\n",
      "          12.2556,   13.4390,   14.7718,   15.9889,   17.6928,   18.7679,\n",
      "          20.6361,   22.1081,   23.4680,   24.6329,   26.8607,   29.0521,\n",
      "          30.1363,   31.8087,   33.3228,   35.2906,   36.4560,   38.3870,\n",
      "          39.6254,   41.5423,   42.0454,   44.6505,   46.5978,   48.5591,\n",
      "          49.8173,   52.2956,   53.1426,   53.9282,   57.0898,   58.0187,\n",
      "          59.7666,   62.3261,   62.6514,   66.0990,   65.9984,   66.3672,\n",
      "          67.8500,   69.4106,   73.2796,   74.1443,   75.0340,   77.5515,\n",
      "          80.1384,   81.2906,   81.5130,   83.2504], grad_fn=<ViewBackward>)\n",
      "Variance = tensor([2.2236e+03, 2.5329e+03, 2.0391e+03, 1.6869e+03, 1.6911e+03, 1.6662e+03,\n",
      "        1.3625e+03, 1.4473e+03, 1.3226e+03, 1.3580e+03, 1.2640e+03, 1.2288e+03,\n",
      "        1.0167e+03, 8.8476e+02, 7.5180e+02, 8.5880e+02, 8.1091e+02, 7.4400e+02,\n",
      "        6.4161e+02, 6.2250e+02, 5.0485e+02, 5.1527e+02, 4.9201e+02, 4.5583e+02,\n",
      "        4.1608e+02, 3.1913e+02, 3.0904e+02, 2.6860e+02, 2.1396e+02, 1.7627e+02,\n",
      "        1.5969e+02, 1.2913e+02, 9.6941e+01, 8.9681e+01, 6.0238e+01, 3.8410e+01,\n",
      "        2.8687e+01, 1.6555e+01, 9.2484e+00, 3.2110e+00, 1.0895e+00, 7.6387e-01,\n",
      "        6.4017e-01, 6.7411e-01, 8.7425e-01, 1.2402e+00, 1.6520e+00, 2.2107e+00,\n",
      "        3.7241e+00, 5.4139e+00, 7.3786e+00, 8.2042e+00, 9.8123e+00, 1.4488e+01,\n",
      "        1.7079e+01, 2.1709e+01, 2.4440e+01, 2.9586e+01, 3.0825e+01, 4.5840e+01,\n",
      "        4.6891e+01, 5.7830e+01, 7.3030e+01, 9.1703e+01, 8.9104e+01, 8.3739e+01,\n",
      "        1.1206e+02, 1.1398e+02, 1.3835e+02, 1.3748e+02, 1.6059e+02, 1.7050e+02,\n",
      "        1.9607e+02, 2.0687e+02, 2.6977e+02, 2.4083e+02, 2.4898e+02, 2.4445e+02,\n",
      "        2.8222e+02, 2.6997e+02, 3.1650e+02, 3.8069e+02, 3.3369e+02, 4.0160e+02,\n",
      "        3.9691e+02, 3.7896e+02, 4.8523e+02, 3.7406e+02, 5.0482e+02, 6.0267e+02,\n",
      "        6.4545e+02, 6.6994e+02, 5.7765e+02, 6.3862e+02, 7.1782e+02, 7.0487e+02,\n",
      "        6.4147e+02, 7.3473e+02, 8.5389e+02, 8.7431e+02],\n",
      "       grad_fn=<ViewBackward>)\n",
      "rmse_mc = tensor(228.4801, grad_fn=<SqrtBackward>)\n",
      "rmse_non_mc = tensor(228.3437, grad_fn=<SqrtBackward>)\n",
      "test_ll_mc = tensor(-5817.8364, grad_fn=<MeanBackward0>)\n",
      "\n"
     ]
    },
    {
     "data": {
      "image/png": "[encoded data removed]",
      "text/plain": [
       "<Figure size 432x288 with 1 Axes>"
      ]
     },
     "metadata": {
      "needs_background": "light"
     },
     "output_type": "display_data"
    },
    {
     "name": "stdout",
     "output_type": "stream",
     "text": [
      "testing time = 0.6116840839385986 seconds\n",
      "\n",
      "Mean = tensor([-34.6348, -34.6353, -34.0406, -34.9557, -34.3388, -33.7072, -33.8686,\n",
      "        -34.3653, -34.4472, -34.1708, -33.7747, -33.2352, -33.5791, -33.0857,\n",
      "        -33.4367, -32.3636, -32.2959, -32.2295, -31.7915, -31.2678, -31.3140,\n",
      "        -31.4360, -31.4221, -30.3972, -29.9529, -29.3151, -29.2199, -28.1533,\n",
      "        -27.1464, -26.3051, -25.1494, -23.9618, -21.8830, -20.5835, -18.6180,\n",
      "        -16.0084, -14.1232, -11.8623,  -9.9917,  -8.2568,  -6.5295,  -5.1953,\n",
      "         -3.8200,  -2.5723,  -1.3397,  -0.1032,   1.2057,   2.5564,   4.1893,\n",
      "          6.0691,   8.4574,  11.4420,  14.7285,  18.5938,  21.9524,  24.8375,\n",
      "         27.3668,  28.7845,  31.1556,  32.7496,  33.2340,  34.2057,  34.5038,\n",
      "         36.1724,  36.1848,  36.7382,  37.5266,  37.3425,  38.0716,  39.0656,\n",
      "         39.1392,  39.3927,  38.6195,  39.2091,  39.6097,  39.4668,  39.9168,\n",
      "         40.0032,  40.8591,  40.9313,  41.2048,  40.3970,  40.8412,  41.2630,\n",
      "         41.8376,  40.8271,  41.1272,  40.8903,  41.7958,  41.6608,  41.5113,\n",
      "         41.2183,  41.0985,  41.1159,  42.0549,  40.9269,  41.4210,  41.8020,\n",
      "         41.9263,  40.7585], grad_fn=<ViewBackward>)\n",
      "Variance = tensor([143.6211, 137.9156, 150.5775, 119.3995, 131.4683, 153.5878, 142.0674,\n",
      "        123.0003, 119.0861, 122.7474, 128.1145, 139.5707, 122.6948, 131.3853,\n",
      "        115.0163, 136.5266, 133.1380, 125.9866, 130.4995, 132.4895, 122.8017,\n",
      "        109.0065,  93.2882, 109.7810, 103.6390, 100.3709,  86.7155,  89.4671,\n",
      "         88.7310,  76.5288,  71.2482,  59.3942,  61.9961,  43.7648,  34.3189,\n",
      "         33.4945,  20.4730,  17.0399,  12.4023,   8.4467,   6.9377,   4.1407,\n",
      "          3.1465,   2.3941,   2.0388,   1.8161,   1.9086,   2.4881,   3.4316,\n",
      "          6.4153,   9.7877,  14.6516,  27.2962,  36.6227,  53.8889,  73.4156,\n",
      "         82.4302, 111.8597,  99.6142, 103.1822, 126.4720, 132.6213, 154.2458,\n",
      "        128.9034, 154.5332, 156.0015, 150.6146, 175.1998, 164.0430, 146.5993,\n",
      "        159.9875, 154.8021, 200.6504, 187.4026, 185.3012, 197.8294, 186.0518,\n",
      "        190.7777, 166.4257, 169.1679, 165.0775, 204.9899, 192.5928, 181.8548,\n",
      "        161.8127, 203.0941, 193.2095, 207.6845, 174.0626, 179.2528, 188.7561,\n",
      "        198.3701, 205.7627, 210.4696, 174.1965, 223.0784, 204.9076, 193.4739,\n",
      "        190.1373, 229.9318], grad_fn=<ViewBackward>)\n",
      "rmse_mc = tensor(260.1653, grad_fn=<SqrtBackward>)\n",
      "rmse_non_mc = tensor(257.7546, grad_fn=<SqrtBackward>)\n",
      "test_ll_mc = tensor(-8107.5000, grad_fn=<MeanBackward0>)\n",
      "\n"
     ]
    },
    {
     "data": {
      "image/png": "[encoded data removed]",
      "text/plain": [
       "<Figure size 432x288 with 1 Axes>"
      ]
     },
     "metadata": {
      "needs_background": "light"
     },
     "output_type": "display_data"
    },
    {
     "name": "stdout",
     "output_type": "stream",
     "text": [
      "testing time = 0.8745079040527344 seconds\n",
      "\n",
      "Mean = tensor([-40.7682, -41.2020, -40.4195, -40.6368, -40.4985, -39.9207, -40.3805,\n",
      "        -40.1900, -39.6510, -38.8157, -39.4665, -38.7240, -38.7775, -38.6210,\n",
      "        -37.8291, -38.2326, -37.3200, -36.4415, -35.7619, -36.5916, -35.1338,\n",
      "        -34.7860, -34.9310, -31.9481, -32.6862, -31.6122, -30.5864, -29.6093,\n",
      "        -28.2094, -27.1708, -25.7187, -24.4303, -23.0587, -21.0105, -19.2315,\n",
      "        -17.8241, -16.1088, -13.9753, -12.4485, -10.3147,  -8.4060,  -6.7550,\n",
      "         -4.7289,  -2.9211,  -1.0421,   0.9063,   2.8938,   4.8647,   7.0436,\n",
      "          9.1918,  11.6712,  14.0610,  16.0552,  18.7896,  20.8893,  22.7558,\n",
      "         24.9916,  26.5187,  27.9114,  30.1475,  30.9897,  32.0793,  33.2110,\n",
      "         34.7262,  35.5565,  35.1099,  36.4896,  37.4718,  37.4836,  38.6158,\n",
      "         39.0301,  39.1821,  39.6648,  39.8647,  40.0237,  40.3875,  41.4540,\n",
      "         41.1681,  41.9660,  42.0532,  42.7742,  43.3314,  41.9076,  42.7175,\n",
      "         42.6038,  43.2946,  44.0514,  43.4377,  42.8259,  43.3244,  43.6049,\n",
      "         42.6069,  44.3446,  43.9289,  42.9460,  43.5477,  43.5982,  44.6698,\n",
      "         44.8612,  44.5376], grad_fn=<ViewBackward>)\n",
      "Variance = tensor([202.8106, 175.7825, 197.3888, 187.1295, 185.7241, 198.3775, 172.7579,\n",
      "        169.2548, 184.2436, 199.1799, 172.7358, 188.8072, 166.8489, 161.7638,\n",
      "        176.2146, 146.0242, 159.6971, 170.7025, 172.2341, 125.9044, 152.1341,\n",
      "        135.6746, 108.5408, 163.2189, 118.4782, 113.2951, 107.2239,  99.2412,\n",
      "         96.1178,  80.8365,  76.4695,  63.8284,  53.6750,  53.6871,  45.6551,\n",
      "         32.2328,  24.5087,  22.4547,  14.3589,  12.4330,   9.4945,   5.3683,\n",
      "          3.5775,   2.2600,   1.2262,   1.2396,   2.1456,   4.0200,   6.2884,\n",
      "         10.7513,  15.0120,  21.7458,  35.7274,  40.9421,  54.1616,  68.4519,\n",
      "         74.4797,  90.9263, 104.5519,  96.7042, 112.7064, 123.4591, 130.7017,\n",
      "        117.9177, 121.8338, 171.2903, 157.5250, 148.9907, 174.9469, 156.4161,\n",
      "        170.5147, 179.6533, 182.3917, 193.8761, 203.2936, 201.0213, 175.5266,\n",
      "        198.4643, 184.2193, 193.4552, 171.3315, 158.6200, 220.5700, 204.1344,\n",
      "        212.3682, 195.6339, 163.8269, 199.5776, 228.3389, 214.9778, 212.5678,\n",
      "        251.3893, 184.1526, 204.0426, 250.4647, 224.2852, 231.4646, 193.8550,\n",
      "        179.0412, 202.8957], grad_fn=<ViewBackward>)\n",
      "rmse_mc = tensor(257.7400, grad_fn=<SqrtBackward>)\n",
      "rmse_non_mc = tensor(255.3929, grad_fn=<SqrtBackward>)\n",
      "test_ll_mc = tensor(-7941.4312, grad_fn=<MeanBackward0>)\n",
      "\n"
     ]
    },
    {
     "data": {
      "image/png": "[encoded data removed]",
      "text/plain": [
       "<Figure size 432x288 with 1 Axes>"
      ]
     },
     "metadata": {
      "needs_background": "light"
     },
     "output_type": "display_data"
    }
   ],
   "source": [
    "for key, network in uncertainty_methods.items():\n",
    "\n",
    "    \"\"\"\n",
    "    Testing\n",
    "    \"\"\"\n",
    "\n",
    "    # Model to eval mode\n",
    "    network.eval()\n",
    "\n",
    "    # Record testing start time (for this split)\n",
    "    tic_testing = time.time()\n",
    "    \n",
    "    predictions_non_mc, _ = network(X_test)\n",
    "\n",
    "    predictions, mean, var, metrics = network.predict_dist(\n",
    "        X_test, n_predictions,\n",
    "        y_test=y_test,\n",
    "        reg_strength=reg_strength, train_size=dataset_toy_size, length_scale=length_scale)\n",
    "    \n",
    "    # Record testing end time\n",
    "    toc_testing = time.time()\n",
    "    \n",
    "    # Report the total testing time\n",
    "    print(\"testing time = \" + str(toc_testing - tic_testing) + \" seconds\")\n",
    "\n",
    "    # These can now be stored in CPU memory for plotting\n",
    "    predictions_non_mc = predictions_non_mc.cpu()\n",
    "    predictions = predictions.cpu()\n",
    "    mean = mean.cpu()\n",
    "    var = var.cpu()\n",
    "    \n",
    "    \"\"\"\n",
    "    Print results\n",
    "    \"\"\"\n",
    "\n",
    "    print()\n",
    "    print(\"Mean = \" + str(mean.flatten()))\n",
    "    print(\"Variance = \" + str(var.flatten()))\n",
    "    \n",
    "    # store additional metrics\n",
    "    if len(metrics) > 0:\n",
    "        for metric_key, value in metrics.items():\n",
    "            print(str(metric_key) + \" = \" + str(value))\n",
    "        print()\n",
    "             \n",
    "    # Plot the uncertainty measured by each methods\n",
    "    plt.figure()\n",
    "    \n",
    "    # Fix the scales of x-axis and y-axis\n",
    "    plt.xlim(dataset_toy_x_low-1, dataset_toy_x_high+1)\n",
    "    plt.ylim(dataset_toy_y_mean-2*dataset_toy_y_std, dataset_toy_y_mean+2*dataset_toy_y_std)\n",
    "\n",
    "    # Distributions around the predictions\n",
    "    plt.fill_between(\n",
    "        X_test_cpu.flatten(), \n",
    "        (mean.detach().numpy() - 2*torch.sqrt(var).detach().numpy()).flatten(),\n",
    "        (mean.detach().numpy() + 2*torch.sqrt(var).detach().numpy()).flatten(),\n",
    "        color='lightblue', alpha=0.8)\n",
    "\n",
    "    # Train data\n",
    "    plt.plot(dataset.data_x.cpu(), dataset.data_y.cpu(), 'or', label='Training data', alpha=0.3)\n",
    "\n",
    "    # Non-MC prediction\n",
    "    plt.plot(X_test_cpu, predictions_non_mc.detach().numpy(), 'green', label='non-MC prediction', alpha=0.6)    \n",
    "    \n",
    "    # MC prediction\n",
    "    plt.plot(X_test_cpu, mean.detach().numpy(), 'blue', label='mean prediction', alpha=0.35)\n",
    "    \n",
    "    # Original data generating function without noise\n",
    "    plt.plot(X_test_cpu, X_test_cpu ** 3, 'gray', label='data generating function')    \n",
    "    \n",
    "    plt.legend()\n",
    "    \n",
    "    plt.savefig(os.path.join(test_results_path, str(key) + '.png'), dpi=600)\n",
    "    \n",
    "    plt.show()"
   ]
  },
  {
   "cell_type": "code",
   "execution_count": null,
   "metadata": {},
   "outputs": [],
   "source": []
  }
 ],
 "metadata": {
  "accelerator": "GPU",
  "colab": {
   "collapsed_sections": [
    "Bka_bK83VFHh",
    "eEfdrHcOVFIj"
   ],
   "name": "experiment_comparison_toy.ipynb",
   "provenance": []
  },
  "kernelspec": {
   "display_name": "Python 3",
   "language": "python",
   "name": "python3"
  },
  "language_info": {
   "codemirror_mode": {
    "name": "ipython",
    "version": 3
   },
   "file_extension": ".py",
   "mimetype": "text/x-python",
   "name": "python",
   "nbconvert_exporter": "python",
   "pygments_lexer": "ipython3",
   "version": "3.8.0"
  }
 },
 "nbformat": 4,
 "nbformat_minor": 1
}
