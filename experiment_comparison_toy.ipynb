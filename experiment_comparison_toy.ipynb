{
 "cells": [
  {
   "cell_type": "markdown",
   "metadata": {
    "colab_type": "text",
    "id": "Bka_bK83VFHh"
   },
   "source": [
    "## Experiment Setup"
   ]
  },
  {
   "cell_type": "markdown",
   "metadata": {
    "colab_type": "text",
    "id": "8D5NSPs_cJZe"
   },
   "source": [
    "###  Random seed / Colab / CUDA related"
   ]
  },
  {
   "cell_type": "code",
   "execution_count": 1,
   "metadata": {
    "colab": {
     "base_uri": "https://localhost:8080/",
     "height": 592
    },
    "colab_type": "code",
    "executionInfo": {
     "elapsed": 32214,
     "status": "ok",
     "timestamp": 1575021332527,
     "user": {
      "displayName": "Ronald Seoh",
      "photoUrl": "",
      "userId": "10284188050297676522"
     },
     "user_tz": 300
    },
    "id": "pHbfpytEVFHu",
    "outputId": "7913f72d-859c-477f-90b8-6c37e04f5759"
   },
   "outputs": [],
   "source": [
    "import time\n",
    "import datetime\n",
    "import os\n",
    "import sys\n",
    "import itertools\n",
    "\n",
    "# Use Google Colab\n",
    "use_colab = True\n",
    "\n",
    "# Is this notebook running on Colab?\n",
    "# If so, then google.colab package (github.com/googlecolab/colabtools)\n",
    "# should be available in this environment\n",
    "\n",
    "# Previous version used importlib, but we could do the same thing with\n",
    "# just attempting to import google.colab\n",
    "try:\n",
    "    from google.colab import drive\n",
    "    colab_available = True\n",
    "except:\n",
    "    colab_available = False\n",
    "\n",
    "if use_colab and colab_available:\n",
    "    drive.mount('/content/drive')\n",
    "    \n",
    "    # If there's a package I need to install separately, do it here\n",
    "    !pip install pyro-ppl\n",
    "    \n",
    "    # Install ronald_bdl package\n",
    "    !pip install git+https://github.com/ronaldseoh/ronald_bdl.git\n",
    "\n",
    "    # cd to the appropriate working directory under my Google Drive\n",
    "    %cd 'drive/My Drive/Colab Notebooks/bayesian-dl-experiments'\n",
    "    \n",
    "    # List the directory contents\n",
    "    !ls\n",
    "\n",
    "# IPython reloading magic\n",
    "%load_ext autoreload\n",
    "%autoreload 2\n",
    "\n",
    "# Random seeds\n",
    "# Based on https://pytorch.org/docs/stable/notes/randomness.html\n",
    "random_seed = 682"
   ]
  },
  {
   "cell_type": "markdown",
   "metadata": {
    "colab_type": "text",
    "id": "L8udq6NnHSXW"
   },
   "source": [
    "### Third party libraries (NumPy, PyTorch, Pyro)"
   ]
  },
  {
   "cell_type": "code",
   "execution_count": 2,
   "metadata": {
    "colab": {
     "base_uri": "https://localhost:8080/",
     "height": 104
    },
    "colab_type": "code",
    "executionInfo": {
     "elapsed": 35929,
     "status": "ok",
     "timestamp": 1575021336266,
     "user": {
      "displayName": "Ronald Seoh",
      "photoUrl": "",
      "userId": "10284188050297676522"
     },
     "user_tz": 300
    },
    "id": "BOJA1nXgHSXa",
    "outputId": "e2c1368a-d446-42c6-b971-155962116ceb"
   },
   "outputs": [
    {
     "name": "stdout",
     "output_type": "stream",
     "text": [
      "Python Version: 3.8.0 (v3.8.0:fa919fdf25, Oct 14 2019, 10:23:27) \n",
      "[Clang 6.0 (clang-600.0.57)]\n",
      "NumPy Version: 1.17.4\n",
      "PyTorch Version: 1.4.0a0+328ec54\n",
      "Pyro Version: 1.0.0\n"
     ]
    }
   ],
   "source": [
    "# Third party libraries import\n",
    "import numpy as np\n",
    "import torch\n",
    "import pyro\n",
    "import matplotlib.pyplot as plt\n",
    "import tqdm\n",
    "\n",
    "# Print version information\n",
    "print(\"Python Version: \" + sys.version)\n",
    "print(\"NumPy Version: \" + np.__version__)\n",
    "print(\"PyTorch Version: \" + torch.__version__)\n",
    "print(\"Pyro Version: \" + pyro.__version__)"
   ]
  },
  {
   "cell_type": "code",
   "execution_count": 3,
   "metadata": {
    "colab": {
     "base_uri": "https://localhost:8080/",
     "height": 86
    },
    "colab_type": "code",
    "executionInfo": {
     "elapsed": 44842,
     "status": "ok",
     "timestamp": 1575021345196,
     "user": {
      "displayName": "Ronald Seoh",
      "photoUrl": "",
      "userId": "10284188050297676522"
     },
     "user_tz": 300
    },
    "id": "BOIqWi_wHSXi",
    "outputId": "b658d6b3-5990-4d42-f71e-f8cbff718437"
   },
   "outputs": [],
   "source": [
    "# More imports...\n",
    "from torch import nn, optim\n",
    "from torch.utils.data import random_split, DataLoader, RandomSampler\n",
    "import torchvision\n",
    "import torchvision.transforms as transforms\n",
    "from pyro.infer import SVI, Trace_ELBO, HMC, MCMC\n",
    "\n",
    "# Import model and dataset classes from ronald_bdl\n",
    "from ronald_bdl import models, datasets\n",
    "from ronald_bdl.models import utils\n",
    "\n",
    "# pyplot setting\n",
    "%matplotlib inline\n",
    "\n",
    "# torch.device / CUDA Setup\n",
    "use_cuda = True\n",
    "\n",
    "if use_cuda and torch.cuda.is_available():\n",
    "    torch_device = torch.device('cuda')\n",
    "\n",
    "    torch.backends.cudnn.deterministic = True\n",
    "    # Disable 'benchmark' mode\n",
    "    # Note: https://discuss.pytorch.org/t/what-does-torch-backends-cudnn-benchmark-do/5936\n",
    "    torch.backends.cudnn.benchmark = False\n",
    "    use_pin_memory = True # Faster Host to GPU copies with page-locked memory\n",
    "\n",
    "    # CUDA libraries version information\n",
    "    print(\"CUDA Version: \" + str(torch.version.cuda))\n",
    "    print(\"cuDNN Version: \" + str(torch.backends.cudnn.version()))\n",
    "    print(\"CUDA Device Name: \" + str(torch.cuda.get_device_name()))\n",
    "    print(\"CUDA Capabilities: \"+ str(torch.cuda.get_device_capability()))\n",
    "else:\n",
    "    torch_device = torch.device('cpu')\n",
    "    use_pin_memory = False"
   ]
  },
  {
   "cell_type": "markdown",
   "metadata": {
    "colab_type": "text",
    "id": "XIFRoH3AcJZn"
   },
   "source": [
    "### Toy dataset settings"
   ]
  },
  {
   "cell_type": "code",
   "execution_count": 4,
   "metadata": {
    "colab": {},
    "colab_type": "code",
    "id": "g_pzGq1_cJZp"
   },
   "outputs": [],
   "source": [
    "\"\"\"\n",
    "Toy dataset generation based on the experiment from \n",
    "the Probabilstic Backpropagation paper (Hernandez-Lobato & Adams, 2015)\n",
    "\"\"\"\n",
    "\n",
    "# Random seed for toy dataset\n",
    "dataset_toy_random_seed = 691\n",
    "\n",
    "# Toy dataset size\n",
    "dataset_toy_size = 20\n",
    "\n",
    "# Toy dataset x distribution (uniform) parameters\n",
    "dataset_toy_x_low = -4\n",
    "dataset_toy_x_high = 4\n",
    "\n",
    "# Toy dataset y distribution (normal with noise)\n",
    "dataset_toy_y_mean = 0\n",
    "dataset_toy_y_std = 9"
   ]
  },
  {
   "cell_type": "markdown",
   "metadata": {
    "colab_type": "text",
    "id": "Kdi_LQ7sspvM"
   },
   "source": [
    "### MC dropout parameters"
   ]
  },
  {
   "cell_type": "code",
   "execution_count": 5,
   "metadata": {
    "colab": {},
    "colab_type": "code",
    "id": "0ys_GAWtHSX4"
   },
   "outputs": [
    {
     "name": "stdout",
     "output_type": "stream",
     "text": [
      "reg_strength = tensor(4.5000e-06)\n"
     ]
    }
   ],
   "source": [
    "\"\"\"\n",
    "MC Dropout related\n",
    "\"\"\"\n",
    "\n",
    "# Dropout rate\n",
    "dropout_rate = 0.1\n",
    "\n",
    "# Length scale\n",
    "length_scale = 1e-2\n",
    "\n",
    "# tau\n",
    "tau = 0.50\n",
    "\n",
    "# reg strength\n",
    "reg_strength = utils.reg_strength(dropout_rate, length_scale, dataset_toy_size, tau)\n",
    "\n",
    "print('reg_strength = ' + str(reg_strength))\n",
    "\n",
    "# Epochs\n",
    "n_epochs = 10000\n",
    "\n",
    "# Optimizer learning rate\n",
    "learning_rate = 0.001\n",
    "\n",
    "# Loss function type\n",
    "loss_function_type = 'log_gaussian_loss'\n",
    "\n",
    "# Number of test predictions (for each data point)\n",
    "n_predictions = 1000"
   ]
  },
  {
   "cell_type": "markdown",
   "metadata": {
    "colab_type": "text",
    "id": "DNGDKiltsux3"
   },
   "source": [
    "### Directory path to save results"
   ]
  },
  {
   "cell_type": "code",
   "execution_count": 6,
   "metadata": {
    "colab": {},
    "colab_type": "code",
    "id": "9ysu9G0FHSX-"
   },
   "outputs": [],
   "source": [
    "# Test start time\n",
    "test_start_time = datetime.datetime.today().strftime('%Y%m%d%H%M')\n",
    "\n",
    "# Directory to store the results for this experiment\n",
    "test_results_path = os.path.join(\n",
    "    './test_results',\n",
    "    'comparison_toy',\n",
    "    (\n",
    "        test_start_time \n",
    "        + '_' + str(n_epochs) \n",
    "        + '_' + str(dropout_rate) \n",
    "        + '_' + str(length_scale)\n",
    "        + '_' + str(tau)\n",
    "        + '_' + str(loss_function_type) \n",
    "        + '_' + str(n_predictions))\n",
    ")\n",
    "\n",
    "# Create the directory if it doesn't exist\n",
    "os.makedirs(test_results_path, exist_ok=True)"
   ]
  },
  {
   "cell_type": "markdown",
   "metadata": {
    "colab_type": "text",
    "id": "sZwe_f-yVFIf"
   },
   "source": [
    "## Prepare data"
   ]
  },
  {
   "cell_type": "markdown",
   "metadata": {
    "colab_type": "text",
    "id": "eEfdrHcOVFIj"
   },
   "source": [
    "### Get the data as a torch Dataset object"
   ]
  },
  {
   "cell_type": "code",
   "execution_count": 7,
   "metadata": {
    "colab": {
     "base_uri": "https://localhost:8080/",
     "height": 34
    },
    "colab_type": "code",
    "executionInfo": {
     "elapsed": 51278,
     "status": "ok",
     "timestamp": 1575021351670,
     "user": {
      "displayName": "Ronald Seoh",
      "photoUrl": "",
      "userId": "10284188050297676522"
     },
     "user_tz": 300
    },
    "id": "5u5qU-9JVFIr",
    "outputId": "480ccb60-6d74-46ec-dc61-e7689ebdb300"
   },
   "outputs": [
    {
     "name": "stdout",
     "output_type": "stream",
     "text": [
      "dataset size = (20, 1)\n"
     ]
    }
   ],
   "source": [
    "dataset = datasets.ToyDatasets(\n",
    "    random_seed=dataset_toy_random_seed,\n",
    "    n_samples=dataset_toy_size,\n",
    "    x_low=dataset_toy_x_low,\n",
    "    x_high=dataset_toy_x_high,\n",
    "    y_mean=dataset_toy_y_mean,\n",
    "    y_std=dataset_toy_y_std,\n",
    ")\n",
    "\n",
    "# Get the test data\n",
    "X_test = torch.linspace(dataset_toy_x_low-5, dataset_toy_x_high+5, 100).reshape(100, 1)\n",
    "y_test = torch.pow(X_test, 3)\n",
    "\n",
    "# Send it to the memory of the device to be used for training\n",
    "X_test = X_test.to(torch_device)\n",
    "\n",
    "y_test = y_test.to(torch_device)\n",
    "\n",
    "# Save a copy at CPU for plotting\n",
    "X_test_cpu = X_test.cpu()\n",
    "\n",
    "# Print the size of the training set\n",
    "print(\"dataset size = \" + str((len(dataset), dataset.n_features)))"
   ]
  },
  {
   "cell_type": "markdown",
   "metadata": {
    "colab_type": "text",
    "id": "LaasFWpqVFJ1"
   },
   "source": [
    "## Declare models"
   ]
  },
  {
   "cell_type": "code",
   "execution_count": 8,
   "metadata": {
    "colab": {},
    "colab_type": "code",
    "id": "gAqkGtg7VFJ9"
   },
   "outputs": [],
   "source": [
    "uncertainty_methods = {}\n",
    "\n",
    "# MC (Bernoulli) dropout\n",
    "do_mc_dropout = True\n",
    "\n",
    "if do_mc_dropout:\n",
    "    uncertainty_methods['mc_dropout_relu'] = models.FCNet(\n",
    "        input_dim=dataset.n_features, \n",
    "        output_dim=dataset.n_targets,\n",
    "        hidden_dim=100,\n",
    "        n_hidden=0,\n",
    "        dropout_rate=dropout_rate,\n",
    "        dropout_type='bernoulli',\n",
    "        learn_hetero=True,\n",
    "    )\n",
    "    \n",
    "    uncertainty_methods['mc_dropout_tanh'] = models.FCNet(\n",
    "        input_dim=dataset.n_features, \n",
    "        output_dim=dataset.n_targets,\n",
    "        hidden_dim=100,\n",
    "        n_hidden=0,\n",
    "        dropout_rate=dropout_rate,\n",
    "        dropout_type='bernoulli',\n",
    "        nonlinear_type='tanh',\n",
    "        learn_hetero=True,\n",
    "    )\n",
    "    \n",
    "    uncertainty_methods['mc_dropout_sigmoid'] = models.FCNet(\n",
    "        input_dim=dataset.n_features, \n",
    "        output_dim=dataset.n_targets,\n",
    "        hidden_dim=100,\n",
    "        n_hidden=0,\n",
    "        dropout_rate=dropout_rate,\n",
    "        dropout_type='bernoulli',\n",
    "        nonlinear_type='sigmoid',\n",
    "        learn_hetero=True,\n",
    "    )\n",
    "\n",
    "# Vanilla Variational Inference\n",
    "do_vi = False\n",
    "\n",
    "if do_vi:\n",
    "    uncertainty_methods['vi'] = models.FCNetPyro(\n",
    "        input_dim=dataset.n_features, \n",
    "        output_dim=dataset.n_targets,\n",
    "        hidden_dim=100,\n",
    "        n_hidden=0,\n",
    "        torch_device=torch_device,\n",
    "    )\n",
    "\n",
    "# HMC\n",
    "do_hmc = False\n",
    "\n",
    "if do_hmc:\n",
    "    uncertainty_methods['hmc'] = models.FCNetPyro(\n",
    "        input_dim=dataset.n_features, \n",
    "        output_dim=dataset.n_targets,\n",
    "        hidden_dim=100,\n",
    "        n_hidden=0,\n",
    "        torch_device=torch_device,\n",
    "    )"
   ]
  },
  {
   "cell_type": "markdown",
   "metadata": {
    "colab_type": "text",
    "id": "1PpzPMI8VFKE"
   },
   "source": [
    "## Train the models"
   ]
  },
  {
   "cell_type": "markdown",
   "metadata": {
    "colab_type": "text",
    "id": "Jc7Td1h1VFKb"
   },
   "source": [
    "### Train/test the model"
   ]
  },
  {
   "cell_type": "code",
   "execution_count": 9,
   "metadata": {
    "colab": {
     "base_uri": "https://localhost:8080/",
     "height": 903
    },
    "colab_type": "code",
    "executionInfo": {
     "elapsed": 1213641,
     "status": "ok",
     "timestamp": 1575022514055,
     "user": {
      "displayName": "Ronald Seoh",
      "photoUrl": "",
      "userId": "10284188050297676522"
     },
     "user_tz": 300
    },
    "id": "m4kavCiTVFKf",
    "outputId": "6731cdaf-71b9-4709-fd78-45fb2b335a05",
    "scrolled": false
   },
   "outputs": [
    {
     "name": "stderr",
     "output_type": "stream",
     "text": [
      "\r",
      "  0%|          | 0/10000 [00:00<?, ?it/s]"
     ]
    },
    {
     "name": "stdout",
     "output_type": "stream",
     "text": [
      "Now running mc_dropout_relu\n",
      "FCNet(\n",
      "  (input): ModuleDict(\n",
      "    (dropout): Dropout(p=0.1, inplace=False)\n",
      "    (linear): Linear(in_features=1, out_features=100, bias=True)\n",
      "    (nonlinear): ReLU()\n",
      "  )\n",
      "  (output_noise): Linear(in_features=100, out_features=1, bias=True)\n",
      "  (output): ModuleDict(\n",
      "    (dropout): Dropout(p=0.1, inplace=False)\n",
      "    (linear): Linear(in_features=100, out_features=1, bias=True)\n",
      "  )\n",
      ")\n",
      "\n"
     ]
    },
    {
     "name": "stderr",
     "output_type": "stream",
     "text": [
      "[iteration 10000] loss: 79.1241: 100%|██████████| 10000/10000 [01:26<00:00, 115.20it/s]\n",
      "[iteration 0019] loss: 2090.4431:   0%|          | 10/10000 [00:00<01:39, 99.99it/s]"
     ]
    },
    {
     "name": "stdout",
     "output_type": "stream",
     "text": [
      "final loss = tensor(79.1241, grad_fn=<NegBackward>)\n",
      "training time = 86.81618404388428 seconds\n",
      "\n",
      "Now running mc_dropout_tanh\n",
      "FCNet(\n",
      "  (input): ModuleDict(\n",
      "    (dropout): Dropout(p=0.1, inplace=False)\n",
      "    (linear): Linear(in_features=1, out_features=100, bias=True)\n",
      "    (nonlinear): Tanh()\n",
      "  )\n",
      "  (output_noise): Linear(in_features=100, out_features=1, bias=True)\n",
      "  (output): ModuleDict(\n",
      "    (dropout): Dropout(p=0.1, inplace=False)\n",
      "    (linear): Linear(in_features=100, out_features=1, bias=True)\n",
      "  )\n",
      ")\n",
      "\n"
     ]
    },
    {
     "name": "stderr",
     "output_type": "stream",
     "text": [
      "[iteration 10000] loss: 78.9292: 100%|██████████| 10000/10000 [01:09<00:00, 144.13it/s]\n",
      "[iteration 0023] loss: 954.7087:   0%|          | 15/10000 [00:00<01:10, 141.77it/s] "
     ]
    },
    {
     "name": "stdout",
     "output_type": "stream",
     "text": [
      "final loss = tensor(78.9292, grad_fn=<NegBackward>)\n",
      "training time = 69.38641786575317 seconds\n",
      "\n",
      "Now running mc_dropout_sigmoid\n",
      "FCNet(\n",
      "  (input): ModuleDict(\n",
      "    (dropout): Dropout(p=0.1, inplace=False)\n",
      "    (linear): Linear(in_features=1, out_features=100, bias=True)\n",
      "    (nonlinear): Sigmoid()\n",
      "  )\n",
      "  (output_noise): Linear(in_features=100, out_features=1, bias=True)\n",
      "  (output): ModuleDict(\n",
      "    (dropout): Dropout(p=0.1, inplace=False)\n",
      "    (linear): Linear(in_features=100, out_features=1, bias=True)\n",
      "  )\n",
      ")\n",
      "\n"
     ]
    },
    {
     "name": "stderr",
     "output_type": "stream",
     "text": [
      "[iteration 10000] loss: 79.9319: 100%|██████████| 10000/10000 [01:09<00:00, 144.79it/s]\n"
     ]
    },
    {
     "name": "stdout",
     "output_type": "stream",
     "text": [
      "final loss = tensor(79.9319, grad_fn=<NegBackward>)\n",
      "training time = 69.07102108001709 seconds\n",
      "\n"
     ]
    }
   ],
   "source": [
    "for key, network in uncertainty_methods.items():\n",
    "    # Reset the random number generator for each method (to produce identical results)\n",
    "    torch.manual_seed(random_seed)\n",
    "    np.random.seed(random_seed)\n",
    "    pyro.set_rng_seed(random_seed)\n",
    "    \n",
    "    # Print the method name\n",
    "    print(\"Now running \" + str(key))\n",
    "    \n",
    "    # Send the whole model to the selected torch.device\n",
    "    network.to(torch_device)\n",
    "\n",
    "    # Print the network structure\n",
    "    print(network)\n",
    "    print()\n",
    "\n",
    "    # Initialize training data loader\n",
    "    train_loader = DataLoader(dataset, batch_size=128)\n",
    "    \n",
    "    \"\"\"\n",
    "    Optimizer Setup\n",
    "    \"\"\"\n",
    "\n",
    "    if isinstance(network, models.FCNet):\n",
    "        # Adam optimizer\n",
    "        # https://pytorch.org/docs/stable/optim.html?highlight=adam#torch.optim.Adam\n",
    "        # NOTE: Need to set L2 regularization from here\n",
    "        optimizer = torch.optim.Adam(\n",
    "            network.parameters(),\n",
    "            lr=learning_rate,\n",
    "            weight_decay=reg_strength, # L2 regularization\n",
    "        )\n",
    "\n",
    "    elif isinstance(network, models.FCNetPyro):\n",
    "        # Clear everything in Pyro parameter storage\n",
    "        # Looks like this parameter store would be globally shared across\n",
    "        # models in the same Python instance.\n",
    "        pyro.clear_param_store()\n",
    "\n",
    "        # Force all the PyTorch tensors to be CUDA tensors if available\n",
    "        if use_cuda and torch.cuda.is_available():\n",
    "            torch.set_default_tensor_type(torch.cuda.FloatTensor)\n",
    "\n",
    "        # Different optimizers for VI and HMC\n",
    "        if key == 'vi':\n",
    "            optimizer = pyro.optim.Adam({\"lr\": 0.01})\n",
    "            svi = SVI(network, network.guide, optimizer, loss=Trace_ELBO())\n",
    "        elif key == 'hmc':\n",
    "            kernel = HMC(network)\n",
    "            mcmc = MCMC(kernel, num_samples=10000)\n",
    "\n",
    "    \"\"\"\n",
    "    Training\n",
    "    \"\"\"\n",
    "\n",
    "    # Model to train mode\n",
    "    network.train()\n",
    "\n",
    "    # Record training start time (for this method)\n",
    "    tic = time.time()\n",
    "    \n",
    "    if key == 'hmc':\n",
    "        # to() actually returns new Tensor; need to replace with that return\n",
    "        dataset.data_x = dataset.data_x.to(torch_device)\n",
    "\n",
    "        dataset.data_y = dataset.data_y.to(torch_device)\n",
    "\n",
    "        mcmc.run(dataset.data_x, dataset.data_y)\n",
    "    else:\n",
    "        progress_bar = tqdm.tqdm(range(n_epochs))\n",
    "\n",
    "        for epoch in progress_bar: # loop over the dataset multiple times\n",
    "\n",
    "            for i, data in enumerate(train_loader):\n",
    "                # get the inputs; data is a list of [inputs, labels]\n",
    "                inputs, targets = data\n",
    "\n",
    "                # Store the batch to torch_device's memory\n",
    "                # to() actually returns new Tensor; need to replace with that return\n",
    "                inputs = inputs.to(torch_device)\n",
    "                targets = targets.to(torch_device)\n",
    "\n",
    "                if isinstance(network, models.FCNet):\n",
    "                    # zero the parameter gradients\n",
    "                    optimizer.zero_grad()\n",
    "\n",
    "                    # forward + backward + optimize\n",
    "                    outputs, noise = network(inputs)\n",
    "\n",
    "                    # Mean Squared Error for loss function to minimize\n",
    "                    if loss_function_type == 'mse_loss':\n",
    "                        total_loss = torch.nn.MSELoss(outputs, targets)\n",
    "                    elif loss_function_type == 'log_gaussian_loss':\n",
    "                        total_loss = utils.log_gaussian_loss(outputs, targets, noise.exp(), 1)\n",
    "\n",
    "                    total_loss.backward()\n",
    "\n",
    "                    optimizer.step()\n",
    "\n",
    "                elif isinstance(network, models.FCNetPyro):\n",
    "                    pyro.clear_param_store()\n",
    "                    # calculate the loss and take a gradient step\n",
    "                    total_loss = svi.step(inputs, targets)\n",
    "\n",
    "            progress_bar.set_description(\"[iteration %04d] loss: %.4f\" % (epoch + 1, total_loss))\n",
    "            \n",
    "    # Record training end time\n",
    "    toc = time.time()\n",
    "\n",
    "    # Report the final loss\n",
    "    print(\"final loss = \" + str(total_loss))            \n",
    "\n",
    "    # Report the total training time\n",
    "    print(\"training time = \" + str(toc - tic) + \" seconds\")\n",
    "    \n",
    "    print()"
   ]
  },
  {
   "cell_type": "markdown",
   "metadata": {
    "colab_type": "text",
    "id": "xrknIU5UWv-v"
   },
   "source": [
    "## Plot the results"
   ]
  },
  {
   "cell_type": "code",
   "execution_count": 10,
   "metadata": {
    "colab": {
     "base_uri": "https://localhost:8080/",
     "height": 1000
    },
    "colab_type": "code",
    "executionInfo": {
     "elapsed": 20586,
     "status": "ok",
     "timestamp": 1575024185652,
     "user": {
      "displayName": "Ronald Seoh",
      "photoUrl": "",
      "userId": "10284188050297676522"
     },
     "user_tz": 300
    },
    "id": "ymmG2nxTHSYq",
    "outputId": "bad750f8-6180-4e17-8cfc-21b92fe8c524",
    "scrolled": false
   },
   "outputs": [
    {
     "name": "stderr",
     "output_type": "stream",
     "text": [
      "/Users/se9/python/00_default/lib/python3.8/site-packages/ronald_bdl/models/fcnet.py:250: UserWarning: To copy construct from a tensor, it is recommended to use sourceTensor.clone().detach() or sourceTensor.clone().detach().requires_grad_(True), rather than torch.tensor(sourceTensor).\n",
      "  reg_strength = torch.tensor(\n",
      "/Users/se9/python/00_default/lib/python3.8/site-packages/ronald_bdl/models/utils.py:38: UserWarning: To copy construct from a tensor, it is recommended to use sourceTensor.clone().detach() or sourceTensor.clone().detach().requires_grad_(True), rather than torch.tensor(sourceTensor).\n",
      "  tau = torch.tensor(\n"
     ]
    },
    {
     "name": "stdout",
     "output_type": "stream",
     "text": [
      "testing time = 0.8512570858001709 seconds\n",
      "\n",
      "Mean = tensor([-138.7887, -131.3134, -131.0305, -130.9813, -126.1251, -121.9514,\n",
      "        -120.6633, -115.6991, -112.5014, -107.8932, -104.5557, -100.3622,\n",
      "         -98.6903,  -95.8792,  -93.5789,  -88.2935,  -84.5575,  -80.7327,\n",
      "         -78.2916,  -74.2340,  -71.4984,  -67.0912,  -63.2523,  -59.6141,\n",
      "         -55.9002,  -53.7840,  -49.5062,  -46.4642,  -43.3097,  -39.7564,\n",
      "         -36.1021,  -32.9870,  -29.7399,  -25.6448,  -22.5933,  -19.4520,\n",
      "         -15.7839,  -12.4122,   -8.8188,   -5.5235,   -2.9836,   -2.8115,\n",
      "          -2.7121,   -2.5397,   -2.4027,   -2.2019,   -1.9946,   -1.7512,\n",
      "          -1.3735,   -1.0542,   -0.6726,   -0.2672,    0.1492,    0.5225,\n",
      "           1.0283,    1.5834,    2.1816,    2.8632,    3.7057,    4.6238,\n",
      "           5.7389,    7.2360,    9.5408,   11.6808,   14.3622,   17.0764,\n",
      "          19.1290,   21.6460,   23.8208,   26.4601,   28.5012,   31.0525,\n",
      "          33.1566,   35.5384,   36.9638,   40.4117,   42.8759,   45.9073,\n",
      "          47.6845,   50.7066,   52.5996,   54.1191,   57.8395,   59.7316,\n",
      "          62.4373,   65.3357,   66.4900,   71.0382,   71.4687,   72.5352,\n",
      "          74.7758,   76.9351,   81.1701,   83.6221,   84.8326,   87.9896,\n",
      "          91.9637,   93.3618,   94.0864,   96.6957], grad_fn=<ViewBackward>)\n",
      "Variance = tensor([2.4011e+03, 2.7322e+03, 2.1910e+03, 1.8197e+03, 1.8315e+03, 1.8004e+03,\n",
      "        1.4575e+03, 1.5540e+03, 1.4046e+03, 1.4533e+03, 1.3517e+03, 1.3065e+03,\n",
      "        1.0870e+03, 9.2825e+02, 7.9568e+02, 9.1341e+02, 8.5612e+02, 7.8407e+02,\n",
      "        6.7084e+02, 6.5581e+02, 5.2619e+02, 5.3376e+02, 5.0830e+02, 4.7363e+02,\n",
      "        4.3138e+02, 3.3093e+02, 3.1760e+02, 2.7634e+02, 2.1877e+02, 1.7759e+02,\n",
      "        1.6018e+02, 1.3069e+02, 9.7334e+01, 8.9950e+01, 6.0735e+01, 3.8886e+01,\n",
      "        2.9481e+01, 1.7023e+01, 9.8317e+00, 3.3474e+00, 1.1074e+00, 1.0063e+00,\n",
      "        8.3255e-01, 7.8486e-01, 5.7892e-01, 5.4027e-01, 4.3762e-01, 2.6804e-01,\n",
      "        2.5408e-01, 1.6700e-01, 8.7321e-02, 4.5054e-02, 5.3051e-02, 9.0643e-02,\n",
      "        1.9384e-01, 3.7608e-01, 6.1727e-01, 1.0593e+00, 1.5107e+00, 2.9641e+00,\n",
      "        3.8586e+00, 6.3960e+00, 1.2276e+01, 2.0697e+01, 2.5680e+01, 2.9152e+01,\n",
      "        4.5518e+01, 5.3067e+01, 7.0665e+01, 7.7315e+01, 9.8493e+01, 1.1212e+02,\n",
      "        1.3773e+02, 1.5196e+02, 2.0987e+02, 1.9761e+02, 2.1264e+02, 2.1899e+02,\n",
      "        2.6098e+02, 2.5647e+02, 3.1097e+02, 3.8674e+02, 3.4590e+02, 4.2723e+02,\n",
      "        4.3679e+02, 4.1835e+02, 5.4624e+02, 4.3954e+02, 5.9758e+02, 7.2422e+02,\n",
      "        7.8932e+02, 8.3003e+02, 7.1301e+02, 8.1580e+02, 9.2116e+02, 9.1452e+02,\n",
      "        8.5036e+02, 9.7177e+02, 1.1449e+03, 1.1820e+03],\n",
      "       grad_fn=<ViewBackward>)\n",
      "rmse_mc = tensor(224.8964, grad_fn=<SqrtBackward>)\n",
      "rmse_non_mc = tensor(224.7696, grad_fn=<SqrtBackward>)\n",
      "test_ll_mc = tensor(-11092.4297, grad_fn=<MeanBackward0>)\n",
      "\n"
     ]
    },
    {
     "data": {
      "image/png": "[encoded data removed]",
      "text/plain": [
       "<Figure size 432x288 with 1 Axes>"
      ]
     },
     "metadata": {
      "needs_background": "light"
     },
     "output_type": "display_data"
    },
    {
     "name": "stdout",
     "output_type": "stream",
     "text": [
      "testing time = 0.6719999313354492 seconds\n",
      "\n",
      "Mean = tensor([-3.3899e+01, -3.3985e+01, -3.3537e+01, -3.4415e+01, -3.3824e+01,\n",
      "        -3.3147e+01, -3.3511e+01, -3.3890e+01, -3.3994e+01, -3.3783e+01,\n",
      "        -3.3530e+01, -3.2913e+01, -3.3430e+01, -3.2916e+01, -3.3364e+01,\n",
      "        -3.2409e+01, -3.2380e+01, -3.2430e+01, -3.2036e+01, -3.1648e+01,\n",
      "        -3.1800e+01, -3.1971e+01, -3.2176e+01, -3.1210e+01, -3.1009e+01,\n",
      "        -3.0499e+01, -3.0467e+01, -2.9621e+01, -2.8601e+01, -2.8078e+01,\n",
      "        -2.6800e+01, -2.5607e+01, -2.3351e+01, -2.1796e+01, -1.9413e+01,\n",
      "        -1.6338e+01, -1.4092e+01, -1.1369e+01, -9.0712e+00, -7.1227e+00,\n",
      "        -5.3166e+00, -4.1407e+00, -3.0731e+00, -2.2727e+00, -1.7031e+00,\n",
      "        -1.4462e+00, -1.3637e+00, -1.3112e+00, -1.0061e+00, -7.9682e-01,\n",
      "        -3.9881e-01, -1.5454e-02,  4.8173e-01,  1.0536e+00,  1.6049e+00,\n",
      "         2.2468e+00,  3.0197e+00,  3.7305e+00,  4.6611e+00,  5.5666e+00,\n",
      "         6.5438e+00,  7.7238e+00,  8.5926e+00,  1.0291e+01,  1.1479e+01,\n",
      "         1.3166e+01,  1.4905e+01,  1.6224e+01,  1.7943e+01,  1.9797e+01,\n",
      "         2.1066e+01,  2.2304e+01,  2.2593e+01,  2.3761e+01,  2.4399e+01,\n",
      "         2.4950e+01,  2.5571e+01,  2.5902e+01,  2.6736e+01,  2.6975e+01,\n",
      "         2.7401e+01,  2.7041e+01,  2.7394e+01,  2.7909e+01,  2.8481e+01,\n",
      "         2.7828e+01,  2.8142e+01,  2.8089e+01,  2.8714e+01,  2.8756e+01,\n",
      "         2.8787e+01,  2.8593e+01,  2.8652e+01,  2.8733e+01,  2.9522e+01,\n",
      "         2.8733e+01,  2.9187e+01,  2.9464e+01,  2.9559e+01,  2.8845e+01],\n",
      "       grad_fn=<ViewBackward>)\n",
      "Variance = tensor([137.8290, 132.8938, 146.1859, 115.5889, 127.3054, 148.4732, 138.7164,\n",
      "        119.3619, 115.6499, 120.0568, 126.3407, 136.7790, 121.2850, 129.8388,\n",
      "        114.3919, 136.6372, 133.7680, 127.6026, 131.9562, 135.6125, 126.4084,\n",
      "        112.6782,  97.8522, 115.7963, 110.6858, 108.3340,  94.1605,  98.7767,\n",
      "         98.3504,  87.0090,  80.9190,  67.7239,  70.4863,  49.1016,  37.2639,\n",
      "         34.9397,  20.4091,  15.8985,  10.5292,   6.9688,   5.2212,   3.5099,\n",
      "          3.0417,   2.7893,   2.4009,   2.4677,   2.4264,   2.4787,   2.2917,\n",
      "          2.2719,   2.2868,   2.3477,   2.2949,   2.4897,   2.5629,   2.8049,\n",
      "          3.0924,   3.7656,   4.3327,   4.9349,   6.9392,   8.4127,  11.2353,\n",
      "         11.9359,  16.9537,  21.2423,  24.8482,  34.1742,  37.5177,  38.6335,\n",
      "         47.3492,  50.4367,  69.6622,  69.9204,  71.4800,  80.0945,  77.2560,\n",
      "         81.2387,  72.5920,  74.7520,  74.2377,  92.9652,  87.8199,  84.5091,\n",
      "         76.2775,  95.3358,  91.7332,  99.2404,  83.3168,  86.6326,  91.9636,\n",
      "         96.9618, 101.2875, 104.0020,  86.9632, 111.3180, 102.6216,  97.2269,\n",
      "         95.5125, 116.4464], grad_fn=<ViewBackward>)\n",
      "rmse_mc = tensor(264.0911, grad_fn=<SqrtBackward>)\n",
      "rmse_non_mc = tensor(262.1483, grad_fn=<SqrtBackward>)\n",
      "test_ll_mc = tensor(-16805.5996, grad_fn=<MeanBackward0>)\n",
      "\n"
     ]
    },
    {
     "data": {
      "image/png": "[encoded data removed]",
      "text/plain": [
       "<Figure size 432x288 with 1 Axes>"
      ]
     },
     "metadata": {
      "needs_background": "light"
     },
     "output_type": "display_data"
    },
    {
     "name": "stdout",
     "output_type": "stream",
     "text": [
      "testing time = 0.6094691753387451 seconds\n",
      "\n",
      "Mean = tensor([-41.0030, -41.4840, -40.5972, -40.8442, -40.6008, -40.0124, -40.4480,\n",
      "        -40.2730, -39.5693, -38.7249, -39.3424, -38.5145, -38.6511, -38.3638,\n",
      "        -37.5734, -37.9544, -36.9991, -36.1244, -35.3838, -36.1130, -34.5998,\n",
      "        -34.3265, -34.3292, -31.4153, -32.0289, -30.9942, -29.9853, -28.8862,\n",
      "        -27.4739, -26.4161, -24.8308, -23.4941, -22.0122, -19.8772, -18.1105,\n",
      "        -16.6426, -14.9101, -12.8101, -11.4153,  -9.4915,  -7.7959,  -6.4760,\n",
      "         -5.0051,  -3.6110,  -2.4709,  -1.3281,  -0.2887,   0.6753,   1.6684,\n",
      "          2.4688,   3.3155,   4.1542,   4.8230,   5.7488,   6.5012,   7.2005,\n",
      "          8.1592,   8.8928,   9.6333,  10.6572,  11.3096,  12.0913,  12.8465,\n",
      "         13.9001,  14.6442,  14.8671,  15.8291,  16.7899,  17.2194,  18.1508,\n",
      "         18.8089,  19.2855,  20.0198,  20.3726,  20.9741,  21.5313,  22.4044,\n",
      "         22.7214,  23.4539,  23.7500,  24.6144,  25.2058,  24.5998,  25.3979,\n",
      "         25.6377,  26.2574,  26.9213,  26.7869,  26.6447,  27.0971,  27.5176,\n",
      "         27.0261,  28.3264,  28.2047,  27.7025,  28.2920,  28.3325,  29.2186,\n",
      "         29.5931,  29.3526], grad_fn=<ViewBackward>)\n",
      "Variance = tensor([203.8669, 176.7285, 197.8042, 187.6653, 185.5795, 198.4161, 172.0815,\n",
      "        168.8223, 182.3153, 197.1243, 170.5311, 185.6420, 164.5479, 158.5302,\n",
      "        173.0340, 143.0142, 155.9376, 166.8058, 167.7651, 121.5083, 146.8302,\n",
      "        131.3574, 104.1737, 157.0095, 112.9432, 108.1782, 102.3629,  93.8708,\n",
      "         90.5777,  75.9051,  70.8669,  58.6641,  48.5261,  47.8255,  40.1346,\n",
      "         27.8253,  20.8149,  18.7133,  11.9798,  10.4999,   8.1565,   4.8664,\n",
      "          3.7728,   2.6578,   1.7863,   1.3632,   1.1517,   1.2581,   1.5103,\n",
      "          1.8649,   2.4664,   3.1880,   4.2638,   5.1322,   6.4349,   8.2760,\n",
      "          9.1929,  11.3725,  13.6037,  13.3397,  16.2381,  18.6638,  20.7947,\n",
      "         19.9306,  21.7330,  31.5935,  30.8913,  30.9122,  37.9532,  35.6231,\n",
      "         40.6626,  44.5070,  47.3994,  51.5378,  56.6009,  58.0046,  52.2795,\n",
      "         61.3064,  58.3439,  62.6403,  57.5638,  54.4880,  76.9718,  72.9546,\n",
      "         77.7242,  72.8972,  62.1495,  76.8638,  89.0420,  84.6836,  85.3780,\n",
      "        101.9049,  75.9857,  85.1021, 105.0929,  95.5004,  98.6122,  83.8659,\n",
      "         78.6999,  88.8822], grad_fn=<ViewBackward>)\n",
      "rmse_mc = tensor(262.7066, grad_fn=<SqrtBackward>)\n",
      "rmse_non_mc = tensor(261.0377, grad_fn=<SqrtBackward>)\n",
      "test_ll_mc = tensor(-16660.7090, grad_fn=<MeanBackward0>)\n",
      "\n"
     ]
    },
    {
     "data": {
      "image/png": "[encoded data removed]",
      "text/plain": [
       "<Figure size 432x288 with 1 Axes>"
      ]
     },
     "metadata": {
      "needs_background": "light"
     },
     "output_type": "display_data"
    }
   ],
   "source": [
    "for key, network in uncertainty_methods.items():\n",
    "\n",
    "    \"\"\"\n",
    "    Testing\n",
    "    \"\"\"\n",
    "\n",
    "    # Model to eval mode\n",
    "    network.eval()\n",
    "\n",
    "    # Record testing start time (for this split)\n",
    "    tic_testing = time.time()\n",
    "    \n",
    "    predictions_non_mc, _ = network(X_test)\n",
    "\n",
    "    predictions, mean, var, metrics = network.predict_dist(\n",
    "        X_test, n_predictions,\n",
    "        y_test=y_test,\n",
    "        reg_strength=reg_strength, train_size=dataset_toy_size, length_scale=length_scale)\n",
    "    \n",
    "    # Record testing end time\n",
    "    toc_testing = time.time()\n",
    "    \n",
    "    # Report the total testing time\n",
    "    print(\"testing time = \" + str(toc_testing - tic_testing) + \" seconds\")\n",
    "\n",
    "    # These can now be stored in CPU memory for plotting\n",
    "    predictions_non_mc = predictions_non_mc.cpu()\n",
    "    predictions = predictions.cpu()\n",
    "    mean = mean.cpu()\n",
    "    var = var.cpu()\n",
    "    \n",
    "    \"\"\"\n",
    "    Print results\n",
    "    \"\"\"\n",
    "\n",
    "    print()\n",
    "    print(\"Mean = \" + str(mean.flatten()))\n",
    "    print(\"Variance = \" + str(var.flatten()))\n",
    "    \n",
    "    # store additional metrics\n",
    "    if len(metrics) > 0:\n",
    "        for metric_key, value in metrics.items():\n",
    "            print(str(metric_key) + \" = \" + str(value))\n",
    "        print()\n",
    "             \n",
    "    # Plot the uncertainty measured by each methods\n",
    "    plt.figure()\n",
    "    \n",
    "    # Fix the scales of x-axis and y-axis\n",
    "    plt.xlim(dataset_toy_x_low-1, dataset_toy_x_high+1)\n",
    "    plt.ylim(dataset_toy_y_mean-2*dataset_toy_y_std, dataset_toy_y_mean+2*dataset_toy_y_std)\n",
    "\n",
    "    # Distributions around the predictions\n",
    "    plt.fill_between(\n",
    "        X_test_cpu.flatten(), \n",
    "        (mean.detach().numpy() - 2*torch.sqrt(var).detach().numpy()).flatten(),\n",
    "        (mean.detach().numpy() + 2*torch.sqrt(var).detach().numpy()).flatten(),\n",
    "        color='lightblue', alpha=0.8)\n",
    "\n",
    "    # Train data\n",
    "    plt.plot(dataset.data_x.cpu(), dataset.data_y.cpu(), 'or', label='Training data', alpha=0.3)\n",
    "\n",
    "    # Non-MC prediction\n",
    "    plt.plot(X_test_cpu, predictions_non_mc.detach().numpy(), 'green', label='non-MC prediction', alpha=0.6)    \n",
    "    \n",
    "    # MC prediction\n",
    "    plt.plot(X_test_cpu, mean.detach().numpy(), 'blue', label='mean prediction', alpha=0.35)\n",
    "    \n",
    "    # Original data generating function without noise\n",
    "    plt.plot(X_test_cpu, X_test_cpu ** 3, 'gray', label='data generating function')    \n",
    "    \n",
    "    plt.legend()\n",
    "    \n",
    "    plt.savefig(os.path.join(test_results_path, str(key) + '.png'), dpi=600)\n",
    "    \n",
    "    plt.show()"
   ]
  },
  {
   "cell_type": "code",
   "execution_count": null,
   "metadata": {},
   "outputs": [],
   "source": []
  }
 ],
 "metadata": {
  "accelerator": "GPU",
  "colab": {
   "collapsed_sections": [
    "Bka_bK83VFHh",
    "eEfdrHcOVFIj"
   ],
   "name": "experiment_comparison_toy.ipynb",
   "provenance": []
  },
  "kernelspec": {
   "display_name": "Python 3",
   "language": "python",
   "name": "python3"
  },
  "language_info": {
   "codemirror_mode": {
    "name": "ipython",
    "version": 3
   },
   "file_extension": ".py",
   "mimetype": "text/x-python",
   "name": "python",
   "nbconvert_exporter": "python",
   "pygments_lexer": "ipython3",
   "version": "3.8.0"
  }
 },
 "nbformat": 4,
 "nbformat_minor": 1
}
